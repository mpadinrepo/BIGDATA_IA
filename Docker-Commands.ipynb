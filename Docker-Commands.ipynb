{
 "cells": [
  {
   "cell_type": "markdown",
   "metadata": {},
   "source": [
    "JupyterLab:\n",
    "\n",
    "    Abre tu navegador web.\n",
    "\n",
    "    ver log: sudo docker-compose logs jupyterlab\n",
    "    Ingresa la siguiente URL: http://localhost:8888.\n",
    "    #http://127.0.0.1:8888/lab?token=e1a1a5a735ce26a4471dcc246b00b1eeb3a396cdaa0ef48c\n",
    "    Deberías ver la interfaz de JupyterLab, donde puedes crear y ejecutar notebooks de Python y otros documentos interactivos.\n",
    "\n",
    "MySQL:\n",
    "\n",
    "    Para conectarte a MySQL desde la línea de comandos, puedes usar el cliente de MySQL instalado en tu sistema. Por ejemplo, puedes ejecutar el siguiente comando para conectarte como el usuario mysqluser:\n",
    "\n",
    "    css\n",
    "\n",
    "    mysql -u mysqluser -p -h 127.0.0.1 -P 3306\n",
    "\n",
    "    Te pedirá la contraseña, que en este caso es abc123....\n",
    "\n",
    "MariaDB:\n",
    "\n",
    "    Al igual que con MySQL, puedes conectarte a MariaDB utilizando el cliente de MySQL instalado en tu sistema. Por ejemplo:\n",
    "\n",
    "    css\n",
    "\n",
    "        mysql -u mariadbuser -p -h 127.0.0.1 -P 3307\n",
    "\n",
    "        La contraseña es abc123....\n",
    "\n",
    "    phpMyAdmin:\n",
    "        Abre tu navegador web.\n",
    "        Ingresa la siguiente URL: http://localhost:8080.\n",
    "        phpMyAdmin debería cargarse, y puedes iniciar sesión con el usuario root y la contraseña abc123....\n",
    "\n",
    "Estos comandos y URLs te permitirán acceder a los servicios definidos en tu archivo docker-compose.yml. Asegúrate de tener Docker y Docker Compose instalados y ejecutando en tu sistema antes de intentar acceder a estos servicios."
   ]
  },
  {
   "cell_type": "markdown",
   "metadata": {},
   "source": []
  }
 ],
 "metadata": {
  "language_info": {
   "name": "python"
  }
 },
 "nbformat": 4,
 "nbformat_minor": 2
}
