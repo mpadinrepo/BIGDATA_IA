{
 "cells": [
  {
   "cell_type": "markdown",
   "metadata": {},
   "source": [
    "## Parte I: Análisis de supuestos"
   ]
  },
  {
   "cell_type": "markdown",
   "metadata": {},
   "source": [
    "Un cliente te envía un email pidiéndote desarrollar modelos de aprendizaje automático para los siguientes supuestos, pero no dispones todavía de los *datasets* y la descripción puede ser limitada. Haz un breve análisis preeliminar indicando el tipo de aprendizaje y el tipo de problema, además de posibles algoritmos (si los conoces) para abordarlos. Matiza qué asunciones sobre los datasets estás haciendo o que información habría que pedir que no se cite explícitamente.\n",
    "\n",
    "\n",
    "1. Tenemos un conjunto de imágenes de dígitos escritos a mano y queremos hacer un modelo que permita identificar qué dígito es cada imagen.\n",
    "\n",
    "2. Tenemos un conjunto de *tweets* y una indicación por cada uno de si el sentimiento del tweet fue positivo, negativo o neutral. Queremos un modelo que prediga el sentimiento de futuros tweets.\n",
    "\n",
    "3. Tenemos un conjunto de registros sobre viviendas vendidas en el último año (ubicación, cantidad de habitaciones, precio, etc.) y queremos hacer un modelo que permita predecir el precio por el que se va a vender una vivienda en el futuro.\n",
    "\n",
    "4. Queremos un modelo que permita identificar distintos tipos de flores partiendo de un conjunto de datos que contiene medidas del largo y ancho de los pétalos y sépalos de muchas flores.\n",
    "\n",
    "5. Queremos trabajar en un modelo de diagnóstico médico. Tenemos un registro de pacientes con enfermedades y sus síntomas.\n",
    "\n",
    "6. Tenemos el registro de todos los vuelos de una aerolínea (horas de partida y de llegada, origen, destino. tripulación, etc.) y queremos hacer un modelo que permita predecir si un vuelo va a llegar tarde o no.\n",
    "\n",
    "7. Queremos detectar posibles intrusos en redes, para ello el conjunto de datos sería tráfico de red, con características como direcciones IP, puertos, duración de la sesión, cantidad de datos transferidos, etc.\n",
    "\n",
    "8. Queremos hacer un filtro de *spam* para el correo electrónico. Tenemos un conjunto de mensajes etiquetados como *spam* o no *spam*."
   ]
  },
  {
   "cell_type": "markdown",
   "metadata": {},
   "source": [
    "## Respuestas"
   ]
  },
  {
   "cell_type": "markdown",
   "metadata": {},
   "source": [
    ">Supuesto 1:\n",
    "Estamos en un caso de aprendizaje automático Supervisado.Utilizamos el tipo de  algoritmo de SVM porque es un conjunto de imagenes y puede tener muchas posibles clases o variedades.Debemos comprobar que las imagenes tambien están etiquetadas y si no lo están se deberían etiquetar primero ya que es un entrenamiento supervisado y necesitamos pasarle al modelo tambien la \"solución\" para que después pueda aprender ,en este caso, cuando una imagen vale 2 por ejemplo o cuando vale 3"
   ]
  },
  {
   "cell_type": "markdown",
   "metadata": {},
   "source": [
    ">Supuesto 2:\n"
   ]
  },
  {
   "cell_type": "markdown",
   "metadata": {},
   "source": [
    "Estamos en un caso de aprendizaje automático Supervisado ya que nos dan el conjunto de tweets y también nos indica el sentimiento del tweet si es positivo, negativo o neutral.El tipo de  algoritmo que utilizaría sería el de regresión logística para que aprendiera a clasificar los tweets según su sentimiento ya que podemos partir de las palabras de los tweets, como por ejemplo , la palabra \"buena\" sería una palabra positiva y \"mala\" sería una palabra negativa entonces clasificaría el tweet como negativo o positivo. "
   ]
  },
  {
   "cell_type": "markdown",
   "metadata": {},
   "source": [
    ">Supuesto 3:\n",
    "\n",
    "Estamos en un caso de aprendizaje automático Supervisado porque nos dan ya el campo objetivo \"precio\".En este caso , el precio es un valor numérico lineal , y nos podemos dar cuenta que tiene una relación proporcional con otros campos entonces utilizamos un algoritmo  de Regresión Lineal. Suponiendo que tenemos datos válidos y tenemos la relación que seguramente el precio de da vivienda valga más si tiene más metros cuadrados , más ventanas , menos años , etc.. podemos sacar una relación con el precio de la vivienda.\n"
   ]
  },
  {
   "cell_type": "markdown",
   "metadata": {},
   "source": [
    ">Supuesto 4:\n",
    "\n",
    "Estamos en un caso de aprendizaje automático Supervisado porque tenemos los datos y suponiendo que con estas medidas tambien tenemos los datos del tipo de flor según las medidas del dataset.Suponiendo que tenemos los datos de las medidas y las etiquetas de que tipo de flor pertenece según que medida utilizaría el tipo de algoritmo de Regresión Logística o árbol de decisión.En este caso usaría el algoritmo de CART de tipo árbol de decisión para la clasificación de estos valores, porque se  basa  en  distinguir  grupos  lo  más  relevantes  posible  en  función  de  losvalores que pueden tomar diferentes atributos"
   ]
  },
  {
   "cell_type": "markdown",
   "metadata": {},
   "source": [
    ">Supuesto 5:\n",
    "\n",
    "Estamos en un caso de aprendizaje automático Supervisado porque nos facilitan los datos de las enfermedades y sus síntomas, suponiendo que si según que síntomas tenemos ,tenemos la enfermedad osea la etiqueta del resultado de eses síntomas.Utilizaría un algoritmo de tipo Arból de decisión si es para saber que enfermedad tenemos pero si fuera un modelo para comprobar 1 sola enfermedad por ejemplo hepatitis utilizaría un algoritmo tipo Regresión logística"
   ]
  },
  {
   "cell_type": "markdown",
   "metadata": {},
   "source": [
    ">Supuesto 6:\n",
    "\n",
    "Estamos en un caso de aprendizaje automático Supervisado suponiendo que los datos de hora de llegada y la hora de llegada prevista las tenemos para poder entrenar el modelo ,si no tuvieramos la hora de llegada sería un aprendizaje automático no supervisado ya que no tendríamos la hora de llegada y con los datos de origen, destino , partida, etc. En este caso supongo que tenemos la información de campo objetivo utilizaría un algoritmo de tipo Regresión Logística para clasificar los que aviones han llegado tarde y los que no.\n"
   ]
  },
  {
   "cell_type": "markdown",
   "metadata": {},
   "source": [
    ">Supuesto 7:\n",
    "Estamos en un caso de aprendizaje automático no Supervisado porque no determinamos ningún campo objetivo ya que no intuimos a simple vista ninguna característica en común.Yo utilizaría un algoritmo de tipo clustering.Utilizaría el algoritmo K-Means  y encontrar el valor más acertado de K para determinar si existe un intruso en una red.Digo esto porque a simple vista puedes pensar que tienes una empresa donde puedes tener comerciales con vpn y pueden acceder en cualquier parte del mundo y puede que la ip aunque sea de fuera que no sea un intruso o como te pueden infectar el equipo desde un archivo para enviar información valiosa.\n"
   ]
  },
  {
   "cell_type": "markdown",
   "metadata": {},
   "source": [
    ">Supuesto 8:\n",
    "\n",
    "Suponiendo que tenemos los correos identificados con etiquetas de cuales son spam y cuales no , estamos en un caso de aprendizaje automático supervisado donde tenemos un campo objetivo y queremos saber que según el tipo de información y archivos adjuntos poder clasificar este correo.Utilizaría un algoritmo de SVM para determinar que email es spam y cual no ya que este algoritmo es bueno tanto en clasificación y regresión.\n"
   ]
  }
 ],
 "metadata": {
  "language_info": {
   "name": "python"
  }
 },
 "nbformat": 4,
 "nbformat_minor": 2
}
