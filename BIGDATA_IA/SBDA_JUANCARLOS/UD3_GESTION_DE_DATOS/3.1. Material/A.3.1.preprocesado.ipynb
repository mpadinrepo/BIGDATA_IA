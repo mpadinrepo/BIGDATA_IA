{
 "cells": [
  {
   "cell_type": "code",
   "execution_count": 1,
   "id": "1b1aba38-be62-45af-9ee8-8b5162e5d62e",
   "metadata": {},
   "outputs": [],
   "source": [
    "#Importación de librerías con las que trabajaremos\n",
    "import numpy as np\n",
    "import pandas as pd"
   ]
  },
  {
   "cell_type": "markdown",
   "id": "78886c95-f3f8-424a-9c93-72fe0cac9d33",
   "metadata": {
    "tags": []
   },
   "source": [
    "# Métodos útiles en pandas"
   ]
  },
  {
   "cell_type": "code",
   "execution_count": 2,
   "id": "5a208cb6-d4ce-4bf4-b618-0b754c9ab855",
   "metadata": {},
   "outputs": [
    {
     "data": {
      "text/html": [
       "<div>\n",
       "<style scoped>\n",
       "    .dataframe tbody tr th:only-of-type {\n",
       "        vertical-align: middle;\n",
       "    }\n",
       "\n",
       "    .dataframe tbody tr th {\n",
       "        vertical-align: top;\n",
       "    }\n",
       "\n",
       "    .dataframe thead th {\n",
       "        text-align: right;\n",
       "    }\n",
       "</style>\n",
       "<table border=\"1\" class=\"dataframe\">\n",
       "  <thead>\n",
       "    <tr style=\"text-align: right;\">\n",
       "      <th></th>\n",
       "      <th>columnaA</th>\n",
       "      <th>columnaB</th>\n",
       "      <th>columnaC</th>\n",
       "    </tr>\n",
       "  </thead>\n",
       "  <tbody>\n",
       "    <tr>\n",
       "      <th>0</th>\n",
       "      <td>1.0</td>\n",
       "      <td>2.0</td>\n",
       "      <td>3.0</td>\n",
       "    </tr>\n",
       "    <tr>\n",
       "      <th>1</th>\n",
       "      <td>NaN</td>\n",
       "      <td>4.0</td>\n",
       "      <td>NaN</td>\n",
       "    </tr>\n",
       "    <tr>\n",
       "      <th>2</th>\n",
       "      <td>NaN</td>\n",
       "      <td>NaN</td>\n",
       "      <td>NaN</td>\n",
       "    </tr>\n",
       "    <tr>\n",
       "      <th>3</th>\n",
       "      <td>5.0</td>\n",
       "      <td>6.0</td>\n",
       "      <td>NaN</td>\n",
       "    </tr>\n",
       "    <tr>\n",
       "      <th>4</th>\n",
       "      <td>1.0</td>\n",
       "      <td>2.0</td>\n",
       "      <td>3.0</td>\n",
       "    </tr>\n",
       "  </tbody>\n",
       "</table>\n",
       "</div>"
      ],
      "text/plain": [
       "   columnaA  columnaB  columnaC\n",
       "0       1.0       2.0       3.0\n",
       "1       NaN       4.0       NaN\n",
       "2       NaN       NaN       NaN\n",
       "3       5.0       6.0       NaN\n",
       "4       1.0       2.0       3.0"
      ]
     },
     "execution_count": 2,
     "metadata": {},
     "output_type": "execute_result"
    }
   ],
   "source": [
    "import numpy as np\n",
    "import pandas as pd\n",
    "\n",
    "#Creamos el dataframe con el que probaremos los distintos métodos\n",
    "df_pruebas = pd.DataFrame({\n",
    "    'columnaA': [1, np.NaN, np.NaN, 5, 1],\n",
    "    'columnaB': [2, 4, np.NaN, 6, 2], \n",
    "    'columnaC': [3, np.NaN, np.NaN, np.NaN, 3]\n",
    "})\n",
    "df_pruebas"
   ]
  },
  {
   "cell_type": "markdown",
   "id": "b831f250-f40b-46d6-a816-4275253eff6a",
   "metadata": {
    "tags": []
   },
   "source": [
    "## Procesado de NAs"
   ]
  },
  {
   "cell_type": "code",
   "execution_count": 3,
   "id": "fff82875-30e7-4373-95d7-a59fe983c525",
   "metadata": {},
   "outputs": [
    {
     "name": "stdout",
     "output_type": "stream",
     "text": [
      "   columnaA  columnaB  columnaC\n",
      "0     False     False     False\n",
      "1      True     False      True\n",
      "2      True      True      True\n",
      "3     False     False      True\n",
      "4     False     False     False\n",
      "------------------------------------\n",
      "0    False\n",
      "1     True\n",
      "2     True\n",
      "3    False\n",
      "4    False\n",
      "Name: columnaA, dtype: bool\n"
     ]
    }
   ],
   "source": [
    "#Obtenemos booleanos con posiciones vacías\n",
    "print(df_pruebas.isna())\n",
    "print(\"------------------------------------\")\n",
    "print(df_pruebas['columnaA'].isna())"
   ]
  },
  {
   "cell_type": "code",
   "execution_count": 4,
   "id": "e5ef9bfc-efe7-4cfe-b4c1-fb73d7020a0f",
   "metadata": {},
   "outputs": [
    {
     "data": {
      "text/html": [
       "<div>\n",
       "<style scoped>\n",
       "    .dataframe tbody tr th:only-of-type {\n",
       "        vertical-align: middle;\n",
       "    }\n",
       "\n",
       "    .dataframe tbody tr th {\n",
       "        vertical-align: top;\n",
       "    }\n",
       "\n",
       "    .dataframe thead th {\n",
       "        text-align: right;\n",
       "    }\n",
       "</style>\n",
       "<table border=\"1\" class=\"dataframe\">\n",
       "  <thead>\n",
       "    <tr style=\"text-align: right;\">\n",
       "      <th></th>\n",
       "      <th>columnaA</th>\n",
       "      <th>columnaB</th>\n",
       "      <th>columnaC</th>\n",
       "    </tr>\n",
       "  </thead>\n",
       "  <tbody>\n",
       "    <tr>\n",
       "      <th>1</th>\n",
       "      <td>NaN</td>\n",
       "      <td>4.0</td>\n",
       "      <td>NaN</td>\n",
       "    </tr>\n",
       "    <tr>\n",
       "      <th>2</th>\n",
       "      <td>NaN</td>\n",
       "      <td>NaN</td>\n",
       "      <td>NaN</td>\n",
       "    </tr>\n",
       "  </tbody>\n",
       "</table>\n",
       "</div>"
      ],
      "text/plain": [
       "   columnaA  columnaB  columnaC\n",
       "1       NaN       4.0       NaN\n",
       "2       NaN       NaN       NaN"
      ]
     },
     "execution_count": 4,
     "metadata": {},
     "output_type": "execute_result"
    }
   ],
   "source": [
    "#Obtenemos filas que tengan en 'columnaA' un valor vacío.\n",
    "df_pruebas[df_pruebas['columnaA'].isna()]"
   ]
  },
  {
   "cell_type": "code",
   "execution_count": 5,
   "id": "06a94936-6cae-4136-8caf-b85ae5ff6540",
   "metadata": {},
   "outputs": [
    {
     "data": {
      "text/html": [
       "<div>\n",
       "<style scoped>\n",
       "    .dataframe tbody tr th:only-of-type {\n",
       "        vertical-align: middle;\n",
       "    }\n",
       "\n",
       "    .dataframe tbody tr th {\n",
       "        vertical-align: top;\n",
       "    }\n",
       "\n",
       "    .dataframe thead th {\n",
       "        text-align: right;\n",
       "    }\n",
       "</style>\n",
       "<table border=\"1\" class=\"dataframe\">\n",
       "  <thead>\n",
       "    <tr style=\"text-align: right;\">\n",
       "      <th></th>\n",
       "      <th>columnaA</th>\n",
       "      <th>columnaB</th>\n",
       "      <th>columnaC</th>\n",
       "    </tr>\n",
       "  </thead>\n",
       "  <tbody>\n",
       "    <tr>\n",
       "      <th>0</th>\n",
       "      <td>1.0</td>\n",
       "      <td>2.0</td>\n",
       "      <td>3.0</td>\n",
       "    </tr>\n",
       "    <tr>\n",
       "      <th>3</th>\n",
       "      <td>5.0</td>\n",
       "      <td>6.0</td>\n",
       "      <td>NaN</td>\n",
       "    </tr>\n",
       "    <tr>\n",
       "      <th>4</th>\n",
       "      <td>1.0</td>\n",
       "      <td>2.0</td>\n",
       "      <td>3.0</td>\n",
       "    </tr>\n",
       "  </tbody>\n",
       "</table>\n",
       "</div>"
      ],
      "text/plain": [
       "   columnaA  columnaB  columnaC\n",
       "0       1.0       2.0       3.0\n",
       "3       5.0       6.0       NaN\n",
       "4       1.0       2.0       3.0"
      ]
     },
     "execution_count": 5,
     "metadata": {},
     "output_type": "execute_result"
    }
   ],
   "source": [
    "#Obtenemos filas que no tengan en 'columnaA' un valor vacío.\n",
    "df_pruebas[df_pruebas['columnaA'].notna()]"
   ]
  },
  {
   "cell_type": "code",
   "execution_count": 6,
   "id": "11559b90-1cd0-47e8-959d-677a8a53e887",
   "metadata": {},
   "outputs": [
    {
     "data": {
      "text/html": [
       "<div>\n",
       "<style scoped>\n",
       "    .dataframe tbody tr th:only-of-type {\n",
       "        vertical-align: middle;\n",
       "    }\n",
       "\n",
       "    .dataframe tbody tr th {\n",
       "        vertical-align: top;\n",
       "    }\n",
       "\n",
       "    .dataframe thead th {\n",
       "        text-align: right;\n",
       "    }\n",
       "</style>\n",
       "<table border=\"1\" class=\"dataframe\">\n",
       "  <thead>\n",
       "    <tr style=\"text-align: right;\">\n",
       "      <th></th>\n",
       "      <th>columnaA</th>\n",
       "      <th>columnaB</th>\n",
       "      <th>columnaC</th>\n",
       "    </tr>\n",
       "  </thead>\n",
       "  <tbody>\n",
       "    <tr>\n",
       "      <th>0</th>\n",
       "      <td>1.0</td>\n",
       "      <td>2.0</td>\n",
       "      <td>3.0</td>\n",
       "    </tr>\n",
       "    <tr>\n",
       "      <th>4</th>\n",
       "      <td>1.0</td>\n",
       "      <td>2.0</td>\n",
       "      <td>3.0</td>\n",
       "    </tr>\n",
       "  </tbody>\n",
       "</table>\n",
       "</div>"
      ],
      "text/plain": [
       "   columnaA  columnaB  columnaC\n",
       "0       1.0       2.0       3.0\n",
       "4       1.0       2.0       3.0"
      ]
     },
     "execution_count": 6,
     "metadata": {},
     "output_type": "execute_result"
    }
   ],
   "source": [
    "#Creamos un nuevo dataframe sin filas con NA\n",
    "df_sinfilasNA = df_pruebas.dropna()\n",
    "df_sinfilasNA"
   ]
  },
  {
   "cell_type": "code",
   "execution_count": 7,
   "id": "c62d7943-0dae-4459-90ac-d89106511fb3",
   "metadata": {},
   "outputs": [
    {
     "data": {
      "text/html": [
       "<div>\n",
       "<style scoped>\n",
       "    .dataframe tbody tr th:only-of-type {\n",
       "        vertical-align: middle;\n",
       "    }\n",
       "\n",
       "    .dataframe tbody tr th {\n",
       "        vertical-align: top;\n",
       "    }\n",
       "\n",
       "    .dataframe thead th {\n",
       "        text-align: right;\n",
       "    }\n",
       "</style>\n",
       "<table border=\"1\" class=\"dataframe\">\n",
       "  <thead>\n",
       "    <tr style=\"text-align: right;\">\n",
       "      <th></th>\n",
       "    </tr>\n",
       "  </thead>\n",
       "  <tbody>\n",
       "    <tr>\n",
       "      <th>0</th>\n",
       "    </tr>\n",
       "    <tr>\n",
       "      <th>1</th>\n",
       "    </tr>\n",
       "    <tr>\n",
       "      <th>2</th>\n",
       "    </tr>\n",
       "    <tr>\n",
       "      <th>3</th>\n",
       "    </tr>\n",
       "    <tr>\n",
       "      <th>4</th>\n",
       "    </tr>\n",
       "  </tbody>\n",
       "</table>\n",
       "</div>"
      ],
      "text/plain": [
       "Empty DataFrame\n",
       "Columns: []\n",
       "Index: [0, 1, 2, 3, 4]"
      ]
     },
     "execution_count": 7,
     "metadata": {},
     "output_type": "execute_result"
    }
   ],
   "source": [
    "#Borrado de columnas con algún NaN\n",
    "df_sincolumnasNA = df_pruebas.dropna(axis=1)\n",
    "df_sincolumnasNA"
   ]
  },
  {
   "cell_type": "code",
   "execution_count": 8,
   "id": "abfd4979-fa52-46ce-9b63-e2663bd35631",
   "metadata": {},
   "outputs": [
    {
     "data": {
      "text/html": [
       "<div>\n",
       "<style scoped>\n",
       "    .dataframe tbody tr th:only-of-type {\n",
       "        vertical-align: middle;\n",
       "    }\n",
       "\n",
       "    .dataframe tbody tr th {\n",
       "        vertical-align: top;\n",
       "    }\n",
       "\n",
       "    .dataframe thead th {\n",
       "        text-align: right;\n",
       "    }\n",
       "</style>\n",
       "<table border=\"1\" class=\"dataframe\">\n",
       "  <thead>\n",
       "    <tr style=\"text-align: right;\">\n",
       "      <th></th>\n",
       "      <th>columnaA</th>\n",
       "      <th>columnaB</th>\n",
       "      <th>columnaC</th>\n",
       "    </tr>\n",
       "  </thead>\n",
       "  <tbody>\n",
       "    <tr>\n",
       "      <th>0</th>\n",
       "      <td>1.0</td>\n",
       "      <td>2.0</td>\n",
       "      <td>3.0</td>\n",
       "    </tr>\n",
       "    <tr>\n",
       "      <th>1</th>\n",
       "      <td>NaN</td>\n",
       "      <td>4.0</td>\n",
       "      <td>NaN</td>\n",
       "    </tr>\n",
       "    <tr>\n",
       "      <th>3</th>\n",
       "      <td>5.0</td>\n",
       "      <td>6.0</td>\n",
       "      <td>NaN</td>\n",
       "    </tr>\n",
       "    <tr>\n",
       "      <th>4</th>\n",
       "      <td>1.0</td>\n",
       "      <td>2.0</td>\n",
       "      <td>3.0</td>\n",
       "    </tr>\n",
       "  </tbody>\n",
       "</table>\n",
       "</div>"
      ],
      "text/plain": [
       "   columnaA  columnaB  columnaC\n",
       "0       1.0       2.0       3.0\n",
       "1       NaN       4.0       NaN\n",
       "3       5.0       6.0       NaN\n",
       "4       1.0       2.0       3.0"
      ]
     },
     "execution_count": 8,
     "metadata": {},
     "output_type": "execute_result"
    }
   ],
   "source": [
    "#No recuperamos las filas que tengan todos sus valores a nulo\n",
    "df_pruebas.dropna(how='all')"
   ]
  },
  {
   "cell_type": "code",
   "execution_count": 9,
   "id": "916f3e62-82d7-40e5-92b7-91f1d9d72c4e",
   "metadata": {},
   "outputs": [
    {
     "data": {
      "text/html": [
       "<div>\n",
       "<style scoped>\n",
       "    .dataframe tbody tr th:only-of-type {\n",
       "        vertical-align: middle;\n",
       "    }\n",
       "\n",
       "    .dataframe tbody tr th {\n",
       "        vertical-align: top;\n",
       "    }\n",
       "\n",
       "    .dataframe thead th {\n",
       "        text-align: right;\n",
       "    }\n",
       "</style>\n",
       "<table border=\"1\" class=\"dataframe\">\n",
       "  <thead>\n",
       "    <tr style=\"text-align: right;\">\n",
       "      <th></th>\n",
       "      <th>columnaA</th>\n",
       "      <th>columnaB</th>\n",
       "      <th>columnaC</th>\n",
       "    </tr>\n",
       "  </thead>\n",
       "  <tbody>\n",
       "    <tr>\n",
       "      <th>0</th>\n",
       "      <td>1.0</td>\n",
       "      <td>2.0</td>\n",
       "      <td>3.0</td>\n",
       "    </tr>\n",
       "    <tr>\n",
       "      <th>3</th>\n",
       "      <td>5.0</td>\n",
       "      <td>6.0</td>\n",
       "      <td>NaN</td>\n",
       "    </tr>\n",
       "    <tr>\n",
       "      <th>4</th>\n",
       "      <td>1.0</td>\n",
       "      <td>2.0</td>\n",
       "      <td>3.0</td>\n",
       "    </tr>\n",
       "  </tbody>\n",
       "</table>\n",
       "</div>"
      ],
      "text/plain": [
       "   columnaA  columnaB  columnaC\n",
       "0       1.0       2.0       3.0\n",
       "3       5.0       6.0       NaN\n",
       "4       1.0       2.0       3.0"
      ]
     },
     "execution_count": 9,
     "metadata": {},
     "output_type": "execute_result"
    }
   ],
   "source": [
    "#Eliminamos aquellas filas que tengan dos o más de sus columnas vacías\n",
    "df_pruebas.dropna(thresh=2)"
   ]
  },
  {
   "cell_type": "code",
   "execution_count": 10,
   "id": "2f9ccfbc-0f1c-46dc-9225-a81f32430fb1",
   "metadata": {},
   "outputs": [
    {
     "data": {
      "text/html": [
       "<div>\n",
       "<style scoped>\n",
       "    .dataframe tbody tr th:only-of-type {\n",
       "        vertical-align: middle;\n",
       "    }\n",
       "\n",
       "    .dataframe tbody tr th {\n",
       "        vertical-align: top;\n",
       "    }\n",
       "\n",
       "    .dataframe thead th {\n",
       "        text-align: right;\n",
       "    }\n",
       "</style>\n",
       "<table border=\"1\" class=\"dataframe\">\n",
       "  <thead>\n",
       "    <tr style=\"text-align: right;\">\n",
       "      <th></th>\n",
       "      <th>columnaA</th>\n",
       "      <th>columnaB</th>\n",
       "      <th>columnaC</th>\n",
       "    </tr>\n",
       "  </thead>\n",
       "  <tbody>\n",
       "    <tr>\n",
       "      <th>0</th>\n",
       "      <td>1.0</td>\n",
       "      <td>2.0</td>\n",
       "      <td>3.0</td>\n",
       "    </tr>\n",
       "    <tr>\n",
       "      <th>1</th>\n",
       "      <td>0.0</td>\n",
       "      <td>4.0</td>\n",
       "      <td>0.0</td>\n",
       "    </tr>\n",
       "    <tr>\n",
       "      <th>2</th>\n",
       "      <td>0.0</td>\n",
       "      <td>0.0</td>\n",
       "      <td>0.0</td>\n",
       "    </tr>\n",
       "    <tr>\n",
       "      <th>3</th>\n",
       "      <td>5.0</td>\n",
       "      <td>6.0</td>\n",
       "      <td>0.0</td>\n",
       "    </tr>\n",
       "    <tr>\n",
       "      <th>4</th>\n",
       "      <td>1.0</td>\n",
       "      <td>2.0</td>\n",
       "      <td>3.0</td>\n",
       "    </tr>\n",
       "  </tbody>\n",
       "</table>\n",
       "</div>"
      ],
      "text/plain": [
       "   columnaA  columnaB  columnaC\n",
       "0       1.0       2.0       3.0\n",
       "1       0.0       4.0       0.0\n",
       "2       0.0       0.0       0.0\n",
       "3       5.0       6.0       0.0\n",
       "4       1.0       2.0       3.0"
      ]
     },
     "execution_count": 10,
     "metadata": {},
     "output_type": "execute_result"
    }
   ],
   "source": [
    "#Rellenamos con 0 los NA.\n",
    "#Devuelve un nuevo dataframe con el resultado, no modifica el original.\n",
    "#Si queremos modificar el original --> inplace=True\n",
    "df_pruebas.fillna(0)"
   ]
  },
  {
   "cell_type": "code",
   "execution_count": 11,
   "id": "f48b41b6-7fdb-4ac9-a85c-6b1ee88d0ca6",
   "metadata": {},
   "outputs": [
    {
     "data": {
      "text/html": [
       "<div>\n",
       "<style scoped>\n",
       "    .dataframe tbody tr th:only-of-type {\n",
       "        vertical-align: middle;\n",
       "    }\n",
       "\n",
       "    .dataframe tbody tr th {\n",
       "        vertical-align: top;\n",
       "    }\n",
       "\n",
       "    .dataframe thead th {\n",
       "        text-align: right;\n",
       "    }\n",
       "</style>\n",
       "<table border=\"1\" class=\"dataframe\">\n",
       "  <thead>\n",
       "    <tr style=\"text-align: right;\">\n",
       "      <th></th>\n",
       "      <th>columnaA</th>\n",
       "      <th>columnaB</th>\n",
       "      <th>columnaC</th>\n",
       "    </tr>\n",
       "  </thead>\n",
       "  <tbody>\n",
       "    <tr>\n",
       "      <th>0</th>\n",
       "      <td>1.0</td>\n",
       "      <td>2.0</td>\n",
       "      <td>3.0</td>\n",
       "    </tr>\n",
       "    <tr>\n",
       "      <th>1</th>\n",
       "      <td>0.0</td>\n",
       "      <td>4.0</td>\n",
       "      <td>100.0</td>\n",
       "    </tr>\n",
       "    <tr>\n",
       "      <th>2</th>\n",
       "      <td>0.0</td>\n",
       "      <td>50.0</td>\n",
       "      <td>100.0</td>\n",
       "    </tr>\n",
       "    <tr>\n",
       "      <th>3</th>\n",
       "      <td>5.0</td>\n",
       "      <td>6.0</td>\n",
       "      <td>100.0</td>\n",
       "    </tr>\n",
       "    <tr>\n",
       "      <th>4</th>\n",
       "      <td>1.0</td>\n",
       "      <td>2.0</td>\n",
       "      <td>3.0</td>\n",
       "    </tr>\n",
       "  </tbody>\n",
       "</table>\n",
       "</div>"
      ],
      "text/plain": [
       "   columnaA  columnaB  columnaC\n",
       "0       1.0       2.0       3.0\n",
       "1       0.0       4.0     100.0\n",
       "2       0.0      50.0     100.0\n",
       "3       5.0       6.0     100.0\n",
       "4       1.0       2.0       3.0"
      ]
     },
     "execution_count": 11,
     "metadata": {},
     "output_type": "execute_result"
    }
   ],
   "source": [
    "#Segun la columna donde esté el NA ponemos un valor diferente\n",
    "df_pruebas.fillna({\n",
    "    'columnaA': 0, \n",
    "    'columnaB': 50, \n",
    "    'columnaC': 100\n",
    "})"
   ]
  },
  {
   "cell_type": "code",
   "execution_count": 12,
   "id": "fa2f6f3e-2797-41f5-acc9-f77b43c086f8",
   "metadata": {},
   "outputs": [
    {
     "name": "stderr",
     "output_type": "stream",
     "text": [
      "/tmp/ipykernel_230/3255287344.py:2: FutureWarning: DataFrame.fillna with 'method' is deprecated and will raise in a future version. Use obj.ffill() or obj.bfill() instead.\n",
      "  df_pruebas.fillna(method='ffill')\n"
     ]
    },
    {
     "data": {
      "text/html": [
       "<div>\n",
       "<style scoped>\n",
       "    .dataframe tbody tr th:only-of-type {\n",
       "        vertical-align: middle;\n",
       "    }\n",
       "\n",
       "    .dataframe tbody tr th {\n",
       "        vertical-align: top;\n",
       "    }\n",
       "\n",
       "    .dataframe thead th {\n",
       "        text-align: right;\n",
       "    }\n",
       "</style>\n",
       "<table border=\"1\" class=\"dataframe\">\n",
       "  <thead>\n",
       "    <tr style=\"text-align: right;\">\n",
       "      <th></th>\n",
       "      <th>columnaA</th>\n",
       "      <th>columnaB</th>\n",
       "      <th>columnaC</th>\n",
       "    </tr>\n",
       "  </thead>\n",
       "  <tbody>\n",
       "    <tr>\n",
       "      <th>0</th>\n",
       "      <td>1.0</td>\n",
       "      <td>2.0</td>\n",
       "      <td>3.0</td>\n",
       "    </tr>\n",
       "    <tr>\n",
       "      <th>1</th>\n",
       "      <td>1.0</td>\n",
       "      <td>4.0</td>\n",
       "      <td>3.0</td>\n",
       "    </tr>\n",
       "    <tr>\n",
       "      <th>2</th>\n",
       "      <td>1.0</td>\n",
       "      <td>4.0</td>\n",
       "      <td>3.0</td>\n",
       "    </tr>\n",
       "    <tr>\n",
       "      <th>3</th>\n",
       "      <td>5.0</td>\n",
       "      <td>6.0</td>\n",
       "      <td>3.0</td>\n",
       "    </tr>\n",
       "    <tr>\n",
       "      <th>4</th>\n",
       "      <td>1.0</td>\n",
       "      <td>2.0</td>\n",
       "      <td>3.0</td>\n",
       "    </tr>\n",
       "  </tbody>\n",
       "</table>\n",
       "</div>"
      ],
      "text/plain": [
       "   columnaA  columnaB  columnaC\n",
       "0       1.0       2.0       3.0\n",
       "1       1.0       4.0       3.0\n",
       "2       1.0       4.0       3.0\n",
       "3       5.0       6.0       3.0\n",
       "4       1.0       2.0       3.0"
      ]
     },
     "execution_count": 12,
     "metadata": {},
     "output_type": "execute_result"
    }
   ],
   "source": [
    "#Sustituimos NA por el valor que tenga en la fila anterior\n",
    "df_pruebas.fillna(method='ffill')"
   ]
  },
  {
   "cell_type": "code",
   "execution_count": 14,
   "id": "82067835-5d25-4e4c-901e-050a1921090c",
   "metadata": {},
   "outputs": [
    {
     "data": {
      "text/html": [
       "<div>\n",
       "<style scoped>\n",
       "    .dataframe tbody tr th:only-of-type {\n",
       "        vertical-align: middle;\n",
       "    }\n",
       "\n",
       "    .dataframe tbody tr th {\n",
       "        vertical-align: top;\n",
       "    }\n",
       "\n",
       "    .dataframe thead th {\n",
       "        text-align: right;\n",
       "    }\n",
       "</style>\n",
       "<table border=\"1\" class=\"dataframe\">\n",
       "  <thead>\n",
       "    <tr style=\"text-align: right;\">\n",
       "      <th></th>\n",
       "      <th>columnaA</th>\n",
       "      <th>columnaB</th>\n",
       "      <th>columnaC</th>\n",
       "    </tr>\n",
       "  </thead>\n",
       "  <tbody>\n",
       "    <tr>\n",
       "      <th>0</th>\n",
       "      <td>1.0</td>\n",
       "      <td>2.0</td>\n",
       "      <td>3.0</td>\n",
       "    </tr>\n",
       "    <tr>\n",
       "      <th>1</th>\n",
       "      <td>1.0</td>\n",
       "      <td>4.0</td>\n",
       "      <td>3.0</td>\n",
       "    </tr>\n",
       "    <tr>\n",
       "      <th>2</th>\n",
       "      <td>1.0</td>\n",
       "      <td>4.0</td>\n",
       "      <td>3.0</td>\n",
       "    </tr>\n",
       "    <tr>\n",
       "      <th>3</th>\n",
       "      <td>5.0</td>\n",
       "      <td>6.0</td>\n",
       "      <td>3.0</td>\n",
       "    </tr>\n",
       "    <tr>\n",
       "      <th>4</th>\n",
       "      <td>1.0</td>\n",
       "      <td>2.0</td>\n",
       "      <td>3.0</td>\n",
       "    </tr>\n",
       "  </tbody>\n",
       "</table>\n",
       "</div>"
      ],
      "text/plain": [
       "   columnaA  columnaB  columnaC\n",
       "0       1.0       2.0       3.0\n",
       "1       1.0       4.0       3.0\n",
       "2       1.0       4.0       3.0\n",
       "3       5.0       6.0       3.0\n",
       "4       1.0       2.0       3.0"
      ]
     },
     "execution_count": 14,
     "metadata": {},
     "output_type": "execute_result"
    }
   ],
   "source": [
    "#VERSION NUEVA Sustituimos NA por el valor que tenga en la fila anterior\n",
    "df_pruebas.ffill()"
   ]
  },
  {
   "cell_type": "code",
   "execution_count": 15,
   "id": "9c184232-14e6-44a7-ada1-2e80eae9312d",
   "metadata": {},
   "outputs": [
    {
     "data": {
      "text/html": [
       "<div>\n",
       "<style scoped>\n",
       "    .dataframe tbody tr th:only-of-type {\n",
       "        vertical-align: middle;\n",
       "    }\n",
       "\n",
       "    .dataframe tbody tr th {\n",
       "        vertical-align: top;\n",
       "    }\n",
       "\n",
       "    .dataframe thead th {\n",
       "        text-align: right;\n",
       "    }\n",
       "</style>\n",
       "<table border=\"1\" class=\"dataframe\">\n",
       "  <thead>\n",
       "    <tr style=\"text-align: right;\">\n",
       "      <th></th>\n",
       "      <th>columnaA</th>\n",
       "      <th>columnaB</th>\n",
       "      <th>columnaC</th>\n",
       "    </tr>\n",
       "  </thead>\n",
       "  <tbody>\n",
       "    <tr>\n",
       "      <th>0</th>\n",
       "      <td>1.000000</td>\n",
       "      <td>2.0</td>\n",
       "      <td>3.0</td>\n",
       "    </tr>\n",
       "    <tr>\n",
       "      <th>1</th>\n",
       "      <td>2.333333</td>\n",
       "      <td>4.0</td>\n",
       "      <td>3.0</td>\n",
       "    </tr>\n",
       "    <tr>\n",
       "      <th>2</th>\n",
       "      <td>2.333333</td>\n",
       "      <td>3.5</td>\n",
       "      <td>3.0</td>\n",
       "    </tr>\n",
       "    <tr>\n",
       "      <th>3</th>\n",
       "      <td>5.000000</td>\n",
       "      <td>6.0</td>\n",
       "      <td>3.0</td>\n",
       "    </tr>\n",
       "    <tr>\n",
       "      <th>4</th>\n",
       "      <td>1.000000</td>\n",
       "      <td>2.0</td>\n",
       "      <td>3.0</td>\n",
       "    </tr>\n",
       "  </tbody>\n",
       "</table>\n",
       "</div>"
      ],
      "text/plain": [
       "   columnaA  columnaB  columnaC\n",
       "0  1.000000       2.0       3.0\n",
       "1  2.333333       4.0       3.0\n",
       "2  2.333333       3.5       3.0\n",
       "3  5.000000       6.0       3.0\n",
       "4  1.000000       2.0       3.0"
      ]
     },
     "execution_count": 15,
     "metadata": {},
     "output_type": "execute_result"
    }
   ],
   "source": [
    "#Sustituimos NA por la media en esa columna\n",
    "df_pruebas.fillna({\n",
    "    'columnaA': df_pruebas['columnaA'].mean(), \n",
    "    'columnaB': df_pruebas['columnaB'].mean(), \n",
    "    'columnaC': df_pruebas['columnaC'].mean()\n",
    "})"
   ]
  },
  {
   "cell_type": "markdown",
   "id": "a20e1a83-97c2-4063-afb7-08e480a21464",
   "metadata": {
    "tags": []
   },
   "source": [
    "## Gestión de duplicados"
   ]
  },
  {
   "cell_type": "code",
   "execution_count": 16,
   "id": "4bf171b1-9978-4a9c-bcef-a1b02d04dd37",
   "metadata": {},
   "outputs": [
    {
     "data": {
      "text/html": [
       "<div>\n",
       "<style scoped>\n",
       "    .dataframe tbody tr th:only-of-type {\n",
       "        vertical-align: middle;\n",
       "    }\n",
       "\n",
       "    .dataframe tbody tr th {\n",
       "        vertical-align: top;\n",
       "    }\n",
       "\n",
       "    .dataframe thead th {\n",
       "        text-align: right;\n",
       "    }\n",
       "</style>\n",
       "<table border=\"1\" class=\"dataframe\">\n",
       "  <thead>\n",
       "    <tr style=\"text-align: right;\">\n",
       "      <th></th>\n",
       "      <th>columnaA</th>\n",
       "      <th>columnaB</th>\n",
       "      <th>columnaC</th>\n",
       "    </tr>\n",
       "  </thead>\n",
       "  <tbody>\n",
       "    <tr>\n",
       "      <th>0</th>\n",
       "      <td>1.0</td>\n",
       "      <td>2.0</td>\n",
       "      <td>3.0</td>\n",
       "    </tr>\n",
       "    <tr>\n",
       "      <th>1</th>\n",
       "      <td>NaN</td>\n",
       "      <td>4.0</td>\n",
       "      <td>NaN</td>\n",
       "    </tr>\n",
       "    <tr>\n",
       "      <th>2</th>\n",
       "      <td>NaN</td>\n",
       "      <td>NaN</td>\n",
       "      <td>NaN</td>\n",
       "    </tr>\n",
       "    <tr>\n",
       "      <th>3</th>\n",
       "      <td>5.0</td>\n",
       "      <td>6.0</td>\n",
       "      <td>NaN</td>\n",
       "    </tr>\n",
       "    <tr>\n",
       "      <th>4</th>\n",
       "      <td>1.0</td>\n",
       "      <td>2.0</td>\n",
       "      <td>3.0</td>\n",
       "    </tr>\n",
       "  </tbody>\n",
       "</table>\n",
       "</div>"
      ],
      "text/plain": [
       "   columnaA  columnaB  columnaC\n",
       "0       1.0       2.0       3.0\n",
       "1       NaN       4.0       NaN\n",
       "2       NaN       NaN       NaN\n",
       "3       5.0       6.0       NaN\n",
       "4       1.0       2.0       3.0"
      ]
     },
     "execution_count": 16,
     "metadata": {},
     "output_type": "execute_result"
    }
   ],
   "source": [
    "#Recordamos el contenido de nuestro dataframe de pruebas\n",
    "df_pruebas"
   ]
  },
  {
   "cell_type": "code",
   "execution_count": 17,
   "id": "9115d1b9-6da1-4ce3-9443-fc8b3ee836fa",
   "metadata": {},
   "outputs": [
    {
     "data": {
      "text/plain": [
       "0    False\n",
       "1    False\n",
       "2    False\n",
       "3    False\n",
       "4     True\n",
       "dtype: bool"
      ]
     },
     "execution_count": 17,
     "metadata": {},
     "output_type": "execute_result"
    }
   ],
   "source": [
    "#Vemos si hay filas duplicadas\n",
    "df_pruebas.duplicated()"
   ]
  },
  {
   "cell_type": "code",
   "execution_count": 18,
   "id": "4488be89-62df-44d6-8447-69b8ee756365",
   "metadata": {},
   "outputs": [
    {
     "data": {
      "text/html": [
       "<div>\n",
       "<style scoped>\n",
       "    .dataframe tbody tr th:only-of-type {\n",
       "        vertical-align: middle;\n",
       "    }\n",
       "\n",
       "    .dataframe tbody tr th {\n",
       "        vertical-align: top;\n",
       "    }\n",
       "\n",
       "    .dataframe thead th {\n",
       "        text-align: right;\n",
       "    }\n",
       "</style>\n",
       "<table border=\"1\" class=\"dataframe\">\n",
       "  <thead>\n",
       "    <tr style=\"text-align: right;\">\n",
       "      <th></th>\n",
       "      <th>columnaA</th>\n",
       "      <th>columnaB</th>\n",
       "      <th>columnaC</th>\n",
       "    </tr>\n",
       "  </thead>\n",
       "  <tbody>\n",
       "    <tr>\n",
       "      <th>0</th>\n",
       "      <td>1.0</td>\n",
       "      <td>2.0</td>\n",
       "      <td>3.0</td>\n",
       "    </tr>\n",
       "    <tr>\n",
       "      <th>1</th>\n",
       "      <td>NaN</td>\n",
       "      <td>4.0</td>\n",
       "      <td>NaN</td>\n",
       "    </tr>\n",
       "    <tr>\n",
       "      <th>2</th>\n",
       "      <td>NaN</td>\n",
       "      <td>NaN</td>\n",
       "      <td>NaN</td>\n",
       "    </tr>\n",
       "    <tr>\n",
       "      <th>3</th>\n",
       "      <td>5.0</td>\n",
       "      <td>6.0</td>\n",
       "      <td>NaN</td>\n",
       "    </tr>\n",
       "  </tbody>\n",
       "</table>\n",
       "</div>"
      ],
      "text/plain": [
       "   columnaA  columnaB  columnaC\n",
       "0       1.0       2.0       3.0\n",
       "1       NaN       4.0       NaN\n",
       "2       NaN       NaN       NaN\n",
       "3       5.0       6.0       NaN"
      ]
     },
     "execution_count": 18,
     "metadata": {},
     "output_type": "execute_result"
    }
   ],
   "source": [
    "#Obtenemos un dataframe sin duplicados\n",
    "df_pruebas.drop_duplicates()"
   ]
  },
  {
   "cell_type": "code",
   "execution_count": 19,
   "id": "1a55487d-068f-46b5-8608-b2db57d102a5",
   "metadata": {},
   "outputs": [
    {
     "data": {
      "text/plain": [
       "0    False\n",
       "1    False\n",
       "2     True\n",
       "3    False\n",
       "4     True\n",
       "dtype: bool"
      ]
     },
     "execution_count": 19,
     "metadata": {},
     "output_type": "execute_result"
    }
   ],
   "source": [
    "#Vemos si hay filas dupicadas\n",
    "df_pruebas.duplicated(['columnaA','columnaC'])"
   ]
  },
  {
   "cell_type": "code",
   "execution_count": 23,
   "id": "aabae322-6798-497d-8e80-460b2e60e798",
   "metadata": {},
   "outputs": [
    {
     "data": {
      "text/plain": [
       "0     True\n",
       "1     True\n",
       "2    False\n",
       "3    False\n",
       "4    False\n",
       "dtype: bool"
      ]
     },
     "execution_count": 23,
     "metadata": {},
     "output_type": "execute_result"
    }
   ],
   "source": [
    "#Vemos si hay filas dupicadas. En caso de haberlas, la \"original\" es la última.\n",
    "df_pruebas.duplicated(['columnaA','columnaC'],keep='last')"
   ]
  },
  {
   "cell_type": "markdown",
   "id": "39dc7edd-a94c-4e7e-9559-de8d98dbb9db",
   "metadata": {
    "tags": []
   },
   "source": [
    "## Transformaciones mediante funciones"
   ]
  },
  {
   "cell_type": "code",
   "execution_count": 24,
   "id": "0073d525-e0ab-418d-ba25-05f66460f7dd",
   "metadata": {},
   "outputs": [
    {
     "data": {
      "text/html": [
       "<div>\n",
       "<style scoped>\n",
       "    .dataframe tbody tr th:only-of-type {\n",
       "        vertical-align: middle;\n",
       "    }\n",
       "\n",
       "    .dataframe tbody tr th {\n",
       "        vertical-align: top;\n",
       "    }\n",
       "\n",
       "    .dataframe thead th {\n",
       "        text-align: right;\n",
       "    }\n",
       "</style>\n",
       "<table border=\"1\" class=\"dataframe\">\n",
       "  <thead>\n",
       "    <tr style=\"text-align: right;\">\n",
       "      <th></th>\n",
       "      <th>columnaA</th>\n",
       "      <th>columnaB</th>\n",
       "      <th>columnaC</th>\n",
       "    </tr>\n",
       "  </thead>\n",
       "  <tbody>\n",
       "    <tr>\n",
       "      <th>0</th>\n",
       "      <td>1.0</td>\n",
       "      <td>2.0</td>\n",
       "      <td>3.0</td>\n",
       "    </tr>\n",
       "    <tr>\n",
       "      <th>1</th>\n",
       "      <td>0.0</td>\n",
       "      <td>4.0</td>\n",
       "      <td>0.0</td>\n",
       "    </tr>\n",
       "    <tr>\n",
       "      <th>2</th>\n",
       "      <td>0.0</td>\n",
       "      <td>0.0</td>\n",
       "      <td>0.0</td>\n",
       "    </tr>\n",
       "    <tr>\n",
       "      <th>3</th>\n",
       "      <td>5.0</td>\n",
       "      <td>6.0</td>\n",
       "      <td>0.0</td>\n",
       "    </tr>\n",
       "    <tr>\n",
       "      <th>4</th>\n",
       "      <td>1.0</td>\n",
       "      <td>2.0</td>\n",
       "      <td>3.0</td>\n",
       "    </tr>\n",
       "  </tbody>\n",
       "</table>\n",
       "</div>"
      ],
      "text/plain": [
       "   columnaA  columnaB  columnaC\n",
       "0       1.0       2.0       3.0\n",
       "1       0.0       4.0       0.0\n",
       "2       0.0       0.0       0.0\n",
       "3       5.0       6.0       0.0\n",
       "4       1.0       2.0       3.0"
      ]
     },
     "metadata": {},
     "output_type": "display_data"
    },
    {
     "data": {
      "text/plain": [
       "0      uno\n",
       "1     cero\n",
       "2     cero\n",
       "3    cinco\n",
       "4      uno\n",
       "Name: columnaA, dtype: object"
      ]
     },
     "execution_count": 24,
     "metadata": {},
     "output_type": "execute_result"
    }
   ],
   "source": [
    "## Transformación mediante mapeo.\n",
    "#Traduciremos los valores numéricos por caracteres\n",
    "num_a_car = {\n",
    "    0.0: 'cero',\n",
    "    1.0: 'uno',\n",
    "    2.0: 'dos',\n",
    "    3.0: 'tres',\n",
    "    4.0: 'cuatro',\n",
    "    5.0: 'cinco',\n",
    "    6.0: 'seis',\n",
    "}\n",
    "\n",
    "#Sustitiumos NAN por 0\n",
    "df_pruebas.fillna(0, inplace=True) #dataframe del principio\n",
    "\n",
    "display(df_pruebas)\n",
    "\n",
    "df_pruebas['columnaA'].map(lambda elemento: num_a_car[elemento])"
   ]
  },
  {
   "cell_type": "markdown",
   "id": "19cc995a-e3d3-44c0-8bfe-8764de6002e6",
   "metadata": {
    "tags": []
   },
   "source": [
    "## Métodos para reemplazar valores"
   ]
  },
  {
   "cell_type": "code",
   "execution_count": 25,
   "id": "a1b86a34-186c-4f7f-a47b-f1b15cd2d526",
   "metadata": {},
   "outputs": [
    {
     "data": {
      "text/html": [
       "<div>\n",
       "<style scoped>\n",
       "    .dataframe tbody tr th:only-of-type {\n",
       "        vertical-align: middle;\n",
       "    }\n",
       "\n",
       "    .dataframe tbody tr th {\n",
       "        vertical-align: top;\n",
       "    }\n",
       "\n",
       "    .dataframe thead th {\n",
       "        text-align: right;\n",
       "    }\n",
       "</style>\n",
       "<table border=\"1\" class=\"dataframe\">\n",
       "  <thead>\n",
       "    <tr style=\"text-align: right;\">\n",
       "      <th></th>\n",
       "      <th>columnaA</th>\n",
       "      <th>columnaB</th>\n",
       "      <th>columnaC</th>\n",
       "    </tr>\n",
       "  </thead>\n",
       "  <tbody>\n",
       "    <tr>\n",
       "      <th>0</th>\n",
       "      <td>1.0</td>\n",
       "      <td>2.0</td>\n",
       "      <td>3.0</td>\n",
       "    </tr>\n",
       "    <tr>\n",
       "      <th>1</th>\n",
       "      <td>0.0</td>\n",
       "      <td>4.0</td>\n",
       "      <td>0.0</td>\n",
       "    </tr>\n",
       "    <tr>\n",
       "      <th>2</th>\n",
       "      <td>0.0</td>\n",
       "      <td>0.0</td>\n",
       "      <td>0.0</td>\n",
       "    </tr>\n",
       "    <tr>\n",
       "      <th>3</th>\n",
       "      <td>5.0</td>\n",
       "      <td>6.0</td>\n",
       "      <td>0.0</td>\n",
       "    </tr>\n",
       "    <tr>\n",
       "      <th>4</th>\n",
       "      <td>1.0</td>\n",
       "      <td>2.0</td>\n",
       "      <td>3.0</td>\n",
       "    </tr>\n",
       "  </tbody>\n",
       "</table>\n",
       "</div>"
      ],
      "text/plain": [
       "   columnaA  columnaB  columnaC\n",
       "0       1.0       2.0       3.0\n",
       "1       0.0       4.0       0.0\n",
       "2       0.0       0.0       0.0\n",
       "3       5.0       6.0       0.0\n",
       "4       1.0       2.0       3.0"
      ]
     },
     "execution_count": 25,
     "metadata": {},
     "output_type": "execute_result"
    }
   ],
   "source": [
    "#Recordamos contenido de nuestro dataframe de pruebas.\n",
    "#En un paso anterior hemos sustituido NaN por 0's\n",
    "df_pruebas"
   ]
  },
  {
   "cell_type": "code",
   "execution_count": 29,
   "id": "b14e7e65-fc3c-4d50-9f4f-63a526911f61",
   "metadata": {},
   "outputs": [
    {
     "name": "stdout",
     "output_type": "stream",
     "text": [
      "   columnaA  columnaB  columnaC\n",
      "0    1000.0       2.0       3.0\n",
      "1       0.0       4.0       0.0\n",
      "2       0.0       0.0       0.0\n",
      "3       5.0       6.0       0.0\n",
      "4    1000.0       2.0       3.0\n",
      "--------------------------------\n",
      "   columnaA  columnaB  columnaC\n",
      "0    1000.0    1000.0       3.0\n",
      "1       0.0       4.0       0.0\n",
      "2       0.0       0.0       0.0\n",
      "3       5.0       6.0       0.0\n",
      "4    1000.0    1000.0       3.0\n",
      "--------------------------------\n",
      "   columnaA  columnaB  columnaC\n",
      "0    1000.0    2000.0       3.0\n",
      "1       0.0       4.0       0.0\n",
      "2       0.0       0.0       0.0\n",
      "3       5.0       6.0       0.0\n",
      "4    1000.0    2000.0       3.0\n",
      "--------------------------------\n",
      "   columnaA  columnaB  columnaC\n",
      "0  1000.000  2000.000     3.000\n",
      "1     0.001     4.000     0.001\n",
      "2     0.001     0.001     0.001\n",
      "3     5.000     6.000     0.001\n",
      "4  1000.000  2000.000     3.000\n"
     ]
    }
   ],
   "source": [
    "#Reemplazamos 1 por 'uno'\n",
    "print(df_pruebas.replace(1.0, 1000.0))\n",
    "print(\"--------------------------------\")\n",
    "print(df_pruebas.replace([1.0,2.0], 1000.0))\n",
    "print(\"--------------------------------\")\n",
    "print(df_pruebas.replace([1.0,2.0], [1000.0, 2000.0]))\n",
    "print(\"--------------------------------\")\n",
    "print(df_pruebas.replace([1.0,2.0,0.0], [1000.0, 2000.0,000.001]))"
   ]
  },
  {
   "cell_type": "markdown",
   "id": "bf5c741c-f4ff-4702-88af-6f30787806fa",
   "metadata": {
    "tags": []
   },
   "source": [
    "## Renombrado de índices"
   ]
  },
  {
   "cell_type": "code",
   "execution_count": 30,
   "id": "4e584a2d-f60f-469f-acf6-8f4f0113af65",
   "metadata": {},
   "outputs": [
    {
     "data": {
      "text/html": [
       "<div>\n",
       "<style scoped>\n",
       "    .dataframe tbody tr th:only-of-type {\n",
       "        vertical-align: middle;\n",
       "    }\n",
       "\n",
       "    .dataframe tbody tr th {\n",
       "        vertical-align: top;\n",
       "    }\n",
       "\n",
       "    .dataframe thead th {\n",
       "        text-align: right;\n",
       "    }\n",
       "</style>\n",
       "<table border=\"1\" class=\"dataframe\">\n",
       "  <thead>\n",
       "    <tr style=\"text-align: right;\">\n",
       "      <th></th>\n",
       "      <th>columnaA</th>\n",
       "      <th>columnaB</th>\n",
       "      <th>columnaC</th>\n",
       "    </tr>\n",
       "  </thead>\n",
       "  <tbody>\n",
       "    <tr>\n",
       "      <th>0</th>\n",
       "      <td>1.0</td>\n",
       "      <td>2.0</td>\n",
       "      <td>3.0</td>\n",
       "    </tr>\n",
       "    <tr>\n",
       "      <th>1</th>\n",
       "      <td>0.0</td>\n",
       "      <td>4.0</td>\n",
       "      <td>0.0</td>\n",
       "    </tr>\n",
       "    <tr>\n",
       "      <th>2</th>\n",
       "      <td>0.0</td>\n",
       "      <td>0.0</td>\n",
       "      <td>0.0</td>\n",
       "    </tr>\n",
       "    <tr>\n",
       "      <th>3</th>\n",
       "      <td>5.0</td>\n",
       "      <td>6.0</td>\n",
       "      <td>0.0</td>\n",
       "    </tr>\n",
       "    <tr>\n",
       "      <th>4</th>\n",
       "      <td>1.0</td>\n",
       "      <td>2.0</td>\n",
       "      <td>3.0</td>\n",
       "    </tr>\n",
       "  </tbody>\n",
       "</table>\n",
       "</div>"
      ],
      "text/plain": [
       "   columnaA  columnaB  columnaC\n",
       "0       1.0       2.0       3.0\n",
       "1       0.0       4.0       0.0\n",
       "2       0.0       0.0       0.0\n",
       "3       5.0       6.0       0.0\n",
       "4       1.0       2.0       3.0"
      ]
     },
     "execution_count": 30,
     "metadata": {},
     "output_type": "execute_result"
    }
   ],
   "source": [
    "#Recordamos contenido de nuestro dataframe de pruebas.\n",
    "#En un paso anterior hemos sustituido NaN por 0's\n",
    "df_pruebas"
   ]
  },
  {
   "cell_type": "code",
   "execution_count": 31,
   "id": "d3a94384-97a9-4fb6-af9a-b46b8b9f6748",
   "metadata": {},
   "outputs": [
    {
     "data": {
      "text/html": [
       "<div>\n",
       "<style scoped>\n",
       "    .dataframe tbody tr th:only-of-type {\n",
       "        vertical-align: middle;\n",
       "    }\n",
       "\n",
       "    .dataframe tbody tr th {\n",
       "        vertical-align: top;\n",
       "    }\n",
       "\n",
       "    .dataframe thead th {\n",
       "        text-align: right;\n",
       "    }\n",
       "</style>\n",
       "<table border=\"1\" class=\"dataframe\">\n",
       "  <thead>\n",
       "    <tr style=\"text-align: right;\">\n",
       "      <th></th>\n",
       "      <th>ColumnaA</th>\n",
       "      <th>ColumnaB</th>\n",
       "      <th>ColumnaC</th>\n",
       "    </tr>\n",
       "  </thead>\n",
       "  <tbody>\n",
       "    <tr>\n",
       "      <th>0</th>\n",
       "      <td>1.0</td>\n",
       "      <td>2.0</td>\n",
       "      <td>3.0</td>\n",
       "    </tr>\n",
       "    <tr>\n",
       "      <th>1</th>\n",
       "      <td>0.0</td>\n",
       "      <td>4.0</td>\n",
       "      <td>0.0</td>\n",
       "    </tr>\n",
       "    <tr>\n",
       "      <th>2</th>\n",
       "      <td>0.0</td>\n",
       "      <td>0.0</td>\n",
       "      <td>0.0</td>\n",
       "    </tr>\n",
       "    <tr>\n",
       "      <th>3</th>\n",
       "      <td>5.0</td>\n",
       "      <td>6.0</td>\n",
       "      <td>0.0</td>\n",
       "    </tr>\n",
       "    <tr>\n",
       "      <th>4</th>\n",
       "      <td>1.0</td>\n",
       "      <td>2.0</td>\n",
       "      <td>3.0</td>\n",
       "    </tr>\n",
       "  </tbody>\n",
       "</table>\n",
       "</div>"
      ],
      "text/plain": [
       "   ColumnaA  ColumnaB  ColumnaC\n",
       "0       1.0       2.0       3.0\n",
       "1       0.0       4.0       0.0\n",
       "2       0.0       0.0       0.0\n",
       "3       5.0       6.0       0.0\n",
       "4       1.0       2.0       3.0"
      ]
     },
     "execution_count": 31,
     "metadata": {},
     "output_type": "execute_result"
    }
   ],
   "source": [
    "#La siguiente función lambda recibe una palabra y la devuelve con la inicial en mayúsculas\n",
    "convMayus = lambda palabra: palabra[:1].upper() + palabra[1:]\n",
    "\n",
    "#Aplicamos a cada nombre de columna la transformación\n",
    "df_pruebas.columns = df_pruebas.columns.map(convMayus)\n",
    "df_pruebas\n",
    "\n",
    "#IMPORTANTE: Estamos modificando el dataframe original"
   ]
  },
  {
   "cell_type": "code",
   "execution_count": 33,
   "id": "e3fb46b1-a2d9-47d5-b7d8-ece5426d9b6a",
   "metadata": {},
   "outputs": [
    {
     "data": {
      "text/html": [
       "<div>\n",
       "<style scoped>\n",
       "    .dataframe tbody tr th:only-of-type {\n",
       "        vertical-align: middle;\n",
       "    }\n",
       "\n",
       "    .dataframe tbody tr th {\n",
       "        vertical-align: top;\n",
       "    }\n",
       "\n",
       "    .dataframe thead th {\n",
       "        text-align: right;\n",
       "    }\n",
       "</style>\n",
       "<table border=\"1\" class=\"dataframe\">\n",
       "  <thead>\n",
       "    <tr style=\"text-align: right;\">\n",
       "      <th></th>\n",
       "      <th>A</th>\n",
       "      <th>ColumnaB</th>\n",
       "      <th>ColumnaC</th>\n",
       "    </tr>\n",
       "  </thead>\n",
       "  <tbody>\n",
       "    <tr>\n",
       "      <th>cero</th>\n",
       "      <td>1.0</td>\n",
       "      <td>2.0</td>\n",
       "      <td>3.0</td>\n",
       "    </tr>\n",
       "    <tr>\n",
       "      <th>uno</th>\n",
       "      <td>0.0</td>\n",
       "      <td>4.0</td>\n",
       "      <td>0.0</td>\n",
       "    </tr>\n",
       "    <tr>\n",
       "      <th>2</th>\n",
       "      <td>0.0</td>\n",
       "      <td>0.0</td>\n",
       "      <td>0.0</td>\n",
       "    </tr>\n",
       "    <tr>\n",
       "      <th>3</th>\n",
       "      <td>5.0</td>\n",
       "      <td>6.0</td>\n",
       "      <td>0.0</td>\n",
       "    </tr>\n",
       "    <tr>\n",
       "      <th>4</th>\n",
       "      <td>1.0</td>\n",
       "      <td>2.0</td>\n",
       "      <td>3.0</td>\n",
       "    </tr>\n",
       "  </tbody>\n",
       "</table>\n",
       "</div>"
      ],
      "text/plain": [
       "        A  ColumnaB  ColumnaC\n",
       "cero  1.0       2.0       3.0\n",
       "uno   0.0       4.0       0.0\n",
       "2     0.0       0.0       0.0\n",
       "3     5.0       6.0       0.0\n",
       "4     1.0       2.0       3.0"
      ]
     },
     "execution_count": 33,
     "metadata": {},
     "output_type": "execute_result"
    }
   ],
   "source": [
    "#Devolvemos un nuevo dataframe con modificaciones en el nombre de una fila y una columna\n",
    "df_pruebas.rename(\n",
    "    index={0: 'cero', 1: 'uno'}, \n",
    "    columns={'ColumnaA': 'A'}\n",
    ")"
   ]
  },
  {
   "cell_type": "markdown",
   "id": "a85d5906-6a7a-4637-bfbc-4e7ccf9b96f1",
   "metadata": {
    "tags": []
   },
   "source": [
    "## Sustitución de valores fuera de rango"
   ]
  },
  {
   "cell_type": "code",
   "execution_count": 34,
   "id": "e90565e6-0e90-42da-bb1c-be2876b8a6d2",
   "metadata": {},
   "outputs": [
    {
     "data": {
      "text/html": [
       "<div>\n",
       "<style scoped>\n",
       "    .dataframe tbody tr th:only-of-type {\n",
       "        vertical-align: middle;\n",
       "    }\n",
       "\n",
       "    .dataframe tbody tr th {\n",
       "        vertical-align: top;\n",
       "    }\n",
       "\n",
       "    .dataframe thead th {\n",
       "        text-align: right;\n",
       "    }\n",
       "</style>\n",
       "<table border=\"1\" class=\"dataframe\">\n",
       "  <thead>\n",
       "    <tr style=\"text-align: right;\">\n",
       "      <th></th>\n",
       "      <th>columnaA</th>\n",
       "      <th>columnaB</th>\n",
       "      <th>columnaC</th>\n",
       "    </tr>\n",
       "  </thead>\n",
       "  <tbody>\n",
       "    <tr>\n",
       "      <th>0</th>\n",
       "      <td>1.0</td>\n",
       "      <td>2.0</td>\n",
       "      <td>3.0</td>\n",
       "    </tr>\n",
       "    <tr>\n",
       "      <th>1</th>\n",
       "      <td>NaN</td>\n",
       "      <td>4.0</td>\n",
       "      <td>NaN</td>\n",
       "    </tr>\n",
       "    <tr>\n",
       "      <th>2</th>\n",
       "      <td>NaN</td>\n",
       "      <td>NaN</td>\n",
       "      <td>NaN</td>\n",
       "    </tr>\n",
       "    <tr>\n",
       "      <th>3</th>\n",
       "      <td>5.0</td>\n",
       "      <td>6.0</td>\n",
       "      <td>NaN</td>\n",
       "    </tr>\n",
       "    <tr>\n",
       "      <th>4</th>\n",
       "      <td>1.0</td>\n",
       "      <td>2.0</td>\n",
       "      <td>3.0</td>\n",
       "    </tr>\n",
       "  </tbody>\n",
       "</table>\n",
       "</div>"
      ],
      "text/plain": [
       "   columnaA  columnaB  columnaC\n",
       "0       1.0       2.0       3.0\n",
       "1       NaN       4.0       NaN\n",
       "2       NaN       NaN       NaN\n",
       "3       5.0       6.0       NaN\n",
       "4       1.0       2.0       3.0"
      ]
     },
     "execution_count": 34,
     "metadata": {},
     "output_type": "execute_result"
    }
   ],
   "source": [
    "#Volvemos a cargar nuestro dataframe de pruebas con los NaN\n",
    "df_pruebas = pd.DataFrame({\n",
    "    'columnaA': [1, np.NaN, np.NaN, 5, 1],\n",
    "    'columnaB': [2, 4, np.NaN, 6, 2], \n",
    "    'columnaC': [3, np.NaN, np.NaN, np.NaN, 3]\n",
    "})\n",
    "df_pruebas"
   ]
  },
  {
   "cell_type": "code",
   "execution_count": 35,
   "id": "7fadc9b2-344d-419e-9a33-76e5cd9fe08d",
   "metadata": {},
   "outputs": [
    {
     "name": "stdout",
     "output_type": "stream",
     "text": [
      "El percentil 95 es: 1.0\n",
      "Fila cuyo valor en columnaA es superior al p95:  3    5.0\n",
      "Name: columnaA, dtype: float64\n"
     ]
    },
    {
     "data": {
      "text/html": [
       "<div>\n",
       "<style scoped>\n",
       "    .dataframe tbody tr th:only-of-type {\n",
       "        vertical-align: middle;\n",
       "    }\n",
       "\n",
       "    .dataframe tbody tr th {\n",
       "        vertical-align: top;\n",
       "    }\n",
       "\n",
       "    .dataframe thead th {\n",
       "        text-align: right;\n",
       "    }\n",
       "</style>\n",
       "<table border=\"1\" class=\"dataframe\">\n",
       "  <thead>\n",
       "    <tr style=\"text-align: right;\">\n",
       "      <th></th>\n",
       "      <th>columnaA</th>\n",
       "      <th>columnaB</th>\n",
       "      <th>columnaC</th>\n",
       "    </tr>\n",
       "  </thead>\n",
       "  <tbody>\n",
       "    <tr>\n",
       "      <th>0</th>\n",
       "      <td>1.0</td>\n",
       "      <td>2.0</td>\n",
       "      <td>3.0</td>\n",
       "    </tr>\n",
       "    <tr>\n",
       "      <th>1</th>\n",
       "      <td>NaN</td>\n",
       "      <td>4.0</td>\n",
       "      <td>NaN</td>\n",
       "    </tr>\n",
       "    <tr>\n",
       "      <th>2</th>\n",
       "      <td>NaN</td>\n",
       "      <td>NaN</td>\n",
       "      <td>NaN</td>\n",
       "    </tr>\n",
       "    <tr>\n",
       "      <th>3</th>\n",
       "      <td>1.0</td>\n",
       "      <td>6.0</td>\n",
       "      <td>NaN</td>\n",
       "    </tr>\n",
       "    <tr>\n",
       "      <th>4</th>\n",
       "      <td>1.0</td>\n",
       "      <td>2.0</td>\n",
       "      <td>3.0</td>\n",
       "    </tr>\n",
       "  </tbody>\n",
       "</table>\n",
       "</div>"
      ],
      "text/plain": [
       "   columnaA  columnaB  columnaC\n",
       "0       1.0       2.0       3.0\n",
       "1       NaN       4.0       NaN\n",
       "2       NaN       NaN       NaN\n",
       "3       1.0       6.0       NaN\n",
       "4       1.0       2.0       3.0"
      ]
     },
     "execution_count": 35,
     "metadata": {},
     "output_type": "execute_result"
    }
   ],
   "source": [
    "#Asegúrate de haber ejecutado la celda inmediatamente superior.\n",
    "#Para simplificar la legibilidad del código, extraemos a colA el array con los datos de la primera columna\n",
    "colA = df_pruebas['columnaA']\n",
    "\n",
    "#Calculamos el P95 de esa columna\n",
    "p95 = np.nanpercentile(colA, 0.95)\n",
    "print(\"El percentil 95 es:\", p95)\n",
    "\n",
    "#Primero vemos si hay algún valor por encima del P95\n",
    "print(\"Fila cuyo valor en columnaA es superior al p95: \", colA[colA > p95])\n",
    "\n",
    "#Lo modificamos, cambiando el valor\n",
    "colA[colA > p95] = p95\n",
    "\n",
    "#Resultado\n",
    "df_pruebas"
   ]
  },
  {
   "cell_type": "markdown",
   "id": "3e53ba89-5166-4043-a621-032877ff18cf",
   "metadata": {
    "tags": []
   },
   "source": [
    "## Sampleado"
   ]
  },
  {
   "cell_type": "code",
   "execution_count": 42,
   "id": "51a2b2a5-c2eb-4045-a3dd-eac866d88612",
   "metadata": {},
   "outputs": [
    {
     "data": {
      "text/html": [
       "<div>\n",
       "<style scoped>\n",
       "    .dataframe tbody tr th:only-of-type {\n",
       "        vertical-align: middle;\n",
       "    }\n",
       "\n",
       "    .dataframe tbody tr th {\n",
       "        vertical-align: top;\n",
       "    }\n",
       "\n",
       "    .dataframe thead th {\n",
       "        text-align: right;\n",
       "    }\n",
       "</style>\n",
       "<table border=\"1\" class=\"dataframe\">\n",
       "  <thead>\n",
       "    <tr style=\"text-align: right;\">\n",
       "      <th></th>\n",
       "      <th>columnaA</th>\n",
       "      <th>columnaB</th>\n",
       "      <th>columnaC</th>\n",
       "    </tr>\n",
       "  </thead>\n",
       "  <tbody>\n",
       "    <tr>\n",
       "      <th>0</th>\n",
       "      <td>1.0</td>\n",
       "      <td>2.0</td>\n",
       "      <td>3.0</td>\n",
       "    </tr>\n",
       "    <tr>\n",
       "      <th>3</th>\n",
       "      <td>1.0</td>\n",
       "      <td>6.0</td>\n",
       "      <td>NaN</td>\n",
       "    </tr>\n",
       "  </tbody>\n",
       "</table>\n",
       "</div>"
      ],
      "text/plain": [
       "   columnaA  columnaB  columnaC\n",
       "0       1.0       2.0       3.0\n",
       "3       1.0       6.0       NaN"
      ]
     },
     "execution_count": 42,
     "metadata": {},
     "output_type": "execute_result"
    }
   ],
   "source": [
    "#Devuelve un dataframe con 2 filas del original.\n",
    "#Ejecútalo varias veces, verás que no devuelve siempre las mismas.\n",
    "df_pruebas.sample(n=2)"
   ]
  },
  {
   "cell_type": "code",
   "execution_count": 43,
   "id": "d1ed1355-70bf-47d6-bc50-844b9ed6ce46",
   "metadata": {},
   "outputs": [
    {
     "data": {
      "text/html": [
       "<div>\n",
       "<style scoped>\n",
       "    .dataframe tbody tr th:only-of-type {\n",
       "        vertical-align: middle;\n",
       "    }\n",
       "\n",
       "    .dataframe tbody tr th {\n",
       "        vertical-align: top;\n",
       "    }\n",
       "\n",
       "    .dataframe thead th {\n",
       "        text-align: right;\n",
       "    }\n",
       "</style>\n",
       "<table border=\"1\" class=\"dataframe\">\n",
       "  <thead>\n",
       "    <tr style=\"text-align: right;\">\n",
       "      <th></th>\n",
       "      <th>columnaB</th>\n",
       "      <th>columnaC</th>\n",
       "    </tr>\n",
       "  </thead>\n",
       "  <tbody>\n",
       "    <tr>\n",
       "      <th>0</th>\n",
       "      <td>2.0</td>\n",
       "      <td>3.0</td>\n",
       "    </tr>\n",
       "    <tr>\n",
       "      <th>1</th>\n",
       "      <td>4.0</td>\n",
       "      <td>NaN</td>\n",
       "    </tr>\n",
       "    <tr>\n",
       "      <th>2</th>\n",
       "      <td>NaN</td>\n",
       "      <td>NaN</td>\n",
       "    </tr>\n",
       "    <tr>\n",
       "      <th>3</th>\n",
       "      <td>6.0</td>\n",
       "      <td>NaN</td>\n",
       "    </tr>\n",
       "    <tr>\n",
       "      <th>4</th>\n",
       "      <td>2.0</td>\n",
       "      <td>3.0</td>\n",
       "    </tr>\n",
       "  </tbody>\n",
       "</table>\n",
       "</div>"
      ],
      "text/plain": [
       "   columnaB  columnaC\n",
       "0       2.0       3.0\n",
       "1       4.0       NaN\n",
       "2       NaN       NaN\n",
       "3       6.0       NaN\n",
       "4       2.0       3.0"
      ]
     },
     "execution_count": 43,
     "metadata": {},
     "output_type": "execute_result"
    }
   ],
   "source": [
    "#Devuelve un dataframe con 2 columnas del original\n",
    "df_pruebas.sample(n=2, axis = 1)"
   ]
  },
  {
   "cell_type": "code",
   "execution_count": 38,
   "id": "149d572c-2e81-4930-a2ae-4ee43f1016fc",
   "metadata": {},
   "outputs": [
    {
     "data": {
      "text/html": [
       "<div>\n",
       "<style scoped>\n",
       "    .dataframe tbody tr th:only-of-type {\n",
       "        vertical-align: middle;\n",
       "    }\n",
       "\n",
       "    .dataframe tbody tr th {\n",
       "        vertical-align: top;\n",
       "    }\n",
       "\n",
       "    .dataframe thead th {\n",
       "        text-align: right;\n",
       "    }\n",
       "</style>\n",
       "<table border=\"1\" class=\"dataframe\">\n",
       "  <thead>\n",
       "    <tr style=\"text-align: right;\">\n",
       "      <th></th>\n",
       "      <th>columnaA</th>\n",
       "      <th>columnaB</th>\n",
       "      <th>columnaC</th>\n",
       "    </tr>\n",
       "  </thead>\n",
       "  <tbody>\n",
       "    <tr>\n",
       "      <th>4</th>\n",
       "      <td>1.0</td>\n",
       "      <td>2.0</td>\n",
       "      <td>3.0</td>\n",
       "    </tr>\n",
       "    <tr>\n",
       "      <th>4</th>\n",
       "      <td>1.0</td>\n",
       "      <td>2.0</td>\n",
       "      <td>3.0</td>\n",
       "    </tr>\n",
       "    <tr>\n",
       "      <th>3</th>\n",
       "      <td>1.0</td>\n",
       "      <td>6.0</td>\n",
       "      <td>NaN</td>\n",
       "    </tr>\n",
       "    <tr>\n",
       "      <th>3</th>\n",
       "      <td>1.0</td>\n",
       "      <td>6.0</td>\n",
       "      <td>NaN</td>\n",
       "    </tr>\n",
       "    <tr>\n",
       "      <th>1</th>\n",
       "      <td>NaN</td>\n",
       "      <td>4.0</td>\n",
       "      <td>NaN</td>\n",
       "    </tr>\n",
       "    <tr>\n",
       "      <th>4</th>\n",
       "      <td>1.0</td>\n",
       "      <td>2.0</td>\n",
       "      <td>3.0</td>\n",
       "    </tr>\n",
       "    <tr>\n",
       "      <th>1</th>\n",
       "      <td>NaN</td>\n",
       "      <td>4.0</td>\n",
       "      <td>NaN</td>\n",
       "    </tr>\n",
       "    <tr>\n",
       "      <th>1</th>\n",
       "      <td>NaN</td>\n",
       "      <td>4.0</td>\n",
       "      <td>NaN</td>\n",
       "    </tr>\n",
       "    <tr>\n",
       "      <th>0</th>\n",
       "      <td>1.0</td>\n",
       "      <td>2.0</td>\n",
       "      <td>3.0</td>\n",
       "    </tr>\n",
       "    <tr>\n",
       "      <th>4</th>\n",
       "      <td>1.0</td>\n",
       "      <td>2.0</td>\n",
       "      <td>3.0</td>\n",
       "    </tr>\n",
       "    <tr>\n",
       "      <th>1</th>\n",
       "      <td>NaN</td>\n",
       "      <td>4.0</td>\n",
       "      <td>NaN</td>\n",
       "    </tr>\n",
       "    <tr>\n",
       "      <th>0</th>\n",
       "      <td>1.0</td>\n",
       "      <td>2.0</td>\n",
       "      <td>3.0</td>\n",
       "    </tr>\n",
       "    <tr>\n",
       "      <th>0</th>\n",
       "      <td>1.0</td>\n",
       "      <td>2.0</td>\n",
       "      <td>3.0</td>\n",
       "    </tr>\n",
       "    <tr>\n",
       "      <th>4</th>\n",
       "      <td>1.0</td>\n",
       "      <td>2.0</td>\n",
       "      <td>3.0</td>\n",
       "    </tr>\n",
       "    <tr>\n",
       "      <th>3</th>\n",
       "      <td>1.0</td>\n",
       "      <td>6.0</td>\n",
       "      <td>NaN</td>\n",
       "    </tr>\n",
       "    <tr>\n",
       "      <th>3</th>\n",
       "      <td>1.0</td>\n",
       "      <td>6.0</td>\n",
       "      <td>NaN</td>\n",
       "    </tr>\n",
       "    <tr>\n",
       "      <th>4</th>\n",
       "      <td>1.0</td>\n",
       "      <td>2.0</td>\n",
       "      <td>3.0</td>\n",
       "    </tr>\n",
       "    <tr>\n",
       "      <th>3</th>\n",
       "      <td>1.0</td>\n",
       "      <td>6.0</td>\n",
       "      <td>NaN</td>\n",
       "    </tr>\n",
       "    <tr>\n",
       "      <th>1</th>\n",
       "      <td>NaN</td>\n",
       "      <td>4.0</td>\n",
       "      <td>NaN</td>\n",
       "    </tr>\n",
       "    <tr>\n",
       "      <th>1</th>\n",
       "      <td>NaN</td>\n",
       "      <td>4.0</td>\n",
       "      <td>NaN</td>\n",
       "    </tr>\n",
       "  </tbody>\n",
       "</table>\n",
       "</div>"
      ],
      "text/plain": [
       "   columnaA  columnaB  columnaC\n",
       "4       1.0       2.0       3.0\n",
       "4       1.0       2.0       3.0\n",
       "3       1.0       6.0       NaN\n",
       "3       1.0       6.0       NaN\n",
       "1       NaN       4.0       NaN\n",
       "4       1.0       2.0       3.0\n",
       "1       NaN       4.0       NaN\n",
       "1       NaN       4.0       NaN\n",
       "0       1.0       2.0       3.0\n",
       "4       1.0       2.0       3.0\n",
       "1       NaN       4.0       NaN\n",
       "0       1.0       2.0       3.0\n",
       "0       1.0       2.0       3.0\n",
       "4       1.0       2.0       3.0\n",
       "3       1.0       6.0       NaN\n",
       "3       1.0       6.0       NaN\n",
       "4       1.0       2.0       3.0\n",
       "3       1.0       6.0       NaN\n",
       "1       NaN       4.0       NaN\n",
       "1       NaN       4.0       NaN"
      ]
     },
     "execution_count": 38,
     "metadata": {},
     "output_type": "execute_result"
    }
   ],
   "source": [
    "#Devuelve un dataframe con 20 filas del original.\n",
    "#Añadimos replace=True para que permita repeticiones\n",
    "df_pruebas.sample(n=20, replace=True)"
   ]
  },
  {
   "cell_type": "markdown",
   "id": "9534971a-b118-4624-89f9-07b32393ff36",
   "metadata": {
    "tags": []
   },
   "source": [
    "## Supresión de columnas no representativas"
   ]
  },
  {
   "cell_type": "code",
   "execution_count": 50,
   "id": "edb304c7-c4cb-45a7-a20f-fe329de84ee0",
   "metadata": {},
   "outputs": [
    {
     "data": {
      "text/html": [
       "<div>\n",
       "<style scoped>\n",
       "    .dataframe tbody tr th:only-of-type {\n",
       "        vertical-align: middle;\n",
       "    }\n",
       "\n",
       "    .dataframe tbody tr th {\n",
       "        vertical-align: top;\n",
       "    }\n",
       "\n",
       "    .dataframe thead th {\n",
       "        text-align: right;\n",
       "    }\n",
       "</style>\n",
       "<table border=\"1\" class=\"dataframe\">\n",
       "  <thead>\n",
       "    <tr style=\"text-align: right;\">\n",
       "      <th></th>\n",
       "      <th>Importe</th>\n",
       "      <th>Sexo</th>\n",
       "      <th>País</th>\n",
       "    </tr>\n",
       "  </thead>\n",
       "  <tbody>\n",
       "    <tr>\n",
       "      <th>0</th>\n",
       "      <td>567.87</td>\n",
       "      <td>Hombre</td>\n",
       "      <td>España</td>\n",
       "    </tr>\n",
       "    <tr>\n",
       "      <th>1</th>\n",
       "      <td>12.00</td>\n",
       "      <td>Mujer</td>\n",
       "      <td>Francia</td>\n",
       "    </tr>\n",
       "    <tr>\n",
       "      <th>2</th>\n",
       "      <td>29.56</td>\n",
       "      <td>Mujer</td>\n",
       "      <td>Alemania</td>\n",
       "    </tr>\n",
       "    <tr>\n",
       "      <th>3</th>\n",
       "      <td>1001.54</td>\n",
       "      <td>Mujer</td>\n",
       "      <td>Alemania</td>\n",
       "    </tr>\n",
       "    <tr>\n",
       "      <th>4</th>\n",
       "      <td>1.00</td>\n",
       "      <td>Hombre</td>\n",
       "      <td>España</td>\n",
       "    </tr>\n",
       "  </tbody>\n",
       "</table>\n",
       "</div>"
      ],
      "text/plain": [
       "   Importe    Sexo      País\n",
       "0   567.87  Hombre    España\n",
       "1    12.00   Mujer   Francia\n",
       "2    29.56   Mujer  Alemania\n",
       "3  1001.54   Mujer  Alemania\n",
       "4     1.00  Hombre    España"
      ]
     },
     "execution_count": 50,
     "metadata": {},
     "output_type": "execute_result"
    }
   ],
   "source": [
    "\n",
    "#Creamos el dataframe con el que probaremos los distintos métodos\n",
    "df_pruebas = pd.DataFrame({\n",
    "    'Importe': [567.87, 12.0, 29.56, 1001.54, 1],\n",
    "    'Sexo': ['Hombre', 'Mujer', 'Mujer', 'Mujer', 'Hombre'], \n",
    "    'País': ['España', 'Francia' , 'Alemania', 'Alemania', 'España']\n",
    "})\n",
    "df_pruebas\n"
   ]
  },
  {
   "cell_type": "code",
   "execution_count": 51,
   "id": "27effbc1-3bd8-436b-9828-ecf5acddfcc3",
   "metadata": {},
   "outputs": [
    {
     "data": {
      "text/html": [
       "<div>\n",
       "<style scoped>\n",
       "    .dataframe tbody tr th:only-of-type {\n",
       "        vertical-align: middle;\n",
       "    }\n",
       "\n",
       "    .dataframe tbody tr th {\n",
       "        vertical-align: top;\n",
       "    }\n",
       "\n",
       "    .dataframe thead th {\n",
       "        text-align: right;\n",
       "    }\n",
       "</style>\n",
       "<table border=\"1\" class=\"dataframe\">\n",
       "  <thead>\n",
       "    <tr style=\"text-align: right;\">\n",
       "      <th></th>\n",
       "      <th>Importe</th>\n",
       "      <th>Sexo</th>\n",
       "      <th>País</th>\n",
       "      <th>IVA</th>\n",
       "    </tr>\n",
       "  </thead>\n",
       "  <tbody>\n",
       "    <tr>\n",
       "      <th>0</th>\n",
       "      <td>567.87</td>\n",
       "      <td>Hombre</td>\n",
       "      <td>España</td>\n",
       "      <td>119.2527</td>\n",
       "    </tr>\n",
       "    <tr>\n",
       "      <th>1</th>\n",
       "      <td>12.00</td>\n",
       "      <td>Mujer</td>\n",
       "      <td>Francia</td>\n",
       "      <td>2.5200</td>\n",
       "    </tr>\n",
       "    <tr>\n",
       "      <th>2</th>\n",
       "      <td>29.56</td>\n",
       "      <td>Mujer</td>\n",
       "      <td>Alemania</td>\n",
       "      <td>6.2076</td>\n",
       "    </tr>\n",
       "    <tr>\n",
       "      <th>3</th>\n",
       "      <td>1001.54</td>\n",
       "      <td>Mujer</td>\n",
       "      <td>Alemania</td>\n",
       "      <td>210.3234</td>\n",
       "    </tr>\n",
       "    <tr>\n",
       "      <th>4</th>\n",
       "      <td>1.00</td>\n",
       "      <td>Hombre</td>\n",
       "      <td>España</td>\n",
       "      <td>0.2100</td>\n",
       "    </tr>\n",
       "  </tbody>\n",
       "</table>\n",
       "</div>"
      ],
      "text/plain": [
       "   Importe    Sexo      País       IVA\n",
       "0   567.87  Hombre    España  119.2527\n",
       "1    12.00   Mujer   Francia    2.5200\n",
       "2    29.56   Mujer  Alemania    6.2076\n",
       "3  1001.54   Mujer  Alemania  210.3234\n",
       "4     1.00  Hombre    España    0.2100"
      ]
     },
     "execution_count": 51,
     "metadata": {},
     "output_type": "execute_result"
    }
   ],
   "source": [
    "\n",
    "#Agregamos una columna \"columnaD\", que tiene valores que son el doble de la \"columnaA\"\n",
    "df_pruebas['IVA'] = df_pruebas['Importe']*0.21\n",
    "df_pruebas"
   ]
  },
  {
   "cell_type": "code",
   "execution_count": 52,
   "id": "5a860b0e-c455-4b07-b627-664e9e5d51c1",
   "metadata": {},
   "outputs": [
    {
     "data": {
      "text/html": [
       "<div>\n",
       "<style scoped>\n",
       "    .dataframe tbody tr th:only-of-type {\n",
       "        vertical-align: middle;\n",
       "    }\n",
       "\n",
       "    .dataframe tbody tr th {\n",
       "        vertical-align: top;\n",
       "    }\n",
       "\n",
       "    .dataframe thead th {\n",
       "        text-align: right;\n",
       "    }\n",
       "</style>\n",
       "<table border=\"1\" class=\"dataframe\">\n",
       "  <thead>\n",
       "    <tr style=\"text-align: right;\">\n",
       "      <th></th>\n",
       "      <th>Importe</th>\n",
       "      <th>IVA</th>\n",
       "    </tr>\n",
       "  </thead>\n",
       "  <tbody>\n",
       "    <tr>\n",
       "      <th>Importe</th>\n",
       "      <td>1.0</td>\n",
       "      <td>1.0</td>\n",
       "    </tr>\n",
       "    <tr>\n",
       "      <th>IVA</th>\n",
       "      <td>1.0</td>\n",
       "      <td>1.0</td>\n",
       "    </tr>\n",
       "  </tbody>\n",
       "</table>\n",
       "</div>"
      ],
      "text/plain": [
       "         Importe  IVA\n",
       "Importe      1.0  1.0\n",
       "IVA          1.0  1.0"
      ]
     },
     "execution_count": 52,
     "metadata": {},
     "output_type": "execute_result"
    }
   ],
   "source": [
    "#Estudiamos la correlación\n",
    "df_pruebas.corr(numeric_only=True)"
   ]
  },
  {
   "cell_type": "code",
   "execution_count": 53,
   "id": "6dc04605-e360-4959-8ea9-a3081cadfb2d",
   "metadata": {},
   "outputs": [
    {
     "data": {
      "text/html": [
       "<div>\n",
       "<style scoped>\n",
       "    .dataframe tbody tr th:only-of-type {\n",
       "        vertical-align: middle;\n",
       "    }\n",
       "\n",
       "    .dataframe tbody tr th {\n",
       "        vertical-align: top;\n",
       "    }\n",
       "\n",
       "    .dataframe thead th {\n",
       "        text-align: right;\n",
       "    }\n",
       "</style>\n",
       "<table border=\"1\" class=\"dataframe\">\n",
       "  <thead>\n",
       "    <tr style=\"text-align: right;\">\n",
       "      <th></th>\n",
       "      <th>Importe</th>\n",
       "      <th>Sexo</th>\n",
       "      <th>País</th>\n",
       "    </tr>\n",
       "  </thead>\n",
       "  <tbody>\n",
       "    <tr>\n",
       "      <th>0</th>\n",
       "      <td>567.87</td>\n",
       "      <td>Hombre</td>\n",
       "      <td>España</td>\n",
       "    </tr>\n",
       "    <tr>\n",
       "      <th>1</th>\n",
       "      <td>12.00</td>\n",
       "      <td>Mujer</td>\n",
       "      <td>Francia</td>\n",
       "    </tr>\n",
       "    <tr>\n",
       "      <th>2</th>\n",
       "      <td>29.56</td>\n",
       "      <td>Mujer</td>\n",
       "      <td>Alemania</td>\n",
       "    </tr>\n",
       "    <tr>\n",
       "      <th>3</th>\n",
       "      <td>1001.54</td>\n",
       "      <td>Mujer</td>\n",
       "      <td>Alemania</td>\n",
       "    </tr>\n",
       "    <tr>\n",
       "      <th>4</th>\n",
       "      <td>1.00</td>\n",
       "      <td>Hombre</td>\n",
       "      <td>España</td>\n",
       "    </tr>\n",
       "  </tbody>\n",
       "</table>\n",
       "</div>"
      ],
      "text/plain": [
       "   Importe    Sexo      País\n",
       "0   567.87  Hombre    España\n",
       "1    12.00   Mujer   Francia\n",
       "2    29.56   Mujer  Alemania\n",
       "3  1001.54   Mujer  Alemania\n",
       "4     1.00  Hombre    España"
      ]
     },
     "execution_count": 53,
     "metadata": {},
     "output_type": "execute_result"
    }
   ],
   "source": [
    "#La columna IVA tiene dependencia total de la columna Importe\n",
    "# Como no nos da más información, la eliminamos\n",
    "df_pruebas.drop(['IVA'], axis=1, inplace=True)\n",
    "df_pruebas"
   ]
  },
  {
   "cell_type": "markdown",
   "id": "2b046bef-dc98-4e83-9e5e-a71ccb4dbc45",
   "metadata": {
    "tags": []
   },
   "source": [
    "## Datos categóricos"
   ]
  },
  {
   "cell_type": "markdown",
   "id": "64691254-452f-427b-809b-5f3e89cc8f9f",
   "metadata": {
    "tags": []
   },
   "source": [
    "### Label encoding"
   ]
  },
  {
   "cell_type": "code",
   "execution_count": 54,
   "id": "f31f4d06-dc38-4dcd-b00a-7c1d0e683693",
   "metadata": {},
   "outputs": [
    {
     "name": "stdout",
     "output_type": "stream",
     "text": [
      "<class 'pandas.core.frame.DataFrame'>\n",
      "RangeIndex: 5 entries, 0 to 4\n",
      "Data columns (total 3 columns):\n",
      " #   Column   Non-Null Count  Dtype   \n",
      "---  ------   --------------  -----   \n",
      " 0   Importe  5 non-null      float64 \n",
      " 1   Sexo     5 non-null      category\n",
      " 2   País     5 non-null      object  \n",
      "dtypes: category(1), float64(1), object(1)\n",
      "memory usage: 341.0+ bytes\n",
      "None\n",
      "-------------------------------------\n"
     ]
    },
    {
     "data": {
      "text/html": [
       "<div>\n",
       "<style scoped>\n",
       "    .dataframe tbody tr th:only-of-type {\n",
       "        vertical-align: middle;\n",
       "    }\n",
       "\n",
       "    .dataframe tbody tr th {\n",
       "        vertical-align: top;\n",
       "    }\n",
       "\n",
       "    .dataframe thead th {\n",
       "        text-align: right;\n",
       "    }\n",
       "</style>\n",
       "<table border=\"1\" class=\"dataframe\">\n",
       "  <thead>\n",
       "    <tr style=\"text-align: right;\">\n",
       "      <th></th>\n",
       "      <th>Importe</th>\n",
       "      <th>Sexo</th>\n",
       "      <th>País</th>\n",
       "    </tr>\n",
       "  </thead>\n",
       "  <tbody>\n",
       "    <tr>\n",
       "      <th>0</th>\n",
       "      <td>567.87</td>\n",
       "      <td>0</td>\n",
       "      <td>España</td>\n",
       "    </tr>\n",
       "    <tr>\n",
       "      <th>1</th>\n",
       "      <td>12.00</td>\n",
       "      <td>1</td>\n",
       "      <td>Francia</td>\n",
       "    </tr>\n",
       "    <tr>\n",
       "      <th>2</th>\n",
       "      <td>29.56</td>\n",
       "      <td>1</td>\n",
       "      <td>Alemania</td>\n",
       "    </tr>\n",
       "    <tr>\n",
       "      <th>3</th>\n",
       "      <td>1001.54</td>\n",
       "      <td>1</td>\n",
       "      <td>Alemania</td>\n",
       "    </tr>\n",
       "    <tr>\n",
       "      <th>4</th>\n",
       "      <td>1.00</td>\n",
       "      <td>0</td>\n",
       "      <td>España</td>\n",
       "    </tr>\n",
       "  </tbody>\n",
       "</table>\n",
       "</div>"
      ],
      "text/plain": [
       "   Importe  Sexo      País\n",
       "0   567.87     0    España\n",
       "1    12.00     1   Francia\n",
       "2    29.56     1  Alemania\n",
       "3  1001.54     1  Alemania\n",
       "4     1.00     0    España"
      ]
     },
     "execution_count": 54,
     "metadata": {},
     "output_type": "execute_result"
    }
   ],
   "source": [
    "#Partimos del dataframe df_pruebas\n",
    "\n",
    "#La columna Sexo es de tipo Object, debemos modificarla para que sea de tipo Category\n",
    "df_pruebas['Sexo'] = df_pruebas['Sexo'].astype('category')\n",
    "print(df_pruebas.info())\n",
    "\n",
    "print(\"-------------------------------------\")\n",
    "\n",
    "#Sustituimos el texto por la categoría numérica\n",
    "df_pruebas['Sexo'] = df_pruebas['Sexo'].cat.codes\n",
    "df_pruebas\n"
   ]
  },
  {
   "cell_type": "code",
   "execution_count": 55,
   "id": "79420cfa-ba09-4d2f-bf9b-8fb0f5f0970f",
   "metadata": {},
   "outputs": [
    {
     "data": {
      "text/html": [
       "<div>\n",
       "<style scoped>\n",
       "    .dataframe tbody tr th:only-of-type {\n",
       "        vertical-align: middle;\n",
       "    }\n",
       "\n",
       "    .dataframe tbody tr th {\n",
       "        vertical-align: top;\n",
       "    }\n",
       "\n",
       "    .dataframe thead th {\n",
       "        text-align: right;\n",
       "    }\n",
       "</style>\n",
       "<table border=\"1\" class=\"dataframe\">\n",
       "  <thead>\n",
       "    <tr style=\"text-align: right;\">\n",
       "      <th></th>\n",
       "      <th>Importe</th>\n",
       "      <th>Sexo</th>\n",
       "      <th>País</th>\n",
       "    </tr>\n",
       "  </thead>\n",
       "  <tbody>\n",
       "    <tr>\n",
       "      <th>0</th>\n",
       "      <td>567.87</td>\n",
       "      <td>0</td>\n",
       "      <td>España</td>\n",
       "    </tr>\n",
       "    <tr>\n",
       "      <th>1</th>\n",
       "      <td>12.00</td>\n",
       "      <td>1</td>\n",
       "      <td>Francia</td>\n",
       "    </tr>\n",
       "    <tr>\n",
       "      <th>2</th>\n",
       "      <td>29.56</td>\n",
       "      <td>1</td>\n",
       "      <td>Alemania</td>\n",
       "    </tr>\n",
       "    <tr>\n",
       "      <th>3</th>\n",
       "      <td>1001.54</td>\n",
       "      <td>1</td>\n",
       "      <td>Alemania</td>\n",
       "    </tr>\n",
       "    <tr>\n",
       "      <th>4</th>\n",
       "      <td>1.00</td>\n",
       "      <td>0</td>\n",
       "      <td>España</td>\n",
       "    </tr>\n",
       "  </tbody>\n",
       "</table>\n",
       "</div>"
      ],
      "text/plain": [
       "   Importe  Sexo      País\n",
       "0   567.87     0    España\n",
       "1    12.00     1   Francia\n",
       "2    29.56     1  Alemania\n",
       "3  1001.54     1  Alemania\n",
       "4     1.00     0    España"
      ]
     },
     "execution_count": 55,
     "metadata": {},
     "output_type": "execute_result"
    }
   ],
   "source": [
    "#Método alternativo con scikit-learn\n",
    "from sklearn.preprocessing import LabelEncoder\n",
    "\n",
    "\n",
    "#Volvemos a cargar nuestro dataframe de pruebas con los datos categóricos\n",
    "df_pruebas = pd.DataFrame({\n",
    "    'Importe': [567.87, 12.0, 29.56, 1001.54, 1],\n",
    "    'Sexo': ['Hombre', 'Mujer', 'Mujer', 'Mujer', 'Hombre'], \n",
    "    'País': ['España', 'Francia' , 'Alemania', 'Alemania', 'España']\n",
    "})\n",
    "\n",
    "#Creamos una instancia de la clase\n",
    "labelencoder = LabelEncoder()\n",
    "\n",
    "#Realizamos la codificación\n",
    "df_pruebas['Sexo'] = labelencoder.fit_transform(df_pruebas['Sexo'])\n",
    "\n",
    "df_pruebas"
   ]
  },
  {
   "cell_type": "markdown",
   "id": "7e5eaa1c-6948-4969-9a68-4f380e0a74d2",
   "metadata": {
    "tags": []
   },
   "source": [
    "### One hot encoding"
   ]
  },
  {
   "cell_type": "code",
   "execution_count": 56,
   "id": "775e2f5e-0a50-4e69-8c60-9d196188fb4c",
   "metadata": {},
   "outputs": [
    {
     "data": {
      "text/html": [
       "<div>\n",
       "<style scoped>\n",
       "    .dataframe tbody tr th:only-of-type {\n",
       "        vertical-align: middle;\n",
       "    }\n",
       "\n",
       "    .dataframe tbody tr th {\n",
       "        vertical-align: top;\n",
       "    }\n",
       "\n",
       "    .dataframe thead th {\n",
       "        text-align: right;\n",
       "    }\n",
       "</style>\n",
       "<table border=\"1\" class=\"dataframe\">\n",
       "  <thead>\n",
       "    <tr style=\"text-align: right;\">\n",
       "      <th></th>\n",
       "      <th>Importe</th>\n",
       "      <th>Sexo</th>\n",
       "      <th>País_Alemania</th>\n",
       "      <th>País_España</th>\n",
       "      <th>País_Francia</th>\n",
       "    </tr>\n",
       "  </thead>\n",
       "  <tbody>\n",
       "    <tr>\n",
       "      <th>0</th>\n",
       "      <td>567.87</td>\n",
       "      <td>0</td>\n",
       "      <td>False</td>\n",
       "      <td>True</td>\n",
       "      <td>False</td>\n",
       "    </tr>\n",
       "    <tr>\n",
       "      <th>1</th>\n",
       "      <td>12.00</td>\n",
       "      <td>1</td>\n",
       "      <td>False</td>\n",
       "      <td>False</td>\n",
       "      <td>True</td>\n",
       "    </tr>\n",
       "    <tr>\n",
       "      <th>2</th>\n",
       "      <td>29.56</td>\n",
       "      <td>1</td>\n",
       "      <td>True</td>\n",
       "      <td>False</td>\n",
       "      <td>False</td>\n",
       "    </tr>\n",
       "    <tr>\n",
       "      <th>3</th>\n",
       "      <td>1001.54</td>\n",
       "      <td>1</td>\n",
       "      <td>True</td>\n",
       "      <td>False</td>\n",
       "      <td>False</td>\n",
       "    </tr>\n",
       "    <tr>\n",
       "      <th>4</th>\n",
       "      <td>1.00</td>\n",
       "      <td>0</td>\n",
       "      <td>False</td>\n",
       "      <td>True</td>\n",
       "      <td>False</td>\n",
       "    </tr>\n",
       "  </tbody>\n",
       "</table>\n",
       "</div>"
      ],
      "text/plain": [
       "   Importe  Sexo  País_Alemania  País_España  País_Francia\n",
       "0   567.87     0          False         True         False\n",
       "1    12.00     1          False        False          True\n",
       "2    29.56     1           True        False         False\n",
       "3  1001.54     1           True        False         False\n",
       "4     1.00     0          False         True         False"
      ]
     },
     "execution_count": 56,
     "metadata": {},
     "output_type": "execute_result"
    }
   ],
   "source": [
    "#Modificamos el dataframe sustituyendo categórico País por dummies\n",
    "df_pruebas = pd.get_dummies(df_pruebas, columns=['País'], prefix=\"País\")\n",
    "df_pruebas"
   ]
  },
  {
   "cell_type": "code",
   "execution_count": 57,
   "id": "da7c4a87-0cd0-441d-bae7-9cc3842db42b",
   "metadata": {},
   "outputs": [
    {
     "data": {
      "text/html": [
       "<div>\n",
       "<style scoped>\n",
       "    .dataframe tbody tr th:only-of-type {\n",
       "        vertical-align: middle;\n",
       "    }\n",
       "\n",
       "    .dataframe tbody tr th {\n",
       "        vertical-align: top;\n",
       "    }\n",
       "\n",
       "    .dataframe thead th {\n",
       "        text-align: right;\n",
       "    }\n",
       "</style>\n",
       "<table border=\"1\" class=\"dataframe\">\n",
       "  <thead>\n",
       "    <tr style=\"text-align: right;\">\n",
       "      <th></th>\n",
       "      <th>Importe</th>\n",
       "      <th>Sexo</th>\n",
       "      <th>País_Alemania</th>\n",
       "      <th>País_España</th>\n",
       "    </tr>\n",
       "  </thead>\n",
       "  <tbody>\n",
       "    <tr>\n",
       "      <th>0</th>\n",
       "      <td>567.87</td>\n",
       "      <td>0</td>\n",
       "      <td>False</td>\n",
       "      <td>True</td>\n",
       "    </tr>\n",
       "    <tr>\n",
       "      <th>1</th>\n",
       "      <td>12.00</td>\n",
       "      <td>1</td>\n",
       "      <td>False</td>\n",
       "      <td>False</td>\n",
       "    </tr>\n",
       "    <tr>\n",
       "      <th>2</th>\n",
       "      <td>29.56</td>\n",
       "      <td>1</td>\n",
       "      <td>True</td>\n",
       "      <td>False</td>\n",
       "    </tr>\n",
       "    <tr>\n",
       "      <th>3</th>\n",
       "      <td>1001.54</td>\n",
       "      <td>1</td>\n",
       "      <td>True</td>\n",
       "      <td>False</td>\n",
       "    </tr>\n",
       "    <tr>\n",
       "      <th>4</th>\n",
       "      <td>1.00</td>\n",
       "      <td>0</td>\n",
       "      <td>False</td>\n",
       "      <td>True</td>\n",
       "    </tr>\n",
       "  </tbody>\n",
       "</table>\n",
       "</div>"
      ],
      "text/plain": [
       "   Importe  Sexo  País_Alemania  País_España\n",
       "0   567.87     0          False         True\n",
       "1    12.00     1          False        False\n",
       "2    29.56     1           True        False\n",
       "3  1001.54     1           True        False\n",
       "4     1.00     0          False         True"
      ]
     },
     "execution_count": 57,
     "metadata": {},
     "output_type": "execute_result"
    }
   ],
   "source": [
    "#Eliminamos la tercera columna generada\n",
    "df_pruebas.drop(['País_Francia'], axis=1, inplace=True)\n",
    "df_pruebas"
   ]
  },
  {
   "cell_type": "code",
   "execution_count": 58,
   "id": "947f1e42-61a8-47ea-8f60-301ae794612a",
   "metadata": {},
   "outputs": [
    {
     "data": {
      "text/html": [
       "<div>\n",
       "<style scoped>\n",
       "    .dataframe tbody tr th:only-of-type {\n",
       "        vertical-align: middle;\n",
       "    }\n",
       "\n",
       "    .dataframe tbody tr th {\n",
       "        vertical-align: top;\n",
       "    }\n",
       "\n",
       "    .dataframe thead th {\n",
       "        text-align: right;\n",
       "    }\n",
       "</style>\n",
       "<table border=\"1\" class=\"dataframe\">\n",
       "  <thead>\n",
       "    <tr style=\"text-align: right;\">\n",
       "      <th></th>\n",
       "      <th>Importe</th>\n",
       "      <th>Sexo</th>\n",
       "      <th>País_Alemania</th>\n",
       "      <th>País_España</th>\n",
       "    </tr>\n",
       "  </thead>\n",
       "  <tbody>\n",
       "    <tr>\n",
       "      <th>0</th>\n",
       "      <td>567.87</td>\n",
       "      <td>0</td>\n",
       "      <td>0.0</td>\n",
       "      <td>1.0</td>\n",
       "    </tr>\n",
       "    <tr>\n",
       "      <th>1</th>\n",
       "      <td>12.00</td>\n",
       "      <td>1</td>\n",
       "      <td>0.0</td>\n",
       "      <td>0.0</td>\n",
       "    </tr>\n",
       "    <tr>\n",
       "      <th>2</th>\n",
       "      <td>29.56</td>\n",
       "      <td>1</td>\n",
       "      <td>1.0</td>\n",
       "      <td>0.0</td>\n",
       "    </tr>\n",
       "    <tr>\n",
       "      <th>3</th>\n",
       "      <td>1001.54</td>\n",
       "      <td>1</td>\n",
       "      <td>1.0</td>\n",
       "      <td>0.0</td>\n",
       "    </tr>\n",
       "    <tr>\n",
       "      <th>4</th>\n",
       "      <td>1.00</td>\n",
       "      <td>0</td>\n",
       "      <td>0.0</td>\n",
       "      <td>1.0</td>\n",
       "    </tr>\n",
       "  </tbody>\n",
       "</table>\n",
       "</div>"
      ],
      "text/plain": [
       "   Importe  Sexo  País_Alemania  País_España\n",
       "0   567.87     0            0.0          1.0\n",
       "1    12.00     1            0.0          0.0\n",
       "2    29.56     1            1.0          0.0\n",
       "3  1001.54     1            1.0          0.0\n",
       "4     1.00     0            0.0          1.0"
      ]
     },
     "execution_count": 58,
     "metadata": {},
     "output_type": "execute_result"
    }
   ],
   "source": [
    "#Método alternativo con scikit-learn\n",
    "from sklearn.preprocessing import OneHotEncoder\n",
    "\n",
    "#Cargamos el dataframe de pruebas original y transformamos la columna \"Sexo\"\n",
    "df_pruebas = pd.DataFrame({\n",
    "    'Importe': [567.87, 12.0, 29.56, 1001.54, 1],\n",
    "    'Sexo': ['Hombre', 'Mujer', 'Mujer', 'Mujer', 'Hombre'], \n",
    "    'País': ['España', 'Francia' , 'Alemania', 'Alemania', 'España']\n",
    "})\n",
    "df_pruebas['Sexo'] = df_pruebas['Sexo'].astype('category')\n",
    "df_pruebas['Sexo'] = df_pruebas['Sexo'].cat.codes\n",
    "\n",
    "#Creamos una instancia de la clase\n",
    "ohe = OneHotEncoder(handle_unknown='ignore')\n",
    "\n",
    "#Realizamos la codificación. Crea 3 columnas\n",
    "categoria_codif = pd.DataFrame(ohe.fit_transform(df_pruebas[['País']]).toarray())\n",
    "\n",
    "#Unimos las nuevas columnas con el resto del dataframe\n",
    "df_pruebas = df_pruebas.join(categoria_codif)\n",
    "\n",
    "#Renombramos las nuevas columnas generadas\n",
    "df_pruebas.rename(columns = {0: 'País_Alemania',1: 'País_España', 2: 'País_Francia'}, inplace=True)\n",
    "\n",
    "#ELiminamos las columnas con información redundante\n",
    "df_pruebas.drop(['País', 'País_Francia'], axis=1, inplace=True)\n",
    "\n",
    "#Mostramos resultado\n",
    "df_pruebas"
   ]
  },
  {
   "cell_type": "markdown",
   "id": "84d1947c-488c-4300-a4ba-72424f03e514",
   "metadata": {
    "tags": []
   },
   "source": [
    "## Normalización"
   ]
  },
  {
   "cell_type": "code",
   "execution_count": 60,
   "id": "ef92f39e-efb2-40ff-b5b6-2505e7353b92",
   "metadata": {},
   "outputs": [
    {
     "data": {
      "text/html": [
       "<div>\n",
       "<style scoped>\n",
       "    .dataframe tbody tr th:only-of-type {\n",
       "        vertical-align: middle;\n",
       "    }\n",
       "\n",
       "    .dataframe tbody tr th {\n",
       "        vertical-align: top;\n",
       "    }\n",
       "\n",
       "    .dataframe thead th {\n",
       "        text-align: right;\n",
       "    }\n",
       "</style>\n",
       "<table border=\"1\" class=\"dataframe\">\n",
       "  <thead>\n",
       "    <tr style=\"text-align: right;\">\n",
       "      <th></th>\n",
       "      <th>Importe</th>\n",
       "      <th>Sexo</th>\n",
       "      <th>País_Alemania</th>\n",
       "      <th>País_España</th>\n",
       "    </tr>\n",
       "  </thead>\n",
       "  <tbody>\n",
       "    <tr>\n",
       "      <th>0</th>\n",
       "      <td>0.566564</td>\n",
       "      <td>0.0</td>\n",
       "      <td>0.0</td>\n",
       "      <td>1.0</td>\n",
       "    </tr>\n",
       "    <tr>\n",
       "      <th>1</th>\n",
       "      <td>0.010994</td>\n",
       "      <td>1.0</td>\n",
       "      <td>0.0</td>\n",
       "      <td>0.0</td>\n",
       "    </tr>\n",
       "    <tr>\n",
       "      <th>2</th>\n",
       "      <td>0.028545</td>\n",
       "      <td>1.0</td>\n",
       "      <td>1.0</td>\n",
       "      <td>0.0</td>\n",
       "    </tr>\n",
       "    <tr>\n",
       "      <th>3</th>\n",
       "      <td>1.000000</td>\n",
       "      <td>1.0</td>\n",
       "      <td>1.0</td>\n",
       "      <td>0.0</td>\n",
       "    </tr>\n",
       "    <tr>\n",
       "      <th>4</th>\n",
       "      <td>0.000000</td>\n",
       "      <td>0.0</td>\n",
       "      <td>0.0</td>\n",
       "      <td>1.0</td>\n",
       "    </tr>\n",
       "  </tbody>\n",
       "</table>\n",
       "</div>"
      ],
      "text/plain": [
       "    Importe  Sexo  País_Alemania  País_España\n",
       "0  0.566564   0.0            0.0          1.0\n",
       "1  0.010994   1.0            0.0          0.0\n",
       "2  0.028545   1.0            1.0          0.0\n",
       "3  1.000000   1.0            1.0          0.0\n",
       "4  0.000000   0.0            0.0          1.0"
      ]
     },
     "execution_count": 60,
     "metadata": {},
     "output_type": "execute_result"
    }
   ],
   "source": [
    "#OPCIÓN 1: Primero lo hacemos solo con Pandas\n",
    "df_normalizado = (df_pruebas-df_pruebas.min())/(df_pruebas.max()-df_pruebas.min())\n",
    "df_normalizado\n"
   ]
  },
  {
   "cell_type": "code",
   "execution_count": null,
   "id": "c9e17d19-2aeb-49a8-9140-22a3ccaf5a56",
   "metadata": {},
   "outputs": [],
   "source": [
    "#OPCIÓN 2: Mediante scikit-learn\n",
    "from sklearn.preprocessing import MinMaxScaler\n",
    "\n",
    "#Creamos instancia del normalizador\n",
    "min_max_scaler = MinMaxScaler()\n",
    "\n",
    "#Generamos array con valores escalados según el normalizador\n",
    "arrayEscalado = min_max_scaler.fit_transform(df_pruebas)\n",
    "\n",
    "#Construimos dataframe en base al array\n",
    "df_normalizado =  pd.DataFrame(arrayEscalado)\n",
    "\n",
    "#Mostramos el resultado. Fíjate que no conserva nombre de índices/columnas.\n",
    "df_normalizado\n"
   ]
  },
  {
   "cell_type": "markdown",
   "id": "4ace49d9-aeb2-4e0d-9f8f-2e0533b11d4b",
   "metadata": {
    "tags": []
   },
   "source": [
    "# Carga de los datos desde la hoja de cálculo"
   ]
  },
  {
   "cell_type": "code",
   "execution_count": null,
   "id": "9804a5ee-1fe0-4f51-a27c-cac8d7f09e09",
   "metadata": {},
   "outputs": [],
   "source": [
    "import numpy as np\n",
    "import pandas as pd\n",
    "## PUEDE QUE NECESITEMOS INSTALAR ODFPY para archivos odf de Libreoffice\n",
    "#Abrimos el libro\n",
    "libro = pd.ExcelFile('RegistroComprasOnline.ods')\n",
    "#Cargamos las hojas\n",
    "df_compras = pd.read_excel(libro, 'Compras', engine='odf', index_col='IDCliente')\n",
    "df_clientes = pd.read_excel(libro, 'Clientes existentes', engine='odf', index_col='IDCliente')"
   ]
  },
  {
   "cell_type": "code",
   "execution_count": null,
   "id": "21cd5323-677a-4b72-b977-e6a13bc1aa21",
   "metadata": {},
   "outputs": [],
   "source": [
    "#Verificamos los datos existentes\n",
    "df_compras.info()"
   ]
  },
  {
   "cell_type": "code",
   "execution_count": null,
   "id": "28ab2501-782a-431a-889f-97a6c6940e87",
   "metadata": {},
   "outputs": [],
   "source": [
    "df_clientes.info()"
   ]
  },
  {
   "cell_type": "markdown",
   "id": "054bde15-ee93-4580-8df6-1f5b02ea73bb",
   "metadata": {
    "tags": []
   },
   "source": [
    "## Comprobación de duplicados"
   ]
  },
  {
   "cell_type": "code",
   "execution_count": null,
   "id": "75310dd7-98eb-4d80-8358-dfc6b0740589",
   "metadata": {},
   "outputs": [],
   "source": [
    "df_compras[df_compras.duplicated()]\n",
    "#Vemos que sí hay filas duplicadas en el dataframe de compras"
   ]
  },
  {
   "cell_type": "code",
   "execution_count": null,
   "id": "093c43c2-7c04-4ec2-b36b-30c52410ed61",
   "metadata": {},
   "outputs": [],
   "source": [
    "df_clientes[df_clientes.duplicated()]\n",
    "#Vemos que también hay filas duplicadas en el dataframe de clientes"
   ]
  },
  {
   "cell_type": "markdown",
   "id": "ec6f492d-8546-469c-bb15-986e3736fa19",
   "metadata": {
    "tags": []
   },
   "source": [
    "## Eliminación de filas duplicadas"
   ]
  },
  {
   "cell_type": "code",
   "execution_count": null,
   "id": "cd85fc9b-c3b1-43be-8ccc-543ae00a51e6",
   "metadata": {},
   "outputs": [],
   "source": [
    "df_compras.drop_duplicates(inplace=True)\n",
    "df_clientes.drop_duplicates(inplace=True)"
   ]
  },
  {
   "cell_type": "code",
   "execution_count": null,
   "id": "459ad8ef-6da8-48df-8989-6f4e20b6f0a5",
   "metadata": {},
   "outputs": [],
   "source": [
    "#Se puede comprobar que hemos eliminado 8 filas del dataframe de compras y 5 del de clientes\n",
    "print(df_compras.info())\n",
    "print(df_clientes.info())"
   ]
  },
  {
   "cell_type": "markdown",
   "id": "2a23729b-6dfd-4bdb-8ed6-1a3b336ab116",
   "metadata": {
    "tags": []
   },
   "source": [
    "## Comprobación y corrección de campos vacíos"
   ]
  },
  {
   "cell_type": "markdown",
   "id": "8e864b5a-f009-4969-a734-be95d5030e20",
   "metadata": {
    "tags": []
   },
   "source": [
    "### Importe compra"
   ]
  },
  {
   "cell_type": "code",
   "execution_count": null,
   "id": "970c071c-f557-4c09-bd00-7997f337eb0c",
   "metadata": {},
   "outputs": [],
   "source": [
    "#Obtenemos registros cuyo importe de compra sea nulo\n",
    "df_compras[df_compras['Importe compra'].isna()]"
   ]
  },
  {
   "cell_type": "code",
   "execution_count": null,
   "id": "47a75db0-8454-40c9-9fa2-806ea53e6b04",
   "metadata": {},
   "outputs": [],
   "source": [
    "#Eliminamos esos 3 registros\n",
    "df_compras.dropna(subset=['Importe compra'], inplace=True)"
   ]
  },
  {
   "cell_type": "markdown",
   "id": "905fa0ae-0726-4ce2-9807-0f583555d12e",
   "metadata": {
    "tags": []
   },
   "source": [
    "### Fecha compra"
   ]
  },
  {
   "cell_type": "code",
   "execution_count": null,
   "id": "a71578e5-e3b1-4f95-bf9b-7facc500b9d6",
   "metadata": {},
   "outputs": [],
   "source": [
    "df_compras[df_compras['Fecha compra'].isna()]"
   ]
  },
  {
   "cell_type": "code",
   "execution_count": null,
   "id": "7263e55f-600f-4f1e-a1ee-e56d1c5225bc",
   "metadata": {},
   "outputs": [],
   "source": [
    "#No hay ninguno"
   ]
  },
  {
   "cell_type": "markdown",
   "id": "2cf80f65-d77c-4943-9b85-a055390546d5",
   "metadata": {
    "tags": []
   },
   "source": [
    "### Categoría"
   ]
  },
  {
   "cell_type": "code",
   "execution_count": null,
   "id": "7d07fbfc-4302-42dc-824b-042539e67cd3",
   "metadata": {},
   "outputs": [],
   "source": [
    "df_compras[df_compras['Categoría'].isna()]"
   ]
  },
  {
   "cell_type": "code",
   "execution_count": null,
   "id": "bd3e758e-2de0-47da-9de4-a1683a889750",
   "metadata": {},
   "outputs": [],
   "source": [
    "#No hay ninguno"
   ]
  },
  {
   "cell_type": "markdown",
   "id": "601f9798-04db-4e20-b790-eefd56b50c16",
   "metadata": {
    "tags": []
   },
   "source": [
    "### Número de clicks"
   ]
  },
  {
   "cell_type": "code",
   "execution_count": null,
   "id": "431ddc98-ec14-4f9a-8f84-cd93120bd145",
   "metadata": {},
   "outputs": [],
   "source": [
    "df_compras[df_compras['Número de clicks'].isna()]"
   ]
  },
  {
   "cell_type": "code",
   "execution_count": null,
   "id": "13f8e70f-dc31-449f-9718-15f379b83167",
   "metadata": {},
   "outputs": [],
   "source": [
    "#Existen 5 registros. Almacenamos la media\n",
    "df_compras.fillna(\n",
    "    {'Número de clicks': df_compras['Número de clicks'].mean()}, \n",
    "    inplace=True\n",
    ")\n",
    "\n",
    "#Verificamos cómo han quedado esos 5 registros\n",
    "df_compras.loc[[6344, 3358, 9619, 2857, 3850]]\n",
    "#El cliente 3850 tiene otros dos registros que tenían informado el número de clicks"
   ]
  },
  {
   "cell_type": "markdown",
   "id": "dfa48531-be9f-4087-8a56-75f3dc0e1330",
   "metadata": {
    "tags": []
   },
   "source": [
    "### Fecha de nacimiento"
   ]
  },
  {
   "cell_type": "code",
   "execution_count": null,
   "id": "c70d571e-dba5-4c23-932e-e0bee2d28ff2",
   "metadata": {},
   "outputs": [],
   "source": [
    "df_compras[df_compras['Fecha de nacimiento'].isna()]"
   ]
  },
  {
   "cell_type": "code",
   "execution_count": null,
   "id": "9f7baf6c-47bd-4ad7-bff2-2b5fb67e0ea6",
   "metadata": {},
   "outputs": [],
   "source": [
    "#Existe un registro sin fecha\n",
    "#Pero vemos que el cliente 3850 tiene otros dos pedidos, y ahí sí tiene fecha.\n",
    "#Le ponemos esa fecha de nacimiento\n",
    "df_compras.fillna(\n",
    "    {'Fecha de nacimiento': '1996-05-17'}, \n",
    "    inplace=True\n",
    ")\n",
    "\n",
    "#Verificamos que los 3 registros del cliente han quedado con fecha\n",
    "df_compras.loc[[3850]]"
   ]
  },
  {
   "cell_type": "markdown",
   "id": "13b395e7-ff77-4c02-8c5b-104721a9bb9d",
   "metadata": {
    "tags": []
   },
   "source": [
    "### Código postal envío"
   ]
  },
  {
   "cell_type": "code",
   "execution_count": null,
   "id": "d6e59806-f238-4bf9-a01e-12d437f064fc",
   "metadata": {},
   "outputs": [],
   "source": [
    "df_compras[df_compras['Código postal envío'].isna()]"
   ]
  },
  {
   "cell_type": "code",
   "execution_count": null,
   "id": "4814aa6d-4942-4580-b580-0dc7e235a90a",
   "metadata": {},
   "outputs": [],
   "source": [
    "#No hay ninguno"
   ]
  },
  {
   "cell_type": "markdown",
   "id": "8143ae55-0597-49f2-8d99-7238300313db",
   "metadata": {
    "tags": []
   },
   "source": [
    "### Tiempo realización compra (segs)"
   ]
  },
  {
   "cell_type": "code",
   "execution_count": null,
   "id": "2841dd1d-8009-4d39-8a69-be33cddb863a",
   "metadata": {},
   "outputs": [],
   "source": [
    "df_compras[df_compras['Tiempo realización compra (segs)'].isna()]"
   ]
  },
  {
   "cell_type": "code",
   "execution_count": null,
   "id": "3b1595a6-be6d-4f0f-9324-87b3fe105863",
   "metadata": {},
   "outputs": [],
   "source": [
    "#Existen 5 registros. Almacenamos la media\n",
    "df_compras.fillna(\n",
    "    {'Tiempo realización compra (segs)': df_compras['Tiempo realización compra (segs)'].mean()}, \n",
    "    inplace=True\n",
    ")\n",
    "\n",
    "#Verificamos cómo han quedado esos 5 registros\n",
    "df_compras.loc[[6344, 3358, 9619, 2857, 3850]]\n",
    "#El cliente 3850 tiene otros dos registros que ya tenían informado el tiempo de realización"
   ]
  },
  {
   "cell_type": "markdown",
   "id": "710122ab-af19-4170-86db-d801b11168ef",
   "metadata": {
    "tags": []
   },
   "source": [
    "### Cliente existente"
   ]
  },
  {
   "cell_type": "code",
   "execution_count": null,
   "id": "4929460f-e789-4cd6-99c1-f496c0cddeb3",
   "metadata": {},
   "outputs": [],
   "source": [
    "df_compras[df_compras['Cliente existente (S/N)'].isna()]"
   ]
  },
  {
   "cell_type": "code",
   "execution_count": null,
   "id": "6967ce8f-ff68-4f0f-a3d6-ef36cb2c483a",
   "metadata": {},
   "outputs": [],
   "source": [
    "#Lista con clientes a corregir\n",
    "lista_clientes = [6517, 5516, 3358]\n",
    "\n",
    "#Hacemos un bucle para recorrer los 3 clientes\n",
    "for cliente in lista_clientes:\n",
    "    try:\n",
    "        cliente_existente = df_clientes.loc[cliente]\n",
    "        #El cliente existe en la hoja de clientes\n",
    "        df_compras.loc[cliente,'Cliente existente (S/N)'] = 'SI'\n",
    "    except KeyError:\n",
    "        #Si no hay sido capaz de recuperar la clave de la hoja\n",
    "        #de clientes, salta esta excepción.\n",
    "        #Como no existe en la hoja de clientes, fijamos un valor de NO\n",
    "        df_compras.loc[cliente, 'Cliente existente (S/N)'] = 'NO'\n"
   ]
  },
  {
   "cell_type": "code",
   "execution_count": null,
   "id": "5224d9c5-057d-47a3-bacb-c7124d82265c",
   "metadata": {},
   "outputs": [],
   "source": [
    "#Comprobamos que han quedado con valores\n",
    "#El cliente 6517 ya tenía otro registro con el campo bien informado.\n",
    "df_compras.loc[[6517, 5516, 3358]]"
   ]
  },
  {
   "cell_type": "markdown",
   "id": "bff66266-efc3-441b-8b45-9985884ab960",
   "metadata": {
    "tags": []
   },
   "source": [
    "## Renombrado de índice"
   ]
  },
  {
   "cell_type": "code",
   "execution_count": null,
   "id": "168fe4fe-18be-420e-8f9a-2204dd02c54d",
   "metadata": {},
   "outputs": [],
   "source": [
    "#Esto es estático, no afecta al procesado posterior.\n",
    "df_compras.index.name = 'ID de cliente'\n",
    "df_clientes.index.name = 'ID de cliente'"
   ]
  },
  {
   "cell_type": "code",
   "execution_count": null,
   "id": "8c6dfb7a-65f5-4a45-8d71-e34ff88bfed2",
   "metadata": {},
   "outputs": [],
   "source": [
    "df_compras.head()"
   ]
  },
  {
   "cell_type": "markdown",
   "id": "6b4070fa-9cb0-4b72-9e58-93f3d7e0eb63",
   "metadata": {
    "tags": []
   },
   "source": [
    "## Información redundante"
   ]
  },
  {
   "cell_type": "code",
   "execution_count": null,
   "id": "c1e14d07-9039-4762-861f-83563670697a",
   "metadata": {},
   "outputs": [],
   "source": [
    "#Analizamos la correlación entre columnas\n",
    "df_compras.corr(numeric_only=True)"
   ]
  },
  {
   "cell_type": "code",
   "execution_count": null,
   "id": "b5478b29-928f-4f9c-9952-9e723c601583",
   "metadata": {},
   "outputs": [],
   "source": [
    "#Comprobamos que existe 100% de correlación entre el Número de clicks y el tiempo de realización de compra\n",
    "#Eliminamos la columna de Tiempo de realización\n",
    "df_compras.drop(['Tiempo realización compra (segs)'], axis = 1, inplace=True)\n",
    "df_compras.head()"
   ]
  },
  {
   "cell_type": "markdown",
   "id": "71f85bb0-f9ed-4ce6-ab25-df3773c6e222",
   "metadata": {
    "tags": []
   },
   "source": [
    "## Calidad de los datos"
   ]
  },
  {
   "cell_type": "code",
   "execution_count": null,
   "id": "167dfaa0-b534-46b0-8f18-c3446b015965",
   "metadata": {},
   "outputs": [],
   "source": [
    "#Obtenemos una serie de datos con multiíndice idcliente-fechanacimiento y en valores el número de registros\n",
    "serie_calidad = df_compras.groupby(['ID de cliente', 'Fecha de nacimiento']).size()\n",
    "print(serie_calidad)"
   ]
  },
  {
   "cell_type": "code",
   "execution_count": null,
   "id": "b8e14c0f-71d2-45df-a12d-d0ed36471609",
   "metadata": {},
   "outputs": [],
   "source": [
    "#Transformamos la serie en un dataframe, incorporando los valores del multiíndice como columnas\n",
    "df_calidad=pd.DataFrame({\n",
    "    'IDCliente':serie_calidad.index.get_level_values(0),\n",
    "    'Fecha de nacimiento' : serie_calidad.index.get_level_values(1),\n",
    "    'numero': serie_calidad.values\n",
    "})\n",
    "\n",
    "#Mostramos las filas para uno de los clientes que tienen distinta fecha de nacimiento\n",
    "df_calidad[df_calidad['IDCliente']==1654]\n"
   ]
  },
  {
   "cell_type": "code",
   "execution_count": null,
   "id": "d3eb6042-49a5-426d-8b7c-06f14c773ca5",
   "metadata": {},
   "outputs": [],
   "source": [
    "#Obtenemos una lista con los valores de los clientes que tienen distintas fechas de nacimiento\n",
    "# Para ello vemos duplicados utilizando únicamente la columna del ID de Cliente.\n",
    "# Si un cliente tiene siempre la misma fecha de nacimiento, solo tendrá una fila. \n",
    "clientes_incorrectos = df_calidad[df_calidad.duplicated(['IDCliente'])]['IDCliente'].values.tolist()\n",
    "\n",
    "#Vemos la lista de clientes con varias fechas\n",
    "print(\"Clientes con varias fechas:\", clientes_incorrectos)\n",
    "\n",
    "#Eliminamos de las compras los pedidos de los clientes con fecha de nacimiento de mala calidad\n",
    "df_compras.drop(clientes_incorrectos, inplace=True)\n",
    "\n",
    "#Veremos que tenemos 4 registros menos\n",
    "df_compras.info()\n"
   ]
  },
  {
   "cell_type": "code",
   "execution_count": null,
   "id": "55258eca-ce71-47a8-b9cc-285af4121340",
   "metadata": {},
   "outputs": [],
   "source": [
    "df_compras[df_compras['Importe compra'].isna()]"
   ]
  },
  {
   "cell_type": "markdown",
   "id": "a9dae2ed-f87d-4dcc-a2d7-fadc4b66bdbf",
   "metadata": {
    "tags": []
   },
   "source": [
    "## Transformación de categóricos"
   ]
  },
  {
   "cell_type": "code",
   "execution_count": null,
   "id": "777a3be3-f73b-4e2f-84a8-e41d8d3c0690",
   "metadata": {},
   "outputs": [],
   "source": [
    "#Modificamos el dataframe sustituyendo categórico Categoría por dummies\n",
    "#Lo almacenamos en un nuevo dataframe\n",
    "df_comprasML = pd.get_dummies(df_compras, columns=['Categoría'])\n",
    "\n",
    "#Eliminamos una de las 5 columnas generadas. En este caso, MONITOR\n",
    "df_comprasML.drop(['Categoría_MONITOR'], axis=1, inplace=True)\n",
    "\n",
    "#Comprobamos el estado\n",
    "df_comprasML.head()"
   ]
  },
  {
   "cell_type": "code",
   "execution_count": null,
   "id": "e147f104-cc41-4b0d-96e9-da16e14f75a4",
   "metadata": {},
   "outputs": [],
   "source": [
    "#Transformamos \"Cliente existente\"\n",
    "#La columna Cliente existente es de tipo Object, debemos modificarla para que sea de tipo Category\n",
    "df_comprasML['Cliente existente (S/N)'] = df_comprasML['Cliente existente (S/N)'].astype('category')\n",
    "\n",
    "#Sustituimos el texto por la categoría numérica\n",
    "df_comprasML['Cliente existente (S/N)'] = df_comprasML['Cliente existente (S/N)'].cat.codes\n",
    "\n",
    "df_comprasML.head()"
   ]
  },
  {
   "cell_type": "markdown",
   "id": "dd56061d-8678-4f4b-871c-501a2c13bc5d",
   "metadata": {
    "tags": []
   },
   "source": [
    "## Normalización"
   ]
  },
  {
   "cell_type": "code",
   "execution_count": null,
   "id": "e795d9a9-aa7e-4f0d-8dd1-4759b9c872a5",
   "metadata": {},
   "outputs": [],
   "source": [
    "#Importamos la clase necesaria\n",
    "from sklearn.preprocessing import StandardScaler\n",
    "\n",
    "#Creamos una instancia del StandardScaler\n",
    "stdEscaler = StandardScaler()\n",
    "\n",
    "#Eliminamos del dataframe la columna de fecha de compra y fecha de nacimiento, ya que no tiene sentido su normalización.\n",
    "df_comprasML.drop(['Fecha compra','Fecha de nacimiento'], axis=1, inplace=True)\n",
    "\n",
    "#Guardamos el nombre de filas y columnas\n",
    "filas = df_comprasML.index.tolist()\n",
    "columnas = df_comprasML.columns.tolist()\n",
    "\n",
    "#Obtenemos un array con los valores escalados\n",
    "arrayEscalado = stdEscaler.fit_transform(df_comprasML)\n",
    "\n",
    "#Transformamos el array en un dataframe. En este caso fijamos los índices y columnas guardados antes.\n",
    "df_comprasML =  pd.DataFrame(arrayEscalado, index=filas, columns=columnas)\n",
    "\n",
    "#Mostramos el resultado\n",
    "df_comprasML.head()"
   ]
  }
 ],
 "metadata": {
  "kernelspec": {
   "display_name": "Python 3 (ipykernel)",
   "language": "python",
   "name": "python3"
  },
  "language_info": {
   "codemirror_mode": {
    "name": "ipython",
    "version": 3
   },
   "file_extension": ".py",
   "mimetype": "text/x-python",
   "name": "python",
   "nbconvert_exporter": "python",
   "pygments_lexer": "ipython3",
   "version": "3.11.6"
  }
 },
 "nbformat": 4,
 "nbformat_minor": 5
}
