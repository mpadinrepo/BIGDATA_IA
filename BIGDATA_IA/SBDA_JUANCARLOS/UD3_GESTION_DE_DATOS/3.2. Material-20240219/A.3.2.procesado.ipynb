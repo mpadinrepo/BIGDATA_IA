{
 "cells": [
  {
   "cell_type": "markdown",
   "id": "1ec28989-1351-4531-af3c-4bf4ea287853",
   "metadata": {
    "id": "1ec28989-1351-4531-af3c-4bf4ea287853",
    "tags": []
   },
   "source": [
    "# Métodos útiles para trabajar con cadenas"
   ]
  },
  {
   "cell_type": "markdown",
   "id": "d2f47a72-853d-42f1-b5b9-5a9d35d9f45f",
   "metadata": {
    "id": "d2f47a72-853d-42f1-b5b9-5a9d35d9f45f",
    "tags": []
   },
   "source": [
    "## split"
   ]
  },
  {
   "cell_type": "code",
   "execution_count": 1,
   "id": "54abefb2-42ad-4057-82da-68efd5353509",
   "metadata": {
    "colab": {
     "base_uri": "https://localhost:8080/"
    },
    "executionInfo": {
     "elapsed": 6,
     "status": "ok",
     "timestamp": 1703607025572,
     "user": {
      "displayName": "Juan Carlos",
      "userId": "15337117069612783273"
     },
     "user_tz": -60
    },
    "id": "54abefb2-42ad-4057-82da-68efd5353509",
    "outputId": "cdb3f57d-6b1b-47ea-f6de-dcdc5329305b"
   },
   "outputs": [
    {
     "name": "stdout",
     "output_type": "stream",
     "text": [
      "['Hola,', 'mi', 'nombre', 'es', 'Juan']\n",
      "['Hola', ' mi nombre es Juan']\n",
      "['Hola, ', ' Juan']\n"
     ]
    }
   ],
   "source": [
    "#División en una lista de subcadenas\n",
    "cadena = 'Hola, mi nombre es Juan'\n",
    "\n",
    "#Si no indicamos separador utiliza el espacio\n",
    "print(cadena.split())\n",
    "\n",
    "#Podemos pasar como parámetro el separador\n",
    "print(cadena.split(','))\n",
    "\n",
    "#El separador puede ser una cadena de más de un caracter\n",
    "print(cadena.split('mi nombre es'))"
   ]
  },
  {
   "cell_type": "markdown",
   "id": "b4de5bc0-5581-4091-a32c-7023d706f50d",
   "metadata": {
    "id": "b4de5bc0-5581-4091-a32c-7023d706f50d",
    "jp-MarkdownHeadingCollapsed": true,
    "tags": []
   },
   "source": [
    "## strip"
   ]
  },
  {
   "cell_type": "code",
   "execution_count": null,
   "id": "318ab4b8-05e7-4080-8657-23b15b1d9ec1",
   "metadata": {
    "id": "318ab4b8-05e7-4080-8657-23b15b1d9ec1"
   },
   "outputs": [],
   "source": [
    "cadena = '        Hola, esto es una cadena     '\n",
    "print(cadena.strip())"
   ]
  },
  {
   "cell_type": "code",
   "execution_count": null,
   "id": "37ac633a-f552-4bb6-9926-0768c63601d7",
   "metadata": {
    "id": "37ac633a-f552-4bb6-9926-0768c63601d7"
   },
   "outputs": [],
   "source": [
    "'      Hola     '.strip()"
   ]
  },
  {
   "cell_type": "code",
   "execution_count": null,
   "id": "c9855165-7efb-4df7-aef6-3aa360e93ee8",
   "metadata": {
    "id": "c9855165-7efb-4df7-aef6-3aa360e93ee8"
   },
   "outputs": [],
   "source": [
    "#División en una lista de subcadenas\n",
    "cadena = 'Hola, mi nombre es Juan'\n",
    "\n",
    "print(cadena.split(','))\n",
    "\n",
    "#Imprimimos las subcadenas eliminando espacios\n",
    "[subcadena.strip() for subcadena in cadena.split(',')]\n"
   ]
  },
  {
   "cell_type": "markdown",
   "id": "3843206d-7aa5-42fd-98b4-9e94d6a26101",
   "metadata": {
    "id": "3843206d-7aa5-42fd-98b4-9e94d6a26101",
    "jp-MarkdownHeadingCollapsed": true,
    "tags": []
   },
   "source": [
    "## join"
   ]
  },
  {
   "cell_type": "code",
   "execution_count": null,
   "id": "9823e6cb-fc67-4a58-9118-07cf5c816ca9",
   "metadata": {
    "id": "9823e6cb-fc67-4a58-9118-07cf5c816ca9"
   },
   "outputs": [],
   "source": [
    "#Imagina que quieres imprimir cinco números separados por \"-\"\n",
    "lista_numeros = ['1', '2', '3', '4', '5']\n",
    "\n",
    "#Inicializamos cada número\n",
    "uno, dos, tres, cuatro, cinco = lista_numeros\n",
    "\n",
    "#Podemos utilizar el operador de concatenación '+':\n",
    "cadena_sinjoin = uno + '-' + dos + '-' + tres + '-' + cuatro + '-' + cinco\n",
    "print(cadena_sinjoin)\n",
    "\n",
    "#Con el método join es más simple\n",
    "cadena_conjoin = '-'.join(lista_numeros)\n",
    "print(cadena_conjoin)"
   ]
  },
  {
   "cell_type": "markdown",
   "id": "95191ade-415c-45c6-8d35-7a9f55c3ecc3",
   "metadata": {
    "id": "95191ade-415c-45c6-8d35-7a9f55c3ecc3",
    "jp-MarkdownHeadingCollapsed": true,
    "tags": []
   },
   "source": [
    "## index y find"
   ]
  },
  {
   "cell_type": "code",
   "execution_count": null,
   "id": "2647007b-7144-423d-b608-ef2f8e32dcec",
   "metadata": {
    "id": "2647007b-7144-423d-b608-ef2f8e32dcec"
   },
   "outputs": [],
   "source": [
    "cadena='Esto es una cadena que está formada por caracteres'\n",
    "#En caso de que la subcadena exista, ambas devuelven la posición de la primera ocurrencia.\n",
    "print(cadena.find('es'))\n",
    "print(cadena.index('es'))"
   ]
  },
  {
   "cell_type": "code",
   "execution_count": null,
   "id": "e1d8e8d8-4640-46db-a89f-4af76f09d589",
   "metadata": {
    "id": "e1d8e8d8-4640-46db-a89f-4af76f09d589"
   },
   "outputs": [],
   "source": [
    "#Si la subcadena no existe, find devuelve \"-1\"\n",
    "print(cadena.find('no'))\n",
    "#Si la subcadena no existe, index devuelve una excepción de tipo ValueError\n",
    "print(cadena.index('no'))\n"
   ]
  },
  {
   "cell_type": "markdown",
   "id": "88bbdb5e-9a17-478e-9b3a-92640c538bf5",
   "metadata": {
    "id": "88bbdb5e-9a17-478e-9b3a-92640c538bf5",
    "jp-MarkdownHeadingCollapsed": true,
    "tags": []
   },
   "source": [
    "## rfind"
   ]
  },
  {
   "cell_type": "code",
   "execution_count": null,
   "id": "03be7eeb-05c9-4478-b831-87991776449f",
   "metadata": {
    "id": "03be7eeb-05c9-4478-b831-87991776449f"
   },
   "outputs": [],
   "source": [
    "#rfind devuelve la posición de la última coincidencia\n",
    "cadena='Esto es una cadena que está formada por caracteres'\n",
    "print(cadena.rfind('es'))"
   ]
  },
  {
   "cell_type": "markdown",
   "id": "eb1b8a4d-9574-4bd5-bb57-c91a598b8e6e",
   "metadata": {
    "id": "eb1b8a4d-9574-4bd5-bb57-c91a598b8e6e",
    "jp-MarkdownHeadingCollapsed": true,
    "tags": []
   },
   "source": [
    "## count"
   ]
  },
  {
   "cell_type": "code",
   "execution_count": null,
   "id": "39da16ae-7300-4926-b98b-04b27fed2b2c",
   "metadata": {
    "id": "39da16ae-7300-4926-b98b-04b27fed2b2c"
   },
   "outputs": [],
   "source": [
    "#Con count obtenemos el número de ocurrencias\n",
    "cadena='Esto es una cadena que está formada por caracteres'\n",
    "print(cadena.count('es'))"
   ]
  },
  {
   "cell_type": "markdown",
   "id": "c4bbda9f-ced4-4345-b815-b05a6fda7776",
   "metadata": {
    "id": "c4bbda9f-ced4-4345-b815-b05a6fda7776",
    "jp-MarkdownHeadingCollapsed": true,
    "tags": []
   },
   "source": [
    "## replace"
   ]
  },
  {
   "cell_type": "code",
   "execution_count": null,
   "id": "968d8b31-88eb-4917-92ca-fa321b8514ce",
   "metadata": {
    "id": "968d8b31-88eb-4917-92ca-fa321b8514ce"
   },
   "outputs": [],
   "source": [
    "cadena='Esto es una cadena que está formada por caracteres'\n",
    "\n",
    "#Reemplazamos todas las ocurrencias de \"es\" por \"era\"\n",
    "print(cadena.replace('es', 'era'))\n",
    "\n",
    "#Reemplazamos solo la primera ocurrencia de \"es\" por \"era\"\n",
    "print(cadena.replace('es', 'era', 1))"
   ]
  },
  {
   "cell_type": "markdown",
   "id": "fd192349-f0cc-45fa-8758-da3761e50182",
   "metadata": {
    "id": "fd192349-f0cc-45fa-8758-da3761e50182",
    "jp-MarkdownHeadingCollapsed": true,
    "tags": []
   },
   "source": [
    "# Expresiones regulares"
   ]
  },
  {
   "cell_type": "markdown",
   "id": "e61c9c7e-256b-4b7c-899e-ba4110b7d52b",
   "metadata": {
    "id": "e61c9c7e-256b-4b7c-899e-ba4110b7d52b",
    "jp-MarkdownHeadingCollapsed": true,
    "tags": []
   },
   "source": [
    "## split"
   ]
  },
  {
   "cell_type": "code",
   "execution_count": null,
   "id": "93c09fc0-bdce-4a58-9e3c-a9bc919e118f",
   "metadata": {
    "id": "93c09fc0-bdce-4a58-9e3c-a9bc919e118f"
   },
   "outputs": [],
   "source": [
    "\n",
    "cadena = 'Cadena#que##separa###las####palabras#####de#forma##no###uniforme'\n",
    "\n",
    "#Si no usamos expresiones regulares\n",
    "print(cadena.split('#'))\n"
   ]
  },
  {
   "cell_type": "code",
   "execution_count": null,
   "id": "8b8954dd-9a7a-4c4e-9e88-f277ba95268d",
   "metadata": {
    "id": "8b8954dd-9a7a-4c4e-9e88-f277ba95268d"
   },
   "outputs": [],
   "source": [
    "#Podemos usar las expresiones regulares\n",
    "import re\n",
    "re.split('#+', cadena)"
   ]
  },
  {
   "cell_type": "markdown",
   "id": "87168fb3-949a-41bb-95dd-c199bb382cb8",
   "metadata": {
    "id": "87168fb3-949a-41bb-95dd-c199bb382cb8",
    "jp-MarkdownHeadingCollapsed": true,
    "tags": []
   },
   "source": [
    "## compile"
   ]
  },
  {
   "cell_type": "code",
   "execution_count": null,
   "id": "f0d80532-654b-4832-a7ca-415d42a133d7",
   "metadata": {
    "id": "f0d80532-654b-4832-a7ca-415d42a133d7"
   },
   "outputs": [],
   "source": [
    "import re\n",
    "#Precompilamos la búsqueda. Es más eficiente si la vamos a reutilizar varias veces\n",
    "expresion = re.compile(r'#+')\n",
    "print(expresion.split('Primera#cadena'))\n",
    "print(expresion.split('Segunda#cadena'))"
   ]
  },
  {
   "cell_type": "markdown",
   "id": "e8360778-c83e-4260-a1ca-56de590d3406",
   "metadata": {
    "id": "e8360778-c83e-4260-a1ca-56de590d3406"
   },
   "source": [
    "¿Hay mejoras en rendimiento si precompilamos el patrón?"
   ]
  },
  {
   "cell_type": "code",
   "execution_count": null,
   "id": "42cffe4f-faa0-400c-ae5f-fcf5ddcd47d7",
   "metadata": {
    "id": "42cffe4f-faa0-400c-ae5f-fcf5ddcd47d7"
   },
   "outputs": [],
   "source": [
    "%%timeit -n 200 -r 50\n",
    "re.split('#+', 'Primera#cadena')"
   ]
  },
  {
   "cell_type": "code",
   "execution_count": null,
   "id": "7129b0e0-95d2-447a-af7a-f4c8367e887c",
   "metadata": {
    "id": "7129b0e0-95d2-447a-af7a-f4c8367e887c"
   },
   "outputs": [],
   "source": [
    "%%timeit -n 200 -r 50\n",
    "expresion.split('Primera#cadena')"
   ]
  },
  {
   "cell_type": "markdown",
   "id": "3e698709-3ae0-4df3-b69d-766247904ad5",
   "metadata": {
    "id": "3e698709-3ae0-4df3-b69d-766247904ad5",
    "jp-MarkdownHeadingCollapsed": true,
    "tags": []
   },
   "source": [
    "## findall"
   ]
  },
  {
   "cell_type": "code",
   "execution_count": null,
   "id": "11640001-96c5-4e7e-bea8-a5677c751ac9",
   "metadata": {
    "id": "11640001-96c5-4e7e-bea8-a5677c751ac9"
   },
   "outputs": [],
   "source": [
    "#Cadena con la que trabajaremos. Contiene 3 direcciones de correo\n",
    "cadena_correos='''\n",
    "Juan:juan#juan.es\n",
    "María:maria@maria.es\n",
    "Pedro:pedro@pedro.es\n",
    "'''\n",
    "#Para facilitar legibilidad definimos el patrón\n",
    "patron = r'[A-Z0-9._%+-]+@[A-Z0-9._]+\\.[A-Z]{2,4}'\n",
    "\n",
    "#Compilamos el patrón. No queremos distinguir entre mayúsculas y minúsculas\n",
    "expresion = re.compile(patron, flags=re.IGNORECASE)\n",
    "\n",
    "#Buscamos las cadenas que coinciden con la expresión\n",
    "expresion.findall(cadena_correos)\n"
   ]
  },
  {
   "cell_type": "code",
   "execution_count": null,
   "id": "7ed3b1d1-5ea9-4e41-8ef9-ed3db238ff6a",
   "metadata": {
    "id": "7ed3b1d1-5ea9-4e41-8ef9-ed3db238ff6a"
   },
   "outputs": [],
   "source": [
    "#Sin precompilar la expresión\n",
    "re.findall(patron, cadena_correos, flags=re.IGNORECASE)"
   ]
  },
  {
   "cell_type": "code",
   "execution_count": null,
   "id": "0ef317c5-234a-4921-8c45-07f8faa2e4ef",
   "metadata": {
    "id": "0ef317c5-234a-4921-8c45-07f8faa2e4ef"
   },
   "outputs": [],
   "source": [
    "#Si queremos obtener un iterable\n",
    "re.finditer(patron, cadena_correos, flags=re.IGNORECASE)"
   ]
  },
  {
   "cell_type": "code",
   "execution_count": null,
   "id": "07bd014a-1eac-4e5d-9530-fd5a3d311f02",
   "metadata": {
    "id": "07bd014a-1eac-4e5d-9530-fd5a3d311f02"
   },
   "outputs": [],
   "source": [
    "#Recorremos el iterable.\n",
    "# Cada elemento del iterable permite obtener la posición de inicio con el método .start()\n",
    "# y de fin con el .end()\n",
    "for correo in re.finditer(patron, cadena_correos, flags=re.IGNORECASE):\n",
    "    print(cadena_correos[correo.start():correo.end()])"
   ]
  },
  {
   "cell_type": "code",
   "execution_count": null,
   "id": "9ca6d16c-4c38-432c-af06-d65c8d638184",
   "metadata": {
    "id": "9ca6d16c-4c38-432c-af06-d65c8d638184"
   },
   "outputs": [],
   "source": [
    "#Para descomponer las direcciones a su vez en los 3 componentes\n",
    "#Para facilitar legibilidad definimos el patrón\n",
    "patron = r'([A-Z0-9._%+-]+)@([A-Z0-9._]+)\\.([A-Z]{2,4})'\n",
    "\n",
    "#Compilamos el patrón. No queremos distinguir entre mayúsculas y minúsculas\n",
    "expresion = re.compile(patron, flags=re.IGNORECASE)\n",
    "\n",
    "#Buscamos las cadenas que coinciden con la expresión\n",
    "expresion.findall(cadena_correos)"
   ]
  },
  {
   "cell_type": "markdown",
   "id": "9a616d43-b1aa-474f-b188-80f259e3772c",
   "metadata": {
    "id": "9a616d43-b1aa-474f-b188-80f259e3772c",
    "jp-MarkdownHeadingCollapsed": true,
    "tags": []
   },
   "source": [
    "## search"
   ]
  },
  {
   "cell_type": "code",
   "execution_count": null,
   "id": "a50d8559-e87f-454e-b80d-f05b891f028b",
   "metadata": {
    "id": "a50d8559-e87f-454e-b80d-f05b891f028b"
   },
   "outputs": [],
   "source": [
    "#Primera ocurrencia del patrón\n",
    "result = expresion.search(cadena_correos)\n",
    "print(result)\n",
    "print(\"------------------\")\n",
    "\n",
    "#Con el método group() podemos obtener la cadena que cumple la expresión\n",
    "print(result.group())\n",
    "#Con span() obtenemos una tupla con la posición de inicio y fin\n",
    "print(result.span())"
   ]
  },
  {
   "cell_type": "markdown",
   "id": "d50e9f74-89a7-4f3b-96dd-35fbba0f3a69",
   "metadata": {
    "id": "d50e9f74-89a7-4f3b-96dd-35fbba0f3a69",
    "jp-MarkdownHeadingCollapsed": true,
    "tags": []
   },
   "source": [
    "## match"
   ]
  },
  {
   "cell_type": "code",
   "execution_count": null,
   "id": "0e72386b-7557-448e-88ac-acc30a65d23d",
   "metadata": {
    "id": "0e72386b-7557-448e-88ac-acc30a65d23d"
   },
   "outputs": [],
   "source": [
    "#Con el método match la coincidencia debe ser completa\n",
    "print(expresion.match(cadena_correos))"
   ]
  },
  {
   "cell_type": "code",
   "execution_count": null,
   "id": "c367df17-8ef3-4ce0-a909-e0394c5a86e5",
   "metadata": {
    "id": "c367df17-8ef3-4ce0-a909-e0394c5a86e5"
   },
   "outputs": [],
   "source": [
    "#Probamos con otro que sí cumpla el criterio\n",
    "print(expresion.match('juan@juan.es'))"
   ]
  },
  {
   "cell_type": "markdown",
   "id": "bd9a1e5a-fe51-4095-9350-7731ef2f22f6",
   "metadata": {
    "id": "bd9a1e5a-fe51-4095-9350-7731ef2f22f6",
    "jp-MarkdownHeadingCollapsed": true,
    "tags": []
   },
   "source": [
    "## sub"
   ]
  },
  {
   "cell_type": "code",
   "execution_count": null,
   "id": "8e9a149f-f91f-4e9b-8294-df3c65fdccb2",
   "metadata": {
    "id": "8e9a149f-f91f-4e9b-8294-df3c65fdccb2"
   },
   "outputs": [],
   "source": [
    "#Sustituye cualquier ocurrencia de la expresión por la cadena indicada\n",
    "print(expresion.sub(\"ELIMINADO\", cadena_correos))\n",
    "\n",
    "#En la anterior estamos usando una expresión precompilada.\n",
    "# Es equivalente a:\n",
    "patron = r'[A-Z0-9._%+-]+@[A-Z0-9._]+\\.[A-Z]{2,4}'\n",
    "print(re.sub(patron, \"ELIMINADO\", cadena_correos, flags=re.IGNORECASE))"
   ]
  },
  {
   "cell_type": "code",
   "execution_count": null,
   "id": "18666865-0e67-4a6e-ae40-6489a70f5e71",
   "metadata": {
    "id": "18666865-0e67-4a6e-ae40-6489a70f5e71"
   },
   "outputs": [],
   "source": [
    "#Para sustituir solo la primera ocurrencia\n",
    "print(expresion.sub(\"ELIMINADO\", cadena_correos, count=1))"
   ]
  },
  {
   "cell_type": "code",
   "execution_count": null,
   "id": "361e2128-65cc-41d8-9149-9d1f8e46c071",
   "metadata": {
    "id": "361e2128-65cc-41d8-9149-9d1f8e46c071"
   },
   "outputs": [],
   "source": [
    "#Acceso a elementos dentro de la cadena encontrada\n",
    "print(expresion.sub(r'Usuario: \\1, Dominio: \\2, Dom_raiz: \\3', cadena_correos))"
   ]
  },
  {
   "cell_type": "markdown",
   "id": "ce05e558-8291-4508-aceb-d47ffdeda6a8",
   "metadata": {
    "id": "ce05e558-8291-4508-aceb-d47ffdeda6a8",
    "jp-MarkdownHeadingCollapsed": true,
    "tags": []
   },
   "source": [
    "# Pandas, métodos con cadenas y expresiones regulares"
   ]
  },
  {
   "cell_type": "markdown",
   "id": "025fda28-af3c-4ac5-ab82-20d13a4f7ad8",
   "metadata": {
    "id": "025fda28-af3c-4ac5-ab82-20d13a4f7ad8",
    "jp-MarkdownHeadingCollapsed": true,
    "tags": []
   },
   "source": [
    "## En caso de no tener NaN"
   ]
  },
  {
   "cell_type": "code",
   "execution_count": null,
   "id": "17c6bfb6-a626-4615-9219-fa82521ecb84",
   "metadata": {
    "id": "17c6bfb6-a626-4615-9219-fa82521ecb84"
   },
   "outputs": [],
   "source": [
    "import numpy as np\n",
    "import pandas as pd\n",
    "\n",
    "df_correos = pd.DataFrame({\n",
    "    'Nombre': ['Juan', 'María', 'Pedro'],\n",
    "    'Apellidos': ['Fernández', 'Martínez', 'Álvarez'],\n",
    "    'email': ['juan#juan.es', 'maria@maria.es', 'pedro@pedro.es']\n",
    "})\n",
    "df_correos\n",
    "\n",
    "#Fíjate que uno de los emails está mal construido"
   ]
  },
  {
   "cell_type": "code",
   "execution_count": null,
   "id": "05efa2dc-cb0f-4808-972a-ec4a8d7135ed",
   "metadata": {
    "id": "05efa2dc-cb0f-4808-972a-ec4a8d7135ed"
   },
   "outputs": [],
   "source": [
    "#Sustituimos ocurrencias de \".es\" por \".com\"\n",
    "df_correos['email'] = df_correos['email'].map(lambda cadena: cadena.replace('.es','.com'))\n",
    "df_correos"
   ]
  },
  {
   "cell_type": "code",
   "execution_count": null,
   "id": "de4472a5-1e66-4f7c-a101-cc6ec8d90568",
   "metadata": {
    "id": "de4472a5-1e66-4f7c-a101-cc6ec8d90568"
   },
   "outputs": [],
   "source": [
    "#Para facilitar legibilidad definimos el patrón\n",
    "patron = r'[A-Z0-9._%+-]+@[A-Z0-9._]+\\.[A-Z]{2,4}'\n",
    "\n",
    "#Reseteamos aquellos valores que siguen patrón de email con la cadena \"DESCONOCIDO\"\n",
    "df_correos['email'] = df_correos['email'].map(\n",
    "    lambda cadena: re.sub(patron, \"DESCONOCIDO\", cadena, flags=re.IGNORECASE))\n",
    "df_correos"
   ]
  },
  {
   "cell_type": "markdown",
   "id": "1bee2005-f58f-4450-91e1-7b1f3f55b570",
   "metadata": {
    "id": "1bee2005-f58f-4450-91e1-7b1f3f55b570",
    "jp-MarkdownHeadingCollapsed": true,
    "tags": []
   },
   "source": [
    "## En caso de tener NaN"
   ]
  },
  {
   "cell_type": "code",
   "execution_count": null,
   "id": "105c6e4f-6f88-4495-9997-a820f9ab3a6f",
   "metadata": {
    "id": "105c6e4f-6f88-4495-9997-a820f9ab3a6f"
   },
   "outputs": [],
   "source": [
    "df_correos = pd.DataFrame({\n",
    "    'Nombre': ['Juan', 'María', 'Pedro'],\n",
    "    'Apellidos': ['Fernández', 'Martínez', 'Álvarez'],\n",
    "    'email': [np.NaN, 'maria@maria.es', 'pedro@pedro.es']\n",
    "})\n",
    "df_correos"
   ]
  },
  {
   "cell_type": "code",
   "execution_count": null,
   "id": "643b363a-0940-4a7f-b7e9-ae97255978fc",
   "metadata": {
    "id": "643b363a-0940-4a7f-b7e9-ae97255978fc"
   },
   "outputs": [],
   "source": [
    "#Si intentamos utilizar .map, fallará\n",
    "df_correos['email'] = df_correos['email'].map(lambda cadena: cadena.replace('.es','.com'))"
   ]
  },
  {
   "cell_type": "code",
   "execution_count": null,
   "id": "b16d3d2e-e2e0-4b45-bc4b-5d96fe366304",
   "metadata": {
    "id": "b16d3d2e-e2e0-4b45-bc4b-5d96fe366304"
   },
   "outputs": [],
   "source": [
    "#Sustituimos .es por .com\n",
    "#El método replace de pandas permite trabajar tanto con literales como con expresiones regulares.\n",
    "#Con regex=False indicamos que no es expresión regular.\n",
    "df_correos['email'] = df_correos['email'].str.replace('.es','.com',regex=False)\n",
    "df_correos"
   ]
  },
  {
   "cell_type": "markdown",
   "id": "7396a038-63eb-44ce-a660-d8d8424c99e9",
   "metadata": {
    "id": "7396a038-63eb-44ce-a660-d8d8424c99e9",
    "jp-MarkdownHeadingCollapsed": true,
    "tags": []
   },
   "source": [
    "# Índices jerárquicos (multi-índices)"
   ]
  },
  {
   "cell_type": "code",
   "execution_count": null,
   "id": "363d684d-7b71-49ff-893c-c901260a0760",
   "metadata": {
    "id": "363d684d-7b71-49ff-893c-c901260a0760"
   },
   "outputs": [],
   "source": [
    "import pandas as pd\n",
    "# Definimos un dataframe con dos niveles de índices\n",
    "df_ejemplo = pd.DataFrame(\n",
    "    [[3.56,'SI'],[7.45,'NO'],[23.89,'SI'],[101.34,'SI'],[204.01,'NO'],[45.34,'NO']],\n",
    "    index = [\n",
    "        ['ID1','ID1','ID2','ID2','ID2','ID3'],\n",
    "        ['PID1','PID2','PID1','PID2','PID3','PID1']\n",
    "    ],\n",
    "    columns = ['Importe','Pagado']\n",
    ")\n",
    "\n",
    "#Le damos un nombre a cada nivel del índice\n",
    "df_ejemplo.index.names=['IDCliente', 'IDPedido']\n",
    "df_ejemplo"
   ]
  },
  {
   "cell_type": "code",
   "execution_count": null,
   "id": "a050d68c-fdfd-48e2-8a4f-77a1453b778d",
   "metadata": {
    "id": "a050d68c-fdfd-48e2-8a4f-77a1453b778d"
   },
   "outputs": [],
   "source": [
    "#Recuperamos todos los pedidos del cliente ID2\n",
    "df_ejemplo.loc['ID2']"
   ]
  },
  {
   "cell_type": "code",
   "execution_count": null,
   "id": "55d8d700-f0a7-430d-afb4-8cc36db203fe",
   "metadata": {
    "id": "55d8d700-f0a7-430d-afb4-8cc36db203fe"
   },
   "outputs": [],
   "source": [
    "#Recuperamos el pedido PID3 del cliente ID2\n",
    "df_ejemplo.loc['ID2','PID3']"
   ]
  },
  {
   "cell_type": "code",
   "execution_count": null,
   "id": "99173277-59f8-432f-b75f-13cb7c0c62b3",
   "metadata": {
    "id": "99173277-59f8-432f-b75f-13cb7c0c62b3"
   },
   "outputs": [],
   "source": [
    "#Todos los pedidos de clientes entre ID2 e ID3\n",
    "df_ejemplo.loc['ID2':'ID3']"
   ]
  },
  {
   "cell_type": "code",
   "execution_count": null,
   "id": "91ad2fc7-45a6-4c17-a092-deab3937716a",
   "metadata": {
    "id": "91ad2fc7-45a6-4c17-a092-deab3937716a"
   },
   "outputs": [],
   "source": [
    "#Los importes de todos los pedidos del cliente ID2\n",
    "df_ejemplo.loc['ID2','Importe']"
   ]
  },
  {
   "cell_type": "code",
   "execution_count": null,
   "id": "8073c7bf-6ffb-48d4-be0b-9eadc27756ff",
   "metadata": {
    "id": "8073c7bf-6ffb-48d4-be0b-9eadc27756ff"
   },
   "outputs": [],
   "source": [
    "#Los importes de los pedidos PID2 de cualquier cliente\n",
    "df_ejemplo['Importe'].loc[:,'PID2']"
   ]
  },
  {
   "cell_type": "code",
   "execution_count": null,
   "id": "53fca147-d68e-459e-9ea6-7120e850cdb8",
   "metadata": {
    "id": "53fca147-d68e-459e-9ea6-7120e850cdb8"
   },
   "outputs": [],
   "source": [
    "#Intercambiamos los niveles del multi-índice\n",
    "df_ejemplo = df_ejemplo.swaplevel('IDCliente','IDPedido')\n",
    "df_ejemplo"
   ]
  },
  {
   "cell_type": "code",
   "execution_count": null,
   "id": "635d0ddd-ce31-4150-82cb-bd17d08ae90f",
   "metadata": {
    "id": "635d0ddd-ce31-4150-82cb-bd17d08ae90f"
   },
   "outputs": [],
   "source": [
    "#Ahora ordenamos por el IDPedido para que quede agrupado\n",
    "df_ejemplo.sort_index(level=0, inplace=True)\n",
    "\n",
    "#Vemos cómo ha quedado\n",
    "df_ejemplo"
   ]
  },
  {
   "cell_type": "code",
   "execution_count": null,
   "id": "5fdca1e4-41fc-4126-837f-684255e4e330",
   "metadata": {
    "id": "5fdca1e4-41fc-4126-837f-684255e4e330"
   },
   "outputs": [],
   "source": [
    "# Definimos un dataframe sin indicar índices\n",
    "df_ejemplo = pd.DataFrame({\n",
    "    'Importe': [3.56,7.45,23.89,101.34,204.01,45.34],\n",
    "    'Pagado': ['SI','NO','SI','SI','NO','NO'],\n",
    "    'IDCliente': ['ID1','ID1','ID2','ID2','ID2','ID3'],\n",
    "    'IDPedido': ['PID1','PID2','PID1','PID2','PID3','PID1'],\n",
    "})\n",
    "\n",
    "df_ejemplo"
   ]
  },
  {
   "cell_type": "code",
   "execution_count": null,
   "id": "fc2d125e-b958-4edf-85b4-01be57d210e4",
   "metadata": {
    "id": "fc2d125e-b958-4edf-85b4-01be57d210e4"
   },
   "outputs": [],
   "source": [
    "#Hacemos que IDCliente sea índice\n",
    "df_ejemplo.set_index(['IDCliente'], inplace=True)\n",
    "df_ejemplo"
   ]
  },
  {
   "cell_type": "code",
   "execution_count": null,
   "id": "5a5129d6-a6db-4871-8d6f-6fd0741f4b0f",
   "metadata": {
    "id": "5a5129d6-a6db-4871-8d6f-6fd0741f4b0f"
   },
   "outputs": [],
   "source": [
    "#Añadimos al índice el IDPedido, creando un multi-índice\n",
    "df_ejemplo.set_index(['IDPedido'], append=True, inplace=True)\n",
    "df_ejemplo"
   ]
  },
  {
   "cell_type": "code",
   "execution_count": null,
   "id": "58b3728a-0b13-49ff-b685-2461ed35f820",
   "metadata": {
    "id": "58b3728a-0b13-49ff-b685-2461ed35f820"
   },
   "outputs": [],
   "source": [
    "#Multi nivel en columnasl\n",
    "# Definimos un dataframe con dos niveles de columnas\n",
    "df_ejemplo = pd.DataFrame(\n",
    "    [[29, 50, 18, 80],[16, 30, 8, 40]],\n",
    "    index = ['CiudadA','CiudadB'],\n",
    "    columns = [['Día','Día','Noche','Noche'],['Temperatura','Humedad','Temperatura','Humedad']]\n",
    ")\n",
    "print(df_ejemplo)\n",
    "print(\"--------------------------------------------------------\")\n",
    "\n",
    "#Le damos nombres a los índices y columnas\n",
    "df_ejemplo.index.names=['Ciudad']\n",
    "df_ejemplo.columns.names=['Franja', 'Parámetros']\n",
    "\n",
    "df_ejemplo\n"
   ]
  },
  {
   "cell_type": "markdown",
   "id": "d605f42e-779f-4810-8394-8ea54a9377d4",
   "metadata": {
    "id": "d605f42e-779f-4810-8394-8ea54a9377d4",
    "tags": []
   },
   "source": [
    "# Combinación de dataframes"
   ]
  },
  {
   "cell_type": "markdown",
   "id": "21ee74d9-5637-434a-b5f2-ac69d19211c0",
   "metadata": {
    "id": "21ee74d9-5637-434a-b5f2-ac69d19211c0",
    "jp-MarkdownHeadingCollapsed": true,
    "tags": []
   },
   "source": [
    "## merge"
   ]
  },
  {
   "cell_type": "code",
   "execution_count": null,
   "id": "47612be4-60d9-46c6-b940-aaddee657191",
   "metadata": {
    "id": "47612be4-60d9-46c6-b940-aaddee657191"
   },
   "outputs": [],
   "source": [
    "df_edades = pd.DataFrame({\n",
    "    'nombre':['Juan','María','Pedro','Patricia','Ana'],\n",
    "    'edad': [10, 12, 20, 23, 5]\n",
    "})\n",
    "df_alturas = pd.DataFrame({\n",
    "    'nombre':['Juan','María'],\n",
    "    'altura': [100, 120]\n",
    "})\n",
    "print(df_edades)\n",
    "print(\"---------------------\")\n",
    "print(df_alturas)"
   ]
  },
  {
   "cell_type": "code",
   "execution_count": null,
   "id": "211de1ac-fa31-481c-a40f-142c840c54b1",
   "metadata": {
    "id": "211de1ac-fa31-481c-a40f-142c840c54b1"
   },
   "outputs": [],
   "source": [
    "#Obtenemos un nuevo dataframe con la edad y altura\n",
    "pd.merge(df_edades,df_alturas)"
   ]
  },
  {
   "cell_type": "code",
   "execution_count": null,
   "id": "76d96f21-a852-485f-ae1d-f7633e0cc9fe",
   "metadata": {
    "id": "76d96f21-a852-485f-ae1d-f7633e0cc9fe"
   },
   "outputs": [],
   "source": [
    "#Podemos indicar la columna sobre la que hacer el join\n",
    "pd.merge(df_edades,df_alturas, on='nombre')"
   ]
  },
  {
   "cell_type": "code",
   "execution_count": null,
   "id": "e0585994-8bfc-4d95-aecf-95cf4f845150",
   "metadata": {
    "id": "e0585994-8bfc-4d95-aecf-95cf4f845150"
   },
   "outputs": [],
   "source": [
    "#Modificamos los dataframes para que la columna clave no se llame igual\n",
    "df_edades.columns=['nomEdad', 'edad']\n",
    "df_alturas.columns=['nomAltura', 'altura']\n",
    "\n",
    "#Si hacemos el merge sin especificar columnas dará un error al no existir ninguna columna en común\n",
    "#Especificamos ambas\n",
    "pd.merge(df_edades, df_alturas, left_on='nomEdad', right_on='nomAltura')"
   ]
  },
  {
   "cell_type": "code",
   "execution_count": null,
   "id": "2b741551-f115-4e1c-8828-b7d2cc7cf8ee",
   "metadata": {
    "id": "2b741551-f115-4e1c-8828-b7d2cc7cf8ee"
   },
   "outputs": [],
   "source": [
    "#¿Qué ocurre si existe una columna que se llama igual en ambos dataframes\n",
    "# y no se usa como clave de join?\n",
    "\n",
    "#Añadimos una columna a cada dataframe que se llame igual\n",
    "df_edades['País'] = ['España', 'Francia', 'Alemania', 'Francia', 'España']\n",
    "df_alturas['País'] = ['España', 'Francia']\n",
    "\n",
    "pd.merge(df_edades, df_alturas, left_on='nomEdad', right_on='nomAltura')"
   ]
  },
  {
   "cell_type": "code",
   "execution_count": null,
   "id": "6a34eaf7-87b1-4e17-bc56-2db59ea3e193",
   "metadata": {
    "id": "6a34eaf7-87b1-4e17-bc56-2db59ea3e193"
   },
   "outputs": [],
   "source": [
    "#Hacemos el merge indicando los sufijos para las columnas comunes\n",
    "pd.merge(df_edades, df_alturas, left_on='nomEdad', right_on='nomAltura',\n",
    "         suffixes=('_primera','_segunda'))"
   ]
  },
  {
   "cell_type": "code",
   "execution_count": null,
   "id": "c810cc54-bd5f-4dab-bf3f-b1924e3291b7",
   "metadata": {
    "id": "c810cc54-bd5f-4dab-bf3f-b1924e3291b7"
   },
   "outputs": [],
   "source": [
    "#Hacemos un left outer join\n",
    "pd.merge(df_edades, df_alturas, left_on='nomEdad', right_on='nomAltura',\n",
    "         suffixes=('_primera','_segunda'), how='left')"
   ]
  },
  {
   "cell_type": "code",
   "execution_count": null,
   "id": "a69b5fdc-b32b-4ae8-8188-e7f7d36ab971",
   "metadata": {
    "id": "a69b5fdc-b32b-4ae8-8188-e7f7d36ab971"
   },
   "outputs": [],
   "source": [
    "#Hacemos un right outer join\n",
    "pd.merge(df_edades, df_alturas, left_on='nomEdad', right_on='nomAltura',\n",
    "         suffixes=('_primera','_segunda'), how='right')"
   ]
  },
  {
   "cell_type": "code",
   "execution_count": null,
   "id": "40cc91c2-e001-44da-b282-40d38bfc21e7",
   "metadata": {
    "id": "40cc91c2-e001-44da-b282-40d38bfc21e7"
   },
   "outputs": [],
   "source": [
    "#En caso de tener relaciones Many to Many, el resultado es el producto cartesiano\n",
    "df_edades = pd.DataFrame({\n",
    "    'nombre':['Juan','María','Juan','Patricia','Ana'],\n",
    "    'edad': [10, 12, 20, 23, 5]\n",
    "})\n",
    "df_alturas = pd.DataFrame({\n",
    "    'nombre':['Juan','María','Juan'],\n",
    "    'altura': [100, 120, 150]\n",
    "})\n",
    "pd.merge(df_edades,df_alturas)"
   ]
  },
  {
   "cell_type": "code",
   "execution_count": null,
   "id": "89bdc5d1-1abe-429e-beba-fb98780b6aa4",
   "metadata": {
    "id": "89bdc5d1-1abe-429e-beba-fb98780b6aa4"
   },
   "outputs": [],
   "source": [
    "#Definimos los dataframes para mergear por el índice\n",
    "df_edades = pd.DataFrame(\n",
    "    [[10, 'España'], [12, 'Francia'], [20,'Alemania' ], [23, 'Francia'], [5, 'España']],\n",
    "    index = ['Juan','María','Pedro','Patricia','Ana'],\n",
    "    columns = ['edad', 'país']\n",
    ")\n",
    "df_alturas = pd.DataFrame(\n",
    "    [[100, 'España'],[120, 'Francia']],\n",
    "    index = ['Juan','María'],\n",
    "    columns = ['altura','país']\n",
    ")\n",
    "\n",
    "print(df_edades)\n",
    "print(\"--------------------------\")\n",
    "print(df_alturas)\n"
   ]
  },
  {
   "cell_type": "code",
   "execution_count": null,
   "id": "b9e2d137-9cf0-4520-93aa-063deb734d38",
   "metadata": {
    "id": "b9e2d137-9cf0-4520-93aa-063deb734d38"
   },
   "outputs": [],
   "source": [
    "#Hacemos el merge usando como clave el índice de ambos dataframes\n",
    "pd.merge(df_edades, df_alturas, left_index=True, right_index=True)"
   ]
  },
  {
   "cell_type": "code",
   "execution_count": null,
   "id": "e4d0fb61-e85b-40e5-a0de-1e5b8bb735f9",
   "metadata": {
    "id": "e4d0fb61-e85b-40e5-a0de-1e5b8bb735f9"
   },
   "outputs": [],
   "source": [
    "#Definimos un dataframe con la clave (nombre) en el índice.\n",
    "# El otro dataframe la tiene en la columna\n",
    "df_edades = pd.DataFrame(\n",
    "    [[10, 'España'], [12, 'Francia'], [20,'Alemania' ], [23, 'Francia'], [5, 'España']],\n",
    "    index = ['Juan','María','Pedro','Patricia','Ana'],\n",
    "    columns = ['edad', 'país']\n",
    ")\n",
    "df_alturas = pd.DataFrame({\n",
    "    'nombre':['Juan','María'],\n",
    "    'altura': [100, 120],\n",
    "    'país': ['España', 'Francia']\n",
    "})\n",
    "\n",
    "print(df_edades)\n",
    "print(df_alturas)\n",
    "\n",
    "#Hacemos merge entre ambas\n",
    "pd.merge(df_edades, df_alturas, left_index=True, right_on='nombre')"
   ]
  },
  {
   "cell_type": "code",
   "execution_count": null,
   "id": "5b27632e-8cbb-40b6-921d-82965ca74651",
   "metadata": {
    "id": "5b27632e-8cbb-40b6-921d-82965ca74651"
   },
   "outputs": [],
   "source": [
    "#Merge utilizando método join\n",
    "#Definimos los dataframes para mergear por el índice\n",
    "df_edades = pd.DataFrame(\n",
    "    [[10, 'España'], [12, 'Francia'], [20,'Alemania' ], [23, 'Francia'], [5, 'España']],\n",
    "    index = ['Juan','María','Pedro','Patricia','Ana'],\n",
    "    columns = ['edad', 'país']\n",
    ")\n",
    "df_alturas = pd.DataFrame(\n",
    "    [[100, 'España'],[120, 'Francia']],\n",
    "    index = ['Juan','María'],\n",
    "    columns = ['altura','país']\n",
    ")\n",
    "\n",
    "print(df_edades)\n",
    "print(\"--------------------------\")\n",
    "print(df_alturas)\n",
    "\n",
    "df_edades.join(df_alturas,lsuffix='_primera')"
   ]
  },
  {
   "cell_type": "markdown",
   "id": "ae97de16-8826-4836-89cc-cdd090d4bd11",
   "metadata": {
    "id": "ae97de16-8826-4836-89cc-cdd090d4bd11",
    "jp-MarkdownHeadingCollapsed": true,
    "tags": []
   },
   "source": [
    "## concat"
   ]
  },
  {
   "cell_type": "code",
   "execution_count": null,
   "id": "44028f7c-1d97-4770-9a42-23104dad93c3",
   "metadata": {
    "id": "44028f7c-1d97-4770-9a42-23104dad93c3"
   },
   "outputs": [],
   "source": [
    "df_edades = pd.DataFrame(\n",
    "    [[10, 'España'], [12, 'Francia'], [20,'Alemania' ], [23, 'Francia'], [5, 'España']],\n",
    "    index = ['Juan','María','Pedro','Patricia','Ana'],\n",
    "    columns = ['edad', 'país']\n",
    ")\n",
    "df_alturas = pd.DataFrame(\n",
    "    [[100, 'España'],[120, 'Francia']],\n",
    "    index = ['Juan','María'],\n",
    "    columns = ['altura','país']\n",
    ")\n",
    "print(df_edades)\n",
    "print(\"---------------------------\")\n",
    "print(df_alturas)"
   ]
  },
  {
   "cell_type": "code",
   "execution_count": null,
   "id": "07625cb6-2e9f-40f6-89e6-f256ce368053",
   "metadata": {
    "id": "07625cb6-2e9f-40f6-89e6-f256ce368053"
   },
   "outputs": [],
   "source": [
    "#Concatenación de filas\n",
    "pd.concat([df_edades, df_alturas])"
   ]
  },
  {
   "cell_type": "code",
   "execution_count": null,
   "id": "fa4773bd-1473-49dc-8508-2a07270088d7",
   "metadata": {
    "id": "fa4773bd-1473-49dc-8508-2a07270088d7"
   },
   "outputs": [],
   "source": [
    "#Concarenamos las filas, ignorando los índices existentes\n",
    "pd.concat([df_edades, df_alturas], ignore_index=True)"
   ]
  },
  {
   "cell_type": "code",
   "execution_count": null,
   "id": "13141817-a51a-403c-967a-d0afe68abf25",
   "metadata": {
    "id": "13141817-a51a-403c-967a-d0afe68abf25"
   },
   "outputs": [],
   "source": [
    "#Concatenación de filas generando multiíndice\n",
    "pd.concat([df_edades, df_alturas], keys=['Tabla1', 'Tabla2'])"
   ]
  },
  {
   "cell_type": "code",
   "execution_count": null,
   "id": "e70e1c30-9ca6-4f1f-b98b-efd8ca5a6df4",
   "metadata": {
    "id": "e70e1c30-9ca6-4f1f-b98b-efd8ca5a6df4"
   },
   "outputs": [],
   "source": [
    "#Equivalente al anterior. Concatenación en filas generando multiíndice\n",
    "pd.concat({'Tabla1': df_edades, 'Tabla2': df_alturas})"
   ]
  },
  {
   "cell_type": "code",
   "execution_count": null,
   "id": "05d4ea2b-8658-4c67-bf5a-4388df15ea85",
   "metadata": {
    "id": "05d4ea2b-8658-4c67-bf5a-4388df15ea85"
   },
   "outputs": [],
   "source": [
    "#Concatenación de columnas\n",
    "pd.concat([df_edades, df_alturas], axis=1)"
   ]
  },
  {
   "cell_type": "code",
   "execution_count": null,
   "id": "1291e363-8bc5-4ccf-b25c-964d8250d6f3",
   "metadata": {
    "id": "1291e363-8bc5-4ccf-b25c-964d8250d6f3"
   },
   "outputs": [],
   "source": [
    "#Concatenación de columnas reseteando los nombre de columnas\n",
    "pd.concat([df_edades, df_alturas], ignore_index = True, axis=1)"
   ]
  },
  {
   "cell_type": "code",
   "execution_count": null,
   "id": "f1152978-c9db-4838-b225-ef44de5eadf6",
   "metadata": {
    "id": "f1152978-c9db-4838-b225-ef44de5eadf6"
   },
   "outputs": [],
   "source": [
    "#Generación de varios niveles de nombre de columnas\n",
    "pd.concat([df_edades, df_alturas], keys=['Tabla1', 'Tabla2'], axis=1)"
   ]
  },
  {
   "cell_type": "code",
   "execution_count": null,
   "id": "c851c62e-7223-4f31-9e2c-8006ab6a2368",
   "metadata": {
    "id": "c851c62e-7223-4f31-9e2c-8006ab6a2368"
   },
   "outputs": [],
   "source": [
    "#Equivalente al anterior, mediante un diccionario\n",
    "pd.concat({'Tabla1': df_edades, 'Tabla2': df_alturas}, axis=1)"
   ]
  },
  {
   "cell_type": "markdown",
   "id": "e51acb3c-95de-44f1-84a4-df717ee95502",
   "metadata": {
    "id": "e51acb3c-95de-44f1-84a4-df717ee95502",
    "jp-MarkdownHeadingCollapsed": true,
    "tags": []
   },
   "source": [
    "## combine_first"
   ]
  },
  {
   "cell_type": "code",
   "execution_count": null,
   "id": "858347da-742c-483f-bd8d-574a3bab0102",
   "metadata": {
    "id": "858347da-742c-483f-bd8d-574a3bab0102"
   },
   "outputs": [],
   "source": [
    "#Dataframes para el ejemplo\n",
    "df_edades = pd.DataFrame(\n",
    "    [[10, np.NaN], [12, 'Francia'], [20,'Alemania' ], [23, np.NaN], [5, 'España']],\n",
    "    index = ['Juan','María','Pedro','Patricia','Ana'],\n",
    "    columns = ['edad', 'país']\n",
    ")\n",
    "df_paises = pd.DataFrame(\n",
    "    ['España','Francia'],\n",
    "    index = ['Juan','María'],\n",
    "    columns = ['país']\n",
    ")\n",
    "print(df_edades)\n",
    "print(\"---------------------------\")\n",
    "print(df_paises)"
   ]
  },
  {
   "cell_type": "code",
   "execution_count": null,
   "id": "12fefd01-4a95-4931-9285-fb994ecbac28",
   "metadata": {
    "id": "12fefd01-4a95-4931-9285-fb994ecbac28"
   },
   "outputs": [],
   "source": [
    "#Combinamos rellenando huecos\n",
    "df_edades.combine_first(df_paises)"
   ]
  },
  {
   "cell_type": "code",
   "execution_count": null,
   "id": "3eaf24cb-e679-4f85-b184-f82dac4fd704",
   "metadata": {
    "id": "3eaf24cb-e679-4f85-b184-f82dac4fd704"
   },
   "outputs": [],
   "source": [
    "#Dataframes para el ejemplo\n",
    "df_edades = pd.DataFrame(\n",
    "    [[10, np.NaN], [12, 'Francia'], [20,'Alemania' ], [23, np.NaN], [5, 'España']],\n",
    "    index = ['Juan','María','Pedro','Patricia','Ana'],\n",
    "    columns = ['edad', 'país']\n",
    ")\n",
    "df_alturas = pd.DataFrame(\n",
    "    [[100, 'España'],[120, 'Francia']],\n",
    "    index = ['Juan','María'],\n",
    "    columns = ['altura','país']\n",
    ")\n",
    "print(df_edades)\n",
    "print(\"---------------------------\")\n",
    "print(df_alturas)"
   ]
  },
  {
   "cell_type": "code",
   "execution_count": null,
   "id": "11645de4-a188-48c0-af3d-13c2e63c825f",
   "metadata": {
    "id": "11645de4-a188-48c0-af3d-13c2e63c825f"
   },
   "outputs": [],
   "source": [
    "df_edades.combine_first(df_alturas)"
   ]
  }
 ],
 "metadata": {
  "colab": {
   "provenance": []
  },
  "kernelspec": {
   "display_name": "Python 3 (ipykernel)",
   "language": "python",
   "name": "python3"
  },
  "language_info": {
   "codemirror_mode": {
    "name": "ipython",
    "version": 3
   },
   "file_extension": ".py",
   "mimetype": "text/x-python",
   "name": "python",
   "nbconvert_exporter": "python",
   "pygments_lexer": "ipython3",
   "version": "3.11.6"
  }
 },
 "nbformat": 4,
 "nbformat_minor": 5
}
