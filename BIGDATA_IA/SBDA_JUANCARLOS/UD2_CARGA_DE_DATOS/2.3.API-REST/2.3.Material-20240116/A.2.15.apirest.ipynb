{
 "cells": [
  {
   "cell_type": "markdown",
   "id": "ce7dda42-14ff-4e97-acea-90cd37b88751",
   "metadata": {},
   "source": [
    "### API REST"
   ]
  },
  {
   "cell_type": "markdown",
   "id": "3b372d18-02f2-44a9-be22-61d6425e4880",
   "metadata": {},
   "source": [
    "#### 1. Tweepy"
   ]
  },
  {
   "cell_type": "markdown",
   "id": "84a81e95-5baf-4f18-a20a-e811b945ed65",
   "metadata": {},
   "source": [
    "Empezamos con el código.\n",
    "\n",
    "Verás que hay dos métodos de la clase Client:\n",
    "\n",
    "● search_all_tweets: de todo el histórico.\n",
    "\n",
    "● search_recent_tweets: últimos 7 días.\n",
    "\n",
    "https://developer.twitter.com/en/docs/twitter-api/tweets/search/api-reference/get-tweets-search-recent"
   ]
  },
  {
   "cell_type": "code",
   "execution_count": 3,
   "id": "5bfd11a3-19df-44b8-b9b1-56f647fe5117",
   "metadata": {},
   "outputs": [
    {
     "name": "stdout",
     "output_type": "stream",
     "text": [
      "Authentication OK.\n"
     ]
    },
    {
     "name": "stdin",
     "output_type": "stream",
     "text": [
      "Introduce la palabra clave:  diabetes\n",
      "¿Cuántos tweets quieres recuperar?:  10\n"
     ]
    },
    {
     "ename": "Unauthorized",
     "evalue": "401 Unauthorized\nUnauthorized",
     "output_type": "error",
     "traceback": [
      "\u001b[0;31m---------------------------------------------------------------------------\u001b[0m",
      "\u001b[0;31mUnauthorized\u001b[0m                              Traceback (most recent call last)",
      "Cell \u001b[0;32mIn[3], line 33\u001b[0m\n\u001b[1;32m     30\u001b[0m numTweet \u001b[38;5;241m=\u001b[39m \u001b[38;5;28mint\u001b[39m(\u001b[38;5;28minput\u001b[39m (\u001b[38;5;124m\"\u001b[39m\u001b[38;5;124m¿Cuántos tweets quieres recuperar?: \u001b[39m\u001b[38;5;124m\"\u001b[39m))\n\u001b[1;32m     32\u001b[0m \u001b[38;5;66;03m#Realizamos la consulta\u001b[39;00m\n\u001b[0;32m---> 33\u001b[0m tweets \u001b[38;5;241m=\u001b[39m \u001b[43mcliente\u001b[49m\u001b[38;5;241;43m.\u001b[39;49m\u001b[43msearch_recent_tweets\u001b[49m\u001b[43m(\u001b[49m\n\u001b[1;32m     34\u001b[0m \u001b[43mquery\u001b[49m\u001b[38;5;241;43m=\u001b[39;49m\u001b[43mconsulta\u001b[49m\u001b[43m,\u001b[49m\n\u001b[1;32m     35\u001b[0m \u001b[43mmax_results\u001b[49m\u001b[38;5;241;43m=\u001b[39;49m\u001b[43mnumTweet\u001b[49m\u001b[43m,\u001b[49m\n\u001b[1;32m     36\u001b[0m \u001b[43mexpansions\u001b[49m\u001b[38;5;241;43m=\u001b[39;49m\u001b[38;5;124;43m'\u001b[39;49m\u001b[38;5;124;43mauthor_id\u001b[39;49m\u001b[38;5;124;43m'\u001b[39;49m\u001b[43m,\u001b[49m\n\u001b[1;32m     37\u001b[0m \u001b[43m)\u001b[49m\n\u001b[1;32m     39\u001b[0m \u001b[38;5;66;03m#Vamos preparando la salida\u001b[39;00m\n\u001b[1;32m     41\u001b[0m df \u001b[38;5;241m=\u001b[39m pd\u001b[38;5;241m.\u001b[39mDataFrame(tweets\u001b[38;5;241m.\u001b[39mdata)\n",
      "File \u001b[0;32m/opt/conda/lib/python3.11/site-packages/tweepy/client.py:1266\u001b[0m, in \u001b[0;36mClient.search_recent_tweets\u001b[0;34m(self, query, user_auth, **params)\u001b[0m\n\u001b[1;32m   1174\u001b[0m \u001b[38;5;250m\u001b[39m\u001b[38;5;124;03m\"\"\"search_recent_tweets( \\\u001b[39;00m\n\u001b[1;32m   1175\u001b[0m \u001b[38;5;124;03m    query, *, end_time=None, expansions=None, max_results=None, \\\u001b[39;00m\n\u001b[1;32m   1176\u001b[0m \u001b[38;5;124;03m    media_fields=None, next_token=None, place_fields=None, \\\u001b[39;00m\n\u001b[0;32m   (...)\u001b[0m\n\u001b[1;32m   1263\u001b[0m \u001b[38;5;124;03m.. _Academic Research Project: https://developer.twitter.com/en/docs/projects\u001b[39;00m\n\u001b[1;32m   1264\u001b[0m \u001b[38;5;124;03m\"\"\"\u001b[39;00m\n\u001b[1;32m   1265\u001b[0m params[\u001b[38;5;124m\"\u001b[39m\u001b[38;5;124mquery\u001b[39m\u001b[38;5;124m\"\u001b[39m] \u001b[38;5;241m=\u001b[39m query\n\u001b[0;32m-> 1266\u001b[0m \u001b[38;5;28;01mreturn\u001b[39;00m \u001b[38;5;28;43mself\u001b[39;49m\u001b[38;5;241;43m.\u001b[39;49m\u001b[43m_make_request\u001b[49m\u001b[43m(\u001b[49m\n\u001b[1;32m   1267\u001b[0m \u001b[43m    \u001b[49m\u001b[38;5;124;43m\"\u001b[39;49m\u001b[38;5;124;43mGET\u001b[39;49m\u001b[38;5;124;43m\"\u001b[39;49m\u001b[43m,\u001b[49m\u001b[43m \u001b[49m\u001b[38;5;124;43m\"\u001b[39;49m\u001b[38;5;124;43m/2/tweets/search/recent\u001b[39;49m\u001b[38;5;124;43m\"\u001b[39;49m\u001b[43m,\u001b[49m\u001b[43m \u001b[49m\u001b[43mparams\u001b[49m\u001b[38;5;241;43m=\u001b[39;49m\u001b[43mparams\u001b[49m\u001b[43m,\u001b[49m\n\u001b[1;32m   1268\u001b[0m \u001b[43m    \u001b[49m\u001b[43mendpoint_parameters\u001b[49m\u001b[38;5;241;43m=\u001b[39;49m\u001b[43m(\u001b[49m\n\u001b[1;32m   1269\u001b[0m \u001b[43m        \u001b[49m\u001b[38;5;124;43m\"\u001b[39;49m\u001b[38;5;124;43mend_time\u001b[39;49m\u001b[38;5;124;43m\"\u001b[39;49m\u001b[43m,\u001b[49m\u001b[43m \u001b[49m\u001b[38;5;124;43m\"\u001b[39;49m\u001b[38;5;124;43mexpansions\u001b[39;49m\u001b[38;5;124;43m\"\u001b[39;49m\u001b[43m,\u001b[49m\u001b[43m \u001b[49m\u001b[38;5;124;43m\"\u001b[39;49m\u001b[38;5;124;43mmax_results\u001b[39;49m\u001b[38;5;124;43m\"\u001b[39;49m\u001b[43m,\u001b[49m\u001b[43m \u001b[49m\u001b[38;5;124;43m\"\u001b[39;49m\u001b[38;5;124;43mmedia.fields\u001b[39;49m\u001b[38;5;124;43m\"\u001b[39;49m\u001b[43m,\u001b[49m\n\u001b[1;32m   1270\u001b[0m \u001b[43m        \u001b[49m\u001b[38;5;124;43m\"\u001b[39;49m\u001b[38;5;124;43mnext_token\u001b[39;49m\u001b[38;5;124;43m\"\u001b[39;49m\u001b[43m,\u001b[49m\u001b[43m \u001b[49m\u001b[38;5;124;43m\"\u001b[39;49m\u001b[38;5;124;43mplace.fields\u001b[39;49m\u001b[38;5;124;43m\"\u001b[39;49m\u001b[43m,\u001b[49m\u001b[43m \u001b[49m\u001b[38;5;124;43m\"\u001b[39;49m\u001b[38;5;124;43mpoll.fields\u001b[39;49m\u001b[38;5;124;43m\"\u001b[39;49m\u001b[43m,\u001b[49m\u001b[43m \u001b[49m\u001b[38;5;124;43m\"\u001b[39;49m\u001b[38;5;124;43mquery\u001b[39;49m\u001b[38;5;124;43m\"\u001b[39;49m\u001b[43m,\u001b[49m\n\u001b[1;32m   1271\u001b[0m \u001b[43m        \u001b[49m\u001b[38;5;124;43m\"\u001b[39;49m\u001b[38;5;124;43msince_id\u001b[39;49m\u001b[38;5;124;43m\"\u001b[39;49m\u001b[43m,\u001b[49m\u001b[43m \u001b[49m\u001b[38;5;124;43m\"\u001b[39;49m\u001b[38;5;124;43msort_order\u001b[39;49m\u001b[38;5;124;43m\"\u001b[39;49m\u001b[43m,\u001b[49m\u001b[43m \u001b[49m\u001b[38;5;124;43m\"\u001b[39;49m\u001b[38;5;124;43mstart_time\u001b[39;49m\u001b[38;5;124;43m\"\u001b[39;49m\u001b[43m,\u001b[49m\u001b[43m \u001b[49m\u001b[38;5;124;43m\"\u001b[39;49m\u001b[38;5;124;43mtweet.fields\u001b[39;49m\u001b[38;5;124;43m\"\u001b[39;49m\u001b[43m,\u001b[49m\n\u001b[1;32m   1272\u001b[0m \u001b[43m        \u001b[49m\u001b[38;5;124;43m\"\u001b[39;49m\u001b[38;5;124;43muntil_id\u001b[39;49m\u001b[38;5;124;43m\"\u001b[39;49m\u001b[43m,\u001b[49m\u001b[43m \u001b[49m\u001b[38;5;124;43m\"\u001b[39;49m\u001b[38;5;124;43muser.fields\u001b[39;49m\u001b[38;5;124;43m\"\u001b[39;49m\n\u001b[1;32m   1273\u001b[0m \u001b[43m    \u001b[49m\u001b[43m)\u001b[49m\u001b[43m,\u001b[49m\u001b[43m \u001b[49m\u001b[43mdata_type\u001b[49m\u001b[38;5;241;43m=\u001b[39;49m\u001b[43mTweet\u001b[49m\u001b[43m,\u001b[49m\u001b[43m \u001b[49m\u001b[43muser_auth\u001b[49m\u001b[38;5;241;43m=\u001b[39;49m\u001b[43muser_auth\u001b[49m\n\u001b[1;32m   1274\u001b[0m \u001b[43m\u001b[49m\u001b[43m)\u001b[49m\n",
      "File \u001b[0;32m/opt/conda/lib/python3.11/site-packages/tweepy/client.py:129\u001b[0m, in \u001b[0;36mBaseClient._make_request\u001b[0;34m(self, method, route, params, endpoint_parameters, json, data_type, user_auth)\u001b[0m\n\u001b[1;32m    123\u001b[0m \u001b[38;5;28;01mdef\u001b[39;00m \u001b[38;5;21m_make_request\u001b[39m(\n\u001b[1;32m    124\u001b[0m     \u001b[38;5;28mself\u001b[39m, method, route, params\u001b[38;5;241m=\u001b[39m{}, endpoint_parameters\u001b[38;5;241m=\u001b[39m(), json\u001b[38;5;241m=\u001b[39m\u001b[38;5;28;01mNone\u001b[39;00m,\n\u001b[1;32m    125\u001b[0m     data_type\u001b[38;5;241m=\u001b[39m\u001b[38;5;28;01mNone\u001b[39;00m, user_auth\u001b[38;5;241m=\u001b[39m\u001b[38;5;28;01mFalse\u001b[39;00m\n\u001b[1;32m    126\u001b[0m ):\n\u001b[1;32m    127\u001b[0m     request_params \u001b[38;5;241m=\u001b[39m \u001b[38;5;28mself\u001b[39m\u001b[38;5;241m.\u001b[39m_process_params(params, endpoint_parameters)\n\u001b[0;32m--> 129\u001b[0m     response \u001b[38;5;241m=\u001b[39m \u001b[38;5;28;43mself\u001b[39;49m\u001b[38;5;241;43m.\u001b[39;49m\u001b[43mrequest\u001b[49m\u001b[43m(\u001b[49m\u001b[43mmethod\u001b[49m\u001b[43m,\u001b[49m\u001b[43m \u001b[49m\u001b[43mroute\u001b[49m\u001b[43m,\u001b[49m\u001b[43m \u001b[49m\u001b[43mparams\u001b[49m\u001b[38;5;241;43m=\u001b[39;49m\u001b[43mrequest_params\u001b[49m\u001b[43m,\u001b[49m\n\u001b[1;32m    130\u001b[0m \u001b[43m                            \u001b[49m\u001b[43mjson\u001b[49m\u001b[38;5;241;43m=\u001b[39;49m\u001b[43mjson\u001b[49m\u001b[43m,\u001b[49m\u001b[43m \u001b[49m\u001b[43muser_auth\u001b[49m\u001b[38;5;241;43m=\u001b[39;49m\u001b[43muser_auth\u001b[49m\u001b[43m)\u001b[49m\n\u001b[1;32m    132\u001b[0m     \u001b[38;5;28;01mif\u001b[39;00m \u001b[38;5;28mself\u001b[39m\u001b[38;5;241m.\u001b[39mreturn_type \u001b[38;5;129;01mis\u001b[39;00m requests\u001b[38;5;241m.\u001b[39mResponse:\n\u001b[1;32m    133\u001b[0m         \u001b[38;5;28;01mreturn\u001b[39;00m response\n",
      "File \u001b[0;32m/opt/conda/lib/python3.11/site-packages/tweepy/client.py:98\u001b[0m, in \u001b[0;36mBaseClient.request\u001b[0;34m(self, method, route, params, json, user_auth)\u001b[0m\n\u001b[1;32m     96\u001b[0m     \u001b[38;5;28;01mraise\u001b[39;00m BadRequest(response)\n\u001b[1;32m     97\u001b[0m \u001b[38;5;28;01mif\u001b[39;00m response\u001b[38;5;241m.\u001b[39mstatus_code \u001b[38;5;241m==\u001b[39m \u001b[38;5;241m401\u001b[39m:\n\u001b[0;32m---> 98\u001b[0m     \u001b[38;5;28;01mraise\u001b[39;00m Unauthorized(response)\n\u001b[1;32m     99\u001b[0m \u001b[38;5;28;01mif\u001b[39;00m response\u001b[38;5;241m.\u001b[39mstatus_code \u001b[38;5;241m==\u001b[39m \u001b[38;5;241m403\u001b[39m:\n\u001b[1;32m    100\u001b[0m     \u001b[38;5;28;01mraise\u001b[39;00m Forbidden(response)\n",
      "\u001b[0;31mUnauthorized\u001b[0m: 401 Unauthorized\nUnauthorized"
     ]
    }
   ],
   "source": [
    "import tweepy\n",
    "import numpy as np\n",
    "import pandas as pd\n",
    "\n",
    "# Replace these values with your actual keys and tokens\n",
    "# api_key = 'DcX1p65pJqWVClE3e5c943Oe6'\n",
    "# api_secret_key = 'Sh3cS2Z9HcQPCPNKaW0ROIE6wweKf9IjmK0T7v50R5EhJyQrat'\n",
    "# access_token = '1505633898486800384-CIX78cr9Uva0VyTJkzl4kDWZtvoqXc'\n",
    "# access_token_secret = 'onuAf8JeAUVab4nWB7GWB8wev1KiS2tUHPZ4ZwB3dDWBN'\n",
    "auth = tweepy.OAuth2BearerHandler('AAAAAAAAAAAAAAAAAAAAAF6KpgEAAAAAVBs3jE3dGvngx7peoSyxteRTIBk%3DEArDRDzCFf0eEJUY0DR9lFhR0NWB4ffRoMxpzxvbEeLu4gwkf2')\n",
    "\n",
    "# Authenticate with Twitter API\n",
    "try:\n",
    "    cliente = tweepy.Client(auth, wait_on_rate_limit = True)\n",
    "    # Authenticate with Twitter API\n",
    "    #auth = tweepy.OAuthHandler(api_key, api_secret_key)\n",
    "    #auth.set_access_token(access_token, access_token_secret)\n",
    "    cliente = tweepy.Client(auth)\n",
    "\n",
    "    # Retrieve the authenticated user's profile\n",
    "\n",
    "    print(f\"Authentication OK.\")\n",
    "\n",
    "except tweepy.errors.Forbidden as e:\n",
    "    # Handle authentication errors\n",
    "    print(\"Error during authentication:\", e)\n",
    "\n",
    "#Parámetros de la consulta\n",
    "consulta = input(\"Introduce la palabra clave: \")\n",
    "numTweet = int(input (\"¿Cuántos tweets quieres recuperar?: \"))\n",
    "\n",
    "#Realizamos la consulta\n",
    "tweets = cliente.search_recent_tweets(\n",
    "query=consulta,\n",
    "max_results=numTweet,\n",
    "expansions='author_id',\n",
    ")\n",
    "\n",
    "#Vamos preparando la salida\n",
    "\n",
    "df = pd.DataFrame(tweets.data)\n",
    "df.head()\n",
    "\n"
   ]
  },
  {
   "cell_type": "markdown",
   "id": "14432f65-1f00-4557-a782-09ebe11d7c81",
   "metadata": {},
   "source": [
    "El error que se obtiene no es debido al código sino a que recientemente Twitter ha cambiado las condiciones del plan Free de desarrolladores en el momento que se probó:\n",
    "_______________________________________________________________________________________________________________________\n",
    "Your app has the Free access tier which only allows:\n",
    "\n",
    "    Posting tweets with the Twitter API v2\n",
    "    Media Upload and Login With Twitter with the Twitter API v1.1\n",
    "\n",
    "To do anything else, you need at least the Basic access tier, which costs some money.\n",
    "\n",
    "The access tiers are documented in https://developer.twitter.com/en/docs/twitter-api/getting-started/about-twitter-api\n",
    "_______________________________________________________________________________________________________________________\n",
    "\n",
    "Antes el resultado era: "
   ]
  },
  {
   "attachments": {
    "3b43dd50-7133-4432-92c7-bc38a9655486.png": {
     "image/png": "[encoded data removed]"
    }
   },
   "cell_type": "markdown",
   "id": "1f239296-3fbc-419a-9ebb-19fdb741e5d8",
   "metadata": {},
   "source": [
    "![img3.png](attachment:3b43dd50-7133-4432-92c7-bc38a9655486.png)"
   ]
  },
  {
   "cell_type": "markdown",
   "id": "5c9fccd5-354e-401e-bade-f0070ca969c9",
   "metadata": {},
   "source": [
    "Si, por ejemplo, quisiésemos añadir el objeto users (usuarios) dentro de includes, añadiríamos las modificaciones siguientes."
   ]
  },
  {
   "cell_type": "code",
   "execution_count": 4,
   "id": "72eb9a74-790a-4037-adb6-078d31d3df5a",
   "metadata": {},
   "outputs": [
    {
     "ename": "NameError",
     "evalue": "name 'tweets' is not defined",
     "output_type": "error",
     "traceback": [
      "\u001b[0;31m---------------------------------------------------------------------------\u001b[0m",
      "\u001b[0;31mNameError\u001b[0m                                 Traceback (most recent call last)",
      "Cell \u001b[0;32mIn[4], line 1\u001b[0m\n\u001b[0;32m----> 1\u001b[0m usuarios \u001b[38;5;241m=\u001b[39m \u001b[43mtweets\u001b[49m\u001b[38;5;241m.\u001b[39mincludes[\u001b[38;5;124m'\u001b[39m\u001b[38;5;124musers\u001b[39m\u001b[38;5;124m'\u001b[39m]\n\u001b[1;32m      3\u001b[0m \u001b[38;5;66;03m#Generamos un diccionario con id de autor y su username {autor_id: autor_usename}\u001b[39;00m\n\u001b[1;32m      4\u001b[0m \u001b[38;5;66;03m#fijarse en la función LAMBDA usual en Python\u001b[39;00m\n\u001b[1;32m      5\u001b[0m usuarios \u001b[38;5;241m=\u001b[39m {usuario\u001b[38;5;241m.\u001b[39mid: usuario\u001b[38;5;241m.\u001b[39musername \u001b[38;5;28;01mfor\u001b[39;00m usuario \u001b[38;5;129;01min\u001b[39;00m usuarios}\n",
      "\u001b[0;31mNameError\u001b[0m: name 'tweets' is not defined"
     ]
    }
   ],
   "source": [
    "usuarios = tweets.includes['users']\n",
    "\n",
    "#Generamos un diccionario con id de autor y su username {autor_id: autor_usename}\n",
    "#fijarse en la función LAMBDA usual en Python\n",
    "usuarios = {usuario.id: usuario.username for usuario in usuarios}\n",
    "\n",
    "# Construimos la lista con la que después generaremos el dataframe.\n",
    "# Cada elemento de la lista es un diccionario con los 3 campos que queremos\n",
    "\n",
    "lista_tweets = []\n",
    "\n",
    "for tweet in tweets.data:\n",
    "    lista_tweets.append({\n",
    "        'id': tweet.id,\n",
    "        'username': usuarios[tweet.author_id],\n",
    "        'texto': tweet.text\n",
    "})"
   ]
  },
  {
   "attachments": {
    "83d607ec-582c-4799-995f-be7fcde97a1b.PNG": {
     "image/png": "[encoded data removed]"
    }
   },
   "cell_type": "markdown",
   "id": "5f9e2a49-c897-4f3e-9d02-c74b3a0492bc",
   "metadata": {},
   "source": [
    "![img4.PNG](attachment:83d607ec-582c-4799-995f-be7fcde97a1b.PNG)"
   ]
  },
  {
   "cell_type": "markdown",
   "id": "2d150a62-bd6b-42d7-84ff-30d50be5ff20",
   "metadata": {},
   "source": [
    "Si quisiésemos, en vez de los últimos días, establecer una escucha continua, analizando en cada momento la posibilidad de patrón de interés, Streaming, se disponde la clase tweepy.StreamingClient"
   ]
  },
  {
   "cell_type": "code",
   "execution_count": 40,
   "id": "cbf76bc5-1bbd-4716-a78b-8ea14f286d0b",
   "metadata": {},
   "outputs": [
    {
     "name": "stdin",
     "output_type": "stream",
     "text": [
      "Introduce la palabra clave:  ucrania\n"
     ]
    }
   ],
   "source": [
    "import tweepy\n",
    "\n",
    "# Autenticación\n",
    "bearerToken = 'AAAAAAAAAAAAAAAAAAAAAF6KpgEAAAAAjQFfFHWsmzOLzAvZmW71fWDMSOU%3DnemLoAVrThuXupJV4nCUVKhYTI9F3OKHMNLTxHe0xepO9cRCKl'\n",
    "\n",
    "# Parámetros de la consulta\n",
    "consulta = input(\"Introduce la palabra clave: \")\n",
    "#Hacemos un override de StreamingClient para añadir método\n",
    "\n",
    "# a ejecutar cuando se genere un nuevo tweet. on_tweet cada vez que genera un tweet imprima su texto\n",
    "class capturaMisTweets(tweepy.StreamingClient):\n",
    "    def on_tweet(self, tweet):\n",
    "        print(tweet.text)\n",
    "        print(\"------------------\")\n",
    "        \n",
    "    # Creamos la instancia de cliente con el token de acceso.\n",
    "        cliente = capturaMisTweets(bearer_token=bearerToken)\n",
    "    \n",
    "    # Filtramos la consulta para que solo muestre lo que nos interesa, para pararlo botón stop\n",
    "        cliente.add_rules(tweepy.StreamRule(consulta))\n",
    "        cliente.filter()"
   ]
  },
  {
   "cell_type": "markdown",
   "id": "b3ec300f-db34-4068-8992-a30fc9249fc9",
   "metadata": {},
   "source": [
    "#### Utilizando la API Twitter"
   ]
  },
  {
   "cell_type": "markdown",
   "id": "0dedc156-5e11-4bb5-8f18-c641fd1a81e7",
   "metadata": {},
   "source": [
    "Partiremos de la siguiente petición con las modificaciones que se establecerán en el código:\n",
    "    \n",
    "    curl --request GET 'https://api.twitter.com/2/tweets/search/recent?query=from:twitterdev' --header 'Authorization: Bearer $BEARER_TOKEN'"
   ]
  },
  {
   "cell_type": "code",
   "execution_count": 27,
   "id": "082feeb1-102b-436d-bbad-3defb02e5cba",
   "metadata": {},
   "outputs": [
    {
     "name": "stdin",
     "output_type": "stream",
     "text": [
      "Introduce la palabra clave:  amnistía\n",
      "¿Cuántos tweets quieres recuperar?:  41\n"
     ]
    },
    {
     "name": "stdout",
     "output_type": "stream",
     "text": [
      "{\"client_id\":\"27691614\",\"detail\":\"When authenticating requests to the Twitter API v2 endpoints, you must use keys and tokens from a Twitter developer App that is attached to a Project. You can create a project via the developer portal.\",\"registration_url\":\"https://developer.twitter.com/en/docs/projects/overview\",\"title\":\"Client Forbidden\",\"required_enrollment\":\"Appropriate Level of API Access\",\"reason\":\"client-not-enrolled\",\"type\":\"https://api.twitter.com/2/problems/client-forbidden\"}\n"
     ]
    },
    {
     "ename": "KeyError",
     "evalue": "'data'",
     "output_type": "error",
     "traceback": [
      "\u001b[0;31m---------------------------------------------------------------------------\u001b[0m",
      "\u001b[0;31mKeyError\u001b[0m                                  Traceback (most recent call last)",
      "Cell \u001b[0;32mIn[27], line 21\u001b[0m\n\u001b[1;32m     17\u001b[0m tweets \u001b[38;5;241m=\u001b[39m response\u001b[38;5;241m.\u001b[39mjson()\n\u001b[1;32m     19\u001b[0m \u001b[38;5;66;03m# Mostramos el texto de los tweets obtenidos\u001b[39;00m\n\u001b[0;32m---> 21\u001b[0m \u001b[38;5;28;01mfor\u001b[39;00m tweet \u001b[38;5;129;01min\u001b[39;00m \u001b[43mtweets\u001b[49m\u001b[43m[\u001b[49m\u001b[38;5;124;43m'\u001b[39;49m\u001b[38;5;124;43mdata\u001b[39;49m\u001b[38;5;124;43m'\u001b[39;49m\u001b[43m]\u001b[49m:\n\u001b[1;32m     22\u001b[0m     \u001b[38;5;28mprint\u001b[39m(tweet[\u001b[38;5;124m'\u001b[39m\u001b[38;5;124msource\u001b[39m\u001b[38;5;124m'\u001b[39m], \u001b[38;5;124m\"\u001b[39m\u001b[38;5;124m:\u001b[39m\u001b[38;5;124m\"\u001b[39m, tweet[\u001b[38;5;124m'\u001b[39m\u001b[38;5;124mtext\u001b[39m\u001b[38;5;124m'\u001b[39m])\n\u001b[1;32m     23\u001b[0m     \u001b[38;5;28mprint\u001b[39m(\u001b[38;5;124m\"\u001b[39m\u001b[38;5;124m------------------\u001b[39m\u001b[38;5;124m\"\u001b[39m)\n",
      "\u001b[0;31mKeyError\u001b[0m: 'data'"
     ]
    }
   ],
   "source": [
    "import requests\n",
    "\n",
    "# Autenticación\n",
    "bearerToken = 'AAAAAAAAAAAAAAAAAAAAAF6KpgEAAAAAVBs3jE3dGvngx7peoSyxteRTIBk%3DEArDRDzCFf0eEJUY0DR9lFhR0NWB4ffRoMxpzxvbEeLu4gwkf2'\n",
    "\n",
    "# Endpoint de acceso\n",
    "url = 'https://api.twitter.com/2/tweets/search/recent'\n",
    "\n",
    "# Datos a buscar\n",
    "consulta = input(\"Introduce la palabra clave: \")\n",
    "numTweet = input (\"¿Cuántos tweets quieres recuperar?: \")\n",
    "\n",
    "# Realizamos la consulta. Debemos mandar en la cabecera el token de acceso\n",
    "response = requests.get(url + '?query=' + consulta + '&max_results=' + numTweet + '&tweet.fields=source', headers = { \"Authorization\": \"Bearer \" + bearerToken }\n",
    "    )\n",
    "print(response.text) #explicación del error\n",
    "tweets = response.json()\n",
    "\n",
    "# Mostramos el texto de los tweets obtenidos\n",
    "\n",
    "for tweet in tweets['data']:\n",
    "    print(tweet['source'], \":\", tweet['text'])\n",
    "    print(\"------------------\")\n",
    "        \n"
   ]
  },
  {
   "cell_type": "markdown",
   "id": "54f842f9-4c8d-4586-8047-2cb771658be3",
   "metadata": {},
   "source": [
    "Aunque el código está correcto nos da el mensaje de que no tenemos el nivel de acceso a la API. Recordemos que estamos en el plan Free. \n",
    "\n",
    "**He aquí el negocio de Twitter, no solo la publicidad. Nosotros, al usarlo, introducimos una cantidad de datos enorme que almacenan en sus BBDD, y a través de las API nos cobran el acceso a la misma para poder extraer patrones.**"
   ]
  },
  {
   "cell_type": "markdown",
   "id": "732b4761-56fe-4c6e-944d-3a26c30e26d8",
   "metadata": {},
   "source": [
    "#### 2. Geolocalización"
   ]
  },
  {
   "cell_type": "markdown",
   "id": "b2dd8c69-655b-4b88-9d85-00d87189aaee",
   "metadata": {},
   "source": [
    "**Nominatim** tiene dos métodos básicos.\n",
    "\n",
    ".**geocode**: devuelve datos a partir de la dirección\n",
    "\n",
    ".**reverse**: devuelve datos a parir de coordenadas.\n",
    "\n",
    "Empecemos con el código, previamente instalamos **geopy**."
   ]
  },
  {
   "cell_type": "code",
   "execution_count": 9,
   "id": "01f4be57-3f2e-445b-ae4a-9451ad4685b2",
   "metadata": {},
   "outputs": [
    {
     "name": "stdin",
     "output_type": "stream",
     "text": [
      "Por favor indique una direccion:  Avenida de Galicia, 101 Vigo\n"
     ]
    },
    {
     "data": {
      "text/html": [
       "<div>\n",
       "<style scoped>\n",
       "    .dataframe tbody tr th:only-of-type {\n",
       "        vertical-align: middle;\n",
       "    }\n",
       "\n",
       "    .dataframe tbody tr th {\n",
       "        vertical-align: top;\n",
       "    }\n",
       "\n",
       "    .dataframe thead th {\n",
       "        text-align: right;\n",
       "    }\n",
       "</style>\n",
       "<table border=\"1\" class=\"dataframe\">\n",
       "  <thead>\n",
       "    <tr style=\"text-align: right;\">\n",
       "      <th></th>\n",
       "      <th>0</th>\n",
       "    </tr>\n",
       "  </thead>\n",
       "  <tbody>\n",
       "    <tr>\n",
       "      <th>0</th>\n",
       "      <td>Instituto de Educación Secundaria de Teis, 101...</td>\n",
       "    </tr>\n",
       "    <tr>\n",
       "      <th>1</th>\n",
       "      <td>(42.251561699999996, -8.690280966610313)</td>\n",
       "    </tr>\n",
       "  </tbody>\n",
       "</table>\n",
       "</div>"
      ],
      "text/plain": [
       "                                                   0\n",
       "0  Instituto de Educación Secundaria de Teis, 101...\n",
       "1           (42.251561699999996, -8.690280966610313)"
      ]
     },
     "metadata": {},
     "output_type": "display_data"
    },
    {
     "name": "stdout",
     "output_type": "stream",
     "text": [
      "{'place_id': 250683966, 'licence': 'Data © OpenStreetMap contributors, ODbL 1.0. http://osm.org/copyright', 'osm_type': 'way', 'osm_id': 122500123, 'lat': '42.251561699999996', 'lon': '-8.690280966610313', 'class': 'amenity', 'type': 'school', 'place_rank': 30, 'importance': 9.99999999995449e-06, 'addresstype': 'amenity', 'name': 'Instituto de Educación Secundaria de Teis', 'display_name': 'Instituto de Educación Secundaria de Teis, 101, Avenida de Galicia, Nosa Señora das Neves, Teis, Vigo, Pontevedra, Galicia, 36216, España', 'boundingbox': ['42.2508433', '42.2522684', '-8.6909659', '-8.6895014']}\n",
      "42.251561699999996\n",
      "-8.690280966610313\n"
     ]
    },
    {
     "name": "stdin",
     "output_type": "stream",
     "text": [
      "Por favor indique una latitud:  -8.706967\n",
      "Por favor indique una longitud:  42.251561699999996\n"
     ]
    },
    {
     "data": {
      "text/html": [
       "<div>\n",
       "<style scoped>\n",
       "    .dataframe tbody tr th:only-of-type {\n",
       "        vertical-align: middle;\n",
       "    }\n",
       "\n",
       "    .dataframe tbody tr th {\n",
       "        vertical-align: top;\n",
       "    }\n",
       "\n",
       "    .dataframe thead th {\n",
       "        text-align: right;\n",
       "    }\n",
       "</style>\n",
       "<table border=\"1\" class=\"dataframe\">\n",
       "  <thead>\n",
       "    <tr style=\"text-align: right;\">\n",
       "      <th></th>\n",
       "    </tr>\n",
       "  </thead>\n",
       "  <tbody>\n",
       "  </tbody>\n",
       "</table>\n",
       "</div>"
      ],
      "text/plain": [
       "Empty DataFrame\n",
       "Columns: []\n",
       "Index: []"
      ]
     },
     "metadata": {},
     "output_type": "display_data"
    }
   ],
   "source": [
    "from geopy.geocoders import Nominatim\n",
    "import pandas as pd\n",
    "\n",
    "# damos un nombre a la aplicación\n",
    "\n",
    "geolocator = Nominatim(user_agent='BD_2324_Teis')\n",
    "                       \n",
    "# consulta de datos a partir de la dirección \n",
    "                       \n",
    "direccion = input(\"Por favor indique una direccion: \")\n",
    "                       \n",
    "location = geolocator.geocode(direccion)\n",
    "df = pd.DataFrame(location)\n",
    "\n",
    "display(df)\n",
    "\n",
    "print(location.raw)              #fichero json\n",
    "print(location.latitude)\n",
    "print(location.longitude)\n",
    "\n",
    "# a partir de coordenadas\n",
    "\n",
    "latitud = input(\"Por favor indique una latitud: \")\n",
    "\n",
    "longitud = input(\"Por favor indique una longitud: \")\n",
    "\n",
    "location = geolocator.reverse(latitud + ',' + longitud)\n",
    "\n",
    "df = pd.DataFrame(location)\n",
    "\n",
    "# Mostrar el DataFrame usando print\n",
    "display(df)"
   ]
  },
  {
   "cell_type": "raw",
   "id": "e3c6a60c-e188-461d-a0da-02c086bf1466",
   "metadata": {},
   "source": [
    "Para más información y utilidades:\n",
    "    \n",
    "    https://geopy.readthedocs.io/en/stable/#geopy.location.Location"
   ]
  },
  {
   "cell_type": "markdown",
   "id": "9824a56a-0c4e-41b1-a2c7-f5bed56a18ec",
   "metadata": {},
   "source": [
    "#### 3. OMDB"
   ]
  },
  {
   "cell_type": "markdown",
   "id": "eec612c3-190e-4df1-9814-07ed55781168",
   "metadata": {},
   "source": [
    "Ya tenemos nuestra clave activada y empezamos con el código.\n",
    "Vamos a obtener en un fichero .json una serie de datos de películas almacenadas en OMBD"
   ]
  },
  {
   "cell_type": "code",
   "execution_count": 1,
   "id": "7cfffb29-f877-466d-aebd-2f819010e48c",
   "metadata": {},
   "outputs": [
    {
     "name": "stdout",
     "output_type": "stream",
     "text": [
      "Napoleon\n"
     ]
    },
    {
     "data": {
      "text/html": [
       "<div>\n",
       "<style scoped>\n",
       "    .dataframe tbody tr th:only-of-type {\n",
       "        vertical-align: middle;\n",
       "    }\n",
       "\n",
       "    .dataframe tbody tr th {\n",
       "        vertical-align: top;\n",
       "    }\n",
       "\n",
       "    .dataframe thead th {\n",
       "        text-align: right;\n",
       "    }\n",
       "</style>\n",
       "<table border=\"1\" class=\"dataframe\">\n",
       "  <thead>\n",
       "    <tr style=\"text-align: right;\">\n",
       "      <th></th>\n",
       "      <th>Title</th>\n",
       "      <th>Year</th>\n",
       "      <th>Rated</th>\n",
       "      <th>Released</th>\n",
       "      <th>Runtime</th>\n",
       "      <th>Genre</th>\n",
       "      <th>Director</th>\n",
       "      <th>Writer</th>\n",
       "      <th>Actors</th>\n",
       "      <th>Plot</th>\n",
       "      <th>...</th>\n",
       "      <th>Metascore</th>\n",
       "      <th>imdbRating</th>\n",
       "      <th>imdbVotes</th>\n",
       "      <th>imdbID</th>\n",
       "      <th>Type</th>\n",
       "      <th>DVD</th>\n",
       "      <th>BoxOffice</th>\n",
       "      <th>Production</th>\n",
       "      <th>Website</th>\n",
       "      <th>Response</th>\n",
       "    </tr>\n",
       "  </thead>\n",
       "  <tbody>\n",
       "    <tr>\n",
       "      <th>0</th>\n",
       "      <td>Napoleon</td>\n",
       "      <td>2023</td>\n",
       "      <td>R</td>\n",
       "      <td>22 Nov 2023</td>\n",
       "      <td>158 min</td>\n",
       "      <td>Action, Adventure, Biography</td>\n",
       "      <td>Ridley Scott</td>\n",
       "      <td>David Scarpa</td>\n",
       "      <td>Joaquin Phoenix, Vanessa Kirby, Tahar Rahim</td>\n",
       "      <td>An epic that details the checkered rise and fa...</td>\n",
       "      <td>...</td>\n",
       "      <td>N/A</td>\n",
       "      <td>6.6</td>\n",
       "      <td>63,888</td>\n",
       "      <td>tt13287846</td>\n",
       "      <td>movie</td>\n",
       "      <td>N/A</td>\n",
       "      <td>$55,440,044</td>\n",
       "      <td>N/A</td>\n",
       "      <td>N/A</td>\n",
       "      <td>True</td>\n",
       "    </tr>\n",
       "  </tbody>\n",
       "</table>\n",
       "<p>1 rows × 25 columns</p>\n",
       "</div>"
      ],
      "text/plain": [
       "      Title  Year Rated     Released  Runtime                         Genre  \\\n",
       "0  Napoleon  2023     R  22 Nov 2023  158 min  Action, Adventure, Biography   \n",
       "\n",
       "       Director        Writer                                       Actors  \\\n",
       "0  Ridley Scott  David Scarpa  Joaquin Phoenix, Vanessa Kirby, Tahar Rahim   \n",
       "\n",
       "                                                Plot  ... Metascore  \\\n",
       "0  An epic that details the checkered rise and fa...  ...       N/A   \n",
       "\n",
       "  imdbRating imdbVotes      imdbID   Type  DVD    BoxOffice Production  \\\n",
       "0        6.6    63,888  tt13287846  movie  N/A  $55,440,044        N/A   \n",
       "\n",
       "  Website Response  \n",
       "0     N/A     True  \n",
       "\n",
       "[1 rows x 25 columns]"
      ]
     },
     "metadata": {},
     "output_type": "display_data"
    },
    {
     "name": "stdout",
     "output_type": "stream",
     "text": [
      "{'Title': 'Napoleon', 'Year': '2023', 'Rated': 'R', 'Released': '22 Nov 2023', 'Runtime': '158 min', 'Genre': 'Action, Adventure, Biography', 'Director': 'Ridley Scott', 'Writer': 'David Scarpa', 'Actors': 'Joaquin Phoenix, Vanessa Kirby, Tahar Rahim', 'Plot': 'An epic that details the checkered rise and fall of French Emperor Napoleon Bonaparte and his relentless journey to power through the prism of his addictive, volatile relationship with his wife, Josephine.', 'Language': 'English', 'Country': 'United States, United Kingdom', 'Awards': '7 nominations', 'Poster': 'https://m.media-amazon.com/images/M/MV5BZWIzNDAxMTktMDMzZS00ZjJmLTlhNjYtOGUxYmZlYzVmOGE4XkEyXkFqcGdeQXVyODk4OTc3MTY@._V1_SX300.jpg', 'Ratings': [{'Source': 'Internet Movie Database', 'Value': '6.6/10'}], 'Metascore': 'N/A', 'imdbRating': '6.6', 'imdbVotes': '63,888', 'imdbID': 'tt13287846', 'Type': 'movie', 'DVD': 'N/A', 'BoxOffice': '$55,440,044', 'Production': 'N/A', 'Website': 'N/A', 'Response': 'True'}\n",
      "No se encontraron resultados.\n"
     ]
    }
   ],
   "source": [
    "import requests\n",
    "import numpy as np\n",
    "import pandas as pd\n",
    "url='http://www.omdbapi.com/'\n",
    "params = dict(\n",
    "    Apikey = 'aac5f6f',\n",
    "    t = 'Napoleon',\n",
    "    type = 'movie'\n",
    ")\n",
    "resp = requests.get(url=url, params=params)\n",
    "datos=resp.json()\n",
    "print(datos['Title'])\n",
    "df = pd.DataFrame(datos)\n",
    "display(df)\n",
    "\n",
    "\n",
    "\n",
    "# Realizar solicitud para obtener información sobre las películas\n",
    "response = requests.get(url=url, params=params)\n",
    "\n",
    "# Verificar el estado de la respuesta\n",
    "if response.status_code == 200:\n",
    "    # Convertir la respuesta a formato JSON\n",
    "    data = response.json()\n",
    "    print(data)\n",
    "\n",
    "    # Verificar si la solicitud fue exitosa y si hay resultados\n",
    "    if data.get('Response') == 'True':\n",
    "        # Obtener la lista de películas\n",
    "        peliculas = data.get('Search', [])\n",
    "\n",
    "        if peliculas:\n",
    "            # Ordenar las películas por IMDb rating de mayor a menor\n",
    "            peliculas_ordenadas = sorted(peliculas, key=lambda x: float(x.get('imdbRating', 0)), reverse=True)\n",
    "\n",
    "            # Imprimir las 10 películas con el mayor IMDb rating\n",
    "            for pelicula in peliculas_ordenadas[:10]:\n",
    "                print(f\"{pelicula['Title']} - IMDb Rating: {pelicula.get('imdbRating', 'N/A')}\")\n",
    "        else:\n",
    "            print(\"No se encontraron resultados.\")\n",
    "    else:\n",
    "        print(f\"Error: {data.get('Error', 'Respuesta incorrecta de la API')}\")\n",
    "else:\n",
    "    print(f\"Error en la solicitud. Código de estado: {response.status_code}\")"
   ]
  },
  {
   "cell_type": "code",
   "execution_count": 4,
   "id": "2e40b8fc-ce67-4aea-8932-4cdc74d78311",
   "metadata": {},
   "outputs": [
    {
     "name": "stdin",
     "output_type": "stream",
     "text": [
      "Por favor si es una `series` o `movie`:  movie\n",
      "Por favor algún término del título:  war\n"
     ]
    },
    {
     "name": "stdout",
     "output_type": "stream",
     "text": [
      "Avengers: Infinity War - IMDb Rating: 8.4\n",
      "Captain America: Civil War - IMDb Rating: 7.8\n",
      "World War Z - IMDb Rating: 7.0\n",
      "War of the Worlds - IMDb Rating: 6.5\n",
      "Lord of War - IMDb Rating: 7.6\n",
      "War for the Planet of the Apes - IMDb Rating: 7.4\n",
      "War Dogs - IMDb Rating: 7.1\n",
      "The Tomorrow War - IMDb Rating: 6.6\n",
      "This Means War - IMDb Rating: 6.3\n",
      "War Horse - IMDb Rating: 7.2\n"
     ]
    }
   ],
   "source": [
    "import requests\n",
    "\n",
    "# Reemplaza 'TU_CLAVE_DE_API' con tu clave de API de OMDB\n",
    "api_key = 'aac5f6f'\n",
    "\n",
    "# URL base de la API de OMDB\n",
    "base_url = 'http://www.omdbapi.com/'\n",
    "\n",
    "tipo = input(\"Por favor si es una `series` o `movie`: \")\n",
    "titulo = input(\"Por favor algún término del título: \")\n",
    "\n",
    "# Parámetros de la primera solicitud para obtener una lista de películas\n",
    "params_search = {'apikey': api_key, 'type': tipo, 's': titulo }\n",
    "\n",
    "# Realizar la primera solicitud para obtener una lista de películas\n",
    "response_search = requests.get(base_url, params=params_search)\n",
    "\n",
    "# Verificar el estado de la respuesta\n",
    "if response_search.status_code == 200:\n",
    "    # Convertir la respuesta a formato JSON\n",
    "    data_search = response_search.json()\n",
    "\n",
    "    # Verificar si la solicitud fue exitosa y si hay resultados\n",
    "    if data_search.get('Response') == 'True':\n",
    "        # Obtener la lista de películas\n",
    "        peliculas = data_search.get('Search', [])\n",
    "\n",
    "        if peliculas:\n",
    "            # Ordenar las películas por IMDb rating de mayor a menor\n",
    "            peliculas_ordenadas = sorted(peliculas, key=lambda x: float(x.get('imdbRating', 0)), reverse=True)\n",
    "\n",
    "            # Tomar las 20 primeras películas\n",
    "            top_10_peliculas = peliculas_ordenadas[:20]\n",
    "\n",
    "            # Realizar solicitudes adicionales para obtener información detallada por IMDb ID\n",
    "            for pelicula in top_10_peliculas:\n",
    "                imdb_id = pelicula.get('imdbID')\n",
    "                \n",
    "                # Parámetros de la segunda solicitud para obtener información detallada\n",
    "                params_detail = {'apikey': api_key, 'i': imdb_id}\n",
    "\n",
    "                # Realizar la segunda solicitud para obtener información detallada\n",
    "                response_detail = requests.get(base_url, params=params_detail)\n",
    "                data_detail = response_detail.json()\n",
    "\n",
    "                # Imprimir información de cada película\n",
    "                print(f\"{data_detail.get('Title')} - IMDb Rating: {data_detail.get('imdbRating', 'N/A')}\")\n",
    "\n",
    "        else:\n",
    "            print(\"No se encontraron resultados.\")\n",
    "    else:\n",
    "        print(f\"Error: {data_search.get('Error', 'Respuesta incorrecta de la API')}\")\n",
    "else:\n",
    "    print(f\"Error en la primera solicitud. Código de estado: {response_search.status_code}\")\n"
   ]
  },
  {
   "cell_type": "code",
   "execution_count": null,
   "id": "675020af-1734-4132-b8c0-d34ea286e16e",
   "metadata": {},
   "outputs": [],
   "source": []
  }
 ],
 "metadata": {
  "kernelspec": {
   "display_name": "Python 3 (ipykernel)",
   "language": "python",
   "name": "python3"
  },
  "language_info": {
   "codemirror_mode": {
    "name": "ipython",
    "version": 3
   },
   "file_extension": ".py",
   "mimetype": "text/x-python",
   "name": "python",
   "nbconvert_exporter": "python",
   "pygments_lexer": "ipython3",
   "version": "3.11.6"
  }
 },
 "nbformat": 4,
 "nbformat_minor": 5
}
