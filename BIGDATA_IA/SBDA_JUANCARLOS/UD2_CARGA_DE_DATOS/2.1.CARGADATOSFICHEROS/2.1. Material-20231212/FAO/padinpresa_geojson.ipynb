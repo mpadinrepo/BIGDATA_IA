{
 "cells": [
  {
   "cell_type": "code",
   "execution_count": 1,
   "id": "3f509095-15be-419c-8a62-60f0020133ac",
   "metadata": {
    "tags": []
   },
   "outputs": [],
   "source": [
    "import pandas as pd\n",
    "import json\n",
    "\n",
    "# Cargar el archivo GeoJSON en un DataFrame usando pandas y json\n",
    "file_path = 'starbucks.geojson'\n",
    "with open(file_path) as f:\n",
    "    data = json.load(f)\n",
    "\n",
    "# Crear un DataFrame desde el GeoJSON\n",
    "gdf = pd.json_normalize(data['features'])\n",
    "\n"
   ]
  },
  {
   "cell_type": "code",
   "execution_count": 2,
   "id": "837e39f5-b163-4060-b704-d6c025bf48bd",
   "metadata": {
    "tags": []
   },
   "outputs": [
    {
     "data": {
      "text/plain": [
       "Index(['type', 'geometry.coordinates', 'geometry.type', 'properties.City',\n",
       "       'properties.Country', 'properties.Ownership Type',\n",
       "       'properties.State/Province', 'properties.Store Name',\n",
       "       'properties.Store Number'],\n",
       "      dtype='object')"
      ]
     },
     "execution_count": 2,
     "metadata": {},
     "output_type": "execute_result"
    }
   ],
   "source": [
    "# Imprimir las columnas disponibles en el DataFrame\n",
    "gdf.columns\n"
   ]
  },
  {
   "cell_type": "code",
   "execution_count": 3,
   "id": "34bbe9a5-c334-4326-a880-bd8a63717298",
   "metadata": {
    "tags": []
   },
   "outputs": [
    {
     "name": "stdin",
     "output_type": "stream",
     "text": [
      "Ingrese el nombre de la ciudad para explorar (por ejemplo, Paris):  Paris\n"
     ]
    },
    {
     "name": "stdout",
     "output_type": "stream",
     "text": [
      "         type geometry.coordinates geometry.type properties.City  \\\n",
      "5226  Feature        [2.33, 48.88]         Point           Paris   \n",
      "5228  Feature        [2.29, 48.87]         Point           Paris   \n",
      "5229  Feature        [2.33, 48.88]         Point           Paris   \n",
      "5230  Feature         [2.3, 48.89]         Point           Paris   \n",
      "5231  Feature        [2.33, 48.87]         Point           Paris   \n",
      "\n",
      "     properties.Country properties.Ownership Type properties.State/Province  \\\n",
      "5226                 FR                  Licensed                         J   \n",
      "5228                 FR             Company Owned                         J   \n",
      "5229                 FR             Company Owned                         J   \n",
      "5230                 FR             Company Owned                         J   \n",
      "5231                 FR             Company Owned                         J   \n",
      "\n",
      "           properties.Store Name properties.Store Number  \n",
      "5226  Gare St Lazare - Mezzanine            17015-175284  \n",
      "5228                 Victor Hugo             12501-99818  \n",
      "5229            Passage du Havre            12694-102632  \n",
      "5230          Levallois So Ouest            18192-176508  \n",
      "5231                 Rue de Seze             13198-98190  \n"
     ]
    }
   ],
   "source": [
    "# Imprimir las primeras filas de la ciudad de París\n",
    "city_name = input(\"Ingrese el nombre de la ciudad para explorar (por ejemplo, Paris): \")\n",
    "paris_data = gdf[gdf['properties.City'] == city_name]\n",
    "print(paris_data.head())\n",
    "\n"
   ]
  },
  {
   "cell_type": "code",
   "execution_count": 4,
   "id": "6c0de0b4-3e84-4905-9efb-e41f85b43f81",
   "metadata": {
    "tags": []
   },
   "outputs": [
    {
     "data": {
      "text/plain": [
       "type                         object\n",
       "geometry.coordinates         object\n",
       "geometry.type                object\n",
       "properties.City              object\n",
       "properties.Country           object\n",
       "properties.Ownership Type    object\n",
       "properties.State/Province    object\n",
       "properties.Store Name        object\n",
       "properties.Store Number      object\n",
       "dtype: object"
      ]
     },
     "execution_count": 4,
     "metadata": {},
     "output_type": "execute_result"
    }
   ],
   "source": [
    "# Verificar los tipos de datos de las columnas\n",
    "gdf.dtypes\n",
    "\n"
   ]
  },
  {
   "cell_type": "code",
   "execution_count": 5,
   "id": "e0221497-950a-4676-b0cc-b42cee4c2b95",
   "metadata": {},
   "outputs": [],
   "source": [
    "# Calcular el número de tiendas de Starbucks por país\n",
    "tiendas_por_pais = gdf.groupby('properties.Country')['properties.Store Name'].count().reset_index()\n",
    "\n"
   ]
  },
  {
   "cell_type": "code",
   "execution_count": 6,
   "id": "2d97905e-e97f-47f8-85f6-e84df59728a6",
   "metadata": {
    "tags": []
   },
   "outputs": [
    {
     "data": {
      "text/html": [
       "<div>\n",
       "<style scoped>\n",
       "    .dataframe tbody tr th:only-of-type {\n",
       "        vertical-align: middle;\n",
       "    }\n",
       "\n",
       "    .dataframe tbody tr th {\n",
       "        vertical-align: top;\n",
       "    }\n",
       "\n",
       "    .dataframe thead th {\n",
       "        text-align: right;\n",
       "    }\n",
       "</style>\n",
       "<table border=\"1\" class=\"dataframe\">\n",
       "  <thead>\n",
       "    <tr style=\"text-align: right;\">\n",
       "      <th></th>\n",
       "      <th>properties.Country</th>\n",
       "      <th>properties.Store Name</th>\n",
       "    </tr>\n",
       "  </thead>\n",
       "  <tbody>\n",
       "    <tr>\n",
       "      <th>0</th>\n",
       "      <td>AD</td>\n",
       "      <td>1</td>\n",
       "    </tr>\n",
       "    <tr>\n",
       "      <th>1</th>\n",
       "      <td>AE</td>\n",
       "      <td>144</td>\n",
       "    </tr>\n",
       "    <tr>\n",
       "      <th>2</th>\n",
       "      <td>AR</td>\n",
       "      <td>108</td>\n",
       "    </tr>\n",
       "    <tr>\n",
       "      <th>3</th>\n",
       "      <td>AT</td>\n",
       "      <td>18</td>\n",
       "    </tr>\n",
       "    <tr>\n",
       "      <th>4</th>\n",
       "      <td>AU</td>\n",
       "      <td>22</td>\n",
       "    </tr>\n",
       "    <tr>\n",
       "      <th>...</th>\n",
       "      <td>...</td>\n",
       "      <td>...</td>\n",
       "    </tr>\n",
       "    <tr>\n",
       "      <th>68</th>\n",
       "      <td>TT</td>\n",
       "      <td>3</td>\n",
       "    </tr>\n",
       "    <tr>\n",
       "      <th>69</th>\n",
       "      <td>TW</td>\n",
       "      <td>394</td>\n",
       "    </tr>\n",
       "    <tr>\n",
       "      <th>70</th>\n",
       "      <td>US</td>\n",
       "      <td>13608</td>\n",
       "    </tr>\n",
       "    <tr>\n",
       "      <th>71</th>\n",
       "      <td>VN</td>\n",
       "      <td>25</td>\n",
       "    </tr>\n",
       "    <tr>\n",
       "      <th>72</th>\n",
       "      <td>ZA</td>\n",
       "      <td>3</td>\n",
       "    </tr>\n",
       "  </tbody>\n",
       "</table>\n",
       "<p>73 rows × 2 columns</p>\n",
       "</div>"
      ],
      "text/plain": [
       "   properties.Country  properties.Store Name\n",
       "0                  AD                      1\n",
       "1                  AE                    144\n",
       "2                  AR                    108\n",
       "3                  AT                     18\n",
       "4                  AU                     22\n",
       "..                ...                    ...\n",
       "68                 TT                      3\n",
       "69                 TW                    394\n",
       "70                 US                  13608\n",
       "71                 VN                     25\n",
       "72                 ZA                      3\n",
       "\n",
       "[73 rows x 2 columns]"
      ]
     },
     "execution_count": 6,
     "metadata": {},
     "output_type": "execute_result"
    }
   ],
   "source": [
    "tiendas_por_pais"
   ]
  },
  {
   "cell_type": "code",
   "execution_count": 7,
   "id": "efdd01cc-107b-4897-b41b-ff308818b731",
   "metadata": {},
   "outputs": [],
   "source": [
    "# Ordenar y seleccionar los 10 primeros países con más tiendas\n",
    "top_10_paises = tiendas_por_pais.sort_values(by='properties.Store Name', ascending=False).head(10)\n",
    "\n"
   ]
  },
  {
   "cell_type": "code",
   "execution_count": 8,
   "id": "90d1af68-81bd-4cef-bbfd-a7285ea5232a",
   "metadata": {
    "tags": []
   },
   "outputs": [
    {
     "data": {
      "text/html": [
       "<div>\n",
       "<style scoped>\n",
       "    .dataframe tbody tr th:only-of-type {\n",
       "        vertical-align: middle;\n",
       "    }\n",
       "\n",
       "    .dataframe tbody tr th {\n",
       "        vertical-align: top;\n",
       "    }\n",
       "\n",
       "    .dataframe thead th {\n",
       "        text-align: right;\n",
       "    }\n",
       "</style>\n",
       "<table border=\"1\" class=\"dataframe\">\n",
       "  <thead>\n",
       "    <tr style=\"text-align: right;\">\n",
       "      <th></th>\n",
       "      <th>properties.Country</th>\n",
       "      <th>properties.Store Name</th>\n",
       "    </tr>\n",
       "  </thead>\n",
       "  <tbody>\n",
       "    <tr>\n",
       "      <th>70</th>\n",
       "      <td>US</td>\n",
       "      <td>13608</td>\n",
       "    </tr>\n",
       "    <tr>\n",
       "      <th>17</th>\n",
       "      <td>CN</td>\n",
       "      <td>2734</td>\n",
       "    </tr>\n",
       "    <tr>\n",
       "      <th>14</th>\n",
       "      <td>CA</td>\n",
       "      <td>1468</td>\n",
       "    </tr>\n",
       "    <tr>\n",
       "      <th>37</th>\n",
       "      <td>JP</td>\n",
       "      <td>1237</td>\n",
       "    </tr>\n",
       "    <tr>\n",
       "      <th>39</th>\n",
       "      <td>KR</td>\n",
       "      <td>992</td>\n",
       "    </tr>\n",
       "    <tr>\n",
       "      <th>29</th>\n",
       "      <td>GB</td>\n",
       "      <td>901</td>\n",
       "    </tr>\n",
       "    <tr>\n",
       "      <th>46</th>\n",
       "      <td>MX</td>\n",
       "      <td>579</td>\n",
       "    </tr>\n",
       "    <tr>\n",
       "      <th>69</th>\n",
       "      <td>TW</td>\n",
       "      <td>394</td>\n",
       "    </tr>\n",
       "    <tr>\n",
       "      <th>67</th>\n",
       "      <td>TR</td>\n",
       "      <td>326</td>\n",
       "    </tr>\n",
       "    <tr>\n",
       "      <th>54</th>\n",
       "      <td>PH</td>\n",
       "      <td>298</td>\n",
       "    </tr>\n",
       "  </tbody>\n",
       "</table>\n",
       "</div>"
      ],
      "text/plain": [
       "   properties.Country  properties.Store Name\n",
       "70                 US                  13608\n",
       "17                 CN                   2734\n",
       "14                 CA                   1468\n",
       "37                 JP                   1237\n",
       "39                 KR                    992\n",
       "29                 GB                    901\n",
       "46                 MX                    579\n",
       "69                 TW                    394\n",
       "67                 TR                    326\n",
       "54                 PH                    298"
      ]
     },
     "execution_count": 8,
     "metadata": {},
     "output_type": "execute_result"
    }
   ],
   "source": [
    "top_10_paises"
   ]
  },
  {
   "cell_type": "code",
   "execution_count": 9,
   "id": "c03ca44c-5eb8-466a-a94e-ea0e5894bbc6",
   "metadata": {
    "tags": []
   },
   "outputs": [
    {
     "name": "stdout",
     "output_type": "stream",
     "text": [
      "Tipos de datos:\n",
      "type                         object\n",
      "geometry.coordinates         object\n",
      "geometry.type                object\n",
      "properties.City              object\n",
      "properties.Country           object\n",
      "properties.Ownership Type    object\n",
      "properties.State/Province    object\n",
      "properties.Store Name        object\n",
      "properties.Store Number      object\n",
      "dtype: object\n",
      "\n",
      "Número de tiendas por país:\n",
      "   properties.Country  properties.Store Name\n",
      "70                 US                  13608\n",
      "17                 CN                   2734\n",
      "14                 CA                   1468\n",
      "37                 JP                   1237\n",
      "39                 KR                    992\n",
      "29                 GB                    901\n",
      "46                 MX                    579\n",
      "69                 TW                    394\n",
      "67                 TR                    326\n",
      "54                 PH                    298\n"
     ]
    }
   ],
   "source": [
    "# Imprimir los tipos de datos y los 10 primeros países con más tiendas\n",
    "print(\"Tipos de datos:\")\n",
    "print(gdf.dtypes)\n",
    "print(\"\\nNúmero de tiendas por país:\")\n",
    "print(top_10_paises)\n"
   ]
  },
  {
   "cell_type": "code",
   "execution_count": 10,
   "id": "e71aa0f1-cdba-402a-b837-aaa1233858d2",
   "metadata": {
    "tags": []
   },
   "outputs": [
    {
     "data": {
      "image/png": "[encoded data removed]",
      "text/plain": [
       "<Figure size 1000x600 with 1 Axes>"
      ]
     },
     "metadata": {},
     "output_type": "display_data"
    }
   ],
   "source": [
    "import matplotlib.pyplot as plt\n",
    "\n",
    "# Crear un histograma de tiendas por país\n",
    "plt.figure(figsize=(10, 6))\n",
    "plt.bar(tiendas_por_pais['properties.Country'], tiendas_por_pais['properties.Store Name'], color='blue')\n",
    "plt.xlabel('País')\n",
    "plt.ylabel('Número de Tiendas')\n",
    "plt.title('Número de Tiendas de Starbucks por País')\n",
    "plt.xticks(rotation=45, ha='right')  # Rotar etiquetas del eje x para mayor legibilidad\n",
    "plt.tight_layout()\n"
   ]
  },
  {
   "cell_type": "code",
   "execution_count": 11,
   "id": "6c038091-81fd-4115-bb40-b4196e4a9143",
   "metadata": {
    "tags": []
   },
   "outputs": [],
   "source": [
    "# Mostrar el histograma\n",
    "plt.show()"
   ]
  }
 ],
 "metadata": {
  "kernelspec": {
   "display_name": "Python 3 (ipykernel)",
   "language": "python",
   "name": "python3"
  },
  "language_info": {
   "codemirror_mode": {
    "name": "ipython",
    "version": 3
   },
   "file_extension": ".py",
   "mimetype": "text/x-python",
   "name": "python",
   "nbconvert_exporter": "python",
   "pygments_lexer": "ipython3",
   "version": "3.11.5"
  }
 },
 "nbformat": 4,
 "nbformat_minor": 5
}
