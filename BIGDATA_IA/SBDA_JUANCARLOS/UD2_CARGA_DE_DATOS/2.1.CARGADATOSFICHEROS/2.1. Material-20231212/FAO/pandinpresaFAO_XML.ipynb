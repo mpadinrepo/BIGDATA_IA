{
 "cells": [
  {
   "cell_type": "markdown",
   "metadata": {},
   "source": [
    "Tarea 3 Carga de xml\n",
    "Dispones del fichero fao.xml, que tiene exactamente la misma información que el .csv\n",
    "anterior.\n",
    "Debes parsearlo y cargar la información en un dataframe:\n",
    "• Los tipos de datos de cada columna del dataframe deben ser los adecuados para\n",
    "los valores almacenados.\n",
    "• El índice del dataframe será un multiíndice formado por ID_YYYY_MM\n",
    "• Revisa los valores vacíos, deben cargarse como NaN si los hubiera.\n",
    "El resultado debe ser un dataframe igual al de la Tarea 1.\n",
    "Indica el código para la carga y muestra tanto las diferentes columnas con sus tipos de\n",
    "datos asociados sólo al año 2023.\n"
   ]
  },
  {
   "cell_type": "code",
   "execution_count": 6,
   "metadata": {},
   "outputs": [],
   "source": [
    "import pandas as pd\n",
    "from lxml import etree"
   ]
  },
  {
   "cell_type": "markdown",
   "metadata": {},
   "source": [
    "Abrimos fichero XML\n"
   ]
  },
  {
   "cell_type": "code",
   "execution_count": 7,
   "metadata": {},
   "outputs": [],
   "source": [
    "# Ruta al archivo XML\n",
    "archivo_xml = \"fao.xml\""
   ]
  },
  {
   "cell_type": "markdown",
   "metadata": {},
   "source": [
    "Comprobamos apertura fichero XML"
   ]
  },
  {
   "cell_type": "code",
   "execution_count": 5,
   "metadata": {},
   "outputs": [],
   "source": [
    "# Parsear el archivo XML\n",
    "tree = etree.parse(archivo_xml)\n",
    "root = tree.getroot()"
   ]
  },
  {
   "cell_type": "code",
   "execution_count": 8,
   "metadata": {},
   "outputs": [
    {
     "ename": "AttributeError",
     "evalue": "'NoneType' object has no attribute 'replace'",
     "output_type": "error",
     "traceback": [
      "\u001b[1;31m---------------------------------------------------------------------------\u001b[0m",
      "\u001b[1;31mAttributeError\u001b[0m                            Traceback (most recent call last)",
      "Cell \u001b[1;32mIn[8], line 26\u001b[0m\n\u001b[0;32m     23\u001b[0m fechas\u001b[38;5;241m.\u001b[39mappend(fecha)\n\u001b[0;32m     25\u001b[0m \u001b[38;5;66;03m# Aquí, debes hacer algo similar para cada columna\u001b[39;00m\n\u001b[1;32m---> 26\u001b[0m food_price_index\u001b[38;5;241m.\u001b[39mappend(\u001b[38;5;28mfloat\u001b[39m(\u001b[43melemento\u001b[49m\u001b[38;5;241;43m.\u001b[39;49m\u001b[43mfind\u001b[49m\u001b[43m(\u001b[49m\u001b[38;5;124;43m\"\u001b[39;49m\u001b[38;5;124;43mFoodPriceIndex\u001b[39;49m\u001b[38;5;124;43m\"\u001b[39;49m\u001b[43m)\u001b[49m\u001b[38;5;241;43m.\u001b[39;49m\u001b[43mtext\u001b[49m\u001b[38;5;241;43m.\u001b[39;49m\u001b[43mreplace\u001b[49m(\u001b[38;5;124m\"\u001b[39m\u001b[38;5;124m,\u001b[39m\u001b[38;5;124m\"\u001b[39m, \u001b[38;5;124m\"\u001b[39m\u001b[38;5;124m.\u001b[39m\u001b[38;5;124m\"\u001b[39m)))\n\u001b[0;32m     27\u001b[0m meat\u001b[38;5;241m.\u001b[39mappend(\u001b[38;5;28mfloat\u001b[39m(elemento\u001b[38;5;241m.\u001b[39mfind(\u001b[38;5;124m\"\u001b[39m\u001b[38;5;124mMeat\u001b[39m\u001b[38;5;124m\"\u001b[39m)\u001b[38;5;241m.\u001b[39mtext\u001b[38;5;241m.\u001b[39mreplace(\u001b[38;5;124m\"\u001b[39m\u001b[38;5;124m,\u001b[39m\u001b[38;5;124m\"\u001b[39m, \u001b[38;5;124m\"\u001b[39m\u001b[38;5;124m.\u001b[39m\u001b[38;5;124m\"\u001b[39m)))\n\u001b[0;32m     28\u001b[0m dairy\u001b[38;5;241m.\u001b[39mappend(\u001b[38;5;28mfloat\u001b[39m(elemento\u001b[38;5;241m.\u001b[39mfind(\u001b[38;5;124m\"\u001b[39m\u001b[38;5;124mDairy\u001b[39m\u001b[38;5;124m\"\u001b[39m)\u001b[38;5;241m.\u001b[39mtext\u001b[38;5;241m.\u001b[39mreplace(\u001b[38;5;124m\"\u001b[39m\u001b[38;5;124m,\u001b[39m\u001b[38;5;124m\"\u001b[39m, \u001b[38;5;124m\"\u001b[39m\u001b[38;5;124m.\u001b[39m\u001b[38;5;124m\"\u001b[39m)))\n",
      "\u001b[1;31mAttributeError\u001b[0m: 'NoneType' object has no attribute 'replace'"
     ]
    }
   ],
   "source": [
    "\n",
    "\n",
    "import pandas as pd\n",
    "from lxml import etree\n",
    "\n",
    "# Ruta al archivo XML\n",
    "archivo_xml = \"fao.xml\"\n",
    "\n",
    "# Parsear el archivo XML\n",
    "tree = etree.parse(archivo_xml)\n",
    "root = tree.getroot()\n",
    "\n",
    "# Crear listas para almacenar los datos\n",
    "fechas = []\n",
    "food_price_index = []\n",
    "meat = []\n",
    "dairy = []\n",
    "cereals = []\n",
    "oils = []\n",
    "sugar = []\n",
    "\n",
    "# Iterar sobre los elementos del XML\n",
    "for elemento in root.findall(\".//Indices_Monthly_Nominal\"):\n",
    "    fecha = elemento.find(\"Date\").text\n",
    "    fechas.append(fecha)\n",
    "\n",
    "    # Aquí, debes hacer algo similar para cada columna\n",
    "    food_price_index.append(float(elemento.find(\"FoodPriceIndex\").text.replace(\",\", \".\")))\n",
    "    meat.append(float(elemento.find(\"Meat\").text.replace(\",\", \".\")))\n",
    "    dairy.append(float(elemento.find(\"Dairy\").text.replace(\",\", \".\")))\n",
    "    cereals.append(float(elemento.find(\"Cereals\").text.replace(\",\", \".\")))\n",
    "    oils.append(float(elemento.find(\"Oils\").text.replace(\",\", \".\")))\n",
    "    sugar.append(float(elemento.find(\"Sugar\").text.replace(\",\", \".\")))\n",
    "\n",
    "# Crear el DataFrame\n",
    "data = {\n",
    "    \"Date\": fechas,\n",
    "    \"Food Price Index\": food_price_index,\n",
    "    \"Meat\": meat,\n",
    "    \"Dairy\": dairy,\n",
    "    \"Cereals\": cereals,\n",
    "    \"Oils\": oils,\n",
    "    \"Sugar\": sugar\n",
    "}\n",
    "\n",
    "df = pd.DataFrame(data)\n",
    "\n",
    "# Convertir la columna \"Date\" al formato de fecha\n",
    "df['Date'] = pd.to_datetime(df['Date'], format='%Y-%m')\n",
    "\n",
    "# Configurar el índice como \"ID_YYYY_MM\"\n",
    "df['ID_YYYY_MM'] = df['Date'].dt.strftime('ID_%Y_%m')\n",
    "\n",
    "# Muestra los tipos de datos de cada columna\n",
    "print(df.dtypes)\n",
    "\n",
    "# Filtrar las filas correspondientes entre 1992 y 1995 en un nuevo DataFrame (df_filtered)\n",
    "df_filtered = df[(df['Date'] >= '1992-01-01') & (df['Date'] <= '1995-12-31')]"
   ]
  },
  {
   "cell_type": "code",
   "execution_count": null,
   "metadata": {},
   "outputs": [],
   "source": [
    "*"
   ]
  }
 ],
 "metadata": {
  "kernelspec": {
   "display_name": "Python 3",
   "language": "python",
   "name": "python3"
  },
  "language_info": {
   "codemirror_mode": {
    "name": "ipython",
    "version": 3
   },
   "file_extension": ".py",
   "mimetype": "text/x-python",
   "name": "python",
   "nbconvert_exporter": "python",
   "pygments_lexer": "ipython3",
   "version": "3.11.7"
  }
 },
 "nbformat": 4,
 "nbformat_minor": 2
}
