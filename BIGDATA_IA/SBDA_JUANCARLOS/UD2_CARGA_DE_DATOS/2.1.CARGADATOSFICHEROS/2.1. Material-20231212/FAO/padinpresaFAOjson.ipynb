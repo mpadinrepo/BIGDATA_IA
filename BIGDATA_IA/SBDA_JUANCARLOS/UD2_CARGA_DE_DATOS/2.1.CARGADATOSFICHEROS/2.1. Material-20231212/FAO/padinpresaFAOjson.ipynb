{
 "cells": [
  {
   "cell_type": "markdown",
   "metadata": {},
   "source": [
    "2. Carga de json\n",
    "\n",
    "\n",
    "\n",
    "\n",
    "\n",
    "El fichero fao.json tiene información similar al que existía en el fichero csv. Revisa el\n",
    "fichero para entender cómo está construido.\n",
    "\n",
    "\n",
    "\n",
    "\n",
    "Debes cargarlo de modo que el dataframe resultante tenga un índice formado por el\n",
    "ID_YYYY_MM.\n",
    "\n",
    "\n",
    "\n",
    "Deberá tener la información de las restantes 12 columnas con los tipos de datos más\n",
    "adecuados.\n",
    "\n",
    "\n",
    "\n",
    "Incluye el código para cargar correctamente muestra los tipos de cada columna y las filas\n",
    "correspondiente entre el año 1992 a 1995 en un nuevo dataframe.\n"
   ]
  },
  {
   "cell_type": "markdown",
   "metadata": {},
   "source": [
    "importamos modulos necesarios por ahora"
   ]
  },
  {
   "cell_type": "code",
   "execution_count": 1,
   "metadata": {},
   "outputs": [],
   "source": [
    "import pandas as pd\n",
    "import json\n"
   ]
  },
  {
   "cell_type": "markdown",
   "metadata": {},
   "source": [
    "Apertura de fichero json"
   ]
  },
  {
   "cell_type": "code",
   "execution_count": 2,
   "metadata": {},
   "outputs": [],
   "source": [
    "import pandas as pd\n",
    "import json\n",
    "\n",
    "# Ruta del archivo JSON\n",
    "ruta_archivo_json = \"fao.json\"\n",
    "\n",
    "# Abrir y cargar el archivo JSON\n",
    "with open(ruta_archivo_json, 'r') as archivo:\n",
    "    datos_json = json.load(archivo)\n",
    "\n",
    "\n"
   ]
  },
  {
   "cell_type": "code",
   "execution_count": 3,
   "metadata": {},
   "outputs": [],
   "source": [
    "# Convertir los datos a un DataFrame NORMALIZADO\n",
    "df = pd.json_normalize(datos_json)"
   ]
  },
  {
   "cell_type": "markdown",
   "metadata": {},
   "source": [
    "Verificar apertura fichero json"
   ]
  },
  {
   "cell_type": "markdown",
   "metadata": {},
   "source": [
    "1. Convertir la columna \"Date\" al formato de fecha\n",
    "\n"
   ]
  },
  {
   "cell_type": "code",
   "execution_count": 4,
   "metadata": {},
   "outputs": [],
   "source": [
    "df['Date'] = pd.to_datetime(df['Date'], format='%Y-%m')"
   ]
  },
  {
   "cell_type": "markdown",
   "metadata": {},
   "source": [
    "2. Crear el índice ID_YYYY_MM"
   ]
  },
  {
   "cell_type": "code",
   "execution_count": 5,
   "metadata": {},
   "outputs": [],
   "source": [
    "df['ID_YYYY_MM'] = df['Date'].dt.strftime('ID_%Y_%m')"
   ]
  },
  {
   "cell_type": "markdown",
   "metadata": {},
   "source": [
    " 3. Configurar el índice del DataFrame"
   ]
  },
  {
   "cell_type": "code",
   "execution_count": 6,
   "metadata": {},
   "outputs": [],
   "source": [
    "df.set_index('ID_YYYY_MM', inplace=True)"
   ]
  },
  {
   "cell_type": "markdown",
   "metadata": {},
   "source": [
    " Mostrar información del DataFrame y  Mostrar las primeras filas del DataFrame\n"
   ]
  },
  {
   "cell_type": "code",
   "execution_count": 7,
   "metadata": {},
   "outputs": [
    {
     "name": "stdout",
     "output_type": "stream",
     "text": [
      "<class 'pandas.core.frame.DataFrame'>\n",
      "Index: 404 entries, nan to ID_2023_07\n",
      "Data columns (total 9 columns):\n",
      " #   Column            Non-Null Count  Dtype         \n",
      "---  ------            --------------  -----         \n",
      " 0   Date              403 non-null    datetime64[ns]\n",
      " 1   Food Price Index  403 non-null    float64       \n",
      " 2   Meat              403 non-null    float64       \n",
      " 3   Dairy             403 non-null    float64       \n",
      " 4   Cereals           403 non-null    float64       \n",
      " 5   Oils              403 non-null    float64       \n",
      " 6   Sugar             403 non-null    float64       \n",
      " 7   Column66          268 non-null    float64       \n",
      " 8   Column37          1 non-null      float64       \n",
      "dtypes: datetime64[ns](1), float64(8)\n",
      "memory usage: 31.6+ KB\n",
      "None\n",
      "                 Date  Food Price Index       Meat      Dairy    Cereals  \\\n",
      "ID_YYYY_MM                                                                 \n",
      "NaN               NaT               NaN        NaN        NaN        NaN   \n",
      "ID_1990_01 1990-01-01         64.145081  73.374551  53.503031  64.140607   \n",
      "ID_1990_02 1990-02-01         64.453560  75.956526  52.218634  62.222377   \n",
      "ID_1990_03 1990-03-01         63.787064  77.805859  41.367123  61.259884   \n",
      "ID_1990_04 1990-04-01         65.766754  80.442049  48.427068  62.820731   \n",
      "\n",
      "                 Oils      Sugar  Column66  Column37  \n",
      "ID_YYYY_MM                                            \n",
      "NaN               NaN        NaN       NaN       NaN  \n",
      "ID_1990_01  44.587672  87.877833       NaN       NaN  \n",
      "ID_1990_02  44.500514  90.662693       NaN       NaN  \n",
      "ID_1990_03  45.745434  95.056585       NaN       NaN  \n",
      "ID_1990_04  44.017094  94.313956       NaN       NaN  \n",
      "Date                datetime64[ns]\n",
      "Food Price Index           float64\n",
      "Meat                       float64\n",
      "Dairy                      float64\n",
      "Cereals                    float64\n",
      "Oils                       float64\n",
      "Sugar                      float64\n",
      "Column66                   float64\n",
      "Column37                   float64\n",
      "dtype: object\n"
     ]
    }
   ],
   "source": [
    "print(df.info())\n",
    "print(df.head())\n",
    "print(df.dtypes)"
   ]
  },
  {
   "cell_type": "code",
   "execution_count": 8,
   "metadata": {},
   "outputs": [
    {
     "name": "stdout",
     "output_type": "stream",
     "text": [
      "Date                datetime64[ns]\n",
      "Food Price Index           float64\n",
      "Meat                       float64\n",
      "Dairy                      float64\n",
      "Cereals                    float64\n",
      "Oils                       float64\n",
      "Sugar                      float64\n",
      "Column66                   float64\n",
      "Column37                   float64\n",
      "dtype: object\n"
     ]
    }
   ],
   "source": [
    "print(df.dtypes)"
   ]
  }
 ],
 "metadata": {
  "kernelspec": {
   "display_name": "Python 3",
   "language": "python",
   "name": "python3"
  },
  "language_info": {
   "codemirror_mode": {
    "name": "ipython",
    "version": 3
   },
   "file_extension": ".py",
   "mimetype": "text/x-python",
   "name": "python",
   "nbconvert_exporter": "python",
   "pygments_lexer": "ipython3",
   "version": "3.11.7"
  }
 },
 "nbformat": 4,
 "nbformat_minor": 2
}
