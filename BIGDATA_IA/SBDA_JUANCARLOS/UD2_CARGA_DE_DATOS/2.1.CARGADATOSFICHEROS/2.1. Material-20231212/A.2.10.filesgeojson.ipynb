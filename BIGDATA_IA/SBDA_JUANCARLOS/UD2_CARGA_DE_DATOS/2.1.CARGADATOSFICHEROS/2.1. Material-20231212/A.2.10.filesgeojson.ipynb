{
 "cells": [
  {
   "cell_type": "markdown",
   "id": "9e528724-ebba-4ea2-b6de-bc3846eacf93",
   "metadata": {},
   "source": [
    "## PANDAS and files geojson"
   ]
  },
  {
   "cell_type": "raw",
   "id": "6e67a051-1472-49f6-9437-f02f63b3cdd0",
   "metadata": {},
   "source": [
    "We use Pandas to visualze a geojson files. "
   ]
  },
  {
   "cell_type": "code",
   "execution_count": 49,
   "id": "209d0e6a-28fa-4b73-8f53-4d4ca760daad",
   "metadata": {},
   "outputs": [
    {
     "name": "stdout",
     "output_type": "stream",
     "text": [
      "  State/Province      City         Store Name  Latitude  Longitude\n",
      "0             AN  Valencia             Paz 44     39.48      -0.38\n",
      "1             AN  Valencia     San Vicente 12     39.47      -0.38\n",
      "2             AN  Valencia  Marqués del Turia     39.47      -0.37\n",
      "3             AN  Valencia     San Vicente 44     39.47      -0.38\n",
      "Número total de tiendas:  4\n"
     ]
    }
   ],
   "source": [
    "import pandas as pd\n",
    "import json\n",
    "\n",
    "# Ruta al archivo GeoJSON\n",
    "ruta_geojson = 'starbucks.geojson'\n",
    "\n",
    "# Carga el GeoJSON en un DataFrame de Pandas\n",
    "with open(ruta_geojson, 'r') as f:\n",
    "    data = json.load(f)\n",
    "\n",
    "# Extrae las características del GeoJSON\n",
    "features = data['features']\n",
    "\n",
    "# Crea una lista de diccionarios con la información necesaria\n",
    "store_data = []\n",
    "for feature in features:\n",
    "    properties = feature['properties']\n",
    "    geometry = feature['geometry']\n",
    "    if properties.get('Country') == 'ES' and properties.get('City') == 'Valencia':\n",
    "     store_data.append({\n",
    "        'State/Province': properties.get('State/Province', None),\n",
    "        'City': properties.get('City', None),\n",
    "        'Store Name': properties.get('Store Name', None),\n",
    "        'Latitude': geometry['coordinates'][1] if geometry['type'] == 'Point' else None,\n",
    "        'Longitude': geometry['coordinates'][0] if geometry['type'] == 'Point' else None\n",
    "    })\n",
    "# Crea un DataFrame de Pandas a partir de la lista de diccionarios\n",
    "df = pd.DataFrame(store_data)\n",
    "\n",
    "# Muestra el contenido del DataFrame\n",
    "print(df)\n",
    "\n",
    "# Muestra el número total de tiendas después del filtro\n",
    "numero_de_tiendas = df.shape[0]\n",
    "print(\"Número total de tiendas: \", numero_de_tiendas)"
   ]
  },
  {
   "cell_type": "raw",
   "id": "b3a9b1f1-04c5-4fc2-98b6-924810251bce",
   "metadata": {},
   "source": [
    "json library is creates a variablet to open geojsaon file.\n",
    "If we use geopandas, the solution is more visible and easy. Maybe slowest."
   ]
  },
  {
   "cell_type": "code",
   "execution_count": 52,
   "id": "9c285ed3-c16c-4174-a450-076720e3b98d",
   "metadata": {},
   "outputs": [
    {
     "name": "stdout",
     "output_type": "stream",
     "text": [
      "     Country      City                   geometry\n",
      "5113      ES  Valencia  POINT (-0.38000 39.48000)\n",
      "5114      ES  Valencia  POINT (-0.38000 39.47000)\n",
      "5115      ES  Valencia  POINT (-0.37000 39.47000)\n",
      "5116      ES  Valencia  POINT (-0.38000 39.47000)\n",
      "Número total de tiendas:  4\n"
     ]
    }
   ],
   "source": [
    "import geopandas as gpd\n",
    "import json\n",
    "\n",
    "# Ruta al archivo GeoJSON\n",
    "ruta_geojson = 'starbucks.geojson'\n",
    "\n",
    "# Carga el GeoJSON en un GeoDataFrame de GeoPandas\n",
    "gdf = gpd.read_file(ruta_geojson)\n",
    "\n",
    "# Filtra los datos para incluir solo tiendas en España (Country: 'ES') y Valencia (City: 'Valencia')\n",
    "filtered_gdf = gdf[(gdf['Country'] == 'ES') & (gdf['City'] == 'Valencia')]\n",
    "\n",
    "# Selecciona solo las columnas de interés\n",
    "seleccion_columns = ['Country', 'City', 'geometry']\n",
    "\n",
    "# Crea un nuevo GeoDataFrame con las columnas seleccionadas\n",
    "resultado_gdf = filtered_gdf[seleccion_columns]\n",
    "\n",
    "# Muestra el contenido del GeoDataFrame resultante\n",
    "print(resultado_gdf)\n",
    "\n",
    "numero_de_tiendas = len(filtered_gdf)\n",
    "print(\"Número total de tiendas: \", numero_de_tiendas)\n",
    "\n"
   ]
  },
  {
   "cell_type": "code",
   "execution_count": null,
   "id": "246cd3ad-3f22-4a71-953b-81c0e1abff41",
   "metadata": {},
   "outputs": [],
   "source": []
  }
 ],
 "metadata": {
  "kernelspec": {
   "display_name": "Python 3 (ipykernel)",
   "language": "python",
   "name": "python3"
  },
  "language_info": {
   "codemirror_mode": {
    "name": "ipython",
    "version": 3
   },
   "file_extension": ".py",
   "mimetype": "text/x-python",
   "name": "python",
   "nbconvert_exporter": "python",
   "pygments_lexer": "ipython3",
   "version": "3.11.6"
  }
 },
 "nbformat": 4,
 "nbformat_minor": 5
}
