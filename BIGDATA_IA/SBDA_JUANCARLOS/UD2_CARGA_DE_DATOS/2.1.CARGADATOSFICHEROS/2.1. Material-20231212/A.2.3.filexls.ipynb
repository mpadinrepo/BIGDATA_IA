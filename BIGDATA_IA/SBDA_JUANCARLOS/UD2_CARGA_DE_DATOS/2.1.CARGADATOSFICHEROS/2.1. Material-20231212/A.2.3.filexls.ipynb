{
 "cells": [
  {
   "cell_type": "markdown",
   "id": "8048531d-0112-4f46-8fbd-8d22088409ab",
   "metadata": {},
   "source": [
    "xlrd and xlwt, notice used of open_workbook method"
   ]
  },
  {
   "cell_type": "code",
   "execution_count": 3,
   "id": "29c5e585-edf0-4eb8-927e-9e1743562719",
   "metadata": {},
   "outputs": [],
   "source": [
    "from xlrd import open_workbook, colname\n",
    "import xlwt"
   ]
  },
  {
   "cell_type": "markdown",
   "id": "a172c3d6-8f3b-450d-b731-d08f201ae0f5",
   "metadata": {},
   "source": [
    "sheet_by_name select the spreedsheet and row and file the positions. Use double for to run the spreasheets"
   ]
  },
  {
   "cell_type": "code",
   "execution_count": 20,
   "id": "982c8325-ee72-4300-b1de-8facdbe2a998",
   "metadata": {},
   "outputs": [
    {
     "name": "stdout",
     "output_type": "stream",
     "text": [
      "Centro: AMPA ANTONIO MACHADO, Subvención acumulada:                        2344.99 €\n",
      "Centro: AMPA BACHILLER ALONSO LOPEZ, Subvención acumulada:                         3200.0 €\n",
      "Centro: AMPA CASTILLA, Subvención acumulada:                        2604.44 €\n",
      "Centro: AMPA DAOIZ Y VELARDE, Subvención acumulada:                        3152.74 €\n",
      "Centro: AMPA EMILIO CASADO, Subvención acumulada:                        3015.67 €\n",
      "Centro: AMPA FEDERICO GARCIA LORCA, Subvención acumulada:                        1919.06 €\n",
      "Centro: AMPA GABRIEL Y GALAN, Subvención acumulada:                        2741.51 €\n",
      "Centro: AMPA LUIS BUÑUEL, Subvención acumulada:                         2081.0 €\n",
      "Centro: AMPA MIGUEL HERNANDEZ, Subvención acumulada:                        2923.35 €\n",
      "Centro: AMPA MIRAFLORES, Subvención acumulada:                        2787.21 €\n",
      "Centro: AMPA PARQUE CATALUÑA, Subvención acumulada:                        2604.44 €\n",
      "Centro: AMPA PROFESOR TIERNO GALVÁN, Subvención acumulada:                         1286.0 €\n",
      "Centro: AMPA SEIS DE DICIEMBRE, Subvención acumulada:                         1950.0 €\n",
      "Centro: AMPA VALDEPALITOS, Subvención acumulada:                         3929.5 €\n",
      "Centro: AMPA LA CHOPERA, Subvención acumulada:                         1430.0 €\n",
      "Centro: AMPA EL CUQUILLO, Subvención acumulada:                        1507.83 €\n",
      "Centro: AMPA VALDELAPARRA, Subvención acumulada:                         2465.0 €\n",
      "Centro: AMPA RIVENDEL, Subvención acumulada:                         2200.0 €\n",
      "Centro: AMPA AGORA, Subvención acumulada:                        2421.67 €\n",
      "Centro: AMPA ALDEBARAN, Subvención acumulada:                        3107.05 €\n",
      "Centro: AMPA GINER DE LOS RIOS, Subvención acumulada:                         2058.0 €\n",
      "Centro: AMPA SEVERO OCHOA, Subvención acumulada:             3563.9700000000003 €\n",
      "Centro: AMPA VIRGEN DE LA PAZ, Subvención acumulada:                        1416.45 €\n",
      "Centro: AMPA JUAN XXIII, Subvención acumulada:                        1781.98 €\n",
      "Centro: AMPA SAN ANTONIO, Subvención acumulada:                        2101.83 €\n",
      "Centro: AMPA PADRE  MANYANET, Subvención acumulada:                        2695.82 €\n",
      "Centro: AMPA FAPA, Subvención acumulada:                        3198.43 €\n"
     ]
    }
   ],
   "source": [
    "with open_workbook('subvenciones.xls',on_demand=True) as libro:\n",
    "    asociaciones = {}\n",
    "    for nombre in libro.sheet_names():\n",
    "        hoja = libro.sheet_by_name(nombre)\n",
    "        for i in range(1,hoja.nrows):\n",
    "            fila = hoja.row(i)\n",
    "            centro = fila[0].value\n",
    "            subvencion = fila[2].value\n",
    "            #print(fila[0].ctype)\n",
    "            #print(fila[2].value)\n",
    "            if centro in asociaciones:\n",
    "                asociaciones[centro] = asociaciones[centro] + subvencion\n",
    "            else:\n",
    "                asociaciones[centro] = subvencion\n",
    "    # Imprimir el resultado en cada iteración\n",
    "    for centro, acumulado in asociaciones.items():\n",
    "         print(f\"Centro: {centro}, Subvención acumulada: {acumulado} + €\")\n",
    "\n",
    "    #print(asociaciones)"
   ]
  },
  {
   "cell_type": "markdown",
   "id": "cda0dced-d900-4572-948f-625d65b24652",
   "metadata": {},
   "source": [
    "## Pandas"
   ]
  },
  {
   "cell_type": "raw",
   "id": "8f1571ed-8c14-4774-851e-f99bb07c50ea",
   "metadata": {},
   "source": [
    "Si queremos hacer el mismo ejercicio con Pandas"
   ]
  },
  {
   "cell_type": "code",
   "execution_count": 28,
   "id": "f1ea9430-2b6c-480e-b6df-c3f6544ba92e",
   "metadata": {},
   "outputs": [
    {
     "name": "stdout",
     "output_type": "stream",
     "text": [
      "Centro: AMPA ANTONIO MACHADO, Subvención acumulada: 2344.99 €\n",
      "Centro: AMPA BACHILLER ALONSO LOPEZ, Subvención acumulada: 3200.0 €\n",
      "Centro: AMPA CASTILLA, Subvención acumulada: 2604.44 €\n",
      "Centro: AMPA DAOIZ Y VELARDE, Subvención acumulada: 3152.74 €\n",
      "Centro: AMPA EMILIO CASADO, Subvención acumulada: 3015.67 €\n",
      "Centro: AMPA FEDERICO GARCIA LORCA, Subvención acumulada: 1919.06 €\n",
      "Centro: AMPA GABRIEL Y GALAN, Subvención acumulada: 2741.51 €\n",
      "Centro: AMPA LUIS BUÑUEL, Subvención acumulada: 2081.0 €\n",
      "Centro: AMPA MIGUEL HERNANDEZ, Subvención acumulada: 2923.35 €\n",
      "Centro: AMPA MIRAFLORES, Subvención acumulada: 2787.21 €\n",
      "Centro: AMPA PARQUE CATALUÑA, Subvención acumulada: 2604.44 €\n",
      "Centro: AMPA PROFESOR TIERNO GALVÁN, Subvención acumulada: 1286.0 €\n",
      "Centro: AMPA SEIS DE DICIEMBRE, Subvención acumulada: 1950.0 €\n",
      "Centro: AMPA VALDEPALITOS, Subvención acumulada: 3929.5 €\n",
      "Centro: AMPA LA CHOPERA, Subvención acumulada: 1430.0 €\n",
      "Centro: AMPA EL CUQUILLO, Subvención acumulada: 1507.83 €\n",
      "Centro: AMPA VALDELAPARRA, Subvención acumulada: 2465.0 €\n",
      "Centro: AMPA RIVENDEL, Subvención acumulada: 2200.0 €\n",
      "Centro: AMPA AGORA, Subvención acumulada: 2421.67 €\n",
      "Centro: AMPA ALDEBARAN, Subvención acumulada: 3107.05 €\n",
      "Centro: AMPA GINER DE LOS RIOS, Subvención acumulada: 2058.0 €\n",
      "Centro: AMPA SEVERO OCHOA, Subvención acumulada: 3563.9700000000003 €\n",
      "Centro: AMPA VIRGEN DE LA PAZ, Subvención acumulada: 1416.45 €\n",
      "Centro: AMPA JUAN XXIII, Subvención acumulada: 1781.98 €\n",
      "Centro: AMPA SAN ANTONIO, Subvención acumulada: 2101.83 €\n",
      "Centro: AMPA PADRE  MANYANET, Subvención acumulada: 2695.82 €\n",
      "Centro: AMPA FAPA, Subvención acumulada: 3198.43 €\n"
     ]
    }
   ],
   "source": [
    "import pandas as pd\n",
    "\n",
    "# Leer el archivo Excel\n",
    "df = pd.read_excel('subvenciones.xls')\n",
    "\n",
    "# Crear un nuevo DataFrame para almacenar la acumulación de subvenciones por centro\n",
    "df_acumulado = pd.DataFrame(columns=['Centro', 'Importe'])\n",
    "\n",
    "# Iterar sobre cada fila del DataFrame original\n",
    "for index, fila in df.iterrows():\n",
    "    centro = fila['Centro']\n",
    "    subvencion = fila['Importe']\n",
    "\n",
    "    # Verificar si el centro ya está en el DataFrame acumulado\n",
    "    if centro in df_acumulado['Centro'].values:\n",
    "        # Actualizar la subvención acumulada si el centro ya existe loc agrega una fila\n",
    "        df_acumulado.loc[df_acumulado['Centro'] == centro, 'Importe'] += subvencion\n",
    "    else:\n",
    "        # Agregar una nueva fila si el centro no existe\n",
    "        df_acumulado.loc[len(df_acumulado)] = [centro, subvencion]\n",
    "     # Imprimir el resultado en cada iteración\n",
    "for centro, acumulado in asociaciones.items():\n",
    "    print(f\"Centro: {centro}, Subvención acumulada: {acumulado} €\")\n",
    "\n",
    "# Imprimir el DataFrame acumulado final\n",
    "#print(\"\\nResultado final:\")\n",
    "# print(df_acumulado) "
   ]
  },
  {
   "cell_type": "code",
   "execution_count": null,
   "id": "91dc840d-9c7b-4bdb-86ae-7872045233d0",
   "metadata": {},
   "outputs": [],
   "source": []
  }
 ],
 "metadata": {
  "kernelspec": {
   "display_name": "Python 3 (ipykernel)",
   "language": "python",
   "name": "python3"
  },
  "language_info": {
   "codemirror_mode": {
    "name": "ipython",
    "version": 3
   },
   "file_extension": ".py",
   "mimetype": "text/x-python",
   "name": "python",
   "nbconvert_exporter": "python",
   "pygments_lexer": "ipython3",
   "version": "3.11.6"
  }
 },
 "nbformat": 4,
 "nbformat_minor": 5
}
