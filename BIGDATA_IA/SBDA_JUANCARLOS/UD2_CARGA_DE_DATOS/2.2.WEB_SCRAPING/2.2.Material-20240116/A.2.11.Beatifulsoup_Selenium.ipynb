{
 "cells": [
  {
   "cell_type": "markdown",
   "id": "a79832d1-a48d-4da9-b2c9-d24e4ad7d9f3",
   "metadata": {},
   "source": [
    "## PART1. STATIC HTML. BeatifulSoup"
   ]
  },
  {
   "cell_type": "raw",
   "id": "31f1f0f5-adaa-4985-b0e4-59b8838fdd35",
   "metadata": {},
   "source": [
    "We used the next website:\n",
    "\n",
    "https://books.toscrape.com/catalogue/page-1.html"
   ]
  },
  {
   "cell_type": "raw",
   "id": "efbc7f7f-eb29-4a5c-ad93-137dcab62cab",
   "metadata": {},
   "source": [
    "If you notice (right click mouse and Inspect Element), you will see 20 books with img cover, rating, title, price and stock (boolean).\n",
    "We will obtain a dataframe with the 20 first books."
   ]
  },
  {
   "cell_type": "markdown",
   "id": "b6947d39-4213-4370-ab56-cffc9c94441e",
   "metadata": {},
   "source": [
    "<img src=\"img1.png\">"
   ]
  },
  {
   "cell_type": "raw",
   "id": "aecba150-60d6-401c-8e57-69d5ca01b6d8",
   "metadata": {},
   "source": [
    "Notice that article is the key tag. Download the webpage and we parser it."
   ]
  },
  {
   "cell_type": "code",
   "execution_count": 1,
   "id": "1fa7032a-5355-43d2-aac9-9ddff9ac2b84",
   "metadata": {},
   "outputs": [],
   "source": [
    "from bs4 import BeautifulSoup\n",
    "import requests\n",
    "url = \"https://books.toscrape.com/catalogue/page-2.html\"\n",
    "peticion = requests.get(url)\n",
    "pagina = BeautifulSoup(peticion.content, \"html.parser\")\n",
    "libros = pagina.find_all('article')                              #find_all elements with the tag article"
   ]
  },
  {
   "cell_type": "markdown",
   "id": "2bc82d6f-afb5-4747-86cc-871d2d097124",
   "metadata": {},
   "source": [
    "<img src=\"img2.png\">"
   ]
  },
  {
   "cell_type": "code",
   "execution_count": 3,
   "id": "2a495bfd-8c40-4511-9cb7-6cbcecf42222",
   "metadata": {},
   "outputs": [
    {
     "data": {
      "text/html": [
       "<div>\n",
       "<style scoped>\n",
       "    .dataframe tbody tr th:only-of-type {\n",
       "        vertical-align: middle;\n",
       "    }\n",
       "\n",
       "    .dataframe tbody tr th {\n",
       "        vertical-align: top;\n",
       "    }\n",
       "\n",
       "    .dataframe thead th {\n",
       "        text-align: right;\n",
       "    }\n",
       "</style>\n",
       "<table border=\"1\" class=\"dataframe\">\n",
       "  <thead>\n",
       "    <tr style=\"text-align: right;\">\n",
       "      <th></th>\n",
       "      <th>url portada</th>\n",
       "      <th>rating</th>\n",
       "      <th>titulo</th>\n",
       "      <th>url libro</th>\n",
       "      <th>precio</th>\n",
       "      <th>disponible</th>\n",
       "    </tr>\n",
       "  </thead>\n",
       "  <tbody>\n",
       "    <tr>\n",
       "      <th>0</th>\n",
       "      <td>https://books.toscrape.com/media/cache/f4/79/f...</td>\n",
       "      <td>Four</td>\n",
       "      <td>The Nameless City (The Nameless City #1)</td>\n",
       "      <td>https://books.toscrape.com/catalogue/the-namel...</td>\n",
       "      <td>£38.16</td>\n",
       "      <td>Si</td>\n",
       "    </tr>\n",
       "    <tr>\n",
       "      <th>1</th>\n",
       "      <td>https://books.toscrape.com/media/cache/dc/44/d...</td>\n",
       "      <td>Three</td>\n",
       "      <td>The Murder That Never Was (Forensic Instincts #5)</td>\n",
       "      <td>https://books.toscrape.com/catalogue/the-murde...</td>\n",
       "      <td>£54.11</td>\n",
       "      <td>Si</td>\n",
       "    </tr>\n",
       "    <tr>\n",
       "      <th>2</th>\n",
       "      <td>https://books.toscrape.com/media/cache/d4/8d/d...</td>\n",
       "      <td>Four</td>\n",
       "      <td>The Most Perfect Thing: Inside (and Outside) a...</td>\n",
       "      <td>https://books.toscrape.com/catalogue/the-most-...</td>\n",
       "      <td>£42.96</td>\n",
       "      <td>Si</td>\n",
       "    </tr>\n",
       "    <tr>\n",
       "      <th>3</th>\n",
       "      <td>https://books.toscrape.com/media/cache/f8/6d/f...</td>\n",
       "      <td>Four</td>\n",
       "      <td>The Mindfulness and Acceptance Workbook for An...</td>\n",
       "      <td>https://books.toscrape.com/catalogue/the-mindf...</td>\n",
       "      <td>£23.89</td>\n",
       "      <td>Si</td>\n",
       "    </tr>\n",
       "    <tr>\n",
       "      <th>4</th>\n",
       "      <td>https://books.toscrape.com/media/cache/95/64/9...</td>\n",
       "      <td>Three</td>\n",
       "      <td>The Life-Changing Magic of Tidying Up: The Jap...</td>\n",
       "      <td>https://books.toscrape.com/catalogue/the-life-...</td>\n",
       "      <td>£16.77</td>\n",
       "      <td>Si</td>\n",
       "    </tr>\n",
       "    <tr>\n",
       "      <th>5</th>\n",
       "      <td>https://books.toscrape.com/media/cache/75/dc/7...</td>\n",
       "      <td>Five</td>\n",
       "      <td>The Inefficiency Assassin: Time Management Tac...</td>\n",
       "      <td>https://books.toscrape.com/catalogue/the-ineff...</td>\n",
       "      <td>£20.59</td>\n",
       "      <td>Si</td>\n",
       "    </tr>\n",
       "    <tr>\n",
       "      <th>6</th>\n",
       "      <td>https://books.toscrape.com/media/cache/64/15/6...</td>\n",
       "      <td>One</td>\n",
       "      <td>The Gutsy Girl: Escapades for Your Life of Epi...</td>\n",
       "      <td>https://books.toscrape.com/catalogue/the-gutsy...</td>\n",
       "      <td>£37.13</td>\n",
       "      <td>Si</td>\n",
       "    </tr>\n",
       "    <tr>\n",
       "      <th>7</th>\n",
       "      <td>https://books.toscrape.com/media/cache/2e/23/2...</td>\n",
       "      <td>One</td>\n",
       "      <td>The Electric Pencil: Drawings from Inside Stat...</td>\n",
       "      <td>https://books.toscrape.com/catalogue/the-elect...</td>\n",
       "      <td>£56.06</td>\n",
       "      <td>Si</td>\n",
       "    </tr>\n",
       "    <tr>\n",
       "      <th>8</th>\n",
       "      <td>https://books.toscrape.com/media/cache/71/df/7...</td>\n",
       "      <td>Four</td>\n",
       "      <td>The Death of Humanity: and the Case for Life</td>\n",
       "      <td>https://books.toscrape.com/catalogue/the-death...</td>\n",
       "      <td>£58.11</td>\n",
       "      <td>Si</td>\n",
       "    </tr>\n",
       "    <tr>\n",
       "      <th>9</th>\n",
       "      <td>https://books.toscrape.com/media/cache/ee/3e/e...</td>\n",
       "      <td>Three</td>\n",
       "      <td>The Bulletproof Diet: Lose up to a Pound a Day...</td>\n",
       "      <td>https://books.toscrape.com/catalogue/the-bulle...</td>\n",
       "      <td>£49.05</td>\n",
       "      <td>Si</td>\n",
       "    </tr>\n",
       "    <tr>\n",
       "      <th>10</th>\n",
       "      <td>https://books.toscrape.com/media/cache/70/fa/7...</td>\n",
       "      <td>Three</td>\n",
       "      <td>The Art Forger</td>\n",
       "      <td>https://books.toscrape.com/catalogue/the-art-f...</td>\n",
       "      <td>£40.76</td>\n",
       "      <td>Si</td>\n",
       "    </tr>\n",
       "    <tr>\n",
       "      <th>11</th>\n",
       "      <td>https://books.toscrape.com/media/cache/2d/4e/2...</td>\n",
       "      <td>One</td>\n",
       "      <td>The Age of Genius: The Seventeenth Century and...</td>\n",
       "      <td>https://books.toscrape.com/catalogue/the-age-o...</td>\n",
       "      <td>£19.73</td>\n",
       "      <td>Si</td>\n",
       "    </tr>\n",
       "    <tr>\n",
       "      <th>12</th>\n",
       "      <td>https://books.toscrape.com/media/cache/96/db/9...</td>\n",
       "      <td>Five</td>\n",
       "      <td>The Activist's Tao Te Ching: Ancient Advice fo...</td>\n",
       "      <td>https://books.toscrape.com/catalogue/the-activ...</td>\n",
       "      <td>£32.24</td>\n",
       "      <td>Si</td>\n",
       "    </tr>\n",
       "    <tr>\n",
       "      <th>13</th>\n",
       "      <td>https://books.toscrape.com/media/cache/f3/4f/f...</td>\n",
       "      <td>Four</td>\n",
       "      <td>Spark Joy: An Illustrated Master Class on the ...</td>\n",
       "      <td>https://books.toscrape.com/catalogue/spark-joy...</td>\n",
       "      <td>£41.83</td>\n",
       "      <td>Si</td>\n",
       "    </tr>\n",
       "    <tr>\n",
       "      <th>14</th>\n",
       "      <td>https://books.toscrape.com/media/cache/69/85/6...</td>\n",
       "      <td>Two</td>\n",
       "      <td>Soul Reader</td>\n",
       "      <td>https://books.toscrape.com/catalogue/soul-read...</td>\n",
       "      <td>£39.58</td>\n",
       "      <td>Si</td>\n",
       "    </tr>\n",
       "    <tr>\n",
       "      <th>15</th>\n",
       "      <td>https://books.toscrape.com/media/cache/da/df/d...</td>\n",
       "      <td>Two</td>\n",
       "      <td>Security</td>\n",
       "      <td>https://books.toscrape.com/catalogue/security_...</td>\n",
       "      <td>£39.25</td>\n",
       "      <td>Si</td>\n",
       "    </tr>\n",
       "    <tr>\n",
       "      <th>16</th>\n",
       "      <td>https://books.toscrape.com/media/cache/43/ae/4...</td>\n",
       "      <td>Three</td>\n",
       "      <td>Saga, Volume 6 (Saga (Collected Editions) #6)</td>\n",
       "      <td>https://books.toscrape.com/catalogue/saga-volu...</td>\n",
       "      <td>£25.02</td>\n",
       "      <td>Si</td>\n",
       "    </tr>\n",
       "    <tr>\n",
       "      <th>17</th>\n",
       "      <td>https://books.toscrape.com/media/cache/e1/ea/e...</td>\n",
       "      <td>Two</td>\n",
       "      <td>Saga, Volume 5 (Saga (Collected Editions) #5)</td>\n",
       "      <td>https://books.toscrape.com/catalogue/saga-volu...</td>\n",
       "      <td>£51.04</td>\n",
       "      <td>Si</td>\n",
       "    </tr>\n",
       "    <tr>\n",
       "      <th>18</th>\n",
       "      <td>https://books.toscrape.com/media/cache/97/f8/9...</td>\n",
       "      <td>Two</td>\n",
       "      <td>Reskilling America: Learning to Labor in the T...</td>\n",
       "      <td>https://books.toscrape.com/catalogue/reskillin...</td>\n",
       "      <td>£19.83</td>\n",
       "      <td>Si</td>\n",
       "    </tr>\n",
       "    <tr>\n",
       "      <th>19</th>\n",
       "      <td>https://books.toscrape.com/media/cache/f3/ef/f...</td>\n",
       "      <td>Three</td>\n",
       "      <td>Rat Queens, Vol. 3: Demons (Rat Queens (Collec...</td>\n",
       "      <td>https://books.toscrape.com/catalogue/rat-queen...</td>\n",
       "      <td>£50.40</td>\n",
       "      <td>Si</td>\n",
       "    </tr>\n",
       "  </tbody>\n",
       "</table>\n",
       "</div>"
      ],
      "text/plain": [
       "                                          url portada rating  \\\n",
       "0   https://books.toscrape.com/media/cache/f4/79/f...   Four   \n",
       "1   https://books.toscrape.com/media/cache/dc/44/d...  Three   \n",
       "2   https://books.toscrape.com/media/cache/d4/8d/d...   Four   \n",
       "3   https://books.toscrape.com/media/cache/f8/6d/f...   Four   \n",
       "4   https://books.toscrape.com/media/cache/95/64/9...  Three   \n",
       "5   https://books.toscrape.com/media/cache/75/dc/7...   Five   \n",
       "6   https://books.toscrape.com/media/cache/64/15/6...    One   \n",
       "7   https://books.toscrape.com/media/cache/2e/23/2...    One   \n",
       "8   https://books.toscrape.com/media/cache/71/df/7...   Four   \n",
       "9   https://books.toscrape.com/media/cache/ee/3e/e...  Three   \n",
       "10  https://books.toscrape.com/media/cache/70/fa/7...  Three   \n",
       "11  https://books.toscrape.com/media/cache/2d/4e/2...    One   \n",
       "12  https://books.toscrape.com/media/cache/96/db/9...   Five   \n",
       "13  https://books.toscrape.com/media/cache/f3/4f/f...   Four   \n",
       "14  https://books.toscrape.com/media/cache/69/85/6...    Two   \n",
       "15  https://books.toscrape.com/media/cache/da/df/d...    Two   \n",
       "16  https://books.toscrape.com/media/cache/43/ae/4...  Three   \n",
       "17  https://books.toscrape.com/media/cache/e1/ea/e...    Two   \n",
       "18  https://books.toscrape.com/media/cache/97/f8/9...    Two   \n",
       "19  https://books.toscrape.com/media/cache/f3/ef/f...  Three   \n",
       "\n",
       "                                               titulo  \\\n",
       "0            The Nameless City (The Nameless City #1)   \n",
       "1   The Murder That Never Was (Forensic Instincts #5)   \n",
       "2   The Most Perfect Thing: Inside (and Outside) a...   \n",
       "3   The Mindfulness and Acceptance Workbook for An...   \n",
       "4   The Life-Changing Magic of Tidying Up: The Jap...   \n",
       "5   The Inefficiency Assassin: Time Management Tac...   \n",
       "6   The Gutsy Girl: Escapades for Your Life of Epi...   \n",
       "7   The Electric Pencil: Drawings from Inside Stat...   \n",
       "8        The Death of Humanity: and the Case for Life   \n",
       "9   The Bulletproof Diet: Lose up to a Pound a Day...   \n",
       "10                                     The Art Forger   \n",
       "11  The Age of Genius: The Seventeenth Century and...   \n",
       "12  The Activist's Tao Te Ching: Ancient Advice fo...   \n",
       "13  Spark Joy: An Illustrated Master Class on the ...   \n",
       "14                                        Soul Reader   \n",
       "15                                           Security   \n",
       "16      Saga, Volume 6 (Saga (Collected Editions) #6)   \n",
       "17      Saga, Volume 5 (Saga (Collected Editions) #5)   \n",
       "18  Reskilling America: Learning to Labor in the T...   \n",
       "19  Rat Queens, Vol. 3: Demons (Rat Queens (Collec...   \n",
       "\n",
       "                                            url libro  precio disponible  \n",
       "0   https://books.toscrape.com/catalogue/the-namel...  £38.16         Si  \n",
       "1   https://books.toscrape.com/catalogue/the-murde...  £54.11         Si  \n",
       "2   https://books.toscrape.com/catalogue/the-most-...  £42.96         Si  \n",
       "3   https://books.toscrape.com/catalogue/the-mindf...  £23.89         Si  \n",
       "4   https://books.toscrape.com/catalogue/the-life-...  £16.77         Si  \n",
       "5   https://books.toscrape.com/catalogue/the-ineff...  £20.59         Si  \n",
       "6   https://books.toscrape.com/catalogue/the-gutsy...  £37.13         Si  \n",
       "7   https://books.toscrape.com/catalogue/the-elect...  £56.06         Si  \n",
       "8   https://books.toscrape.com/catalogue/the-death...  £58.11         Si  \n",
       "9   https://books.toscrape.com/catalogue/the-bulle...  £49.05         Si  \n",
       "10  https://books.toscrape.com/catalogue/the-art-f...  £40.76         Si  \n",
       "11  https://books.toscrape.com/catalogue/the-age-o...  £19.73         Si  \n",
       "12  https://books.toscrape.com/catalogue/the-activ...  £32.24         Si  \n",
       "13  https://books.toscrape.com/catalogue/spark-joy...  £41.83         Si  \n",
       "14  https://books.toscrape.com/catalogue/soul-read...  £39.58         Si  \n",
       "15  https://books.toscrape.com/catalogue/security_...  £39.25         Si  \n",
       "16  https://books.toscrape.com/catalogue/saga-volu...  £25.02         Si  \n",
       "17  https://books.toscrape.com/catalogue/saga-volu...  £51.04         Si  \n",
       "18  https://books.toscrape.com/catalogue/reskillin...  £19.83         Si  \n",
       "19  https://books.toscrape.com/catalogue/rat-queen...  £50.40         Si  "
      ]
     },
     "execution_count": 3,
     "metadata": {},
     "output_type": "execute_result"
    }
   ],
   "source": [
    "from bs4 import BeautifulSoup\n",
    "import requests\n",
    "import pandas as pd\n",
    "url = \"https://books.toscrape.com/catalogue/page-4.html\"\n",
    "peticion = requests.get(url)\n",
    "pagina = BeautifulSoup(peticion.content, \"html.parser\")\n",
    "libros = pagina.find_all('article') \n",
    "lista_libros = []\n",
    "url_base = \"https://books.toscrape.com\"\n",
    "for libro in libros:\n",
    "    dict_libro = {}    #usamos una estructura de un diccionario\n",
    "    dict_libro['url portada'] = url_base + libro.div.a.img['src'].replace(\"..\", \"\")\n",
    "    dict_libro['rating'] = libro.find(\"p\", class_=\"star-rating\")[\"class\"][1]\n",
    "    dict_libro['titulo'] = libro.h3.find('a')['title']\n",
    "    dict_libro['url libro'] = url_base + \"/catalogue/\" + libro.h3.find('a')['href']\n",
    "    dict_libro['precio'] = libro.find('p', class_= 'price_color').text\n",
    "    disponible = libro.find('p', class_=\"instock availability\").text.strip()\n",
    "    if disponible =='In stock':\n",
    "        dict_libro['disponible'] = \"Si\"\n",
    "    else:\n",
    "        dict_libro['disponible'] = \"No\"\n",
    "    lista_libros.append(dict_libro)\n",
    "dataframe_libros = pd.DataFrame(lista_libros)\n",
    "dataframe_libros.head(20)"
   ]
  },
  {
   "cell_type": "raw",
   "id": "35925a8c-a303-4518-9d79-0a72909d790f",
   "metadata": {},
   "source": [
    "¿how would you get all the book list?¿how would download the lista like a csv or xls file?"
   ]
  },
  {
   "cell_type": "markdown",
   "id": "b4da1635-c6b5-430a-8b4e-6d28c61bbe5a",
   "metadata": {},
   "source": [
    "## Part2. WEB SCRAPING WITH INTERACTION. Selenium"
   ]
  },
  {
   "cell_type": "raw",
   "id": "e296ae53-fb94-4be9-ba0e-53f1f7ecb2bb",
   "metadata": {},
   "source": [
    "The purpose is to obtain information from the cadastre pages by previously entering data.\n",
    "\n",
    "https://www1.sedecatastro.gob.es/CYCBienInmueble/OVCBusqueda.aspx\n",
    "\n",
    "or this we need 3 things:\n",
    "\n",
    "1.- Google Chrome\n",
    "\n",
    "2.- Install the selenium library (pip install selenium)\n",
    "\n",
    "3.- Have a driver: chromedriver.exe  ==>  https://sites.google.com/a/chromium.org/chromedriver/downloads  Probably you will need searching. \n",
    "\n",
    "Version 115 in the moment of this manual:  https://googlechromelabs.github.io/chrome-for-testing/\n"
   ]
  },
  {
   "cell_type": "code",
   "execution_count": null,
   "id": "c6fa4d6d-ccdd-4fff-9af1-840b8ca0c12f",
   "metadata": {},
   "outputs": [],
   "source": [
    "from selenium import webdriver\n",
    "from selenium.webdriver.chrome.options import Options\n",
    "\n",
    "option = webdriver.ChromeOptions()\n",
    "driver = webdriver.Chrome(options = option)\n",
    "\n",
    "driver.get('https://www.google.com/')\n",
    "\n",
    "#now charge the website\n",
    "\n",
    "url = 'https://www1.sedecatastro.gob.es/CYCBienInmueble/OVCBusqueda.aspx'\n",
    "driver.get(url)\n",
    "\n",
    "#interaction with de webpage\n",
    "\n",
    "from selenium.webdriver.common.by import By\n",
    "coord   = driver.find_element(By.LINK_TEXT,\"COORDENADAS\")    #notice is a link. Also it can be a botton driver.find_element_by_id('nombre_btnDatos')\n",
    "coord.click() \n",
    "driver.implicitly_wait(10)   #is neccesary to stop the ejecution 10 sec or less, however, driver.sleep(10) wait 10 sec. exact\n",
    "#after click en link we search any location\n",
    "\n",
    "lat = driver.find_element(By.ID,\"ctl00_Contenido_txtLatitud\")\n",
    "lon = driver.find_element(By.ID,\"ctl00_Contenido_txtLongitud\")\n",
    "latitud  = \"41.545639\"   #you can use others\n",
    "longitud = \"1.893817\"\n",
    "lat.send_keys(latitud)\n",
    "lon.send_keys(longitud)\n",
    "datos = driver.find_element(By.ID,\"ctl00_Contenido_btnDatos\")   #id of button\n",
    "datos.click()\n",
    "\n",
    "#and now, i.e., show the use and property\n",
    "\n",
    "xpath = \"//*[./span/text()='Referencia catastral']//label\"\n",
    "etiqs = driver.find_element(By.XPATH,xpath)\n",
    "print(etiqs.text)\n",
    "xpath = \"//*[./span/text()='Uso principal']//label\"\n",
    "etiqs = driver.find_element(By.XPATH,xpath)\n",
    "print(etiqs.text)\n",
    "driver.close()"
   ]
  },
  {
   "cell_type": "markdown",
   "id": "a1e0650f-52b0-4dba-bf2d-312775f655f3",
   "metadata": {},
   "source": [
    "### Others examples "
   ]
  },
  {
   "cell_type": "raw",
   "id": "b589c0d9-d17a-4204-b974-d53e2c9122ce",
   "metadata": {},
   "source": [
    "Texto de la página"
   ]
  },
  {
   "cell_type": "code",
   "execution_count": null,
   "id": "4bf27c7e-a2e3-40c0-b2cc-498fa7fc3042",
   "metadata": {},
   "outputs": [],
   "source": [
    "html = driver.find_element(By.XPATH,\"/html\")\n",
    "print(html.text)"
   ]
  },
  {
   "cell_type": "raw",
   "id": "f42a5c89-89dc-480c-a5ca-6a63604e2611",
   "metadata": {},
   "source": [
    "Absolute paths"
   ]
  },
  {
   "cell_type": "code",
   "execution_count": null,
   "id": "6fe88028-2a7a-4596-b23f-05e23ba3fec3",
   "metadata": {},
   "outputs": [],
   "source": [
    "head = driver.find_element(By.XPATH,\"/html/head\")\n",
    "body = driver.find_element(By.XPATH,\"/html/body\")\n",
    "html2 = body.find_element(By.XPATH,\"/html\")"
   ]
  },
  {
   "cell_type": "raw",
   "id": "0e88e08b-f6d1-476f-8a7c-fc22cbe0509e",
   "metadata": {},
   "source": [
    "Child elements"
   ]
  },
  {
   "cell_type": "code",
   "execution_count": null,
   "id": "bd6b6159-7138-45a0-ad44-5289c839049a",
   "metadata": {},
   "outputs": [],
   "source": [
    "hijos = driver.find_elements(By.XPATH,\"/html/body/*\")\n",
    "for element in hijos:\n",
    "  print(element.tag_name)"
   ]
  },
  {
   "cell_type": "code",
   "execution_count": null,
   "id": "b1423d1d-11b7-4b83-853b-fec229e23ea7",
   "metadata": {},
   "outputs": [],
   "source": [
    "Relative path"
   ]
  },
  {
   "cell_type": "code",
   "execution_count": null,
   "id": "2edae3d6-c56a-4e4a-ac42-6e61c6f2cafe",
   "metadata": {},
   "outputs": [],
   "source": [
    "divs = driver.find_elements(By.XPATH,\"/html/body/*/div\")\n",
    "print(len(divs))"
   ]
  },
  {
   "cell_type": "raw",
   "id": "cc97babf-bc67-44b9-b2df-0365d5660ad1",
   "metadata": {},
   "source": [
    "Insert text"
   ]
  },
  {
   "cell_type": "code",
   "execution_count": null,
   "id": "33c2b612-0864-4a1f-a724-84ea617736bf",
   "metadata": {},
   "outputs": [],
   "source": [
    "id = \"ctl00_Contenido_tblInmueble\"\n",
    "div = driver.find_element(By.ID,id)\n",
    "label = div.find_element(By.XPATH,\"//label\")\n",
    "print(label.text)"
   ]
  },
  {
   "cell_type": "code",
   "execution_count": null,
   "id": "13ecccf7-5f7d-4345-828c-a40c63accd61",
   "metadata": {},
   "outputs": [],
   "source": [
    "xpath = \"//*[./span/text()='Referencia catastral']//label\"\n",
    "etiqs = driver.find_element(By.XPATH,xpath)\n",
    "print(etiqs.text)"
   ]
  },
  {
   "cell_type": "markdown",
   "id": "95f09888-f484-46df-af10-1cdd15693b2a",
   "metadata": {},
   "source": [
    "clase = driver.find_elements(By.XPATH,\"(//label)[position()=3]\")\n",
    "print(clase[0].text)\n",
    "\n",
    "etiqs = driver.find_elements(By.XPATH,\"//label\")\n",
    "print(etiqs[2].text)\n",
    "\n",
    "ulti = driver.find_elements(By.XPATH,\"(//label)[last()]\")\n",
    "print(ulti[0].text)\n"
   ]
  },
  {
   "cell_type": "raw",
   "id": "a5d1f4a8-1c6b-4024-a6f6-9026aaed2875",
   "metadata": {},
   "source": [
    "Jump lines"
   ]
  },
  {
   "cell_type": "code",
   "execution_count": null,
   "id": "2c462830-fb23-4662-8522-b69f730dd59e",
   "metadata": {},
   "outputs": [],
   "source": [
    "divs = driver.find_elements(By.XPATH,\"/html/body//div\")\n",
    "print(len(divs))"
   ]
  },
  {
   "cell_type": "code",
   "execution_count": null,
   "id": "f9b03f13-551f-4686-a5d7-9c089801be6a",
   "metadata": {},
   "outputs": [],
   "source": [
    "labels = driver.find_elements(By.XPATH,\"//label\")\n",
    "print(len(labels))"
   ]
  },
  {
   "cell_type": "raw",
   "id": "1df52b4a-9d33-455e-b5cb-b74952f4b43a",
   "metadata": {},
   "source": [
    "¿how do you do the same exercises in a Firefox browser?"
   ]
  },
  {
   "cell_type": "raw",
   "id": "b025073d-13eb-4813-8798-e6956557821c",
   "metadata": {},
   "source": [
    "Go the the Polígon/Parcela in the Castrato website\n",
    "Modfify the code to obtain in Pontevedra - Vigo and Poligno 10, te size of the 15 parcel and uso in a dataframe."
   ]
  }
 ],
 "metadata": {
  "kernelspec": {
   "display_name": "Python 3 (ipykernel)",
   "language": "python",
   "name": "python3"
  },
  "language_info": {
   "codemirror_mode": {
    "name": "ipython",
    "version": 3
   },
   "file_extension": ".py",
   "mimetype": "text/x-python",
   "name": "python",
   "nbconvert_exporter": "python",
   "pygments_lexer": "ipython3",
   "version": "3.11.6"
  }
 },
 "nbformat": 4,
 "nbformat_minor": 5
}
