{
 "cells": [
  {
   "cell_type": "code",
   "execution_count": 18,
   "id": "6d077a28-07f4-4667-9a43-f729c0ee21ec",
   "metadata": {
    "tags": []
   },
   "outputs": [
    {
     "name": "stdout",
     "output_type": "stream",
     "text": [
      "Resultados guardados en CSV en: C:\\Users\\VORPC\\resultados.csv\n"
     ]
    }
   ],
   "source": [
    "import requests\n",
    "import pandas as pd\n",
    "from bs4 import BeautifulSoup\n",
    "import os\n",
    "import time  # Agregamos la importación del módulo time para pausas\n",
    "\n",
    "# URL de la página\n",
    "url = 'https://www.sinhumo.net/1640-vaper'\n",
    "\n",
    "# Realizar la solicitud GET a la página\n",
    "response = requests.get(url)\n",
    "\n",
    "# Verificar si la solicitud fue exitosa (código de estado 200)\n",
    "if response.status_code == 200:\n",
    "    # Parsear el contenido HTML con BeautifulSoup\n",
    "    soup = BeautifulSoup(response.text, 'html.parser')\n",
    "\n",
    "    # Pequeña pausa antes de intentar hacer clic en el botón \"Aceptar\"\n",
    "    time.sleep(2)\n",
    "\n",
    "    # Encuentra y haz clic en el botón \"Aceptar\" si es necesario\n",
    "    accept_button = soup.find('a', {'id': 'adultcontentOK'})\n",
    "    if accept_button:\n",
    "        try:\n",
    "            accept_button.click()\n",
    "            print(\"Se hizo clic en 'Aceptar'\")\n",
    "        except Exception as e:\n",
    "            print(f\"No se pudo hacer clic en 'Aceptar': {e}\")\n",
    "\n",
    "    # Encuentra todos los elementos de artículo\n",
    "    articles = soup.select('article.product-miniature')\n",
    "\n",
    "    # Crear listas para almacenar los resultados\n",
    "    data = {'Artículo': [], 'Precio': [], 'Enlace': []}\n",
    "\n",
    "    # Iterar sobre los elementos de artículo\n",
    "    for article in articles:\n",
    "        # Obtener el título del artículo\n",
    "        title_element = article.select_one('div.product-description a')\n",
    "        article_title = title_element.text.strip()\n",
    "\n",
    "        # Obtener el precio del artículo\n",
    "        price_element = article.select_one('span.price')\n",
    "        article_price = price_element.text.strip()\n",
    "\n",
    "        # Obtener el enlace del artículo\n",
    "        link_element = article.select_one('div.product-description a')\n",
    "        article_link = link_element['href']\n",
    "\n",
    "        # Almacenar resultados en listas\n",
    "        data['Artículo'].append(article_title)\n",
    "        data['Precio'].append(article_price)\n",
    "        data['Enlace'].append(article_link)\n",
    "\n",
    "    # Convertir a DataFrame de pandas\n",
    "    df = pd.DataFrame(data)\n",
    "\n",
    "    # Obtener la ruta del directorio de usuario\n",
    "    user_directory = os.path.expanduser(\"~\")\n",
    "\n",
    "    # Guardar en CSV en el directorio de usuario\n",
    "    csv_path = os.path.join(user_directory, 'resultados.csv')\n",
    "    df.to_csv(csv_path, index=False)\n",
    "\n",
    "    # Imprimir mensaje de éxito\n",
    "    print(f\"Resultados guardados en CSV en: {csv_path}\")\n",
    "\n",
    "else:\n",
    "    print(f'Error al obtener la página. Código de estado: {response.status_code}')\n"
   ]
  },
  {
   "cell_type": "code",
   "execution_count": null,
   "id": "73e95b4c-c019-469f-871f-3df5fe45857a",
   "metadata": {},
   "outputs": [],
   "source": []
  }
 ],
 "metadata": {
  "kernelspec": {
   "display_name": "Python 3 (ipykernel)",
   "language": "python",
   "name": "python3"
  },
  "language_info": {
   "codemirror_mode": {
    "name": "ipython",
    "version": 3
   },
   "file_extension": ".py",
   "mimetype": "text/x-python",
   "name": "python",
   "nbconvert_exporter": "python",
   "pygments_lexer": "ipython3",
   "version": "3.11.5"
  }
 },
 "nbformat": 4,
 "nbformat_minor": 5
}
