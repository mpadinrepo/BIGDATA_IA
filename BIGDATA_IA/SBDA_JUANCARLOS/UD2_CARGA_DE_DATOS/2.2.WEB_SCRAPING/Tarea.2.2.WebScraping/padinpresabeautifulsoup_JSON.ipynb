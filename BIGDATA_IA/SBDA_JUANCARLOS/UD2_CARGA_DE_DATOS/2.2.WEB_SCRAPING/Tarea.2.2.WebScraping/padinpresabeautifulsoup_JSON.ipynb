{
 "cells": [
  {
   "cell_type": "code",
   "execution_count": 4,
   "id": "5db8d739-e6c0-480f-97e5-1f6353dd85c4",
   "metadata": {
    "tags": []
   },
   "outputs": [
    {
     "name": "stdout",
     "output_type": "stream",
     "text": [
      "Resultados guardados en JSON en la carpeta de Documentos: C:\\Users\\VORPC\\Documents\\resultados.json.\n"
     ]
    }
   ],
   "source": [
    "import requests\n",
    "import pandas as pd\n",
    "from bs4 import BeautifulSoup\n",
    "import os\n",
    "\n",
    "# URL de la página\n",
    "url = 'https://www.sinhumo.net/1640-vaper'\n",
    "\n",
    "# Realizar la solicitud GET a la página\n",
    "response = requests.get(url)\n",
    "\n",
    "# Verificar si la solicitud fue exitosa (código de estado 200)\n",
    "if response.status_code == 200:\n",
    "    # Parsear el contenido HTML con BeautifulSoup\n",
    "    soup = BeautifulSoup(response.text, 'html.parser')\n",
    "\n",
    "    # Encuentra y haz clic en el botón \"Aceptar\" si es necesario\n",
    "    accept_button = soup.find('a', {'id': 'adultcontentOK'})\n",
    "    if accept_button:\n",
    "        print(\"Se hizo clic en 'Aceptar'\")\n",
    "\n",
    "    # Encuentra todos los elementos de artículo\n",
    "    articles = soup.select('article.product-miniature')\n",
    "\n",
    "    # Crear listas para almacenar los resultados\n",
    "    data = {'Artículo': [], 'Precio': [], 'Enlace': []}\n",
    "\n",
    "    # Iterar sobre los elementos de artículo\n",
    "    for article in articles:\n",
    "        # Obtener el título del artículo\n",
    "        title_element = article.select_one('div.product-description a')\n",
    "        article_title = title_element.text.strip()\n",
    "\n",
    "        # Obtener el precio del artículo\n",
    "        price_element = article.select_one('span.price')\n",
    "        article_price = price_element.text.strip()\n",
    "\n",
    "        # Obtener el enlace del artículo\n",
    "        link_element = article.select_one('div.product-description a')\n",
    "        article_link = link_element['href']\n",
    "\n",
    "        # Almacenar resultados en listas\n",
    "        data['Artículo'].append(article_title)\n",
    "        data['Precio'].append(article_price)\n",
    "        data['Enlace'].append(article_link)\n",
    "\n",
    "    # Convertir a DataFrame de pandas\n",
    "    df = pd.DataFrame(data)\n",
    "\n",
    "    # Obtener la ruta de la carpeta \"Documentos\" del usuario\n",
    "    documents_directory = os.path.join(os.path.expanduser(\"~\"), \"Documents\")\n",
    "\n",
    "    # Guardar en JSON en la carpeta \"Documentos\" del usuario\n",
    "    json_filename = os.path.join(documents_directory, 'resultados.json')\n",
    "    df.to_json(json_filename, orient='records', lines=True)\n",
    "\n",
    "    print(f\"Resultados guardados en JSON en la carpeta de Documentos: {json_filename}.\")\n",
    "\n",
    "else:\n",
    "    print(f'Error al obtener la página. Código de estado: {response.status_code}')\n"
   ]
  },
  {
   "cell_type": "code",
   "execution_count": null,
   "id": "5356c9ab-f46c-4b0e-92c8-7ab6fdeb38bf",
   "metadata": {},
   "outputs": [],
   "source": []
  }
 ],
 "metadata": {
  "kernelspec": {
   "display_name": "Python 3 (ipykernel)",
   "language": "python",
   "name": "python3"
  },
  "language_info": {
   "codemirror_mode": {
    "name": "ipython",
    "version": 3
   },
   "file_extension": ".py",
   "mimetype": "text/x-python",
   "name": "python",
   "nbconvert_exporter": "python",
   "pygments_lexer": "ipython3",
   "version": "3.11.5"
  }
 },
 "nbformat": 4,
 "nbformat_minor": 5
}
