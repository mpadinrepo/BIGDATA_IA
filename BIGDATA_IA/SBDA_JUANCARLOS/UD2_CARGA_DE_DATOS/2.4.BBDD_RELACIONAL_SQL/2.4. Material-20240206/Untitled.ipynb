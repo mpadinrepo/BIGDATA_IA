{
 "cells": [
  {
   "cell_type": "code",
   "execution_count": 2,
   "id": "44a94e59-cf66-496c-8d5c-455a0ab88071",
   "metadata": {},
   "outputs": [
    {
     "name": "stdout",
     "output_type": "stream",
     "text": [
      "Error al conectarse a la base de datos: Authentication plugin 'caching_sha2_password' is not supported\n"
     ]
    }
   ],
   "source": [
    "import mysql.connector\n",
    "\n",
    "# Establece los parámetros de conexión\n",
    "config = {\n",
    "  'user': 'root',\n",
    "  'password': 'user',\n",
    "  'host': '172.31.0.5',\n",
    "  'database': 'mybbdd',\n",
    "  'port': 3306,\n",
    "}\n",
    "\n",
    "# Intenta establecer la conexión\n",
    "try:\n",
    "    conn = mysql.connector.connect(**config)\n",
    "    print(\"Conexión establecida con la base de datos\")\n",
    "    \n",
    "    # Crea un cursor para ejecutar consultas SQL\n",
    "    cursor = conn.cursor()\n",
    "    \n",
    "    # Ejecuta una consulta SQL\n",
    "    cursor.execute(\"SELECT * FROM products\")\n",
    "    \n",
    "    # Recupera los resultados de la consulta\n",
    "    results = cursor.fetchall()\n",
    "    \n",
    "    # Imprime los resultados\n",
    "    for row in results:\n",
    "        print(row)\n",
    "        \n",
    "    # Cierra el cursor y la conexión\n",
    "    cursor.close()\n",
    "    conn.close()\n",
    "    print(\"Conexión cerrada\")\n",
    "    \n",
    "except mysql.connector.Error as e:\n",
    "    print(\"Error al conectarse a la base de datos:\", e)\n"
   ]
  },
  {
   "cell_type": "code",
   "execution_count": null,
   "id": "d0bde436-c77f-4339-bb50-72c92e7d8775",
   "metadata": {},
   "outputs": [],
   "source": []
  }
 ],
 "metadata": {
  "kernelspec": {
   "display_name": "Python 3 (ipykernel)",
   "language": "python",
   "name": "python3"
  },
  "language_info": {
   "codemirror_mode": {
    "name": "ipython",
    "version": 3
   },
   "file_extension": ".py",
   "mimetype": "text/x-python",
   "name": "python",
   "nbconvert_exporter": "python",
   "pygments_lexer": "ipython3",
   "version": "3.11.6"
  }
 },
 "nbformat": 4,
 "nbformat_minor": 5
}
