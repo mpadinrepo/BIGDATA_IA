{
 "cells": [
  {
   "cell_type": "markdown",
   "id": "6a73af58-a38c-4af8-a235-afb8e5ad520f",
   "metadata": {},
   "source": [
    "\r\n",
    "Conéctate a tu bbdd mysql a través de phpmyAdmin y carga en la bbdd mibbdd la tabla\r\n",
    "VENTAS con todo el contenid\n",
    "\n",
    "o. Lo puedes hacer fácilmente tal y como hicimos en cl se\r\n",
    "con la tabla COMP\n",
    "RAS.\r\n",
    "Pincha en la bbdd y selecciona Importar. En esa pestaña puedes subir el fichero e importar.\r\n",
    "Se creará la tabla con el cont\n",
    "enido.\r\n",
    "Crea un dataframe que tenga como contenido el de la\n",
    " tabla:\r\n",
    "• Las columnas deben tener el mismo literal que en \n",
    "la bbdd.\r\n",
    "• No importes la columna de la bbdd que es clave primaria (Id). En su lug r, debes\r\n",
    "crear en el dataframe un multiíndice formado por ID Pedido e I\n",
    "D Factura.\r\n",
    "• Asegúrate que los tipos de dato en el dataframe son los número de pedidos de\r\n",
    "cada uno."
   ]
  },
  {
   "cell_type": "code",
   "execution_count": 15,
   "id": "8f53b1ce-424d-485b-8f80-7df9b56e5b36",
   "metadata": {},
   "outputs": [
    {
     "name": "stdout",
     "output_type": "stream",
     "text": [
      "Conexión establecida correctamente con la base de datos mybbdd\n",
      "  Tables_in_mybbdd\n",
      "0           VENTAS\n",
      "1       categories\n",
      "2        customers\n",
      "3        employees\n",
      "4    order details\n",
      "5           orders\n",
      "6         products\n",
      "7         shippers\n",
      "8        suppliers\n",
      "Conexión cerrada correctamente\n"
     ]
    },
    {
     "name": "stderr",
     "output_type": "stream",
     "text": [
      "/tmp/ipykernel_9594/982560445.py:20: UserWarning: pandas only supports SQLAlchemy connectable (engine/connection) or database string URI or sqlite3 DBAPI2 connection. Other DBAPI2 objects are not tested. Please consider using SQLAlchemy.\n",
      "  tablas = pd.read_sql_query(query, conexion)\n"
     ]
    }
   ],
   "source": [
    "import mysql.connector\n",
    "import pandas as pd\n",
    "\n",
    "try:\n",
    "    # Conectar con la base de datos MySQL\n",
    "    conexion = mysql.connector.connect(\n",
    "        host=\"mariadb\",  # Nombre del contenedor Docker\n",
    "        port=\"3306\",  # Puerto predeterminado de MariaDB\n",
    "        user=\"root\",\n",
    "        password=\"abc123...\",  # Cambiar a la contraseña correcta\n",
    "        database=\"mybbdd\"  # Nombre de tu base de datos\n",
    "    )\n",
    "\n",
    "    # Verificar si la conexión fue exitosa\n",
    "    if conexion.is_connected():\n",
    "        print(\"Conexión establecida correctamente con la base de datos mybbdd\")\n",
    "        # Consulta SQL para obtener las tablas\n",
    "        query = \"SHOW TABLES;\"\n",
    "        # Ejecutar la consulta y guardar los resultados en un DataFrame\n",
    "        tablas = pd.read_sql_query(query, conexion)\n",
    "        # Mostrar los resultados\n",
    "        print(tablas)\n",
    "        \n",
    "except mysql.connector.Error as error:\n",
    "    print(\"Error al conectar a la base de datos:\", error)\n",
    "finally:\n",
    "    # Cerrar la conexión\n",
    "    if 'conexion' in locals() and conexion.is_connected():\n",
    "        conexion.close()\n",
    "        print(\"Conexión cerrada correctamente\")\n"
   ]
  },
  {
   "cell_type": "code",
   "execution_count": 14,
   "id": "126a3704-9486-4c2a-a3ea-8f8eab36e24f",
   "metadata": {},
   "outputs": [
    {
     "ename": "NameError",
     "evalue": "name 'datos' is not defined",
     "output_type": "error",
     "traceback": [
      "\u001b[0;31m---------------------------------------------------------------------------\u001b[0m",
      "\u001b[0;31mNameError\u001b[0m                                 Traceback (most recent call last)",
      "Cell \u001b[0;32mIn[14], line 2\u001b[0m\n\u001b[1;32m      1\u001b[0m \u001b[38;5;66;03m# Convertir los tipos de datos según sea necesario\u001b[39;00m\n\u001b[0;32m----> 2\u001b[0m datos[\u001b[38;5;124m'\u001b[39m\u001b[38;5;124mID Pedido\u001b[39m\u001b[38;5;124m'\u001b[39m] \u001b[38;5;241m=\u001b[39m \u001b[43mdatos\u001b[49m[\u001b[38;5;124m'\u001b[39m\u001b[38;5;124mID Pedido\u001b[39m\u001b[38;5;124m'\u001b[39m]\u001b[38;5;241m.\u001b[39mastype(\u001b[38;5;124m'\u001b[39m\u001b[38;5;124mint64\u001b[39m\u001b[38;5;124m'\u001b[39m)\n\u001b[1;32m      3\u001b[0m datos[\u001b[38;5;124m'\u001b[39m\u001b[38;5;124mID Factura\u001b[39m\u001b[38;5;124m'\u001b[39m] \u001b[38;5;241m=\u001b[39m datos[\u001b[38;5;124m'\u001b[39m\u001b[38;5;124mID Factura\u001b[39m\u001b[38;5;124m'\u001b[39m]\u001b[38;5;241m.\u001b[39mastype(\u001b[38;5;124m'\u001b[39m\u001b[38;5;124mint64\u001b[39m\u001b[38;5;124m'\u001b[39m)\n\u001b[1;32m      4\u001b[0m datos[\u001b[38;5;124m'\u001b[39m\u001b[38;5;124mFecha\u001b[39m\u001b[38;5;124m'\u001b[39m] \u001b[38;5;241m=\u001b[39m pd\u001b[38;5;241m.\u001b[39mto_datetime(datos[\u001b[38;5;124m'\u001b[39m\u001b[38;5;124mFecha\u001b[39m\u001b[38;5;124m'\u001b[39m])\n",
      "\u001b[0;31mNameError\u001b[0m: name 'datos' is not defined"
     ]
    }
   ],
   "source": [
    "# Convertir los tipos de datos según sea necesario\n",
    "datos['ID Pedido'] = datos['ID Pedido'].astype('int64')\n",
    "datos['ID Factura'] = datos['ID Factura'].astype('int64')\n",
    "datos['Fecha'] = pd.to_datetime(datos['Fecha'])\n",
    "\n",
    "# Crear el MultiIndex con las columnas 'ID Pedido' e 'ID Factura'\n",
    "datos.set_index(['ID Pedido', 'ID Factura'], inplace=True)\n",
    "\n",
    "# Mostrar el DataFrame resultante\n",
    "print(datos)\n"
   ]
  },
  {
   "cell_type": "markdown",
   "id": "6671119a-78e1-4ab9-94da-fe5805cb45ec",
   "metadata": {},
   "source": [
    "1. Aquellos pedidos efectuados por Mujeres. Debe cumplir los mismos requisitos que\n",
    "el dataframe anterior (columnas con el mismo nombre que en la bbdd, no cargar la\n",
    "clae primaria, crear multiíndice con ID Pedido e ID Factura y con tipos de dato\n",
    "adecuados).\n"
   ]
  },
  {
   "cell_type": "code",
   "execution_count": null,
   "id": "18aae9fb-eed3-4850-a26d-1918666a83e5",
   "metadata": {},
   "outputs": [],
   "source": []
  },
  {
   "cell_type": "markdown",
   "id": "a44cd089-e262-4bbe-aac5-6ecd1a0ab664",
   "metadata": {},
   "source": [
    "2. Aquellos pedidos realizados en una fecha determinada pasada por teclado.\n"
   ]
  },
  {
   "cell_type": "code",
   "execution_count": null,
   "id": "6452e490-b77d-42be-98e2-530506844ca8",
   "metadata": {},
   "outputs": [],
   "source": []
  },
  {
   "cell_type": "markdown",
   "id": "cdbec8b6-efd3-4677-941f-746be1dcbb46",
   "metadata": {},
   "source": [
    "3. Aquellos pedidos de una factura determinada pasada por teclado.\n"
   ]
  },
  {
   "cell_type": "code",
   "execution_count": null,
   "id": "a839342e-cec2-4311-bc9e-e48b09cdbae8",
   "metadata": {},
   "outputs": [],
   "source": []
  },
  {
   "cell_type": "markdown",
   "id": "3076f1fa-5a98-4796-8d7a-1938a4209a2a",
   "metadata": {},
   "source": [
    "4. Aquellos pedidos de un determinado departamento o línea de negocio pasada por\n",
    "teclado y cuya cantidad supere las 40 unidades\n"
   ]
  },
  {
   "cell_type": "code",
   "execution_count": null,
   "id": "ceff2e69-0daa-4d88-bf38-6705fd6660f3",
   "metadata": {},
   "outputs": [],
   "source": []
  },
  {
   "cell_type": "markdown",
   "id": "7c2b2ead-dd11-4726-9ee7-925d5ec56f0c",
   "metadata": {},
   "source": [
    "5. La suma de los totales que se han pagado por transferencia, efectivo y tarjeta de\n",
    "crédito respectivamente.\n"
   ]
  },
  {
   "cell_type": "code",
   "execution_count": null,
   "id": "4c8e14d5-f54b-4d39-9775-eea449bc84c5",
   "metadata": {},
   "outputs": [],
   "source": []
  },
  {
   "cell_type": "markdown",
   "id": "bd582e43-1fe1-488a-b0cf-f30284479f14",
   "metadata": {},
   "source": [
    "6. Listado de facturas y cantidades de cada una de un supermercado pasado por\n",
    "teclado desglosadas por mujeres y hombres.\n"
   ]
  },
  {
   "cell_type": "code",
   "execution_count": null,
   "id": "99d98ab6-88bb-4dd1-a7d2-630378d3b702",
   "metadata": {},
   "outputs": [],
   "source": []
  },
  {
   "cell_type": "markdown",
   "id": "cf445868-756f-4dfd-a6ad-59c39934987d",
   "metadata": {},
   "source": [
    "7. Ventas totales desglosadas por departamentos o líneas de negocio ordenadas de\n",
    "forma decreciente.\n"
   ]
  },
  {
   "cell_type": "code",
   "execution_count": null,
   "id": "ac791268-8e6b-4c54-b294-93965b839f95",
   "metadata": {},
   "outputs": [],
   "source": []
  },
  {
   "cell_type": "markdown",
   "id": "0a2e7d91-0f07-4001-98ff-97abda803859",
   "metadata": {},
   "source": [
    "8. Ventas totales desglosadas por supermercados ordenadas de forma creciente\n"
   ]
  },
  {
   "cell_type": "code",
   "execution_count": null,
   "id": "f7d85b72-ee46-4322-b0cd-a703c142cc4c",
   "metadata": {},
   "outputs": [],
   "source": []
  },
  {
   "cell_type": "markdown",
   "id": "c073ee3e-3405-4579-a0ae-29888195e119",
   "metadata": {},
   "source": [
    "9. Listado de facturas pagadas y sus cantidades totales tanto por hombres y luego por\n",
    "mujeres según se haya realizado por tarjeta de crédito, transferencia y efectivo, esto\n",
    "último pasado por teclado\n"
   ]
  },
  {
   "cell_type": "code",
   "execution_count": null,
   "id": "1576ed7e-88dd-4e60-8b6d-317a491416e2",
   "metadata": {},
   "outputs": [],
   "source": []
  },
  {
   "cell_type": "markdown",
   "id": "107499d3-c09f-4b46-b319-803f91bf06bd",
   "metadata": {},
   "source": [
    "10. Número de supermercados por cada población incluyendo el número de pedidos de\n",
    "cada uno."
   ]
  },
  {
   "cell_type": "code",
   "execution_count": null,
   "id": "da83b5c0-43f5-4d70-b253-5b36bcb49530",
   "metadata": {},
   "outputs": [],
   "source": []
  },
  {
   "cell_type": "markdown",
   "id": "b1ab96b6-8497-44f4-9f21-5d400135408e",
   "metadata": {},
   "source": [
    "### ACCESO CON BBDD"
   ]
  },
  {
   "cell_type": "markdown",
   "id": "cb7b2c58-3095-4625-af3d-f1275c68600b",
   "metadata": {},
   "source": [
    "En primer lugar vmos a intentar conectar con la base de datos, si es necesario utilizar **pip install pysqlite3**"
   ]
  },
  {
   "cell_type": "markdown",
   "id": "dce36af2-f2d1-40ca-a4b7-2b79b6b95e1f",
   "metadata": {},
   "source": [
    "Por otro lado un manual básico de SQL:  https://www.w3schools.com/sql/"
   ]
  },
  {
   "cell_type": "code",
   "execution_count": null,
   "id": "538ee81b-1593-4e87-b398-b2413fbe84aa",
   "metadata": {},
   "outputs": [],
   "source": [
    "import sqlite3\n",
    "conn = sqlite3.connect('bbdd.db')\n",
    "print(\"Base de datos abierta\");"
   ]
  },
  {
   "cell_type": "markdown",
   "id": "b6e7fb9b-293e-4697-94cf-fcbd9ee7d701",
   "metadata": {},
   "source": [
    "A continuación ejecutaremos algunos ejemplos sencillos volcando los datos en dataframes"
   ]
  },
  {
   "cell_type": "code",
   "execution_count": null,
   "id": "c5447970-3233-4db6-af58-316dadc00ac5",
   "metadata": {},
   "outputs": [],
   "source": [
    "import sqlite3\n",
    "import pandas as pd\n",
    "import numpy as np\n",
    "\n",
    "# si fuese uan base de datos multusuario como mysql entonces, no es este caso\n",
    "# uri = 'mysql+pymysql://user:pass@<ip_bbdd>/mibbdd\n",
    "#db_conn = create_engine(uri)\n",
    "\n",
    "conexion = sqlite3.connect('bbdd.db')\n",
    "print(\"Base de datos abierta\");\n",
    "\n",
    "datos = pd.read_sql_query(\"select * from products\",conexion, index_col='ProductID')\n",
    "\n",
    "datos.head()\n",
    "\n",
    "                    "
   ]
  },
  {
   "cell_type": "code",
   "execution_count": null,
   "id": "cd30f150-1713-48ab-b539-f138b2b07c92",
   "metadata": {},
   "outputs": [],
   "source": [
    "import sqlite3\n",
    "import pandas as pd\n",
    "import numpy as np\n",
    "\n",
    "# si fuese uan base de datos multusuario como mysql entonces, no es este caso\n",
    "# uri = 'mysql+pymysql://user:pass@<ip_bbdd>/mibbdd\n",
    "# db_conn = create_engine(uri)\n",
    "\n",
    "conexion = sqlite3.connect('bbdd.db')\n",
    "print(\"Base de datos abierta\");\n",
    "\n",
    "var = input(\"Indique el país: \")\n",
    "\n",
    "datos = pd.read_sql_query(\"select CustomerID, CustomerName, City from Customers where Country = ?\", conexion,  params=(str(var),))\n",
    "\n",
    "datos.head()\n"
   ]
  },
  {
   "cell_type": "code",
   "execution_count": null,
   "id": "f29f854b-3a95-46bb-8730-cf4300918b52",
   "metadata": {},
   "outputs": [],
   "source": [
    "import sqlite3\n",
    "import pandas as pd\n",
    "import numpy as np\n",
    "\n",
    "# si fuese uan base de datos multusuario como mysql entonces, no es este caso\n",
    "# uri = 'mysql+pymysql://user:pass@<ip_bbdd>/mibbdd\n",
    "# db_conn = create_engine(uri)\n",
    "\n",
    "conexion = sqlite3.connect('bbdd.db')\n",
    "print(\"Base de datos abierta\");\n",
    "\n",
    "date1 = input(\"Fecha inicio: (YYYY-MM-DD) :\")\n",
    "date2 = input(\"Fecha Fin: (YYYY-MM-DD) :\")\n",
    "datos = pd.read_sql_query(\"select OrderID, CustomerID, OrderDate from Orders where OrderDate between ? and ?\", conexion,  params=(str(date1),str(date2),))\n",
    "\n",
    "datos.head()"
   ]
  },
  {
   "cell_type": "code",
   "execution_count": null,
   "id": "d4545c02-e93d-42c4-8fcf-c13cbbd821b6",
   "metadata": {},
   "outputs": [],
   "source": [
    "import sqlite3\n",
    "import pandas as pd\n",
    "import numpy as np\n",
    "\n",
    "# si fuese uan base de datos multusuario como mysql entonces, no es este caso\n",
    "# uri = 'mysql+pymysql://user:pass@<ip_bbdd>/mibbdd\n",
    "# db_conn = create_engine(uri)\n",
    "\n",
    "conexion = sqlite3.connect('bbdd.db')\n",
    "print(\"Base de datos abierta\");\n",
    "\n",
    "datos = pd.read_sql_query(\"SELECT Orders.OrderID, Orders.OrderDate, Customers.CustomerID, Customers.CustomerName FROM Orders JOIN Customers ON Orders.CustomerID = Customers.CustomerID\", conexion)\n",
    "\n",
    "datos.head()\n",
    "display(datos)"
   ]
  },
  {
   "cell_type": "code",
   "execution_count": null,
   "id": "7583d88f-c6b0-4dc2-a581-1954e183f433",
   "metadata": {},
   "outputs": [],
   "source": [
    "import sqlite3\n",
    "import pandas as pd\n",
    "import numpy as np\n",
    "\n",
    "# si fuese uan base de datos multusuario como mysql entonces, no es este caso\n",
    "# uri = 'mysql+pymysql://user:pass@<ip_bbdd>/mibbdd\n",
    "# db_conn = create_engine(uri)\n",
    "\n",
    "conexion = sqlite3.connect('bbdd.db')\n",
    "print(\"Base de datos abierta\");\n",
    "\n",
    "# empleados y ventas realizadas por cada uno\n",
    "\n",
    "datos = pd.read_sql_query(\"SELECT Employees.FirstName || ' ' || Employees.LastName AS NombreCompleto, COUNT(Orders.OrderID) AS NumeroDePedidos FROM Employees JOIN Orders ON Employees.EmployeeID = Orders.EmployeeID GROUP BY Employees.EmployeeID\", conexion)\n",
    "\n",
    "datos.head()\n",
    "display(datos)"
   ]
  },
  {
   "cell_type": "code",
   "execution_count": null,
   "id": "a031e67c-b7f9-47d6-bf89-a586e040c316",
   "metadata": {},
   "outputs": [],
   "source": [
    "import sqlite3\n",
    "import pandas as pd\n",
    "import numpy as np\n",
    "\n",
    "# si fuese uan base de datos multusuario como mysql entonces, no es este caso\n",
    "# uri = 'mysql+pymysql://user:pass@<ip_bbdd>/mibbdd\n",
    "# db_conn = create_engine(uri)\n",
    "\n",
    "conexion = sqlite3.connect('bbdd.db')\n",
    "print(\"Base de datos abierta\");\n",
    "\n",
    "# Clientes registrados en la misma ciudad que nuestros proveedores\n",
    "\n",
    "datos = pd.read_sql_query(\"SELECT DISTINCT Customers.CustomerID, Customers.CustomerName, Customers.City FROM Customers JOIN Suppliers ON Customers.City = Suppliers.City\", conexion)\n",
    "\n",
    "datos.head()\n",
    "display(datos)"
   ]
  },
  {
   "cell_type": "code",
   "execution_count": null,
   "id": "9d83fc47-ddb2-4caa-911a-108f6e466d17",
   "metadata": {},
   "outputs": [],
   "source": []
  }
 ],
 "metadata": {
  "kernelspec": {
   "display_name": "Python 3 (ipykernel)",
   "language": "python",
   "name": "python3"
  },
  "language_info": {
   "codemirror_mode": {
    "name": "ipython",
    "version": 3
   },
   "file_extension": ".py",
   "mimetype": "text/x-python",
   "name": "python",
   "nbconvert_exporter": "python",
   "pygments_lexer": "ipython3",
   "version": "3.11.6"
  }
 },
 "nbformat": 4,
 "nbformat_minor": 5
}
