{
 "cells": [
  {
   "cell_type": "markdown",
   "id": "e03effa1-9046-49c7-960b-e9d79123b118",
   "metadata": {},
   "source": [
    "# TSV"
   ]
  },
  {
   "cell_type": "markdown",
   "id": "6d18f13d-7c8d-4f99-b709-4e40b97a2491",
   "metadata": {},
   "source": [
    "TSV columns are delimited by tabs. Use library csv, with '\\t' as delimiter. Reading the code"
   ]
  },
  {
   "cell_type": "code",
   "execution_count": 22,
   "id": "92bab340-d994-4516-9ec4-70a38005b499",
   "metadata": {},
   "outputs": [],
   "source": [
    "import csv\n",
    "with open('subvenciones.csv', encoding='latin1') as fich_lect, open('subvenciones.tsv', 'w', encoding='latin1') as fich_escr:\n",
    "    dict_lector = csv.DictReader(fich_lect)\n",
    "    campos = dict_lector.fieldnames\n",
    "    escritor = csv.DictWriter(fich_escr, delimiter='\\t', fieldnames=campos)\n",
    "    escritor.writeheader()\n",
    "    for linea in dict_lector:\n",
    "        escritor.writerow(linea)"
   ]
  },
  {
   "cell_type": "raw",
   "id": "5a2f96e4-9851-429a-acff-543c547a8966",
   "metadata": {},
   "source": [
    "Running the array."
   ]
  },
  {
   "cell_type": "code",
   "execution_count": 19,
   "id": "839eca8e-9376-4563-8c25-b262aceb6fcb",
   "metadata": {},
   "outputs": [
    {
     "name": "stdout",
     "output_type": "stream",
     "text": [
      "Asociación: AMPA ANTONIO MACHADO, Total_Subvenciones: 2344.99\n",
      "Asociación: AMPA BACHILLER ALONSO LOPEZ, Total_Subvenciones: 3200.0\n",
      "Asociación: AMPA CASTILLA, Total_Subvenciones: 2604.44\n",
      "Asociación: AMPA DAOIZ Y VELARDE, Total_Subvenciones: 3152.74\n",
      "Asociación: AMPA EMILIO CASADO, Total_Subvenciones: 3015.67\n",
      "Asociación: AMPA FEDERICO GARCIA LORCA, Total_Subvenciones: 1919.06\n",
      "Asociación: AMPA GABRIEL Y GALAN, Total_Subvenciones: 2741.51\n",
      "Asociación: AMPA LUIS BUÑUEL, Total_Subvenciones: 2081.0\n",
      "Asociación: AMPA MIGUEL HERNANDEZ, Total_Subvenciones: 2923.35\n",
      "Asociación: AMPA MIRAFLORES, Total_Subvenciones: 2787.21\n",
      "Asociación: AMPA PARQUE CATALUÑA, Total_Subvenciones: 2604.44\n",
      "Asociación: AMPA PROFESOR TIERNO GALVÁN, Total_Subvenciones: 1286.0\n",
      "Asociación: AMPA SEIS DE DICIEMBRE, Total_Subvenciones: 1950.0\n",
      "Asociación: AMPA VALDEPALITOS, Total_Subvenciones: 3929.5\n",
      "Asociación: AMPA LA CHOPERA, Total_Subvenciones: 1430.0\n",
      "Asociación: AMPA EL CUQUILLO, Total_Subvenciones: 1507.83\n",
      "Asociación: AMPA VALDELAPARRA, Total_Subvenciones: 2465.0\n",
      "Asociación: AMPA RIVENDEL, Total_Subvenciones: 2200.0\n",
      "Asociación: AMPA AGORA, Total_Subvenciones: 2421.67\n",
      "Asociación: AMPA ALDEBARAN, Total_Subvenciones: 3107.05\n",
      "Asociación: AMPA GINER DE LOS RIOS, Total_Subvenciones: 2058.0\n",
      "Asociación: AMPA SEVERO OCHOA, Total_Subvenciones: 3563.9700000000003\n",
      "Asociación: AMPA VIRGEN DE LA PAZ, Total_Subvenciones: 1416.45\n",
      "Asociación: AMPA JUAN XXIII, Total_Subvenciones: 1781.98\n",
      "Asociación: AMPA SAN ANTONIO, Total_Subvenciones: 2101.83\n",
      "Asociación: AMPA PADRE  MANYANET, Total_Subvenciones: 2695.82\n",
      "Asociación: AMPA FAPA, Total_Subvenciones: 3198.43\n"
     ]
    }
   ],
   "source": [
    "import csv\n",
    "with open('subvenciones.csv', encoding='latin1') as fich_lect, open('subvenciones.tsv', 'w', encoding='latin1') as fich_escr:\n",
    "    lector = csv.DictReader(fich_lect)\n",
    "    asociaciones = {}\n",
    "    escritor = csv.DictWriter(fich_escr, delimiter='\\t', fieldnames=campos)\n",
    "    escritor.writeheader()\n",
    "    for linea in lector:\n",
    "        centro = linea['Asociación']\n",
    "        subvencion = float(linea['Importe'])\n",
    "        if centro in asociaciones:\n",
    "            asociaciones[centro] = asociaciones[centro] + subvencion\n",
    "        else:\n",
    "            asociaciones[centro] = subvencion\n",
    "            \n",
    "for centro, total_subvenciones in asociaciones.items():\n",
    "    print(f'Asociación: {centro}, Total_Subvenciones: {asociaciones[centro]}')"
   ]
  },
  {
   "cell_type": "markdown",
   "id": "614c3d79-4050-4a1d-91b6-7ff449a5120e",
   "metadata": {},
   "source": [
    "## Pandas"
   ]
  },
  {
   "cell_type": "raw",
   "id": "66ecf156-e407-4831-a7d4-6faef3e8de68",
   "metadata": {},
   "source": [
    "Showing in Pandas"
   ]
  },
  {
   "cell_type": "code",
   "execution_count": 21,
   "id": "53a68bb1-a3cd-480f-872c-cc10c944f2d8",
   "metadata": {},
   "outputs": [
    {
     "name": "stdout",
     "output_type": "stream",
     "text": [
      "                     Asociación  Total_Subvenciones\n",
      "0                    AMPA AGORA             2421.67\n",
      "1                AMPA ALDEBARAN             3107.05\n",
      "2          AMPA ANTONIO MACHADO             2344.99\n",
      "3   AMPA BACHILLER ALONSO LOPEZ             3200.00\n",
      "4                 AMPA CASTILLA             2604.44\n",
      "5          AMPA DAOIZ Y VELARDE             3152.74\n",
      "6              AMPA EL CUQUILLO             1507.83\n",
      "7            AMPA EMILIO CASADO             3015.67\n",
      "8                     AMPA FAPA             3198.43\n",
      "9    AMPA FEDERICO GARCIA LORCA             1919.06\n",
      "10         AMPA GABRIEL Y GALAN             2741.51\n",
      "11       AMPA GINER DE LOS RIOS             2058.00\n",
      "12              AMPA JUAN XXIII             1781.98\n",
      "13              AMPA LA CHOPERA             1430.00\n",
      "14             AMPA LUIS BUÑUEL             2081.00\n",
      "15        AMPA MIGUEL HERNANDEZ             2923.35\n",
      "16              AMPA MIRAFLORES             2787.21\n",
      "17         AMPA PADRE  MANYANET             2695.82\n",
      "18         AMPA PARQUE CATALUÑA             2604.44\n",
      "19  AMPA PROFESOR TIERNO GALVÁN             1286.00\n",
      "20                AMPA RIVENDEL             2200.00\n",
      "21             AMPA SAN ANTONIO             2101.83\n",
      "22       AMPA SEIS DE DICIEMBRE             1950.00\n",
      "23            AMPA SEVERO OCHOA             3563.97\n",
      "24            AMPA VALDELAPARRA             2465.00\n",
      "25            AMPA VALDEPALITOS             3929.50\n",
      "26        AMPA VIRGEN DE LA PAZ             1416.45\n"
     ]
    }
   ],
   "source": [
    "import pandas as pd\n",
    "\n",
    "# Cargar el archivo CSV en un DataFrame\n",
    "df = pd.read_csv('subvenciones.csv', encoding='latin1')\n",
    "\n",
    "# Calcular la suma de subvenciones por asociación, reset_index reinicia el index cuando recorrió todos los \n",
    "# todas las líneas de la misma asociación\n",
    "asociaciones = df.groupby('Asociación')['Importe'].sum().reset_index()\n",
    "\n",
    "# Renombrar la columna de suma\n",
    "asociaciones.rename(columns={'Importe': 'Total_Subvenciones'}, inplace=True)\n",
    "\n",
    "# Imprimir en consola y escribir en un nuevo archivo TSV\n",
    "print(asociaciones)\n",
    "\n",
    "asociaciones.to_csv('subvenciones_pandas.tsv', sep='\\t', index=False)"
   ]
  },
  {
   "cell_type": "code",
   "execution_count": null,
   "id": "134bbabf-5089-443b-b837-cb79b170e251",
   "metadata": {},
   "outputs": [],
   "source": []
  }
 ],
 "metadata": {
  "kernelspec": {
   "display_name": "Python 3 (ipykernel)",
   "language": "python",
   "name": "python3"
  },
  "language_info": {
   "codemirror_mode": {
    "name": "ipython",
    "version": 3
   },
   "file_extension": ".py",
   "mimetype": "text/x-python",
   "name": "python",
   "nbconvert_exporter": "python",
   "pygments_lexer": "ipython3",
   "version": "3.11.6"
  }
 },
 "nbformat": 4,
 "nbformat_minor": 5
}
