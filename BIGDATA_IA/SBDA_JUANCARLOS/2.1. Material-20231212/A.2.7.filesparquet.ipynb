{
 "cells": [
  {
   "cell_type": "markdown",
   "id": "21cc87f3-8249-4293-8ef7-42052a344264",
   "metadata": {},
   "source": [
    "## Ficheros parquet"
   ]
  },
  {
   "cell_type": "markdown",
   "id": "0f028fbc-0b66-4df2-8182-2123675dd1f6",
   "metadata": {},
   "source": [
    "Supongamos que tenemos un fichero parquet. En nuestro ejemplo **iris.parquet**"
   ]
  },
  {
   "cell_type": "code",
   "execution_count": 4,
   "id": "e5416a0c-b268-495b-9b9e-8891380a6718",
   "metadata": {},
   "outputs": [
    {
     "name": "stdout",
     "output_type": "stream",
     "text": [
      "      id  sepal_length  sepal_width  petal_length  petal_width    species\n",
      "0      1           5.1          3.5           1.4          0.2     setosa\n",
      "1      2           4.9          3.0           1.4          0.2     setosa\n",
      "2      3           4.7          3.2           1.3          0.2     setosa\n",
      "3      4           4.6          3.1           1.5          0.2     setosa\n",
      "4      5           5.0          3.6           1.4          0.2     setosa\n",
      "..   ...           ...          ...           ...          ...        ...\n",
      "145  146           6.7          3.0           5.2          2.3  virginica\n",
      "146  147           6.3          2.5           5.0          1.9  virginica\n",
      "147  148           6.5          3.0           5.2          2.0  virginica\n",
      "148  149           6.2          3.4           5.4          2.3  virginica\n",
      "149  150           5.9          3.0           5.1          1.8  virginica\n",
      "\n",
      "[150 rows x 6 columns]\n"
     ]
    }
   ],
   "source": [
    "import pandas as pd\n",
    "import pyarrow.parquet as pq\n",
    "df_read = pd.read_parquet('iris.parquet')\n",
    "print(df_read)"
   ]
  },
  {
   "cell_type": "markdown",
   "id": "fee46d17-4fb8-4946-bdb0-b94e64978bbe",
   "metadata": {},
   "source": [
    "Ahora vamos aobtener datos del fichero parquet"
   ]
  },
  {
   "cell_type": "code",
   "execution_count": 7,
   "id": "cf5c1b62-04d1-4191-94ae-943a240b5d83",
   "metadata": {},
   "outputs": [
    {
     "name": "stdout",
     "output_type": "stream",
     "text": [
      "<pyarrow._parquet.FileMetaData object at 0x7f5280cfebb0>\n",
      "  created_by: parquet-cpp version 1.5.1-SNAPSHOT\n",
      "  num_columns: 6\n",
      "  num_rows: 150\n",
      "  num_row_groups: 1\n",
      "  format_version: 1.0\n",
      "  serialized_size: 3316\n"
     ]
    }
   ],
   "source": [
    "import pandas as pd\n",
    "import pyarrow.parquet as pq\n",
    "parquet_file = pq.ParquetFile('iris.parquet')\n",
    "print(parquet_file.metadata)"
   ]
  },
  {
   "cell_type": "code",
   "execution_count": 17,
   "id": "890a2665-6093-43df-b07c-482704ca813f",
   "metadata": {},
   "outputs": [
    {
     "name": "stdout",
     "output_type": "stream",
     "text": [
      "      id  sepal_length  sepal_width  petal_length  petal_width    species\n",
      "102  103           7.1          3.0           5.9          2.1  virginica\n",
      "105  106           7.6          3.0           6.6          2.1  virginica\n",
      "107  108           7.3          2.9           6.3          1.8  virginica\n",
      "109  110           7.2          3.6           6.1          2.5  virginica\n",
      "117  118           7.7          3.8           6.7          2.2  virginica\n",
      "118  119           7.7          2.6           6.9          2.3  virginica\n",
      "122  123           7.7          2.8           6.7          2.0  virginica\n",
      "125  126           7.2          3.2           6.0          1.8  virginica\n",
      "129  130           7.2          3.0           5.8          1.6  virginica\n",
      "130  131           7.4          2.8           6.1          1.9  virginica\n",
      "131  132           7.9          3.8           6.4          2.0  virginica\n",
      "135  136           7.7          3.0           6.1          2.3  virginica\n"
     ]
    }
   ],
   "source": [
    "import pandas as pd\n",
    "import pyarrow.parquet as pq\n",
    "df_read = pd.read_parquet('iris.parquet')\n",
    "filtered_df = df_read[df_read['sepal_length'] > 7]\n",
    "print(filtered_df)"
   ]
  },
  {
   "cell_type": "code",
   "execution_count": null,
   "id": "22467d3d-b5ad-4b31-bb16-5bba1b83e9d9",
   "metadata": {},
   "outputs": [],
   "source": []
  },
  {
   "cell_type": "code",
   "execution_count": null,
   "id": "ccb27045-9111-42c4-a541-ba7701004496",
   "metadata": {},
   "outputs": [],
   "source": []
  }
 ],
 "metadata": {
  "kernelspec": {
   "display_name": "Python 3 (ipykernel)",
   "language": "python",
   "name": "python3"
  },
  "language_info": {
   "codemirror_mode": {
    "name": "ipython",
    "version": 3
   },
   "file_extension": ".py",
   "mimetype": "text/x-python",
   "name": "python",
   "nbconvert_exporter": "python",
   "pygments_lexer": "ipython3",
   "version": "3.11.6"
  }
 },
 "nbformat": 4,
 "nbformat_minor": 5
}
