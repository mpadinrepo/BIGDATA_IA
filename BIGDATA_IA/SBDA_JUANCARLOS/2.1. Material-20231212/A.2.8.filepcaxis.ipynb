{
 "cells": [
  {
   "cell_type": "code",
   "execution_count": 5,
   "id": "301f8520-f8e6-4d1e-b3af-4d5ffb4a848b",
   "metadata": {},
   "outputs": [
    {
     "name": "stdout",
     "output_type": "stream",
     "text": [
      "     Comunidades y Ciudades Autónomas  \\\n",
      "0                            Nacional   \n",
      "1                            Nacional   \n",
      "2                            Nacional   \n",
      "3                            Nacional   \n",
      "4                            Nacional   \n",
      "...                               ...   \n",
      "9595                       19 Melilla   \n",
      "9596                       19 Melilla   \n",
      "9597                       19 Melilla   \n",
      "9598                       19 Melilla   \n",
      "9599                       19 Melilla   \n",
      "\n",
      "     General, vivienda nueva y de segunda mano                Índices y tasas  \\\n",
      "0                                      General                         Índice   \n",
      "1                                      General                         Índice   \n",
      "2                                      General                         Índice   \n",
      "3                                      General                         Índice   \n",
      "4                                      General                         Índice   \n",
      "...                                        ...                            ...   \n",
      "9595                     Vivienda segunda mano  Variación en lo que va de ańo   \n",
      "9596                     Vivienda segunda mano  Variación en lo que va de ańo   \n",
      "9597                     Vivienda segunda mano  Variación en lo que va de ańo   \n",
      "9598                     Vivienda segunda mano  Variación en lo que va de ańo   \n",
      "9599                     Vivienda segunda mano  Variación en lo que va de ańo   \n",
      "\n",
      "     Periodo    DATA  \n",
      "0     2016T4  70.755  \n",
      "1     2016T3  70.476  \n",
      "2     2016T2  69.921  \n",
      "3     2016T1    68.7  \n",
      "4     2015T4  67.717  \n",
      "...      ...     ...  \n",
      "9595  2008T1     NaN  \n",
      "9596  2007T4     NaN  \n",
      "9597  2007T3     NaN  \n",
      "9598  2007T2     NaN  \n",
      "9599  2007T1     NaN  \n",
      "\n",
      "[9600 rows x 5 columns]\n"
     ]
    }
   ],
   "source": [
    "from pyaxis import pyaxis\n",
    "\n",
    "EXAMPLE_URL = 'http://www.ine.es/jaxiT3/files/t/es/px/2184.px'\n",
    "\n",
    "px = pyaxis.parse(EXAMPLE_URL, encoding='ISO-8859-2')\n",
    "print(px['DATA'])\n"
   ]
  },
  {
   "cell_type": "code",
   "execution_count": null,
   "id": "5dc4f9ee-37ae-4357-80e2-7435ce0bbb00",
   "metadata": {},
   "outputs": [],
   "source": []
  }
 ],
 "metadata": {
  "kernelspec": {
   "display_name": "Python 3 (ipykernel)",
   "language": "python",
   "name": "python3"
  },
  "language_info": {
   "codemirror_mode": {
    "name": "ipython",
    "version": 3
   },
   "file_extension": ".py",
   "mimetype": "text/x-python",
   "name": "python",
   "nbconvert_exporter": "python",
   "pygments_lexer": "ipython3",
   "version": "3.11.6"
  }
 },
 "nbformat": 4,
 "nbformat_minor": 5
}
