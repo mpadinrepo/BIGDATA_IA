{
 "cells": [
  {
   "cell_type": "markdown",
   "id": "e0f52b13-eb3e-4daa-8777-ee2258665797",
   "metadata": {
    "tags": []
   },
   "source": [
    "# Creamos 1 millón de documentos en colección llamada rendimiento"
   ]
  },
  {
   "cell_type": "code",
   "execution_count": 19,
   "id": "8d2af801-5b97-47a9-a176-9a6306d704fc",
   "metadata": {},
   "outputs": [],
   "source": [
    "#Conexión a la bbdd y selección de colección\n",
    "from pymongo import MongoClient\n",
    "# ojo con la IP del servidor de base de datos. Comprobar en el servicio docker mongodb\n",
    "cliente = MongoClient('172.18.0.5', 27017, \n",
    "                      username='admin', password='abc123...', authSource='admin'\n",
    "                     )\n",
    "\n",
    "bbdd = cliente.pruebas\n",
    "coleccion = bbdd.rendimiento"
   ]
  },
  {
   "cell_type": "code",
   "execution_count": 20,
   "id": "07186db6-aab1-41bd-993a-90a25f9246d8",
   "metadata": {},
   "outputs": [],
   "source": [
    "#Este bloque genera 1MM de documentos y los inserta en la bbdd\n",
    "from random import seed\n",
    "from random import random\n",
    "# seed random number generator\n",
    "seed(1)\n",
    "\n",
    "for i in range(1000000):\n",
    "    coleccion.insert_one({'IDCliente': i, 'Número': random()*100})"
   ]
  },
  {
   "cell_type": "code",
   "execution_count": 22,
   "id": "eb9a5142-ab81-47a5-9a38-360e47f2c9ec",
   "metadata": {},
   "outputs": [
    {
     "data": {
      "text/plain": [
       "{'_id_': {'v': 2, 'key': [('_id', 1)]}}"
      ]
     },
     "execution_count": 22,
     "metadata": {},
     "output_type": "execute_result"
    }
   ],
   "source": [
    "#Comprobamos los índices actuales\n",
    "coleccion.index_information()"
   ]
  },
  {
   "cell_type": "markdown",
   "id": "7c3d0db9-b061-4def-b6d9-1ffee799b3d5",
   "metadata": {
    "tags": []
   },
   "source": [
    "# Comprobamos tiempos sin índice"
   ]
  },
  {
   "cell_type": "code",
   "execution_count": 23,
   "id": "19cc8dfe-b86f-46b8-910f-9c2f3eb8f67f",
   "metadata": {},
   "outputs": [
    {
     "name": "stdout",
     "output_type": "stream",
     "text": [
      "{'_id': ObjectId('66110ee170d17b930fc3f104'), 'IDCliente': 136437, 'Número': 3.00030810359605}\n",
      "{'_id': ObjectId('66110f0470d17b930fc55f06'), 'IDCliente': 230135, 'Número': 3.000583044638483}\n",
      "{'_id': ObjectId('66110f5a70d17b930fc8caa4'), 'IDCliente': 454293, 'Número': 3.0000430638567166}\n",
      "{'_id': ObjectId('66110ff070d17b930fce9ed7'), 'IDCliente': 836296, 'Número': 3.000978718120062}\n",
      "{'_id': ObjectId('6611101370d17b930fd005db'), 'IDCliente': 928204, 'Número': 3.000602301747324}\n",
      "{'_id': ObjectId('6611102f70d17b930fd11e34'), 'IDCliente': 999973, 'Número': 3.000563002967005}\n",
      "{'_id': ObjectId('661110c770d17b930fd33345'), 'IDCliente': 136437, 'Número': 3.00030810359605}\n",
      "{'_id': ObjectId('661110e970d17b930fd4a147'), 'IDCliente': 230135, 'Número': 3.000583044638483}\n",
      "{'_id': ObjectId('6611114170d17b930fd80ce5'), 'IDCliente': 454293, 'Número': 3.0000430638567166}\n",
      "{'_id': ObjectId('661111d970d17b930fdde118'), 'IDCliente': 836296, 'Número': 3.000978718120062}\n",
      "{'_id': ObjectId('661111fc70d17b930fdf481c'), 'IDCliente': 928204, 'Número': 3.000602301747324}\n",
      "{'_id': ObjectId('6611121870d17b930fe06075'), 'IDCliente': 999973, 'Número': 3.000563002967005}\n",
      "CPU times: user 6.44 ms, sys: 0 ns, total: 6.44 ms\n",
      "Wall time: 1.63 s\n"
     ]
    }
   ],
   "source": [
    "%%time\n",
    "#Comprobamos tiempo para recuperar un rango de valores\n",
    "documentos = coleccion.find({ 'Número': { '$gt': 3, '$lt': 3.001 } })\n",
    "for documento in documentos:\n",
    "    print(documento)"
   ]
  },
  {
   "cell_type": "code",
   "execution_count": 24,
   "id": "96897409-ad20-4c55-9797-210f2af4b2ae",
   "metadata": {},
   "outputs": [
    {
     "name": "stdout",
     "output_type": "stream",
     "text": [
      "{'_id': ObjectId('66110ffa70d17b930fcf0768'), 'IDCliente': 863065, 'Número': 9.790970423306788e-05}\n",
      "CPU times: user 6.7 ms, sys: 354 µs, total: 7.05 ms\n",
      "Wall time: 1.53 s\n"
     ]
    }
   ],
   "source": [
    "%%time\n",
    "#Medimos el tiempo para obtener el documento con el valor mínimp\n",
    "documentos = coleccion.find().sort('Número',1).limit(1)\n",
    "for documento in documentos:\n",
    "    print(documento)"
   ]
  },
  {
   "cell_type": "markdown",
   "id": "ca081702-4324-45c8-ac62-a49fbb826f82",
   "metadata": {
    "tags": []
   },
   "source": [
    "# Tiempos tras creación de índice por campo Número"
   ]
  },
  {
   "cell_type": "code",
   "execution_count": 25,
   "id": "164c110b-a79e-4d1d-a4fe-c1c73c3da446",
   "metadata": {},
   "outputs": [
    {
     "data": {
      "text/plain": [
       "{'_id_': {'v': 2, 'key': [('_id', 1)]}}"
      ]
     },
     "execution_count": 25,
     "metadata": {},
     "output_type": "execute_result"
    }
   ],
   "source": [
    "#Comprobamos los índices existentes ahora\n",
    "coleccion.index_information()"
   ]
  },
  {
   "cell_type": "code",
   "execution_count": 26,
   "id": "1af159fb-3be3-4c56-b278-117dad9a0158",
   "metadata": {},
   "outputs": [
    {
     "name": "stdout",
     "output_type": "stream",
     "text": [
      "{'_id': ObjectId('66110ee170d17b930fc3f104'), 'IDCliente': 136437, 'Número': 3.00030810359605}\n",
      "{'_id': ObjectId('66110f0470d17b930fc55f06'), 'IDCliente': 230135, 'Número': 3.000583044638483}\n",
      "{'_id': ObjectId('66110f5a70d17b930fc8caa4'), 'IDCliente': 454293, 'Número': 3.0000430638567166}\n",
      "{'_id': ObjectId('66110ff070d17b930fce9ed7'), 'IDCliente': 836296, 'Número': 3.000978718120062}\n",
      "{'_id': ObjectId('6611101370d17b930fd005db'), 'IDCliente': 928204, 'Número': 3.000602301747324}\n",
      "{'_id': ObjectId('6611102f70d17b930fd11e34'), 'IDCliente': 999973, 'Número': 3.000563002967005}\n",
      "{'_id': ObjectId('661110c770d17b930fd33345'), 'IDCliente': 136437, 'Número': 3.00030810359605}\n",
      "{'_id': ObjectId('661110e970d17b930fd4a147'), 'IDCliente': 230135, 'Número': 3.000583044638483}\n",
      "{'_id': ObjectId('6611114170d17b930fd80ce5'), 'IDCliente': 454293, 'Número': 3.0000430638567166}\n",
      "{'_id': ObjectId('661111d970d17b930fdde118'), 'IDCliente': 836296, 'Número': 3.000978718120062}\n",
      "{'_id': ObjectId('661111fc70d17b930fdf481c'), 'IDCliente': 928204, 'Número': 3.000602301747324}\n",
      "{'_id': ObjectId('6611121870d17b930fe06075'), 'IDCliente': 999973, 'Número': 3.000563002967005}\n",
      "CPU times: user 5.94 ms, sys: 0 ns, total: 5.94 ms\n",
      "Wall time: 1.62 s\n"
     ]
    }
   ],
   "source": [
    "%%time\n",
    "#Comprobamos tiempo para recuperar un rango de valores\n",
    "documentos = coleccion.find({ 'Número': { '$gt': 3, '$lt': 3.001 } })\n",
    "for documento in documentos:\n",
    "    print(documento)"
   ]
  },
  {
   "cell_type": "code",
   "execution_count": 27,
   "id": "041d5c44-80db-4517-b644-23600789e283",
   "metadata": {},
   "outputs": [
    {
     "name": "stdout",
     "output_type": "stream",
     "text": [
      "{'_id': ObjectId('66110ffa70d17b930fcf0768'), 'IDCliente': 863065, 'Número': 9.790970423306788e-05}\n",
      "CPU times: user 5.27 ms, sys: 0 ns, total: 5.27 ms\n",
      "Wall time: 1.55 s\n"
     ]
    }
   ],
   "source": [
    "%%time\n",
    "#Medimos el tiempo para obtener el documento con el valor mínimp\n",
    "documentos = coleccion.find().sort('Número',1).limit(1)\n",
    "for documento in documentos:\n",
    "    print(documento)"
   ]
  },
  {
   "cell_type": "markdown",
   "id": "bbe9a06d-2a2a-4ba0-bf95-c200f9b9a624",
   "metadata": {
    "tags": []
   },
   "source": [
    "# Análisis de planes de ejecución\n",
    "En el aula lo hacemos utilizando  la consola de Mongo, pero se indican aquí los comandos equivalentes."
   ]
  },
  {
   "cell_type": "code",
   "execution_count": null,
   "id": "19fd81cc-aa5c-41b0-9ff3-bdd5875bde05",
   "metadata": {},
   "outputs": [],
   "source": [
    "# Eliminamos el índice\n",
    "coleccion.drop_index('Número_1')"
   ]
  },
  {
   "cell_type": "code",
   "execution_count": 18,
   "id": "0cae13a1-70aa-4f90-bc3d-018ab6a2febd",
   "metadata": {},
   "outputs": [
    {
     "data": {
      "text/plain": [
       "{'explainVersion': '1',\n",
       " 'queryPlanner': {'namespace': 'pruebas.rendimiento',\n",
       "  'indexFilterSet': False,\n",
       "  'parsedQuery': {'$and': [{'Número': {'$lt': 3.001}},\n",
       "    {'Número': {'$gt': 3}}]},\n",
       "  'queryHash': '04047020',\n",
       "  'planCacheKey': '04047020',\n",
       "  'maxIndexedOrSolutionsReached': False,\n",
       "  'maxIndexedAndSolutionsReached': False,\n",
       "  'maxScansToExplodeReached': False,\n",
       "  'winningPlan': {'stage': 'COLLSCAN',\n",
       "   'filter': {'$and': [{'Número': {'$lt': 3.001}}, {'Número': {'$gt': 3}}]},\n",
       "   'direction': 'forward'},\n",
       "  'rejectedPlans': []},\n",
       " 'executionStats': {'executionSuccess': True,\n",
       "  'nReturned': 6,\n",
       "  'executionTimeMillis': 763,\n",
       "  'totalKeysExamined': 0,\n",
       "  'totalDocsExamined': 1000000,\n",
       "  'executionStages': {'stage': 'COLLSCAN',\n",
       "   'filter': {'$and': [{'Número': {'$lt': 3.001}}, {'Número': {'$gt': 3}}]},\n",
       "   'nReturned': 6,\n",
       "   'executionTimeMillisEstimate': 74,\n",
       "   'works': 1000001,\n",
       "   'advanced': 6,\n",
       "   'needTime': 999994,\n",
       "   'needYield': 0,\n",
       "   'saveState': 1000,\n",
       "   'restoreState': 1000,\n",
       "   'isEOF': 1,\n",
       "   'direction': 'forward',\n",
       "   'docsExamined': 1000000},\n",
       "  'allPlansExecution': []},\n",
       " 'command': {'find': 'rendimiento',\n",
       "  'filter': {'Número': {'$gt': 3, '$lt': 3.001}},\n",
       "  '$db': 'pruebas'},\n",
       " 'serverInfo': {'host': '42d72f3e74d2',\n",
       "  'port': 27017,\n",
       "  'version': '7.0.6',\n",
       "  'gitVersion': '66cdc1f28172cb33ff68263050d73d4ade73b9a4'},\n",
       " 'serverParameters': {'internalQueryFacetBufferSizeBytes': 104857600,\n",
       "  'internalQueryFacetMaxOutputDocSizeBytes': 104857600,\n",
       "  'internalLookupStageIntermediateDocumentMaxSizeBytes': 104857600,\n",
       "  'internalDocumentSourceGroupMaxMemoryBytes': 104857600,\n",
       "  'internalQueryMaxBlockingSortMemoryUsageBytes': 104857600,\n",
       "  'internalQueryProhibitBlockingMergeOnMongoS': 0,\n",
       "  'internalQueryMaxAddToSetBytes': 104857600,\n",
       "  'internalDocumentSourceSetWindowFieldsMaxMemoryBytes': 104857600,\n",
       "  'internalQueryFrameworkControl': 'trySbeRestricted'},\n",
       " 'ok': 1.0}"
      ]
     },
     "execution_count": 18,
     "metadata": {},
     "output_type": "execute_result"
    }
   ],
   "source": [
    "#Obtenemos el plan de ejecución\n",
    "coleccion.find({ 'Número': { '$gt': 3, '$lt': 3.001 } }).explain()"
   ]
  },
  {
   "cell_type": "code",
   "execution_count": null,
   "id": "1dbd7f75-217d-4c00-a5c3-17b1d45f7e70",
   "metadata": {},
   "outputs": [],
   "source": [
    "#Volvemos a crear el índice\n",
    "coleccion.create_index([('Número', 1)])"
   ]
  },
  {
   "cell_type": "code",
   "execution_count": null,
   "id": "88372252-addf-456c-b673-265312b278b8",
   "metadata": {},
   "outputs": [],
   "source": [
    "#Vemos ahora cómo ha cambiado el plan\n",
    "coleccion.find({ 'Número': { '$gt': 3, '$lt': 3.001 } }).explain()"
   ]
  },
  {
   "cell_type": "markdown",
   "id": "29c7bb32-056b-4210-a534-a71d8934aaaf",
   "metadata": {
    "tags": []
   },
   "source": [
    "# Trabajando con Replica-sets"
   ]
  },
  {
   "cell_type": "code",
   "execution_count": null,
   "id": "e5ea88d2-4313-4749-a7f9-399d20a77c1d",
   "metadata": {},
   "outputs": [],
   "source": [
    "from pymongo import MongoClient\n",
    "\n",
    "#Conexión a la bbdd\n",
    "cliente = MongoClient('172.18.0.5', 27017, \n",
    "                      username='root', password='abc123', authSource='admin',\n",
    "                      replicaset='miReplica',\n",
    "                      readPreference='secondaryPreferred'\n",
    "                     )\n"
   ]
  },
  {
   "cell_type": "code",
   "execution_count": null,
   "id": "270050b8-d2a8-4095-9bce-55741b713a94",
   "metadata": {},
   "outputs": [],
   "source": [
    "#Comprobamos que ha descubierto automáticamente el resto de nodos\n",
    "print(cliente.nodes)"
   ]
  },
  {
   "cell_type": "code",
   "execution_count": null,
   "id": "2659f10b-37ab-4fbe-9dfe-dac1f9d54935",
   "metadata": {},
   "outputs": [],
   "source": [
    "#Hacemos una consulta\n",
    "bbdd = cliente.tienda\n",
    "coleccion = bbdd.pedidos\n",
    "print(coleccion.find_one())"
   ]
  },
  {
   "cell_type": "code",
   "execution_count": null,
   "id": "a8df22d1-85d8-4260-a631-90ff151b8481",
   "metadata": {},
   "outputs": [],
   "source": [
    "#Una vez parado el primario, comprobamos los nodos reconocidos\n",
    "#Comprobamos que ha descubierto automáticamente el resto de nodos\n",
    "print(cliente.nodes)"
   ]
  },
  {
   "cell_type": "code",
   "execution_count": null,
   "id": "1bd91647-dab7-4c44-a6e2-bbcc05065067",
   "metadata": {},
   "outputs": [],
   "source": [
    "#Repetimos la consulta para verificar que podemos seguir trabajando\n",
    "print(coleccion.find_one())"
   ]
  },
  {
   "cell_type": "code",
   "execution_count": null,
   "id": "23facd4c-2c35-40ab-b3c0-8425e7d142b0",
   "metadata": {},
   "outputs": [],
   "source": [
    "#Y hacemos una inserción para comprobar que hay un nuevo primario\n",
    "# (si no hubiese primario no podrías modificar)\n",
    "resultado = coleccion.insert_one({'IDCliente': 34, 'test': 1})\n",
    "print(resultado.inserted_id)"
   ]
  },
  {
   "cell_type": "markdown",
   "id": "8ececcb9-98cf-4ac3-b7f9-fc70ca22f59d",
   "metadata": {
    "tags": []
   },
   "source": [
    "# Sharding"
   ]
  },
  {
   "cell_type": "markdown",
   "id": "70b2584b-5fcb-4f5c-a795-f2b0431fb4f4",
   "metadata": {
    "tags": []
   },
   "source": [
    "## Conexión a mongos"
   ]
  },
  {
   "cell_type": "code",
   "execution_count": null,
   "id": "6e47cd3d-d1ea-43d3-b8c7-4bbc7377e22c",
   "metadata": {},
   "outputs": [],
   "source": [
    "from pymongo import MongoClient\n",
    "\n",
    "#Utiliza la IP de tu anfitrión\n",
    "cliente = MongoClient('mongos', 27017)\n",
    "\n",
    "#Creamos la instancia para interactuar con la colección de clientes y pedidos\n",
    "bbdd = cliente.tienda\n",
    "coleccion_clientes = bbdd.clientes\n",
    "coleccion_pedidos = bbdd.pedidos"
   ]
  },
  {
   "cell_type": "markdown",
   "id": "548c99f5-0a9a-44ef-84b7-474e45f96393",
   "metadata": {
    "tags": []
   },
   "source": [
    "## Inserción de datos de clientes y de pedidos"
   ]
  },
  {
   "cell_type": "code",
   "execution_count": null,
   "id": "b69362da-4ab9-411a-ada0-7d1a1288f5b5",
   "metadata": {},
   "outputs": [],
   "source": [
    "#Inserción de documentos de clientes\n",
    "documentos_clientes = [\n",
    "    {'IDCliente': 1, 'Nombre': \"Juan\", 'Apellidos': \"Fernández\"},\n",
    "    {'IDCliente': 2, 'Nombre': \"María\", 'Apellidos': \"Fernández\"},\n",
    "    {'IDCliente': 3, 'Nombre': \"Carolina\", 'Apellidos': \"Pérez\"}\n",
    "]\n",
    "\n",
    "resultado = coleccion_clientes.insert_many(documentos_clientes)\n",
    "print(\"Se han insertado\",len(resultado.inserted_ids),\"clientes\")"
   ]
  },
  {
   "cell_type": "code",
   "execution_count": null,
   "id": "bea62849-04f7-4fc1-b4c2-3677ba5f37ab",
   "metadata": {},
   "outputs": [],
   "source": [
    "#Inserción de documentos de pedidos\n",
    "documentos_pedidos = [\n",
    "    {'IDPedido': 1, 'IDCliente': 1, 'Importe': 3.24, 'Ciudad': \"Vigo\"},\n",
    "    {'IDPedido': 2, 'IDCliente': 1, 'Importe': 8.01, 'Ciudad': \"Pontevedra\"},\n",
    "    {'IDPedido': 3, 'IDCliente': 3, 'Importe': 28.12, 'Ciudad': \"A Coruña\"},\n",
    "    {'IDPedido': 4, 'IDCliente': 1, 'Importe': 56.78, 'Ciudad': \"Vigo\"},\n",
    "    {'IDPedido': 5, 'IDCliente': 2, 'Importe': 0.12, 'Ciudad': \"Madrid\"},\n",
    "    {'IDPedido': 6, 'IDCliente': 3, 'Importe': 99.45, 'Ciudad': \"Barcelona\"},\n",
    "    {'IDPedido': 7, 'IDCliente': 3, 'Importe': 2.1, 'Ciudad': \"Valencia\"},\n",
    "    {'IDPedido': 8, 'IDCliente': 1, 'Importe': 9, 'Ciudad': \"Ourense\"},\n",
    "    {'IDPedido': 9, 'IDCliente': 1, 'Importe': 32.56, 'Ciudad': \"Lugo\"},\n",
    "    {'IDPedido': 10, 'IDCliente': 3, 'Importe': 5.45, 'Ciudad': \"Santiago\"},\n",
    "]\n",
    "\n",
    "resultado = coleccion_pedidos.insert_many(documentos_pedidos)\n",
    "print(\"Se han insertado\",len(resultado.inserted_ids),\"pedidos\")"
   ]
  },
  {
   "cell_type": "markdown",
   "id": "14b14e0c-8d75-43fd-ae6c-cffea1798194",
   "metadata": {
    "tags": []
   },
   "source": [
    "## Comprobación de datos insertados"
   ]
  },
  {
   "cell_type": "code",
   "execution_count": null,
   "id": "3abed7d2-29ba-4166-9093-c9cb69cf9310",
   "metadata": {},
   "outputs": [],
   "source": [
    "#Número de documentos en colección clientes\n",
    "num_clientes = coleccion_clientes.count_documents({})\n",
    "print(\"Hay\",num_clientes,\"clientes\")\n",
    "\n",
    "#Número de documentos en colección pedidos\n",
    "num_pedidos = coleccion_pedidos.count_documents({})\n",
    "print(\"Hay\",num_pedidos,\"pedidos\")"
   ]
  },
  {
   "cell_type": "markdown",
   "id": "48798de0-55ab-4ee7-921b-2d4e686b0193",
   "metadata": {
    "tags": []
   },
   "source": [
    "## Conexión a mongoshard1 y cuenta de documentos"
   ]
  },
  {
   "cell_type": "code",
   "execution_count": null,
   "id": "a85fd19b-22c0-4ca8-9a8b-8ab749944eaf",
   "metadata": {},
   "outputs": [],
   "source": [
    "from pymongo import MongoClient\n",
    "\n",
    "#Como JupyterLab y los nodos de Mongo están conectados a través de la red interna\n",
    "# establecemos la conexión a travñes de dicha red. Todos escuchan en esa red en el puerto 27017.\n",
    "# Si te quisieses conectar a través del anfitrión, debes hacerlo al puerto mapeado, en esta caso\n",
    "# al 27019\n",
    "cliente = MongoClient('mongoshard1', 27017)\n",
    "\n",
    "#Creamos la instancia para interactuar con la colección de clientes y pedidos\n",
    "bbdd = cliente.tienda\n",
    "coleccion_clientes = bbdd.clientes\n",
    "coleccion_pedidos = bbdd.pedidos\n",
    "\n",
    "#Número de documentos en colección clientes\n",
    "num_clientes = coleccion_clientes.count_documents({})\n",
    "print(\"Hay\",num_clientes,\"clientes\")\n",
    "\n",
    "#Número de documentos en colección pedidos\n",
    "num_pedidos = coleccion_pedidos.count_documents({})\n",
    "print(\"Hay\",num_pedidos,\"pedidos\")"
   ]
  },
  {
   "cell_type": "markdown",
   "id": "b843f037-25d8-4bae-99b3-0e95e5a2e713",
   "metadata": {
    "tags": []
   },
   "source": [
    "## Conexión a mongoshard2 y cuenta de documentos"
   ]
  },
  {
   "cell_type": "code",
   "execution_count": null,
   "id": "389d0c8f-828e-41ea-9e00-2847875a797b",
   "metadata": {},
   "outputs": [],
   "source": [
    "from pymongo import MongoClient\n",
    "\n",
    "#Como JupyterLab y los nodos de Mongo están conectados a través de la red interna\n",
    "# establecemos la conexión a travñes de dicha red. Todos escuchan en esa red en el puerto 27017.\n",
    "# Si te quisieses conectar a través del anfitrión, debes hacerlo al puerto mapeado, en esta caso\n",
    "# al 27020\n",
    "cliente = MongoClient('mongoshard2', 27017)\n",
    "\n",
    "#Creamos la instancia para interactuar con la colección de clientes y pedidos\n",
    "bbdd = cliente.tienda\n",
    "coleccion_clientes = bbdd.clientes\n",
    "coleccion_pedidos = bbdd.pedidos\n",
    "\n",
    "#Número de documentos en colección clientes\n",
    "num_clientes = coleccion_clientes.count_documents({})\n",
    "print(\"Hay\",num_clientes,\"clientes\")\n",
    "\n",
    "#Número de documentos en colección pedidos\n",
    "num_pedidos = coleccion_pedidos.count_documents({})\n",
    "print(\"Hay\",num_pedidos,\"pedidos\")"
   ]
  }
 ],
 "metadata": {
  "kernelspec": {
   "display_name": "Python 3 (ipykernel)",
   "language": "python",
   "name": "python3"
  },
  "language_info": {
   "codemirror_mode": {
    "name": "ipython",
    "version": 3
   },
   "file_extension": ".py",
   "mimetype": "text/x-python",
   "name": "python",
   "nbconvert_exporter": "python",
   "pygments_lexer": "ipython3",
   "version": "3.11.6"
  }
 },
 "nbformat": 4,
 "nbformat_minor": 5
}
