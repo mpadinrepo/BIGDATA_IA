{
 "cells": [
  {
   "cell_type": "markdown",
   "id": "696638b4-f189-4ae2-92eb-6b2f54cea64a",
   "metadata": {},
   "source": [
    "# Tarea 1 Comprobaciones previas (0,5 puntos)\n",
    " Muestra el número de documentos que se almacenan en la colección pedidos"
   ]
  },
  {
   "cell_type": "code",
   "execution_count": 13,
   "id": "23dc64d5-8b0c-452a-98e6-e3b5ab473322",
   "metadata": {},
   "outputs": [
    {
     "name": "stdout",
     "output_type": "stream",
     "text": [
      "Conexión exitosa a MongoDB\n",
      "Error al conectarse a MongoDB\n"
     ]
    }
   ],
   "source": [
    "import pymongo\n",
    "\n",
    "# Establecer la cadena de conexión\n",
    "conexion = \"mongodb://127.0.0.1:27017\"\n",
    "\n",
    "# Intentar conectarse a MongoDB\n",
    "try:\n",
    "    cliente = pymongo.MongoClient(conexion)\n",
    "    print(\"Conexión exitosa a MongoDB\")\n",
    "    # Seleccionar la base de datos\n",
    "    db = cliente[\"supermercado\"]\n",
    "    # Contar el número de documentos en la colección 'pedidos'\n",
    "    num_documentos = db[\"pedidos\"].count_documents({})\n",
    "    print(\"Número de documentos en la colección 'pedidos':\", num_documentos)\n",
    "except pymongo.errors.ConnectionFailure:\n",
    "    print(\"Error al conectarse a MongoDB\")"
   ]
  },
  {
   "cell_type": "markdown",
   "id": "7d398a40-2165-4eeb-b107-80272f05f257",
   "metadata": {},
   "source": [
    "# Tarea 2 Inserciones de registros (0,5 puntos)"
   ]
  },
  {
   "cell_type": "markdown",
   "id": "194e45f4-4739-4255-82ef-0f0421e6c7e4",
   "metadata": {},
   "source": [
    "### Inserta tres documentos en la colección utilizando un único comando:\r\n",
    "\r\n",
    "- El primero tendrá como ID_Pedido el 79159 e Importe total 3.45\r\n",
    "- El segundo tendrá el mismo ID_Pedido (79159), Importe total de 0.23 y Número de items 5.\r\n",
    "- El tercero tendrá el mismo ID_Pedido (79159) y Número de items 8.\r\n",
    "\r\n",
    "(Verifica que se han insertado los tres documentos)"
   ]
  },
  {
   "cell_type": "code",
   "execution_count": 2,
   "id": "bde378c1-a2e4-4bfd-8e41-c3714a8c0fc3",
   "metadata": {},
   "outputs": [
    {
     "name": "stdout",
     "output_type": "stream",
     "text": [
      "ID del documento insertado: 65e84e2a4911bdfab30a27a8\n"
     ]
    }
   ],
   "source": [
    "# Insertar el primer documento\n",
    "documento_1 = {\n",
    "    \"ID_Pedido\": 79159,\n",
    "    \"Importe_total\": 3.45\n",
    "}\n",
    "\n",
    "resultado = db[\"pedidos\"].insert_one(documento_1)\n",
    "print(\"ID del documento insertado:\", resultado.inserted_id)\n"
   ]
  },
  {
   "cell_type": "code",
   "execution_count": 3,
   "id": "388b42bb-b7a6-4549-90aa-d9530379e0cc",
   "metadata": {},
   "outputs": [
    {
     "name": "stdout",
     "output_type": "stream",
     "text": [
      "ID del segundo documento insertado: 65e84e2a4911bdfab30a27a9\n"
     ]
    }
   ],
   "source": [
    "# Insertar el segundo documento\n",
    "documento_2 = {\n",
    "    \"ID_Pedido\": 79159,\n",
    "    \"Importe_total\": 0.23,\n",
    "    \"Numero_de_items\": 5\n",
    "}\n",
    "\n",
    "resultado = db[\"pedidos\"].insert_one(documento_2)\n",
    "print(\"ID del segundo documento insertado:\", resultado.inserted_id)\n"
   ]
  },
  {
   "cell_type": "code",
   "execution_count": 4,
   "id": "d66ecffe-8aef-4f74-9037-bc8cee473065",
   "metadata": {},
   "outputs": [
    {
     "name": "stdout",
     "output_type": "stream",
     "text": [
      "ID del tercer documento insertado: 65e84e2a4911bdfab30a27aa\n"
     ]
    }
   ],
   "source": [
    "# Insertar el tercer documento\n",
    "documento_3 = {\n",
    "    \"ID_Pedido\": 79159,\n",
    "    \"Numero_de_items\": 8\n",
    "}\n",
    "\n",
    "resultado = db[\"pedidos\"].insert_one(documento_3)\n",
    "print(\"ID del tercer documento insertado:\", resultado.inserted_id)\n"
   ]
  },
  {
   "cell_type": "markdown",
   "id": "37075163-b1db-4905-9710-39521a83d01b",
   "metadata": {},
   "source": [
    "# Tarea 3 Consultas (3,5 puntos)"
   ]
  },
  {
   "cell_type": "markdown",
   "id": "217ff55d-0d75-4ba8-942d-1c5a079aefcb",
   "metadata": {},
   "source": [
    "### 1. Dirección asociada al pedido 34789\n",
    "Recupera la dirección asociada al pedido 34789. Solo nos interesa recuperar la dirección con todos sus campos"
   ]
  },
  {
   "cell_type": "code",
   "execution_count": 5,
   "id": "7395d806-5249-493a-b3f7-3531d7922239",
   "metadata": {},
   "outputs": [
    {
     "name": "stdout",
     "output_type": "stream",
     "text": [
      "No se encontró el pedido con ID 34789\n"
     ]
    }
   ],
   "source": [
    "pedido_34789 = db[\"pedidos\"].find_one({\"ID_Pedido\": 34789})\n",
    "\n",
    "if pedido_34789:\n",
    "    direccion_cliente_34789 = pedido_34789.get(\"Cliente\", {}).get(\"Dirección\", {})\n",
    "    \n",
    "    print(\"Datos de dirección del cliente del pedido 34789:\")\n",
    "    print(direccion_cliente_34789)\n",
    "else:\n",
    "    print(\"No se encontró el pedido con ID 34789\")\n"
   ]
  },
  {
   "cell_type": "markdown",
   "id": "59f2fe83-dd58-4f22-9a67-0b02af4c7d29",
   "metadata": {},
   "source": [
    "### 2. Número de pedidos que NO disponen de dirección del cliente\n",
    "Calcula el número de pedidos que no disponen de dirección del cliente."
   ]
  },
  {
   "cell_type": "code",
   "execution_count": 6,
   "id": "5f1b8d82-7062-4c47-9a6c-cd4572c24564",
   "metadata": {},
   "outputs": [
    {
     "name": "stdout",
     "output_type": "stream",
     "text": [
      "Número de pedidos sin dirección del cliente: 3\n"
     ]
    }
   ],
   "source": [
    "num_pedidos_sin_direccion = db[\"pedidos\"].count_documents({\"Direccion\": {\"$exists\": False}})\n",
    "print(\"Número de pedidos sin dirección del cliente:\", num_pedidos_sin_direccion)\n"
   ]
  },
  {
   "cell_type": "markdown",
   "id": "6dbfbe25-a979-4797-adec-b23b83dfa648",
   "metadata": {},
   "source": [
    "### 3. Datos de cliente con el pedido de menor Importe total\r\n",
    "Recupera los datos del cliente con el pedido de menor Importe total, incluyendo su ID_Pedido, Importe total y todos los datos del cliente con su dirección asociada."
   ]
  },
  {
   "cell_type": "code",
   "execution_count": 7,
   "id": "bfae8eee-f2b9-471b-bc93-6305557e49bd",
   "metadata": {},
   "outputs": [
    {
     "name": "stdout",
     "output_type": "stream",
     "text": [
      "Número de pedido con el menor importe total: 79159\n",
      "\n",
      "Datos completos del pedido con el menor importe total:\n",
      "_id: 65e84e2a4911bdfab30a27a8\n",
      "ID_Pedido: 79159\n",
      "Importe_total: 3.45\n"
     ]
    }
   ],
   "source": [
    "import pymongo\n",
    "\n",
    "pedido_menor_importe = db[\"pedidos\"].find_one({}, sort=[(\"Importe total\", 1)])\n",
    "\n",
    "if pedido_menor_importe:\n",
    "    numero_pedido_menor_importe = pedido_menor_importe[\"ID_Pedido\"]\n",
    "    print(\"Número de pedido con el menor importe total:\", numero_pedido_menor_importe)\n",
    "\n",
    "    pedido_completo_menor_importe = db[\"pedidos\"].find_one({\"ID_Pedido\": numero_pedido_menor_importe})\n",
    "\n",
    "    if pedido_completo_menor_importe:\n",
    "        print(\"\\nDatos completos del pedido con el menor importe total:\")\n",
    "        for key, value in pedido_completo_menor_importe.items():\n",
    "            print(f\"{key}: {value}\")\n",
    "    else:\n",
    "        print(\"No se encontró ningún pedido con el número\", numero_pedido_menor_importe)\n",
    "else:\n",
    "    print(\"No se encontraron pedidos en la base de datos.\")\n"
   ]
  },
  {
   "cell_type": "markdown",
   "id": "24efb4b0-f475-4b0d-ad13-cf8cb3be08ab",
   "metadata": {},
   "source": [
    "### 4. Pedidos cuyo Importe total está entre 2 y 2.1 euros\n",
    "Recupera los ID_Pedido de aquellos pedidos cuyo Importe total está entre 2 y 2.1 euros."
   ]
  },
  {
   "cell_type": "code",
   "execution_count": 8,
   "id": "7985b4c8-832a-4562-87b2-de559f374381",
   "metadata": {},
   "outputs": [],
   "source": [
    "pedidos_rango_importe = db[\"pedidos\"].find({\"Importe total\": {\"$gte\": 2, \"$lte\": 2.1}}, {\"ID_Pedido\": 1})\n",
    "for pedido in pedidos_rango_importe:\n",
    "    print(\"ID_Pedido:\", pedido[\"ID_Pedido\"])\n"
   ]
  },
  {
   "cell_type": "markdown",
   "id": "d300c2a7-0d08-4177-88bc-5456892cfdcf",
   "metadata": {},
   "source": [
    "### 5. Pedidos que incluyen Pan y Jabón entre sus ítems\n",
    "Recupera los ID_Pedido de aquellos pedidos que incluyen Pan y Jabón entre sus ítems."
   ]
  },
  {
   "cell_type": "code",
   "execution_count": 9,
   "id": "1bfb561d-d061-4d25-8787-23f1a5bef19f",
   "metadata": {},
   "outputs": [],
   "source": [
    "pedidos_pan_jabon = db[\"pedidos\"].find({\"Items\": {\"$all\": [\"Pan\", \"Jabón\"]}}, {\"ID_Pedido\": 1})\n",
    "for pedido in pedidos_pan_jabon:\n",
    "    print(\"ID_Pedido:\", pedido[\"ID_Pedido\"])"
   ]
  },
  {
   "cell_type": "markdown",
   "id": "8a5077f3-6d1e-4e64-85f3-f0cc567611b3",
   "metadata": {},
   "source": [
    "# Tarea 4 Actualizaciones (2 puntos)\r\n",
    "\r\n",
    "Te has dado cuenta de que al sumar el número de ítems en los pedidos, la persona encargada de recoger los datos tuvo un error, y dejó de incluir un elemento que todos tenían en común: la bolsa.\r\n",
    "\r\n",
    "Debes realizar la siguiente actualización solo sobre aquellos pedidos que tienen Número de ítems:\r\n",
    "\r\n",
    "- Incrementar en una unidad el valor actual de Número de items\r\n",
    "- Añadir a la lista Items un nuevo documento:\r\n",
    "  - Nombre: “Bolsa”\r\n",
    "  - Importe unitario: 0.05\r\n",
    "  - Cantidad: 1\r\n",
    "\r\n",
    "Además de realizar la actualización, muestra el número de documentos que han sido actualizados.\r\n"
   ]
  },
  {
   "cell_type": "code",
   "execution_count": 10,
   "id": "a1a629d1-4a5c-4549-b978-e9b47307e750",
   "metadata": {},
   "outputs": [
    {
     "name": "stdout",
     "output_type": "stream",
     "text": [
      "Conexión exitosa a MongoDB\n",
      "Número de documentos actualizados: 3\n"
     ]
    }
   ],
   "source": [
    "import pymongo\n",
    "\n",
    "# Establecer la cadena de conexión\n",
    "conexion = \"mongodb://172.18.0.2:27017\"\n",
    "\n",
    "# Intentar conectarse a MongoDB\n",
    "try:\n",
    "    cliente = pymongo.MongoClient(conexion)\n",
    "    print(\"Conexión exitosa a MongoDB\")\n",
    "    # Seleccionar la base de datos\n",
    "    db = cliente[\"supermercado\"]\n",
    "    # Incrementar en una unidad el valor actual de 'Número de items'\n",
    "    result = db[\"pedidos\"].update_many({}, {\"$inc\": {\"Número de items\": 1}})\n",
    "    # Mostrar el número de documentos actualizados\n",
    "    print(\"Número de documentos actualizados:\", result.modified_count)\n",
    "except pymongo.errors.ConnectionFailure:\n",
    "    print(\"Error al conectarse a MongoDB\")\n"
   ]
  },
  {
   "cell_type": "code",
   "execution_count": 11,
   "id": "08312229-79bd-4f79-953a-8695d96c3e56",
   "metadata": {},
   "outputs": [
    {
     "name": "stdout",
     "output_type": "stream",
     "text": [
      "Número de documentos actualizados: 3\n"
     ]
    }
   ],
   "source": [
    "# Añadir un nuevo documento a la lista 'Items' en cada pedido\n",
    "result = db[\"pedidos\"].update_many({}, {\"$push\": {\"Items\": {\"Nombre\": \"Bolsa\", \"Importe unitario\": 0.05, \"Cantidad\": 1}}})\n",
    "\n",
    "# Mostrar el número de documentos actualizados\n",
    "print(\"Número de documentos actualizados:\", result.modified_count)\n"
   ]
  },
  {
   "cell_type": "markdown",
   "id": "3ea36ebd-ade0-4312-8d62-259b4f28fe6a",
   "metadata": {},
   "source": [
    "# Tarea 5 Interacción con un Dataframe (2 puntos)\n",
    " Realiza las siguientes operaciones:\n",
    " Debes cargar todos los documentos existentes en la colección pedidos en un\n",
    " dataframe llamado df_pedidos.\n",
    " El dataframe debe utilizar como índice el campo ID_Pedido de la colección.\n",
    " A continuación, inserta en el Dataframe una nueva columna llamada Importe\n",
    " medio, que sea resultado de dividir el Importe total por el Número de ítems.\n",
    " Guarda el dataframe resultante, con la nueva columna, en una colección de la\n",
    " bbdd supermercado llamada resultadofinal.\n",
    " En la colección resultante no debe haber documentos con campos NaN"
   ]
  },
  {
   "cell_type": "code",
   "execution_count": 12,
   "id": "846ec6e4-9d3e-4c90-9e38-ebf2001d2550",
   "metadata": {},
   "outputs": [
    {
     "name": "stdout",
     "output_type": "stream",
     "text": [
      "Conexión exitosa a MongoDB\n"
     ]
    },
    {
     "ename": "KeyError",
     "evalue": "'Importe total'",
     "output_type": "error",
     "traceback": [
      "\u001b[0;31m---------------------------------------------------------------------------\u001b[0m",
      "\u001b[0;31mKeyError\u001b[0m                                  Traceback (most recent call last)",
      "File \u001b[0;32m/opt/conda/lib/python3.11/site-packages/pandas/core/indexes/base.py:3790\u001b[0m, in \u001b[0;36mIndex.get_loc\u001b[0;34m(self, key)\u001b[0m\n\u001b[1;32m   3789\u001b[0m \u001b[38;5;28;01mtry\u001b[39;00m:\n\u001b[0;32m-> 3790\u001b[0m     \u001b[38;5;28;01mreturn\u001b[39;00m \u001b[38;5;28;43mself\u001b[39;49m\u001b[38;5;241;43m.\u001b[39;49m\u001b[43m_engine\u001b[49m\u001b[38;5;241;43m.\u001b[39;49m\u001b[43mget_loc\u001b[49m\u001b[43m(\u001b[49m\u001b[43mcasted_key\u001b[49m\u001b[43m)\u001b[49m\n\u001b[1;32m   3791\u001b[0m \u001b[38;5;28;01mexcept\u001b[39;00m \u001b[38;5;167;01mKeyError\u001b[39;00m \u001b[38;5;28;01mas\u001b[39;00m err:\n",
      "File \u001b[0;32mindex.pyx:152\u001b[0m, in \u001b[0;36mpandas._libs.index.IndexEngine.get_loc\u001b[0;34m()\u001b[0m\n",
      "File \u001b[0;32mindex.pyx:181\u001b[0m, in \u001b[0;36mpandas._libs.index.IndexEngine.get_loc\u001b[0;34m()\u001b[0m\n",
      "File \u001b[0;32mpandas/_libs/hashtable_class_helper.pxi:7080\u001b[0m, in \u001b[0;36mpandas._libs.hashtable.PyObjectHashTable.get_item\u001b[0;34m()\u001b[0m\n",
      "File \u001b[0;32mpandas/_libs/hashtable_class_helper.pxi:7088\u001b[0m, in \u001b[0;36mpandas._libs.hashtable.PyObjectHashTable.get_item\u001b[0;34m()\u001b[0m\n",
      "\u001b[0;31mKeyError\u001b[0m: 'Importe total'",
      "\nThe above exception was the direct cause of the following exception:\n",
      "\u001b[0;31mKeyError\u001b[0m                                  Traceback (most recent call last)",
      "Cell \u001b[0;32mIn[12], line 22\u001b[0m\n\u001b[1;32m     19\u001b[0m df_pedidos\u001b[38;5;241m.\u001b[39mset_index(\u001b[38;5;124m'\u001b[39m\u001b[38;5;124mID_Pedido\u001b[39m\u001b[38;5;124m'\u001b[39m, inplace\u001b[38;5;241m=\u001b[39m\u001b[38;5;28;01mTrue\u001b[39;00m)\n\u001b[1;32m     21\u001b[0m \u001b[38;5;66;03m# Insertar una nueva columna 'Importe medio' en el dataframe\u001b[39;00m\n\u001b[0;32m---> 22\u001b[0m df_pedidos[\u001b[38;5;124m'\u001b[39m\u001b[38;5;124mImporte medio\u001b[39m\u001b[38;5;124m'\u001b[39m] \u001b[38;5;241m=\u001b[39m \u001b[43mdf_pedidos\u001b[49m\u001b[43m[\u001b[49m\u001b[38;5;124;43m'\u001b[39;49m\u001b[38;5;124;43mImporte total\u001b[39;49m\u001b[38;5;124;43m'\u001b[39;49m\u001b[43m]\u001b[49m \u001b[38;5;241m/\u001b[39m df_pedidos[\u001b[38;5;124m'\u001b[39m\u001b[38;5;124mNúmero de ítems\u001b[39m\u001b[38;5;124m'\u001b[39m]\n\u001b[1;32m     24\u001b[0m \u001b[38;5;66;03m# Eliminar filas con valores NaN\u001b[39;00m\n\u001b[1;32m     25\u001b[0m df_pedidos\u001b[38;5;241m.\u001b[39mdropna(inplace\u001b[38;5;241m=\u001b[39m\u001b[38;5;28;01mTrue\u001b[39;00m)\n",
      "File \u001b[0;32m/opt/conda/lib/python3.11/site-packages/pandas/core/frame.py:3896\u001b[0m, in \u001b[0;36mDataFrame.__getitem__\u001b[0;34m(self, key)\u001b[0m\n\u001b[1;32m   3894\u001b[0m \u001b[38;5;28;01mif\u001b[39;00m \u001b[38;5;28mself\u001b[39m\u001b[38;5;241m.\u001b[39mcolumns\u001b[38;5;241m.\u001b[39mnlevels \u001b[38;5;241m>\u001b[39m \u001b[38;5;241m1\u001b[39m:\n\u001b[1;32m   3895\u001b[0m     \u001b[38;5;28;01mreturn\u001b[39;00m \u001b[38;5;28mself\u001b[39m\u001b[38;5;241m.\u001b[39m_getitem_multilevel(key)\n\u001b[0;32m-> 3896\u001b[0m indexer \u001b[38;5;241m=\u001b[39m \u001b[38;5;28;43mself\u001b[39;49m\u001b[38;5;241;43m.\u001b[39;49m\u001b[43mcolumns\u001b[49m\u001b[38;5;241;43m.\u001b[39;49m\u001b[43mget_loc\u001b[49m\u001b[43m(\u001b[49m\u001b[43mkey\u001b[49m\u001b[43m)\u001b[49m\n\u001b[1;32m   3897\u001b[0m \u001b[38;5;28;01mif\u001b[39;00m is_integer(indexer):\n\u001b[1;32m   3898\u001b[0m     indexer \u001b[38;5;241m=\u001b[39m [indexer]\n",
      "File \u001b[0;32m/opt/conda/lib/python3.11/site-packages/pandas/core/indexes/base.py:3797\u001b[0m, in \u001b[0;36mIndex.get_loc\u001b[0;34m(self, key)\u001b[0m\n\u001b[1;32m   3792\u001b[0m     \u001b[38;5;28;01mif\u001b[39;00m \u001b[38;5;28misinstance\u001b[39m(casted_key, \u001b[38;5;28mslice\u001b[39m) \u001b[38;5;129;01mor\u001b[39;00m (\n\u001b[1;32m   3793\u001b[0m         \u001b[38;5;28misinstance\u001b[39m(casted_key, abc\u001b[38;5;241m.\u001b[39mIterable)\n\u001b[1;32m   3794\u001b[0m         \u001b[38;5;129;01mand\u001b[39;00m \u001b[38;5;28many\u001b[39m(\u001b[38;5;28misinstance\u001b[39m(x, \u001b[38;5;28mslice\u001b[39m) \u001b[38;5;28;01mfor\u001b[39;00m x \u001b[38;5;129;01min\u001b[39;00m casted_key)\n\u001b[1;32m   3795\u001b[0m     ):\n\u001b[1;32m   3796\u001b[0m         \u001b[38;5;28;01mraise\u001b[39;00m InvalidIndexError(key)\n\u001b[0;32m-> 3797\u001b[0m     \u001b[38;5;28;01mraise\u001b[39;00m \u001b[38;5;167;01mKeyError\u001b[39;00m(key) \u001b[38;5;28;01mfrom\u001b[39;00m \u001b[38;5;21;01merr\u001b[39;00m\n\u001b[1;32m   3798\u001b[0m \u001b[38;5;28;01mexcept\u001b[39;00m \u001b[38;5;167;01mTypeError\u001b[39;00m:\n\u001b[1;32m   3799\u001b[0m     \u001b[38;5;66;03m# If we have a listlike key, _check_indexing_error will raise\u001b[39;00m\n\u001b[1;32m   3800\u001b[0m     \u001b[38;5;66;03m#  InvalidIndexError. Otherwise we fall through and re-raise\u001b[39;00m\n\u001b[1;32m   3801\u001b[0m     \u001b[38;5;66;03m#  the TypeError.\u001b[39;00m\n\u001b[1;32m   3802\u001b[0m     \u001b[38;5;28mself\u001b[39m\u001b[38;5;241m.\u001b[39m_check_indexing_error(key)\n",
      "\u001b[0;31mKeyError\u001b[0m: 'Importe total'"
     ]
    }
   ],
   "source": [
    "import pymongo\n",
    "import pandas as pd\n",
    "\n",
    "# Establecer la cadena de conexión\n",
    "conexion = \"mongodb://172.18.0.2:27017\"\n",
    "\n",
    "# Intentar conectarse a MongoDB\n",
    "try:\n",
    "    cliente = pymongo.MongoClient(conexion)\n",
    "    print(\"Conexión exitosa a MongoDB\")\n",
    "    \n",
    "    # Seleccionar la base de datos\n",
    "    db = cliente[\"supermercado\"]\n",
    "    \n",
    "    # Cargar todos los documentos de la colección 'pedidos' en un dataframe\n",
    "    df_pedidos = pd.DataFrame(list(db[\"pedidos\"].find()))\n",
    "\n",
    "    # Establecer el campo 'ID_Pedido' como índice del dataframe\n",
    "    df_pedidos.set_index('ID_Pedido', inplace=True)\n",
    "\n",
    "    # Insertar una nueva columna 'Importe medio' en el dataframe\n",
    "    df_pedidos['Importe medio'] = df_pedidos['Importe total'] / df_pedidos['Número de ítems']\n",
    "\n",
    "    # Eliminar filas con valores NaN\n",
    "    df_pedidos.dropna(inplace=True)\n",
    "\n",
    "    # Guardar el dataframe resultante en la colección 'resultadofinal' de la base de datos 'supermercado'\n",
    "    db[\"resultadofinal\"].insert_many(df_pedidos.to_dict('records'))\n",
    "    \n",
    "except pymongo.errors.ConnectionFailure:\n",
    "    print(\"Error al conectarse a MongoDB\")\n"
   ]
  },
  {
   "cell_type": "code",
   "execution_count": null,
   "id": "6c0e5ffa-67a2-4895-b085-1a37ec905611",
   "metadata": {},
   "outputs": [],
   "source": [
    "# Imprimir el primer documento de la colección 'pedidos'\n",
    "print(db[\"pedidos\"].find_one())\n",
    "\n"
   ]
  },
  {
   "cell_type": "code",
   "execution_count": null,
   "id": "b4d76a7f-5614-4e9d-bd9e-b17f1eb58bce",
   "metadata": {},
   "outputs": [],
   "source": []
  }
 ],
 "metadata": {
  "kernelspec": {
   "display_name": "Python 3 (ipykernel)",
   "language": "python",
   "name": "python3"
  },
  "language_info": {
   "codemirror_mode": {
    "name": "ipython",
    "version": 3
   },
   "file_extension": ".py",
   "mimetype": "text/x-python",
   "name": "python",
   "nbconvert_exporter": "python",
   "pygments_lexer": "ipython3",
   "version": "3.11.6"
  }
 },
 "nbformat": 4,
 "nbformat_minor": 5
}
