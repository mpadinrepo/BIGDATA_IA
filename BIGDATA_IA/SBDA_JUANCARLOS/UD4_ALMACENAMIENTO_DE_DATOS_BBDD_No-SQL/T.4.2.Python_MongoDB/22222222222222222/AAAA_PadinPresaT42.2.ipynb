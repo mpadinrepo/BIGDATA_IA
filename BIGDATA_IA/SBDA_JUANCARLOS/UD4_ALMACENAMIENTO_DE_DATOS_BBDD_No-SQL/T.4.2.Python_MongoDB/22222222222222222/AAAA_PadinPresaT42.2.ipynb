{
 "cells": [
  {
   "cell_type": "markdown",
   "id": "696638b4-f189-4ae2-92eb-6b2f54cea64a",
   "metadata": {},
   "source": [
    "# Tarea 1 Comprobaciones previas (0,5 puntos)\n",
    " Muestra el número de documentos que se almacenan en la colección pedidos"
   ]
  },
  {
   "cell_type": "code",
   "execution_count": 2,
   "id": "23dc64d5-8b0c-452a-98e6-e3b5ab473322",
   "metadata": {},
   "outputs": [
    {
     "ename": "ServerSelectionTimeoutError",
     "evalue": "127.0.0.3:27017: [Errno 111] Connection refused (configured timeouts: socketTimeoutMS: 20000.0ms, connectTimeoutMS: 20000.0ms), Timeout: 30s, Topology Description: <TopologyDescription id: 66110377f920797f923f3daf, topology_type: Unknown, servers: [<ServerDescription ('127.0.0.3', 27017) server_type: Unknown, rtt: None, error=AutoReconnect('127.0.0.3:27017: [Errno 111] Connection refused (configured timeouts: socketTimeoutMS: 20000.0ms, connectTimeoutMS: 20000.0ms)')>]>",
     "output_type": "error",
     "traceback": [
      "\u001b[0;31m---------------------------------------------------------------------------\u001b[0m",
      "\u001b[0;31mServerSelectionTimeoutError\u001b[0m               Traceback (most recent call last)",
      "Cell \u001b[0;32mIn[2], line 7\u001b[0m\n\u001b[1;32m      4\u001b[0m cliente \u001b[38;5;241m=\u001b[39m MongoClient(\u001b[38;5;124m'\u001b[39m\u001b[38;5;124m127.0.0.3\u001b[39m\u001b[38;5;124m'\u001b[39m, \u001b[38;5;241m27017\u001b[39m)\n\u001b[1;32m      6\u001b[0m \u001b[38;5;66;03m# Borrar la base de datos 'supermercado'\u001b[39;00m\n\u001b[0;32m----> 7\u001b[0m \u001b[43mcliente\u001b[49m\u001b[38;5;241;43m.\u001b[39;49m\u001b[43mdrop_database\u001b[49m\u001b[43m(\u001b[49m\u001b[38;5;124;43m'\u001b[39;49m\u001b[38;5;124;43msupermercado\u001b[39;49m\u001b[38;5;124;43m'\u001b[39;49m\u001b[43m)\u001b[49m\n\u001b[1;32m      9\u001b[0m \u001b[38;5;28mprint\u001b[39m(\u001b[38;5;124m\"\u001b[39m\u001b[38;5;124mLa base de datos \u001b[39m\u001b[38;5;124m'\u001b[39m\u001b[38;5;124msupermercado\u001b[39m\u001b[38;5;124m'\u001b[39m\u001b[38;5;124m ha sido eliminada correctamente.\u001b[39m\u001b[38;5;124m\"\u001b[39m)\n",
      "File \u001b[0;32m/opt/conda/lib/python3.11/site-packages/pymongo/_csot.py:107\u001b[0m, in \u001b[0;36mapply.<locals>.csot_wrapper\u001b[0;34m(self, *args, **kwargs)\u001b[0m\n\u001b[1;32m    105\u001b[0m         \u001b[38;5;28;01mwith\u001b[39;00m _TimeoutContext(timeout):\n\u001b[1;32m    106\u001b[0m             \u001b[38;5;28;01mreturn\u001b[39;00m func(\u001b[38;5;28mself\u001b[39m, \u001b[38;5;241m*\u001b[39margs, \u001b[38;5;241m*\u001b[39m\u001b[38;5;241m*\u001b[39mkwargs)\n\u001b[0;32m--> 107\u001b[0m \u001b[38;5;28;01mreturn\u001b[39;00m \u001b[43mfunc\u001b[49m\u001b[43m(\u001b[49m\u001b[38;5;28;43mself\u001b[39;49m\u001b[43m,\u001b[49m\u001b[43m \u001b[49m\u001b[38;5;241;43m*\u001b[39;49m\u001b[43margs\u001b[49m\u001b[43m,\u001b[49m\u001b[43m \u001b[49m\u001b[38;5;241;43m*\u001b[39;49m\u001b[38;5;241;43m*\u001b[39;49m\u001b[43mkwargs\u001b[49m\u001b[43m)\u001b[49m\n",
      "File \u001b[0;32m/opt/conda/lib/python3.11/site-packages/pymongo/mongo_client.py:1996\u001b[0m, in \u001b[0;36mMongoClient.drop_database\u001b[0;34m(self, name_or_database, session, comment)\u001b[0m\n\u001b[1;32m   1993\u001b[0m \u001b[38;5;28;01mif\u001b[39;00m \u001b[38;5;129;01mnot\u001b[39;00m \u001b[38;5;28misinstance\u001b[39m(name, \u001b[38;5;28mstr\u001b[39m):\n\u001b[1;32m   1994\u001b[0m     \u001b[38;5;28;01mraise\u001b[39;00m \u001b[38;5;167;01mTypeError\u001b[39;00m(\u001b[38;5;124m\"\u001b[39m\u001b[38;5;124mname_or_database must be an instance of str or a Database\u001b[39m\u001b[38;5;124m\"\u001b[39m)\n\u001b[0;32m-> 1996\u001b[0m \u001b[38;5;28;01mwith\u001b[39;00m \u001b[38;5;28;43mself\u001b[39;49m\u001b[38;5;241;43m.\u001b[39;49m\u001b[43m_conn_for_writes\u001b[49m\u001b[43m(\u001b[49m\u001b[43msession\u001b[49m\u001b[43m)\u001b[49m \u001b[38;5;28;01mas\u001b[39;00m conn:\n\u001b[1;32m   1997\u001b[0m     \u001b[38;5;28mself\u001b[39m[name]\u001b[38;5;241m.\u001b[39m_command(\n\u001b[1;32m   1998\u001b[0m         conn,\n\u001b[1;32m   1999\u001b[0m         {\u001b[38;5;124m\"\u001b[39m\u001b[38;5;124mdropDatabase\u001b[39m\u001b[38;5;124m\"\u001b[39m: \u001b[38;5;241m1\u001b[39m, \u001b[38;5;124m\"\u001b[39m\u001b[38;5;124mcomment\u001b[39m\u001b[38;5;124m\"\u001b[39m: comment},\n\u001b[0;32m   (...)\u001b[0m\n\u001b[1;32m   2003\u001b[0m         session\u001b[38;5;241m=\u001b[39msession,\n\u001b[1;32m   2004\u001b[0m     )\n",
      "File \u001b[0;32m/opt/conda/lib/python3.11/site-packages/pymongo/mongo_client.py:1313\u001b[0m, in \u001b[0;36mMongoClient._conn_for_writes\u001b[0;34m(self, session)\u001b[0m\n\u001b[1;32m   1312\u001b[0m \u001b[38;5;28;01mdef\u001b[39;00m \u001b[38;5;21m_conn_for_writes\u001b[39m(\u001b[38;5;28mself\u001b[39m, session: Optional[ClientSession]) \u001b[38;5;241m-\u001b[39m\u001b[38;5;241m>\u001b[39m ContextManager[Connection]:\n\u001b[0;32m-> 1313\u001b[0m     server \u001b[38;5;241m=\u001b[39m \u001b[38;5;28;43mself\u001b[39;49m\u001b[38;5;241;43m.\u001b[39;49m\u001b[43m_select_server\u001b[49m\u001b[43m(\u001b[49m\u001b[43mwritable_server_selector\u001b[49m\u001b[43m,\u001b[49m\u001b[43m \u001b[49m\u001b[43msession\u001b[49m\u001b[43m)\u001b[49m\n\u001b[1;32m   1314\u001b[0m     \u001b[38;5;28;01mreturn\u001b[39;00m \u001b[38;5;28mself\u001b[39m\u001b[38;5;241m.\u001b[39m_checkout(server, session)\n",
      "File \u001b[0;32m/opt/conda/lib/python3.11/site-packages/pymongo/mongo_client.py:1303\u001b[0m, in \u001b[0;36mMongoClient._select_server\u001b[0;34m(self, server_selector, session, address)\u001b[0m\n\u001b[1;32m   1301\u001b[0m             \u001b[38;5;28;01mraise\u001b[39;00m AutoReconnect(\u001b[38;5;124m\"\u001b[39m\u001b[38;5;124mserver \u001b[39m\u001b[38;5;132;01m%s\u001b[39;00m\u001b[38;5;124m:\u001b[39m\u001b[38;5;132;01m%s\u001b[39;00m\u001b[38;5;124m no longer available\u001b[39m\u001b[38;5;124m\"\u001b[39m \u001b[38;5;241m%\u001b[39m address)  \u001b[38;5;66;03m# noqa: UP031\u001b[39;00m\n\u001b[1;32m   1302\u001b[0m     \u001b[38;5;28;01melse\u001b[39;00m:\n\u001b[0;32m-> 1303\u001b[0m         server \u001b[38;5;241m=\u001b[39m \u001b[43mtopology\u001b[49m\u001b[38;5;241;43m.\u001b[39;49m\u001b[43mselect_server\u001b[49m\u001b[43m(\u001b[49m\u001b[43mserver_selector\u001b[49m\u001b[43m)\u001b[49m\n\u001b[1;32m   1304\u001b[0m     \u001b[38;5;28;01mreturn\u001b[39;00m server\n\u001b[1;32m   1305\u001b[0m \u001b[38;5;28;01mexcept\u001b[39;00m PyMongoError \u001b[38;5;28;01mas\u001b[39;00m exc:\n\u001b[1;32m   1306\u001b[0m     \u001b[38;5;66;03m# Server selection errors in a transaction are transient.\u001b[39;00m\n",
      "File \u001b[0;32m/opt/conda/lib/python3.11/site-packages/pymongo/topology.py:302\u001b[0m, in \u001b[0;36mTopology.select_server\u001b[0;34m(self, selector, server_selection_timeout, address)\u001b[0m\n\u001b[1;32m    295\u001b[0m \u001b[38;5;28;01mdef\u001b[39;00m \u001b[38;5;21mselect_server\u001b[39m(\n\u001b[1;32m    296\u001b[0m     \u001b[38;5;28mself\u001b[39m,\n\u001b[1;32m    297\u001b[0m     selector: Callable[[Selection], Selection],\n\u001b[1;32m    298\u001b[0m     server_selection_timeout: Optional[\u001b[38;5;28mfloat\u001b[39m] \u001b[38;5;241m=\u001b[39m \u001b[38;5;28;01mNone\u001b[39;00m,\n\u001b[1;32m    299\u001b[0m     address: Optional[_Address] \u001b[38;5;241m=\u001b[39m \u001b[38;5;28;01mNone\u001b[39;00m,\n\u001b[1;32m    300\u001b[0m ) \u001b[38;5;241m-\u001b[39m\u001b[38;5;241m>\u001b[39m Server:\n\u001b[1;32m    301\u001b[0m \u001b[38;5;250m    \u001b[39m\u001b[38;5;124;03m\"\"\"Like select_servers, but choose a random server if several match.\"\"\"\u001b[39;00m\n\u001b[0;32m--> 302\u001b[0m     server \u001b[38;5;241m=\u001b[39m \u001b[38;5;28;43mself\u001b[39;49m\u001b[38;5;241;43m.\u001b[39;49m\u001b[43m_select_server\u001b[49m\u001b[43m(\u001b[49m\u001b[43mselector\u001b[49m\u001b[43m,\u001b[49m\u001b[43m \u001b[49m\u001b[43mserver_selection_timeout\u001b[49m\u001b[43m,\u001b[49m\u001b[43m \u001b[49m\u001b[43maddress\u001b[49m\u001b[43m)\u001b[49m\n\u001b[1;32m    303\u001b[0m     \u001b[38;5;28;01mif\u001b[39;00m _csot\u001b[38;5;241m.\u001b[39mget_timeout():\n\u001b[1;32m    304\u001b[0m         _csot\u001b[38;5;241m.\u001b[39mset_rtt(server\u001b[38;5;241m.\u001b[39mdescription\u001b[38;5;241m.\u001b[39mmin_round_trip_time)\n",
      "File \u001b[0;32m/opt/conda/lib/python3.11/site-packages/pymongo/topology.py:286\u001b[0m, in \u001b[0;36mTopology._select_server\u001b[0;34m(self, selector, server_selection_timeout, address)\u001b[0m\n\u001b[1;32m    280\u001b[0m \u001b[38;5;28;01mdef\u001b[39;00m \u001b[38;5;21m_select_server\u001b[39m(\n\u001b[1;32m    281\u001b[0m     \u001b[38;5;28mself\u001b[39m,\n\u001b[1;32m    282\u001b[0m     selector: Callable[[Selection], Selection],\n\u001b[1;32m    283\u001b[0m     server_selection_timeout: Optional[\u001b[38;5;28mfloat\u001b[39m] \u001b[38;5;241m=\u001b[39m \u001b[38;5;28;01mNone\u001b[39;00m,\n\u001b[1;32m    284\u001b[0m     address: Optional[_Address] \u001b[38;5;241m=\u001b[39m \u001b[38;5;28;01mNone\u001b[39;00m,\n\u001b[1;32m    285\u001b[0m ) \u001b[38;5;241m-\u001b[39m\u001b[38;5;241m>\u001b[39m Server:\n\u001b[0;32m--> 286\u001b[0m     servers \u001b[38;5;241m=\u001b[39m \u001b[38;5;28;43mself\u001b[39;49m\u001b[38;5;241;43m.\u001b[39;49m\u001b[43mselect_servers\u001b[49m\u001b[43m(\u001b[49m\u001b[43mselector\u001b[49m\u001b[43m,\u001b[49m\u001b[43m \u001b[49m\u001b[43mserver_selection_timeout\u001b[49m\u001b[43m,\u001b[49m\u001b[43m \u001b[49m\u001b[43maddress\u001b[49m\u001b[43m)\u001b[49m\n\u001b[1;32m    287\u001b[0m     \u001b[38;5;28;01mif\u001b[39;00m \u001b[38;5;28mlen\u001b[39m(servers) \u001b[38;5;241m==\u001b[39m \u001b[38;5;241m1\u001b[39m:\n\u001b[1;32m    288\u001b[0m         \u001b[38;5;28;01mreturn\u001b[39;00m servers[\u001b[38;5;241m0\u001b[39m]\n",
      "File \u001b[0;32m/opt/conda/lib/python3.11/site-packages/pymongo/topology.py:237\u001b[0m, in \u001b[0;36mTopology.select_servers\u001b[0;34m(self, selector, server_selection_timeout, address)\u001b[0m\n\u001b[1;32m    234\u001b[0m     server_timeout \u001b[38;5;241m=\u001b[39m server_selection_timeout\n\u001b[1;32m    236\u001b[0m \u001b[38;5;28;01mwith\u001b[39;00m \u001b[38;5;28mself\u001b[39m\u001b[38;5;241m.\u001b[39m_lock:\n\u001b[0;32m--> 237\u001b[0m     server_descriptions \u001b[38;5;241m=\u001b[39m \u001b[38;5;28;43mself\u001b[39;49m\u001b[38;5;241;43m.\u001b[39;49m\u001b[43m_select_servers_loop\u001b[49m\u001b[43m(\u001b[49m\u001b[43mselector\u001b[49m\u001b[43m,\u001b[49m\u001b[43m \u001b[49m\u001b[43mserver_timeout\u001b[49m\u001b[43m,\u001b[49m\u001b[43m \u001b[49m\u001b[43maddress\u001b[49m\u001b[43m)\u001b[49m\n\u001b[1;32m    239\u001b[0m     \u001b[38;5;28;01mreturn\u001b[39;00m [\n\u001b[1;32m    240\u001b[0m         cast(Server, \u001b[38;5;28mself\u001b[39m\u001b[38;5;241m.\u001b[39mget_server_by_address(sd\u001b[38;5;241m.\u001b[39maddress)) \u001b[38;5;28;01mfor\u001b[39;00m sd \u001b[38;5;129;01min\u001b[39;00m server_descriptions\n\u001b[1;32m    241\u001b[0m     ]\n",
      "File \u001b[0;32m/opt/conda/lib/python3.11/site-packages/pymongo/topology.py:259\u001b[0m, in \u001b[0;36mTopology._select_servers_loop\u001b[0;34m(self, selector, timeout, address)\u001b[0m\n\u001b[1;32m    256\u001b[0m \u001b[38;5;28;01mwhile\u001b[39;00m \u001b[38;5;129;01mnot\u001b[39;00m server_descriptions:\n\u001b[1;32m    257\u001b[0m     \u001b[38;5;66;03m# No suitable servers.\u001b[39;00m\n\u001b[1;32m    258\u001b[0m     \u001b[38;5;28;01mif\u001b[39;00m timeout \u001b[38;5;241m==\u001b[39m \u001b[38;5;241m0\u001b[39m \u001b[38;5;129;01mor\u001b[39;00m now \u001b[38;5;241m>\u001b[39m end_time:\n\u001b[0;32m--> 259\u001b[0m         \u001b[38;5;28;01mraise\u001b[39;00m ServerSelectionTimeoutError(\n\u001b[1;32m    260\u001b[0m             \u001b[38;5;124mf\u001b[39m\u001b[38;5;124m\"\u001b[39m\u001b[38;5;132;01m{\u001b[39;00m\u001b[38;5;28mself\u001b[39m\u001b[38;5;241m.\u001b[39m_error_message(selector)\u001b[38;5;132;01m}\u001b[39;00m\u001b[38;5;124m, Timeout: \u001b[39m\u001b[38;5;132;01m{\u001b[39;00mtimeout\u001b[38;5;132;01m}\u001b[39;00m\u001b[38;5;124ms, Topology Description: \u001b[39m\u001b[38;5;132;01m{\u001b[39;00m\u001b[38;5;28mself\u001b[39m\u001b[38;5;241m.\u001b[39mdescription\u001b[38;5;132;01m!r}\u001b[39;00m\u001b[38;5;124m\"\u001b[39m\n\u001b[1;32m    261\u001b[0m         )\n\u001b[1;32m    263\u001b[0m     \u001b[38;5;28mself\u001b[39m\u001b[38;5;241m.\u001b[39m_ensure_opened()\n\u001b[1;32m    264\u001b[0m     \u001b[38;5;28mself\u001b[39m\u001b[38;5;241m.\u001b[39m_request_check_all()\n",
      "\u001b[0;31mServerSelectionTimeoutError\u001b[0m: 127.0.0.3:27017: [Errno 111] Connection refused (configured timeouts: socketTimeoutMS: 20000.0ms, connectTimeoutMS: 20000.0ms), Timeout: 30s, Topology Description: <TopologyDescription id: 66110377f920797f923f3daf, topology_type: Unknown, servers: [<ServerDescription ('127.0.0.3', 27017) server_type: Unknown, rtt: None, error=AutoReconnect('127.0.0.3:27017: [Errno 111] Connection refused (configured timeouts: socketTimeoutMS: 20000.0ms, connectTimeoutMS: 20000.0ms)')>]>"
     ]
    }
   ],
   "source": [
    "from pymongo import MongoClient\n",
    "\n",
    "# Establecer conexión con el servidor de MongoDB\n",
    "cliente = MongoClient('127.0.0.3', 27017)\n",
    "\n",
    "# Borrar la base de datos 'supermercado'\n",
    "cliente.drop_database('supermercado')\n",
    "\n",
    "print(\"La base de datos 'supermercado' ha sido eliminada correctamente.\")\n"
   ]
  },
  {
   "cell_type": "markdown",
   "id": "7d398a40-2165-4eeb-b107-80272f05f257",
   "metadata": {},
   "source": [
    "# Tarea 2 Inserciones de registros (0,5 puntos)"
   ]
  },
  {
   "cell_type": "markdown",
   "id": "194e45f4-4739-4255-82ef-0f0421e6c7e4",
   "metadata": {},
   "source": [
    "### Inserta tres documentos en la colección utilizando un único comando:\r\n",
    "\r\n",
    "- El primero tendrá como ID_Pedido el 79159 e Importe total 3.45\r\n",
    "- El segundo tendrá el mismo ID_Pedido (79159), Importe total de 0.23 y Número de items 5.\r\n",
    "- El tercero tendrá el mismo ID_Pedido (79159) y Número de items 8.\r\n",
    "\r\n",
    "(Verifica que se han insertado los tres documentos)"
   ]
  },
  {
   "cell_type": "code",
   "execution_count": 17,
   "id": "bde378c1-a2e4-4bfd-8e41-c3714a8c0fc3",
   "metadata": {},
   "outputs": [
    {
     "name": "stdout",
     "output_type": "stream",
     "text": [
      "ID del documento insertado: 65e78114cd1416084cd958cf\n"
     ]
    }
   ],
   "source": [
    "# Insertar el primer documento\n",
    "documento_1 = {\n",
    "    \"ID_Pedido\": 79159,\n",
    "    \"Importe_total\": 3.45\n",
    "}\n",
    "\n",
    "resultado = db[\"pedidos\"].insert_one(documento_1)\n",
    "print(\"ID del documento insertado:\", resultado.inserted_id)\n"
   ]
  },
  {
   "cell_type": "code",
   "execution_count": 18,
   "id": "388b42bb-b7a6-4549-90aa-d9530379e0cc",
   "metadata": {},
   "outputs": [
    {
     "name": "stdout",
     "output_type": "stream",
     "text": [
      "ID del segundo documento insertado: 65e78117cd1416084cd958d0\n"
     ]
    }
   ],
   "source": [
    "# Insertar el segundo documento\n",
    "documento_2 = {\n",
    "    \"ID_Pedido\": 79159,\n",
    "    \"Importe_total\": 0.23,\n",
    "    \"Numero_de_items\": 5\n",
    "}\n",
    "\n",
    "resultado = db[\"pedidos\"].insert_one(documento_2)\n",
    "print(\"ID del segundo documento insertado:\", resultado.inserted_id)\n"
   ]
  },
  {
   "cell_type": "code",
   "execution_count": 19,
   "id": "d66ecffe-8aef-4f74-9037-bc8cee473065",
   "metadata": {},
   "outputs": [
    {
     "name": "stdout",
     "output_type": "stream",
     "text": [
      "ID del tercer documento insertado: 65e7811acd1416084cd958d1\n"
     ]
    }
   ],
   "source": [
    "# Insertar el tercer documento\n",
    "documento_3 = {\n",
    "    \"ID_Pedido\": 79159,\n",
    "    \"Numero_de_items\": 8\n",
    "}\n",
    "\n",
    "resultado = db[\"pedidos\"].insert_one(documento_3)\n",
    "print(\"ID del tercer documento insertado:\", resultado.inserted_id)\n"
   ]
  },
  {
   "cell_type": "markdown",
   "id": "37075163-b1db-4905-9710-39521a83d01b",
   "metadata": {},
   "source": [
    "# Tarea 3 Consultas (3,5 puntos)"
   ]
  },
  {
   "cell_type": "markdown",
   "id": "217ff55d-0d75-4ba8-942d-1c5a079aefcb",
   "metadata": {},
   "source": [
    "### 1. Dirección asociada al pedido 34789\n",
    "Recupera la dirección asociada al pedido 34789. Solo nos interesa recuperar la dirección con todos sus campos"
   ]
  },
  {
   "cell_type": "code",
   "execution_count": 20,
   "id": "7395d806-5249-493a-b3f7-3531d7922239",
   "metadata": {},
   "outputs": [
    {
     "name": "stdout",
     "output_type": "stream",
     "text": [
      "Datos de dirección del cliente del pedido 34789:\n",
      "{'ID_Dirección': 29, 'Calle': 'Calle de Santa Inés', 'Número': 5, 'Código Postal': 28231, 'Localidad': 'Las rozas', 'Provincia': 'Madrid'}\n"
     ]
    }
   ],
   "source": [
    "pedido_34789 = db[\"pedidos\"].find_one({\"ID_Pedido\": 34789})\n",
    "\n",
    "if pedido_34789:\n",
    "    direccion_cliente_34789 = pedido_34789.get(\"Cliente\", {}).get(\"Dirección\", {})\n",
    "    \n",
    "    print(\"Datos de dirección del cliente del pedido 34789:\")\n",
    "    print(direccion_cliente_34789)\n",
    "else:\n",
    "    print(\"No se encontró el pedido con ID 34789\")\n"
   ]
  },
  {
   "cell_type": "markdown",
   "id": "59f2fe83-dd58-4f22-9a67-0b02af4c7d29",
   "metadata": {},
   "source": [
    "### 2. Número de pedidos que NO disponen de dirección del cliente\n",
    "Calcula el número de pedidos que no disponen de dirección del cliente."
   ]
  },
  {
   "cell_type": "code",
   "execution_count": 21,
   "id": "5f1b8d82-7062-4c47-9a6c-cd4572c24564",
   "metadata": {},
   "outputs": [
    {
     "name": "stdout",
     "output_type": "stream",
     "text": [
      "Número de pedidos sin dirección del cliente: 3014\n"
     ]
    }
   ],
   "source": [
    "num_pedidos_sin_direccion = db[\"pedidos\"].count_documents({\"Direccion\": {\"$exists\": False}})\n",
    "print(\"Número de pedidos sin dirección del cliente:\", num_pedidos_sin_direccion)\n"
   ]
  },
  {
   "cell_type": "markdown",
   "id": "6dbfbe25-a979-4797-adec-b23b83dfa648",
   "metadata": {},
   "source": [
    "### 3. Datos de cliente con el pedido de menor Importe total\r\n",
    "Recupera los datos del cliente con el pedido de menor Importe total, incluyendo su ID_Pedido, Importe total y todos los datos del cliente con su dirección asociada."
   ]
  },
  {
   "cell_type": "code",
   "execution_count": 16,
   "id": "bfae8eee-f2b9-471b-bc93-6305557e49bd",
   "metadata": {},
   "outputs": [
    {
     "name": "stdout",
     "output_type": "stream",
     "text": [
      "Número de pedido con el menor importe total: 79159\n",
      "\n",
      "Datos completos del pedido con el menor importe total:\n",
      "_id: 65e77431dae9ce30ef5b4e2a\n",
      "ID_Pedido: 79159\n",
      "Importe_total: 3.45\n"
     ]
    }
   ],
   "source": [
    "import pymongo\n",
    "\n",
    "pedido_menor_importe = db[\"pedidos\"].find_one({}, sort=[(\"Importe total\", 1)])\n",
    "\n",
    "if pedido_menor_importe:\n",
    "    numero_pedido_menor_importe = pedido_menor_importe[\"ID_Pedido\"]\n",
    "    print(\"Número de pedido con el menor importe total:\", numero_pedido_menor_importe)\n",
    "\n",
    "    pedido_completo_menor_importe = db[\"pedidos\"].find_one({\"ID_Pedido\": numero_pedido_menor_importe})\n",
    "\n",
    "    if pedido_completo_menor_importe:\n",
    "        print(\"\\nDatos completos del pedido con el menor importe total:\")\n",
    "        for key, value in pedido_completo_menor_importe.items():\n",
    "            print(f\"{key}: {value}\")\n",
    "    else:\n",
    "        print(\"No se encontró ningún pedido con el número\", numero_pedido_menor_importe)\n",
    "else:\n",
    "    print(\"No se encontraron pedidos en la base de datos.\")\n"
   ]
  },
  {
   "cell_type": "markdown",
   "id": "24efb4b0-f475-4b0d-ad13-cf8cb3be08ab",
   "metadata": {},
   "source": [
    "### 4. Pedidos cuyo Importe total está entre 2 y 2.1 euros\n",
    "Recupera los ID_Pedido de aquellos pedidos cuyo Importe total está entre 2 y 2.1 euros."
   ]
  },
  {
   "cell_type": "code",
   "execution_count": 14,
   "id": "7985b4c8-832a-4562-87b2-de559f374381",
   "metadata": {},
   "outputs": [
    {
     "name": "stdout",
     "output_type": "stream",
     "text": [
      "ID_Pedido: 67693\n",
      "ID_Pedido: 67960\n",
      "ID_Pedido: 11047\n"
     ]
    }
   ],
   "source": [
    "pedidos_rango_importe = db[\"pedidos\"].find({\"Importe total\": {\"$gte\": 2, \"$lte\": 2.1}}, {\"ID_Pedido\": 1})\n",
    "for pedido in pedidos_rango_importe:\n",
    "    print(\"ID_Pedido:\", pedido[\"ID_Pedido\"])\n"
   ]
  },
  {
   "cell_type": "markdown",
   "id": "d300c2a7-0d08-4177-88bc-5456892cfdcf",
   "metadata": {},
   "source": [
    "### 5. Pedidos que incluyen Pan y Jabón entre sus ítems\n",
    "Recupera los ID_Pedido de aquellos pedidos que incluyen Pan y Jabón entre sus ítems."
   ]
  },
  {
   "cell_type": "code",
   "execution_count": 15,
   "id": "1bfb561d-d061-4d25-8787-23f1a5bef19f",
   "metadata": {},
   "outputs": [],
   "source": [
    "pedidos_pan_jabon = db[\"pedidos\"].find({\"Items\": {\"$all\": [\"Pan\", \"Jabón\"]}}, {\"ID_Pedido\": 1})\n",
    "for pedido in pedidos_pan_jabon:\n",
    "    print(\"ID_Pedido:\", pedido[\"ID_Pedido\"])"
   ]
  }
 ],
 "metadata": {
  "kernelspec": {
   "display_name": "Python 3 (ipykernel)",
   "language": "python",
   "name": "python3"
  },
  "language_info": {
   "codemirror_mode": {
    "name": "ipython",
    "version": 3
   },
   "file_extension": ".py",
   "mimetype": "text/x-python",
   "name": "python",
   "nbconvert_exporter": "python",
   "pygments_lexer": "ipython3",
   "version": "3.11.6"
  }
 },
 "nbformat": 4,
 "nbformat_minor": 5
}
