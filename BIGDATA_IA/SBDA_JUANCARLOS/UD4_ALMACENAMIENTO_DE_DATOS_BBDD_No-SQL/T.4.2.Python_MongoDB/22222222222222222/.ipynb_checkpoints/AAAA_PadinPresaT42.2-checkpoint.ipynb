{
 "cells": [
  {
   "cell_type": "markdown",
   "id": "696638b4-f189-4ae2-92eb-6b2f54cea64a",
   "metadata": {},
   "source": [
    "# Tarea 1 Comprobaciones previas (0,5 puntos)\n",
    " Muestra el número de documentos que se almacenan en la colección pedidos"
   ]
  },
  {
   "cell_type": "code",
   "execution_count": 1,
   "id": "23dc64d5-8b0c-452a-98e6-e3b5ab473322",
   "metadata": {},
   "outputs": [
    {
     "name": "stdout",
     "output_type": "stream",
     "text": [
      "Conexión exitosa a MongoDB\n",
      "Error al conectarse a MongoDB\n"
     ]
    }
   ],
   "source": [
    "import pymongo\n",
    "\n",
    "# Establecer la cadena de conexión\n",
    "conexion = \"mongodb://172.18.0.2:27017\"\n",
    "\n",
    "# Intentar conectarse a MongoDB\n",
    "try:\n",
    "    cliente = pymongo.MongoClient(conexion)\n",
    "    print(\"Conexión exitosa a MongoDB\")\n",
    "    # Seleccionar la base de datos\n",
    "    db = cliente[\"supermercado\"]\n",
    "    # Contar el número de documentos en la colección 'pedidos'\n",
    "    num_documentos = db[\"pedidos\"].count_documents({})\n",
    "    print(\"Número de documentos en la colección 'pedidos':\", num_documentos)\n",
    "except pymongo.errors.ConnectionFailure:\n",
    "    print(\"Error al conectarse a MongoDB\")"
   ]
  },
  {
   "cell_type": "code",
   "execution_count": 2,
   "id": "fec4ab45-509f-4e0a-8c0b-3fb28244f21a",
   "metadata": {},
   "outputs": [
    {
     "name": "stdout",
     "output_type": "stream",
     "text": [
      "Conexión exitosa a MongoDB\n"
     ]
    }
   ],
   "source": [
    "import pymongo\n",
    "\n",
    "# Establecer la cadena de conexión\n",
    "conexion = \"mongodb://172.18.0.3:27017\"\n",
    "\n",
    "# Intentar conectarse a MongoDB\n",
    "try:\n",
    "    cliente = pymongo.MongoClient(conexion)\n",
    "    print(\"Conexión exitosa a MongoDB\")\n",
    "except pymongo.errors.ConnectionFailure:\n",
    "    print(\"Error al conectarse a MongoDB\")\n"
   ]
  },
  {
   "cell_type": "code",
   "execution_count": 5,
   "id": "5aefbc1e-8ee4-485a-a8a7-89d4522e5002",
   "metadata": {},
   "outputs": [
    {
     "name": "stdout",
     "output_type": "stream",
     "text": [
      "Error al conectar con el servidor de MongoDB\n"
     ]
    }
   ],
   "source": [
    "from pymongo import MongoClient\n",
    "from pymongo.errors import ConnectionFailure\n",
    "import json\n",
    "\n",
    "try:\n",
    "    client = MongoClient('172.18.0.2', 27017)\n",
    "    client.admin.command('ismaster')\n",
    "\n",
    "    db = client.supermercado\n",
    "    collection = db.pedidos\n",
    "\n",
    "    with open('ventas.json', 'r') as file:\n",
    "        lines = file.readlines()\n",
    "        for line in lines:\n",
    "            data = json.loads(line)\n",
    "            data['_id'] = data['_id']['$oid']\n",
    "            collection.insert_one(data)\n",
    "\n",
    "    print(\"Documentos importados correctamente.\")\n",
    "\n",
    "except ConnectionFailure:\n",
    "    print(\"Error al conectar con el servidor de MongoDB\")\n",
    "\n"
   ]
  },
  {
   "cell_type": "markdown",
   "id": "7d398a40-2165-4eeb-b107-80272f05f257",
   "metadata": {
    "jp-MarkdownHeadingCollapsed": true
   },
   "source": [
    "# Tarea 2 Inserciones de registros (0,5 puntos)"
   ]
  },
  {
   "cell_type": "markdown",
   "id": "194e45f4-4739-4255-82ef-0f0421e6c7e4",
   "metadata": {},
   "source": [
    "### Inserta tres documentos en la colección utilizando un único comando:\r\n",
    "\r\n",
    "- El primero tendrá como ID_Pedido el 79159 e Importe total 3.45\r\n",
    "- El segundo tendrá el mismo ID_Pedido (79159), Importe total de 0.23 y Número de items 5.\r\n",
    "- El tercero tendrá el mismo ID_Pedido (79159) y Número de items 8.\r\n",
    "\r\n",
    "(Verifica que se han insertado los tres documentos)"
   ]
  },
  {
   "cell_type": "code",
   "execution_count": 17,
   "id": "bde378c1-a2e4-4bfd-8e41-c3714a8c0fc3",
   "metadata": {},
   "outputs": [
    {
     "name": "stdout",
     "output_type": "stream",
     "text": [
      "ID del documento insertado: 65e78114cd1416084cd958cf\n"
     ]
    }
   ],
   "source": [
    "# Insertar el primer documento\n",
    "documento_1 = {\n",
    "    \"ID_Pedido\": 79159,\n",
    "    \"Importe_total\": 3.45\n",
    "}\n",
    "\n",
    "resultado = db[\"pedidos\"].insert_one(documento_1)\n",
    "print(\"ID del documento insertado:\", resultado.inserted_id)\n"
   ]
  },
  {
   "cell_type": "code",
   "execution_count": 18,
   "id": "388b42bb-b7a6-4549-90aa-d9530379e0cc",
   "metadata": {},
   "outputs": [
    {
     "name": "stdout",
     "output_type": "stream",
     "text": [
      "ID del segundo documento insertado: 65e78117cd1416084cd958d0\n"
     ]
    }
   ],
   "source": [
    "# Insertar el segundo documento\n",
    "documento_2 = {\n",
    "    \"ID_Pedido\": 79159,\n",
    "    \"Importe_total\": 0.23,\n",
    "    \"Numero_de_items\": 5\n",
    "}\n",
    "\n",
    "resultado = db[\"pedidos\"].insert_one(documento_2)\n",
    "print(\"ID del segundo documento insertado:\", resultado.inserted_id)\n"
   ]
  },
  {
   "cell_type": "code",
   "execution_count": 19,
   "id": "d66ecffe-8aef-4f74-9037-bc8cee473065",
   "metadata": {},
   "outputs": [
    {
     "name": "stdout",
     "output_type": "stream",
     "text": [
      "ID del tercer documento insertado: 65e7811acd1416084cd958d1\n"
     ]
    }
   ],
   "source": [
    "# Insertar el tercer documento\n",
    "documento_3 = {\n",
    "    \"ID_Pedido\": 79159,\n",
    "    \"Numero_de_items\": 8\n",
    "}\n",
    "\n",
    "resultado = db[\"pedidos\"].insert_one(documento_3)\n",
    "print(\"ID del tercer documento insertado:\", resultado.inserted_id)\n"
   ]
  },
  {
   "cell_type": "markdown",
   "id": "37075163-b1db-4905-9710-39521a83d01b",
   "metadata": {
    "jp-MarkdownHeadingCollapsed": true
   },
   "source": [
    "# Tarea 3 Consultas (3,5 puntos)"
   ]
  },
  {
   "cell_type": "markdown",
   "id": "217ff55d-0d75-4ba8-942d-1c5a079aefcb",
   "metadata": {},
   "source": [
    "### 1. Dirección asociada al pedido 34789\n",
    "Recupera la dirección asociada al pedido 34789. Solo nos interesa recuperar la dirección con todos sus campos"
   ]
  },
  {
   "cell_type": "code",
   "execution_count": 20,
   "id": "7395d806-5249-493a-b3f7-3531d7922239",
   "metadata": {},
   "outputs": [
    {
     "name": "stdout",
     "output_type": "stream",
     "text": [
      "Datos de dirección del cliente del pedido 34789:\n",
      "{'ID_Dirección': 29, 'Calle': 'Calle de Santa Inés', 'Número': 5, 'Código Postal': 28231, 'Localidad': 'Las rozas', 'Provincia': 'Madrid'}\n"
     ]
    }
   ],
   "source": [
    "pedido_34789 = db[\"pedidos\"].find_one({\"ID_Pedido\": 34789})\n",
    "\n",
    "if pedido_34789:\n",
    "    direccion_cliente_34789 = pedido_34789.get(\"Cliente\", {}).get(\"Dirección\", {})\n",
    "    \n",
    "    print(\"Datos de dirección del cliente del pedido 34789:\")\n",
    "    print(direccion_cliente_34789)\n",
    "else:\n",
    "    print(\"No se encontró el pedido con ID 34789\")\n"
   ]
  },
  {
   "cell_type": "markdown",
   "id": "59f2fe83-dd58-4f22-9a67-0b02af4c7d29",
   "metadata": {},
   "source": [
    "### 2. Número de pedidos que NO disponen de dirección del cliente\n",
    "Calcula el número de pedidos que no disponen de dirección del cliente."
   ]
  },
  {
   "cell_type": "code",
   "execution_count": 21,
   "id": "5f1b8d82-7062-4c47-9a6c-cd4572c24564",
   "metadata": {},
   "outputs": [
    {
     "name": "stdout",
     "output_type": "stream",
     "text": [
      "Número de pedidos sin dirección del cliente: 3014\n"
     ]
    }
   ],
   "source": [
    "num_pedidos_sin_direccion = db[\"pedidos\"].count_documents({\"Direccion\": {\"$exists\": False}})\n",
    "print(\"Número de pedidos sin dirección del cliente:\", num_pedidos_sin_direccion)\n"
   ]
  },
  {
   "cell_type": "markdown",
   "id": "6dbfbe25-a979-4797-adec-b23b83dfa648",
   "metadata": {},
   "source": [
    "### 3. Datos de cliente con el pedido de menor Importe total\r\n",
    "Recupera los datos del cliente con el pedido de menor Importe total, incluyendo su ID_Pedido, Importe total y todos los datos del cliente con su dirección asociada."
   ]
  },
  {
   "cell_type": "code",
   "execution_count": 16,
   "id": "bfae8eee-f2b9-471b-bc93-6305557e49bd",
   "metadata": {},
   "outputs": [
    {
     "name": "stdout",
     "output_type": "stream",
     "text": [
      "Número de pedido con el menor importe total: 79159\n",
      "\n",
      "Datos completos del pedido con el menor importe total:\n",
      "_id: 65e77431dae9ce30ef5b4e2a\n",
      "ID_Pedido: 79159\n",
      "Importe_total: 3.45\n"
     ]
    }
   ],
   "source": [
    "import pymongo\n",
    "\n",
    "pedido_menor_importe = db[\"pedidos\"].find_one({}, sort=[(\"Importe total\", 1)])\n",
    "\n",
    "if pedido_menor_importe:\n",
    "    numero_pedido_menor_importe = pedido_menor_importe[\"ID_Pedido\"]\n",
    "    print(\"Número de pedido con el menor importe total:\", numero_pedido_menor_importe)\n",
    "\n",
    "    pedido_completo_menor_importe = db[\"pedidos\"].find_one({\"ID_Pedido\": numero_pedido_menor_importe})\n",
    "\n",
    "    if pedido_completo_menor_importe:\n",
    "        print(\"\\nDatos completos del pedido con el menor importe total:\")\n",
    "        for key, value in pedido_completo_menor_importe.items():\n",
    "            print(f\"{key}: {value}\")\n",
    "    else:\n",
    "        print(\"No se encontró ningún pedido con el número\", numero_pedido_menor_importe)\n",
    "else:\n",
    "    print(\"No se encontraron pedidos en la base de datos.\")\n"
   ]
  },
  {
   "cell_type": "markdown",
   "id": "24efb4b0-f475-4b0d-ad13-cf8cb3be08ab",
   "metadata": {},
   "source": [
    "### 4. Pedidos cuyo Importe total está entre 2 y 2.1 euros\n",
    "Recupera los ID_Pedido de aquellos pedidos cuyo Importe total está entre 2 y 2.1 euros."
   ]
  },
  {
   "cell_type": "code",
   "execution_count": 14,
   "id": "7985b4c8-832a-4562-87b2-de559f374381",
   "metadata": {},
   "outputs": [
    {
     "name": "stdout",
     "output_type": "stream",
     "text": [
      "ID_Pedido: 67693\n",
      "ID_Pedido: 67960\n",
      "ID_Pedido: 11047\n"
     ]
    }
   ],
   "source": [
    "pedidos_rango_importe = db[\"pedidos\"].find({\"Importe total\": {\"$gte\": 2, \"$lte\": 2.1}}, {\"ID_Pedido\": 1})\n",
    "for pedido in pedidos_rango_importe:\n",
    "    print(\"ID_Pedido:\", pedido[\"ID_Pedido\"])\n"
   ]
  },
  {
   "cell_type": "markdown",
   "id": "d300c2a7-0d08-4177-88bc-5456892cfdcf",
   "metadata": {},
   "source": [
    "### 5. Pedidos que incluyen Pan y Jabón entre sus ítems\n",
    "Recupera los ID_Pedido de aquellos pedidos que incluyen Pan y Jabón entre sus ítems."
   ]
  },
  {
   "cell_type": "code",
   "execution_count": 15,
   "id": "1bfb561d-d061-4d25-8787-23f1a5bef19f",
   "metadata": {},
   "outputs": [],
   "source": [
    "pedidos_pan_jabon = db[\"pedidos\"].find({\"Items\": {\"$all\": [\"Pan\", \"Jabón\"]}}, {\"ID_Pedido\": 1})\n",
    "for pedido in pedidos_pan_jabon:\n",
    "    print(\"ID_Pedido:\", pedido[\"ID_Pedido\"])"
   ]
  }
 ],
 "metadata": {
  "kernelspec": {
   "display_name": "Python 3 (ipykernel)",
   "language": "python",
   "name": "python3"
  },
  "language_info": {
   "codemirror_mode": {
    "name": "ipython",
    "version": 3
   },
   "file_extension": ".py",
   "mimetype": "text/x-python",
   "name": "python",
   "nbconvert_exporter": "python",
   "pygments_lexer": "ipython3",
   "version": "3.11.6"
  }
 },
 "nbformat": 4,
 "nbformat_minor": 5
}
