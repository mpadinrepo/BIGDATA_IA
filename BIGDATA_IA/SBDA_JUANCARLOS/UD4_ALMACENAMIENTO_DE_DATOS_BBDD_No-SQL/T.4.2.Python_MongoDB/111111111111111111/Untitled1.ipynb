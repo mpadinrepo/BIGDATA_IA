{
 "cells": [
  {
   "cell_type": "code",
   "execution_count": 2,
   "id": "f28fff19-8ab3-43bf-a7e9-57227c3a22ff",
   "metadata": {},
   "outputs": [
    {
     "name": "stdout",
     "output_type": "stream",
     "text": [
      "Bases de datos disponibles:\n",
      "READ__ME_TO_RECOVER_YOUR_DATA\n",
      "admin\n",
      "config\n",
      "local\n"
     ]
    }
   ],
   "source": [
    "import pymongo\n",
    "\n",
    "# Establecer la cadena de conexión\n",
    "conexion = \"mongodb://172.18.0.4:27017\"\n",
    "\n",
    "# Establecer credenciales\n",
    "usuario = \"admin\"\n",
    "contraseña = \"abc123...\"\n",
    "\n",
    "try:\n",
    "    # Establecer conexión a MongoDB\n",
    "    cliente = pymongo.MongoClient(conexion, username=usuario, password=contraseña)\n",
    "\n",
    "    # Listar las bases de datos disponibles\n",
    "    bases_de_datos = cliente.list_database_names()\n",
    "\n",
    "    # Imprimir las bases de datos\n",
    "    print(\"Bases de datos disponibles:\")\n",
    "    for db in bases_de_datos:\n",
    "        print(db)\n",
    "\n",
    "except Exception as e:\n",
    "    print(\"Error al conectar a MongoDB:\", e)\n"
   ]
  },
  {
   "cell_type": "code",
   "execution_count": null,
   "id": "d36f4d95-9f66-4641-96e6-4d29ffb62e2b",
   "metadata": {},
   "outputs": [],
   "source": []
  }
 ],
 "metadata": {
  "kernelspec": {
   "display_name": "Python 3 (ipykernel)",
   "language": "python",
   "name": "python3"
  },
  "language_info": {
   "codemirror_mode": {
    "name": "ipython",
    "version": 3
   },
   "file_extension": ".py",
   "mimetype": "text/x-python",
   "name": "python",
   "nbconvert_exporter": "python",
   "pygments_lexer": "ipython3",
   "version": "3.11.6"
  }
 },
 "nbformat": 4,
 "nbformat_minor": 5
}
