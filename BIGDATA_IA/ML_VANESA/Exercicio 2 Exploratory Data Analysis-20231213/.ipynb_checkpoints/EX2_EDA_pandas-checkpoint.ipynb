{
 "cells": [
  {
   "cell_type": "markdown",
   "metadata": {
    "id": "VJkolXWLdP8i"
   },
   "source": [
    "# Exploratory Data Analysis (EDA & Visual EDA) con Pandas\n",
    "#### UD1. Introducción al Machine Learning\n",
    "#### MP. Sistemas de Aprendizaxe Automático\n",
    "#### IES de Teis (Vigo), Cristina Gómez Alonso"
   ]
  },
  {
   "cell_type": "markdown",
   "metadata": {
    "collapsed": true,
    "id": "b1FJ36nZdP8m",
    "jupyter": {
     "outputs_hidden": true
    }
   },
   "source": [
    "En este segundo notebook analizaremos las funciones básicas de Pandas para explorar y analizar datos, así como la creación de gráficos básicos con Matplotlib."
   ]
  },
  {
   "cell_type": "markdown",
   "metadata": {
    "id": "oQsSRvwldP8n"
   },
   "source": [
    "### *Ejercicio 0*\n",
    "\n",
    "Carga en un dataframe el fichero housing.csv. Si consultas la web de [kaggle](https://www.kaggle.com/camnugent/california-housing-prices) entenderás su contenido."
   ]
  },
  {
   "cell_type": "code",
   "execution_count": 2,
   "metadata": {
    "id": "arfdSXQNdP8o",
    "outputId": "b6acb691-fdec-490c-9f94-8b16e8ea66c4",
    "pycharm": {
     "name": "#%%\n"
    }
   },
   "outputs": [
    {
     "data": {
      "text/html": [
       "<div>\n",
       "<style scoped>\n",
       "    .dataframe tbody tr th:only-of-type {\n",
       "        vertical-align: middle;\n",
       "    }\n",
       "\n",
       "    .dataframe tbody tr th {\n",
       "        vertical-align: top;\n",
       "    }\n",
       "\n",
       "    .dataframe thead th {\n",
       "        text-align: right;\n",
       "    }\n",
       "</style>\n",
       "<table border=\"1\" class=\"dataframe\">\n",
       "  <thead>\n",
       "    <tr style=\"text-align: right;\">\n",
       "      <th></th>\n",
       "      <th>longitude</th>\n",
       "      <th>latitude</th>\n",
       "      <th>housing_median_age</th>\n",
       "      <th>total_rooms</th>\n",
       "      <th>total_bedrooms</th>\n",
       "      <th>population</th>\n",
       "      <th>households</th>\n",
       "      <th>median_income</th>\n",
       "      <th>ocean_proximity</th>\n",
       "      <th>median_house_value</th>\n",
       "    </tr>\n",
       "  </thead>\n",
       "  <tbody>\n",
       "    <tr>\n",
       "      <th>0</th>\n",
       "      <td>-122.23</td>\n",
       "      <td>37.88</td>\n",
       "      <td>41</td>\n",
       "      <td>880</td>\n",
       "      <td>129.0</td>\n",
       "      <td>322</td>\n",
       "      <td>126</td>\n",
       "      <td>8.3252</td>\n",
       "      <td>NEAR BAY</td>\n",
       "      <td>452600</td>\n",
       "    </tr>\n",
       "    <tr>\n",
       "      <th>1</th>\n",
       "      <td>-122.22</td>\n",
       "      <td>37.86</td>\n",
       "      <td>21</td>\n",
       "      <td>7099</td>\n",
       "      <td>1106.0</td>\n",
       "      <td>2401</td>\n",
       "      <td>1138</td>\n",
       "      <td>8.3014</td>\n",
       "      <td>NEAR BAY</td>\n",
       "      <td>358500</td>\n",
       "    </tr>\n",
       "    <tr>\n",
       "      <th>2</th>\n",
       "      <td>-122.24</td>\n",
       "      <td>37.85</td>\n",
       "      <td>52</td>\n",
       "      <td>1467</td>\n",
       "      <td>190.0</td>\n",
       "      <td>496</td>\n",
       "      <td>177</td>\n",
       "      <td>7.2574</td>\n",
       "      <td>NEAR BAY</td>\n",
       "      <td>352100</td>\n",
       "    </tr>\n",
       "    <tr>\n",
       "      <th>3</th>\n",
       "      <td>-122.25</td>\n",
       "      <td>37.85</td>\n",
       "      <td>52</td>\n",
       "      <td>1274</td>\n",
       "      <td>235.0</td>\n",
       "      <td>558</td>\n",
       "      <td>219</td>\n",
       "      <td>5.6431</td>\n",
       "      <td>NEAR BAY</td>\n",
       "      <td>341300</td>\n",
       "    </tr>\n",
       "    <tr>\n",
       "      <th>4</th>\n",
       "      <td>-122.25</td>\n",
       "      <td>37.85</td>\n",
       "      <td>52</td>\n",
       "      <td>1627</td>\n",
       "      <td>280.0</td>\n",
       "      <td>565</td>\n",
       "      <td>259</td>\n",
       "      <td>3.8462</td>\n",
       "      <td>NEAR BAY</td>\n",
       "      <td>342200</td>\n",
       "    </tr>\n",
       "  </tbody>\n",
       "</table>\n",
       "</div>"
      ],
      "text/plain": [
       "   longitude  latitude  housing_median_age  total_rooms  total_bedrooms  \\\n",
       "0    -122.23     37.88                  41          880           129.0   \n",
       "1    -122.22     37.86                  21         7099          1106.0   \n",
       "2    -122.24     37.85                  52         1467           190.0   \n",
       "3    -122.25     37.85                  52         1274           235.0   \n",
       "4    -122.25     37.85                  52         1627           280.0   \n",
       "\n",
       "   population  households  median_income ocean_proximity  median_house_value  \n",
       "0         322         126         8.3252        NEAR BAY              452600  \n",
       "1        2401        1138         8.3014        NEAR BAY              358500  \n",
       "2         496         177         7.2574        NEAR BAY              352100  \n",
       "3         558         219         5.6431        NEAR BAY              341300  \n",
       "4         565         259         3.8462        NEAR BAY              342200  "
      ]
     },
     "execution_count": 2,
     "metadata": {},
     "output_type": "execute_result"
    }
   ],
   "source": [
    "import pandas as pd\n",
    "\n",
    "viviendas = pd.read_csv('housing.csv', index_col=False)\n",
    "viviendas.head()"
   ]
  },
  {
   "cell_type": "markdown",
   "metadata": {
    "id": "CPJeiOCidP8q"
   },
   "source": [
    "## 1. Estructura básica e inspección\n",
    "\n",
    "Las tablas en `pandas` son objetos de la clase `DataFrames`. Un `DataFrame` consta de dos partes: un índice y los datos propiamente dichos. Las columnas de los datos son de la clase `Series`."
   ]
  },
  {
   "cell_type": "markdown",
   "metadata": {
    "id": "f3vqtjuAdP8q"
   },
   "source": [
    "Para consultar las columnas de un `DataFrame`, accedemos a la propiedad `columns`."
   ]
  },
  {
   "cell_type": "code",
   "execution_count": 3,
   "metadata": {
    "id": "Usd1tweidP8r",
    "outputId": "910c3ba9-fa5d-4feb-b076-4b4809913ac0"
   },
   "outputs": [
    {
     "data": {
      "text/plain": [
       "Index(['longitude', 'latitude', 'housing_median_age', 'total_rooms',\n",
       "       'total_bedrooms', 'population', 'households', 'median_income',\n",
       "       'ocean_proximity', 'median_house_value'],\n",
       "      dtype='object')"
      ]
     },
     "execution_count": 3,
     "metadata": {},
     "output_type": "execute_result"
    }
   ],
   "source": [
    "viviendas.columns"
   ]
  },
  {
   "cell_type": "markdown",
   "metadata": {
    "id": "BKlOz_7IdP8r"
   },
   "source": [
    "Si además queremos saber el tipo del dato, accedemos a la propiedad `dtypes`.\n",
    "\n",
    "*Nota*: las cadenas de texto se marcan como `object` dentro de un DataFrame"
   ]
  },
  {
   "cell_type": "code",
   "execution_count": 4,
   "metadata": {
    "id": "iosq59EudP8s",
    "outputId": "2aceb39d-049f-4ca9-90c3-c8a8a6203611"
   },
   "outputs": [
    {
     "data": {
      "text/plain": [
       "longitude             float64\n",
       "latitude              float64\n",
       "housing_median_age      int64\n",
       "total_rooms             int64\n",
       "total_bedrooms        float64\n",
       "population              int64\n",
       "households              int64\n",
       "median_income         float64\n",
       "ocean_proximity        object\n",
       "median_house_value      int64\n",
       "dtype: object"
      ]
     },
     "execution_count": 4,
     "metadata": {},
     "output_type": "execute_result"
    }
   ],
   "source": [
    "viviendas.dtypes"
   ]
  },
  {
   "cell_type": "markdown",
   "metadata": {
    "id": "uja6yWG8dP8t"
   },
   "source": [
    "Cada `DataFrame` tiene un índice. Si no lo hemos especificado, será un incremental sin relación con nuestros datos. El uso de índices está recomendado cuando tratamos con datos grandes, ya que permite acceder a las filas por _hash_ en lugar de tener que iterar por todas ellas para encontrar el valor que se busca. Los índices también son importantes a la hora de realizar agregaciones y cruces entre tablas.\n",
    "\n",
    "Para consultar cuál es el índice de un DataFrame, accedemos a la propiedad `index`."
   ]
  },
  {
   "cell_type": "code",
   "execution_count": 5,
   "metadata": {
    "id": "P7tshDfWdP8u",
    "outputId": "3fc7a5c3-0aa2-4026-8596-9970683d3a57"
   },
   "outputs": [
    {
     "data": {
      "text/plain": [
       "RangeIndex(start=0, stop=20640, step=1)"
      ]
     },
     "execution_count": 5,
     "metadata": {},
     "output_type": "execute_result"
    }
   ],
   "source": [
    "viviendas.index"
   ]
  },
  {
   "cell_type": "markdown",
   "metadata": {
    "id": "YCRXOLpkdP8u"
   },
   "source": [
    "Podemos alterarlo con `set_index`. El nuevo índice puede ser una o varias columnas."
   ]
  },
  {
   "cell_type": "code",
   "execution_count": 6,
   "metadata": {
    "id": "SOA-VBkZdP8u",
    "outputId": "2eac2f6b-0bcc-4e37-a4f3-c5cfe3bc7f57"
   },
   "outputs": [
    {
     "data": {
      "text/plain": [
       "MultiIndex([('NEAR BAY',  126),\n",
       "            ('NEAR BAY', 1138),\n",
       "            ('NEAR BAY',  177),\n",
       "            ('NEAR BAY',  219),\n",
       "            ('NEAR BAY',  259),\n",
       "            ('NEAR BAY',  193),\n",
       "            ('NEAR BAY',  514),\n",
       "            ('NEAR BAY',  647),\n",
       "            ('NEAR BAY',  595),\n",
       "            ('NEAR BAY',  714),\n",
       "            ...\n",
       "            (  'INLAND',  445),\n",
       "            (  'INLAND',  432),\n",
       "            (  'INLAND',  385),\n",
       "            (  'INLAND',  382),\n",
       "            (  'INLAND',  344),\n",
       "            (  'INLAND',  330),\n",
       "            (  'INLAND',  114),\n",
       "            (  'INLAND',  433),\n",
       "            (  'INLAND',  349),\n",
       "            (  'INLAND',  530)],\n",
       "           names=['ocean_proximity', 'households'], length=20640)"
      ]
     },
     "execution_count": 6,
     "metadata": {},
     "output_type": "execute_result"
    }
   ],
   "source": [
    "viviendas_nuevo_indice = viviendas.set_index(['ocean_proximity', 'households'])\n",
    "viviendas_nuevo_indice.head()\n",
    "viviendas_nuevo_indice.index"
   ]
  },
  {
   "cell_type": "markdown",
   "metadata": {
    "id": "NEKIZ92gdP8v"
   },
   "source": [
    "Una forma rápida de echar un vistazo a los datos es consultas las primeras o últimas filas del DataFrame, con las funciones `head` y `tail`."
   ]
  },
  {
   "cell_type": "code",
   "execution_count": 7,
   "metadata": {
    "id": "sOSkdxC8dP8v",
    "outputId": "f4fecc90-816e-4d1b-ceaf-7f1098c25c81"
   },
   "outputs": [
    {
     "data": {
      "text/html": [
       "<div>\n",
       "<style scoped>\n",
       "    .dataframe tbody tr th:only-of-type {\n",
       "        vertical-align: middle;\n",
       "    }\n",
       "\n",
       "    .dataframe tbody tr th {\n",
       "        vertical-align: top;\n",
       "    }\n",
       "\n",
       "    .dataframe thead th {\n",
       "        text-align: right;\n",
       "    }\n",
       "</style>\n",
       "<table border=\"1\" class=\"dataframe\">\n",
       "  <thead>\n",
       "    <tr style=\"text-align: right;\">\n",
       "      <th></th>\n",
       "      <th>longitude</th>\n",
       "      <th>latitude</th>\n",
       "      <th>housing_median_age</th>\n",
       "      <th>total_rooms</th>\n",
       "      <th>total_bedrooms</th>\n",
       "      <th>population</th>\n",
       "      <th>households</th>\n",
       "      <th>median_income</th>\n",
       "      <th>ocean_proximity</th>\n",
       "      <th>median_house_value</th>\n",
       "    </tr>\n",
       "  </thead>\n",
       "  <tbody>\n",
       "    <tr>\n",
       "      <th>0</th>\n",
       "      <td>-122.23</td>\n",
       "      <td>37.88</td>\n",
       "      <td>41</td>\n",
       "      <td>880</td>\n",
       "      <td>129.0</td>\n",
       "      <td>322</td>\n",
       "      <td>126</td>\n",
       "      <td>8.3252</td>\n",
       "      <td>NEAR BAY</td>\n",
       "      <td>452600</td>\n",
       "    </tr>\n",
       "    <tr>\n",
       "      <th>1</th>\n",
       "      <td>-122.22</td>\n",
       "      <td>37.86</td>\n",
       "      <td>21</td>\n",
       "      <td>7099</td>\n",
       "      <td>1106.0</td>\n",
       "      <td>2401</td>\n",
       "      <td>1138</td>\n",
       "      <td>8.3014</td>\n",
       "      <td>NEAR BAY</td>\n",
       "      <td>358500</td>\n",
       "    </tr>\n",
       "    <tr>\n",
       "      <th>2</th>\n",
       "      <td>-122.24</td>\n",
       "      <td>37.85</td>\n",
       "      <td>52</td>\n",
       "      <td>1467</td>\n",
       "      <td>190.0</td>\n",
       "      <td>496</td>\n",
       "      <td>177</td>\n",
       "      <td>7.2574</td>\n",
       "      <td>NEAR BAY</td>\n",
       "      <td>352100</td>\n",
       "    </tr>\n",
       "    <tr>\n",
       "      <th>3</th>\n",
       "      <td>-122.25</td>\n",
       "      <td>37.85</td>\n",
       "      <td>52</td>\n",
       "      <td>1274</td>\n",
       "      <td>235.0</td>\n",
       "      <td>558</td>\n",
       "      <td>219</td>\n",
       "      <td>5.6431</td>\n",
       "      <td>NEAR BAY</td>\n",
       "      <td>341300</td>\n",
       "    </tr>\n",
       "    <tr>\n",
       "      <th>4</th>\n",
       "      <td>-122.25</td>\n",
       "      <td>37.85</td>\n",
       "      <td>52</td>\n",
       "      <td>1627</td>\n",
       "      <td>280.0</td>\n",
       "      <td>565</td>\n",
       "      <td>259</td>\n",
       "      <td>3.8462</td>\n",
       "      <td>NEAR BAY</td>\n",
       "      <td>342200</td>\n",
       "    </tr>\n",
       "  </tbody>\n",
       "</table>\n",
       "</div>"
      ],
      "text/plain": [
       "   longitude  latitude  housing_median_age  total_rooms  total_bedrooms  \\\n",
       "0    -122.23     37.88                  41          880           129.0   \n",
       "1    -122.22     37.86                  21         7099          1106.0   \n",
       "2    -122.24     37.85                  52         1467           190.0   \n",
       "3    -122.25     37.85                  52         1274           235.0   \n",
       "4    -122.25     37.85                  52         1627           280.0   \n",
       "\n",
       "   population  households  median_income ocean_proximity  median_house_value  \n",
       "0         322         126         8.3252        NEAR BAY              452600  \n",
       "1        2401        1138         8.3014        NEAR BAY              358500  \n",
       "2         496         177         7.2574        NEAR BAY              352100  \n",
       "3         558         219         5.6431        NEAR BAY              341300  \n",
       "4         565         259         3.8462        NEAR BAY              342200  "
      ]
     },
     "execution_count": 7,
     "metadata": {},
     "output_type": "execute_result"
    }
   ],
   "source": [
    "viviendas.head()"
   ]
  },
  {
   "cell_type": "code",
   "execution_count": 8,
   "metadata": {
    "id": "VwHY2zFJdP8v",
    "outputId": "fd3992cb-8cf5-4f44-d871-f7cd1426440b"
   },
   "outputs": [
    {
     "data": {
      "text/html": [
       "<div>\n",
       "<style scoped>\n",
       "    .dataframe tbody tr th:only-of-type {\n",
       "        vertical-align: middle;\n",
       "    }\n",
       "\n",
       "    .dataframe tbody tr th {\n",
       "        vertical-align: top;\n",
       "    }\n",
       "\n",
       "    .dataframe thead th {\n",
       "        text-align: right;\n",
       "    }\n",
       "</style>\n",
       "<table border=\"1\" class=\"dataframe\">\n",
       "  <thead>\n",
       "    <tr style=\"text-align: right;\">\n",
       "      <th></th>\n",
       "      <th>longitude</th>\n",
       "      <th>latitude</th>\n",
       "      <th>housing_median_age</th>\n",
       "      <th>total_rooms</th>\n",
       "      <th>total_bedrooms</th>\n",
       "      <th>population</th>\n",
       "      <th>households</th>\n",
       "      <th>median_income</th>\n",
       "      <th>ocean_proximity</th>\n",
       "      <th>median_house_value</th>\n",
       "    </tr>\n",
       "  </thead>\n",
       "  <tbody>\n",
       "    <tr>\n",
       "      <th>20635</th>\n",
       "      <td>-121.09</td>\n",
       "      <td>39.48</td>\n",
       "      <td>25</td>\n",
       "      <td>1665</td>\n",
       "      <td>374.0</td>\n",
       "      <td>845</td>\n",
       "      <td>330</td>\n",
       "      <td>1.5603</td>\n",
       "      <td>INLAND</td>\n",
       "      <td>78100</td>\n",
       "    </tr>\n",
       "    <tr>\n",
       "      <th>20636</th>\n",
       "      <td>-121.21</td>\n",
       "      <td>39.49</td>\n",
       "      <td>18</td>\n",
       "      <td>697</td>\n",
       "      <td>150.0</td>\n",
       "      <td>356</td>\n",
       "      <td>114</td>\n",
       "      <td>2.5568</td>\n",
       "      <td>INLAND</td>\n",
       "      <td>77100</td>\n",
       "    </tr>\n",
       "    <tr>\n",
       "      <th>20637</th>\n",
       "      <td>-121.22</td>\n",
       "      <td>39.43</td>\n",
       "      <td>17</td>\n",
       "      <td>2254</td>\n",
       "      <td>485.0</td>\n",
       "      <td>1007</td>\n",
       "      <td>433</td>\n",
       "      <td>1.7000</td>\n",
       "      <td>INLAND</td>\n",
       "      <td>92300</td>\n",
       "    </tr>\n",
       "    <tr>\n",
       "      <th>20638</th>\n",
       "      <td>-121.32</td>\n",
       "      <td>39.43</td>\n",
       "      <td>18</td>\n",
       "      <td>1860</td>\n",
       "      <td>409.0</td>\n",
       "      <td>741</td>\n",
       "      <td>349</td>\n",
       "      <td>1.8672</td>\n",
       "      <td>INLAND</td>\n",
       "      <td>84700</td>\n",
       "    </tr>\n",
       "    <tr>\n",
       "      <th>20639</th>\n",
       "      <td>-121.24</td>\n",
       "      <td>39.37</td>\n",
       "      <td>16</td>\n",
       "      <td>2785</td>\n",
       "      <td>616.0</td>\n",
       "      <td>1387</td>\n",
       "      <td>530</td>\n",
       "      <td>2.3886</td>\n",
       "      <td>INLAND</td>\n",
       "      <td>89400</td>\n",
       "    </tr>\n",
       "  </tbody>\n",
       "</table>\n",
       "</div>"
      ],
      "text/plain": [
       "       longitude  latitude  housing_median_age  total_rooms  total_bedrooms  \\\n",
       "20635    -121.09     39.48                  25         1665           374.0   \n",
       "20636    -121.21     39.49                  18          697           150.0   \n",
       "20637    -121.22     39.43                  17         2254           485.0   \n",
       "20638    -121.32     39.43                  18         1860           409.0   \n",
       "20639    -121.24     39.37                  16         2785           616.0   \n",
       "\n",
       "       population  households  median_income ocean_proximity  \\\n",
       "20635         845         330         1.5603          INLAND   \n",
       "20636         356         114         2.5568          INLAND   \n",
       "20637        1007         433         1.7000          INLAND   \n",
       "20638         741         349         1.8672          INLAND   \n",
       "20639        1387         530         2.3886          INLAND   \n",
       "\n",
       "       median_house_value  \n",
       "20635               78100  \n",
       "20636               77100  \n",
       "20637               92300  \n",
       "20638               84700  \n",
       "20639               89400  "
      ]
     },
     "execution_count": 8,
     "metadata": {},
     "output_type": "execute_result"
    }
   ],
   "source": [
    "viviendas.tail()"
   ]
  },
  {
   "cell_type": "markdown",
   "metadata": {
    "id": "ROJUwiw-dP8w"
   },
   "source": [
    "Podemos seleccionar un listado de columnas a devolver de la siguiente forma:"
   ]
  },
  {
   "cell_type": "code",
   "execution_count": 9,
   "metadata": {
    "id": "gnyNIvFudP8w",
    "outputId": "3f2ba8a0-2097-4dad-9cf1-1b5d0a947bd0"
   },
   "outputs": [
    {
     "data": {
      "text/html": [
       "<div>\n",
       "<style scoped>\n",
       "    .dataframe tbody tr th:only-of-type {\n",
       "        vertical-align: middle;\n",
       "    }\n",
       "\n",
       "    .dataframe tbody tr th {\n",
       "        vertical-align: top;\n",
       "    }\n",
       "\n",
       "    .dataframe thead th {\n",
       "        text-align: right;\n",
       "    }\n",
       "</style>\n",
       "<table border=\"1\" class=\"dataframe\">\n",
       "  <thead>\n",
       "    <tr style=\"text-align: right;\">\n",
       "      <th></th>\n",
       "      <th>housing_median_age</th>\n",
       "      <th>population</th>\n",
       "    </tr>\n",
       "  </thead>\n",
       "  <tbody>\n",
       "    <tr>\n",
       "      <th>0</th>\n",
       "      <td>41</td>\n",
       "      <td>322</td>\n",
       "    </tr>\n",
       "    <tr>\n",
       "      <th>1</th>\n",
       "      <td>21</td>\n",
       "      <td>2401</td>\n",
       "    </tr>\n",
       "    <tr>\n",
       "      <th>2</th>\n",
       "      <td>52</td>\n",
       "      <td>496</td>\n",
       "    </tr>\n",
       "    <tr>\n",
       "      <th>3</th>\n",
       "      <td>52</td>\n",
       "      <td>558</td>\n",
       "    </tr>\n",
       "    <tr>\n",
       "      <th>4</th>\n",
       "      <td>52</td>\n",
       "      <td>565</td>\n",
       "    </tr>\n",
       "  </tbody>\n",
       "</table>\n",
       "</div>"
      ],
      "text/plain": [
       "   housing_median_age  population\n",
       "0                  41         322\n",
       "1                  21        2401\n",
       "2                  52         496\n",
       "3                  52         558\n",
       "4                  52         565"
      ]
     },
     "execution_count": 9,
     "metadata": {},
     "output_type": "execute_result"
    }
   ],
   "source": [
    "viviendas[['housing_median_age', 'population']].head()"
   ]
  },
  {
   "cell_type": "markdown",
   "metadata": {
    "id": "3NiwCZjtdP8w"
   },
   "source": [
    "Para conocer el número de filas de una tabla hay varias opciones:"
   ]
  },
  {
   "cell_type": "code",
   "execution_count": 10,
   "metadata": {
    "id": "hQVwGAfEdP8x",
    "outputId": "f21308bc-c1ab-493d-e484-52aba2ead46d"
   },
   "outputs": [
    {
     "data": {
      "text/plain": [
       "20640"
      ]
     },
     "execution_count": 10,
     "metadata": {},
     "output_type": "execute_result"
    }
   ],
   "source": [
    "len(viviendas)"
   ]
  },
  {
   "cell_type": "code",
   "execution_count": 11,
   "metadata": {
    "id": "DWfNvlI0dP8x",
    "outputId": "b6140c9f-469a-4a04-c30c-6e23504e9a1b"
   },
   "outputs": [
    {
     "data": {
      "text/plain": [
       "(20640, 10)"
      ]
     },
     "execution_count": 11,
     "metadata": {},
     "output_type": "execute_result"
    }
   ],
   "source": [
    "viviendas.shape"
   ]
  },
  {
   "cell_type": "markdown",
   "metadata": {
    "id": "dKcxXhDGdP8y"
   },
   "source": [
    "##### Nota\n",
    "\n",
    "El índice no forma parte propiamente de los datos:"
   ]
  },
  {
   "cell_type": "code",
   "execution_count": 12,
   "metadata": {
    "id": "2fDY6weJdP8y",
    "outputId": "598d7055-dedb-4fc6-c03d-d5e777b1c51c"
   },
   "outputs": [
    {
     "data": {
      "text/plain": [
       "(20640, 8)"
      ]
     },
     "execution_count": 12,
     "metadata": {},
     "output_type": "execute_result"
    }
   ],
   "source": [
    "viviendas_nuevo_indice.shape"
   ]
  },
  {
   "cell_type": "markdown",
   "metadata": {
    "id": "Z3bzCxYBdP8y"
   },
   "source": [
    "### *Ejercicio 1*\n",
    "\n",
    "* Carga en un dataframe el csv `dat/alquiler-madrid-municipios.csv` en una variable que se llame `alquiler`\n",
    "* Examina las primeras y últimas filas\n",
    "* Extrae el número de filas y columnas"
   ]
  },
  {
   "cell_type": "code",
   "execution_count": 14,
   "metadata": {
    "id": "gvaOC1xldP8z"
   },
   "outputs": [
    {
     "data": {
      "text/html": [
       "<div>\n",
       "<style scoped>\n",
       "    .dataframe tbody tr th:only-of-type {\n",
       "        vertical-align: middle;\n",
       "    }\n",
       "\n",
       "    .dataframe tbody tr th {\n",
       "        vertical-align: top;\n",
       "    }\n",
       "\n",
       "    .dataframe thead th {\n",
       "        text-align: right;\n",
       "    }\n",
       "</style>\n",
       "<table border=\"1\" class=\"dataframe\">\n",
       "  <thead>\n",
       "    <tr style=\"text-align: right;\">\n",
       "      <th></th>\n",
       "      <th>municipio</th>\n",
       "      <th>ano</th>\n",
       "      <th>quarter</th>\n",
       "      <th>precio</th>\n",
       "    </tr>\n",
       "  </thead>\n",
       "  <tbody>\n",
       "    <tr>\n",
       "      <th>0</th>\n",
       "      <td>Alcalá De Henares</td>\n",
       "      <td>2009</td>\n",
       "      <td>4</td>\n",
       "      <td>8.561386</td>\n",
       "    </tr>\n",
       "    <tr>\n",
       "      <th>1</th>\n",
       "      <td>Alcobendas</td>\n",
       "      <td>2009</td>\n",
       "      <td>4</td>\n",
       "      <td>NaN</td>\n",
       "    </tr>\n",
       "    <tr>\n",
       "      <th>2</th>\n",
       "      <td>Alcorcón</td>\n",
       "      <td>2009</td>\n",
       "      <td>4</td>\n",
       "      <td>8.792037</td>\n",
       "    </tr>\n",
       "    <tr>\n",
       "      <th>3</th>\n",
       "      <td>Alpedrete</td>\n",
       "      <td>2009</td>\n",
       "      <td>4</td>\n",
       "      <td>NaN</td>\n",
       "    </tr>\n",
       "    <tr>\n",
       "      <th>4</th>\n",
       "      <td>Aranjuez</td>\n",
       "      <td>2009</td>\n",
       "      <td>4</td>\n",
       "      <td>7.750625</td>\n",
       "    </tr>\n",
       "    <tr>\n",
       "      <th>...</th>\n",
       "      <td>...</td>\n",
       "      <td>...</td>\n",
       "      <td>...</td>\n",
       "      <td>...</td>\n",
       "    </tr>\n",
       "    <tr>\n",
       "      <th>1185</th>\n",
       "      <td>Torrelodones</td>\n",
       "      <td>2018</td>\n",
       "      <td>2</td>\n",
       "      <td>10.553534</td>\n",
       "    </tr>\n",
       "    <tr>\n",
       "      <th>1186</th>\n",
       "      <td>Tres Cantos</td>\n",
       "      <td>2018</td>\n",
       "      <td>2</td>\n",
       "      <td>10.781348</td>\n",
       "    </tr>\n",
       "    <tr>\n",
       "      <th>1187</th>\n",
       "      <td>Valdemoro</td>\n",
       "      <td>2018</td>\n",
       "      <td>2</td>\n",
       "      <td>7.812653</td>\n",
       "    </tr>\n",
       "    <tr>\n",
       "      <th>1188</th>\n",
       "      <td>Villanueva De La Cañada</td>\n",
       "      <td>2018</td>\n",
       "      <td>2</td>\n",
       "      <td>11.632276</td>\n",
       "    </tr>\n",
       "    <tr>\n",
       "      <th>1189</th>\n",
       "      <td>Villaviciosa De Odón</td>\n",
       "      <td>2018</td>\n",
       "      <td>2</td>\n",
       "      <td>14.050801</td>\n",
       "    </tr>\n",
       "  </tbody>\n",
       "</table>\n",
       "<p>1190 rows × 4 columns</p>\n",
       "</div>"
      ],
      "text/plain": [
       "                    municipio   ano  quarter     precio\n",
       "0           Alcalá De Henares  2009        4   8.561386\n",
       "1                  Alcobendas  2009        4        NaN\n",
       "2                    Alcorcón  2009        4   8.792037\n",
       "3                   Alpedrete  2009        4        NaN\n",
       "4                    Aranjuez  2009        4   7.750625\n",
       "...                       ...   ...      ...        ...\n",
       "1185             Torrelodones  2018        2  10.553534\n",
       "1186              Tres Cantos  2018        2  10.781348\n",
       "1187                Valdemoro  2018        2   7.812653\n",
       "1188  Villanueva De La Cañada  2018        2  11.632276\n",
       "1189     Villaviciosa De Odón  2018        2  14.050801\n",
       "\n",
       "[1190 rows x 4 columns]"
      ]
     },
     "execution_count": 14,
     "metadata": {},
     "output_type": "execute_result"
    }
   ],
   "source": [
    "alquiler = pd.read_csv(\"alquiler-madrid-municipios.csv\")\n",
    "alquiler"
   ]
  },
  {
   "cell_type": "markdown",
   "metadata": {
    "id": "Od6Un85cdP8z"
   },
   "source": [
    "## 2. Filtro y selección"
   ]
  },
  {
   "cell_type": "markdown",
   "metadata": {
    "id": "lzl3npEedP8z"
   },
   "source": [
    "Hay tres operadores fundamentales para seleccionar filas y columnas: `loc`, `iloc` y `[]`. La diferencia fundamental entre `loc` e `iloc` es que el primero requiere _etiquetas_ y el segundo, índices numéricos (la `i` inicial viene de `integer`).\n",
    "\n",
    "\n",
    "### 2.1. Selección por índices numéricos\n",
    "\n",
    "Para acceder por posición usando índices numéricos, se usa `iloc[]`, como en los siguientes ejemplos:"
   ]
  },
  {
   "cell_type": "code",
   "execution_count": 15,
   "metadata": {
    "id": "GFALNIHadP8z",
    "outputId": "d2f3f9b6-3403-473e-8cab-0e30b1e2a134"
   },
   "outputs": [
    {
     "data": {
      "text/plain": [
       "longitude              -122.2300\n",
       "latitude                 37.7800\n",
       "housing_median_age       52.0000\n",
       "total_rooms             862.0000\n",
       "total_bedrooms          215.0000\n",
       "population              994.0000\n",
       "median_income             3.0257\n",
       "median_house_value    80800.0000\n",
       "Name: (NEAR BAY, 213), dtype: float64"
      ]
     },
     "execution_count": 15,
     "metadata": {},
     "output_type": "execute_result"
    }
   ],
   "source": [
    "# por defecto, seleccionamos filas\n",
    "viviendas_nuevo_indice.iloc[200]"
   ]
  },
  {
   "cell_type": "code",
   "execution_count": 16,
   "metadata": {
    "id": "5Fm85BuzdP80",
    "outputId": "29070ec5-4a65-4023-b26e-a1687e246d16"
   },
   "outputs": [
    {
     "data": {
      "text/html": [
       "<div>\n",
       "<style scoped>\n",
       "    .dataframe tbody tr th:only-of-type {\n",
       "        vertical-align: middle;\n",
       "    }\n",
       "\n",
       "    .dataframe tbody tr th {\n",
       "        vertical-align: top;\n",
       "    }\n",
       "\n",
       "    .dataframe thead th {\n",
       "        text-align: right;\n",
       "    }\n",
       "</style>\n",
       "<table border=\"1\" class=\"dataframe\">\n",
       "  <thead>\n",
       "    <tr style=\"text-align: right;\">\n",
       "      <th></th>\n",
       "      <th>latitude</th>\n",
       "      <th>housing_median_age</th>\n",
       "      <th>total_rooms</th>\n",
       "      <th>total_bedrooms</th>\n",
       "      <th>population</th>\n",
       "      <th>households</th>\n",
       "      <th>median_income</th>\n",
       "      <th>ocean_proximity</th>\n",
       "      <th>median_house_value</th>\n",
       "    </tr>\n",
       "  </thead>\n",
       "  <tbody>\n",
       "    <tr>\n",
       "      <th>3</th>\n",
       "      <td>37.85</td>\n",
       "      <td>52</td>\n",
       "      <td>1274</td>\n",
       "      <td>235.0</td>\n",
       "      <td>558</td>\n",
       "      <td>219</td>\n",
       "      <td>5.6431</td>\n",
       "      <td>NEAR BAY</td>\n",
       "      <td>341300</td>\n",
       "    </tr>\n",
       "    <tr>\n",
       "      <th>4</th>\n",
       "      <td>37.85</td>\n",
       "      <td>52</td>\n",
       "      <td>1627</td>\n",
       "      <td>280.0</td>\n",
       "      <td>565</td>\n",
       "      <td>259</td>\n",
       "      <td>3.8462</td>\n",
       "      <td>NEAR BAY</td>\n",
       "      <td>342200</td>\n",
       "    </tr>\n",
       "  </tbody>\n",
       "</table>\n",
       "</div>"
      ],
      "text/plain": [
       "   latitude  housing_median_age  total_rooms  total_bedrooms  population  \\\n",
       "3     37.85                  52         1274           235.0         558   \n",
       "4     37.85                  52         1627           280.0         565   \n",
       "\n",
       "   households  median_income ocean_proximity  median_house_value  \n",
       "3         219         5.6431        NEAR BAY              341300  \n",
       "4         259         3.8462        NEAR BAY              342200  "
      ]
     },
     "execution_count": 16,
     "metadata": {},
     "output_type": "execute_result"
    }
   ],
   "source": [
    "# pero también se pueden seleccionar filas y columnas\n",
    "# además, usando rangos\n",
    "viviendas.iloc[3:5, 1:]"
   ]
  },
  {
   "cell_type": "code",
   "execution_count": 17,
   "metadata": {
    "id": "akOumN8qdP80",
    "outputId": "a0b9055e-6012-4200-f68f-47cca321ff16"
   },
   "outputs": [
    {
     "data": {
      "text/html": [
       "<div>\n",
       "<style scoped>\n",
       "    .dataframe tbody tr th:only-of-type {\n",
       "        vertical-align: middle;\n",
       "    }\n",
       "\n",
       "    .dataframe tbody tr th {\n",
       "        vertical-align: top;\n",
       "    }\n",
       "\n",
       "    .dataframe thead th {\n",
       "        text-align: right;\n",
       "    }\n",
       "</style>\n",
       "<table border=\"1\" class=\"dataframe\">\n",
       "  <thead>\n",
       "    <tr style=\"text-align: right;\">\n",
       "      <th></th>\n",
       "      <th>longitude</th>\n",
       "      <th>total_rooms</th>\n",
       "    </tr>\n",
       "  </thead>\n",
       "  <tbody>\n",
       "    <tr>\n",
       "      <th>1</th>\n",
       "      <td>-122.22</td>\n",
       "      <td>7099</td>\n",
       "    </tr>\n",
       "    <tr>\n",
       "      <th>2</th>\n",
       "      <td>-122.24</td>\n",
       "      <td>1467</td>\n",
       "    </tr>\n",
       "    <tr>\n",
       "      <th>4</th>\n",
       "      <td>-122.25</td>\n",
       "      <td>1627</td>\n",
       "    </tr>\n",
       "  </tbody>\n",
       "</table>\n",
       "</div>"
      ],
      "text/plain": [
       "   longitude  total_rooms\n",
       "1    -122.22         7099\n",
       "2    -122.24         1467\n",
       "4    -122.25         1627"
      ]
     },
     "execution_count": 17,
     "metadata": {},
     "output_type": "execute_result"
    }
   ],
   "source": [
    "# índices no consecutivos\n",
    "# recuerda: en python, se empieza a contar en 0\n",
    "viviendas.iloc[[1, 2, 4], [0, 3]]"
   ]
  },
  {
   "cell_type": "code",
   "execution_count": 18,
   "metadata": {
    "id": "SHK54iMydP80",
    "outputId": "f92ccbda-96f8-42d9-fe4a-62f2ee40db49"
   },
   "outputs": [
    {
     "data": {
      "text/html": [
       "<div>\n",
       "<style scoped>\n",
       "    .dataframe tbody tr th:only-of-type {\n",
       "        vertical-align: middle;\n",
       "    }\n",
       "\n",
       "    .dataframe tbody tr th {\n",
       "        vertical-align: top;\n",
       "    }\n",
       "\n",
       "    .dataframe thead th {\n",
       "        text-align: right;\n",
       "    }\n",
       "</style>\n",
       "<table border=\"1\" class=\"dataframe\">\n",
       "  <thead>\n",
       "    <tr style=\"text-align: right;\">\n",
       "      <th></th>\n",
       "      <th>longitude</th>\n",
       "      <th>latitude</th>\n",
       "      <th>housing_median_age</th>\n",
       "      <th>total_rooms</th>\n",
       "      <th>total_bedrooms</th>\n",
       "      <th>population</th>\n",
       "      <th>households</th>\n",
       "      <th>median_income</th>\n",
       "      <th>ocean_proximity</th>\n",
       "      <th>median_house_value</th>\n",
       "    </tr>\n",
       "  </thead>\n",
       "  <tbody>\n",
       "    <tr>\n",
       "      <th>20637</th>\n",
       "      <td>-121.22</td>\n",
       "      <td>39.43</td>\n",
       "      <td>17</td>\n",
       "      <td>2254</td>\n",
       "      <td>485.0</td>\n",
       "      <td>1007</td>\n",
       "      <td>433</td>\n",
       "      <td>1.7000</td>\n",
       "      <td>INLAND</td>\n",
       "      <td>92300</td>\n",
       "    </tr>\n",
       "    <tr>\n",
       "      <th>20638</th>\n",
       "      <td>-121.32</td>\n",
       "      <td>39.43</td>\n",
       "      <td>18</td>\n",
       "      <td>1860</td>\n",
       "      <td>409.0</td>\n",
       "      <td>741</td>\n",
       "      <td>349</td>\n",
       "      <td>1.8672</td>\n",
       "      <td>INLAND</td>\n",
       "      <td>84700</td>\n",
       "    </tr>\n",
       "  </tbody>\n",
       "</table>\n",
       "</div>"
      ],
      "text/plain": [
       "       longitude  latitude  housing_median_age  total_rooms  total_bedrooms  \\\n",
       "20637    -121.22     39.43                  17         2254           485.0   \n",
       "20638    -121.32     39.43                  18         1860           409.0   \n",
       "\n",
       "       population  households  median_income ocean_proximity  \\\n",
       "20637        1007         433         1.7000          INLAND   \n",
       "20638         741         349         1.8672          INLAND   \n",
       "\n",
       "       median_house_value  \n",
       "20637               92300  \n",
       "20638               84700  "
      ]
     },
     "execution_count": 18,
     "metadata": {},
     "output_type": "execute_result"
    }
   ],
   "source": [
    "# los índices negativos indican que se empieza a contar desde el final\n",
    "viviendas.iloc[-3:-1]"
   ]
  },
  {
   "cell_type": "markdown",
   "metadata": {
    "id": "mLDQmcfHdP81"
   },
   "source": [
    "### *Ejercicio 2*\n",
    "\n",
    "* Muestra las primeras 5 filas usando `iloc`\n",
    "* Muestra las últimas 5 filas usando `iloc`"
   ]
  },
  {
   "cell_type": "markdown",
   "metadata": {
    "id": "SejOoGSCdP81"
   },
   "source": [
    "### 2.2. Selección por etiquetas\n",
    "\n",
    "Para acceder por _etiquetas_ (es decir, columnas parte del índice), se usa `loc[]`"
   ]
  },
  {
   "cell_type": "code",
   "execution_count": 19,
   "metadata": {
    "id": "rDDFqK7zdP81",
    "outputId": "80d0442f-c91d-4751-d2fd-5055d4bf35cb"
   },
   "outputs": [
    {
     "name": "stderr",
     "output_type": "stream",
     "text": [
      "C:\\Users\\VORPC\\AppData\\Local\\Temp\\ipykernel_13612\\3392144686.py:1: PerformanceWarning: indexing past lexsort depth may impact performance.\n",
      "  viviendas_nuevo_indice.loc[('NEAR BAY', 126)]\n"
     ]
    },
    {
     "data": {
      "text/html": [
       "<div>\n",
       "<style scoped>\n",
       "    .dataframe tbody tr th:only-of-type {\n",
       "        vertical-align: middle;\n",
       "    }\n",
       "\n",
       "    .dataframe tbody tr th {\n",
       "        vertical-align: top;\n",
       "    }\n",
       "\n",
       "    .dataframe thead th {\n",
       "        text-align: right;\n",
       "    }\n",
       "</style>\n",
       "<table border=\"1\" class=\"dataframe\">\n",
       "  <thead>\n",
       "    <tr style=\"text-align: right;\">\n",
       "      <th></th>\n",
       "      <th></th>\n",
       "      <th>longitude</th>\n",
       "      <th>latitude</th>\n",
       "      <th>housing_median_age</th>\n",
       "      <th>total_rooms</th>\n",
       "      <th>total_bedrooms</th>\n",
       "      <th>population</th>\n",
       "      <th>median_income</th>\n",
       "      <th>median_house_value</th>\n",
       "    </tr>\n",
       "    <tr>\n",
       "      <th>ocean_proximity</th>\n",
       "      <th>households</th>\n",
       "      <th></th>\n",
       "      <th></th>\n",
       "      <th></th>\n",
       "      <th></th>\n",
       "      <th></th>\n",
       "      <th></th>\n",
       "      <th></th>\n",
       "      <th></th>\n",
       "    </tr>\n",
       "  </thead>\n",
       "  <tbody>\n",
       "    <tr>\n",
       "      <th rowspan=\"2\" valign=\"top\">NEAR BAY</th>\n",
       "      <th>126</th>\n",
       "      <td>-122.23</td>\n",
       "      <td>37.88</td>\n",
       "      <td>41</td>\n",
       "      <td>880</td>\n",
       "      <td>129.0</td>\n",
       "      <td>322</td>\n",
       "      <td>8.3252</td>\n",
       "      <td>452600</td>\n",
       "    </tr>\n",
       "    <tr>\n",
       "      <th>126</th>\n",
       "      <td>-122.23</td>\n",
       "      <td>37.78</td>\n",
       "      <td>52</td>\n",
       "      <td>472</td>\n",
       "      <td>146.0</td>\n",
       "      <td>415</td>\n",
       "      <td>2.6429</td>\n",
       "      <td>71300</td>\n",
       "    </tr>\n",
       "  </tbody>\n",
       "</table>\n",
       "</div>"
      ],
      "text/plain": [
       "                            longitude  latitude  housing_median_age  \\\n",
       "ocean_proximity households                                            \n",
       "NEAR BAY        126           -122.23     37.88                  41   \n",
       "                126           -122.23     37.78                  52   \n",
       "\n",
       "                            total_rooms  total_bedrooms  population  \\\n",
       "ocean_proximity households                                            \n",
       "NEAR BAY        126                 880           129.0         322   \n",
       "                126                 472           146.0         415   \n",
       "\n",
       "                            median_income  median_house_value  \n",
       "ocean_proximity households                                     \n",
       "NEAR BAY        126                8.3252              452600  \n",
       "                126                2.6429               71300  "
      ]
     },
     "execution_count": 19,
     "metadata": {},
     "output_type": "execute_result"
    }
   ],
   "source": [
    "viviendas_nuevo_indice.loc[('NEAR BAY', 126)]"
   ]
  },
  {
   "cell_type": "code",
   "execution_count": 20,
   "metadata": {
    "colab": {
     "base_uri": "https://localhost:8080/",
     "height": 183
    },
    "executionInfo": {
     "elapsed": 19,
     "status": "error",
     "timestamp": 1638202337510,
     "user": {
      "displayName": "Cristina Gómez Alonso",
      "photoUrl": "https://lh3.googleusercontent.com/a/default-user=s64",
      "userId": "05697798740749630103"
     },
     "user_tz": -60
    },
    "id": "S1iEAQEtdP81",
    "outputId": "9a3a5677-d4a6-4b12-c241-60a90e18cf66"
   },
   "outputs": [
    {
     "data": {
      "text/html": [
       "<div>\n",
       "<style scoped>\n",
       "    .dataframe tbody tr th:only-of-type {\n",
       "        vertical-align: middle;\n",
       "    }\n",
       "\n",
       "    .dataframe tbody tr th {\n",
       "        vertical-align: top;\n",
       "    }\n",
       "\n",
       "    .dataframe thead th {\n",
       "        text-align: right;\n",
       "    }\n",
       "</style>\n",
       "<table border=\"1\" class=\"dataframe\">\n",
       "  <thead>\n",
       "    <tr style=\"text-align: right;\">\n",
       "      <th></th>\n",
       "      <th>longitude</th>\n",
       "      <th>latitude</th>\n",
       "      <th>housing_median_age</th>\n",
       "      <th>total_rooms</th>\n",
       "      <th>total_bedrooms</th>\n",
       "      <th>population</th>\n",
       "      <th>median_income</th>\n",
       "      <th>median_house_value</th>\n",
       "    </tr>\n",
       "    <tr>\n",
       "      <th>households</th>\n",
       "      <th></th>\n",
       "      <th></th>\n",
       "      <th></th>\n",
       "      <th></th>\n",
       "      <th></th>\n",
       "      <th></th>\n",
       "      <th></th>\n",
       "      <th></th>\n",
       "    </tr>\n",
       "  </thead>\n",
       "  <tbody>\n",
       "    <tr>\n",
       "      <th>126</th>\n",
       "      <td>-122.23</td>\n",
       "      <td>37.88</td>\n",
       "      <td>41</td>\n",
       "      <td>880</td>\n",
       "      <td>129.0</td>\n",
       "      <td>322</td>\n",
       "      <td>8.3252</td>\n",
       "      <td>452600</td>\n",
       "    </tr>\n",
       "    <tr>\n",
       "      <th>1138</th>\n",
       "      <td>-122.22</td>\n",
       "      <td>37.86</td>\n",
       "      <td>21</td>\n",
       "      <td>7099</td>\n",
       "      <td>1106.0</td>\n",
       "      <td>2401</td>\n",
       "      <td>8.3014</td>\n",
       "      <td>358500</td>\n",
       "    </tr>\n",
       "    <tr>\n",
       "      <th>177</th>\n",
       "      <td>-122.24</td>\n",
       "      <td>37.85</td>\n",
       "      <td>52</td>\n",
       "      <td>1467</td>\n",
       "      <td>190.0</td>\n",
       "      <td>496</td>\n",
       "      <td>7.2574</td>\n",
       "      <td>352100</td>\n",
       "    </tr>\n",
       "    <tr>\n",
       "      <th>219</th>\n",
       "      <td>-122.25</td>\n",
       "      <td>37.85</td>\n",
       "      <td>52</td>\n",
       "      <td>1274</td>\n",
       "      <td>235.0</td>\n",
       "      <td>558</td>\n",
       "      <td>5.6431</td>\n",
       "      <td>341300</td>\n",
       "    </tr>\n",
       "    <tr>\n",
       "      <th>259</th>\n",
       "      <td>-122.25</td>\n",
       "      <td>37.85</td>\n",
       "      <td>52</td>\n",
       "      <td>1627</td>\n",
       "      <td>280.0</td>\n",
       "      <td>565</td>\n",
       "      <td>3.8462</td>\n",
       "      <td>342200</td>\n",
       "    </tr>\n",
       "  </tbody>\n",
       "</table>\n",
       "</div>"
      ],
      "text/plain": [
       "            longitude  latitude  housing_median_age  total_rooms  \\\n",
       "households                                                         \n",
       "126           -122.23     37.88                  41          880   \n",
       "1138          -122.22     37.86                  21         7099   \n",
       "177           -122.24     37.85                  52         1467   \n",
       "219           -122.25     37.85                  52         1274   \n",
       "259           -122.25     37.85                  52         1627   \n",
       "\n",
       "            total_bedrooms  population  median_income  median_house_value  \n",
       "households                                                                 \n",
       "126                  129.0         322         8.3252              452600  \n",
       "1138                1106.0        2401         8.3014              358500  \n",
       "177                  190.0         496         7.2574              352100  \n",
       "219                  235.0         558         5.6431              341300  \n",
       "259                  280.0         565         3.8462              342200  "
      ]
     },
     "execution_count": 20,
     "metadata": {},
     "output_type": "execute_result"
    }
   ],
   "source": [
    "# O un distrito completo\n",
    "viviendas_nuevo_indice.loc[('NEAR BAY')].head()"
   ]
  },
  {
   "cell_type": "markdown",
   "metadata": {
    "id": "6GUWW50_dP81"
   },
   "source": [
    "### *Ejercicio 3*\n",
    "\n",
    "Muestra sobre `viviendas_nuevo_indice` las filas para aquellas viviendas cerca del océano y con un número de familias superior a 100."
   ]
  },
  {
   "cell_type": "markdown",
   "metadata": {
    "id": "ha3jlD0udP82"
   },
   "source": [
    "### 2.3. Selección por condiciones\n",
    "\n",
    "Para extraer las filas que cumplen una condición, le pasamos al DataFrame una Series de booleanos, o directamente algo que la devuelva."
   ]
  },
  {
   "cell_type": "code",
   "execution_count": 21,
   "metadata": {
    "id": "qAU0y6IGdP82"
   },
   "outputs": [
    {
     "data": {
      "text/html": [
       "<div>\n",
       "<style scoped>\n",
       "    .dataframe tbody tr th:only-of-type {\n",
       "        vertical-align: middle;\n",
       "    }\n",
       "\n",
       "    .dataframe tbody tr th {\n",
       "        vertical-align: top;\n",
       "    }\n",
       "\n",
       "    .dataframe thead th {\n",
       "        text-align: right;\n",
       "    }\n",
       "</style>\n",
       "<table border=\"1\" class=\"dataframe\">\n",
       "  <thead>\n",
       "    <tr style=\"text-align: right;\">\n",
       "      <th></th>\n",
       "      <th>longitude</th>\n",
       "      <th>latitude</th>\n",
       "      <th>housing_median_age</th>\n",
       "      <th>total_rooms</th>\n",
       "      <th>total_bedrooms</th>\n",
       "      <th>population</th>\n",
       "      <th>households</th>\n",
       "      <th>median_income</th>\n",
       "      <th>ocean_proximity</th>\n",
       "      <th>median_house_value</th>\n",
       "    </tr>\n",
       "  </thead>\n",
       "  <tbody>\n",
       "    <tr>\n",
       "      <th>0</th>\n",
       "      <td>-122.23</td>\n",
       "      <td>37.88</td>\n",
       "      <td>41</td>\n",
       "      <td>880</td>\n",
       "      <td>129.0</td>\n",
       "      <td>322</td>\n",
       "      <td>126</td>\n",
       "      <td>8.3252</td>\n",
       "      <td>NEAR BAY</td>\n",
       "      <td>452600</td>\n",
       "    </tr>\n",
       "    <tr>\n",
       "      <th>1</th>\n",
       "      <td>-122.22</td>\n",
       "      <td>37.86</td>\n",
       "      <td>21</td>\n",
       "      <td>7099</td>\n",
       "      <td>1106.0</td>\n",
       "      <td>2401</td>\n",
       "      <td>1138</td>\n",
       "      <td>8.3014</td>\n",
       "      <td>NEAR BAY</td>\n",
       "      <td>358500</td>\n",
       "    </tr>\n",
       "    <tr>\n",
       "      <th>2</th>\n",
       "      <td>-122.24</td>\n",
       "      <td>37.85</td>\n",
       "      <td>52</td>\n",
       "      <td>1467</td>\n",
       "      <td>190.0</td>\n",
       "      <td>496</td>\n",
       "      <td>177</td>\n",
       "      <td>7.2574</td>\n",
       "      <td>NEAR BAY</td>\n",
       "      <td>352100</td>\n",
       "    </tr>\n",
       "    <tr>\n",
       "      <th>3</th>\n",
       "      <td>-122.25</td>\n",
       "      <td>37.85</td>\n",
       "      <td>52</td>\n",
       "      <td>1274</td>\n",
       "      <td>235.0</td>\n",
       "      <td>558</td>\n",
       "      <td>219</td>\n",
       "      <td>5.6431</td>\n",
       "      <td>NEAR BAY</td>\n",
       "      <td>341300</td>\n",
       "    </tr>\n",
       "    <tr>\n",
       "      <th>4</th>\n",
       "      <td>-122.25</td>\n",
       "      <td>37.85</td>\n",
       "      <td>52</td>\n",
       "      <td>1627</td>\n",
       "      <td>280.0</td>\n",
       "      <td>565</td>\n",
       "      <td>259</td>\n",
       "      <td>3.8462</td>\n",
       "      <td>NEAR BAY</td>\n",
       "      <td>342200</td>\n",
       "    </tr>\n",
       "  </tbody>\n",
       "</table>\n",
       "</div>"
      ],
      "text/plain": [
       "   longitude  latitude  housing_median_age  total_rooms  total_bedrooms  \\\n",
       "0    -122.23     37.88                  41          880           129.0   \n",
       "1    -122.22     37.86                  21         7099          1106.0   \n",
       "2    -122.24     37.85                  52         1467           190.0   \n",
       "3    -122.25     37.85                  52         1274           235.0   \n",
       "4    -122.25     37.85                  52         1627           280.0   \n",
       "\n",
       "   population  households  median_income ocean_proximity  median_house_value  \n",
       "0         322         126         8.3252        NEAR BAY              452600  \n",
       "1        2401        1138         8.3014        NEAR BAY              358500  \n",
       "2         496         177         7.2574        NEAR BAY              352100  \n",
       "3         558         219         5.6431        NEAR BAY              341300  \n",
       "4         565         259         3.8462        NEAR BAY              342200  "
      ]
     },
     "execution_count": 21,
     "metadata": {},
     "output_type": "execute_result"
    }
   ],
   "source": [
    "viviendas[viviendas.ocean_proximity == 'NEAR BAY'].head()"
   ]
  },
  {
   "cell_type": "markdown",
   "metadata": {
    "id": "5vnF6h19dP82"
   },
   "source": [
    "**Nota:** mira cómo en el código anterior hemos seleccionado la columna `ocean_proximity` usando un punto, `viviendas.ocean_proximity`. Es una alternativa a la notación mediante corchetes, `viviendas['ocean_proximity']`.\n",
    "\n",
    "**Para profundizar:** puedes leer las diferentes ventajas e inconvenientes de la notación punto con respecto a la de corchetes [aquí](https://www.dataschool.io/pandas-dot-notation-vs-brackets/) y decidir cuál prefieres utilizar.\n",
    "\n",
    "Podemos combinar varias condiciones con `&` (y lógico) y `|` (o lógico)"
   ]
  },
  {
   "cell_type": "code",
   "execution_count": 26,
   "metadata": {
    "id": "aO9hUwXSdP82"
   },
   "outputs": [
    {
     "data": {
      "text/html": [
       "<div>\n",
       "<style scoped>\n",
       "    .dataframe tbody tr th:only-of-type {\n",
       "        vertical-align: middle;\n",
       "    }\n",
       "\n",
       "    .dataframe tbody tr th {\n",
       "        vertical-align: top;\n",
       "    }\n",
       "\n",
       "    .dataframe thead th {\n",
       "        text-align: right;\n",
       "    }\n",
       "</style>\n",
       "<table border=\"1\" class=\"dataframe\">\n",
       "  <thead>\n",
       "    <tr style=\"text-align: right;\">\n",
       "      <th></th>\n",
       "      <th>longitude</th>\n",
       "      <th>latitude</th>\n",
       "      <th>housing_median_age</th>\n",
       "      <th>total_rooms</th>\n",
       "      <th>total_bedrooms</th>\n",
       "      <th>population</th>\n",
       "      <th>households</th>\n",
       "      <th>median_income</th>\n",
       "      <th>ocean_proximity</th>\n",
       "      <th>median_house_value</th>\n",
       "    </tr>\n",
       "  </thead>\n",
       "  <tbody>\n",
       "    <tr>\n",
       "      <th>1</th>\n",
       "      <td>-122.22</td>\n",
       "      <td>37.86</td>\n",
       "      <td>21</td>\n",
       "      <td>7099</td>\n",
       "      <td>1106.0</td>\n",
       "      <td>2401</td>\n",
       "      <td>1138</td>\n",
       "      <td>8.3014</td>\n",
       "      <td>NEAR BAY</td>\n",
       "      <td>358500</td>\n",
       "    </tr>\n",
       "    <tr>\n",
       "      <th>3</th>\n",
       "      <td>-122.25</td>\n",
       "      <td>37.85</td>\n",
       "      <td>52</td>\n",
       "      <td>1274</td>\n",
       "      <td>235.0</td>\n",
       "      <td>558</td>\n",
       "      <td>219</td>\n",
       "      <td>5.6431</td>\n",
       "      <td>NEAR BAY</td>\n",
       "      <td>341300</td>\n",
       "    </tr>\n",
       "    <tr>\n",
       "      <th>4</th>\n",
       "      <td>-122.25</td>\n",
       "      <td>37.85</td>\n",
       "      <td>52</td>\n",
       "      <td>1627</td>\n",
       "      <td>280.0</td>\n",
       "      <td>565</td>\n",
       "      <td>259</td>\n",
       "      <td>3.8462</td>\n",
       "      <td>NEAR BAY</td>\n",
       "      <td>342200</td>\n",
       "    </tr>\n",
       "    <tr>\n",
       "      <th>6</th>\n",
       "      <td>-122.25</td>\n",
       "      <td>37.84</td>\n",
       "      <td>52</td>\n",
       "      <td>2535</td>\n",
       "      <td>489.0</td>\n",
       "      <td>1094</td>\n",
       "      <td>514</td>\n",
       "      <td>3.6591</td>\n",
       "      <td>NEAR BAY</td>\n",
       "      <td>299200</td>\n",
       "    </tr>\n",
       "    <tr>\n",
       "      <th>7</th>\n",
       "      <td>-122.25</td>\n",
       "      <td>37.84</td>\n",
       "      <td>52</td>\n",
       "      <td>3104</td>\n",
       "      <td>687.0</td>\n",
       "      <td>1157</td>\n",
       "      <td>647</td>\n",
       "      <td>3.1200</td>\n",
       "      <td>NEAR BAY</td>\n",
       "      <td>241400</td>\n",
       "    </tr>\n",
       "    <tr>\n",
       "      <th>...</th>\n",
       "      <td>...</td>\n",
       "      <td>...</td>\n",
       "      <td>...</td>\n",
       "      <td>...</td>\n",
       "      <td>...</td>\n",
       "      <td>...</td>\n",
       "      <td>...</td>\n",
       "      <td>...</td>\n",
       "      <td>...</td>\n",
       "      <td>...</td>\n",
       "    </tr>\n",
       "    <tr>\n",
       "      <th>19067</th>\n",
       "      <td>-122.45</td>\n",
       "      <td>38.28</td>\n",
       "      <td>20</td>\n",
       "      <td>3306</td>\n",
       "      <td>503.0</td>\n",
       "      <td>1374</td>\n",
       "      <td>460</td>\n",
       "      <td>5.7984</td>\n",
       "      <td>NEAR BAY</td>\n",
       "      <td>297600</td>\n",
       "    </tr>\n",
       "    <tr>\n",
       "      <th>19068</th>\n",
       "      <td>-122.47</td>\n",
       "      <td>38.29</td>\n",
       "      <td>14</td>\n",
       "      <td>3732</td>\n",
       "      <td>846.0</td>\n",
       "      <td>1277</td>\n",
       "      <td>775</td>\n",
       "      <td>2.5658</td>\n",
       "      <td>NEAR BAY</td>\n",
       "      <td>208000</td>\n",
       "    </tr>\n",
       "    <tr>\n",
       "      <th>19069</th>\n",
       "      <td>-122.45</td>\n",
       "      <td>38.27</td>\n",
       "      <td>25</td>\n",
       "      <td>5024</td>\n",
       "      <td>881.0</td>\n",
       "      <td>1994</td>\n",
       "      <td>838</td>\n",
       "      <td>4.2237</td>\n",
       "      <td>NEAR BAY</td>\n",
       "      <td>262300</td>\n",
       "    </tr>\n",
       "    <tr>\n",
       "      <th>19077</th>\n",
       "      <td>-122.49</td>\n",
       "      <td>38.27</td>\n",
       "      <td>8</td>\n",
       "      <td>5092</td>\n",
       "      <td>988.0</td>\n",
       "      <td>1657</td>\n",
       "      <td>936</td>\n",
       "      <td>3.5625</td>\n",
       "      <td>NEAR BAY</td>\n",
       "      <td>213200</td>\n",
       "    </tr>\n",
       "    <tr>\n",
       "      <th>19104</th>\n",
       "      <td>-122.51</td>\n",
       "      <td>38.17</td>\n",
       "      <td>8</td>\n",
       "      <td>5875</td>\n",
       "      <td>1115.0</td>\n",
       "      <td>2808</td>\n",
       "      <td>1029</td>\n",
       "      <td>3.6392</td>\n",
       "      <td>NEAR BAY</td>\n",
       "      <td>246300</td>\n",
       "    </tr>\n",
       "  </tbody>\n",
       "</table>\n",
       "<p>2005 rows × 10 columns</p>\n",
       "</div>"
      ],
      "text/plain": [
       "       longitude  latitude  housing_median_age  total_rooms  total_bedrooms  \\\n",
       "1        -122.22     37.86                  21         7099          1106.0   \n",
       "3        -122.25     37.85                  52         1274           235.0   \n",
       "4        -122.25     37.85                  52         1627           280.0   \n",
       "6        -122.25     37.84                  52         2535           489.0   \n",
       "7        -122.25     37.84                  52         3104           687.0   \n",
       "...          ...       ...                 ...          ...             ...   \n",
       "19067    -122.45     38.28                  20         3306           503.0   \n",
       "19068    -122.47     38.29                  14         3732           846.0   \n",
       "19069    -122.45     38.27                  25         5024           881.0   \n",
       "19077    -122.49     38.27                   8         5092           988.0   \n",
       "19104    -122.51     38.17                   8         5875          1115.0   \n",
       "\n",
       "       population  households  median_income ocean_proximity  \\\n",
       "1            2401        1138         8.3014        NEAR BAY   \n",
       "3             558         219         5.6431        NEAR BAY   \n",
       "4             565         259         3.8462        NEAR BAY   \n",
       "6            1094         514         3.6591        NEAR BAY   \n",
       "7            1157         647         3.1200        NEAR BAY   \n",
       "...           ...         ...            ...             ...   \n",
       "19067        1374         460         5.7984        NEAR BAY   \n",
       "19068        1277         775         2.5658        NEAR BAY   \n",
       "19069        1994         838         4.2237        NEAR BAY   \n",
       "19077        1657         936         3.5625        NEAR BAY   \n",
       "19104        2808        1029         3.6392        NEAR BAY   \n",
       "\n",
       "       median_house_value  \n",
       "1                  358500  \n",
       "3                  341300  \n",
       "4                  342200  \n",
       "6                  299200  \n",
       "7                  241400  \n",
       "...                   ...  \n",
       "19067              297600  \n",
       "19068              208000  \n",
       "19069              262300  \n",
       "19077              213200  \n",
       "19104              246300  \n",
       "\n",
       "[2005 rows x 10 columns]"
      ]
     },
     "execution_count": 26,
     "metadata": {},
     "output_type": "execute_result"
    }
   ],
   "source": [
    "# No olvides los paréntesis, es importante por prioridad de operandos!\n",
    "\n",
    "viviendas[(viviendas.ocean_proximity == 'NEAR BAY') & (viviendas.households > 200)]"
   ]
  },
  {
   "cell_type": "markdown",
   "metadata": {
    "id": "weAQ-PTtdP82"
   },
   "source": [
    "### *Ejercicio 4*\n",
    "\n",
    "Recupera la proximidad al océano para aquellas viviendas que tienen una edad media de los integrantes inferior a 25 años."
   ]
  },
  {
   "cell_type": "code",
   "execution_count": 27,
   "metadata": {
    "id": "Y-NOU9KDdP83"
   },
   "outputs": [
    {
     "name": "stdout",
     "output_type": "stream",
     "text": [
      "       longitude  latitude  housing_median_age  total_rooms  total_bedrooms  \\\n",
      "19065    -122.46     38.29                  21         2423           560.0   \n",
      "19067    -122.45     38.28                  20         3306           503.0   \n",
      "19068    -122.47     38.29                  14         3732           846.0   \n",
      "19077    -122.49     38.27                   8         5092           988.0   \n",
      "19104    -122.51     38.17                   8         5875          1115.0   \n",
      "\n",
      "       population  households  median_income ocean_proximity  \\\n",
      "19065        1098         503         2.3640        NEAR BAY   \n",
      "19067        1374         460         5.7984        NEAR BAY   \n",
      "19068        1277         775         2.5658        NEAR BAY   \n",
      "19077        1657         936         3.5625        NEAR BAY   \n",
      "19104        2808        1029         3.6392        NEAR BAY   \n",
      "\n",
      "       median_house_value  \n",
      "19065              173300  \n",
      "19067              297600  \n",
      "19068              208000  \n",
      "19077              213200  \n",
      "19104              246300  \n"
     ]
    }
   ],
   "source": [
    "# 1. Imprime las últimas filas de la tabla housing_median_age < 25 \n",
    "\n",
    "resultado_filtrado = viviendas[(viviendas.ocean_proximity == 'NEAR BAY') & (viviendas.housing_median_age < 25)]\n",
    "print(resultado_filtrado.tail())"
   ]
  },
  {
   "cell_type": "code",
   "execution_count": 28,
   "metadata": {
    "id": "SRnxr2VjdP83"
   },
   "outputs": [
    {
     "name": "stdout",
     "output_type": "stream",
     "text": [
      "19065    NEAR BAY\n",
      "19067    NEAR BAY\n",
      "19068    NEAR BAY\n",
      "19077    NEAR BAY\n",
      "19104    NEAR BAY\n",
      "Name: ocean_proximity, dtype: object\n"
     ]
    }
   ],
   "source": [
    "# 2. Haz el filtro. Una vez hecho, saca solo la columna distrito \n",
    "\n",
    "print(resultado_filtrado.ocean_proximity.tail())"
   ]
  },
  {
   "cell_type": "markdown",
   "metadata": {
    "id": "NMV7lSNtdP83"
   },
   "source": [
    "## 3. Ordenación\n",
    "\n",
    "Podemos ordenar un DataFrame por una o varias columnas, de forma ascendente o descendente, con [`sort_values`](https://pandas.pydata.org/pandas-docs/stable/generated/pandas.DataFrame.sort_values.html)"
   ]
  },
  {
   "cell_type": "code",
   "execution_count": 29,
   "metadata": {
    "id": "fZrVImuwdP83"
   },
   "outputs": [
    {
     "data": {
      "text/html": [
       "<div>\n",
       "<style scoped>\n",
       "    .dataframe tbody tr th:only-of-type {\n",
       "        vertical-align: middle;\n",
       "    }\n",
       "\n",
       "    .dataframe tbody tr th {\n",
       "        vertical-align: top;\n",
       "    }\n",
       "\n",
       "    .dataframe thead th {\n",
       "        text-align: right;\n",
       "    }\n",
       "</style>\n",
       "<table border=\"1\" class=\"dataframe\">\n",
       "  <thead>\n",
       "    <tr style=\"text-align: right;\">\n",
       "      <th></th>\n",
       "      <th>longitude</th>\n",
       "      <th>latitude</th>\n",
       "      <th>housing_median_age</th>\n",
       "      <th>total_rooms</th>\n",
       "      <th>total_bedrooms</th>\n",
       "      <th>population</th>\n",
       "      <th>households</th>\n",
       "      <th>median_income</th>\n",
       "      <th>ocean_proximity</th>\n",
       "      <th>median_house_value</th>\n",
       "    </tr>\n",
       "  </thead>\n",
       "  <tbody>\n",
       "    <tr>\n",
       "      <th>16171</th>\n",
       "      <td>-122.50</td>\n",
       "      <td>37.79</td>\n",
       "      <td>52</td>\n",
       "      <td>8</td>\n",
       "      <td>1.0</td>\n",
       "      <td>13</td>\n",
       "      <td>1</td>\n",
       "      <td>15.0001</td>\n",
       "      <td>NEAR BAY</td>\n",
       "      <td>500001</td>\n",
       "    </tr>\n",
       "    <tr>\n",
       "      <th>12286</th>\n",
       "      <td>-116.95</td>\n",
       "      <td>33.86</td>\n",
       "      <td>1</td>\n",
       "      <td>6</td>\n",
       "      <td>2.0</td>\n",
       "      <td>8</td>\n",
       "      <td>2</td>\n",
       "      <td>1.6250</td>\n",
       "      <td>INLAND</td>\n",
       "      <td>55000</td>\n",
       "    </tr>\n",
       "    <tr>\n",
       "      <th>2511</th>\n",
       "      <td>-119.54</td>\n",
       "      <td>36.51</td>\n",
       "      <td>36</td>\n",
       "      <td>49</td>\n",
       "      <td>7.0</td>\n",
       "      <td>28</td>\n",
       "      <td>2</td>\n",
       "      <td>4.6250</td>\n",
       "      <td>INLAND</td>\n",
       "      <td>162500</td>\n",
       "    </tr>\n",
       "    <tr>\n",
       "      <th>3126</th>\n",
       "      <td>-117.79</td>\n",
       "      <td>35.21</td>\n",
       "      <td>4</td>\n",
       "      <td>2</td>\n",
       "      <td>2.0</td>\n",
       "      <td>6</td>\n",
       "      <td>2</td>\n",
       "      <td>2.3750</td>\n",
       "      <td>INLAND</td>\n",
       "      <td>137500</td>\n",
       "    </tr>\n",
       "    <tr>\n",
       "      <th>16888</th>\n",
       "      <td>-122.37</td>\n",
       "      <td>37.60</td>\n",
       "      <td>26</td>\n",
       "      <td>15</td>\n",
       "      <td>3.0</td>\n",
       "      <td>11</td>\n",
       "      <td>3</td>\n",
       "      <td>5.0480</td>\n",
       "      <td>NEAR OCEAN</td>\n",
       "      <td>350000</td>\n",
       "    </tr>\n",
       "  </tbody>\n",
       "</table>\n",
       "</div>"
      ],
      "text/plain": [
       "       longitude  latitude  housing_median_age  total_rooms  total_bedrooms  \\\n",
       "16171    -122.50     37.79                  52            8             1.0   \n",
       "12286    -116.95     33.86                   1            6             2.0   \n",
       "2511     -119.54     36.51                  36           49             7.0   \n",
       "3126     -117.79     35.21                   4            2             2.0   \n",
       "16888    -122.37     37.60                  26           15             3.0   \n",
       "\n",
       "       population  households  median_income ocean_proximity  \\\n",
       "16171          13           1        15.0001        NEAR BAY   \n",
       "12286           8           2         1.6250          INLAND   \n",
       "2511           28           2         4.6250          INLAND   \n",
       "3126            6           2         2.3750          INLAND   \n",
       "16888          11           3         5.0480      NEAR OCEAN   \n",
       "\n",
       "       median_house_value  \n",
       "16171              500001  \n",
       "12286               55000  \n",
       "2511               162500  \n",
       "3126               137500  \n",
       "16888              350000  "
      ]
     },
     "execution_count": 29,
     "metadata": {},
     "output_type": "execute_result"
    }
   ],
   "source": [
    "viviendas.sort_values('households', ascending=True).head()"
   ]
  },
  {
   "cell_type": "code",
   "execution_count": 31,
   "metadata": {
    "id": "-qPgbG-CdP83"
   },
   "outputs": [
    {
     "data": {
      "text/html": [
       "<div>\n",
       "<style scoped>\n",
       "    .dataframe tbody tr th:only-of-type {\n",
       "        vertical-align: middle;\n",
       "    }\n",
       "\n",
       "    .dataframe tbody tr th {\n",
       "        vertical-align: top;\n",
       "    }\n",
       "\n",
       "    .dataframe thead th {\n",
       "        text-align: right;\n",
       "    }\n",
       "</style>\n",
       "<table border=\"1\" class=\"dataframe\">\n",
       "  <thead>\n",
       "    <tr style=\"text-align: right;\">\n",
       "      <th></th>\n",
       "      <th>longitude</th>\n",
       "      <th>latitude</th>\n",
       "      <th>housing_median_age</th>\n",
       "      <th>total_rooms</th>\n",
       "      <th>total_bedrooms</th>\n",
       "      <th>population</th>\n",
       "      <th>households</th>\n",
       "      <th>median_income</th>\n",
       "      <th>ocean_proximity</th>\n",
       "      <th>median_house_value</th>\n",
       "    </tr>\n",
       "  </thead>\n",
       "  <tbody>\n",
       "    <tr>\n",
       "      <th>9880</th>\n",
       "      <td>-121.79</td>\n",
       "      <td>36.64</td>\n",
       "      <td>11</td>\n",
       "      <td>32627</td>\n",
       "      <td>6445.0</td>\n",
       "      <td>28566</td>\n",
       "      <td>6082</td>\n",
       "      <td>2.3087</td>\n",
       "      <td>&lt;1H OCEAN</td>\n",
       "      <td>118800</td>\n",
       "    </tr>\n",
       "    <tr>\n",
       "      <th>13139</th>\n",
       "      <td>-121.44</td>\n",
       "      <td>38.43</td>\n",
       "      <td>3</td>\n",
       "      <td>39320</td>\n",
       "      <td>6210.0</td>\n",
       "      <td>16305</td>\n",
       "      <td>5358</td>\n",
       "      <td>4.9516</td>\n",
       "      <td>INLAND</td>\n",
       "      <td>153700</td>\n",
       "    </tr>\n",
       "    <tr>\n",
       "      <th>10309</th>\n",
       "      <td>-117.74</td>\n",
       "      <td>33.89</td>\n",
       "      <td>4</td>\n",
       "      <td>37937</td>\n",
       "      <td>5471.0</td>\n",
       "      <td>16122</td>\n",
       "      <td>5189</td>\n",
       "      <td>7.4947</td>\n",
       "      <td>&lt;1H OCEAN</td>\n",
       "      <td>366300</td>\n",
       "    </tr>\n",
       "    <tr>\n",
       "      <th>8985</th>\n",
       "      <td>-118.44</td>\n",
       "      <td>33.98</td>\n",
       "      <td>21</td>\n",
       "      <td>18132</td>\n",
       "      <td>5419.0</td>\n",
       "      <td>7431</td>\n",
       "      <td>4930</td>\n",
       "      <td>5.3359</td>\n",
       "      <td>&lt;1H OCEAN</td>\n",
       "      <td>500001</td>\n",
       "    </tr>\n",
       "    <tr>\n",
       "      <th>6057</th>\n",
       "      <td>-117.78</td>\n",
       "      <td>34.03</td>\n",
       "      <td>8</td>\n",
       "      <td>32054</td>\n",
       "      <td>5290.0</td>\n",
       "      <td>15507</td>\n",
       "      <td>5050</td>\n",
       "      <td>6.0191</td>\n",
       "      <td>&lt;1H OCEAN</td>\n",
       "      <td>253900</td>\n",
       "    </tr>\n",
       "  </tbody>\n",
       "</table>\n",
       "</div>"
      ],
      "text/plain": [
       "       longitude  latitude  housing_median_age  total_rooms  total_bedrooms  \\\n",
       "9880     -121.79     36.64                  11        32627          6445.0   \n",
       "13139    -121.44     38.43                   3        39320          6210.0   \n",
       "10309    -117.74     33.89                   4        37937          5471.0   \n",
       "8985     -118.44     33.98                  21        18132          5419.0   \n",
       "6057     -117.78     34.03                   8        32054          5290.0   \n",
       "\n",
       "       population  households  median_income ocean_proximity  \\\n",
       "9880        28566        6082         2.3087       <1H OCEAN   \n",
       "13139       16305        5358         4.9516          INLAND   \n",
       "10309       16122        5189         7.4947       <1H OCEAN   \n",
       "8985         7431        4930         5.3359       <1H OCEAN   \n",
       "6057        15507        5050         6.0191       <1H OCEAN   \n",
       "\n",
       "       median_house_value  \n",
       "9880               118800  \n",
       "13139              153700  \n",
       "10309              366300  \n",
       "8985               500001  \n",
       "6057               253900  "
      ]
     },
     "execution_count": 31,
     "metadata": {},
     "output_type": "execute_result"
    }
   ],
   "source": [
    "viviendas.sort_values(['total_bedrooms','population', 'households'], ascending=[False, False, True]).head()"
   ]
  },
  {
   "cell_type": "markdown",
   "metadata": {
    "id": "MmKvORC-dP83"
   },
   "source": [
    "### *Ejercicio 5*\n",
    "\n",
    "Extrae de mayor a menor por precio las filas de la tabla para viviendas alejadas del mar (INLAND)."
   ]
  },
  {
   "cell_type": "code",
   "execution_count": 39,
   "metadata": {},
   "outputs": [
    {
     "name": "stdout",
     "output_type": "stream",
     "text": [
      "       longitude  latitude  housing_median_age  total_rooms  total_bedrooms  \\\n",
      "12341    -116.55     33.84                  28         2992           562.0   \n",
      "1914     -120.10     38.91                  33         1561           282.0   \n",
      "6374     -118.02     34.17                  32         3868           548.0   \n",
      "6375     -118.03     34.16                  36         1640           239.0   \n",
      "6390     -118.05     34.15                  32         5131           665.0   \n",
      "...          ...       ...                 ...          ...             ...   \n",
      "13889    -116.57     35.43                   8         9975          1743.0   \n",
      "19802    -123.17     40.31                  36           98            28.0   \n",
      "2521     -122.74     39.71                  16          255            73.0   \n",
      "2799     -117.02     36.40                  19          619           239.0   \n",
      "9188     -117.86     34.24                  52          803           267.0   \n",
      "\n",
      "       population  households  median_income ocean_proximity  \\\n",
      "12341         676         346         5.7613          INLAND   \n",
      "1914           30          11         1.8750          INLAND   \n",
      "6374         1558         528         9.4667          INLAND   \n",
      "6375          693         253         6.6888          INLAND   \n",
      "6390         1877         622         8.2004          INLAND   \n",
      "...           ...         ...            ...             ...   \n",
      "13889        6835        1439         2.7138          INLAND   \n",
      "19802          18           8         0.5360          INLAND   \n",
      "2521           85          38         1.6607          INLAND   \n",
      "2799          490         164         2.1000          INLAND   \n",
      "9188          628         225         4.1932          INLAND   \n",
      "\n",
      "       median_house_value  \n",
      "12341              500001  \n",
      "1914               500001  \n",
      "6374               500001  \n",
      "6375               500001  \n",
      "6390               500001  \n",
      "...                   ...  \n",
      "13889               22500  \n",
      "19802               14999  \n",
      "2521                14999  \n",
      "2799                14999  \n",
      "9188                14999  \n",
      "\n",
      "[6551 rows x 10 columns]\n"
     ]
    }
   ],
   "source": [
    "inland_desc = viviendas[viviendas.ocean_proximity == 'INLAND'].sort_values(by='median_house_value', ascending=False)\n",
    "print(inland_desc)"
   ]
  },
  {
   "cell_type": "markdown",
   "metadata": {
    "id": "WgMJJDhxdP83"
   },
   "source": [
    "## 4. Transformación\n",
    "\n",
    "Adición de nuevas columnas calculadas, cambio de tipo de dato y supresión de una columna\n",
    "\n"
   ]
  },
  {
   "cell_type": "markdown",
   "metadata": {
    "id": "fQlHzhctdP84"
   },
   "source": [
    "### 4.1. Crear una columna calculada\n",
    "\n",
    "Podemos operar sobre las columnas para crear otras nuevas"
   ]
  },
  {
   "cell_type": "code",
   "execution_count": 40,
   "metadata": {
    "id": "CuR-z8mLdP84"
   },
   "outputs": [
    {
     "data": {
      "text/html": [
       "<div>\n",
       "<style scoped>\n",
       "    .dataframe tbody tr th:only-of-type {\n",
       "        vertical-align: middle;\n",
       "    }\n",
       "\n",
       "    .dataframe tbody tr th {\n",
       "        vertical-align: top;\n",
       "    }\n",
       "\n",
       "    .dataframe thead th {\n",
       "        text-align: right;\n",
       "    }\n",
       "</style>\n",
       "<table border=\"1\" class=\"dataframe\">\n",
       "  <thead>\n",
       "    <tr style=\"text-align: right;\">\n",
       "      <th></th>\n",
       "      <th>longitude</th>\n",
       "      <th>latitude</th>\n",
       "      <th>housing_median_age</th>\n",
       "      <th>total_rooms</th>\n",
       "      <th>total_bedrooms</th>\n",
       "      <th>population</th>\n",
       "      <th>households</th>\n",
       "      <th>median_income</th>\n",
       "      <th>ocean_proximity</th>\n",
       "      <th>median_house_value</th>\n",
       "      <th>precio_euros</th>\n",
       "    </tr>\n",
       "  </thead>\n",
       "  <tbody>\n",
       "    <tr>\n",
       "      <th>0</th>\n",
       "      <td>-122.23</td>\n",
       "      <td>37.88</td>\n",
       "      <td>41</td>\n",
       "      <td>880</td>\n",
       "      <td>129.0</td>\n",
       "      <td>322</td>\n",
       "      <td>126</td>\n",
       "      <td>8.3252</td>\n",
       "      <td>NEAR BAY</td>\n",
       "      <td>452600</td>\n",
       "      <td>402814.0</td>\n",
       "    </tr>\n",
       "    <tr>\n",
       "      <th>1</th>\n",
       "      <td>-122.22</td>\n",
       "      <td>37.86</td>\n",
       "      <td>21</td>\n",
       "      <td>7099</td>\n",
       "      <td>1106.0</td>\n",
       "      <td>2401</td>\n",
       "      <td>1138</td>\n",
       "      <td>8.3014</td>\n",
       "      <td>NEAR BAY</td>\n",
       "      <td>358500</td>\n",
       "      <td>319065.0</td>\n",
       "    </tr>\n",
       "    <tr>\n",
       "      <th>2</th>\n",
       "      <td>-122.24</td>\n",
       "      <td>37.85</td>\n",
       "      <td>52</td>\n",
       "      <td>1467</td>\n",
       "      <td>190.0</td>\n",
       "      <td>496</td>\n",
       "      <td>177</td>\n",
       "      <td>7.2574</td>\n",
       "      <td>NEAR BAY</td>\n",
       "      <td>352100</td>\n",
       "      <td>313369.0</td>\n",
       "    </tr>\n",
       "    <tr>\n",
       "      <th>3</th>\n",
       "      <td>-122.25</td>\n",
       "      <td>37.85</td>\n",
       "      <td>52</td>\n",
       "      <td>1274</td>\n",
       "      <td>235.0</td>\n",
       "      <td>558</td>\n",
       "      <td>219</td>\n",
       "      <td>5.6431</td>\n",
       "      <td>NEAR BAY</td>\n",
       "      <td>341300</td>\n",
       "      <td>303757.0</td>\n",
       "    </tr>\n",
       "    <tr>\n",
       "      <th>4</th>\n",
       "      <td>-122.25</td>\n",
       "      <td>37.85</td>\n",
       "      <td>52</td>\n",
       "      <td>1627</td>\n",
       "      <td>280.0</td>\n",
       "      <td>565</td>\n",
       "      <td>259</td>\n",
       "      <td>3.8462</td>\n",
       "      <td>NEAR BAY</td>\n",
       "      <td>342200</td>\n",
       "      <td>304558.0</td>\n",
       "    </tr>\n",
       "  </tbody>\n",
       "</table>\n",
       "</div>"
      ],
      "text/plain": [
       "   longitude  latitude  housing_median_age  total_rooms  total_bedrooms  \\\n",
       "0    -122.23     37.88                  41          880           129.0   \n",
       "1    -122.22     37.86                  21         7099          1106.0   \n",
       "2    -122.24     37.85                  52         1467           190.0   \n",
       "3    -122.25     37.85                  52         1274           235.0   \n",
       "4    -122.25     37.85                  52         1627           280.0   \n",
       "\n",
       "   population  households  median_income ocean_proximity  median_house_value  \\\n",
       "0         322         126         8.3252        NEAR BAY              452600   \n",
       "1        2401        1138         8.3014        NEAR BAY              358500   \n",
       "2         496         177         7.2574        NEAR BAY              352100   \n",
       "3         558         219         5.6431        NEAR BAY              341300   \n",
       "4         565         259         3.8462        NEAR BAY              342200   \n",
       "\n",
       "   precio_euros  \n",
       "0      402814.0  \n",
       "1      319065.0  \n",
       "2      313369.0  \n",
       "3      303757.0  \n",
       "4      304558.0  "
      ]
     },
     "execution_count": 40,
     "metadata": {},
     "output_type": "execute_result"
    }
   ],
   "source": [
    "# Hago una copia para no modificar el dataframe original\n",
    "viviendas_2 = viviendas.copy()\n",
    "\n",
    "viviendas_2['precio_euros'] = viviendas.median_house_value * 0.89\n",
    "viviendas_2.head()"
   ]
  },
  {
   "cell_type": "markdown",
   "metadata": {
    "id": "YutmJ-XedP84"
   },
   "source": [
    "Las operaciones que no se pueden lanzar directamente sobre la `Series` completa, la ejecutamos por elemento utilizando `apply`"
   ]
  },
  {
   "cell_type": "markdown",
   "metadata": {
    "id": "iwVJuJOjdP84"
   },
   "source": [
    "### *Ejercicio 6*\n",
    "\n",
    "Crea una nueva columna que consideres interesante para este dataset.\n",
    "Extra: Busca información sobre las funciones `lambda` en Pandas y pon un ejemplo. utilizando `apply`"
   ]
  },
  {
   "cell_type": "markdown",
   "metadata": {
    "id": "WwjVrEJAdP84"
   },
   "source": [
    "## 5. Renombrar una columna\n",
    "\n",
    "Fíjate en la documentación de `rename` y sus ejemplos, [aquí](https://pandas.pydata.org/pandas-docs/stable/reference/api/pandas.DataFrame.rename.html).\n",
    "\n",
    "Por ejemplo, para renombrar la columna `median_house_value` a `precio_medio_viivenda` sería:"
   ]
  },
  {
   "cell_type": "code",
   "execution_count": 43,
   "metadata": {
    "id": "_ieh7AKpdP85"
   },
   "outputs": [
    {
     "data": {
      "text/html": [
       "<div>\n",
       "<style scoped>\n",
       "    .dataframe tbody tr th:only-of-type {\n",
       "        vertical-align: middle;\n",
       "    }\n",
       "\n",
       "    .dataframe tbody tr th {\n",
       "        vertical-align: top;\n",
       "    }\n",
       "\n",
       "    .dataframe thead th {\n",
       "        text-align: right;\n",
       "    }\n",
       "</style>\n",
       "<table border=\"1\" class=\"dataframe\">\n",
       "  <thead>\n",
       "    <tr style=\"text-align: right;\">\n",
       "      <th></th>\n",
       "      <th>longitude</th>\n",
       "      <th>latitude</th>\n",
       "      <th>housing_median_age</th>\n",
       "      <th>total_rooms</th>\n",
       "      <th>total_bedrooms</th>\n",
       "      <th>population</th>\n",
       "      <th>households</th>\n",
       "      <th>median_income</th>\n",
       "      <th>ocean_proximity</th>\n",
       "      <th>precio_medio_viivenda</th>\n",
       "      <th>precio_euros</th>\n",
       "    </tr>\n",
       "  </thead>\n",
       "  <tbody>\n",
       "    <tr>\n",
       "      <th>0</th>\n",
       "      <td>-122.23</td>\n",
       "      <td>37.88</td>\n",
       "      <td>41</td>\n",
       "      <td>880</td>\n",
       "      <td>129.0</td>\n",
       "      <td>322</td>\n",
       "      <td>126</td>\n",
       "      <td>8.3252</td>\n",
       "      <td>NEAR BAY</td>\n",
       "      <td>452600</td>\n",
       "      <td>402814.0</td>\n",
       "    </tr>\n",
       "    <tr>\n",
       "      <th>1</th>\n",
       "      <td>-122.22</td>\n",
       "      <td>37.86</td>\n",
       "      <td>21</td>\n",
       "      <td>7099</td>\n",
       "      <td>1106.0</td>\n",
       "      <td>2401</td>\n",
       "      <td>1138</td>\n",
       "      <td>8.3014</td>\n",
       "      <td>NEAR BAY</td>\n",
       "      <td>358500</td>\n",
       "      <td>319065.0</td>\n",
       "    </tr>\n",
       "    <tr>\n",
       "      <th>2</th>\n",
       "      <td>-122.24</td>\n",
       "      <td>37.85</td>\n",
       "      <td>52</td>\n",
       "      <td>1467</td>\n",
       "      <td>190.0</td>\n",
       "      <td>496</td>\n",
       "      <td>177</td>\n",
       "      <td>7.2574</td>\n",
       "      <td>NEAR BAY</td>\n",
       "      <td>352100</td>\n",
       "      <td>313369.0</td>\n",
       "    </tr>\n",
       "    <tr>\n",
       "      <th>3</th>\n",
       "      <td>-122.25</td>\n",
       "      <td>37.85</td>\n",
       "      <td>52</td>\n",
       "      <td>1274</td>\n",
       "      <td>235.0</td>\n",
       "      <td>558</td>\n",
       "      <td>219</td>\n",
       "      <td>5.6431</td>\n",
       "      <td>NEAR BAY</td>\n",
       "      <td>341300</td>\n",
       "      <td>303757.0</td>\n",
       "    </tr>\n",
       "    <tr>\n",
       "      <th>4</th>\n",
       "      <td>-122.25</td>\n",
       "      <td>37.85</td>\n",
       "      <td>52</td>\n",
       "      <td>1627</td>\n",
       "      <td>280.0</td>\n",
       "      <td>565</td>\n",
       "      <td>259</td>\n",
       "      <td>3.8462</td>\n",
       "      <td>NEAR BAY</td>\n",
       "      <td>342200</td>\n",
       "      <td>304558.0</td>\n",
       "    </tr>\n",
       "  </tbody>\n",
       "</table>\n",
       "</div>"
      ],
      "text/plain": [
       "   longitude  latitude  housing_median_age  total_rooms  total_bedrooms  \\\n",
       "0    -122.23     37.88                  41          880           129.0   \n",
       "1    -122.22     37.86                  21         7099          1106.0   \n",
       "2    -122.24     37.85                  52         1467           190.0   \n",
       "3    -122.25     37.85                  52         1274           235.0   \n",
       "4    -122.25     37.85                  52         1627           280.0   \n",
       "\n",
       "   population  households  median_income ocean_proximity  \\\n",
       "0         322         126         8.3252        NEAR BAY   \n",
       "1        2401        1138         8.3014        NEAR BAY   \n",
       "2         496         177         7.2574        NEAR BAY   \n",
       "3         558         219         5.6431        NEAR BAY   \n",
       "4         565         259         3.8462        NEAR BAY   \n",
       "\n",
       "   precio_medio_viivenda  precio_euros  \n",
       "0                 452600      402814.0  \n",
       "1                 358500      319065.0  \n",
       "2                 352100      313369.0  \n",
       "3                 341300      303757.0  \n",
       "4                 342200      304558.0  "
      ]
     },
     "execution_count": 43,
     "metadata": {},
     "output_type": "execute_result"
    }
   ],
   "source": [
    "viviendas_2 = viviendas_2.rename(columns={'median_house_value': 'precio_medio_vivienda'})\n",
    "viviendas_2.head()"
   ]
  },
  {
   "cell_type": "markdown",
   "metadata": {
    "id": "OzXMyBGpdP87"
   },
   "source": [
    "Fíjate en el ejemplo anterior. En general, las funciones de `pandas` crean un nuevo objeto con el resultado de la operación, pero no modifican el actual. En estas funciones, suele haber un parámetro `inplace` con valor por defecto a `False`. Si lo ponemos a `True`, la operación se realiza sobre el objeto que pasamos por parámetro."
   ]
  },
  {
   "cell_type": "markdown",
   "metadata": {
    "id": "NqBXZvqWdP88"
   },
   "source": [
    "#### La importancia de la nomenclatura\n",
    "\n",
    "Tener buenos nombres de columnas en un DataFrame es importante. Hará mucho más legible nuestro código si nuestras columnas tienen nombres descriptivos, sin caracteres extraños y separados por `_`.\n",
    "\n",
    "Unos cuantos ejemplos de malos nombres:\n",
    "\n",
    "* `col1`, `col2`, ..., `colN`: no sabemos qué es cada cosa.\n",
    "* `precio euros`, `metros cuadrados`: los espacios dificultan escribir código. Por ejemplo, ya no podremos acceder a las columnas con la notación `dataframe.columna`.\n",
    "* `año`, `variación`, `precio_€`: los caracteres no-asciii (que no son letras no acentuadas ni números) pueden dar problemas al compartir código (p.e. entre Linux y Windows), al exportar / importar, etc. Es mejor evitarlos.\n",
    "* `PrecioEuros`, `MetrosCuadrados`: aunque es más sutil, el estándar en Python es escribir en snake_case. Es decir, utilizando minúsculas y usando `_` para separar palabras.\n",
    "\n",
    "Ejemplo de buenos nombres:\n",
    "\n",
    "* `distrito`, `precio_euros`, `metros_cuadrados`"
   ]
  },
  {
   "cell_type": "markdown",
   "metadata": {
    "id": "8ItE4HQLdP88"
   },
   "source": [
    "### Eliminar una columna\n",
    "\n",
    "Podemos utilizar [`drop`](https://pandas.pydata.org/pandas-docs/stable/reference/api/pandas.DataFrame.drop.html).\n",
    "\n",
    "Por ejemplo:"
   ]
  },
  {
   "cell_type": "code",
   "execution_count": 44,
   "metadata": {
    "id": "yO1RAgVmdP88"
   },
   "outputs": [
    {
     "data": {
      "text/html": [
       "<div>\n",
       "<style scoped>\n",
       "    .dataframe tbody tr th:only-of-type {\n",
       "        vertical-align: middle;\n",
       "    }\n",
       "\n",
       "    .dataframe tbody tr th {\n",
       "        vertical-align: top;\n",
       "    }\n",
       "\n",
       "    .dataframe thead th {\n",
       "        text-align: right;\n",
       "    }\n",
       "</style>\n",
       "<table border=\"1\" class=\"dataframe\">\n",
       "  <thead>\n",
       "    <tr style=\"text-align: right;\">\n",
       "      <th></th>\n",
       "      <th>longitude</th>\n",
       "      <th>latitude</th>\n",
       "      <th>housing_median_age</th>\n",
       "      <th>total_rooms</th>\n",
       "      <th>total_bedrooms</th>\n",
       "      <th>population</th>\n",
       "      <th>households</th>\n",
       "      <th>median_income</th>\n",
       "      <th>ocean_proximity</th>\n",
       "      <th>precio_medio_viivenda</th>\n",
       "    </tr>\n",
       "  </thead>\n",
       "  <tbody>\n",
       "    <tr>\n",
       "      <th>0</th>\n",
       "      <td>-122.23</td>\n",
       "      <td>37.88</td>\n",
       "      <td>41</td>\n",
       "      <td>880</td>\n",
       "      <td>129.0</td>\n",
       "      <td>322</td>\n",
       "      <td>126</td>\n",
       "      <td>8.3252</td>\n",
       "      <td>NEAR BAY</td>\n",
       "      <td>452600</td>\n",
       "    </tr>\n",
       "    <tr>\n",
       "      <th>1</th>\n",
       "      <td>-122.22</td>\n",
       "      <td>37.86</td>\n",
       "      <td>21</td>\n",
       "      <td>7099</td>\n",
       "      <td>1106.0</td>\n",
       "      <td>2401</td>\n",
       "      <td>1138</td>\n",
       "      <td>8.3014</td>\n",
       "      <td>NEAR BAY</td>\n",
       "      <td>358500</td>\n",
       "    </tr>\n",
       "    <tr>\n",
       "      <th>2</th>\n",
       "      <td>-122.24</td>\n",
       "      <td>37.85</td>\n",
       "      <td>52</td>\n",
       "      <td>1467</td>\n",
       "      <td>190.0</td>\n",
       "      <td>496</td>\n",
       "      <td>177</td>\n",
       "      <td>7.2574</td>\n",
       "      <td>NEAR BAY</td>\n",
       "      <td>352100</td>\n",
       "    </tr>\n",
       "    <tr>\n",
       "      <th>3</th>\n",
       "      <td>-122.25</td>\n",
       "      <td>37.85</td>\n",
       "      <td>52</td>\n",
       "      <td>1274</td>\n",
       "      <td>235.0</td>\n",
       "      <td>558</td>\n",
       "      <td>219</td>\n",
       "      <td>5.6431</td>\n",
       "      <td>NEAR BAY</td>\n",
       "      <td>341300</td>\n",
       "    </tr>\n",
       "    <tr>\n",
       "      <th>4</th>\n",
       "      <td>-122.25</td>\n",
       "      <td>37.85</td>\n",
       "      <td>52</td>\n",
       "      <td>1627</td>\n",
       "      <td>280.0</td>\n",
       "      <td>565</td>\n",
       "      <td>259</td>\n",
       "      <td>3.8462</td>\n",
       "      <td>NEAR BAY</td>\n",
       "      <td>342200</td>\n",
       "    </tr>\n",
       "  </tbody>\n",
       "</table>\n",
       "</div>"
      ],
      "text/plain": [
       "   longitude  latitude  housing_median_age  total_rooms  total_bedrooms  \\\n",
       "0    -122.23     37.88                  41          880           129.0   \n",
       "1    -122.22     37.86                  21         7099          1106.0   \n",
       "2    -122.24     37.85                  52         1467           190.0   \n",
       "3    -122.25     37.85                  52         1274           235.0   \n",
       "4    -122.25     37.85                  52         1627           280.0   \n",
       "\n",
       "   population  households  median_income ocean_proximity  \\\n",
       "0         322         126         8.3252        NEAR BAY   \n",
       "1        2401        1138         8.3014        NEAR BAY   \n",
       "2         496         177         7.2574        NEAR BAY   \n",
       "3         558         219         5.6431        NEAR BAY   \n",
       "4         565         259         3.8462        NEAR BAY   \n",
       "\n",
       "   precio_medio_viivenda  \n",
       "0                 452600  \n",
       "1                 358500  \n",
       "2                 352100  \n",
       "3                 341300  \n",
       "4                 342200  "
      ]
     },
     "execution_count": 44,
     "metadata": {},
     "output_type": "execute_result"
    }
   ],
   "source": [
    "viviendas_2 = viviendas_2.drop(columns=['precio_euros'])\n",
    "viviendas_2.head()"
   ]
  },
  {
   "cell_type": "markdown",
   "metadata": {
    "id": "1LopEa0MdP88"
   },
   "source": [
    "#### Cambiar el tipo de dato\n",
    "\n",
    "Vamos a crear un DataFrame muy simple para verlo."
   ]
  },
  {
   "cell_type": "code",
   "execution_count": 45,
   "metadata": {
    "id": "06iNpOn_dP89"
   },
   "outputs": [
    {
     "data": {
      "text/html": [
       "<div>\n",
       "<style scoped>\n",
       "    .dataframe tbody tr th:only-of-type {\n",
       "        vertical-align: middle;\n",
       "    }\n",
       "\n",
       "    .dataframe tbody tr th {\n",
       "        vertical-align: top;\n",
       "    }\n",
       "\n",
       "    .dataframe thead th {\n",
       "        text-align: right;\n",
       "    }\n",
       "</style>\n",
       "<table border=\"1\" class=\"dataframe\">\n",
       "  <thead>\n",
       "    <tr style=\"text-align: right;\">\n",
       "      <th></th>\n",
       "      <th>precio</th>\n",
       "    </tr>\n",
       "  </thead>\n",
       "  <tbody>\n",
       "    <tr>\n",
       "      <th>0</th>\n",
       "      <td>10.50</td>\n",
       "    </tr>\n",
       "    <tr>\n",
       "      <th>1</th>\n",
       "      <td>15.35</td>\n",
       "    </tr>\n",
       "    <tr>\n",
       "      <th>2</th>\n",
       "      <td>22.15</td>\n",
       "    </tr>\n",
       "  </tbody>\n",
       "</table>\n",
       "</div>"
      ],
      "text/plain": [
       "  precio\n",
       "0  10.50\n",
       "1  15.35\n",
       "2  22.15"
      ]
     },
     "execution_count": 45,
     "metadata": {},
     "output_type": "execute_result"
    }
   ],
   "source": [
    "prueba = pd.DataFrame({'precio': ['10.50', '15.35', '22.15']})\n",
    "prueba"
   ]
  },
  {
   "cell_type": "code",
   "execution_count": 46,
   "metadata": {
    "id": "pzjCRC_GdP89"
   },
   "outputs": [
    {
     "data": {
      "text/plain": [
       "precio    object\n",
       "dtype: object"
      ]
     },
     "execution_count": 46,
     "metadata": {},
     "output_type": "execute_result"
    }
   ],
   "source": [
    "prueba.dtypes"
   ]
  },
  {
   "cell_type": "markdown",
   "metadata": {
    "id": "GJYc6RKRdP89"
   },
   "source": [
    "Tenemos un DataFrame con precios, pero estos son cadenas de texto en lugar de números. Esto va a limitar nuestro análisis: no podremos ejecutar operaciones aritméticas, calcular medias, etc.\n",
    "\n",
    "Es muy habitual que esto pase en el momento de cargar unos datos. Veremos más adelante cómo solucionar problemas al cargar CSVs de habla española, que utilizan la coma como separador decimal en lugar del punto, que es el que entiende Python (y, en general, todos los lenguajes de programación).\n",
    "\n",
    "Sobre nuestro ejemplo actual `prueba`, podemos usar [`astype`](https://pandas.pydata.org/pandas-docs/stable/reference/api/pandas.DataFrame.astype.html) para convertir la columna a numérica. En este caso, como es numérica con decimales, usaremos el tipo `float`."
   ]
  },
  {
   "cell_type": "code",
   "execution_count": 47,
   "metadata": {
    "id": "OM-AAUBxdP89"
   },
   "outputs": [
    {
     "data": {
      "text/plain": [
       "precio    float64\n",
       "dtype: object"
      ]
     },
     "execution_count": 47,
     "metadata": {},
     "output_type": "execute_result"
    }
   ],
   "source": [
    "prueba['precio'] = prueba.precio.astype(float)\n",
    "prueba.dtypes"
   ]
  },
  {
   "cell_type": "markdown",
   "metadata": {
    "id": "NKtLTl__dP8-"
   },
   "source": [
    "## 6. Resumen estadístico\n",
    "\n",
    "Pandas provee una serie de funciones de resumen estadístico que podemos aplicar sobre una columna concreta, o sobre todas las del DataFrame."
   ]
  },
  {
   "cell_type": "markdown",
   "metadata": {
    "id": "MtpOdriqdP8-"
   },
   "source": [
    "Para un resumen para todas las columnas de número de filas, media, desviación estándar, cuartiles, ... usamos [`describe`](https://pandas.pydata.org/pandas-docs/stable/generated/pandas.DataFrame.describe.html)"
   ]
  },
  {
   "cell_type": "code",
   "execution_count": 48,
   "metadata": {
    "id": "yyrQm_pBdP8-"
   },
   "outputs": [
    {
     "data": {
      "text/html": [
       "<div>\n",
       "<style scoped>\n",
       "    .dataframe tbody tr th:only-of-type {\n",
       "        vertical-align: middle;\n",
       "    }\n",
       "\n",
       "    .dataframe tbody tr th {\n",
       "        vertical-align: top;\n",
       "    }\n",
       "\n",
       "    .dataframe thead th {\n",
       "        text-align: right;\n",
       "    }\n",
       "</style>\n",
       "<table border=\"1\" class=\"dataframe\">\n",
       "  <thead>\n",
       "    <tr style=\"text-align: right;\">\n",
       "      <th></th>\n",
       "      <th>longitude</th>\n",
       "      <th>latitude</th>\n",
       "      <th>housing_median_age</th>\n",
       "      <th>total_rooms</th>\n",
       "      <th>total_bedrooms</th>\n",
       "      <th>population</th>\n",
       "      <th>households</th>\n",
       "      <th>median_income</th>\n",
       "      <th>median_house_value</th>\n",
       "    </tr>\n",
       "  </thead>\n",
       "  <tbody>\n",
       "    <tr>\n",
       "      <th>count</th>\n",
       "      <td>20640.000000</td>\n",
       "      <td>20640.000000</td>\n",
       "      <td>20640.000000</td>\n",
       "      <td>20640.000000</td>\n",
       "      <td>20433.000000</td>\n",
       "      <td>20640.000000</td>\n",
       "      <td>20640.000000</td>\n",
       "      <td>20640.000000</td>\n",
       "      <td>20640.000000</td>\n",
       "    </tr>\n",
       "    <tr>\n",
       "      <th>mean</th>\n",
       "      <td>-119.569704</td>\n",
       "      <td>35.631861</td>\n",
       "      <td>28.639486</td>\n",
       "      <td>2635.763081</td>\n",
       "      <td>537.870553</td>\n",
       "      <td>1425.476744</td>\n",
       "      <td>499.539680</td>\n",
       "      <td>3.870671</td>\n",
       "      <td>206855.816909</td>\n",
       "    </tr>\n",
       "    <tr>\n",
       "      <th>std</th>\n",
       "      <td>2.003532</td>\n",
       "      <td>2.135952</td>\n",
       "      <td>12.585558</td>\n",
       "      <td>2181.615252</td>\n",
       "      <td>421.385070</td>\n",
       "      <td>1132.462122</td>\n",
       "      <td>382.329753</td>\n",
       "      <td>1.899822</td>\n",
       "      <td>115395.615874</td>\n",
       "    </tr>\n",
       "    <tr>\n",
       "      <th>min</th>\n",
       "      <td>-124.350000</td>\n",
       "      <td>32.540000</td>\n",
       "      <td>1.000000</td>\n",
       "      <td>2.000000</td>\n",
       "      <td>1.000000</td>\n",
       "      <td>3.000000</td>\n",
       "      <td>1.000000</td>\n",
       "      <td>0.499900</td>\n",
       "      <td>14999.000000</td>\n",
       "    </tr>\n",
       "    <tr>\n",
       "      <th>25%</th>\n",
       "      <td>-121.800000</td>\n",
       "      <td>33.930000</td>\n",
       "      <td>18.000000</td>\n",
       "      <td>1447.750000</td>\n",
       "      <td>296.000000</td>\n",
       "      <td>787.000000</td>\n",
       "      <td>280.000000</td>\n",
       "      <td>2.563400</td>\n",
       "      <td>119600.000000</td>\n",
       "    </tr>\n",
       "    <tr>\n",
       "      <th>50%</th>\n",
       "      <td>-118.490000</td>\n",
       "      <td>34.260000</td>\n",
       "      <td>29.000000</td>\n",
       "      <td>2127.000000</td>\n",
       "      <td>435.000000</td>\n",
       "      <td>1166.000000</td>\n",
       "      <td>409.000000</td>\n",
       "      <td>3.534800</td>\n",
       "      <td>179700.000000</td>\n",
       "    </tr>\n",
       "    <tr>\n",
       "      <th>75%</th>\n",
       "      <td>-118.010000</td>\n",
       "      <td>37.710000</td>\n",
       "      <td>37.000000</td>\n",
       "      <td>3148.000000</td>\n",
       "      <td>647.000000</td>\n",
       "      <td>1725.000000</td>\n",
       "      <td>605.000000</td>\n",
       "      <td>4.743250</td>\n",
       "      <td>264725.000000</td>\n",
       "    </tr>\n",
       "    <tr>\n",
       "      <th>max</th>\n",
       "      <td>-114.310000</td>\n",
       "      <td>41.950000</td>\n",
       "      <td>52.000000</td>\n",
       "      <td>39320.000000</td>\n",
       "      <td>6445.000000</td>\n",
       "      <td>35682.000000</td>\n",
       "      <td>6082.000000</td>\n",
       "      <td>15.000100</td>\n",
       "      <td>500001.000000</td>\n",
       "    </tr>\n",
       "  </tbody>\n",
       "</table>\n",
       "</div>"
      ],
      "text/plain": [
       "          longitude      latitude  housing_median_age   total_rooms  \\\n",
       "count  20640.000000  20640.000000        20640.000000  20640.000000   \n",
       "mean    -119.569704     35.631861           28.639486   2635.763081   \n",
       "std        2.003532      2.135952           12.585558   2181.615252   \n",
       "min     -124.350000     32.540000            1.000000      2.000000   \n",
       "25%     -121.800000     33.930000           18.000000   1447.750000   \n",
       "50%     -118.490000     34.260000           29.000000   2127.000000   \n",
       "75%     -118.010000     37.710000           37.000000   3148.000000   \n",
       "max     -114.310000     41.950000           52.000000  39320.000000   \n",
       "\n",
       "       total_bedrooms    population    households  median_income  \\\n",
       "count    20433.000000  20640.000000  20640.000000   20640.000000   \n",
       "mean       537.870553   1425.476744    499.539680       3.870671   \n",
       "std        421.385070   1132.462122    382.329753       1.899822   \n",
       "min          1.000000      3.000000      1.000000       0.499900   \n",
       "25%        296.000000    787.000000    280.000000       2.563400   \n",
       "50%        435.000000   1166.000000    409.000000       3.534800   \n",
       "75%        647.000000   1725.000000    605.000000       4.743250   \n",
       "max       6445.000000  35682.000000   6082.000000      15.000100   \n",
       "\n",
       "       median_house_value  \n",
       "count        20640.000000  \n",
       "mean        206855.816909  \n",
       "std         115395.615874  \n",
       "min          14999.000000  \n",
       "25%         119600.000000  \n",
       "50%         179700.000000  \n",
       "75%         264725.000000  \n",
       "max         500001.000000  "
      ]
     },
     "execution_count": 48,
     "metadata": {},
     "output_type": "execute_result"
    }
   ],
   "source": [
    "viviendas.describe()"
   ]
  },
  {
   "cell_type": "markdown",
   "metadata": {
    "id": "l2Ag8ZjndP8-"
   },
   "source": [
    "Podemos utilizar también `sum`, `mean`, `std`, `count`, `min`, `max`, ... sobre el DataFrame o una columna en concreto"
   ]
  },
  {
   "cell_type": "code",
   "execution_count": 53,
   "metadata": {
    "id": "PzOtLAafdP8-",
    "outputId": "565f7ccf-2a63-4528-d52a-182b314d3d2f"
   },
   "outputs": [
    {
     "data": {
      "text/plain": [
       "<bound method DataFrame.mean of        longitude  latitude  housing_median_age  total_rooms  total_bedrooms  \\\n",
       "0        -122.23     37.88                  41          880           129.0   \n",
       "1        -122.22     37.86                  21         7099          1106.0   \n",
       "2        -122.24     37.85                  52         1467           190.0   \n",
       "3        -122.25     37.85                  52         1274           235.0   \n",
       "4        -122.25     37.85                  52         1627           280.0   \n",
       "...          ...       ...                 ...          ...             ...   \n",
       "20635    -121.09     39.48                  25         1665           374.0   \n",
       "20636    -121.21     39.49                  18          697           150.0   \n",
       "20637    -121.22     39.43                  17         2254           485.0   \n",
       "20638    -121.32     39.43                  18         1860           409.0   \n",
       "20639    -121.24     39.37                  16         2785           616.0   \n",
       "\n",
       "       population  households  median_income ocean_proximity  \\\n",
       "0             322         126         8.3252        NEAR BAY   \n",
       "1            2401        1138         8.3014        NEAR BAY   \n",
       "2             496         177         7.2574        NEAR BAY   \n",
       "3             558         219         5.6431        NEAR BAY   \n",
       "4             565         259         3.8462        NEAR BAY   \n",
       "...           ...         ...            ...             ...   \n",
       "20635         845         330         1.5603          INLAND   \n",
       "20636         356         114         2.5568          INLAND   \n",
       "20637        1007         433         1.7000          INLAND   \n",
       "20638         741         349         1.8672          INLAND   \n",
       "20639        1387         530         2.3886          INLAND   \n",
       "\n",
       "       median_house_value  \n",
       "0                  452600  \n",
       "1                  358500  \n",
       "2                  352100  \n",
       "3                  341300  \n",
       "4                  342200  \n",
       "...                   ...  \n",
       "20635               78100  \n",
       "20636               77100  \n",
       "20637               92300  \n",
       "20638               84700  \n",
       "20639               89400  \n",
       "\n",
       "[20640 rows x 10 columns]>"
      ]
     },
     "execution_count": 53,
     "metadata": {},
     "output_type": "execute_result"
    }
   ],
   "source": [
    "viviendas.mean"
   ]
  },
  {
   "cell_type": "code",
   "execution_count": 59,
   "metadata": {
    "id": "d92mz7gedP8-",
    "outputId": "f69e1a8e-c47d-4446-ce65-fb0582906543"
   },
   "outputs": [
    {
     "data": {
      "text/plain": [
       "500001"
      ]
     },
     "execution_count": 59,
     "metadata": {},
     "output_type": "execute_result"
    }
   ],
   "source": [
    "viviendas.median_house_value.max()"
   ]
  },
  {
   "cell_type": "markdown",
   "metadata": {
    "id": "FiXPKEOEdP8_"
   },
   "source": [
    "### * Ejercicio 7*\n",
    "\n",
    "Extrae los cuantiles 0.1 y 0.9 del precio para aquellas viviendas próximas a la bahía."
   ]
  },
  {
   "cell_type": "code",
   "execution_count": 60,
   "metadata": {
    "id": "tv263tKjdP8_"
   },
   "outputs": [
    {
     "name": "stdout",
     "output_type": "stream",
     "text": [
      "Cuantil 0.1: 112500.0\n",
      "Cuantil 0.9: 469459.99999999994\n"
     ]
    }
   ],
   "source": [
    "cuantil_01 = viviendas[viviendas['ocean_proximity'] == 'NEAR BAY']['median_house_value'].quantile(0.1)\n",
    "cuantil_09 = viviendas[viviendas['ocean_proximity'] == 'NEAR BAY']['median_house_value'].quantile(0.9)\n",
    "\n",
    "print(f'Cuantil 0.1: {cuantil_01}')\n",
    "print(f'Cuantil 0.9: {cuantil_09}')\n"
   ]
  },
  {
   "cell_type": "markdown",
   "metadata": {
    "id": "FUYQqiUvdP8_"
   },
   "source": [
    "## 7. Agrupación\n",
    "\n",
    "De una forma equivalente a como hacemos en SQL, podemos agregar las tablas y sacar resúmenes de los grupos. La operación en pandas se hace en dos fases:\n",
    "\n",
    "* El `groupby`: donde especificamos la o las columnas por las que agregar\n",
    "* La aplicación de la función de agregación sobre una o varias columnas"
   ]
  },
  {
   "cell_type": "markdown",
   "metadata": {
    "id": "aKajh1QSdP8_"
   },
   "source": [
    "Un resumen usando una función de agregación sobre todas las columnas del DataFrame"
   ]
  },
  {
   "cell_type": "code",
   "execution_count": 61,
   "metadata": {
    "id": "6-kDcPCWdP8_",
    "outputId": "935910fb-3fc4-4576-8122-a11cca14c12e"
   },
   "outputs": [
    {
     "data": {
      "text/html": [
       "<div>\n",
       "<style scoped>\n",
       "    .dataframe tbody tr th:only-of-type {\n",
       "        vertical-align: middle;\n",
       "    }\n",
       "\n",
       "    .dataframe tbody tr th {\n",
       "        vertical-align: top;\n",
       "    }\n",
       "\n",
       "    .dataframe thead th {\n",
       "        text-align: right;\n",
       "    }\n",
       "</style>\n",
       "<table border=\"1\" class=\"dataframe\">\n",
       "  <thead>\n",
       "    <tr style=\"text-align: right;\">\n",
       "      <th></th>\n",
       "      <th>longitude</th>\n",
       "      <th>latitude</th>\n",
       "      <th>housing_median_age</th>\n",
       "      <th>total_rooms</th>\n",
       "      <th>total_bedrooms</th>\n",
       "      <th>population</th>\n",
       "      <th>households</th>\n",
       "      <th>median_income</th>\n",
       "      <th>median_house_value</th>\n",
       "    </tr>\n",
       "    <tr>\n",
       "      <th>ocean_proximity</th>\n",
       "      <th></th>\n",
       "      <th></th>\n",
       "      <th></th>\n",
       "      <th></th>\n",
       "      <th></th>\n",
       "      <th></th>\n",
       "      <th></th>\n",
       "      <th></th>\n",
       "      <th></th>\n",
       "    </tr>\n",
       "  </thead>\n",
       "  <tbody>\n",
       "    <tr>\n",
       "      <th>&lt;1H OCEAN</th>\n",
       "      <td>-116.62</td>\n",
       "      <td>41.88</td>\n",
       "      <td>52</td>\n",
       "      <td>37937</td>\n",
       "      <td>6445.0</td>\n",
       "      <td>35682</td>\n",
       "      <td>6082</td>\n",
       "      <td>15.0001</td>\n",
       "      <td>500001</td>\n",
       "    </tr>\n",
       "    <tr>\n",
       "      <th>INLAND</th>\n",
       "      <td>-114.31</td>\n",
       "      <td>41.95</td>\n",
       "      <td>52</td>\n",
       "      <td>39320</td>\n",
       "      <td>6210.0</td>\n",
       "      <td>16305</td>\n",
       "      <td>5358</td>\n",
       "      <td>15.0001</td>\n",
       "      <td>500001</td>\n",
       "    </tr>\n",
       "    <tr>\n",
       "      <th>ISLAND</th>\n",
       "      <td>-118.32</td>\n",
       "      <td>33.43</td>\n",
       "      <td>52</td>\n",
       "      <td>2359</td>\n",
       "      <td>591.0</td>\n",
       "      <td>1100</td>\n",
       "      <td>431</td>\n",
       "      <td>3.3906</td>\n",
       "      <td>450000</td>\n",
       "    </tr>\n",
       "    <tr>\n",
       "      <th>NEAR BAY</th>\n",
       "      <td>-122.01</td>\n",
       "      <td>38.34</td>\n",
       "      <td>52</td>\n",
       "      <td>18634</td>\n",
       "      <td>3226.0</td>\n",
       "      <td>8276</td>\n",
       "      <td>3589</td>\n",
       "      <td>15.0001</td>\n",
       "      <td>500001</td>\n",
       "    </tr>\n",
       "    <tr>\n",
       "      <th>NEAR OCEAN</th>\n",
       "      <td>-116.97</td>\n",
       "      <td>41.95</td>\n",
       "      <td>52</td>\n",
       "      <td>30405</td>\n",
       "      <td>4585.0</td>\n",
       "      <td>12873</td>\n",
       "      <td>4176</td>\n",
       "      <td>15.0001</td>\n",
       "      <td>500001</td>\n",
       "    </tr>\n",
       "  </tbody>\n",
       "</table>\n",
       "</div>"
      ],
      "text/plain": [
       "                 longitude  latitude  housing_median_age  total_rooms  \\\n",
       "ocean_proximity                                                         \n",
       "<1H OCEAN          -116.62     41.88                  52        37937   \n",
       "INLAND             -114.31     41.95                  52        39320   \n",
       "ISLAND             -118.32     33.43                  52         2359   \n",
       "NEAR BAY           -122.01     38.34                  52        18634   \n",
       "NEAR OCEAN         -116.97     41.95                  52        30405   \n",
       "\n",
       "                 total_bedrooms  population  households  median_income  \\\n",
       "ocean_proximity                                                          \n",
       "<1H OCEAN                6445.0       35682        6082        15.0001   \n",
       "INLAND                   6210.0       16305        5358        15.0001   \n",
       "ISLAND                    591.0        1100         431         3.3906   \n",
       "NEAR BAY                 3226.0        8276        3589        15.0001   \n",
       "NEAR OCEAN               4585.0       12873        4176        15.0001   \n",
       "\n",
       "                 median_house_value  \n",
       "ocean_proximity                      \n",
       "<1H OCEAN                    500001  \n",
       "INLAND                       500001  \n",
       "ISLAND                       450000  \n",
       "NEAR BAY                     500001  \n",
       "NEAR OCEAN                   500001  "
      ]
     },
     "execution_count": 61,
     "metadata": {},
     "output_type": "execute_result"
    }
   ],
   "source": [
    "viviendas.groupby('ocean_proximity').max()"
   ]
  },
  {
   "cell_type": "markdown",
   "metadata": {
    "id": "ZkYec1r-dP8_"
   },
   "source": [
    "Para hacerlo únicamente sobre una columna:"
   ]
  },
  {
   "cell_type": "code",
   "execution_count": 62,
   "metadata": {
    "id": "RVZs1cfudP8_",
    "outputId": "9a58ddca-ee3d-47a0-ab10-d73e5857aa57"
   },
   "outputs": [
    {
     "data": {
      "text/plain": [
       "ocean_proximity\n",
       "<1H OCEAN      17500\n",
       "INLAND         14999\n",
       "ISLAND        287500\n",
       "NEAR BAY       22500\n",
       "NEAR OCEAN     22500\n",
       "Name: median_house_value, dtype: int64"
      ]
     },
     "execution_count": 62,
     "metadata": {},
     "output_type": "execute_result"
    }
   ],
   "source": [
    "viviendas.groupby('ocean_proximity').median_house_value.min()"
   ]
  },
  {
   "cell_type": "markdown",
   "metadata": {
    "id": "bxsHvNijdP9A"
   },
   "source": [
    "Para aplicar diferentes resúmenes sobre diferentes columnas"
   ]
  },
  {
   "cell_type": "code",
   "execution_count": 63,
   "metadata": {
    "id": "Ga_SQaYjdP9A",
    "outputId": "df815021-1278-4b19-adef-7e6d41235842"
   },
   "outputs": [
    {
     "data": {
      "text/html": [
       "<div>\n",
       "<style scoped>\n",
       "    .dataframe tbody tr th:only-of-type {\n",
       "        vertical-align: middle;\n",
       "    }\n",
       "\n",
       "    .dataframe tbody tr th {\n",
       "        vertical-align: top;\n",
       "    }\n",
       "\n",
       "    .dataframe thead th {\n",
       "        text-align: right;\n",
       "    }\n",
       "</style>\n",
       "<table border=\"1\" class=\"dataframe\">\n",
       "  <thead>\n",
       "    <tr style=\"text-align: right;\">\n",
       "      <th></th>\n",
       "      <th>households</th>\n",
       "      <th>ocean_proximity</th>\n",
       "    </tr>\n",
       "    <tr>\n",
       "      <th>ocean_proximity</th>\n",
       "      <th></th>\n",
       "      <th></th>\n",
       "    </tr>\n",
       "  </thead>\n",
       "  <tbody>\n",
       "    <tr>\n",
       "      <th>&lt;1H OCEAN</th>\n",
       "      <td>517.744965</td>\n",
       "      <td>&lt;1H OCEAN</td>\n",
       "    </tr>\n",
       "    <tr>\n",
       "      <th>INLAND</th>\n",
       "      <td>477.447565</td>\n",
       "      <td>INLAND</td>\n",
       "    </tr>\n",
       "    <tr>\n",
       "      <th>ISLAND</th>\n",
       "      <td>276.600000</td>\n",
       "      <td>ISLAND</td>\n",
       "    </tr>\n",
       "    <tr>\n",
       "      <th>NEAR BAY</th>\n",
       "      <td>488.616157</td>\n",
       "      <td>NEAR BAY</td>\n",
       "    </tr>\n",
       "    <tr>\n",
       "      <th>NEAR OCEAN</th>\n",
       "      <td>501.244545</td>\n",
       "      <td>NEAR OCEAN</td>\n",
       "    </tr>\n",
       "  </tbody>\n",
       "</table>\n",
       "</div>"
      ],
      "text/plain": [
       "                 households ocean_proximity\n",
       "ocean_proximity                            \n",
       "<1H OCEAN        517.744965       <1H OCEAN\n",
       "INLAND           477.447565          INLAND\n",
       "ISLAND           276.600000          ISLAND\n",
       "NEAR BAY         488.616157        NEAR BAY\n",
       "NEAR OCEAN       501.244545      NEAR OCEAN"
      ]
     },
     "execution_count": 63,
     "metadata": {},
     "output_type": "execute_result"
    }
   ],
   "source": [
    "tmp = viviendas.groupby('ocean_proximity').agg({'households': 'mean', 'ocean_proximity': 'first'})\n",
    "tmp.head()"
   ]
  },
  {
   "cell_type": "markdown",
   "metadata": {
    "id": "pl9qMksHdP9A",
    "pycharm": {
     "name": "#%% md\n"
    }
   },
   "source": [
    "#### *Ejercicio 8*\n",
    "\n",
    "Extrae el precio máximo para cada zona"
   ]
  },
  {
   "cell_type": "code",
   "execution_count": 68,
   "metadata": {},
   "outputs": [
    {
     "name": "stdout",
     "output_type": "stream",
     "text": [
      "ocean_proximity\n",
      "<1H OCEAN     500001\n",
      "INLAND        500001\n",
      "ISLAND        450000\n",
      "NEAR BAY      500001\n",
      "NEAR OCEAN    500001\n",
      "Name: median_house_value, dtype: int64\n"
     ]
    }
   ],
   "source": [
    "#tmp = viviendas.groupby('ocean_proximity').agg({'households': 'mean', 'ocean_proximity': 'first'})\n",
    "#tmp.head()\n",
    "\n",
    "tmp3= viviendas.groupby('ocean_proximity').median_house_value.max()\n",
    "print(tmp3)"
   ]
  },
  {
   "cell_type": "markdown",
   "metadata": {
    "collapsed": false,
    "id": "ygX00xW0dP9A",
    "jupyter": {
     "outputs_hidden": false
    }
   },
   "source": [
    "Puedes ver más información sobre agrupaciones en la [documentación de pandas](https://pandas.pydata.org/pandas-docs/stable/groupby.html). Es especialmente útil la parte sobre transformaciones."
   ]
  },
  {
   "cell_type": "markdown",
   "metadata": {
    "collapsed": false,
    "id": "1US34GfBdP9A",
    "jupyter": {
     "outputs_hidden": false
    },
    "pycharm": {
     "name": "#%% md\n"
    }
   },
   "source": [
    "## 8. Gráficos\n",
    "Vamos a tomar como base la siguiente información sobre unos pacientes que visitan una clínica: age (in years), height (in cm) y weight (in kilograms)."
   ]
  },
  {
   "cell_type": "code",
   "execution_count": 69,
   "metadata": {
    "id": "t2oI_R_GdP9A",
    "pycharm": {
     "name": "#%%\n"
    }
   },
   "outputs": [],
   "source": [
    "people = ['Ann','Brandon','Chen','David','Emily','Farook',\n",
    "          'Gagan','Hamish','Imran','Julio','Katherine','Lily']\n",
    "age = [21,12,32,45,37,18,28,52,5,40,48,15]\n",
    "weight = [55,35,77,68,70,60,72,69,18,65,82,48]\n",
    "height = [160,135,170,165,173,168,175,159,105,171,155,158]"
   ]
  },
  {
   "cell_type": "code",
   "execution_count": 70,
   "metadata": {
    "id": "jXvKatSYdP9B",
    "pycharm": {
     "name": "#%%\n"
    }
   },
   "outputs": [],
   "source": [
    "import matplotlib.pyplot as plt"
   ]
  },
  {
   "cell_type": "code",
   "execution_count": 71,
   "metadata": {
    "id": "bR4Yg77ldP9B",
    "outputId": "0c831d19-7e91-4118-ad6e-5c358225da9a",
    "pycharm": {
     "name": "#%%\n"
    }
   },
   "outputs": [
    {
     "data": {
      "image/png": "[encoded data removed]",
      "text/plain": [
       "<Figure size 640x480 with 1 Axes>"
      ]
     },
     "metadata": {},
     "output_type": "display_data"
    }
   ],
   "source": [
    "plt.scatter(age, height)\n",
    "plt.show()"
   ]
  },
  {
   "cell_type": "markdown",
   "metadata": {
    "collapsed": false,
    "id": "YtmTUGuidP9B",
    "jupyter": {
     "outputs_hidden": false
    },
    "pycharm": {
     "name": "#%% md\n"
    }
   },
   "source": [
    "El gráfico anterior es correcto, aunque un poco básico. Si lo deseamos, podemos añadir más detalles con un poco de código adicional:\n",
    "\n",
    "* Tamaño de la figura\n",
    "* Título principal (y tamaño de la fuente)\n",
    "* Etiquetas en el eje X e Y (y tamaño de la fuente)\n",
    "* Grid (cuadrícula)\n",
    "* Texto para las etiquetas\n",
    "* Legend (área de explicación de los elementos del gráfico)\n",
    "* Líneas verticales (u horizontales)\n"
   ]
  },
  {
   "cell_type": "code",
   "execution_count": 72,
   "metadata": {
    "id": "8qOrFuJ1dP9B",
    "outputId": "7ac9f45c-d5ec-41d9-d23a-c98f7caf2fb9",
    "pycharm": {
     "name": "#%%\n"
    }
   },
   "outputs": [
    {
     "data": {
      "image/png": "[encoded data removed]",
      "text/plain": [
       "<Figure size 800x600 with 1 Axes>"
      ]
     },
     "metadata": {},
     "output_type": "display_data"
    }
   ],
   "source": [
    "# Set figure size\n",
    "plt.figure(figsize=(8,6))\n",
    "\n",
    "# Add a main title\n",
    "plt.title(\"Plot of Age vs. Height (in cms)\\n\",fontsize=20, fontstyle='italic')\n",
    "\n",
    "# X- and Y-label with fontsize\n",
    "plt.xlabel(\"Age (years)\",fontsize=16)\n",
    "plt.ylabel(\"Height (cms)\",fontsize=16)\n",
    "\n",
    "# Turn on grid\n",
    "plt.grid (True)\n",
    "\n",
    "# Set Y-axis limit\n",
    "plt.ylim(100,200)\n",
    "\n",
    "# X- and Y-axis ticks customization with fontsize and placement\n",
    "plt.xticks([i*5 for i in range(12)],fontsize=15)\n",
    "plt.yticks(fontsize=15)\n",
    "\n",
    "# Main plotting function with choice of color, marker size, and marker edge color\n",
    "plt.scatter(x=age,y=height,c='orange',s=150,edgecolors='k')\n",
    "\n",
    "# Adding bit of text to the plot\n",
    "plt.text(x=15,y=105,s=\"Height increaes up to around \\n20 years and then tapers off\",fontsize=15,\n",
    "         rotation=30, linespacing=2)\n",
    "plt.text(x=22,y=185,s=\"Nobody has a height beyond 180 cm\",fontsize=15)\n",
    "\n",
    "# Adding a vertical line\n",
    "plt.vlines(x=20,ymin=100,ymax=180,linestyles='dashed',color='blue',lw=3)\n",
    "\n",
    "# Adding a horizontal line\n",
    "plt.hlines(y=180,xmin=0,xmax=55,linestyles='dashed',color='red',lw=3)\n",
    "\n",
    "# Adding a legend\n",
    "plt.legend(['Height in cms'],loc=2,fontsize=14)\n",
    "\n",
    "# Final show method\n",
    "plt.show()"
   ]
  },
  {
   "cell_type": "code",
   "execution_count": 73,
   "metadata": {
    "id": "Uvnep9VKdP9B",
    "outputId": "78f18ed2-cd0f-49ee-ff28-b610dde5025f",
    "pycharm": {
     "name": "#%%\n"
    }
   },
   "outputs": [
    {
     "data": {
      "image/png": "[encoded data removed]",
      "text/plain": [
       "<Figure size 1200x400 with 1 Axes>"
      ]
     },
     "metadata": {},
     "output_type": "display_data"
    }
   ],
   "source": [
    "plt.figure(figsize=(12,4))\n",
    "plt.title(\"People's weight in kgs\",fontsize=16, fontstyle='italic')\n",
    "# Main plot function 'bar'\n",
    "plt.bar(x=people,height=weight, width=0.6,color='orange',edgecolor='k',alpha=0.6)\n",
    "plt.xlabel(\"People\",fontsize=15)\n",
    "plt.xticks(fontsize=14,rotation=30)\n",
    "plt.yticks(fontsize=14)\n",
    "plt.ylabel(\"Weight (in kgs)\",fontsize=15)\n",
    "plt.show()"
   ]
  },
  {
   "cell_type": "code",
   "execution_count": 74,
   "metadata": {
    "id": "03vp2OYpdP9C",
    "outputId": "15fe0f80-7b8c-4b04-8de5-d219748f03b4",
    "pycharm": {
     "name": "#%%\n"
    }
   },
   "outputs": [
    {
     "data": {
      "image/png": "[encoded data removed]",
      "text/plain": [
       "<Figure size 700x500 with 1 Axes>"
      ]
     },
     "metadata": {},
     "output_type": "display_data"
    }
   ],
   "source": [
    "import numpy as np\n",
    "plt.figure(figsize=(7,5))\n",
    "# Main plot function 'hist'\n",
    "plt.hist(weight,color='red',edgecolor='k', alpha=0.75,bins=5)\n",
    "plt.title(\"Histogram of patient weight\",fontsize=18)\n",
    "plt.xlabel(\"Weight in kgs\",fontsize=15)\n",
    "plt.xticks(fontsize=15)\n",
    "plt.yticks(fontsize=15)\n",
    "plt.show()"
   ]
  },
  {
   "cell_type": "markdown",
   "metadata": {
    "collapsed": false,
    "id": "NTwn1flSdP9C",
    "jupyter": {
     "outputs_hidden": false
    },
    "pycharm": {
     "name": "#%% md\n"
    }
   },
   "source": [
    "#### *Ejercicio 9*\n",
    "\n",
    "Toma como base el csv sobre vinos que vimos en la última clase y crea los siguientes diagramas:\n",
    "* Gráfico de puntos teniendo en cuenta 'Alcohol','Color intensity'\n",
    "* Histograma teniendo en cuenta el 'Alcohol percentage'\n",
    "* Un diagrama de barras de temática libre"
   ]
  },
  {
   "cell_type": "markdown",
   "metadata": {
    "id": "ts75FI7iiJi-"
   },
   "source": [
    "### *Ejercicio 10*\n",
    "Accede a DataCamp y realiza el capítulo sobre \"Reading and Cleaning Data\" al cuál te ha dado invitado la profesora."
   ]
  },
  {
   "cell_type": "markdown",
   "metadata": {
    "collapsed": false,
    "id": "ravQd4-HdP9C",
    "jupyter": {
     "outputs_hidden": false
    },
    "pycharm": {
     "name": "#%% md\n"
    }
   },
   "source": [
    "# Webgrafía\n",
    "\n",
    "\n",
    "* [Curso de Luz Frías](https://github.com/koldLight/curso-python-analisis-datos)\n",
    "* [Curso de Tirtjakupto Sarkar](https://github.com/tirthajyoti/Machine-Learning-with-Python)\n",
    "* *texto en cursiva*[DataCamp](https://www.datacamp.com/)\n"
   ]
  },
  {
   "cell_type": "markdown",
   "metadata": {
    "collapsed": false,
    "id": "5YbkjANjdP9C",
    "jupyter": {
     "outputs_hidden": false
    },
    "pycharm": {
     "name": "#%% md\n"
    }
   },
   "source": [
    "# Licencia\n",
    "\n",
    "[Attributon-ShacerAlike 4.0 International](https://creativecommons.org/licenses/by-sa/4.0/)\n",
    "\n",
    "Puedes utilizar libremente este material, con las siguientes condiciones:\n",
    "\n",
    "* Atribuir la autoría a este documento.\n",
    "* Si lo utilizas y haces cambios, deberás liberarlo también bajo la misma licencia."
   ]
  }
 ],
 "metadata": {
  "colab": {
   "collapsed_sections": [
    "CPJeiOCidP8q",
    "Z3bzCxYBdP8y",
    "Od6Un85cdP8z",
    "lzl3npEedP8z",
    "mLDQmcfHdP81",
    "SejOoGSCdP81",
    "6GUWW50_dP81",
    "weAQ-PTtdP82",
    "NMV7lSNtdP83",
    "MmKvORC-dP83",
    "WgMJJDhxdP83",
    "fQlHzhctdP84",
    "iwVJuJOjdP84",
    "WwjVrEJAdP84",
    "NqBXZvqWdP88",
    "8ItE4HQLdP88",
    "1LopEa0MdP88",
    "NKtLTl__dP8-",
    "FiXPKEOEdP8_"
   ],
   "provenance": []
  },
  "kernelspec": {
   "display_name": "Python 3 (ipykernel)",
   "language": "python",
   "name": "python3"
  },
  "language_info": {
   "codemirror_mode": {
    "name": "ipython",
    "version": 3
   },
   "file_extension": ".py",
   "mimetype": "text/x-python",
   "name": "python",
   "nbconvert_exporter": "python",
   "pygments_lexer": "ipython3",
   "version": "3.11.7"
  }
 },
 "nbformat": 4,
 "nbformat_minor": 4
}
