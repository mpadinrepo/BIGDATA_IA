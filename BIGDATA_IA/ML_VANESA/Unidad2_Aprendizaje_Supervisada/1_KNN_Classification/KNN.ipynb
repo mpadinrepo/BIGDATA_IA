{
 "cells": [
  {
   "cell_type": "markdown",
   "metadata": {},
   "source": [
    "# ¿Qué es KNN?\n",
    "\n",
    "\n",
    "KNN es un algoritmo de aprendizaje supervisado utilizado para clasificación y regresión. En la clasificación, el algoritmo asigna una clase a un nuevo punto de datos basándose en la mayoría de las clases de sus vecinos más cercanos. En la regresión, predice el valor de un atributo basándose en el promedio de los valores de sus vecinos más cercanos.\n",
    "\n",
    "Concepto básico: Vecinos más cercanos\n",
    "Imagina que tienes un conjunto de datos con diferentes puntos en un espacio de dos dimensiones (por ejemplo, un plano cartesiano). Cada punto tiene atributos que lo describen, como posición en el eje x y en el eje y. Cuando queremos predecir la clase o el valor de un nuevo punto, buscamos los K puntos más cercanos a él en función de la distancia euclidiana.\n",
    "\n",
    "# Paso a paso del algoritmo KNN:\n",
    "\n",
    "1 Definir el número de vecinos (K): Este es un parámetro del algoritmo que debemos elegir antes de aplicarlo. Representa la cantidad de puntos cercanos que consideraremos para tomar una decisión de clasificación o regresión.\n",
    "\n",
    "2 Calcular la distancia: Para cada punto en nuestro conjunto de datos, calculamos su distancia al nuevo punto que queremos clasificar. La distancia más comúnmente utilizada es la distancia euclidiana, pero también se pueden utilizar otras métricas, como la distancia de Manhattan o la distancia de Hamming, según el tipo de datos.\n",
    "\n",
    "3 Encontrar los K vecinos más cercanos: Una vez que hemos calculado las distancias, seleccionamos los K puntos con las distancias más pequeñas al nuevo punto.\n",
    "\n",
    "4 Votación (clasificación) o promedio (regresión): En el caso de clasificación, determinamos la clase más común entre los K vecinos más cercanos y asignamos esa clase al nuevo punto. En el caso de regresión, calculamos el promedio de los valores de los K vecinos más cercanos y asignamos ese promedio como la predicción del valor del nuevo punto.\n",
    "\n",
    "Ejemplo práctico:\n",
    "Supongamos que tenemos un conjunto de datos con las alturas y los pesos de diferentes personas, y queremos predecir si una nueva persona es hombre o mujer en función de su altura y peso. Para ello, primero definimos un valor de K, digamos K = 5. Luego, para un nuevo punto (altura, peso), encontramos las 5 personas más cercanas en términos de distancia euclidiana. Si la mayoría de esas 5 personas son mujeres, clasificamos al nuevo punto como mujer; de lo contrario, lo clasificamos como hombre.\n",
    "\n",
    "# Objetivo de entrada y salida:\n",
    "\n",
    "Entrada: Conjunto de datos con atributos (características) y clases (etiquetas) conocidas.\n",
    "\n",
    "\n",
    "Salida (clasificación): Clase asignada al nuevo punto basada en la mayoría de clases de sus vecinos más cercanos.\n",
    "\n",
    "\n",
    "Salida (regresión): Valor predicho del nuevo punto basado en el promedio de los valores de sus vecinos más cercanos."
   ]
  }
 ],
 "metadata": {
  "language_info": {
   "name": "python"
  }
 },
 "nbformat": 4,
 "nbformat_minor": 2
}
