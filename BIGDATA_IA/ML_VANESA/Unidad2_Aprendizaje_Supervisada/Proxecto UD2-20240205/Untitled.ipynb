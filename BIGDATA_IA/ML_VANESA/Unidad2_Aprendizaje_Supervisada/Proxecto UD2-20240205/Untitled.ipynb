{
 "cells": [
  {
   "cell_type": "markdown",
   "id": "57c94223-d5b3-4ddd-bee4-660b3feec5c2",
   "metadata": {},
   "source": [
    "# Comencemos con la primera etapa: la importación de datos."
   ]
  },
  {
   "cell_type": "code",
   "execution_count": 23,
   "id": "53beb845-0008-4467-83af-7eedb5e76b46",
   "metadata": {},
   "outputs": [
    {
     "name": "stdout",
     "output_type": "stream",
     "text": [
      "Primeras filas de dataframeTrain:\n",
      "   age          job  marital          education  default housing loan  \\\n",
      "0   44  blue-collar  married           basic.4y  unknown     yes   no   \n",
      "1   53   technician  married            unknown       no      no   no   \n",
      "2   28   management   single  university.degree       no     yes   no   \n",
      "3   39     services  married        high.school       no      no   no   \n",
      "4   55      retired  married           basic.4y       no     yes   no   \n",
      "\n",
      "    contact month day_of_week  ...  campaign  pdays  previous     poutcome  \\\n",
      "0  cellular   aug         thu  ...         1    999         0  nonexistent   \n",
      "1  cellular   nov         fri  ...         1    999         0  nonexistent   \n",
      "2  cellular   jun         thu  ...         3      6         2      success   \n",
      "3  cellular   apr         fri  ...         2    999         0  nonexistent   \n",
      "4  cellular   aug         fri  ...         1      3         1      success   \n",
      "\n",
      "  emp_var_rate  cons_price_idx  cons_conf_idx  euribor3m  nr_employed  y  \n",
      "0          1.4          93.444          -36.1      4.963       5228.1  0  \n",
      "1         -0.1          93.200          -42.0      4.021       5195.8  0  \n",
      "2         -1.7          94.055          -39.8      0.729       4991.6  1  \n",
      "3         -1.8          93.075          -47.1      1.405       5099.1  0  \n",
      "4         -2.9          92.201          -31.4      0.869       5076.2  1  \n",
      "\n",
      "[5 rows x 21 columns]\n",
      "\n",
      "Información del conjunto de datos de entrenamiento:\n",
      "<class 'pandas.core.frame.DataFrame'>\n",
      "RangeIndex: 41188 entries, 0 to 41187\n",
      "Data columns (total 21 columns):\n",
      " #   Column          Non-Null Count  Dtype  \n",
      "---  ------          --------------  -----  \n",
      " 0   age             41188 non-null  int64  \n",
      " 1   job             41188 non-null  object \n",
      " 2   marital         41188 non-null  object \n",
      " 3   education       41188 non-null  object \n",
      " 4   default         41188 non-null  object \n",
      " 5   housing         41188 non-null  object \n",
      " 6   loan            41188 non-null  object \n",
      " 7   contact         41188 non-null  object \n",
      " 8   month           41188 non-null  object \n",
      " 9   day_of_week     41188 non-null  object \n",
      " 10  duration        41188 non-null  int64  \n",
      " 11  campaign        41188 non-null  int64  \n",
      " 12  pdays           41188 non-null  int64  \n",
      " 13  previous        41188 non-null  int64  \n",
      " 14  poutcome        41188 non-null  object \n",
      " 15  emp_var_rate    41188 non-null  float64\n",
      " 16  cons_price_idx  41188 non-null  float64\n",
      " 17  cons_conf_idx   41188 non-null  float64\n",
      " 18  euribor3m       41188 non-null  float64\n",
      " 19  nr_employed     41188 non-null  float64\n",
      " 20  y               41188 non-null  int64  \n",
      "dtypes: float64(5), int64(6), object(10)\n",
      "memory usage: 6.6+ MB\n",
      "None\n",
      "\n",
      "Primeras filas de dataframeTest:\n",
      "   age          job  marital          education default  housing     loan  \\\n",
      "0   30  blue-collar  married           basic.9y      no      yes       no   \n",
      "1   39     services   single        high.school      no       no       no   \n",
      "2   25     services  married        high.school      no      yes       no   \n",
      "3   38     services  married           basic.9y      no  unknown  unknown   \n",
      "4   47       admin.  married  university.degree      no      yes       no   \n",
      "\n",
      "     contact month day_of_week  duration  campaign  pdays  previous  \\\n",
      "0   cellular   may         fri       487         2    999         0   \n",
      "1  telephone   may         fri       346         4    999         0   \n",
      "2  telephone   jun         wed       227         1    999         0   \n",
      "3  telephone   jun         fri        17         3    999         0   \n",
      "4   cellular   nov         mon        58         1    999         0   \n",
      "\n",
      "      poutcome  emp_var_rate  cons_price_idx  cons_conf_idx  euribor3m  \\\n",
      "0  nonexistent          -1.8          92.893          -46.2      1.313   \n",
      "1  nonexistent           1.1          93.994          -36.4      4.855   \n",
      "2  nonexistent           1.4          94.465          -41.8      4.962   \n",
      "3  nonexistent           1.4          94.465          -41.8      4.959   \n",
      "4  nonexistent          -0.1          93.200          -42.0      4.191   \n",
      "\n",
      "   nr_employed  \n",
      "0       5099.1  \n",
      "1       5191.0  \n",
      "2       5228.1  \n",
      "3       5228.1  \n",
      "4       5195.8  \n",
      "\n",
      "Información del conjunto de datos de prueba:\n",
      "<class 'pandas.core.frame.DataFrame'>\n",
      "RangeIndex: 4119 entries, 0 to 4118\n",
      "Data columns (total 20 columns):\n",
      " #   Column          Non-Null Count  Dtype  \n",
      "---  ------          --------------  -----  \n",
      " 0   age             4119 non-null   int64  \n",
      " 1   job             4119 non-null   object \n",
      " 2   marital         4119 non-null   object \n",
      " 3   education       4119 non-null   object \n",
      " 4   default         4119 non-null   object \n",
      " 5   housing         4119 non-null   object \n",
      " 6   loan            4119 non-null   object \n",
      " 7   contact         4119 non-null   object \n",
      " 8   month           4119 non-null   object \n",
      " 9   day_of_week     4119 non-null   object \n",
      " 10  duration        4119 non-null   int64  \n",
      " 11  campaign        4119 non-null   int64  \n",
      " 12  pdays           4119 non-null   int64  \n",
      " 13  previous        4119 non-null   int64  \n",
      " 14  poutcome        4119 non-null   object \n",
      " 15  emp_var_rate    4119 non-null   float64\n",
      " 16  cons_price_idx  4119 non-null   float64\n",
      " 17  cons_conf_idx   4119 non-null   float64\n",
      " 18  euribor3m       4119 non-null   float64\n",
      " 19  nr_employed     4119 non-null   float64\n",
      "dtypes: float64(5), int64(5), object(10)\n",
      "memory usage: 643.7+ KB\n",
      "None\n"
     ]
    }
   ],
   "source": [
    "import pandas as pd\n",
    "\n",
    "# Importar los conjuntos de datos\n",
    "dataframeTrain = pd.read_csv(\"credit-train.csv\")\n",
    "dataframeTest = pd.read_csv(\"credit-test.csv\")\n",
    "\n",
    "# Mostrar las primeras filas y la información del conjunto de datos de entrenamiento\n",
    "print(\"Primeras filas de dataframeTrain:\")\n",
    "print(dataframeTrain.head())\n",
    "print(\"\\nInformación del conjunto de datos de entrenamiento:\")\n",
    "print(dataframeTrain.info())\n",
    "\n",
    "# Mostrar las primeras filas y la información del conjunto de datos de prueba\n",
    "print(\"\\nPrimeras filas de dataframeTest:\")\n",
    "print(dataframeTest.head())\n",
    "print(\"\\nInformación del conjunto de datos de prueba:\")\n",
    "print(dataframeTest.info())\n"
   ]
  },
  {
   "cell_type": "markdown",
   "id": "65fc6ea4-5a73-482c-a457-3080a212968e",
   "metadata": {},
   "source": [
    " etapa 2 realizaremos un análisis numérico y visual de los datos. Comenzaremos por explorar las características numéricas en nuestros conjuntos de datos. Utilizaremos estadísticas descriptivas para comprender la distribución y las tendencias de estas características.\n",
    "\n",
    "A continuación, analizaremos las características categóricas mediante gráficos de barras para comprender la distribución de las diferentes categorías en cada característica.\n",
    "\n",
    "Comencemos con el análisis numérico.\n",
    "\n",
    "Para el análisis numérico, calcularemos algunas estadísticas descriptivas para las características numéricas en nuestros conjuntos de datos, como la media, la mediana, la desviación estándar, el mínimo y el máximo. Esto nos dará una idea de la distribución y la dispersión de estos datos.\n",
    "\n",
    "Veamos las estadísticas descriptivas para las características numéricas en el conjunto de datos de entrenamiento:"
   ]
  },
  {
   "cell_type": "code",
   "execution_count": 24,
   "id": "4f973adf-84d6-4055-bc9a-54f3f8d1c522",
   "metadata": {},
   "outputs": [
    {
     "name": "stdout",
     "output_type": "stream",
     "text": [
      "Estadísticas descriptivas para características numéricas en el conjunto de datos de entrenamiento:\n",
      "               age      duration      campaign         pdays      previous  \\\n",
      "count  41188.00000  41188.000000  41188.000000  41188.000000  41188.000000   \n",
      "mean      40.02406    258.285010      2.567593    962.475454      0.172963   \n",
      "std       10.42125    259.279249      2.770014    186.910907      0.494901   \n",
      "min       17.00000      0.000000      1.000000      0.000000      0.000000   \n",
      "25%       32.00000    102.000000      1.000000    999.000000      0.000000   \n",
      "50%       38.00000    180.000000      2.000000    999.000000      0.000000   \n",
      "75%       47.00000    319.000000      3.000000    999.000000      0.000000   \n",
      "max       98.00000   4918.000000     56.000000    999.000000      7.000000   \n",
      "\n",
      "       emp_var_rate  cons_price_idx  cons_conf_idx     euribor3m  \\\n",
      "count  41188.000000    41188.000000   41188.000000  41188.000000   \n",
      "mean       0.081886       93.575664     -40.502600      3.621291   \n",
      "std        1.570960        0.578840       4.628198      1.734447   \n",
      "min       -3.400000       92.201000     -50.800000      0.634000   \n",
      "25%       -1.800000       93.075000     -42.700000      1.344000   \n",
      "50%        1.100000       93.749000     -41.800000      4.857000   \n",
      "75%        1.400000       93.994000     -36.400000      4.961000   \n",
      "max        1.400000       94.767000     -26.900000      5.045000   \n",
      "\n",
      "        nr_employed             y  \n",
      "count  41188.000000  41188.000000  \n",
      "mean    5167.035911      0.112654  \n",
      "std       72.251528      0.316173  \n",
      "min     4963.600000      0.000000  \n",
      "25%     5099.100000      0.000000  \n",
      "50%     5191.000000      0.000000  \n",
      "75%     5228.100000      0.000000  \n",
      "max     5228.100000      1.000000  \n"
     ]
    }
   ],
   "source": [
    "# Estadísticas descriptivas para características numéricas en el conjunto de datos de entrenamiento\n",
    "numeric_features_train = dataframeTrain.select_dtypes(include=['int64', 'float64'])\n",
    "numeric_descriptions_train = numeric_features_train.describe()\n",
    "print(\"Estadísticas descriptivas para características numéricas en el conjunto de datos de entrenamiento:\")\n",
    "print(numeric_descriptions_train)\n"
   ]
  },
  {
   "cell_type": "markdown",
   "id": "0883e238-bcad-4bcb-97b1-0b2d3635b4fd",
   "metadata": {},
   "source": [
    "# Las estadísticas descriptivas para las características numéricas en el conjunto de datos de entrenamiento son las siguientes:\r\n",
    "\r\n",
    "age: La edad promedio de los clientes es de aproximadamente 40 años, con una desviación estándar de aproximadamente 10.42. La edad mínima es 17 y la máxima es 9\n",
    "8.\r\n",
    "duration: La duración promedio de las llamadas es de alrededor de 258 segundos, con una desviación estándar de aproximadamente 259. La duración mínima es 0 segundos y la máxima es 4918 segund\n",
    "os.\r\n",
    "campaign: El número promedio de contactos durante la campaña es de alrededor de 2.57, con una desviación estándar de aproximadamente 2.77. El número mínimo de contactos es 1 y el máximo es\n",
    " 56.\r\n",
    "pdays: El número promedio de días que han pasado desde el último contacto es de aproximadamente 962.48, con una desviación estándar de aproximadamente 186.91. El valor mínimo es 0 y el máximo es\n",
    " 999.\r\n",
    "previous: El número promedio de contactos anteriores a esta campaña es de aproximadamente 0.17, con una desviación estándar de aproximadamente 0.49. El valor mínimo es 0 y el máximo\n",
    " es 7.\r\n",
    "emp_var_rate: La tasa de variación del empleo tiene una media de aproximadamente 0.08, con una desviación estándar de aproximadamente 1.57. El valor mínimo es -3.4 y el máximo \n",
    "es 1.4.\r\n",
    "cons_price_idx: El índice de precios al consumidor tiene una media de aproximadamente 93.58, con una desviación estándar de aproximadamente 0.58. El valor mínimo es 92.201 y el máximo es\n",
    " 94.767.\r\n",
    "cons_conf_idx: El índice de confianza del consumidor tiene una media de aproximadamente -40.5, con una desviación estándar de aproximadamente 4.63. El valor mínimo es -50.8 y el máximo \n",
    "es -26.9.\r\n",
    "euribor3m: La tasa Euribor a 3 meses tiene una media de aproximadamente 3.62, con una desviación estándar de aproximadamente 1.73. El valor mínimo es 0.634 y el máximo\n",
    " es 5.045.\r\n",
    "nr_employed: El número de empleados tiene una media de aproximadamente 5167.04, con una desviación estándar de aproximadamente 72.25. El valor mínimo es 4963.6 y el máximo\n",
    " es 5228.1.\r\n",
    "y: La columna objetivo tiene un promedio de alrededor de 0.11, lo que indica que aproximadamente el 11.27% de los clientes se suscribieron al crédito."
   ]
  },
  {
   "cell_type": "markdown",
   "id": "04c2db4d-bb2d-4b45-8056-9ff376d2d715",
   "metadata": {},
   "source": [
    "# Etapa 3: Análisis y Visualización de Datos\n",
    "En esta etapa, realizaremos un análisis y visualización de los datos para comprender mejor las relaciones entre las características y la variable objetivo. Esto nos ayudará a identificar patrones y tendencias en los datos que pueden ser útiles para el modelado posterior.\n",
    "\n",
    "Análisis de Variables Categóricas\n",
    "Comencemos analizando las variables categóricas en nuestros conjuntos de datos. Calcularemos la frecuencia de cada categoría y visualizaremos estas distribuciones.\n",
    "\n",
    "Vamos a proceder con este análisis.\n",
    "\n",
    "Para analizar las variables categóricas en nuestros conjuntos de datos, podemos usar diferentes métodos dependiendo de la naturaleza de los datos. Algunas opciones incluyen:\n",
    "\n",
    "Conteo de valores únicos: Podemos contar la cantidad de valores únicos para cada categoría en cada variable categórica.\n",
    "Gráficos de barras: Podemos visualizar la distribución de las categorías utilizando gráficos de barras.\n",
    "Tablas de contingencia: Podemos crear tablas de contingencia para analizar la relación entre diferentes variables categóricas."
   ]
  },
  {
   "cell_type": "code",
   "execution_count": 45,
   "id": "69747b64-4c75-40b0-8e1c-5aae62adb5fc",
   "metadata": {},
   "outputs": [
    {
     "name": "stdout",
     "output_type": "stream",
     "text": [
      "Columnas categóricas en el conjunto de datos de entrenamiento:\n",
      "['job', 'marital', 'education', 'default', 'housing', 'loan', 'contact', 'month', 'day_of_week', 'poutcome']\n",
      "\n",
      "Columnas categóricas en el conjunto de datos de prueba:\n",
      "['job', 'marital', 'education', 'default', 'housing', 'loan', 'contact', 'month', 'day_of_week', 'poutcome']\n"
     ]
    }
   ],
   "source": [
    "\n",
    "# Identificar las columnas categóricas en el conjunto de datos de entrenamiento\n",
    "categorical_cols_train = dataframeTrain.select_dtypes(include=['object']).columns.tolist()\n",
    "print(\"Columnas categóricas en el conjunto de datos de entrenamiento:\")\n",
    "print(categorical_cols_train)\n",
    "\n",
    "# Identificar las columnas categóricas en el conjunto de datos de prueba\n",
    "categorical_cols_test = dataframeTest.select_dtypes(include=['object']).columns.tolist()\n",
    "print(\"\\nColumnas categóricas en el conjunto de datos de prueba:\")\n",
    "print(categorical_cols_test)\n"
   ]
  },
  {
   "cell_type": "markdown",
   "id": "1e67dd40-ad57-4723-95f4-a084d4e836c0",
   "metadata": {},
   "source": [
    "hemos identificado las columnas categóricas en ambos conjuntos de datos, podemos decidir cómo codificarlas. Hay varias opciones, como la codificación one-hot, la codificación ordinal o la codificación basada en frecuencias.\n",
    "\n",
    "Dado que todas las columnas categóricas tienen un número razonable de categorías y no hay un orden inherente en las categorías, podemos optar por la codificación one-hot."
   ]
  },
  {
   "cell_type": "markdown",
   "id": "b10346da-be0f-4b1b-89f8-9c05049d592b",
   "metadata": {},
   "source": [
    "Este código creará nuevas columnas para cada categoría en las columnas categóricas originales, utilizando la codificación one-hot. Luego, mostrará las primeras filas del conjunto de datos de entrenamiento codificado para que puedas verificar los resultados."
   ]
  },
  {
   "cell_type": "code",
   "execution_count": 63,
   "id": "389ba469-5606-4877-92ac-72484e40f236",
   "metadata": {},
   "outputs": [
    {
     "name": "stdout",
     "output_type": "stream",
     "text": [
      "Conjunto de datos de entrenamiento codificado:\n",
      "   age  duration  campaign  pdays  previous  emp_var_rate  cons_price_idx  \\\n",
      "0   44       210         1    999         0           1.4          93.444   \n",
      "1   53       138         1    999         0          -0.1          93.200   \n",
      "2   28       339         3      6         2          -1.7          94.055   \n",
      "3   39       185         2    999         0          -1.8          93.075   \n",
      "4   55       137         1      3         1          -2.9          92.201   \n",
      "\n",
      "   cons_conf_idx  euribor3m  nr_employed  ...  month_oct  month_sep  \\\n",
      "0          -36.1      4.963       5228.1  ...      False      False   \n",
      "1          -42.0      4.021       5195.8  ...      False      False   \n",
      "2          -39.8      0.729       4991.6  ...      False      False   \n",
      "3          -47.1      1.405       5099.1  ...      False      False   \n",
      "4          -31.4      0.869       5076.2  ...      False      False   \n",
      "\n",
      "   day_of_week_fri  day_of_week_mon  day_of_week_thu  day_of_week_tue  \\\n",
      "0            False            False             True            False   \n",
      "1             True            False            False            False   \n",
      "2            False            False             True            False   \n",
      "3             True            False            False            False   \n",
      "4             True            False            False            False   \n",
      "\n",
      "   day_of_week_wed  poutcome_failure  poutcome_nonexistent  poutcome_success  \n",
      "0            False             False                  True             False  \n",
      "1            False             False                  True             False  \n",
      "2            False             False                 False              True  \n",
      "3            False             False                  True             False  \n",
      "4            False             False                 False              True  \n",
      "\n",
      "[5 rows x 64 columns]\n"
     ]
    }
   ],
   "source": [
    "# Aplicar codificación one-hot a las columnas categóricas en el conjunto de datos de entrenamiento\n",
    "dataframeTrain_encoded = pd.get_dummies(dataframeTrain, columns=['job', 'marital', 'education', 'default', 'housing', 'loan', 'contact', 'month', 'day_of_week', 'poutcome'])\n",
    "\n",
    "# Mostrar las primeras filas del conjunto de datos de entrenamiento codificado\n",
    "print(\"Conjunto de datos de entrenamiento codificado:\")\n",
    "print(dataframeTrain_encoded.head())\n"
   ]
  },
  {
   "cell_type": "markdown",
   "id": "4a3cd5c7-9212-4680-92b7-1615ae5ddd75",
   "metadata": {},
   "source": [
    "# Codificación one-hot de las columnas categóricas en el conjunto de datos de prueba"
   ]
  },
  {
   "cell_type": "code",
   "execution_count": 66,
   "id": "54ccd71e-658f-452a-b673-0c332ce44159",
   "metadata": {},
   "outputs": [
    {
     "name": "stdout",
     "output_type": "stream",
     "text": [
      "Conjunto de datos de prueba codificado:\n",
      "   age  duration  campaign  pdays  previous  emp_var_rate  cons_price_idx  \\\n",
      "0   30       487         2    999         0          -1.8          92.893   \n",
      "1   39       346         4    999         0           1.1          93.994   \n",
      "2   25       227         1    999         0           1.4          94.465   \n",
      "3   38        17         3    999         0           1.4          94.465   \n",
      "4   47        58         1    999         0          -0.1          93.200   \n",
      "\n",
      "   cons_conf_idx  euribor3m  nr_employed  ...  month_oct  month_sep  \\\n",
      "0          -46.2      1.313       5099.1  ...        0.0        0.0   \n",
      "1          -36.4      4.855       5191.0  ...        0.0        0.0   \n",
      "2          -41.8      4.962       5228.1  ...        0.0        0.0   \n",
      "3          -41.8      4.959       5228.1  ...        0.0        0.0   \n",
      "4          -42.0      4.191       5195.8  ...        0.0        0.0   \n",
      "\n",
      "   day_of_week_fri  day_of_week_mon  day_of_week_thu  day_of_week_tue  \\\n",
      "0              1.0              0.0              0.0              0.0   \n",
      "1              1.0              0.0              0.0              0.0   \n",
      "2              0.0              0.0              0.0              0.0   \n",
      "3              1.0              0.0              0.0              0.0   \n",
      "4              0.0              1.0              0.0              0.0   \n",
      "\n",
      "   day_of_week_wed  poutcome_failure  poutcome_nonexistent  poutcome_success  \n",
      "0              0.0               0.0                   1.0               0.0  \n",
      "1              0.0               0.0                   1.0               0.0  \n",
      "2              1.0               0.0                   1.0               0.0  \n",
      "3              0.0               0.0                   1.0               0.0  \n",
      "4              0.0               0.0                   1.0               0.0  \n",
      "\n",
      "[5 rows x 63 columns]\n"
     ]
    }
   ],
   "source": [
    "# Importar la función necesaria\n",
    "from sklearn.preprocessing import OneHotEncoder\n",
    "\n",
    "# Crear un objeto OneHotEncoder\n",
    "encoder = OneHotEncoder()\n",
    "\n",
    "# Aplicar la codificación one-hot a las columnas categóricas en el conjunto de datos de prueba\n",
    "dataframeTest_encoded = encoder.fit_transform(dataframeTest[categorical_cols])\n",
    "\n",
    "# Convertir la matriz dispersa resultante a un DataFrame de pandas\n",
    "dataframeTest_encoded = pd.DataFrame(dataframeTest_encoded.toarray(), columns=encoder.get_feature_names_out(categorical_cols))\n",
    "\n",
    "# Concatenar el DataFrame codificado con el resto de las columnas del conjunto de datos de prueba\n",
    "dataframeTest_encoded = pd.concat([dataframeTest.drop(columns=categorical_cols), dataframeTest_encoded], axis=1)\n",
    "\n",
    "# Mostrar las primeras filas del conjunto de datos de prueba codificado\n",
    "print(\"Conjunto de datos de prueba codificado:\")\n",
    "print(dataframeTest_encoded.head())\n"
   ]
  },
  {
   "cell_type": "code",
   "execution_count": 68,
   "id": "20b6e497-48ab-4206-8c57-53a8ade3ec2a",
   "metadata": {},
   "outputs": [
    {
     "name": "stdout",
     "output_type": "stream",
     "text": [
      "Conjunto de datos de prueba codificado:\n",
      "   age  duration  campaign  pdays  previous  emp_var_rate  cons_price_idx  \\\n",
      "0   30       487         2    999         0          -1.8          92.893   \n",
      "1   39       346         4    999         0           1.1          93.994   \n",
      "2   25       227         1    999         0           1.4          94.465   \n",
      "3   38        17         3    999         0           1.4          94.465   \n",
      "4   47        58         1    999         0          -0.1          93.200   \n",
      "\n",
      "   cons_conf_idx  euribor3m  nr_employed  ...  month_oct  month_sep  \\\n",
      "0          -46.2      1.313       5099.1  ...      False      False   \n",
      "1          -36.4      4.855       5191.0  ...      False      False   \n",
      "2          -41.8      4.962       5228.1  ...      False      False   \n",
      "3          -41.8      4.959       5228.1  ...      False      False   \n",
      "4          -42.0      4.191       5195.8  ...      False      False   \n",
      "\n",
      "   day_of_week_fri  day_of_week_mon  day_of_week_thu  day_of_week_tue  \\\n",
      "0             True            False            False            False   \n",
      "1             True            False            False            False   \n",
      "2            False            False            False            False   \n",
      "3             True            False            False            False   \n",
      "4            False             True            False            False   \n",
      "\n",
      "   day_of_week_wed  poutcome_failure  poutcome_nonexistent  poutcome_success  \n",
      "0            False             False                  True             False  \n",
      "1            False             False                  True             False  \n",
      "2             True             False                  True             False  \n",
      "3            False             False                  True             False  \n",
      "4            False             False                  True             False  \n",
      "\n",
      "[5 rows x 63 columns]\n"
     ]
    }
   ],
   "source": [
    "categorical_cols = ['job', 'marital', 'education', 'default', 'housing', 'loan', 'contact', 'month', 'day_of_week', 'poutcome']\n",
    "\n",
    "dataframeTest_encoded = pd.get_dummies(dataframeTest, columns=categorical_cols)\n",
    "\n",
    "# Mostrar las primeras filas del conjunto de datos de prueba codificado\n",
    "print(\"Conjunto de datos de prueba codificado:\")\n",
    "print(dataframeTest_encoded.head())\n",
    "\n"
   ]
  },
  {
   "cell_type": "markdown",
   "id": "1e711f93-ea55-4a9b-ad47-0b8653fb3acc",
   "metadata": {},
   "source": [
    "# Calcular métricas de evaluación adicionales"
   ]
  },
  {
   "cell_type": "code",
   "execution_count": 70,
   "id": "f9feb8f0-c92a-4838-9ef9-06cf28f61dfb",
   "metadata": {},
   "outputs": [
    {
     "ename": "NameError",
     "evalue": "name 'modelo' is not defined",
     "output_type": "error",
     "traceback": [
      "\u001b[0;31m---------------------------------------------------------------------------\u001b[0m",
      "\u001b[0;31mNameError\u001b[0m                                 Traceback (most recent call last)",
      "Cell \u001b[0;32mIn[70], line 4\u001b[0m\n\u001b[1;32m      1\u001b[0m \u001b[38;5;28;01mfrom\u001b[39;00m \u001b[38;5;21;01msklearn\u001b[39;00m\u001b[38;5;21;01m.\u001b[39;00m\u001b[38;5;21;01mmetrics\u001b[39;00m \u001b[38;5;28;01mimport\u001b[39;00m classification_report, confusion_matrix\n\u001b[1;32m      3\u001b[0m \u001b[38;5;66;03m# Realiza predicciones en el conjunto de prueba\u001b[39;00m\n\u001b[0;32m----> 4\u001b[0m y_pred_test \u001b[38;5;241m=\u001b[39m \u001b[43mmodelo\u001b[49m\u001b[38;5;241m.\u001b[39mpredict(X_test)\n\u001b[1;32m      6\u001b[0m \u001b[38;5;66;03m# Calcular métricas de evaluación adicionales\u001b[39;00m\n\u001b[1;32m      7\u001b[0m report \u001b[38;5;241m=\u001b[39m classification_report(y_test, y_pred_test)\n",
      "\u001b[0;31mNameError\u001b[0m: name 'modelo' is not defined"
     ]
    }
   ],
   "source": [
    "from sklearn.metrics import classification_report, confusion_matrix\n",
    "\n",
    "# Realiza predicciones en el conjunto de prueba\n",
    "y_pred_test = modelo.predict(X_test)\n",
    "\n",
    "# Calcular métricas de evaluación adicionales\n",
    "report = classification_report(y_test, y_pred_test)\n",
    "print(\"Reporte de clasificación:\")\n",
    "print(report)\n",
    "\n",
    "# Calcular matriz de confusión\n",
    "conf_matrix = confusion_matrix(y_test, y_pred_test)\n",
    "print(\"Matriz de confusión:\")\n",
    "print(conf_matrix)\n"
   ]
  },
  {
   "cell_type": "code",
   "execution_count": 71,
   "id": "897f7624-9de4-41cf-addf-308bd4b9b43e",
   "metadata": {},
   "outputs": [
    {
     "ename": "NameError",
     "evalue": "name 'modelo' is not defined",
     "output_type": "error",
     "traceback": [
      "\u001b[0;31m---------------------------------------------------------------------------\u001b[0m",
      "\u001b[0;31mNameError\u001b[0m                                 Traceback (most recent call last)",
      "Cell \u001b[0;32mIn[71], line 4\u001b[0m\n\u001b[1;32m      1\u001b[0m \u001b[38;5;28;01mfrom\u001b[39;00m \u001b[38;5;21;01msklearn\u001b[39;00m\u001b[38;5;21;01m.\u001b[39;00m\u001b[38;5;21;01mmetrics\u001b[39;00m \u001b[38;5;28;01mimport\u001b[39;00m classification_report, confusion_matrix\n\u001b[1;32m      3\u001b[0m \u001b[38;5;66;03m# Realiza predicciones en el conjunto de prueba\u001b[39;00m\n\u001b[0;32m----> 4\u001b[0m y_pred_test \u001b[38;5;241m=\u001b[39m \u001b[43mmodelo\u001b[49m\u001b[38;5;241m.\u001b[39mpredict(X_test)  \u001b[38;5;66;03m# Reemplaza 'log_reg_model' con el nombre de tu modelo\u001b[39;00m\n\u001b[1;32m      6\u001b[0m \u001b[38;5;66;03m# Calcular métricas de evaluación adicionales\u001b[39;00m\n\u001b[1;32m      7\u001b[0m report \u001b[38;5;241m=\u001b[39m classification_report(y_test, y_pred_test)\n",
      "\u001b[0;31mNameError\u001b[0m: name 'modelo' is not defined"
     ]
    }
   ],
   "source": [
    "from sklearn.metrics import classification_report, confusion_matrix\n",
    "\n",
    "# Realiza predicciones en el conjunto de prueba\n",
    "y_pred_test = modelo.predict(X_test)  # Reemplaza 'log_reg_model' con el nombre de tu modelo\n",
    "\n",
    "# Calcular métricas de evaluación adicionales\n",
    "report = classification_report(y_test, y_pred_test)\n",
    "print(\"Reporte de clasificación:\")\n",
    "print(report)\n",
    "\n",
    "# Calcular matriz de confusión\n",
    "conf_matrix = confusion_matrix(y_test, y_pred_test)\n",
    "print(\"Matriz de confusión:\")\n",
    "print(conf_matrix)\n"
   ]
  },
  {
   "cell_type": "code",
   "execution_count": 72,
   "id": "b2506ae6-24cb-47ff-931b-d359ee3bc1e0",
   "metadata": {},
   "outputs": [
    {
     "ename": "KeyError",
     "evalue": "'y'",
     "output_type": "error",
     "traceback": [
      "\u001b[0;31m---------------------------------------------------------------------------\u001b[0m",
      "\u001b[0;31mKeyError\u001b[0m                                  Traceback (most recent call last)",
      "File \u001b[0;32m/opt/conda/lib/python3.11/site-packages/pandas/core/indexes/base.py:3790\u001b[0m, in \u001b[0;36mIndex.get_loc\u001b[0;34m(self, key)\u001b[0m\n\u001b[1;32m   3789\u001b[0m \u001b[38;5;28;01mtry\u001b[39;00m:\n\u001b[0;32m-> 3790\u001b[0m     \u001b[38;5;28;01mreturn\u001b[39;00m \u001b[38;5;28;43mself\u001b[39;49m\u001b[38;5;241;43m.\u001b[39;49m\u001b[43m_engine\u001b[49m\u001b[38;5;241;43m.\u001b[39;49m\u001b[43mget_loc\u001b[49m\u001b[43m(\u001b[49m\u001b[43mcasted_key\u001b[49m\u001b[43m)\u001b[49m\n\u001b[1;32m   3791\u001b[0m \u001b[38;5;28;01mexcept\u001b[39;00m \u001b[38;5;167;01mKeyError\u001b[39;00m \u001b[38;5;28;01mas\u001b[39;00m err:\n",
      "File \u001b[0;32mindex.pyx:152\u001b[0m, in \u001b[0;36mpandas._libs.index.IndexEngine.get_loc\u001b[0;34m()\u001b[0m\n",
      "File \u001b[0;32mindex.pyx:181\u001b[0m, in \u001b[0;36mpandas._libs.index.IndexEngine.get_loc\u001b[0;34m()\u001b[0m\n",
      "File \u001b[0;32mpandas/_libs/hashtable_class_helper.pxi:7080\u001b[0m, in \u001b[0;36mpandas._libs.hashtable.PyObjectHashTable.get_item\u001b[0;34m()\u001b[0m\n",
      "File \u001b[0;32mpandas/_libs/hashtable_class_helper.pxi:7088\u001b[0m, in \u001b[0;36mpandas._libs.hashtable.PyObjectHashTable.get_item\u001b[0;34m()\u001b[0m\n",
      "\u001b[0;31mKeyError\u001b[0m: 'y'",
      "\nThe above exception was the direct cause of the following exception:\n",
      "\u001b[0;31mKeyError\u001b[0m                                  Traceback (most recent call last)",
      "Cell \u001b[0;32mIn[72], line 11\u001b[0m\n\u001b[1;32m      9\u001b[0m \u001b[38;5;66;03m# Dividir los datos en características (X) y variable objetivo (y) para el conjunto de prueba\u001b[39;00m\n\u001b[1;32m     10\u001b[0m X_test \u001b[38;5;241m=\u001b[39m dataframeTest_encoded\n\u001b[0;32m---> 11\u001b[0m y_test \u001b[38;5;241m=\u001b[39m \u001b[43mdataframeTest_encoded\u001b[49m\u001b[43m[\u001b[49m\u001b[38;5;124;43m'\u001b[39;49m\u001b[38;5;124;43my\u001b[39;49m\u001b[38;5;124;43m'\u001b[39;49m\u001b[43m]\u001b[49m  \u001b[38;5;66;03m# Asignar solo la columna 'y'\u001b[39;00m\n\u001b[1;32m     13\u001b[0m \u001b[38;5;66;03m# Dividir los datos de entrenamiento en conjuntos de entrenamiento y validación\u001b[39;00m\n\u001b[1;32m     14\u001b[0m X_train_split, X_val, y_train_split, y_val \u001b[38;5;241m=\u001b[39m train_test_split(X_train, y_train, test_size\u001b[38;5;241m=\u001b[39m\u001b[38;5;241m0.2\u001b[39m, random_state\u001b[38;5;241m=\u001b[39m\u001b[38;5;241m42\u001b[39m)\n",
      "File \u001b[0;32m/opt/conda/lib/python3.11/site-packages/pandas/core/frame.py:3896\u001b[0m, in \u001b[0;36mDataFrame.__getitem__\u001b[0;34m(self, key)\u001b[0m\n\u001b[1;32m   3894\u001b[0m \u001b[38;5;28;01mif\u001b[39;00m \u001b[38;5;28mself\u001b[39m\u001b[38;5;241m.\u001b[39mcolumns\u001b[38;5;241m.\u001b[39mnlevels \u001b[38;5;241m>\u001b[39m \u001b[38;5;241m1\u001b[39m:\n\u001b[1;32m   3895\u001b[0m     \u001b[38;5;28;01mreturn\u001b[39;00m \u001b[38;5;28mself\u001b[39m\u001b[38;5;241m.\u001b[39m_getitem_multilevel(key)\n\u001b[0;32m-> 3896\u001b[0m indexer \u001b[38;5;241m=\u001b[39m \u001b[38;5;28;43mself\u001b[39;49m\u001b[38;5;241;43m.\u001b[39;49m\u001b[43mcolumns\u001b[49m\u001b[38;5;241;43m.\u001b[39;49m\u001b[43mget_loc\u001b[49m\u001b[43m(\u001b[49m\u001b[43mkey\u001b[49m\u001b[43m)\u001b[49m\n\u001b[1;32m   3897\u001b[0m \u001b[38;5;28;01mif\u001b[39;00m is_integer(indexer):\n\u001b[1;32m   3898\u001b[0m     indexer \u001b[38;5;241m=\u001b[39m [indexer]\n",
      "File \u001b[0;32m/opt/conda/lib/python3.11/site-packages/pandas/core/indexes/base.py:3797\u001b[0m, in \u001b[0;36mIndex.get_loc\u001b[0;34m(self, key)\u001b[0m\n\u001b[1;32m   3792\u001b[0m     \u001b[38;5;28;01mif\u001b[39;00m \u001b[38;5;28misinstance\u001b[39m(casted_key, \u001b[38;5;28mslice\u001b[39m) \u001b[38;5;129;01mor\u001b[39;00m (\n\u001b[1;32m   3793\u001b[0m         \u001b[38;5;28misinstance\u001b[39m(casted_key, abc\u001b[38;5;241m.\u001b[39mIterable)\n\u001b[1;32m   3794\u001b[0m         \u001b[38;5;129;01mand\u001b[39;00m \u001b[38;5;28many\u001b[39m(\u001b[38;5;28misinstance\u001b[39m(x, \u001b[38;5;28mslice\u001b[39m) \u001b[38;5;28;01mfor\u001b[39;00m x \u001b[38;5;129;01min\u001b[39;00m casted_key)\n\u001b[1;32m   3795\u001b[0m     ):\n\u001b[1;32m   3796\u001b[0m         \u001b[38;5;28;01mraise\u001b[39;00m InvalidIndexError(key)\n\u001b[0;32m-> 3797\u001b[0m     \u001b[38;5;28;01mraise\u001b[39;00m \u001b[38;5;167;01mKeyError\u001b[39;00m(key) \u001b[38;5;28;01mfrom\u001b[39;00m \u001b[38;5;21;01merr\u001b[39;00m\n\u001b[1;32m   3798\u001b[0m \u001b[38;5;28;01mexcept\u001b[39;00m \u001b[38;5;167;01mTypeError\u001b[39;00m:\n\u001b[1;32m   3799\u001b[0m     \u001b[38;5;66;03m# If we have a listlike key, _check_indexing_error will raise\u001b[39;00m\n\u001b[1;32m   3800\u001b[0m     \u001b[38;5;66;03m#  InvalidIndexError. Otherwise we fall through and re-raise\u001b[39;00m\n\u001b[1;32m   3801\u001b[0m     \u001b[38;5;66;03m#  the TypeError.\u001b[39;00m\n\u001b[1;32m   3802\u001b[0m     \u001b[38;5;28mself\u001b[39m\u001b[38;5;241m.\u001b[39m_check_indexing_error(key)\n",
      "\u001b[0;31mKeyError\u001b[0m: 'y'"
     ]
    }
   ],
   "source": [
    "from sklearn.model_selection import train_test_split\n",
    "from sklearn.linear_model import LogisticRegression\n",
    "from sklearn.metrics import accuracy_score\n",
    "\n",
    "# Dividir los datos en características (X) y variable objetivo (y) para el conjunto de entrenamiento\n",
    "X_train = dataframeTrain_encoded.drop(columns=['y'])\n",
    "y_train = dataframeTrain_encoded['y']\n",
    "\n",
    "# Dividir los datos en características (X) y variable objetivo (y) para el conjunto de prueba\n",
    "X_test = dataframeTest_encoded\n",
    "y_test = dataframeTest_encoded['y']  # Asignar solo la columna 'y'\n",
    "\n",
    "# Dividir los datos de entrenamiento en conjuntos de entrenamiento y validación\n",
    "X_train_split, X_val, y_train_split, y_val = train_test_split(X_train, y_train, test_size=0.2, random_state=42)\n",
    "\n",
    "# Inicializar el modelo de Regresión Logística\n",
    "model = LogisticRegression()\n",
    "\n",
    "# Ajustar el modelo a los datos de entrenamiento divididos\n",
    "model.fit(X_train_split, y_train_split)\n",
    "\n",
    "# Asegurarnos de que las características en X_test estén en el mismo orden que en X_train\n",
    "X_test = X_test[X_train.columns]\n",
    "\n",
    "# Predecir las etiquetas para los datos de prueba\n",
    "y_pred_test = model.predict(X_test)\n",
    "\n",
    "# Calcular la precisión del modelo en el conjunto de prueba\n",
    "accuracy_test = accuracy_score(y_test, y_pred_test)\n",
    "print(\"Precisión del modelo en el conjunto de prueba:\", accuracy_test)\n"
   ]
  },
  {
   "cell_type": "code",
   "execution_count": null,
   "id": "c9ce658a-a2e9-43e4-b22e-4e73e616c841",
   "metadata": {},
   "outputs": [],
   "source": [
    "\n"
   ]
  },
  {
   "cell_type": "code",
   "execution_count": 73,
   "id": "2d4b9628-d749-4590-a5a8-9eb27316efe3",
   "metadata": {},
   "outputs": [
    {
     "ename": "KeyError",
     "evalue": "\"['y'] not found in axis\"",
     "output_type": "error",
     "traceback": [
      "\u001b[0;31m---------------------------------------------------------------------------\u001b[0m",
      "\u001b[0;31mKeyError\u001b[0m                                  Traceback (most recent call last)",
      "Cell \u001b[0;32mIn[73], line 10\u001b[0m\n\u001b[1;32m      7\u001b[0m y_train \u001b[38;5;241m=\u001b[39m dataframeTrain_encoded[\u001b[38;5;124m'\u001b[39m\u001b[38;5;124my\u001b[39m\u001b[38;5;124m'\u001b[39m]\n\u001b[1;32m      9\u001b[0m \u001b[38;5;66;03m# Dividir los datos en características (X) y variable objetivo (y) para el conjunto de prueba\u001b[39;00m\n\u001b[0;32m---> 10\u001b[0m X_test \u001b[38;5;241m=\u001b[39m \u001b[43mdataframeTest_encoded\u001b[49m\u001b[38;5;241;43m.\u001b[39;49m\u001b[43mdrop\u001b[49m\u001b[43m(\u001b[49m\u001b[43mcolumns\u001b[49m\u001b[38;5;241;43m=\u001b[39;49m\u001b[43m[\u001b[49m\u001b[38;5;124;43m'\u001b[39;49m\u001b[38;5;124;43my\u001b[39;49m\u001b[38;5;124;43m'\u001b[39;49m\u001b[43m]\u001b[49m\u001b[43m)\u001b[49m\n\u001b[1;32m     11\u001b[0m y_test \u001b[38;5;241m=\u001b[39m dataframeTest_encoded[\u001b[38;5;124m'\u001b[39m\u001b[38;5;124my\u001b[39m\u001b[38;5;124m'\u001b[39m]  \u001b[38;5;66;03m# Asignar solo la columna 'y'\u001b[39;00m\n\u001b[1;32m     13\u001b[0m \u001b[38;5;66;03m# Asegurarnos de que las columnas en X_train y X_test estén en el mismo orden\u001b[39;00m\n",
      "File \u001b[0;32m/opt/conda/lib/python3.11/site-packages/pandas/core/frame.py:5347\u001b[0m, in \u001b[0;36mDataFrame.drop\u001b[0;34m(self, labels, axis, index, columns, level, inplace, errors)\u001b[0m\n\u001b[1;32m   5199\u001b[0m \u001b[38;5;28;01mdef\u001b[39;00m \u001b[38;5;21mdrop\u001b[39m(\n\u001b[1;32m   5200\u001b[0m     \u001b[38;5;28mself\u001b[39m,\n\u001b[1;32m   5201\u001b[0m     labels: IndexLabel \u001b[38;5;241m|\u001b[39m \u001b[38;5;28;01mNone\u001b[39;00m \u001b[38;5;241m=\u001b[39m \u001b[38;5;28;01mNone\u001b[39;00m,\n\u001b[0;32m   (...)\u001b[0m\n\u001b[1;32m   5208\u001b[0m     errors: IgnoreRaise \u001b[38;5;241m=\u001b[39m \u001b[38;5;124m\"\u001b[39m\u001b[38;5;124mraise\u001b[39m\u001b[38;5;124m\"\u001b[39m,\n\u001b[1;32m   5209\u001b[0m ) \u001b[38;5;241m-\u001b[39m\u001b[38;5;241m>\u001b[39m DataFrame \u001b[38;5;241m|\u001b[39m \u001b[38;5;28;01mNone\u001b[39;00m:\n\u001b[1;32m   5210\u001b[0m \u001b[38;5;250m    \u001b[39m\u001b[38;5;124;03m\"\"\"\u001b[39;00m\n\u001b[1;32m   5211\u001b[0m \u001b[38;5;124;03m    Drop specified labels from rows or columns.\u001b[39;00m\n\u001b[1;32m   5212\u001b[0m \n\u001b[0;32m   (...)\u001b[0m\n\u001b[1;32m   5345\u001b[0m \u001b[38;5;124;03m            weight  1.0     0.8\u001b[39;00m\n\u001b[1;32m   5346\u001b[0m \u001b[38;5;124;03m    \"\"\"\u001b[39;00m\n\u001b[0;32m-> 5347\u001b[0m     \u001b[38;5;28;01mreturn\u001b[39;00m \u001b[38;5;28;43msuper\u001b[39;49m\u001b[43m(\u001b[49m\u001b[43m)\u001b[49m\u001b[38;5;241;43m.\u001b[39;49m\u001b[43mdrop\u001b[49m\u001b[43m(\u001b[49m\n\u001b[1;32m   5348\u001b[0m \u001b[43m        \u001b[49m\u001b[43mlabels\u001b[49m\u001b[38;5;241;43m=\u001b[39;49m\u001b[43mlabels\u001b[49m\u001b[43m,\u001b[49m\n\u001b[1;32m   5349\u001b[0m \u001b[43m        \u001b[49m\u001b[43maxis\u001b[49m\u001b[38;5;241;43m=\u001b[39;49m\u001b[43maxis\u001b[49m\u001b[43m,\u001b[49m\n\u001b[1;32m   5350\u001b[0m \u001b[43m        \u001b[49m\u001b[43mindex\u001b[49m\u001b[38;5;241;43m=\u001b[39;49m\u001b[43mindex\u001b[49m\u001b[43m,\u001b[49m\n\u001b[1;32m   5351\u001b[0m \u001b[43m        \u001b[49m\u001b[43mcolumns\u001b[49m\u001b[38;5;241;43m=\u001b[39;49m\u001b[43mcolumns\u001b[49m\u001b[43m,\u001b[49m\n\u001b[1;32m   5352\u001b[0m \u001b[43m        \u001b[49m\u001b[43mlevel\u001b[49m\u001b[38;5;241;43m=\u001b[39;49m\u001b[43mlevel\u001b[49m\u001b[43m,\u001b[49m\n\u001b[1;32m   5353\u001b[0m \u001b[43m        \u001b[49m\u001b[43minplace\u001b[49m\u001b[38;5;241;43m=\u001b[39;49m\u001b[43minplace\u001b[49m\u001b[43m,\u001b[49m\n\u001b[1;32m   5354\u001b[0m \u001b[43m        \u001b[49m\u001b[43merrors\u001b[49m\u001b[38;5;241;43m=\u001b[39;49m\u001b[43merrors\u001b[49m\u001b[43m,\u001b[49m\n\u001b[1;32m   5355\u001b[0m \u001b[43m    \u001b[49m\u001b[43m)\u001b[49m\n",
      "File \u001b[0;32m/opt/conda/lib/python3.11/site-packages/pandas/core/generic.py:4711\u001b[0m, in \u001b[0;36mNDFrame.drop\u001b[0;34m(self, labels, axis, index, columns, level, inplace, errors)\u001b[0m\n\u001b[1;32m   4709\u001b[0m \u001b[38;5;28;01mfor\u001b[39;00m axis, labels \u001b[38;5;129;01min\u001b[39;00m axes\u001b[38;5;241m.\u001b[39mitems():\n\u001b[1;32m   4710\u001b[0m     \u001b[38;5;28;01mif\u001b[39;00m labels \u001b[38;5;129;01mis\u001b[39;00m \u001b[38;5;129;01mnot\u001b[39;00m \u001b[38;5;28;01mNone\u001b[39;00m:\n\u001b[0;32m-> 4711\u001b[0m         obj \u001b[38;5;241m=\u001b[39m \u001b[43mobj\u001b[49m\u001b[38;5;241;43m.\u001b[39;49m\u001b[43m_drop_axis\u001b[49m\u001b[43m(\u001b[49m\u001b[43mlabels\u001b[49m\u001b[43m,\u001b[49m\u001b[43m \u001b[49m\u001b[43maxis\u001b[49m\u001b[43m,\u001b[49m\u001b[43m \u001b[49m\u001b[43mlevel\u001b[49m\u001b[38;5;241;43m=\u001b[39;49m\u001b[43mlevel\u001b[49m\u001b[43m,\u001b[49m\u001b[43m \u001b[49m\u001b[43merrors\u001b[49m\u001b[38;5;241;43m=\u001b[39;49m\u001b[43merrors\u001b[49m\u001b[43m)\u001b[49m\n\u001b[1;32m   4713\u001b[0m \u001b[38;5;28;01mif\u001b[39;00m inplace:\n\u001b[1;32m   4714\u001b[0m     \u001b[38;5;28mself\u001b[39m\u001b[38;5;241m.\u001b[39m_update_inplace(obj)\n",
      "File \u001b[0;32m/opt/conda/lib/python3.11/site-packages/pandas/core/generic.py:4753\u001b[0m, in \u001b[0;36mNDFrame._drop_axis\u001b[0;34m(self, labels, axis, level, errors, only_slice)\u001b[0m\n\u001b[1;32m   4751\u001b[0m         new_axis \u001b[38;5;241m=\u001b[39m axis\u001b[38;5;241m.\u001b[39mdrop(labels, level\u001b[38;5;241m=\u001b[39mlevel, errors\u001b[38;5;241m=\u001b[39merrors)\n\u001b[1;32m   4752\u001b[0m     \u001b[38;5;28;01melse\u001b[39;00m:\n\u001b[0;32m-> 4753\u001b[0m         new_axis \u001b[38;5;241m=\u001b[39m \u001b[43maxis\u001b[49m\u001b[38;5;241;43m.\u001b[39;49m\u001b[43mdrop\u001b[49m\u001b[43m(\u001b[49m\u001b[43mlabels\u001b[49m\u001b[43m,\u001b[49m\u001b[43m \u001b[49m\u001b[43merrors\u001b[49m\u001b[38;5;241;43m=\u001b[39;49m\u001b[43merrors\u001b[49m\u001b[43m)\u001b[49m\n\u001b[1;32m   4754\u001b[0m     indexer \u001b[38;5;241m=\u001b[39m axis\u001b[38;5;241m.\u001b[39mget_indexer(new_axis)\n\u001b[1;32m   4756\u001b[0m \u001b[38;5;66;03m# Case for non-unique axis\u001b[39;00m\n\u001b[1;32m   4757\u001b[0m \u001b[38;5;28;01melse\u001b[39;00m:\n",
      "File \u001b[0;32m/opt/conda/lib/python3.11/site-packages/pandas/core/indexes/base.py:6992\u001b[0m, in \u001b[0;36mIndex.drop\u001b[0;34m(self, labels, errors)\u001b[0m\n\u001b[1;32m   6990\u001b[0m \u001b[38;5;28;01mif\u001b[39;00m mask\u001b[38;5;241m.\u001b[39many():\n\u001b[1;32m   6991\u001b[0m     \u001b[38;5;28;01mif\u001b[39;00m errors \u001b[38;5;241m!=\u001b[39m \u001b[38;5;124m\"\u001b[39m\u001b[38;5;124mignore\u001b[39m\u001b[38;5;124m\"\u001b[39m:\n\u001b[0;32m-> 6992\u001b[0m         \u001b[38;5;28;01mraise\u001b[39;00m \u001b[38;5;167;01mKeyError\u001b[39;00m(\u001b[38;5;124mf\u001b[39m\u001b[38;5;124m\"\u001b[39m\u001b[38;5;132;01m{\u001b[39;00mlabels[mask]\u001b[38;5;241m.\u001b[39mtolist()\u001b[38;5;132;01m}\u001b[39;00m\u001b[38;5;124m not found in axis\u001b[39m\u001b[38;5;124m\"\u001b[39m)\n\u001b[1;32m   6993\u001b[0m     indexer \u001b[38;5;241m=\u001b[39m indexer[\u001b[38;5;241m~\u001b[39mmask]\n\u001b[1;32m   6994\u001b[0m \u001b[38;5;28;01mreturn\u001b[39;00m \u001b[38;5;28mself\u001b[39m\u001b[38;5;241m.\u001b[39mdelete(indexer)\n",
      "\u001b[0;31mKeyError\u001b[0m: \"['y'] not found in axis\""
     ]
    }
   ],
   "source": [
    "from sklearn.model_selection import train_test_split\n",
    "from sklearn.linear_model import LogisticRegression\n",
    "from sklearn.metrics import accuracy_score\n",
    "\n",
    "# Dividir los datos en características (X) y variable objetivo (y) para el conjunto de entrenamiento\n",
    "X_train = dataframeTrain_encoded.drop(columns=['y'])\n",
    "y_train = dataframeTrain_encoded['y']\n",
    "\n",
    "# Dividir los datos en características (X) y variable objetivo (y) para el conjunto de prueba\n",
    "X_test = dataframeTest_encoded.drop(columns=['y'])\n",
    "y_test = dataframeTest_encoded['y']  # Asignar solo la columna 'y'\n",
    "\n",
    "# Asegurarnos de que las columnas en X_train y X_test estén en el mismo orden\n",
    "common_columns = X_train.columns.intersection(X_test.columns)\n",
    "X_train = X_train.reindex(columns=common_columns)\n",
    "X_test = X_test.reindex(columns=common_columns)\n",
    "\n",
    "# Dividir los datos de entrenamiento en conjuntos de entrenamiento y validación\n",
    "X_train_split, X_val, y_train_split, y_val = train_test_split(X_train, y_train, test_size=0.2, random_state=42)\n",
    "\n",
    "# Inicializar el modelo de Regresión Logística con un mayor número máximo de iteraciones\n",
    "model = LogisticRegression(max_iter=1000)\n",
    "\n",
    "# Ajustar el modelo a los datos de entrenamiento divididos\n",
    "model.fit(X_train_split, y_train_split)\n",
    "\n",
    "# Predecir las etiquetas para los datos de prueba\n",
    "y_pred_test = model.predict(X_test)\n",
    "\n",
    "# Convertir los valores de y_test a binarios\n",
    "y_test_binary = y_test.replace({'yes': 1, 'no': 0})\n",
    "\n",
    "# Calcular la precisión del modelo en el conjunto de prueba\n",
    "accuracy_test = accuracy_score(y_test_binary, y_pred_test)\n",
    "print(\"Precisión del modelo en el conjunto de prueba:\", accuracy_test)\n"
   ]
  },
  {
   "cell_type": "code",
   "execution_count": 74,
   "id": "e40e4255-b343-4e39-a9aa-24aba1dc66b2",
   "metadata": {},
   "outputs": [
    {
     "ename": "NameError",
     "evalue": "name 'y_test' is not defined",
     "output_type": "error",
     "traceback": [
      "\u001b[0;31m---------------------------------------------------------------------------\u001b[0m",
      "\u001b[0;31mNameError\u001b[0m                                 Traceback (most recent call last)",
      "Cell \u001b[0;32mIn[74], line 2\u001b[0m\n\u001b[1;32m      1\u001b[0m \u001b[38;5;66;03m# Filtrar y_test para eliminar las filas con valores 'unknown'\u001b[39;00m\n\u001b[0;32m----> 2\u001b[0m y_test_filtered \u001b[38;5;241m=\u001b[39m \u001b[43my_test\u001b[49m[y_test\u001b[38;5;241m.\u001b[39misin([\u001b[38;5;124m'\u001b[39m\u001b[38;5;124myes\u001b[39m\u001b[38;5;124m'\u001b[39m, \u001b[38;5;124m'\u001b[39m\u001b[38;5;124mno\u001b[39m\u001b[38;5;124m'\u001b[39m])]\n\u001b[1;32m      4\u001b[0m \u001b[38;5;66;03m# Convertir los valores de y_test_filtered a binarios\u001b[39;00m\n\u001b[1;32m      5\u001b[0m y_test_binary \u001b[38;5;241m=\u001b[39m y_test_filtered\u001b[38;5;241m.\u001b[39mreplace({\u001b[38;5;124m'\u001b[39m\u001b[38;5;124myes\u001b[39m\u001b[38;5;124m'\u001b[39m: \u001b[38;5;241m1\u001b[39m, \u001b[38;5;124m'\u001b[39m\u001b[38;5;124mno\u001b[39m\u001b[38;5;124m'\u001b[39m: \u001b[38;5;241m0\u001b[39m})\n",
      "\u001b[0;31mNameError\u001b[0m: name 'y_test' is not defined"
     ]
    }
   ],
   "source": [
    "# Filtrar y_test para eliminar las filas con valores 'unknown'\n",
    "y_test_filtered = y_test[y_test.isin(['yes', 'no'])]\n",
    "\n",
    "# Convertir los valores de y_test_filtered a binarios\n",
    "y_test_binary = y_test_filtered.replace({'yes': 1, 'no': 0})\n",
    "\n",
    "# Calcular la precisión del modelo en el conjunto de prueba\n",
    "accuracy_test = accuracy_score(y_test_binary, y_pred_test)\n",
    "print(\"Precisión del modelo en el conjunto de prueba:\", accuracy_test)\n"
   ]
  },
  {
   "cell_type": "markdown",
   "id": "38bdbdc8-3cd1-4882-88a7-11a918efd241",
   "metadata": {},
   "source": [
    "## MODELO 1\n",
    "\n"
   ]
  },
  {
   "cell_type": "code",
   "execution_count": 77,
   "id": "c10fb398-c389-4245-a20c-020abf909676",
   "metadata": {},
   "outputs": [
    {
     "name": "stdout",
     "output_type": "stream",
     "text": [
      "Precisión del modelo en el conjunto de validación: 0.9090798737557659\n"
     ]
    }
   ],
   "source": [
    "from sklearn.model_selection import train_test_split\n",
    "from sklearn.linear_model import LogisticRegression\n",
    "from sklearn.metrics import accuracy_score\n",
    "\n",
    "# Dividir los datos en características (X) y variable objetivo (y) para el conjunto de entrenamiento\n",
    "X_train = dataframeTrain_encoded.drop(columns=['y'])\n",
    "y_train = dataframeTrain_encoded['y']\n",
    "\n",
    "# Dividir los datos de entrenamiento en conjuntos de entrenamiento y validación\n",
    "X_train_split, X_val, y_train_split, y_val = train_test_split(X_train, y_train, test_size=0.2, random_state=42)\n",
    "\n",
    "# Inicializar el modelo de Regresión Logística con un mayor número máximo de iteraciones\n",
    "model = LogisticRegression(max_iter=5000)\n",
    "\n",
    "# Ajustar el modelo a los datos de entrenamiento divididos\n",
    "model.fit(X_train_split, y_train_split)\n",
    "\n",
    "# Predecir las etiquetas para los datos de validación\n",
    "y_pred_val = model.predict(X_val)\n",
    "\n",
    "# Calcular la precisión del modelo en el conjunto de validación\n",
    "accuracy_val = accuracy_score(y_val, y_pred_val)\n",
    "print(\"Precisión del modelo en el conjunto de validación:\", accuracy_val)\n"
   ]
  },
  {
   "cell_type": "markdown",
   "id": "c3888971-b70c-455f-8b8b-c4c3354992f8",
   "metadata": {},
   "source": [
    "coeficientes de las características ordenadas de mayor a menor importancia según su influencia en la predicción. Los coeficientes positivos indican que un aumento en esa característica aumenta la probabilidad de que la clase objetivo sea '1' (por ejemplo, 'sí'), mientras que los coeficientes negativos indican lo contrario."
   ]
  },
  {
   "cell_type": "code",
   "execution_count": 76,
   "id": "c90db2bc-f565-42b4-8cfe-4c39a73c7f0f",
   "metadata": {},
   "outputs": [
    {
     "name": "stdout",
     "output_type": "stream",
     "text": [
      "Coeficientes más importantes:\n",
      "                      Coefficient\n",
      "month_mar                0.727799\n",
      "cons_price_idx           0.391440\n",
      "month_jun                0.302227\n",
      "month_jul                0.233598\n",
      "default_no               0.193289\n",
      "contact_cellular         0.184253\n",
      "month_aug                0.174802\n",
      "job_student              0.166003\n",
      "poutcome_nonexistent     0.158120\n",
      "job_retired              0.136093\n"
     ]
    }
   ],
   "source": [
    "# Obtener los coeficientes del modelo\n",
    "coefficients = pd.DataFrame(data=model.coef_.reshape(-1, 1), index=X_train.columns, columns=['Coefficient'])\n",
    "coefficients.sort_values(by='Coefficient', ascending=False, inplace=True)\n",
    "\n",
    "# Mostrar los coeficientes más importantes\n",
    "print(\"Coeficientes más importantes:\")\n",
    "print(coefficients.head(10))\n"
   ]
  },
  {
   "cell_type": "markdown",
   "id": "914173dc-41ed-4e72-9791-0c0fb050c37c",
   "metadata": {},
   "source": [
    "estos coeficientes nos proporcionan información valiosa sobre las características que más influyen en la predicción del modelo. Esta comprensión puede ser útil para mejorar aún más el modelo y optimizar las estrategias de marketing dirigidas a los clientes. \n",
    "\n",
    "month_mar (Mes de Marzo): Parece que el mes de marzo tiene una influencia significativa en la predicción positiva de la variable objetivo. Esto puede deberse a que marzo es un mes en el que se realizan acciones especiales o promociones que pueden aumentar la probabilidad de que un cliente acepte la oferta.\r\n",
    "\r\n",
    "cons_price_idx (Índice de Precios al Consumidor): El índice de precios al consumidor también tiene un impacto positivo en la predicción. Esto sugiere que un mayor índice de precios al consumidor está asociado con una mayor probabilidad de que los clientes acepten la oferta.\r\n",
    "\r\n",
    "default_no (No Incumplimiento de Pagos): La ausencia de incumplimiento de pagos (default_no) también tiene un efecto positivo en la predicción, lo cual es lógico ya que los clientes sin historial de incumplimiento son más propensos a aceptar la oferta.\r\n",
    "\r\n",
    "contact_cellular (Contacto por Teléfono Celular): El contacto por teléfono celular también tiene una influencia positiva en la predicción, lo que sugiere que este método de contacto puede ser más efectivo para persuadir a los clientes.\r\n",
    "\r\n",
    "job_student (Trabajo como Estudiante) y job_retired (Trabajo como Jubilado): Los trabajos como estudiante y jubilado también tienen una influencia positiva en la predicción, lo cual puede deberse a características específicas de estos grupos demográficos que los hacen más propensos a aceptar la preguntar.preguntar."
   ]
  },
  {
   "cell_type": "markdown",
   "id": "38e28542-44a2-437e-ac36-b3784158e358",
   "metadata": {},
   "source": [
    "# realizar un análisis de residuos en el contexto de la Regresión Logística:\n",
    "\n",
    "Obtención de las probabilidades pronosticadas: Utilizamos el modelo de Regresión Logística para predecir las probabilidades de pertenencia a cada clase para los datos de entrenamiento.\n",
    "\n",
    "Cálculo de los residuos: Calculamos los residuos como la diferencia entre las probabilidades pronosticadas y las respuestas observadas (0 o 1 en el caso de la Regresión Logística).\n",
    "\n",
    "Análisis de los residuos: Visualizamos los residuos para detectar patrones sistemáticos. Esto puede hacerse mediante un gráfico de residuos versus las características relevantes o mediante gráficos como el histograma de residuos.\n",
    "\n",
    "Prueba de homocedasticidad: Comprobamos si la varianza de los residuos es constante en todo el rango de valores pronosticados. Esto puede hacerse mediante un gráfico de residuos versus los valores pronosticados.\n",
    "\n",
    "Prueba de normalidad: Verificamos si los residuos siguen una distribución normal. Esto se puede hacer mediante un gráfico Q-Q (quantile-quantile) o una prueba estadística como la prueba de Shapiro-Wilk.\n",
    "\n",
    "Identificación de valores atípicos: Buscamos valores atípicos o influencia excesiva mediante la identificación de observaciones con residuos altos."
   ]
  },
  {
   "cell_type": "code",
   "execution_count": 78,
   "id": "896024be-e0b7-4bc9-b3f6-2606110768e6",
   "metadata": {},
   "outputs": [],
   "source": [
    "import numpy as np\n",
    "import matplotlib.pyplot as plt\n",
    "\n",
    "# Suponiendo que \"y_train_pred\" son las probabilidades pronosticadas por el modelo\n",
    "y_train_pred = model.predict_proba(X_train_split)[:, 1]  # Probabilidad de pertenencia a la clase positiva\n",
    "\n",
    "# Calcular los residuos como la diferencia entre las probabilidades pronosticadas y las respuestas observadas\n",
    "residuos = y_train_split - y_train_pred\n"
   ]
  },
  {
   "cell_type": "code",
   "execution_count": 79,
   "id": "ac232323-3afd-460f-9564-7bd8b7dc356f",
   "metadata": {},
   "outputs": [
    {
     "data": {
      "image/png": "[encoded data removed]",
      "text/plain": [
       "<Figure size 1000x600 with 1 Axes>"
      ]
     },
     "metadata": {},
     "output_type": "display_data"
    }
   ],
   "source": [
    "# Gráfico de dispersión de residuos versus valores pronosticados\n",
    "plt.figure(figsize=(10, 6))\n",
    "plt.scatter(y_train_pred, residuos, alpha=0.5)\n",
    "plt.xlabel('Probabilidades pronosticadas')\n",
    "plt.ylabel('Residuos')\n",
    "plt.title('Gráfico de Residuos vs. Probabilidades Pronosticadas')\n",
    "plt.axhline(y=0, color='r', linestyle='--')\n",
    "plt.grid(True)\n",
    "plt.show()\n"
   ]
  },
  {
   "cell_type": "markdown",
   "id": "36fb79c2-e789-42c3-93a1-28c635cafaca",
   "metadata": {},
   "source": [
    "Este gráfico nos ayudará a identificar si hay alguna relación entre los residuos y las probabilidades pronosticadas. Queremos ver una dispersión aleatoria alrededor de la línea cero (la línea punteada roja). Si hay algún patrón, como una curva en forma de U o un patrón en zigzag, podría indicar que el modelo tiene problemas."
   ]
  },
  {
   "cell_type": "markdown",
   "id": "6ed68dc5-e715-4671-b442-9dbdf95e6db2",
   "metadata": {},
   "source": [
    "Hacer un histograma de los residuos para evaluar su distribución."
   ]
  },
  {
   "cell_type": "code",
   "execution_count": 62,
   "id": "991ede22-1684-4477-8cdf-40fcc26864b4",
   "metadata": {},
   "outputs": [
    {
     "data": {
      "image/png": "[encoded data removed]",
      "text/plain": [
       "<Figure size 1000x600 with 1 Axes>"
      ]
     },
     "metadata": {},
     "output_type": "display_data"
    }
   ],
   "source": [
    "# Histograma de los residuos\n",
    "plt.figure(figsize=(10, 6))\n",
    "plt.hist(residuos, bins=30, edgecolor='black')\n",
    "plt.xlabel('Residuos')\n",
    "plt.ylabel('Frecuencia')\n",
    "plt.title('Histograma de Residuos')\n",
    "plt.grid(True)\n",
    "plt.show()\n"
   ]
  },
  {
   "cell_type": "markdown",
   "id": "656b886a-0e3d-4989-b45a-76465b20c571",
   "metadata": {},
   "source": [
    "En este histograma, esperamos ver una distribución simétrica alrededor de cero, indicando que los residuos están distribuidos normalmente."
   ]
  },
  {
   "cell_type": "markdown",
   "id": "58a6d14b-7988-4041-9f7a-0aaf72f78c2a",
   "metadata": {},
   "source": [
    "# explorar más a fondo la distribución de los residuos y realizar algunas pruebas estadísticas para evaluar su normalidad.\n",
    "\n",
    "Primero, vamos a importar las bibliotecas necesarias: \n",
    "import seaborn as sns\r\n",
    "from scipy import stats"
   ]
  },
  {
   "cell_type": "code",
   "execution_count": 80,
   "id": "9e0d6300-6979-48a7-9b07-8e607acd3ae1",
   "metadata": {},
   "outputs": [],
   "source": [
    "import seaborn as sns\n",
    "from scipy import stats"
   ]
  },
  {
   "cell_type": "markdown",
   "id": "c369db4d-99bc-4cb6-9e78-1c148bbe9bd1",
   "metadata": {},
   "source": [
    "# Eliminar columnas no numéricas si es necesario\n"
   ]
  },
  {
   "cell_type": "code",
   "execution_count": 85,
   "id": "83ab555c-f4c8-459b-9753-39200a1948d1",
   "metadata": {},
   "outputs": [],
   "source": [
    "# Eliminar columnas no numéricas si es necesario\n",
    "dataframeTrain_numeric = dataframeTrain_encoded.select_dtypes(include=[np.number])\n",
    "\n",
    "# Identificar valores atípicos usando el método de Tukey\n",
    "Q1 = dataframeTrain_numeric.quantile(0.25)\n",
    "Q3 = dataframeTrain_numeric.quantile(0.75)\n",
    "IQR = Q3 - Q1\n",
    "lower_bound = Q1 - 1.5 * IQR\n",
    "upper_bound = Q3 + 1.5 * IQR\n",
    "\n",
    "outliers = ((dataframeTrain_numeric < lower_bound) | (dataframeTrain_numeric > upper_bound)).any(axis=1)\n",
    "\n",
    "# Eliminar valores atípicos\n",
    "dataframeTrain_clean = dataframeTrain_encoded[~outliers]\n",
    "\n"
   ]
  },
  {
   "cell_type": "markdown",
   "id": "b187ce9e-9819-4e2c-ae89-a8e02bceab39",
   "metadata": {},
   "source": [
    "# Prueba de normalidad (Shapiro-Wilk)\n"
   ]
  },
  {
   "cell_type": "code",
   "execution_count": 81,
   "id": "e56243fa-8052-48f8-baa9-cd52dcb60c4f",
   "metadata": {},
   "outputs": [
    {
     "name": "stdout",
     "output_type": "stream",
     "text": [
      "Estadístico de la prueba: 0.665848970413208\n",
      "Valor p: 0.0\n",
      "Se rechaza la hipótesis nula: los residuos no parecen provenir de una distribución normal.\n"
     ]
    },
    {
     "name": "stderr",
     "output_type": "stream",
     "text": [
      "/opt/conda/lib/python3.11/site-packages/scipy/stats/_morestats.py:1882: UserWarning: p-value may not be accurate for N > 5000.\n",
      "  warnings.warn(\"p-value may not be accurate for N > 5000.\")\n"
     ]
    }
   ],
   "source": [
    "\n",
    "stat, p_value = stats.shapiro(residuos)\n",
    "print(\"Estadístico de la prueba:\", stat)\n",
    "print(\"Valor p:\", p_value)\n",
    "\n",
    "alpha = 0.05\n",
    "if p_value > alpha:\n",
    "    print(\"No se rechaza la hipótesis nula: los residuos parecen provenir de una distribución normal.\")\n",
    "else:\n",
    "    print(\"Se rechaza la hipótesis nula: los residuos no parecen provenir de una distribución normal.\")\n"
   ]
  },
  {
   "cell_type": "markdown",
   "id": "ad425315-cb8b-4eab-a81a-76bda9d72ffe",
   "metadata": {},
   "source": [
    "Si el valor p es mayor que el nivel de significancia (generalmente 0.05), no podemos rechazar la hipótesis nula y podemos decir que los residuos se distribuyen normalmente. De lo contrario, si el valor p es menor que el nivel de significancia, rechazamos la hipótesis nula y concluimos que los residuos no se distribuyen normalmente.\n",
    "\n",
    "Este análisis nos proporciona información importante sobre la calidad del modelo y puede ayudarnos a identificar áreas de mejora. Si los residuos no se distribuyen normalmente o muestran algún patrón sistemático, podríamos necesitar revisar el modelo y considerar ajustes adicionales."
   ]
  },
  {
   "cell_type": "code",
   "execution_count": 41,
   "id": "c461cb3f-ac55-457a-92b4-1c40e0c26903",
   "metadata": {},
   "outputs": [
    {
     "name": "stderr",
     "output_type": "stream",
     "text": [
      "/opt/conda/lib/python3.11/site-packages/sklearn/model_selection/_validation.py:425: FitFailedWarning: \n",
      "30 fits failed out of a total of 60.\n",
      "The score on these train-test partitions for these parameters will be set to nan.\n",
      "If these failures are not expected, you can try to debug them by setting error_score='raise'.\n",
      "\n",
      "Below are more details about the failures:\n",
      "--------------------------------------------------------------------------------\n",
      "30 fits failed with the following error:\n",
      "Traceback (most recent call last):\n",
      "  File \"/opt/conda/lib/python3.11/site-packages/sklearn/model_selection/_validation.py\", line 729, in _fit_and_score\n",
      "    estimator.fit(X_train, y_train, **fit_params)\n",
      "  File \"/opt/conda/lib/python3.11/site-packages/sklearn/base.py\", line 1152, in wrapper\n",
      "    return fit_method(estimator, *args, **kwargs)\n",
      "           ^^^^^^^^^^^^^^^^^^^^^^^^^^^^^^^^^^^^^^\n",
      "  File \"/opt/conda/lib/python3.11/site-packages/sklearn/linear_model/_logistic.py\", line 1169, in fit\n",
      "    solver = _check_solver(self.solver, self.penalty, self.dual)\n",
      "             ^^^^^^^^^^^^^^^^^^^^^^^^^^^^^^^^^^^^^^^^^^^^^^^^^^^\n",
      "  File \"/opt/conda/lib/python3.11/site-packages/sklearn/linear_model/_logistic.py\", line 56, in _check_solver\n",
      "    raise ValueError(\n",
      "ValueError: Solver lbfgs supports only 'l2' or 'none' penalties, got l1 penalty.\n",
      "\n",
      "  warnings.warn(some_fits_failed_message, FitFailedWarning)\n",
      "/opt/conda/lib/python3.11/site-packages/sklearn/model_selection/_search.py:979: UserWarning: One or more of the test scores are non-finite: [       nan 0.91025797        nan 0.91098634        nan 0.91047041\n",
      "        nan 0.91101669        nan 0.91080425        nan 0.91031866]\n",
      "  warnings.warn(\n"
     ]
    },
    {
     "name": "stdout",
     "output_type": "stream",
     "text": [
      "Mejores hiperparámetros encontrados:\n",
      "{'C': 1, 'penalty': 'l2'}\n",
      "Mejor puntuación (exactitud): 0.9110166919575114\n"
     ]
    }
   ],
   "source": [
    "from sklearn.model_selection import GridSearchCV\n",
    "\n",
    "# Definir la cuadrícula de valores para los hiperparámetros\n",
    "param_grid = {\n",
    "    'penalty': ['l1', 'l2'],  # Tipo de penalización (L1 o L2)\n",
    "    'C': [0.001, 0.01, 0.1, 1, 10, 100]  # Parámetro de regularización\n",
    "}\n",
    "\n",
    "# Inicializar el modelo de Regresión Logística\n",
    "model = LogisticRegression(max_iter=100000)\n",
    "\n",
    "# Inicializar el GridSearchCV con el modelo y la cuadrícula de parámetros\n",
    "grid_search = GridSearchCV(model, param_grid, cv=5, scoring='accuracy')\n",
    "\n",
    "# Ajustar el GridSearchCV a los datos de entrenamiento\n",
    "grid_search.fit(X_train_split, y_train_split)\n",
    "\n",
    "# Mostrar los mejores hiperparámetros encontrados\n",
    "print(\"Mejores hiperparámetros encontrados:\")\n",
    "print(grid_search.best_params_)\n",
    "\n",
    "# Mostrar la mejor puntuación (exactitud) obtenida durante la búsqueda\n",
    "print(\"Mejor puntuación (exactitud):\", grid_search.best_score_)\n"
   ]
  },
  {
   "cell_type": "code",
   "execution_count": 42,
   "id": "f34a4bae-282a-4083-813b-b3dd0e1a90b6",
   "metadata": {},
   "outputs": [
    {
     "name": "stdout",
     "output_type": "stream",
     "text": [
      "Mejores hiperparámetros encontrados:\n",
      "{'C': 1, 'penalty': 'l2'}\n",
      "Mejor puntuación (exactitud): 0.9110166919575114\n"
     ]
    }
   ],
   "source": [
    "from sklearn.model_selection import GridSearchCV\n",
    "from sklearn.linear_model import LogisticRegression\n",
    "\n",
    "# Definir la cuadrícula de valores para los hiperparámetros\n",
    "param_grid = {\n",
    "    'penalty': ['l2'],  # Cambiamos 'l1' por 'l2'\n",
    "    'C': [0.001, 0.01, 0.1, 1, 10, 100]  # Parámetro de regularización\n",
    "}\n",
    "\n",
    "# Inicializar el modelo de Regresión Logística\n",
    "model = LogisticRegression(max_iter=100000, solver='lbfgs')  # Especificamos el solver\n",
    "\n",
    "# Inicializar el GridSearchCV con el modelo y la cuadrícula de parámetros\n",
    "grid_search = GridSearchCV(model, param_grid, cv=5, scoring='accuracy')\n",
    "\n",
    "# Ajustar el GridSearchCV a los datos de entrenamiento\n",
    "grid_search.fit(X_train_split, y_train_split)\n",
    "\n",
    "# Mostrar los mejores hiperparámetros encontrados\n",
    "print(\"Mejores hiperparámetros encontrados:\")\n",
    "print(grid_search.best_params_)\n",
    "\n",
    "# Mostrar la mejor puntuación (exactitud) obtenida durante la búsqueda\n",
    "print(\"Mejor puntuación (exactitud):\", grid_search.best_score_)\n"
   ]
  },
  {
   "cell_type": "markdown",
   "id": "0ad4b5de-3901-4a51-94b6-14deb41e6c15",
   "metadata": {},
   "source": [
    "encontrado los mejores hiperparámetros para tu modelo de Regresión Logística:\n",
    "\n",
    "Valor de C: 1\n",
    "Tipo de penalización: L2 (Ridge)\n",
    "La mejor puntuación de exactitud alcanzada con estos hiperparámetros es de aproximadamente 0.911, lo que indica un buen rendimiento del modelo en el conjunto de validación.\n",
    "\n",
    "Ahora que tienes estos mejores hiperparámetros, puedes utilizarlos para ajustar tu modelo de Regresión Logística y luego evaluar su desempeño en el conjunto de prueba para asegurarte de que generaliza bien a datos nuevos y no vistos."
   ]
  },
  {
   "cell_type": "markdown",
   "id": "59cebfdb-2e18-40da-8ffd-4e1003ce9377",
   "metadata": {},
   "source": [
    "# Inicializar un nuevo modelo de Regresión Logística con los mejores hiperparámetros encontrados"
   ]
  },
  {
   "cell_type": "code",
   "execution_count": 43,
   "id": "d6363963-d7ea-4b38-87b2-2b78a2ffdd25",
   "metadata": {},
   "outputs": [
    {
     "ename": "NameError",
     "evalue": "name 'X_test' is not defined",
     "output_type": "error",
     "traceback": [
      "\u001b[0;31m---------------------------------------------------------------------------\u001b[0m",
      "\u001b[0;31mNameError\u001b[0m                                 Traceback (most recent call last)",
      "Cell \u001b[0;32mIn[43], line 8\u001b[0m\n\u001b[1;32m      5\u001b[0m best_model\u001b[38;5;241m.\u001b[39mfit(X_train, y_train)\n\u001b[1;32m      7\u001b[0m \u001b[38;5;66;03m# Predecir las etiquetas para el conjunto de prueba\u001b[39;00m\n\u001b[0;32m----> 8\u001b[0m y_pred_test \u001b[38;5;241m=\u001b[39m best_model\u001b[38;5;241m.\u001b[39mpredict(\u001b[43mX_test\u001b[49m)\n\u001b[1;32m     10\u001b[0m \u001b[38;5;66;03m# Calcular la precisión del modelo en el conjunto de prueba\u001b[39;00m\n\u001b[1;32m     11\u001b[0m accuracy_test \u001b[38;5;241m=\u001b[39m accuracy_score(y_test, y_pred_test)\n",
      "\u001b[0;31mNameError\u001b[0m: name 'X_test' is not defined"
     ]
    }
   ],
   "source": [
    "\n",
    "best_model = LogisticRegression(max_iter=100000, penalty=grid_search.best_params_['penalty'], \n",
    "                                C=grid_search.best_params_['C'])\n",
    "\n",
    "# Entrenar el modelo con los datos de entrenamiento completos (no divididos)\n",
    "best_model.fit(X_train, y_train)\n",
    "\n",
    "# Predecir las etiquetas para el conjunto de prueba\n",
    "y_pred_test = best_model.predict(X_test)\n",
    "\n",
    "# Calcular la precisión del modelo en el conjunto de prueba\n",
    "accuracy_test = accuracy_score(y_test, y_pred_test)\n",
    "print(\"Precisión del modelo en el conjunto de prueba:\", accuracy_test)\n",
    "\n"
   ]
  },
  {
   "cell_type": "markdown",
   "id": "c2a12717-861c-421e-9633-586cf647a008",
   "metadata": {},
   "source": [
    "# paso 1: predecir las etiquetas en el conjunto de prueba utilizando el modelo ajustado con los mejores hiperparámetros."
   ]
  },
  {
   "cell_type": "code",
   "execution_count": null,
   "id": "7895db1a-e1d3-48e3-8a63-7485ff04883b",
   "metadata": {},
   "outputs": [],
   "source": []
  },
  {
   "cell_type": "markdown",
   "id": "1122e500-1ac1-485f-a01b-37782367235f",
   "metadata": {},
   "source": [
    "# Matriz de Confusión:"
   ]
  },
  {
   "cell_type": "code",
   "execution_count": 93,
   "id": "58790390-e95f-4082-8ac3-0615640c2b85",
   "metadata": {},
   "outputs": [],
   "source": [
    "# Por ejemplo, si tus características están en un DataFrame llamado dataframeTrain_clean y tus etiquetas en una Serie llamada y:\n",
    "X = dataframeTrain_clean.drop(columns=['y'])\n",
    "y = dataframeTrain_clean['y']\n"
   ]
  },
  {
   "cell_type": "code",
   "execution_count": 98,
   "id": "89517458-b373-46a2-9f75-4bd17bcae7f8",
   "metadata": {},
   "outputs": [],
   "source": [
    "# Suponiendo que tienes un modelo llamado 'modelo' ya entrenado\n",
    "# y deseas obtener las predicciones para el conjunto de prueba 'X_test'\n",
    "y_pred = model.predict(X_test)\n",
    "\n"
   ]
  },
  {
   "cell_type": "code",
   "execution_count": 96,
   "id": "4dd3a552-6b1e-4237-8655-9eef21b57999",
   "metadata": {},
   "outputs": [
    {
     "ename": "ValueError",
     "evalue": "Found input variables with inconsistent numbers of samples: [5741, 4119]",
     "output_type": "error",
     "traceback": [
      "\u001b[0;31m---------------------------------------------------------------------------\u001b[0m",
      "\u001b[0;31mValueError\u001b[0m                                Traceback (most recent call last)",
      "Cell \u001b[0;32mIn[96], line 16\u001b[0m\n\u001b[1;32m      8\u001b[0m X_train, X_test, y_train, y_test \u001b[38;5;241m=\u001b[39m train_test_split(X, y, test_size\u001b[38;5;241m=\u001b[39m\u001b[38;5;241m0.2\u001b[39m, random_state\u001b[38;5;241m=\u001b[39m\u001b[38;5;241m42\u001b[39m)\n\u001b[1;32m     10\u001b[0m \u001b[38;5;66;03m# Ahora puedes utilizar X_train, X_test, y_train, y y_test para entrenar tu modelo y evaluar su rendimiento.\u001b[39;00m\n\u001b[1;32m     11\u001b[0m \n\u001b[1;32m     12\u001b[0m \u001b[38;5;66;03m# Aquí se supone que tienes tus predicciones (y_pred) y tus etiquetas verdaderas (y_test).\u001b[39;00m\n\u001b[1;32m     13\u001b[0m \u001b[38;5;66;03m# Si ya tienes y_pred y y_test definidos, puedes calcular la matriz de confusión y visualizarla.\u001b[39;00m\n\u001b[1;32m     14\u001b[0m \n\u001b[1;32m     15\u001b[0m \u001b[38;5;66;03m# Calcular la matriz de confusión\u001b[39;00m\n\u001b[0;32m---> 16\u001b[0m cm \u001b[38;5;241m=\u001b[39m \u001b[43mconfusion_matrix\u001b[49m\u001b[43m(\u001b[49m\u001b[43my_test\u001b[49m\u001b[43m,\u001b[49m\u001b[43m \u001b[49m\u001b[43my_pred\u001b[49m\u001b[43m)\u001b[49m\n\u001b[1;32m     18\u001b[0m \u001b[38;5;66;03m# Visualizar la matriz de confusión utilizando seaborn\u001b[39;00m\n\u001b[1;32m     19\u001b[0m plt\u001b[38;5;241m.\u001b[39mfigure(figsize\u001b[38;5;241m=\u001b[39m(\u001b[38;5;241m8\u001b[39m, \u001b[38;5;241m6\u001b[39m))\n",
      "File \u001b[0;32m/opt/conda/lib/python3.11/site-packages/sklearn/utils/_param_validation.py:211\u001b[0m, in \u001b[0;36mvalidate_params.<locals>.decorator.<locals>.wrapper\u001b[0;34m(*args, **kwargs)\u001b[0m\n\u001b[1;32m    205\u001b[0m \u001b[38;5;28;01mtry\u001b[39;00m:\n\u001b[1;32m    206\u001b[0m     \u001b[38;5;28;01mwith\u001b[39;00m config_context(\n\u001b[1;32m    207\u001b[0m         skip_parameter_validation\u001b[38;5;241m=\u001b[39m(\n\u001b[1;32m    208\u001b[0m             prefer_skip_nested_validation \u001b[38;5;129;01mor\u001b[39;00m global_skip_validation\n\u001b[1;32m    209\u001b[0m         )\n\u001b[1;32m    210\u001b[0m     ):\n\u001b[0;32m--> 211\u001b[0m         \u001b[38;5;28;01mreturn\u001b[39;00m \u001b[43mfunc\u001b[49m\u001b[43m(\u001b[49m\u001b[38;5;241;43m*\u001b[39;49m\u001b[43margs\u001b[49m\u001b[43m,\u001b[49m\u001b[43m \u001b[49m\u001b[38;5;241;43m*\u001b[39;49m\u001b[38;5;241;43m*\u001b[39;49m\u001b[43mkwargs\u001b[49m\u001b[43m)\u001b[49m\n\u001b[1;32m    212\u001b[0m \u001b[38;5;28;01mexcept\u001b[39;00m InvalidParameterError \u001b[38;5;28;01mas\u001b[39;00m e:\n\u001b[1;32m    213\u001b[0m     \u001b[38;5;66;03m# When the function is just a wrapper around an estimator, we allow\u001b[39;00m\n\u001b[1;32m    214\u001b[0m     \u001b[38;5;66;03m# the function to delegate validation to the estimator, but we replace\u001b[39;00m\n\u001b[1;32m    215\u001b[0m     \u001b[38;5;66;03m# the name of the estimator by the name of the function in the error\u001b[39;00m\n\u001b[1;32m    216\u001b[0m     \u001b[38;5;66;03m# message to avoid confusion.\u001b[39;00m\n\u001b[1;32m    217\u001b[0m     msg \u001b[38;5;241m=\u001b[39m re\u001b[38;5;241m.\u001b[39msub(\n\u001b[1;32m    218\u001b[0m         \u001b[38;5;124mr\u001b[39m\u001b[38;5;124m\"\u001b[39m\u001b[38;5;124mparameter of \u001b[39m\u001b[38;5;124m\\\u001b[39m\u001b[38;5;124mw+ must be\u001b[39m\u001b[38;5;124m\"\u001b[39m,\n\u001b[1;32m    219\u001b[0m         \u001b[38;5;124mf\u001b[39m\u001b[38;5;124m\"\u001b[39m\u001b[38;5;124mparameter of \u001b[39m\u001b[38;5;132;01m{\u001b[39;00mfunc\u001b[38;5;241m.\u001b[39m\u001b[38;5;18m__qualname__\u001b[39m\u001b[38;5;132;01m}\u001b[39;00m\u001b[38;5;124m must be\u001b[39m\u001b[38;5;124m\"\u001b[39m,\n\u001b[1;32m    220\u001b[0m         \u001b[38;5;28mstr\u001b[39m(e),\n\u001b[1;32m    221\u001b[0m     )\n",
      "File \u001b[0;32m/opt/conda/lib/python3.11/site-packages/sklearn/metrics/_classification.py:326\u001b[0m, in \u001b[0;36mconfusion_matrix\u001b[0;34m(y_true, y_pred, labels, sample_weight, normalize)\u001b[0m\n\u001b[1;32m    231\u001b[0m \u001b[38;5;129m@validate_params\u001b[39m(\n\u001b[1;32m    232\u001b[0m     {\n\u001b[1;32m    233\u001b[0m         \u001b[38;5;124m\"\u001b[39m\u001b[38;5;124my_true\u001b[39m\u001b[38;5;124m\"\u001b[39m: [\u001b[38;5;124m\"\u001b[39m\u001b[38;5;124marray-like\u001b[39m\u001b[38;5;124m\"\u001b[39m],\n\u001b[0;32m   (...)\u001b[0m\n\u001b[1;32m    242\u001b[0m     y_true, y_pred, \u001b[38;5;241m*\u001b[39m, labels\u001b[38;5;241m=\u001b[39m\u001b[38;5;28;01mNone\u001b[39;00m, sample_weight\u001b[38;5;241m=\u001b[39m\u001b[38;5;28;01mNone\u001b[39;00m, normalize\u001b[38;5;241m=\u001b[39m\u001b[38;5;28;01mNone\u001b[39;00m\n\u001b[1;32m    243\u001b[0m ):\n\u001b[1;32m    244\u001b[0m \u001b[38;5;250m    \u001b[39m\u001b[38;5;124;03m\"\"\"Compute confusion matrix to evaluate the accuracy of a classification.\u001b[39;00m\n\u001b[1;32m    245\u001b[0m \n\u001b[1;32m    246\u001b[0m \u001b[38;5;124;03m    By definition a confusion matrix :math:`C` is such that :math:`C_{i, j}`\u001b[39;00m\n\u001b[0;32m   (...)\u001b[0m\n\u001b[1;32m    324\u001b[0m \u001b[38;5;124;03m    (0, 2, 1, 1)\u001b[39;00m\n\u001b[1;32m    325\u001b[0m \u001b[38;5;124;03m    \"\"\"\u001b[39;00m\n\u001b[0;32m--> 326\u001b[0m     y_type, y_true, y_pred \u001b[38;5;241m=\u001b[39m \u001b[43m_check_targets\u001b[49m\u001b[43m(\u001b[49m\u001b[43my_true\u001b[49m\u001b[43m,\u001b[49m\u001b[43m \u001b[49m\u001b[43my_pred\u001b[49m\u001b[43m)\u001b[49m\n\u001b[1;32m    327\u001b[0m     \u001b[38;5;28;01mif\u001b[39;00m y_type \u001b[38;5;129;01mnot\u001b[39;00m \u001b[38;5;129;01min\u001b[39;00m (\u001b[38;5;124m\"\u001b[39m\u001b[38;5;124mbinary\u001b[39m\u001b[38;5;124m\"\u001b[39m, \u001b[38;5;124m\"\u001b[39m\u001b[38;5;124mmulticlass\u001b[39m\u001b[38;5;124m\"\u001b[39m):\n\u001b[1;32m    328\u001b[0m         \u001b[38;5;28;01mraise\u001b[39;00m \u001b[38;5;167;01mValueError\u001b[39;00m(\u001b[38;5;124m\"\u001b[39m\u001b[38;5;132;01m%s\u001b[39;00m\u001b[38;5;124m is not supported\u001b[39m\u001b[38;5;124m\"\u001b[39m \u001b[38;5;241m%\u001b[39m y_type)\n",
      "File \u001b[0;32m/opt/conda/lib/python3.11/site-packages/sklearn/metrics/_classification.py:84\u001b[0m, in \u001b[0;36m_check_targets\u001b[0;34m(y_true, y_pred)\u001b[0m\n\u001b[1;32m     57\u001b[0m \u001b[38;5;28;01mdef\u001b[39;00m \u001b[38;5;21m_check_targets\u001b[39m(y_true, y_pred):\n\u001b[1;32m     58\u001b[0m \u001b[38;5;250m    \u001b[39m\u001b[38;5;124;03m\"\"\"Check that y_true and y_pred belong to the same classification task.\u001b[39;00m\n\u001b[1;32m     59\u001b[0m \n\u001b[1;32m     60\u001b[0m \u001b[38;5;124;03m    This converts multiclass or binary types to a common shape, and raises a\u001b[39;00m\n\u001b[0;32m   (...)\u001b[0m\n\u001b[1;32m     82\u001b[0m \u001b[38;5;124;03m    y_pred : array or indicator matrix\u001b[39;00m\n\u001b[1;32m     83\u001b[0m \u001b[38;5;124;03m    \"\"\"\u001b[39;00m\n\u001b[0;32m---> 84\u001b[0m     \u001b[43mcheck_consistent_length\u001b[49m\u001b[43m(\u001b[49m\u001b[43my_true\u001b[49m\u001b[43m,\u001b[49m\u001b[43m \u001b[49m\u001b[43my_pred\u001b[49m\u001b[43m)\u001b[49m\n\u001b[1;32m     85\u001b[0m     type_true \u001b[38;5;241m=\u001b[39m type_of_target(y_true, input_name\u001b[38;5;241m=\u001b[39m\u001b[38;5;124m\"\u001b[39m\u001b[38;5;124my_true\u001b[39m\u001b[38;5;124m\"\u001b[39m)\n\u001b[1;32m     86\u001b[0m     type_pred \u001b[38;5;241m=\u001b[39m type_of_target(y_pred, input_name\u001b[38;5;241m=\u001b[39m\u001b[38;5;124m\"\u001b[39m\u001b[38;5;124my_pred\u001b[39m\u001b[38;5;124m\"\u001b[39m)\n",
      "File \u001b[0;32m/opt/conda/lib/python3.11/site-packages/sklearn/utils/validation.py:407\u001b[0m, in \u001b[0;36mcheck_consistent_length\u001b[0;34m(*arrays)\u001b[0m\n\u001b[1;32m    405\u001b[0m uniques \u001b[38;5;241m=\u001b[39m np\u001b[38;5;241m.\u001b[39munique(lengths)\n\u001b[1;32m    406\u001b[0m \u001b[38;5;28;01mif\u001b[39;00m \u001b[38;5;28mlen\u001b[39m(uniques) \u001b[38;5;241m>\u001b[39m \u001b[38;5;241m1\u001b[39m:\n\u001b[0;32m--> 407\u001b[0m     \u001b[38;5;28;01mraise\u001b[39;00m \u001b[38;5;167;01mValueError\u001b[39;00m(\n\u001b[1;32m    408\u001b[0m         \u001b[38;5;124m\"\u001b[39m\u001b[38;5;124mFound input variables with inconsistent numbers of samples: \u001b[39m\u001b[38;5;132;01m%r\u001b[39;00m\u001b[38;5;124m\"\u001b[39m\n\u001b[1;32m    409\u001b[0m         \u001b[38;5;241m%\u001b[39m [\u001b[38;5;28mint\u001b[39m(l) \u001b[38;5;28;01mfor\u001b[39;00m l \u001b[38;5;129;01min\u001b[39;00m lengths]\n\u001b[1;32m    410\u001b[0m     )\n",
      "\u001b[0;31mValueError\u001b[0m: Found input variables with inconsistent numbers of samples: [5741, 4119]"
     ]
    }
   ],
   "source": [
    "from sklearn.metrics import confusion_matrix\n",
    "import seaborn as sns\n",
    "import matplotlib.pyplot as plt\n",
    "from sklearn.model_selection import train_test_split\n",
    "X = dataframeTrain_clean.drop(columns=['y'])\n",
    "y = dataframeTrain_clean['y']\n",
    "# Suponiendo que tienes tus características en X y tus etiquetas en y\n",
    "# Reemplaza X e y con tus propios datos\n",
    "X_train, X_test, y_train, y_test = train_test_split(X, y, test_size=0.2, random_state=42)\n",
    "\n",
    "# Ahora puedes utilizar X_train, X_test, y_train, y y_test para entrenar tu modelo y evaluar su rendimiento.\n",
    "\n",
    "# Aquí se supone que tienes tus predicciones (y_pred) y tus etiquetas verdaderas (y_test).\n",
    "y_pred = model.predict(X_test)\n",
    "# Si ya tienes y_pred y y_test definidos, puedes calcular la matriz de confusión y visualizarla.\n",
    "\n",
    "# Calcular la matriz de confusión\n",
    "cm = confusion_matrix(y_test, y_pred)\n",
    "\n",
    "# Visualizar la matriz de confusión utilizando seaborn\n",
    "plt.figure(figsize=(8, 6))\n",
    "sns.heatmap(cm, annot=True, fmt=\"d\", cmap=\"Blues\", cbar=False)\n",
    "plt.xlabel(\"Predicted labels\")\n",
    "plt.ylabel(\"True labels\")\n",
    "plt.title(\"Confusion Matrix\")\n",
    "plt.show()\n"
   ]
  },
  {
   "cell_type": "markdown",
   "id": "26f10736-965f-4faa-a0fe-af2f6b194670",
   "metadata": {},
   "source": [
    "# Curva ROC y AUC:\n"
   ]
  },
  {
   "cell_type": "code",
   "execution_count": 97,
   "id": "13113065-329b-424a-856e-4e5d2574b310",
   "metadata": {},
   "outputs": [
    {
     "name": "stderr",
     "output_type": "stream",
     "text": [
      "/opt/conda/lib/python3.11/site-packages/sklearn/metrics/_ranking.py:1133: UndefinedMetricWarning: No positive samples in y_true, true positive value should be meaningless\n",
      "  warnings.warn(\n"
     ]
    },
    {
     "ename": "ValueError",
     "evalue": "Only one class present in y_true. ROC AUC score is not defined in that case.",
     "output_type": "error",
     "traceback": [
      "\u001b[0;31m---------------------------------------------------------------------------\u001b[0m",
      "\u001b[0;31mValueError\u001b[0m                                Traceback (most recent call last)",
      "Cell \u001b[0;32mIn[97], line 10\u001b[0m\n\u001b[1;32m      7\u001b[0m fpr, tpr, thresholds \u001b[38;5;241m=\u001b[39m roc_curve(y_test, y_prob)\n\u001b[1;32m      9\u001b[0m \u001b[38;5;66;03m# Calcular el área bajo la curva ROC (AUC)\u001b[39;00m\n\u001b[0;32m---> 10\u001b[0m auc \u001b[38;5;241m=\u001b[39m \u001b[43mroc_auc_score\u001b[49m\u001b[43m(\u001b[49m\u001b[43my_test\u001b[49m\u001b[43m,\u001b[49m\u001b[43m \u001b[49m\u001b[43my_prob\u001b[49m\u001b[43m)\u001b[49m\n\u001b[1;32m     12\u001b[0m \u001b[38;5;66;03m# Visualizar la curva ROC\u001b[39;00m\n\u001b[1;32m     13\u001b[0m plt\u001b[38;5;241m.\u001b[39mfigure(figsize\u001b[38;5;241m=\u001b[39m(\u001b[38;5;241m8\u001b[39m, \u001b[38;5;241m6\u001b[39m))\n",
      "File \u001b[0;32m/opt/conda/lib/python3.11/site-packages/sklearn/utils/_param_validation.py:211\u001b[0m, in \u001b[0;36mvalidate_params.<locals>.decorator.<locals>.wrapper\u001b[0;34m(*args, **kwargs)\u001b[0m\n\u001b[1;32m    205\u001b[0m \u001b[38;5;28;01mtry\u001b[39;00m:\n\u001b[1;32m    206\u001b[0m     \u001b[38;5;28;01mwith\u001b[39;00m config_context(\n\u001b[1;32m    207\u001b[0m         skip_parameter_validation\u001b[38;5;241m=\u001b[39m(\n\u001b[1;32m    208\u001b[0m             prefer_skip_nested_validation \u001b[38;5;129;01mor\u001b[39;00m global_skip_validation\n\u001b[1;32m    209\u001b[0m         )\n\u001b[1;32m    210\u001b[0m     ):\n\u001b[0;32m--> 211\u001b[0m         \u001b[38;5;28;01mreturn\u001b[39;00m \u001b[43mfunc\u001b[49m\u001b[43m(\u001b[49m\u001b[38;5;241;43m*\u001b[39;49m\u001b[43margs\u001b[49m\u001b[43m,\u001b[49m\u001b[43m \u001b[49m\u001b[38;5;241;43m*\u001b[39;49m\u001b[38;5;241;43m*\u001b[39;49m\u001b[43mkwargs\u001b[49m\u001b[43m)\u001b[49m\n\u001b[1;32m    212\u001b[0m \u001b[38;5;28;01mexcept\u001b[39;00m InvalidParameterError \u001b[38;5;28;01mas\u001b[39;00m e:\n\u001b[1;32m    213\u001b[0m     \u001b[38;5;66;03m# When the function is just a wrapper around an estimator, we allow\u001b[39;00m\n\u001b[1;32m    214\u001b[0m     \u001b[38;5;66;03m# the function to delegate validation to the estimator, but we replace\u001b[39;00m\n\u001b[1;32m    215\u001b[0m     \u001b[38;5;66;03m# the name of the estimator by the name of the function in the error\u001b[39;00m\n\u001b[1;32m    216\u001b[0m     \u001b[38;5;66;03m# message to avoid confusion.\u001b[39;00m\n\u001b[1;32m    217\u001b[0m     msg \u001b[38;5;241m=\u001b[39m re\u001b[38;5;241m.\u001b[39msub(\n\u001b[1;32m    218\u001b[0m         \u001b[38;5;124mr\u001b[39m\u001b[38;5;124m\"\u001b[39m\u001b[38;5;124mparameter of \u001b[39m\u001b[38;5;124m\\\u001b[39m\u001b[38;5;124mw+ must be\u001b[39m\u001b[38;5;124m\"\u001b[39m,\n\u001b[1;32m    219\u001b[0m         \u001b[38;5;124mf\u001b[39m\u001b[38;5;124m\"\u001b[39m\u001b[38;5;124mparameter of \u001b[39m\u001b[38;5;132;01m{\u001b[39;00mfunc\u001b[38;5;241m.\u001b[39m\u001b[38;5;18m__qualname__\u001b[39m\u001b[38;5;132;01m}\u001b[39;00m\u001b[38;5;124m must be\u001b[39m\u001b[38;5;124m\"\u001b[39m,\n\u001b[1;32m    220\u001b[0m         \u001b[38;5;28mstr\u001b[39m(e),\n\u001b[1;32m    221\u001b[0m     )\n",
      "File \u001b[0;32m/opt/conda/lib/python3.11/site-packages/sklearn/metrics/_ranking.py:627\u001b[0m, in \u001b[0;36mroc_auc_score\u001b[0;34m(y_true, y_score, average, sample_weight, max_fpr, multi_class, labels)\u001b[0m\n\u001b[1;32m    625\u001b[0m     labels \u001b[38;5;241m=\u001b[39m np\u001b[38;5;241m.\u001b[39munique(y_true)\n\u001b[1;32m    626\u001b[0m     y_true \u001b[38;5;241m=\u001b[39m label_binarize(y_true, classes\u001b[38;5;241m=\u001b[39mlabels)[:, \u001b[38;5;241m0\u001b[39m]\n\u001b[0;32m--> 627\u001b[0m     \u001b[38;5;28;01mreturn\u001b[39;00m \u001b[43m_average_binary_score\u001b[49m\u001b[43m(\u001b[49m\n\u001b[1;32m    628\u001b[0m \u001b[43m        \u001b[49m\u001b[43mpartial\u001b[49m\u001b[43m(\u001b[49m\u001b[43m_binary_roc_auc_score\u001b[49m\u001b[43m,\u001b[49m\u001b[43m \u001b[49m\u001b[43mmax_fpr\u001b[49m\u001b[38;5;241;43m=\u001b[39;49m\u001b[43mmax_fpr\u001b[49m\u001b[43m)\u001b[49m\u001b[43m,\u001b[49m\n\u001b[1;32m    629\u001b[0m \u001b[43m        \u001b[49m\u001b[43my_true\u001b[49m\u001b[43m,\u001b[49m\n\u001b[1;32m    630\u001b[0m \u001b[43m        \u001b[49m\u001b[43my_score\u001b[49m\u001b[43m,\u001b[49m\n\u001b[1;32m    631\u001b[0m \u001b[43m        \u001b[49m\u001b[43maverage\u001b[49m\u001b[43m,\u001b[49m\n\u001b[1;32m    632\u001b[0m \u001b[43m        \u001b[49m\u001b[43msample_weight\u001b[49m\u001b[38;5;241;43m=\u001b[39;49m\u001b[43msample_weight\u001b[49m\u001b[43m,\u001b[49m\n\u001b[1;32m    633\u001b[0m \u001b[43m    \u001b[49m\u001b[43m)\u001b[49m\n\u001b[1;32m    634\u001b[0m \u001b[38;5;28;01melse\u001b[39;00m:  \u001b[38;5;66;03m# multilabel-indicator\u001b[39;00m\n\u001b[1;32m    635\u001b[0m     \u001b[38;5;28;01mreturn\u001b[39;00m _average_binary_score(\n\u001b[1;32m    636\u001b[0m         partial(_binary_roc_auc_score, max_fpr\u001b[38;5;241m=\u001b[39mmax_fpr),\n\u001b[1;32m    637\u001b[0m         y_true,\n\u001b[0;32m   (...)\u001b[0m\n\u001b[1;32m    640\u001b[0m         sample_weight\u001b[38;5;241m=\u001b[39msample_weight,\n\u001b[1;32m    641\u001b[0m     )\n",
      "File \u001b[0;32m/opt/conda/lib/python3.11/site-packages/sklearn/metrics/_base.py:75\u001b[0m, in \u001b[0;36m_average_binary_score\u001b[0;34m(binary_metric, y_true, y_score, average, sample_weight)\u001b[0m\n\u001b[1;32m     72\u001b[0m     \u001b[38;5;28;01mraise\u001b[39;00m \u001b[38;5;167;01mValueError\u001b[39;00m(\u001b[38;5;124m\"\u001b[39m\u001b[38;5;132;01m{0}\u001b[39;00m\u001b[38;5;124m format is not supported\u001b[39m\u001b[38;5;124m\"\u001b[39m\u001b[38;5;241m.\u001b[39mformat(y_type))\n\u001b[1;32m     74\u001b[0m \u001b[38;5;28;01mif\u001b[39;00m y_type \u001b[38;5;241m==\u001b[39m \u001b[38;5;124m\"\u001b[39m\u001b[38;5;124mbinary\u001b[39m\u001b[38;5;124m\"\u001b[39m:\n\u001b[0;32m---> 75\u001b[0m     \u001b[38;5;28;01mreturn\u001b[39;00m \u001b[43mbinary_metric\u001b[49m\u001b[43m(\u001b[49m\u001b[43my_true\u001b[49m\u001b[43m,\u001b[49m\u001b[43m \u001b[49m\u001b[43my_score\u001b[49m\u001b[43m,\u001b[49m\u001b[43m \u001b[49m\u001b[43msample_weight\u001b[49m\u001b[38;5;241;43m=\u001b[39;49m\u001b[43msample_weight\u001b[49m\u001b[43m)\u001b[49m\n\u001b[1;32m     77\u001b[0m check_consistent_length(y_true, y_score, sample_weight)\n\u001b[1;32m     78\u001b[0m y_true \u001b[38;5;241m=\u001b[39m check_array(y_true)\n",
      "File \u001b[0;32m/opt/conda/lib/python3.11/site-packages/sklearn/metrics/_ranking.py:382\u001b[0m, in \u001b[0;36m_binary_roc_auc_score\u001b[0;34m(y_true, y_score, sample_weight, max_fpr)\u001b[0m\n\u001b[1;32m    380\u001b[0m \u001b[38;5;250m\u001b[39m\u001b[38;5;124;03m\"\"\"Binary roc auc score.\"\"\"\u001b[39;00m\n\u001b[1;32m    381\u001b[0m \u001b[38;5;28;01mif\u001b[39;00m \u001b[38;5;28mlen\u001b[39m(np\u001b[38;5;241m.\u001b[39munique(y_true)) \u001b[38;5;241m!=\u001b[39m \u001b[38;5;241m2\u001b[39m:\n\u001b[0;32m--> 382\u001b[0m     \u001b[38;5;28;01mraise\u001b[39;00m \u001b[38;5;167;01mValueError\u001b[39;00m(\n\u001b[1;32m    383\u001b[0m         \u001b[38;5;124m\"\u001b[39m\u001b[38;5;124mOnly one class present in y_true. ROC AUC score \u001b[39m\u001b[38;5;124m\"\u001b[39m\n\u001b[1;32m    384\u001b[0m         \u001b[38;5;124m\"\u001b[39m\u001b[38;5;124mis not defined in that case.\u001b[39m\u001b[38;5;124m\"\u001b[39m\n\u001b[1;32m    385\u001b[0m     )\n\u001b[1;32m    387\u001b[0m fpr, tpr, _ \u001b[38;5;241m=\u001b[39m roc_curve(y_true, y_score, sample_weight\u001b[38;5;241m=\u001b[39msample_weight)\n\u001b[1;32m    388\u001b[0m \u001b[38;5;28;01mif\u001b[39;00m max_fpr \u001b[38;5;129;01mis\u001b[39;00m \u001b[38;5;28;01mNone\u001b[39;00m \u001b[38;5;129;01mor\u001b[39;00m max_fpr \u001b[38;5;241m==\u001b[39m \u001b[38;5;241m1\u001b[39m:\n",
      "\u001b[0;31mValueError\u001b[0m: Only one class present in y_true. ROC AUC score is not defined in that case."
     ]
    }
   ],
   "source": [
    "from sklearn.metrics import roc_curve, roc_auc_score\n",
    "\n",
    "# Calcular las probabilidades de las clases positivas\n",
    "y_prob = best_model.predict_proba(X_test)[:, 1]\n",
    "\n",
    "# Calcular la tasa de verdaderos positivos y la tasa de falsos positivos\n",
    "fpr, tpr, thresholds = roc_curve(y_test, y_prob)\n",
    "\n",
    "# Calcular el área bajo la curva ROC (AUC)\n",
    "auc = roc_auc_score(y_test, y_prob)\n",
    "\n",
    "# Visualizar la curva ROC\n",
    "plt.figure(figsize=(8, 6))\n",
    "plt.plot(fpr, tpr, color='blue', label=f'ROC Curve (AUC = {auc:.2f})')\n",
    "plt.plot([0, 1], [0, 1], color='red', linestyle='--')\n",
    "plt.xlabel('Tasa de Falsos Positivos')\n",
    "plt.ylabel('Tasa de Verdaderos Positivos')\n",
    "plt.title('Curva ROC')\n",
    "plt.legend()\n",
    "plt.show()\n"
   ]
  },
  {
   "cell_type": "code",
   "execution_count": null,
   "id": "f6ab85b3-606e-48c6-b055-d3a5b7556961",
   "metadata": {},
   "outputs": [],
   "source": [
    "from sklearn.metrics import precision_recall_curve, auc\n",
    "\n",
    "# Calcular la precisión y el recall\n",
    "precision, recall, _ = precision_recall_curve(y_test, y_prob)\n",
    "\n",
    "# Calcular el área bajo la curva PR (AUC)\n",
    "pr_auc = auc(recall, precision)\n",
    "\n",
    "# Visualizar la curva de Precisión-Recall\n",
    "plt.figure(figsize=(8, 6))\n",
    "plt.plot(recall, precision, color='blue', label=f'PR Curve (AUC = {pr_auc:.2f})')\n",
    "plt.xlabel('Recall')\n",
    "plt.ylabel('Precision')\n",
    "plt.title('Curva de Precisión-Recall')\n",
    "plt.legend()\n",
    "plt.show()\n"
   ]
  },
  {
   "cell_type": "code",
   "execution_count": null,
   "id": "08048af4-a429-41bc-a9a8-2a04b57ce28e",
   "metadata": {},
   "outputs": [],
   "source": [
    "# Obtener los coeficientes de la regresión logística\n",
    "coefficients = best_model.coef_[0]\n",
    "feature_names = X_train.columns\n",
    "\n",
    "# Visualizar los coeficientes\n",
    "plt.figure(figsize=(10, 6))\n",
    "plt.barh(feature_names, coefficients, color='skyblue')\n",
    "plt.xlabel('Coeficiente')\n",
    "plt.ylabel('Característica')\n",
    "plt.title('Coeficientes de Regresión Logística')\n",
    "plt.show()\n"
   ]
  },
  {
   "cell_type": "code",
   "execution_count": null,
   "id": "7c118302-c022-47d1-8cb3-21fbda154a4d",
   "metadata": {},
   "outputs": [],
   "source": [
    "if hasattr(best_model, 'feature_importances_'):\n",
    "    # Obtener la importancia de las características\n",
    "    importances = best_model.feature_importances_\n",
    "    indices = np.argsort(importances)[::-1]\n",
    "\n",
    "    # Visualizar la importancia de las características\n",
    "    plt.figure(figsize=(10, 6))\n",
    "    plt.barh(feature_names[indices], importances[indices], color='green')\n",
    "    plt.xlabel('Importancia')\n",
    "    plt.ylabel('Característica')\n",
    "    plt.title('Importancia de Características (Random Forest)')\n",
    "    plt.show()\n",
    "else:\n",
    "    print(\"El modelo no tiene atributo 'feature_importances_'\")\n"
   ]
  },
  {
   "cell_type": "code",
   "execution_count": null,
   "id": "d64ed63e-7bbe-463b-b070-4cde89864f9b",
   "metadata": {},
   "outputs": [],
   "source": []
  },
  {
   "cell_type": "code",
   "execution_count": null,
   "id": "3fc36cb3-27d3-4470-a5de-a0ff73490690",
   "metadata": {},
   "outputs": [],
   "source": []
  },
  {
   "cell_type": "code",
   "execution_count": null,
   "id": "8f1c4fe3-778c-4598-b6f0-bedc2353186f",
   "metadata": {},
   "outputs": [],
   "source": []
  },
  {
   "cell_type": "code",
   "execution_count": null,
   "id": "c2aabe71-d5de-496f-b82d-57af9082b089",
   "metadata": {},
   "outputs": [],
   "source": []
  }
 ],
 "metadata": {
  "kernelspec": {
   "display_name": "Python 3 (ipykernel)",
   "language": "python",
   "name": "python3"
  },
  "language_info": {
   "codemirror_mode": {
    "name": "ipython",
    "version": 3
   },
   "file_extension": ".py",
   "mimetype": "text/x-python",
   "name": "python",
   "nbconvert_exporter": "python",
   "pygments_lexer": "ipython3",
   "version": "3.11.6"
  }
 },
 "nbformat": 4,
 "nbformat_minor": 5
}
