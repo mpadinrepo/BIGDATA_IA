{
 "cells": [
  {
   "cell_type": "code",
   "execution_count": 1,
   "id": "8a2275bf-1847-4ed4-93ca-50f4656889af",
   "metadata": {},
   "outputs": [],
   "source": [
    "import pandas as pd\n",
    "\n",
    "# Cargar el conjunto de datos de entrenamiento\n",
    "dataframeTrain = pd.read_csv(\"credit-train.csv\")\n",
    "\n",
    "# Cargar el conjunto de datos de prueba\n",
    "dataframeTest = pd.read_csv(\"credit-test.csv\")\n"
   ]
  },
  {
   "cell_type": "markdown",
   "id": "8a410b49-906c-4acf-b3df-f3be5290758a",
   "metadata": {},
   "source": [
    "Descripción general del dataframe:\r\n",
    "\r\n",
    "El dataframe contiene 41,188 filas y 21 columnas.\r\n",
    "Las columnas contienen datos de diferentes tipos: float64 (5 columnas), int64 (6 columnas) y object (10 columnas).\r\n",
    "No hay valores nulos en el dataframe, lo que significa que todas las columnas tienen 41,188 valores no nulos."
   ]
  },
  {
   "cell_type": "code",
   "execution_count": 2,
   "id": "3e049f25-215c-43a8-bb84-6f6f0ac8b7df",
   "metadata": {},
   "outputs": [
    {
     "name": "stdout",
     "output_type": "stream",
     "text": [
      "<class 'pandas.core.frame.DataFrame'>\n",
      "RangeIndex: 41188 entries, 0 to 41187\n",
      "Data columns (total 21 columns):\n",
      " #   Column          Non-Null Count  Dtype  \n",
      "---  ------          --------------  -----  \n",
      " 0   age             41188 non-null  int64  \n",
      " 1   job             41188 non-null  object \n",
      " 2   marital         41188 non-null  object \n",
      " 3   education       41188 non-null  object \n",
      " 4   default         41188 non-null  object \n",
      " 5   housing         41188 non-null  object \n",
      " 6   loan            41188 non-null  object \n",
      " 7   contact         41188 non-null  object \n",
      " 8   month           41188 non-null  object \n",
      " 9   day_of_week     41188 non-null  object \n",
      " 10  duration        41188 non-null  int64  \n",
      " 11  campaign        41188 non-null  int64  \n",
      " 12  pdays           41188 non-null  int64  \n",
      " 13  previous        41188 non-null  int64  \n",
      " 14  poutcome        41188 non-null  object \n",
      " 15  emp_var_rate    41188 non-null  float64\n",
      " 16  cons_price_idx  41188 non-null  float64\n",
      " 17  cons_conf_idx   41188 non-null  float64\n",
      " 18  euribor3m       41188 non-null  float64\n",
      " 19  nr_employed     41188 non-null  float64\n",
      " 20  y               41188 non-null  int64  \n",
      "dtypes: float64(5), int64(6), object(10)\n",
      "memory usage: 6.6+ MB\n"
     ]
    }
   ],
   "source": [
    "dataframeTrain.info()"
   ]
  },
  {
   "cell_type": "markdown",
   "id": "0e6a2d11-5c8a-4251-84d7-cdf658e16d5f",
   "metadata": {},
   "source": [
    "Estadísticas descriptivas para columnas numéricas:\r\n",
    "\r\n",
    "La columna age tiene una media de aproximadamente 40 años, con un rango de 17 a 98 años.\r\n",
    "La duración de la llamada (duration) varía desde 0 hasta 4918 segundos, con una media de aproximadamente 258 segundos.\r\n",
    "El número de contactos durante esta campaña (campaign) oscila entre 1 y 56, con una media de aproximadamente 2.57 contactos.\r\n",
    "La mayoría de los valores en la columna pdays son 999, lo que indica que la mayoría de los clientes no fueron contactados previamente.\r\n",
    "La mayoría de los clientes no tienen valores previos (previous) o tienen solo unos pocos valores anteriores.\r\n",
    "Las columnas emp_var_rate, cons_price_idx, cons_conf_idx, euribor3m y nr_employed contienen valores relacionados con indicadores económicos."
   ]
  },
  {
   "cell_type": "code",
   "execution_count": 3,
   "id": "aa58bcc7-8c0d-4177-9aa1-a181debcc2e3",
   "metadata": {},
   "outputs": [
    {
     "name": "stdout",
     "output_type": "stream",
     "text": [
      "   age          job  marital          education  default housing loan  \\\n",
      "0   44  blue-collar  married           basic.4y  unknown     yes   no   \n",
      "1   53   technician  married            unknown       no      no   no   \n",
      "2   28   management   single  university.degree       no     yes   no   \n",
      "3   39     services  married        high.school       no      no   no   \n",
      "4   55      retired  married           basic.4y       no     yes   no   \n",
      "\n",
      "    contact month day_of_week  ...  campaign  pdays  previous     poutcome  \\\n",
      "0  cellular   aug         thu  ...         1    999         0  nonexistent   \n",
      "1  cellular   nov         fri  ...         1    999         0  nonexistent   \n",
      "2  cellular   jun         thu  ...         3      6         2      success   \n",
      "3  cellular   apr         fri  ...         2    999         0  nonexistent   \n",
      "4  cellular   aug         fri  ...         1      3         1      success   \n",
      "\n",
      "  emp_var_rate  cons_price_idx  cons_conf_idx  euribor3m  nr_employed  y  \n",
      "0          1.4          93.444          -36.1      4.963       5228.1  0  \n",
      "1         -0.1          93.200          -42.0      4.021       5195.8  0  \n",
      "2         -1.7          94.055          -39.8      0.729       4991.6  1  \n",
      "3         -1.8          93.075          -47.1      1.405       5099.1  0  \n",
      "4         -2.9          92.201          -31.4      0.869       5076.2  1  \n",
      "\n",
      "[5 rows x 21 columns]\n",
      "   age          job  marital          education default  housing     loan  \\\n",
      "0   30  blue-collar  married           basic.9y      no      yes       no   \n",
      "1   39     services   single        high.school      no       no       no   \n",
      "2   25     services  married        high.school      no      yes       no   \n",
      "3   38     services  married           basic.9y      no  unknown  unknown   \n",
      "4   47       admin.  married  university.degree      no      yes       no   \n",
      "\n",
      "     contact month day_of_week  duration  campaign  pdays  previous  \\\n",
      "0   cellular   may         fri       487         2    999         0   \n",
      "1  telephone   may         fri       346         4    999         0   \n",
      "2  telephone   jun         wed       227         1    999         0   \n",
      "3  telephone   jun         fri        17         3    999         0   \n",
      "4   cellular   nov         mon        58         1    999         0   \n",
      "\n",
      "      poutcome  emp_var_rate  cons_price_idx  cons_conf_idx  euribor3m  \\\n",
      "0  nonexistent          -1.8          92.893          -46.2      1.313   \n",
      "1  nonexistent           1.1          93.994          -36.4      4.855   \n",
      "2  nonexistent           1.4          94.465          -41.8      4.962   \n",
      "3  nonexistent           1.4          94.465          -41.8      4.959   \n",
      "4  nonexistent          -0.1          93.200          -42.0      4.191   \n",
      "\n",
      "   nr_employed  \n",
      "0       5099.1  \n",
      "1       5191.0  \n",
      "2       5228.1  \n",
      "3       5228.1  \n",
      "4       5195.8  \n"
     ]
    }
   ],
   "source": [
    "print(dataframeTrain.head())\n",
    "print(dataframeTest.head())\n"
   ]
  },
  {
   "cell_type": "code",
   "execution_count": 4,
   "id": "1bf31b84-be49-46f7-9e74-b4586251cba4",
   "metadata": {},
   "outputs": [
    {
     "name": "stdout",
     "output_type": "stream",
     "text": [
      "Columnas del conjunto de datos de entrenamiento:\n",
      "Index(['age', 'job', 'marital', 'education', 'default', 'housing', 'loan',\n",
      "       'contact', 'month', 'day_of_week', 'duration', 'campaign', 'pdays',\n",
      "       'previous', 'poutcome', 'emp_var_rate', 'cons_price_idx',\n",
      "       'cons_conf_idx', 'euribor3m', 'nr_employed', 'y'],\n",
      "      dtype='object')\n",
      "\n",
      "Columnas del conjunto de datos de prueba:\n",
      "Index(['age', 'job', 'marital', 'education', 'default', 'housing', 'loan',\n",
      "       'contact', 'month', 'day_of_week', 'duration', 'campaign', 'pdays',\n",
      "       'previous', 'poutcome', 'emp_var_rate', 'cons_price_idx',\n",
      "       'cons_conf_idx', 'euribor3m', 'nr_employed'],\n",
      "      dtype='object')\n"
     ]
    }
   ],
   "source": [
    "print(\"Columnas del conjunto de datos de entrenamiento:\")\n",
    "print(dataframeTrain.columns)\n",
    "\n",
    "print(\"\\nColumnas del conjunto de datos de prueba:\")\n",
    "print(dataframeTest.columns)\n"
   ]
  },
  {
   "cell_type": "code",
   "execution_count": 5,
   "id": "c0aaaca0-927a-44a8-9405-f8d34c4e46df",
   "metadata": {},
   "outputs": [
    {
     "name": "stdout",
     "output_type": "stream",
     "text": [
      "   age          job  marital          education  default housing loan  \\\n",
      "0   44  blue-collar  married           basic.4y  unknown     yes   no   \n",
      "1   53   technician  married            unknown       no      no   no   \n",
      "2   28   management   single  university.degree       no     yes   no   \n",
      "3   39     services  married        high.school       no      no   no   \n",
      "4   55      retired  married           basic.4y       no     yes   no   \n",
      "\n",
      "    contact month day_of_week  ...  campaign  pdays  previous     poutcome  \\\n",
      "0  cellular   aug         thu  ...         1    999         0  nonexistent   \n",
      "1  cellular   nov         fri  ...         1    999         0  nonexistent   \n",
      "2  cellular   jun         thu  ...         3      6         2      success   \n",
      "3  cellular   apr         fri  ...         2    999         0  nonexistent   \n",
      "4  cellular   aug         fri  ...         1      3         1      success   \n",
      "\n",
      "  emp_var_rate  cons_price_idx  cons_conf_idx  euribor3m  nr_employed  y  \n",
      "0          1.4          93.444          -36.1      4.963       5228.1  0  \n",
      "1         -0.1          93.200          -42.0      4.021       5195.8  0  \n",
      "2         -1.7          94.055          -39.8      0.729       4991.6  1  \n",
      "3         -1.8          93.075          -47.1      1.405       5099.1  0  \n",
      "4         -2.9          92.201          -31.4      0.869       5076.2  1  \n",
      "\n",
      "[5 rows x 21 columns]\n",
      "   age          job  marital          education default  housing     loan  \\\n",
      "0   30  blue-collar  married           basic.9y      no      yes       no   \n",
      "1   39     services   single        high.school      no       no       no   \n",
      "2   25     services  married        high.school      no      yes       no   \n",
      "3   38     services  married           basic.9y      no  unknown  unknown   \n",
      "4   47       admin.  married  university.degree      no      yes       no   \n",
      "\n",
      "     contact month day_of_week  duration  campaign  pdays  previous  \\\n",
      "0   cellular   may         fri       487         2    999         0   \n",
      "1  telephone   may         fri       346         4    999         0   \n",
      "2  telephone   jun         wed       227         1    999         0   \n",
      "3  telephone   jun         fri        17         3    999         0   \n",
      "4   cellular   nov         mon        58         1    999         0   \n",
      "\n",
      "      poutcome  emp_var_rate  cons_price_idx  cons_conf_idx  euribor3m  \\\n",
      "0  nonexistent          -1.8          92.893          -46.2      1.313   \n",
      "1  nonexistent           1.1          93.994          -36.4      4.855   \n",
      "2  nonexistent           1.4          94.465          -41.8      4.962   \n",
      "3  nonexistent           1.4          94.465          -41.8      4.959   \n",
      "4  nonexistent          -0.1          93.200          -42.0      4.191   \n",
      "\n",
      "   nr_employed  \n",
      "0       5099.1  \n",
      "1       5191.0  \n",
      "2       5228.1  \n",
      "3       5228.1  \n",
      "4       5195.8  \n"
     ]
    }
   ],
   "source": [
    "print(dataframeTrain.head())\n",
    "print(dataframeTest.head())"
   ]
  },
  {
   "cell_type": "code",
   "execution_count": 6,
   "id": "5d4b35d1-e2be-438b-ac31-d3b88775755f",
   "metadata": {},
   "outputs": [
    {
     "data": {
      "text/plain": [
       "Index(['age', 'job', 'marital', 'education', 'default', 'housing', 'loan',\n",
       "       'contact', 'month', 'day_of_week', 'duration', 'campaign', 'pdays',\n",
       "       'previous', 'poutcome', 'emp_var_rate', 'cons_price_idx',\n",
       "       'cons_conf_idx', 'euribor3m', 'nr_employed'],\n",
       "      dtype='object')"
      ]
     },
     "execution_count": 6,
     "metadata": {},
     "output_type": "execute_result"
    }
   ],
   "source": [
    "dataframeTest.columns"
   ]
  },
  {
   "cell_type": "markdown",
   "id": "fbd32528-75ac-4d6c-9dbe-be4e02767469",
   "metadata": {},
   "source": [
    "Recuento de valores únicos en cada columna:\r\n",
    "\r\n",
    "Las columnas categóricas tienen un rango diferente de valores únicos, lo que indica la variabilidad en las características de los clientes.\n",
    "\n",
    "\n"
   ]
  },
  {
   "cell_type": "code",
   "execution_count": 7,
   "id": "380a23c3-0880-479e-aeb7-59266866a3e5",
   "metadata": {},
   "outputs": [
    {
     "data": {
      "text/plain": [
       "age                 78\n",
       "job                 12\n",
       "marital              4\n",
       "education            8\n",
       "default              3\n",
       "housing              3\n",
       "loan                 3\n",
       "contact              2\n",
       "month               10\n",
       "day_of_week          5\n",
       "duration          1544\n",
       "campaign            42\n",
       "pdays               27\n",
       "previous             8\n",
       "poutcome             3\n",
       "emp_var_rate        10\n",
       "cons_price_idx      26\n",
       "cons_conf_idx       26\n",
       "euribor3m          316\n",
       "nr_employed         11\n",
       "y                    2\n",
       "dtype: int64"
      ]
     },
     "execution_count": 7,
     "metadata": {},
     "output_type": "execute_result"
    }
   ],
   "source": [
    "dataframeTrain.nunique()"
   ]
  },
  {
   "cell_type": "markdown",
   "id": "e036a7b3-f0df-42df-b660-0f328c918e54",
   "metadata": {},
   "source": [
    "Recuento de valores nulos en cada columna:\r\n",
    "\r\n",
    "No hay valores nulos en ninguna de las columnas.\n"
   ]
  },
  {
   "cell_type": "code",
   "execution_count": 8,
   "id": "ac81799c-d306-4cfa-8a39-0f275b04c5f8",
   "metadata": {},
   "outputs": [
    {
     "data": {
      "text/plain": [
       "age               0\n",
       "job               0\n",
       "marital           0\n",
       "education         0\n",
       "default           0\n",
       "housing           0\n",
       "loan              0\n",
       "contact           0\n",
       "month             0\n",
       "day_of_week       0\n",
       "duration          0\n",
       "campaign          0\n",
       "pdays             0\n",
       "previous          0\n",
       "poutcome          0\n",
       "emp_var_rate      0\n",
       "cons_price_idx    0\n",
       "cons_conf_idx     0\n",
       "euribor3m         0\n",
       "nr_employed       0\n",
       "y                 0\n",
       "dtype: int64"
      ]
     },
     "execution_count": 8,
     "metadata": {},
     "output_type": "execute_result"
    }
   ],
   "source": [
    "dataframeTrain.isnull().sum()"
   ]
  },
  {
   "cell_type": "markdown",
   "id": "632113a5-5dd3-4d24-9818-cc5d506033da",
   "metadata": {},
   "source": [
    "Creación de variables dummy:\n",
    "Convertir las variables categóricas en variables binarias para que puedan ser utilizadas en modelos de machine learning.\n",
    "Código para crear variables dummy:"
   ]
  },
  {
   "cell_type": "code",
   "execution_count": 9,
   "id": "2345c807-cd18-4bd0-95c3-04598d3d6568",
   "metadata": {},
   "outputs": [],
   "source": [
    "# TRAIN Crear variables dummy para las columnas categóricas \n",
    "dataframeTrain = pd.get_dummies(dataframeTrain, columns=['job', 'marital', 'education', 'default', 'housing', 'loan', 'contact', 'month', 'day_of_week', 'poutcome'])\n"
   ]
  },
  {
   "cell_type": "code",
   "execution_count": 10,
   "id": "b0973718-a111-4c47-b7a8-9cc4fa9b1f40",
   "metadata": {},
   "outputs": [],
   "source": [
    "# TEST Crear variables dummy para las columnas categóricas \n",
    "dataframeTest = pd.get_dummies(dataframeTest, columns=['job', 'marital', 'education', 'default', 'housing', 'loan', 'contact', 'month', 'day_of_week', 'poutcome'])\n"
   ]
  },
  {
   "cell_type": "markdown",
   "id": "7f1dc39f-6a9b-4d3a-bb25-8a4b2ef4600d",
   "metadata": {},
   "source": [
    "Normalización de datos:\n",
    "Normalizar los datos numéricos puede mejorar el rendimiento de algunos algoritmos de machine learning.\n",
    "Código para normalizar datos:"
   ]
  },
  {
   "cell_type": "code",
   "execution_count": 11,
   "id": "da493d06-0e5a-4bcd-a197-91e7837ba996",
   "metadata": {},
   "outputs": [],
   "source": [
    "#TRAIN\n",
    "from sklearn.preprocessing import StandardScaler\n",
    "\n",
    "# Inicializar el scaler\n",
    "scaler = StandardScaler()\n",
    "\n",
    "# Normalizar las columnas numéricas\n",
    "dataframeTrain[['age', 'duration', 'campaign', 'pdays', 'previous', 'emp_var_rate', 'cons_price_idx', 'cons_conf_idx', 'euribor3m', 'nr_employed']] = scaler.fit_transform(dataframeTrain[['age', 'duration', 'campaign', 'pdays', 'previous', 'emp_var_rate', 'cons_price_idx', 'cons_conf_idx', 'euribor3m', 'nr_employed']])\n"
   ]
  },
  {
   "cell_type": "code",
   "execution_count": 12,
   "id": "d52357c5-4465-4a81-ac8e-480dcfda85fc",
   "metadata": {},
   "outputs": [],
   "source": [
    "#TEST\n",
    "from sklearn.preprocessing import StandardScaler\n",
    "\n",
    "# Inicializar el scaler\n",
    "scaler = StandardScaler()\n",
    "\n",
    "# Normalizar las columnas numéricas\n",
    "dataframeTest[['age', 'duration', 'campaign', 'pdays', 'previous', 'emp_var_rate', 'cons_price_idx', 'cons_conf_idx', 'euribor3m', 'nr_employed']] = scaler.fit_transform(dataframeTest[['age', 'duration', 'campaign', 'pdays', 'previous', 'emp_var_rate', 'cons_price_idx', 'cons_conf_idx', 'euribor3m', 'nr_employed']])\n"
   ]
  },
  {
   "cell_type": "markdown",
   "id": "d5bc3f53-4029-4180-9499-587a523c8143",
   "metadata": {},
   "source": [
    "Eliminación de columnas no relevantes:\n",
    "Eliminar columnas que no son relevantes para el modelo puede simplificar el análisis y mejorar la precisión del modelo.\n",
    "Código para eliminar columnas:"
   ]
  },
  {
   "cell_type": "code",
   "execution_count": 13,
   "id": "b0d31ea9-48e9-4383-acbf-31feafd9b4b2",
   "metadata": {},
   "outputs": [],
   "source": [
    "# Eliminar columnas no relevantes (por ejemplo, 'duration' en este caso)\n",
    "\n",
    "dataframeTrain.drop(columns=['duration'], inplace=True)\n",
    "dataframeTest.drop(columns=['duration'], inplace=True)"
   ]
  },
  {
   "cell_type": "markdown",
   "id": "0635c61d-ef0e-483d-a16f-7f989ba61cfd",
   "metadata": {},
   "source": [
    "Partición de datos:\n",
    "Dividir el dataframe en conjunto de entrenamiento y conjunto de prueba para evaluar el rendimiento del modelo.\n",
    "Código para dividir datos:"
   ]
  },
  {
   "cell_type": "code",
   "execution_count": 14,
   "id": "9b86bbeb-ee53-4d58-8805-bce1fef9a5a7",
   "metadata": {},
   "outputs": [
    {
     "name": "stdout",
     "output_type": "stream",
     "text": [
      "        age  campaign     pdays  previous  emp_var_rate  cons_price_idx  \\\n",
      "0  0.381527 -0.565922  0.195414 -0.349494      0.839061       -0.227465   \n",
      "1  1.245157 -0.565922  0.195414 -0.349494     -0.115781       -0.649003   \n",
      "2 -1.153816  0.156105 -5.117342  3.691766     -1.134279        0.828107   \n",
      "3 -0.098268 -0.204909  0.195414 -0.349494     -1.197935       -0.864955   \n",
      "4  1.437075 -0.565922 -5.133393  1.671136     -1.898153       -2.374889   \n",
      "\n",
      "   cons_conf_idx  euribor3m  nr_employed  y  ...  month_oct  month_sep  \\\n",
      "0       0.951267   0.773575     0.845170  0  ...      False      False   \n",
      "1      -0.323542   0.230456     0.398115  0  ...      False      False   \n",
      "2       0.151810  -1.667578    -2.428157  1  ...      False      False   \n",
      "3      -1.425496  -1.277824    -0.940281  0  ...      False      False   \n",
      "4       1.966794  -1.586859    -1.257233  1  ...      False      False   \n",
      "\n",
      "   day_of_week_fri  day_of_week_mon  day_of_week_thu  day_of_week_tue  \\\n",
      "0            False            False             True            False   \n",
      "1             True            False            False            False   \n",
      "2            False            False             True            False   \n",
      "3             True            False            False            False   \n",
      "4             True            False            False            False   \n",
      "\n",
      "   day_of_week_wed  poutcome_failure  poutcome_nonexistent  poutcome_success  \n",
      "0            False             False                  True             False  \n",
      "1            False             False                  True             False  \n",
      "2            False             False                 False              True  \n",
      "3            False             False                  True             False  \n",
      "4            False             False                 False              True  \n",
      "\n",
      "[5 rows x 63 columns]\n",
      "        age  campaign     pdays  previous  emp_var_rate  cons_price_idx  \\\n",
      "0 -0.980752 -0.209228  0.201031 -0.351356     -1.206054       -1.185448   \n",
      "1 -0.107991  0.569634  0.201031 -0.351356      0.649441        0.715193   \n",
      "2 -1.465619 -0.598660  0.201031 -0.351356      0.841389        1.528273   \n",
      "3 -0.204965  0.180203  0.201031 -0.351356      0.841389        1.528273   \n",
      "4  0.667795 -0.598660  0.201031 -0.351356     -0.118350       -0.655478   \n",
      "\n",
      "   cons_conf_idx  euribor3m  nr_employed  job_admin.  ...  month_oct  \\\n",
      "0      -1.240939  -1.331707    -0.914779       False  ...      False   \n",
      "1       0.892269   0.711698     0.332862       False  ...      False   \n",
      "2      -0.283172   0.773427     0.836535       False  ...      False   \n",
      "3      -0.283172   0.771697     0.836535       False  ...      False   \n",
      "4      -0.326707   0.328632     0.398028        True  ...      False   \n",
      "\n",
      "   month_sep  day_of_week_fri  day_of_week_mon  day_of_week_thu  \\\n",
      "0      False             True            False            False   \n",
      "1      False             True            False            False   \n",
      "2      False            False            False            False   \n",
      "3      False             True            False            False   \n",
      "4      False            False             True            False   \n",
      "\n",
      "   day_of_week_tue  day_of_week_wed  poutcome_failure  poutcome_nonexistent  \\\n",
      "0            False            False             False                  True   \n",
      "1            False            False             False                  True   \n",
      "2            False             True             False                  True   \n",
      "3            False            False             False                  True   \n",
      "4            False            False             False                  True   \n",
      "\n",
      "   poutcome_success  \n",
      "0             False  \n",
      "1             False  \n",
      "2             False  \n",
      "3             False  \n",
      "4             False  \n",
      "\n",
      "[5 rows x 62 columns]\n"
     ]
    }
   ],
   "source": [
    "print(dataframeTrain.head())\n",
    "print(dataframeTest.head())"
   ]
  },
  {
   "cell_type": "code",
   "execution_count": 15,
   "id": "4fe4613f-7d43-4bf7-b91d-2c18c23e2bb8",
   "metadata": {},
   "outputs": [],
   "source": [
    "from sklearn.model_selection import train_test_split\n",
    "\n",
    "# Separar las características y la variable objetivo del conjunto de entrenamiento\n",
    "X_train = dataframeTrain.drop(columns=['y'])  # Características\n",
    "y_train = dataframeTrain['y']  # Variable objetivo\n",
    "\n",
    "# Dividir el conjunto de datos de entrenamiento en subconjuntos de entrenamiento y validación\n",
    "X_train, X_val, y_train, y_val = train_test_split(X_train, y_train, test_size=0.2, random_state=42)\n",
    "\n",
    "# Conjunto de datos de prueba\n",
    "X_test = dataframeTest  # Características\n",
    "\n"
   ]
  },
  {
   "cell_type": "code",
   "execution_count": 16,
   "id": "4a132383-83e1-42bf-a0c9-71406f48ca1d",
   "metadata": {},
   "outputs": [
    {
     "ename": "NameError",
     "evalue": "name 'logistic_model' is not defined",
     "output_type": "error",
     "traceback": [
      "\u001b[0;31m---------------------------------------------------------------------------\u001b[0m",
      "\u001b[0;31mNameError\u001b[0m                                 Traceback (most recent call last)",
      "Cell \u001b[0;32mIn[16], line 4\u001b[0m\n\u001b[1;32m      1\u001b[0m \u001b[38;5;28;01mfrom\u001b[39;00m \u001b[38;5;21;01msklearn\u001b[39;00m\u001b[38;5;21;01m.\u001b[39;00m\u001b[38;5;21;01mmetrics\u001b[39;00m \u001b[38;5;28;01mimport\u001b[39;00m classification_report\n\u001b[1;32m      3\u001b[0m \u001b[38;5;66;03m# Realizar predicciones en el conjunto de prueba\u001b[39;00m\n\u001b[0;32m----> 4\u001b[0m y_pred_logistic \u001b[38;5;241m=\u001b[39m \u001b[43mlogistic_model\u001b[49m\u001b[38;5;241m.\u001b[39mpredict(X_test)\n\u001b[1;32m      6\u001b[0m \u001b[38;5;66;03m# Evaluar el rendimiento del modelo\u001b[39;00m\n\u001b[1;32m      7\u001b[0m \u001b[38;5;28mprint\u001b[39m(\u001b[38;5;124m\"\u001b[39m\u001b[38;5;124mClassification Report for Logistic Regression Model:\u001b[39m\u001b[38;5;124m\"\u001b[39m)\n",
      "\u001b[0;31mNameError\u001b[0m: name 'logistic_model' is not defined"
     ]
    }
   ],
   "source": [
    "from sklearn.metrics import classification_report\n",
    "\n",
    "# Realizar predicciones en el conjunto de prueba\n",
    "y_pred_logistic = logistic_model.predict(X_test)\n",
    "\n",
    "# Evaluar el rendimiento del modelo\n",
    "print(\"Classification Report for Logistic Regression Model:\")\n",
    "print(classification_report(y_test, y_pred_logistic))\n",
    "\n",
    "\n"
   ]
  },
  {
   "cell_type": "markdown",
   "id": "68422031-6951-49ff-b948-8c1eae29ee71",
   "metadata": {},
   "source": [
    "# procedemos con el entrenamiento del modelo de Regresión Logística.\n",
    "\n"
   ]
  },
  {
   "cell_type": "code",
   "execution_count": null,
   "id": "f3190d3f-c614-4b31-87de-c32619cb1e60",
   "metadata": {},
   "outputs": [],
   "source": [
    "from sklearn.linear_model import LogisticRegression\n",
    "\n",
    "# Inicializar el modelo de Regresión Logística\n",
    "logistic_model = LogisticRegression(max_iter=1000)  # Aumentar el número máximo de iteraciones\n",
    "\n",
    "# Entrenar el modelo\n",
    "logistic_model.fit(X_train, y_train)\n",
    "\n"
   ]
  },
  {
   "cell_type": "code",
   "execution_count": null,
   "id": "b13bf811-2f1a-41c2-bae4-dd09c4417835",
   "metadata": {},
   "outputs": [],
   "source": [
    "from sklearn.metrics import classification_report\n",
    "\n",
    "# Realizar predicciones en el conjunto de prueba\n",
    "y_pred = logistic_model.predict(X_test)\n",
    "\n",
    "# Evaluar el rendimiento del modelo\n",
    "print(\"Classification Report for Logistic Regression Model:\")\n",
    "print(classification_report(y_test, y_pred))\n"
   ]
  },
  {
   "cell_type": "code",
   "execution_count": null,
   "id": "6c0a5eee-ca3a-4be4-a219-a3927f96ca2e",
   "metadata": {},
   "outputs": [],
   "source": [
    "# Definir y_test utilizando la columna 'y' del conjunto de datos de prueba\n",
    "y_test = dataframeTest['y']\n"
   ]
  },
  {
   "cell_type": "code",
   "execution_count": null,
   "id": "ff5e48f5-2f43-48b9-8679-ea6339a04823",
   "metadata": {},
   "outputs": [],
   "source": [
    "print(\"Primeras filas del conjunto de entrenamiento:\")\n",
    "print(dataframeTrain.head())\n",
    "\n",
    "print(\"\\nPrimeras filas del conjunto de prueba:\")\n",
    "print(dataframeTest.head())\n"
   ]
  },
  {
   "cell_type": "code",
   "execution_count": null,
   "id": "0f86b473-8855-4a5c-893c-c5e5dedeea20",
   "metadata": {},
   "outputs": [],
   "source": [
    "from sklearn.metrics import classification_report\n",
    "\n",
    "# Definir y_test\n",
    "y_test = dataframeTest['y']\n",
    "\n",
    "# Realizar predicciones en el conjunto de prueba\n",
    "y_pred_logistic = logistic_model.predict(X_test)\n",
    "\n",
    "# Evaluar el rendimiento del modelo de regresión logística\n",
    "print(\"Classification Report for Logistic Regression Model:\")\n",
    "print(classification_report(y_test, y_pred_logistic))\n",
    "\n",
    "\n"
   ]
  },
  {
   "cell_type": "code",
   "execution_count": null,
   "id": "10a46a87-8e26-4eac-bc1d-2c4ecf1d518d",
   "metadata": {},
   "outputs": [],
   "source": [
    "from sklearn.metrics import classification_report\n",
    "\n",
    "# Definir y_test utilizando la columna 'y' del conjunto de datos de prueba\n",
    "y_test = dataframeTest['y']\n",
    "\n",
    "# Realizar predicciones en el conjunto de prueba\n",
    "y_pred_logistic = logistic_model.predict(X_test)\n",
    "\n",
    "# Evaluar el rendimiento del modelo\n",
    "print(\"Classification Report for Logistic Regression Model:\")\n",
    "print(classification_report(y_test, y_pred_logistic))\n"
   ]
  },
  {
   "cell_type": "code",
   "execution_count": null,
   "id": "0f1be4ad-3ef7-4a78-9920-37b3404f581c",
   "metadata": {},
   "outputs": [],
   "source": [
    "import pandas as pd\n",
    "from sklearn.preprocessing import StandardScaler\n",
    "from sklearn.model_selection import train_test_split\n",
    "from sklearn.linear_model import LogisticRegression\n",
    "from sklearn.metrics import classification_report\n",
    "\n",
    "# Cargar los datos\n",
    "dataframeTrain = pd.read_csv(\"credit-train.csv\")\n",
    "dataframeTest = pd.read_csv(\"credit-test.csv\")\n",
    "\n",
    "# Crear variables dummy para las columnas categóricas\n",
    "columns_to_dummy = ['job', 'marital', 'education', 'default', 'housing', 'loan', 'contact']\n",
    "dataframeTrain = pd.get_dummies(dataframeTrain, columns=columns_to_dummy)\n",
    "dataframeTest = pd.get_dummies(dataframeTest, columns=columns_to_dummy)\n",
    "\n",
    "# Normalizar los datos numéricos\n",
    "scaler = StandardScaler()\n",
    "numeric_columns = ['age', 'campaign', 'pdays', 'previous', 'emp_var_rate', \n",
    "                   'cons_price_idx', 'cons_conf_idx', 'euribor3m', 'nr_employed']\n",
    "dataframeTrain[numeric_columns] = scaler.fit_transform(dataframeTrain[numeric_columns])\n",
    "dataframeTest[numeric_columns] = scaler.transform(dataframeTest[numeric_columns])\n",
    "\n",
    "# Eliminar columnas no relevantes\n",
    "columns_to_drop = ['duration']  # Columnas a eliminar\n",
    "dataframeTrain.drop(columns=columns_to_drop, inplace=True)\n",
    "dataframeTest.drop(columns=columns_to_drop, inplace=True)\n",
    "\n",
    "# Dividir los datos en conjunto de entrenamiento, validación y prueba\n",
    "X = dataframeTrain.drop(columns=['y'])\n",
    "y = dataframeTrain['y']\n",
    "X_train, X_val, y_train, y_val = train_test_split(X, y, test_size=0.2, random_state=42)\n",
    "\n",
    "# Separar la columna 'y' del conjunto de datos de prueba\n",
    "X_test = dataframeTest.drop(columns=['y'])\n",
    "y_test = dataframeTest['y']\n",
    "\n",
    "\n",
    "# Entrenar el modelo de regresión logística\n",
    "logistic_model = LogisticRegression()\n",
    "logistic_model.fit(X_train, y_train)\n",
    "\n",
    "# Realizar predicciones en el conjunto de prueba\n",
    "y_pred_logistic = logistic_model.predict(X_test)\n",
    "\n",
    "# Evaluar el rendimiento del modelo\n",
    "print(\"Classification Report for Logistic Regression Model:\")\n",
    "print(classification_report(y_test, y_pred_logistic))\n"
   ]
  },
  {
   "cell_type": "code",
   "execution_count": null,
   "id": "60886802-d42a-47bd-ac4b-52b09bc02ef9",
   "metadata": {},
   "outputs": [],
   "source": [
    "import pandas as pd\n",
    "from sklearn.preprocessing import StandardScaler\n",
    "from sklearn.model_selection import train_test_split\n",
    "from sklearn.linear_model import LogisticRegression\n",
    "from sklearn.metrics import classification_report\n",
    "\n",
    "# Cargar el conjunto de datos de entrenamiento\n",
    "dataframeTrain = pd.read_csv(\"credit-train.csv\")\n",
    "# Cargar el conjunto de datos de prueba\n",
    "dataframeTest = pd.read_csv(\"credit-test.csv\")\n",
    "\n",
    "# Crear variables dummy para las columnas categóricas\n",
    "columns_to_dummy = ['job', 'marital', 'education', 'default', 'housing', 'loan', 'contact']\n",
    "dataframeTrain = pd.get_dummies(dataframeTrain, columns=columns_to_dummy)\n",
    "dataframeTest = pd.get_dummies(dataframeTest, columns=columns_to_dummy)\n",
    "\n",
    "# Normalizar los datos numéricos\n",
    "scaler = StandardScaler()\n",
    "numeric_columns = ['age', 'campaign', 'pdays', 'previous', 'emp_var_rate', \n",
    "                   'cons_price_idx', 'cons_conf_idx', 'euribor3m', 'nr_employed']\n",
    "dataframeTrain[numeric_columns] = scaler.fit_transform(dataframeTrain[numeric_columns])\n",
    "dataframeTest[numeric_columns] = scaler.transform(dataframeTest[numeric_columns])\n",
    "\n",
    "# Eliminar columnas no relevantes\n",
    "columns_to_drop = ['duration']  # Columnas a eliminar\n",
    "dataframeTrain.drop(columns=columns_to_drop, inplace=True)\n",
    "dataframeTest.drop(columns=columns_to_drop, inplace=True)\n",
    "\n",
    "# Dividir los datos en conjunto de entrenamiento, validación y prueba\n",
    "X_train = dataframeTrain.drop(columns=['y'])\n",
    "y_train = dataframeTrain['y']\n",
    "X_test = dataframeTest.drop(columns=['y'])\n",
    "y_test = dataframeTest['y']\n",
    "\n",
    "# Entrenar el modelo de regresión logística\n",
    "logistic_model = LogisticRegression(max_iter=1000)\n",
    "logistic_model.fit(X_train, y_train)\n",
    "\n",
    "# Realizar predicciones en el conjunto de prueba\n",
    "y_pred_logistic = logistic_model.predict(X_test)\n",
    "\n",
    "# Evaluar el rendimiento del modelo\n",
    "print(\"Classification Report for Logistic Regression Model:\")\n",
    "print(classification_report(y_test, y_pred_logistic))\n"
   ]
  },
  {
   "cell_type": "code",
   "execution_count": null,
   "id": "c882b25f-e01c-406d-8868-42997c808ec7",
   "metadata": {},
   "outputs": [],
   "source": []
  },
  {
   "cell_type": "code",
   "execution_count": null,
   "id": "308174bf-67e1-45fa-bada-cf35b5fecc8c",
   "metadata": {},
   "outputs": [],
   "source": []
  }
 ],
 "metadata": {
  "kernelspec": {
   "display_name": "Python 3 (ipykernel)",
   "language": "python",
   "name": "python3"
  },
  "language_info": {
   "codemirror_mode": {
    "name": "ipython",
    "version": 3
   },
   "file_extension": ".py",
   "mimetype": "text/x-python",
   "name": "python",
   "nbconvert_exporter": "python",
   "pygments_lexer": "ipython3",
   "version": "3.11.6"
  }
 },
 "nbformat": 4,
 "nbformat_minor": 5
}
