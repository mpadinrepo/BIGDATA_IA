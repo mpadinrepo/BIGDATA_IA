{
 "cells": [
  {
   "cell_type": "markdown",
   "id": "9c297492-2326-4c0b-a104-e9612373b4bc",
   "metadata": {},
   "source": [
    "## 0. ETAPAS"
   ]
  },
  {
   "cell_type": "markdown",
   "id": "ad70dff0-a4ed-4033-a8eb-323bea8a8ed0",
   "metadata": {
    "jp-MarkdownHeadingCollapsed": true
   },
   "source": [
    "### Etapas comunes para el preprocesamiento de datos:\n",
    "1. **Importación:** Se refiere a la importación de las bibliotecas necesarias y la carga de los datos.\n",
    "\n",
    "2. **Análisis numérico y visual:** Implica realizar un análisis de las estadísticas descriptivas de los datos numéricos y visualizar la distribución de los datos mediante gráficos.\n",
    "\n",
    "3. **Preprocesado:** Aplicación de técnicas de preprocesamiento de datos:\n",
    "    - Codificación de etiquetas\n",
    "    - División del conjunto de datos en entrenamiento y prueba\n",
    "    - Estandarización de las características.\n",
    "\n",
    "### Etapas para cada algoritmo aplicado (del 4 al 8):\n",
    "4. **Creación del modelo:** Aquí se define y se entrena el modelo utilizando el algoritmo específico.\n",
    "\n",
    "5. **Análisis de los resultados:** Se evalúa el rendimiento del modelo utilizando métricas pertinentes y se analizan los resultados obtenidos.\n",
    "\n",
    "6. **Gráficos de la clasificación obtenida:** Se visualiza la clasificación realizada por el modelo mediante gráficos adecuados.\n",
    "\n",
    "7. **Cálculo del mejor parámetro (si aplica):** En algunos casos, es necesario ajustar parámetros del modelo para optimizar su rendimiento. Esto puede implicar la búsqueda del mejor valor para un parámetro específico utilizando técnicas como la validación cruzada.\n",
    "\n",
    "8. **Cálculo de predicciones:** Finalmente, se utilizan los modelos entrenados para hacer predicciones sobre el conjunto de datos de prueba y se evalúa su rendimiento.\n"
   ]
  },
  {
   "cell_type": "markdown",
   "id": "777bcd11-92d3-4ecb-8845-ce6006dcbfbc",
   "metadata": {},
   "source": [
    "# 1. Importacion de datos "
   ]
  },
  {
   "cell_type": "markdown",
   "id": "5ce8f306-bd1d-48e7-9a43-107d3a6ad70e",
   "metadata": {},
   "source": [
    "# 2. Análisis númerico y visual"
   ]
  },
  {
   "cell_type": "markdown",
   "id": "ac90a035-8af8-4a2a-88e5-479cefc2ac0c",
   "metadata": {},
   "source": [
    "## Descripción del conjunto de datos:"
   ]
  },
  {
   "cell_type": "markdown",
   "id": "eb12bcfc-ccee-43a5-bf97-60a84018329a",
   "metadata": {},
   "source": [
    "# 3. Preprocesado:"
   ]
  },
  {
   "cell_type": "markdown",
   "id": "ee7818fe-ebe6-4a86-af71-5cd9b2af0d9f",
   "metadata": {
    "jp-MarkdownHeadingCollapsed": true
   },
   "source": [
    "### Eliminar valores atípicos utilizando el método de los cuantiles"
   ]
  },
  {
   "cell_type": "markdown",
   "id": "46a6b0e1-0dd0-4340-918a-d60b977948e5",
   "metadata": {
    "jp-MarkdownHeadingCollapsed": true
   },
   "source": [
    "### Normalización de características numéricas:"
   ]
  },
  {
   "cell_type": "markdown",
   "id": "98ee21f3-edd1-4a68-a1e2-21f1c940d9fe",
   "metadata": {
    "jp-MarkdownHeadingCollapsed": true
   },
   "source": [
    "### División del Dataset"
   ]
  },
  {
   "cell_type": "markdown",
   "id": "6d8b3163-cff6-43ed-b5ce-acbcc5c88b3e",
   "metadata": {
    "jp-MarkdownHeadingCollapsed": true
   },
   "source": [
    "# 4. Creación del modelo:\n"
   ]
  },
  {
   "cell_type": "markdown",
   "id": "4a008650-b0da-48a0-9b28-4152d298eae8",
   "metadata": {
    "jp-MarkdownHeadingCollapsed": true
   },
   "source": [
    "# 5. Análisis de los Resultados\n",
    "Realizamos un análisis de los resultados obtenidos por el modelo KNN, como la precisión y otras métricas de evaluación del rendimiento del modelo."
   ]
  },
  {
   "cell_type": "markdown",
   "id": "93ac63e2-9a8c-4ac0-8e86-99b85cb768e4",
   "metadata": {},
   "source": [
    "# 6. Gráficos de la clasificación obtenida: \n",
    "Se visualiza la clasificación realizada por el modelo mediante gráficos adecuados."
   ]
  },
  {
   "cell_type": "markdown",
   "id": "84ac7075-9c10-4cb2-ab6c-1ec8d5b431e0",
   "metadata": {},
   "source": [
    "### Gráficos\n"
   ]
  },
  {
   "cell_type": "markdown",
   "id": "b30e81bd-2f50-424e-a4f3-c0cdcffc4753",
   "metadata": {},
   "source": [
    "# 7.  Cálculo del Mejor Parámetro (si Aplica):\n"
   ]
  },
  {
   "cell_type": "markdown",
   "id": "8e7d9eb1-3ec5-4a3a-8933-9b93de5fec4d",
   "metadata": {},
   "source": [
    "# 8. Cálculo de Predicciones:\r",
    "Finalmente, utilizaremos los modelos entrenados para hacer predicciones sobre el conjunto de datos de prueba y evaluaremos su rendimiento.s."
   ]
  }
 ],
 "metadata": {
  "kernelspec": {
   "display_name": "Python 3 (ipykernel)",
   "language": "python",
   "name": "python3"
  },
  "language_info": {
   "codemirror_mode": {
    "name": "ipython",
    "version": 3
   },
   "file_extension": ".py",
   "mimetype": "text/x-python",
   "name": "python",
   "nbconvert_exporter": "python",
   "pygments_lexer": "ipython3",
   "version": "3.11.6"
  }
 },
 "nbformat": 4,
 "nbformat_minor": 5
}
