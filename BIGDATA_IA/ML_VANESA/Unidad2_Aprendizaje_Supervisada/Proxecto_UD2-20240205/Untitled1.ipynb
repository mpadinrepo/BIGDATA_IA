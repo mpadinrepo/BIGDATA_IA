{
 "cells": [
  {
   "cell_type": "markdown",
   "id": "2e75f4a8-5d64-4876-a7d0-9ca09c5823e7",
   "metadata": {},
   "source": [
    "# --------------------Regresión Logística--------------------"
   ]
  },
  {
   "cell_type": "markdown",
   "id": "6d05bdf6-f57f-45ab-8c8c-cbf111e23e63",
   "metadata": {},
   "source": [
    "## Parte 1: Carga de Datos\n",
    "este código proporciona los datos necesarios para comenzar a trabajar en un proyecto de aprendizaje automático utilizando conjuntos de datos de entrenamiento y prueba almacenados en archivos CSV."
   ]
  },
  {
   "cell_type": "code",
   "execution_count": 2,
   "id": "d51890f1-f645-4fe3-b38d-edd8b8950447",
   "metadata": {},
   "outputs": [],
   "source": [
    "import pandas as pd\n",
    "\n",
    "# Cargar los datos\n",
    "df_train = pd.read_csv(\"credit-train.csv\")\n",
    "df_test = pd.read_csv(\"credit-test.csv\")\n"
   ]
  },
  {
   "cell_type": "code",
   "execution_count": null,
   "id": "372d819a-d22a-46da-ae11-5f628c607198",
   "metadata": {},
   "outputs": [],
   "source": []
  }
 ],
 "metadata": {
  "kernelspec": {
   "display_name": "Python 3 (ipykernel)",
   "language": "python",
   "name": "python3"
  },
  "language_info": {
   "codemirror_mode": {
    "name": "ipython",
    "version": 3
   },
   "file_extension": ".py",
   "mimetype": "text/x-python",
   "name": "python",
   "nbconvert_exporter": "python",
   "pygments_lexer": "ipython3",
   "version": "3.11.6"
  }
 },
 "nbformat": 4,
 "nbformat_minor": 5
}
