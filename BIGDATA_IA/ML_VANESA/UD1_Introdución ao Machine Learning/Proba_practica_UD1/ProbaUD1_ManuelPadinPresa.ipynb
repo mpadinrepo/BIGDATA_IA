{
 "cells": [
  {
   "cell_type": "markdown",
   "metadata": {
    "collapsed": true,
    "jupyter": {
     "outputs_hidden": true
    }
   },
   "source": [
    "# Solución Examen UD1 - Parte 2"
   ]
  },
  {
   "cell_type": "markdown",
   "metadata": {
    "collapsed": false,
    "jupyter": {
     "outputs_hidden": false
    }
   },
   "source": [
    "Si tenemos un dataframe df con columnas age, salary, sex y queremos:\n",
    "\n",
    "1. Mostrar aquellos individuos menores de 30 años o con salario igual o superior a 25000 euros,\n",
    "\n",
    "2. Añadir una nueva columna numérica al dataframe llamada salary_irpf que se corresponda con el 20% de su sueldo, entonces escribiremos:\n",
    "\n",
    "\n",
    "3. Si tenemos un dataframe df con columnas age, salary, sex y queremos saber cuél es la media de edad de nuestros individuos, entonces escribiremos:\n",
    "\n",
    "\n",
    "4. Si tenemos un dataframe df con columnas age, salary, sex y queremos borrar del mismo la columna sex, entonces escribiremos:\n",
    "\n",
    "\n",
    "5. Si tenemos un dataframe df con columnas age, salary, sex y queremos conocer el salario máximo por sexo, entonces escribiremos:\n",
    "\n",
    "\n",
    "6. Si tenemos un dataframe df con columnas age, salary, sex y queremos recuperar las 3 primeras filas y las 3 últimas de la columna salary en una única instrucción, entonces escribiremos:\n",
    "\n",
    "7. Si tenemos un dataframe df con columnas age, salary, sex y queremos añadir borrar todas las filas que tengan valores nulos en la columna salary, entonces escribiremos:\n"
   ]
  },
  {
   "cell_type": "markdown",
   "metadata": {},
   "source": [
    "# Parsear fichero demo-examen-parte2.csv"
   ]
  },
  {
   "cell_type": "code",
   "execution_count": 64,
   "metadata": {},
   "outputs": [],
   "source": [
    "import pandas as pd\n",
    "\n",
    "# Paso 1: Cargar el archivo CSV en un DataFrame\n",
    "\n",
    "df = pd.read_csv('demo-examen-parte2.csv')"
   ]
  },
  {
   "cell_type": "markdown",
   "metadata": {},
   "source": [
    "Mostrar individuos menores de 30 años o con salario igual o superior a 25000 euros\n"
   ]
  },
  {
   "cell_type": "code",
   "execution_count": 72,
   "metadata": {},
   "outputs": [],
   "source": [
    "filtro_edad_salario = (df['age'] < 30) | (df['salary'] >= 25000)\n",
    "resultado_paso_1 = df[filtro_edad_salario]"
   ]
  },
  {
   "cell_type": "code",
   "execution_count": 75,
   "metadata": {},
   "outputs": [
    {
     "data": {
      "text/html": [
       "<div>\n",
       "<style scoped>\n",
       "    .dataframe tbody tr th:only-of-type {\n",
       "        vertical-align: middle;\n",
       "    }\n",
       "\n",
       "    .dataframe tbody tr th {\n",
       "        vertical-align: top;\n",
       "    }\n",
       "\n",
       "    .dataframe thead th {\n",
       "        text-align: right;\n",
       "    }\n",
       "</style>\n",
       "<table border=\"1\" class=\"dataframe\">\n",
       "  <thead>\n",
       "    <tr style=\"text-align: right;\">\n",
       "      <th></th>\n",
       "      <th>age</th>\n",
       "      <th>salary</th>\n",
       "      <th>sex</th>\n",
       "    </tr>\n",
       "  </thead>\n",
       "  <tbody>\n",
       "    <tr>\n",
       "      <th>0</th>\n",
       "      <td>58</td>\n",
       "      <td>36000</td>\n",
       "      <td>male</td>\n",
       "    </tr>\n",
       "    <tr>\n",
       "      <th>1</th>\n",
       "      <td>23</td>\n",
       "      <td>18000</td>\n",
       "      <td>female</td>\n",
       "    </tr>\n",
       "    <tr>\n",
       "      <th>3</th>\n",
       "      <td>28</td>\n",
       "      <td>40000</td>\n",
       "      <td>female</td>\n",
       "    </tr>\n",
       "    <tr>\n",
       "      <th>4</th>\n",
       "      <td>46</td>\n",
       "      <td>50000</td>\n",
       "      <td>male</td>\n",
       "    </tr>\n",
       "    <tr>\n",
       "      <th>5</th>\n",
       "      <td>18</td>\n",
       "      <td>15000</td>\n",
       "      <td>male</td>\n",
       "    </tr>\n",
       "    <tr>\n",
       "      <th>6</th>\n",
       "      <td>38</td>\n",
       "      <td>38000</td>\n",
       "      <td>female</td>\n",
       "    </tr>\n",
       "    <tr>\n",
       "      <th>7</th>\n",
       "      <td>40</td>\n",
       "      <td>29000</td>\n",
       "      <td>male</td>\n",
       "    </tr>\n",
       "  </tbody>\n",
       "</table>\n",
       "</div>"
      ],
      "text/plain": [
       "   age  salary     sex\n",
       "0   58   36000    male\n",
       "1   23   18000  female\n",
       "3   28   40000  female\n",
       "4   46   50000    male\n",
       "5   18   15000    male\n",
       "6   38   38000  female\n",
       "7   40   29000    male"
      ]
     },
     "execution_count": 75,
     "metadata": {},
     "output_type": "execute_result"
    }
   ],
   "source": [
    "resultado_paso_1"
   ]
  },
  {
   "cell_type": "markdown",
   "metadata": {},
   "source": [
    "Añadir una nueva columna salary_irpf con el 20% de sueldo\n"
   ]
  },
  {
   "cell_type": "code",
   "execution_count": 78,
   "metadata": {},
   "outputs": [
    {
     "data": {
      "text/html": [
       "<div>\n",
       "<style scoped>\n",
       "    .dataframe tbody tr th:only-of-type {\n",
       "        vertical-align: middle;\n",
       "    }\n",
       "\n",
       "    .dataframe tbody tr th {\n",
       "        vertical-align: top;\n",
       "    }\n",
       "\n",
       "    .dataframe thead th {\n",
       "        text-align: right;\n",
       "    }\n",
       "</style>\n",
       "<table border=\"1\" class=\"dataframe\">\n",
       "  <thead>\n",
       "    <tr style=\"text-align: right;\">\n",
       "      <th></th>\n",
       "      <th>age</th>\n",
       "      <th>salary</th>\n",
       "      <th>sex</th>\n",
       "      <th>salary_irpf</th>\n",
       "    </tr>\n",
       "  </thead>\n",
       "  <tbody>\n",
       "    <tr>\n",
       "      <th>0</th>\n",
       "      <td>58</td>\n",
       "      <td>36000</td>\n",
       "      <td>male</td>\n",
       "      <td>7200.0</td>\n",
       "    </tr>\n",
       "    <tr>\n",
       "      <th>1</th>\n",
       "      <td>23</td>\n",
       "      <td>18000</td>\n",
       "      <td>female</td>\n",
       "      <td>3600.0</td>\n",
       "    </tr>\n",
       "    <tr>\n",
       "      <th>2</th>\n",
       "      <td>31</td>\n",
       "      <td>23000</td>\n",
       "      <td>female</td>\n",
       "      <td>4600.0</td>\n",
       "    </tr>\n",
       "    <tr>\n",
       "      <th>3</th>\n",
       "      <td>28</td>\n",
       "      <td>40000</td>\n",
       "      <td>female</td>\n",
       "      <td>8000.0</td>\n",
       "    </tr>\n",
       "    <tr>\n",
       "      <th>4</th>\n",
       "      <td>46</td>\n",
       "      <td>50000</td>\n",
       "      <td>male</td>\n",
       "      <td>10000.0</td>\n",
       "    </tr>\n",
       "    <tr>\n",
       "      <th>5</th>\n",
       "      <td>18</td>\n",
       "      <td>15000</td>\n",
       "      <td>male</td>\n",
       "      <td>3000.0</td>\n",
       "    </tr>\n",
       "    <tr>\n",
       "      <th>6</th>\n",
       "      <td>38</td>\n",
       "      <td>38000</td>\n",
       "      <td>female</td>\n",
       "      <td>7600.0</td>\n",
       "    </tr>\n",
       "    <tr>\n",
       "      <th>7</th>\n",
       "      <td>40</td>\n",
       "      <td>29000</td>\n",
       "      <td>male</td>\n",
       "      <td>5800.0</td>\n",
       "    </tr>\n",
       "  </tbody>\n",
       "</table>\n",
       "</div>"
      ],
      "text/plain": [
       "   age  salary     sex  salary_irpf\n",
       "0   58   36000    male       7200.0\n",
       "1   23   18000  female       3600.0\n",
       "2   31   23000  female       4600.0\n",
       "3   28   40000  female       8000.0\n",
       "4   46   50000    male      10000.0\n",
       "5   18   15000    male       3000.0\n",
       "6   38   38000  female       7600.0\n",
       "7   40   29000    male       5800.0"
      ]
     },
     "execution_count": 78,
     "metadata": {},
     "output_type": "execute_result"
    }
   ],
   "source": [
    "df['salary_irpf'] = df['salary'] * 0.2\n",
    "df"
   ]
  },
  {
   "cell_type": "markdown",
   "metadata": {},
   "source": [
    "Conocer el salario máximo por sexo"
   ]
  },
  {
   "cell_type": "code",
   "execution_count": 80,
   "metadata": {},
   "outputs": [
    {
     "data": {
      "text/plain": [
       "sex\n",
       "female    40000\n",
       "male      50000\n",
       "Name: salary, dtype: int64"
      ]
     },
     "execution_count": 80,
     "metadata": {},
     "output_type": "execute_result"
    }
   ],
   "source": [
    "\n",
    "salario_maximo_por_sexo = df.groupby('sex')['salary'].max()\n",
    "salario_maximo_por_sexo"
   ]
  },
  {
   "cell_type": "markdown",
   "metadata": {},
   "source": [
    "Calcular la media de edad de los individuos"
   ]
  },
  {
   "cell_type": "code",
   "execution_count": 48,
   "metadata": {},
   "outputs": [
    {
     "data": {
      "text/plain": [
       "35.25"
      ]
     },
     "execution_count": 48,
     "metadata": {},
     "output_type": "execute_result"
    }
   ],
   "source": [
    "\n",
    "media_edad = df['age'].mean()\n",
    "media_edad"
   ]
  },
  {
   "cell_type": "markdown",
   "metadata": {},
   "source": [
    "Borrar la columna 'sex'"
   ]
  },
  {
   "cell_type": "code",
   "execution_count": 82,
   "metadata": {},
   "outputs": [
    {
     "name": "stderr",
     "output_type": "stream",
     "text": [
      "\n",
      "KeyboardInterrupt\n",
      "\n"
     ]
    }
   ],
   "source": [
    "\n",
    "df = df.drop(columns=['sex'])\n",
    "df"
   ]
  },
  {
   "cell_type": "markdown",
   "metadata": {},
   "source": [
    "Recuperar las 3 primeras y 3 últimas filas de la columna 'salary'\n"
   ]
  },
  {
   "cell_type": "code",
   "execution_count": 97,
   "metadata": {},
   "outputs": [
    {
     "data": {
      "text/plain": [
       "0    36000\n",
       "1    18000\n",
       "2    23000\n",
       "3    15000\n",
       "4    38000\n",
       "5    29000\n",
       "Name: salary, dtype: int64"
      ]
     },
     "execution_count": 97,
     "metadata": {},
     "output_type": "execute_result"
    }
   ],
   "source": [
    "primeras_ultimas_salario = pd.concat([df['salary'].iloc[:3], df['salary'].iloc[-3:]], ignore_index=True)\n",
    "primeras_ultimas_salario\n",
    "\n"
   ]
  },
  {
   "cell_type": "markdown",
   "metadata": {},
   "source": [
    "Borrar filas con valores nulos en la columna 'salary'"
   ]
  },
  {
   "cell_type": "code",
   "execution_count": 98,
   "metadata": {},
   "outputs": [
    {
     "data": {
      "text/html": [
       "<div>\n",
       "<style scoped>\n",
       "    .dataframe tbody tr th:only-of-type {\n",
       "        vertical-align: middle;\n",
       "    }\n",
       "\n",
       "    .dataframe tbody tr th {\n",
       "        vertical-align: top;\n",
       "    }\n",
       "\n",
       "    .dataframe thead th {\n",
       "        text-align: right;\n",
       "    }\n",
       "</style>\n",
       "<table border=\"1\" class=\"dataframe\">\n",
       "  <thead>\n",
       "    <tr style=\"text-align: right;\">\n",
       "      <th></th>\n",
       "      <th>age</th>\n",
       "      <th>salary</th>\n",
       "      <th>salary_irpf</th>\n",
       "    </tr>\n",
       "  </thead>\n",
       "  <tbody>\n",
       "    <tr>\n",
       "      <th>0</th>\n",
       "      <td>58</td>\n",
       "      <td>36000</td>\n",
       "      <td>7200.0</td>\n",
       "    </tr>\n",
       "    <tr>\n",
       "      <th>1</th>\n",
       "      <td>23</td>\n",
       "      <td>18000</td>\n",
       "      <td>3600.0</td>\n",
       "    </tr>\n",
       "    <tr>\n",
       "      <th>2</th>\n",
       "      <td>31</td>\n",
       "      <td>23000</td>\n",
       "      <td>4600.0</td>\n",
       "    </tr>\n",
       "    <tr>\n",
       "      <th>3</th>\n",
       "      <td>28</td>\n",
       "      <td>40000</td>\n",
       "      <td>8000.0</td>\n",
       "    </tr>\n",
       "    <tr>\n",
       "      <th>4</th>\n",
       "      <td>46</td>\n",
       "      <td>50000</td>\n",
       "      <td>10000.0</td>\n",
       "    </tr>\n",
       "    <tr>\n",
       "      <th>5</th>\n",
       "      <td>18</td>\n",
       "      <td>15000</td>\n",
       "      <td>3000.0</td>\n",
       "    </tr>\n",
       "    <tr>\n",
       "      <th>6</th>\n",
       "      <td>38</td>\n",
       "      <td>38000</td>\n",
       "      <td>7600.0</td>\n",
       "    </tr>\n",
       "    <tr>\n",
       "      <th>7</th>\n",
       "      <td>40</td>\n",
       "      <td>29000</td>\n",
       "      <td>5800.0</td>\n",
       "    </tr>\n",
       "  </tbody>\n",
       "</table>\n",
       "</div>"
      ],
      "text/plain": [
       "   age  salary  salary_irpf\n",
       "0   58   36000       7200.0\n",
       "1   23   18000       3600.0\n",
       "2   31   23000       4600.0\n",
       "3   28   40000       8000.0\n",
       "4   46   50000      10000.0\n",
       "5   18   15000       3000.0\n",
       "6   38   38000       7600.0\n",
       "7   40   29000       5800.0"
      ]
     },
     "execution_count": 98,
     "metadata": {},
     "output_type": "execute_result"
    }
   ],
   "source": [
    "\n",
    "df_sin_nulos = df.dropna(subset=['salary'])\n",
    "df_sin_nulos"
   ]
  },
  {
   "cell_type": "markdown",
   "metadata": {},
   "source": [
    "# Mostrar los resultados"
   ]
  },
  {
   "cell_type": "code",
   "execution_count": 104,
   "metadata": {},
   "outputs": [
    {
     "name": "stdout",
     "output_type": "stream",
     "text": [
      "Paso 1:\n",
      "   age  salary     sex\n",
      "0   58   36000    male\n",
      "1   23   18000  female\n",
      "3   28   40000  female\n",
      "4   46   50000    male\n",
      "5   18   15000    male\n",
      "6   38   38000  female\n",
      "7   40   29000    male\n",
      "\n",
      "Paso 2:\n",
      "   age  salary  salary_irpf\n",
      "0   58   36000       7200.0\n",
      "1   23   18000       3600.0\n",
      "2   31   23000       4600.0\n",
      "3   28   40000       8000.0\n",
      "4   46   50000      10000.0\n",
      "5   18   15000       3000.0\n",
      "6   38   38000       7600.0\n",
      "7   40   29000       5800.0\n",
      "\n",
      "Paso 3:\n",
      "La media de edad es: 35.25\n",
      "\n",
      "Paso 4:\n",
      "   age  salary  salary_irpf\n",
      "0   58   36000       7200.0\n",
      "1   23   18000       3600.0\n",
      "2   31   23000       4600.0\n",
      "3   28   40000       8000.0\n",
      "4   46   50000      10000.0\n",
      "5   18   15000       3000.0\n",
      "6   38   38000       7600.0\n",
      "7   40   29000       5800.0\n",
      "\n",
      "Paso 5:\n",
      "   age  salary  salary_irpf\n",
      "0   58   36000       7200.0\n",
      "1   23   18000       3600.0\n",
      "2   31   23000       4600.0\n",
      "3   28   40000       8000.0\n",
      "4   46   50000      10000.0\n",
      "5   18   15000       3000.0\n",
      "6   38   38000       7600.0\n",
      "7   40   29000       5800.0\n",
      "\n",
      "Paso 6:\n",
      "sex\n",
      "female    40000\n",
      "male      50000\n",
      "Name: salary, dtype: int64\n",
      "\n",
      "Paso 7:\n",
      "0    36000\n",
      "1    18000\n",
      "2    23000\n",
      "3    15000\n",
      "4    38000\n",
      "5    29000\n",
      "Name: salary, dtype: int64\n",
      "\n",
      "Paso 8:\n",
      "   age  salary  salary_irpf\n",
      "0   58   36000       7200.0\n",
      "1   23   18000       3600.0\n",
      "2   31   23000       4600.0\n",
      "3   28   40000       8000.0\n",
      "4   46   50000      10000.0\n",
      "5   18   15000       3000.0\n",
      "6   38   38000       7600.0\n",
      "7   40   29000       5800.0\n"
     ]
    }
   ],
   "source": [
    "\n",
    "print(\"Paso 1:\")\n",
    "print(resultado_paso_1)\n",
    "\n",
    "print(\"\\nPaso 2:\")\n",
    "print(df)\n",
    "\n",
    "print(\"\\nPaso 3:\")\n",
    "print(\"La media de edad es:\", media_edad)\n",
    "\n",
    "print(\"\\nPaso 4:\")\n",
    "print(df)\n",
    "\n",
    "print(\"\\nPaso 5:\")\n",
    "print(df)\n",
    "\n",
    "print(\"\\nPaso 6:\")\n",
    "print(salario_maximo_por_sexo)\n",
    "\n",
    "print(\"\\nPaso 7:\")\n",
    "print(primeras_ultimas_salario)\n",
    "\n",
    "print(\"\\nPaso 8:\")\n",
    "print(df_sin_nulos)"
   ]
  }
 ],
 "metadata": {
  "kernelspec": {
   "display_name": "Python 3 (ipykernel)",
   "language": "python",
   "name": "python3"
  },
  "language_info": {
   "codemirror_mode": {
    "name": "ipython",
    "version": 3
   },
   "file_extension": ".py",
   "mimetype": "text/x-python",
   "name": "python",
   "nbconvert_exporter": "python",
   "pygments_lexer": "ipython3",
   "version": "3.11.6"
  }
 },
 "nbformat": 4,
 "nbformat_minor": 4
}
