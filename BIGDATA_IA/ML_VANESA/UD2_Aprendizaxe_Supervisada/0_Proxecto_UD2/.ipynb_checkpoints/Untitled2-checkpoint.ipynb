{
 "cells": [
  {
   "cell_type": "markdown",
   "id": "0eee3ada-f025-4109-85aa-9f1625da2ba5",
   "metadata": {},
   "source": [
    "# Análisis Exploratorio de Datos (EDA) y Preprocesamiento:\r\n"
   ]
  },
  {
   "cell_type": "markdown",
   "id": "ab262c23-2fbe-4646-a7fd-65fffcd08f9d",
   "metadata": {},
   "source": [
    "## Paso 1: Cargar y Visualizar los Datos\n"
   ]
  },
  {
   "cell_type": "code",
   "execution_count": null,
   "id": "4693f1b4-3921-47c1-94cb-a7b903454ffc",
   "metadata": {},
   "outputs": [],
   "source": [
    "import pandas as pd\n",
    "\n",
    "# Cargar los datos\n",
    "df_train = pd.read_csv(\"credit-train.csv\")\n",
    "df_test = pd.read_csv(\"credit-test.csv\")\n",
    "\n",
    "# Mostrar las primeras filas del DataFrame de entrenamiento\n",
    "print(\"Primeras filas del DataFrame de entrenamiento:\")\n",
    "print(df_train.head())\n"
   ]
  },
  {
   "cell_type": "markdown",
   "id": "c3fe5a28-08fb-41d1-b191-1f13ad9e9dc9",
   "metadata": {},
   "source": [
    "## Paso 2: Visualizar la Distribución de Variables Numéricas\n"
   ]
  },
  {
   "cell_type": "code",
   "execution_count": null,
   "id": "d2f37251-3e97-48b0-808f-faa4f09da7d8",
   "metadata": {},
   "outputs": [],
   "source": [
    "import seaborn as sns\n",
    "import matplotlib.pyplot as plt\n",
    "\n",
    "# Visualizar la distribución de la variable 'age'\n",
    "sns.histplot(df_train['age'], bins=20, kde=True)\n",
    "plt.title('Distribución de la edad')\n",
    "plt.xlabel('Edad')\n",
    "plt.ylabel('Frecuencia')\n",
    "plt.show()\n"
   ]
  },
  {
   "cell_type": "markdown",
   "id": "a420f63b-bdf9-4795-b0f8-cf76834647a8",
   "metadata": {},
   "source": [
    "## Paso 3: Visualizar Relaciones entre Variables\n"
   ]
  },
  {
   "cell_type": "code",
   "execution_count": null,
   "id": "3204bf2c-a2c0-42f8-beb6-872223fa8f08",
   "metadata": {},
   "outputs": [],
   "source": [
    "# Visualizar la relación entre 'age' y 'y' (suscripción al crédito)\n",
    "sns.boxplot(x='y', y='age', data=df_train)\n",
    "plt.title('Relación entre Edad y Suscripción al Crédito')\n",
    "plt.xlabel('Suscripción al Crédito (y)')\n",
    "plt.ylabel('Edad')\n",
    "plt.show()\n"
   ]
  },
  {
   "cell_type": "markdown",
   "id": "cf73234c-a880-4724-915b-18bf481647ef",
   "metadata": {},
   "source": [
    "## Paso 4: Tratamiento de Valores Atípicos y Datos Faltantes\n"
   ]
  },
  {
   "cell_type": "code",
   "execution_count": null,
   "id": "0d7f56c0-2135-43a7-b4d5-9cf304b0bb36",
   "metadata": {},
   "outputs": [],
   "source": [
    "# Identificar y tratar valores atípicos en 'age'\n",
    "q1 = df_train['age'].quantile(0.25)\n",
    "q3 = df_train['age'].quantile(0.75)\n",
    "iqr = q3 - q1\n",
    "lower_bound = q1 - 1.5 * iqr\n",
    "upper_bound = q3 + 1.5 * iqr\n",
    "\n",
    "# Tratar los valores atípicos reemplazándolos con el límite superior o inferior\n",
    "df_train['age'] = df_train['age'].apply(lambda x: upper_bound if x > upper_bound else (lower_bound if x < lower_bound else x))\n",
    "\n",
    "# Eliminar filas con valores faltantes\n",
    "df_train.dropna(inplace=True)\n"
   ]
  },
  {
   "cell_type": "markdown",
   "id": "f060b062-92e8-44ba-92fd-46a08f25207b",
   "metadata": {},
   "source": [
    "# Aplicación de Regresión Logística:\n"
   ]
  },
  {
   "cell_type": "markdown",
   "id": "c0e29fb2-b77a-4298-90e8-d9d76f7ad435",
   "metadata": {},
   "source": [
    "## Paso 5: Codificación de Variables Categóricas y División de Datos\n"
   ]
  },
  {
   "cell_type": "code",
   "execution_count": null,
   "id": "8886a5c9-391f-4b32-bd68-1bb2dbdc8318",
   "metadata": {},
   "outputs": [],
   "source": [
    "# Codificar variables categóricas en el conjunto de entrenamiento\n",
    "df_train_encoded = pd.get_dummies(df_train)\n",
    "\n",
    "# Dividir los datos en características (X_train) y variable objetivo (y_train)\n",
    "X_train = df_train_encoded.drop(columns=['y'])\n",
    "y_train = df_train_encoded['y']\n"
   ]
  },
  {
   "cell_type": "markdown",
   "id": "ea0ff1d6-6c16-4311-885c-70841edbc9a4",
   "metadata": {},
   "source": [
    "## Paso 6: Entrenamiento y Evaluación del Modelo de Regresión Logística\n"
   ]
  },
  {
   "cell_type": "code",
   "execution_count": null,
   "id": "95539fdc-418f-4d83-b346-08d4896e15f0",
   "metadata": {},
   "outputs": [],
   "source": [
    "from sklearn.linear_model import LogisticRegression\n",
    "from sklearn.metrics import accuracy_score, precision_score, recall_score, confusion_matrix\n",
    "\n",
    "# Inicializar y entrenar el modelo de Regresión Logística\n",
    "logistic_model = LogisticRegression()\n",
    "logistic_model.fit(X_train, y_train)\n",
    "\n",
    "# Predicción sobre el conjunto de entrenamiento\n",
    "y_pred_train = logistic_model.predict(X_train)\n",
    "\n",
    "# Evaluar el modelo\n",
    "accuracy = accuracy_score(y_train, y_pred_train)\n",
    "precision = precision_score(y_train, y_pred_train)\n",
    "recall = recall_score(y_train, y_pred_train)\n",
    "conf_matrix = confusion_matrix(y_train, y_pred_train)\n",
    "\n",
    "print(\"Resultados de la evaluación del modelo:\")\n",
    "print(\"Exactitud:\", accuracy)\n",
    "print(\"Precisión:\", precision)\n",
    "print(\"Exhaustividad:\", recall)\n",
    "print(\"Matriz de confusión:\")\n",
    "print(conf_matrix)\n"
   ]
  },
  {
   "cell_type": "code",
   "execution_count": null,
   "id": "e931fefb-bf49-4f26-b333-b2031ad48071",
   "metadata": {},
   "outputs": [],
   "source": []
  },
  {
   "cell_type": "code",
   "execution_count": null,
   "id": "74256f49-a28f-4116-ba68-f3ed6240be13",
   "metadata": {},
   "outputs": [],
   "source": []
  },
  {
   "cell_type": "code",
   "execution_count": null,
   "id": "ef54cb07-397b-49b2-9af6-9ba64134f4a8",
   "metadata": {},
   "outputs": [],
   "source": []
  },
  {
   "cell_type": "code",
   "execution_count": null,
   "id": "a7a2fc8b-76d7-4c9b-8d38-65d23bdbe077",
   "metadata": {},
   "outputs": [],
   "source": []
  },
  {
   "cell_type": "code",
   "execution_count": null,
   "id": "cf596169-5f07-40f9-9b85-af8d93bfaa9b",
   "metadata": {},
   "outputs": [],
   "source": []
  },
  {
   "cell_type": "code",
   "execution_count": null,
   "id": "ea4ab1a6-c9ae-4565-b254-3d132afb6c5b",
   "metadata": {},
   "outputs": [],
   "source": []
  }
 ],
 "metadata": {
  "kernelspec": {
   "display_name": "Python 3 (ipykernel)",
   "language": "python",
   "name": "python3"
  },
  "language_info": {
   "codemirror_mode": {
    "name": "ipython",
    "version": 3
   },
   "file_extension": ".py",
   "mimetype": "text/x-python",
   "name": "python",
   "nbconvert_exporter": "python",
   "pygments_lexer": "ipython3",
   "version": "3.11.6"
  }
 },
 "nbformat": 4,
 "nbformat_minor": 5
}
