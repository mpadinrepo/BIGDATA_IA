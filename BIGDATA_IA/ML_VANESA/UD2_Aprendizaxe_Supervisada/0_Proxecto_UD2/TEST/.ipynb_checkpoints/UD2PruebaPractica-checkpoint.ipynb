{
 "cells": [
  {
   "cell_type": "markdown",
   "metadata": {
    "id": "8wVwha5EB5-V"
   },
   "source": [
    "Curso Especialización en Intelixencia Artificial e Big Data\n",
    "\n",
    "Sistemas de Aprendizaxe Automático\n",
    "\n",
    "IES de Teis - Vigo\n",
    "\n",
    "Prueba práctica UD2: Aprendizaje supervisado\n",
    "\n",
    "**Nombre:**\n",
    "\n",
    "\n",
    "En esta prueba se plantea un supuesto práctico como los que se han trabajado durante la UD2. Se proporciona un dataset con datos clasificados y una serie de cuestiones que deben abordarse.\n",
    "\n",
    "Al finalizar la prueba se debe subir el notebook a la tarea del aula virtual."
   ]
  },
  {
   "cell_type": "markdown",
   "metadata": {
    "id": "YOWG4QV994_e"
   },
   "source": [
    "Descripción del Dataset:\n",
    "\n",
    "Se trata de un caso de clasificación binaria en la que se pretende predecir a partir de las siguientes variables si el cliente va o comprar un coche o no.\n",
    "\n",
    "UserID: numérico (entero)\n",
    "\n",
    "Gender(género): categórico\n",
    "\n",
    "Age (edad): numérico \n",
    "\n",
    "Annual Salary: numérico \n",
    "\n",
    "\n",
    "Variable a predecir:\n",
    "\n",
    "Purchased (¿Comprado?): (No=0, Sí=1)\n",
    "\n",
    "El dataset se encuentra en el fichero *cars_data.csv*"
   ]
  },
  {
   "cell_type": "markdown",
   "metadata": {
    "id": "BdLMBE5bSKRY"
   },
   "source": [
    "## 1.Importación de paquetes y dataset"
   ]
  },
  {
   "cell_type": "markdown",
   "metadata": {
    "id": "n28qNA-S3Wmb"
   },
   "source": [
    "Importa aquí todos los paquetes que utilices "
   ]
  },
  {
   "cell_type": "code",
   "execution_count": null,
   "metadata": {
    "id": "khkq0SnnDD3i"
   },
   "outputs": [],
   "source": [
    "\n"
   ]
  },
  {
   "cell_type": "markdown",
   "metadata": {
    "id": "mkc0jH7g3h5D"
   },
   "source": [
    "Importa el dataset"
   ]
  },
  {
   "cell_type": "code",
   "execution_count": null,
   "metadata": {
    "id": "CksKwTCe_4du"
   },
   "outputs": [],
   "source": []
  },
  {
   "cell_type": "markdown",
   "metadata": {
    "id": "5l_JTDS0SS34"
   },
   "source": [
    "## 2. EDA y visual EDA (0.75 pts)"
   ]
  },
  {
   "cell_type": "markdown",
   "metadata": {
    "id": "lGdMbew8A_Tk"
   },
   "source": [
    " Analiza los datos numéricos, ¿Hay outliers o datos anómalos?\n",
    "\n"
   ]
  },
  {
   "cell_type": "code",
   "execution_count": null,
   "metadata": {
    "id": "Mg4TZ9ITEdod"
   },
   "outputs": [],
   "source": []
  },
  {
   "cell_type": "markdown",
   "metadata": {
    "id": "NeJ6VLbBFbTT"
   },
   "source": [
    "Visualiza las relaciones entre las variables independientes y comentalas. ¿Hay alguna relación entre el género y la decisión de compra? ¿Y del resto de variables con la decisión de compra? ¿Es un dataset balanceado?. Verifica visualmente si hay outliers. Justifica las respuestas."
   ]
  },
  {
   "cell_type": "markdown",
   "metadata": {
    "id": "HFuMhqvVIv2k"
   },
   "source": [
    "## 3.- Preprocessing (0,25 pts)"
   ]
  },
  {
   "cell_type": "markdown",
   "metadata": {
    "id": "Si8yU1BxNE8Y"
   },
   "source": [
    "Realiza el procesado de los datos que creas oportuno antes de realizar el entrenamiento. Justifica los pasos realizados."
   ]
  },
  {
   "cell_type": "code",
   "execution_count": null,
   "metadata": {
    "id": "jYaXqX-oRRdF"
   },
   "outputs": [],
   "source": [
    "\n"
   ]
  },
  {
   "cell_type": "markdown",
   "metadata": {
    "id": "6i2JXTMXXnbc"
   },
   "source": [
    "## 4.División del dataset"
   ]
  },
  {
   "cell_type": "markdown",
   "metadata": {
    "id": "C9rXmsvxNV0C"
   },
   "source": [
    "Divide el dataset para entrenar los modelos y poder obtener las métricas de la clasificación."
   ]
  },
  {
   "cell_type": "code",
   "execution_count": null,
   "metadata": {
    "id": "iM5a2OYlXw4v"
   },
   "outputs": [],
   "source": []
  },
  {
   "cell_type": "markdown",
   "metadata": {
    "id": "vrr_b8v2N8F7"
   },
   "source": [
    "##  5.- Regresión logística (0.25 pts)"
   ]
  },
  {
   "cell_type": "code",
   "execution_count": null,
   "metadata": {
    "id": "sEWurQL64RgG"
   },
   "outputs": [],
   "source": []
  },
  {
   "cell_type": "markdown",
   "metadata": {
    "id": "YqIPp356c5u3"
   },
   "source": [
    "5.1. Clasificador y entrenamineto\n",
    "\n",
    " Entrena un clasificador de regresión logística"
   ]
  },
  {
   "cell_type": "code",
   "execution_count": null,
   "metadata": {
    "id": "EnNu47ECP-Jj"
   },
   "outputs": [],
   "source": []
  },
  {
   "cell_type": "markdown",
   "metadata": {
    "id": "s-ahI7oTlGV1"
   },
   "source": [
    "5.2. Informe de clasificación"
   ]
  },
  {
   "cell_type": "markdown",
   "metadata": {
    "id": "xziT64RGntOL"
   },
   "source": [
    "Obtén la accuracy, matriz de confusión y la precisión"
   ]
  },
  {
   "cell_type": "markdown",
   "metadata": {
    "id": "bMObNQJoyc33"
   },
   "source": [
    "De acuerdo a la accuracy ¿Es un buen modelo? Justifica tu respuesta"
   ]
  },
  {
   "cell_type": "markdown",
   "metadata": {
    "id": "2wjq2BIvptAp"
   },
   "source": [
    "## 6.- Árboles de decisión (1 pt)"
   ]
  },
  {
   "cell_type": "markdown",
   "metadata": {
    "id": "Srhkmm-DrpGp"
   },
   "source": [
    "Entrena un clasificador de árbol de decisiones con los mismos datos empleados para el clasificador anterior"
   ]
  },
  {
   "cell_type": "code",
   "execution_count": null,
   "metadata": {
    "id": "9AI2X5RQq4zs"
   },
   "outputs": [],
   "source": []
  },
  {
   "cell_type": "markdown",
   "metadata": {
    "id": "9wcS2XFcr30R"
   },
   "source": [
    "Visualiza gráficamente el árbol del modelo"
   ]
  },
  {
   "cell_type": "code",
   "execution_count": null,
   "metadata": {
    "id": "kpejDJX4sFCB"
   },
   "outputs": [],
   "source": []
  },
  {
   "cell_type": "markdown",
   "metadata": {
    "id": "4b2PtDgQvntI"
   },
   "source": [
    "De acuerdo al criterio de Gini, qué características están aportando más información a la hora de dividir los nodos."
   ]
  },
  {
   "cell_type": "markdown",
   "metadata": {
    "id": "-vyaiI6-wmls"
   },
   "source": [
    "Calcula la accuracy del modelo:"
   ]
  },
  {
   "cell_type": "code",
   "execution_count": null,
   "metadata": {
    "id": "mpawM-aLreXt"
   },
   "outputs": [],
   "source": []
  },
  {
   "cell_type": "markdown",
   "metadata": {
    "id": "SDUlr7u0wkca"
   },
   "source": [
    "En términos de accuracy, ¿Es un buen modelo? Razona la respuesta"
   ]
  },
  {
   "cell_type": "markdown",
   "metadata": {
    "id": "_hQZJqWP-8lc"
   },
   "source": [
    "Obtén la matriz de confusión"
   ]
  },
  {
   "cell_type": "markdown",
   "metadata": {
    "id": "2-RtdE55BtqR"
   },
   "source": [
    "## 7.- Support Vector Machines (SVMs) (0,75 pts)"
   ]
  },
  {
   "cell_type": "markdown",
   "metadata": {
    "id": "Hyj9FMsbCNa4"
   },
   "source": [
    "Entrena un SVM lineal y calcula la accuracy del modelo."
   ]
  },
  {
   "cell_type": "code",
   "execution_count": null,
   "metadata": {
    "id": "ZxNp7SwBB29p"
   },
   "outputs": [],
   "source": []
  },
  {
   "cell_type": "markdown",
   "metadata": {
    "id": "sfibWpULGYdR"
   },
   "source": [
    "Respecto a los modelos anteriores, ¿ha mejorado o empeorado? ¿a qué puede ser debido?"
   ]
  },
  {
   "cell_type": "markdown",
   "metadata": {
    "id": "oh7MXobjG0cl"
   },
   "source": [
    "Utiliza un clasificador SVM que logre mejorar los resultados de accuracy anteriores. ¿Qué parámetro(s) has evaluado para mejorar el modelo?"
   ]
  },
  {
   "cell_type": "code",
   "execution_count": null,
   "metadata": {
    "id": "w8XGNnpyFZdp"
   },
   "outputs": [],
   "source": []
  }
 ],
 "metadata": {
  "colab": {
   "provenance": []
  },
  "kernelspec": {
   "display_name": "Python 3 (ipykernel)",
   "language": "python",
   "name": "python3"
  },
  "language_info": {
   "codemirror_mode": {
    "name": "ipython",
    "version": 3
   },
   "file_extension": ".py",
   "mimetype": "text/x-python",
   "name": "python",
   "nbconvert_exporter": "python",
   "pygments_lexer": "ipython3",
   "version": "3.11.5"
  }
 },
 "nbformat": 4,
 "nbformat_minor": 4
}
