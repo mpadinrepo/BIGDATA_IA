{
 "cells": [
  {
   "cell_type": "markdown",
   "metadata": {
    "collapsed": false,
    "id": "FopVNGjPJtS9",
    "jupyter": {
     "outputs_hidden": false
    }
   },
   "source": [
    "# Linear Regression\n",
    "#### UD2. Aprendizaxe Supervisada\n",
    "#### MP. Sistemas de Aprendizaxe Automáticos\n",
    "#### IES de Teis (Vigo), Cristina Gómez Alonso\n",
    "\n",
    "En estadística, **la regresión lineal es un enfoque lineal para modelar la relación entre una variable dependiente escalar y y una o más variables explicativas (o variables independientes) denominadas X**. El caso de una variable explicativa se denomina **regresión lineal simple o univariable**. Para más de una variable explicativa, el proceso se denomina **regresión lineal múltiple**.\n",
    "Los modelos de regresión lineal a menudo se ajustan/entrenan utilizando la aproximación de mínimos cuadrados, pero también se pueden ajustar de otras maneras, como minimizando la \"falta de ajuste\" en alguna otra norma (como en la regresión de mínimas desviaciones absolutas), o minimizando una penalización de la función de pérdida por mínimos cuadrados como en la ridge regression y lasso.\n",
    "Tener en cuenta, que la aproximación de mínimos cuadrados se puede utilizar para ajustar modelos que no sean modelos lineales. Así, aunque los términos “mínimos cuadrados” y “modelo lineal” están estrechamente vinculados, no son sinónimos.\n",
    "En este notebook volveremos a utilizar el notebook de estimación de precios que vimos en el notebook de Exploratory Data Analysis. Tenéis todos los detalles en  la web de [kaggle](https://www.kaggle.com/camnugent/california-housing-prices)"
   ]
  },
  {
   "cell_type": "markdown",
   "metadata": {
    "collapsed": false,
    "id": "8DiWkJiEJtTD",
    "jupyter": {
     "outputs_hidden": false
    }
   },
   "source": [
    "## 1. Importación de paquetes y dataset"
   ]
  },
  {
   "cell_type": "code",
   "execution_count": 11,
   "metadata": {
    "colab": {
     "base_uri": "https://localhost:8080/",
     "height": 382
    },
    "executionInfo": {
     "elapsed": 324,
     "status": "error",
     "timestamp": 1678227621422,
     "user": {
      "displayName": "Ernesto Frías Nores",
      "userId": "04050836756016798788"
     },
     "user_tz": -60
    },
    "id": "sjRpBuIGJtTE",
    "outputId": "f2ca5036-1397-48f6-e69c-14641d160f42"
   },
   "outputs": [
    {
     "data": {
      "text/html": [
       "<div>\n",
       "<style scoped>\n",
       "    .dataframe tbody tr th:only-of-type {\n",
       "        vertical-align: middle;\n",
       "    }\n",
       "\n",
       "    .dataframe tbody tr th {\n",
       "        vertical-align: top;\n",
       "    }\n",
       "\n",
       "    .dataframe thead th {\n",
       "        text-align: right;\n",
       "    }\n",
       "</style>\n",
       "<table border=\"1\" class=\"dataframe\">\n",
       "  <thead>\n",
       "    <tr style=\"text-align: right;\">\n",
       "      <th></th>\n",
       "      <th>longitude</th>\n",
       "      <th>latitude</th>\n",
       "      <th>housing_median_age</th>\n",
       "      <th>total_rooms</th>\n",
       "      <th>total_bedrooms</th>\n",
       "      <th>population</th>\n",
       "      <th>households</th>\n",
       "      <th>median_income</th>\n",
       "      <th>ocean_proximity</th>\n",
       "      <th>median_house_value</th>\n",
       "    </tr>\n",
       "  </thead>\n",
       "  <tbody>\n",
       "    <tr>\n",
       "      <th>0</th>\n",
       "      <td>-122.23</td>\n",
       "      <td>37.88</td>\n",
       "      <td>41</td>\n",
       "      <td>880</td>\n",
       "      <td>129.0</td>\n",
       "      <td>322</td>\n",
       "      <td>126</td>\n",
       "      <td>8.3252</td>\n",
       "      <td>NEAR BAY</td>\n",
       "      <td>452600</td>\n",
       "    </tr>\n",
       "    <tr>\n",
       "      <th>1</th>\n",
       "      <td>-122.22</td>\n",
       "      <td>37.86</td>\n",
       "      <td>21</td>\n",
       "      <td>7099</td>\n",
       "      <td>1106.0</td>\n",
       "      <td>2401</td>\n",
       "      <td>1138</td>\n",
       "      <td>8.3014</td>\n",
       "      <td>NEAR BAY</td>\n",
       "      <td>358500</td>\n",
       "    </tr>\n",
       "    <tr>\n",
       "      <th>2</th>\n",
       "      <td>-122.24</td>\n",
       "      <td>37.85</td>\n",
       "      <td>52</td>\n",
       "      <td>1467</td>\n",
       "      <td>190.0</td>\n",
       "      <td>496</td>\n",
       "      <td>177</td>\n",
       "      <td>7.2574</td>\n",
       "      <td>NEAR BAY</td>\n",
       "      <td>352100</td>\n",
       "    </tr>\n",
       "    <tr>\n",
       "      <th>3</th>\n",
       "      <td>-122.25</td>\n",
       "      <td>37.85</td>\n",
       "      <td>52</td>\n",
       "      <td>1274</td>\n",
       "      <td>235.0</td>\n",
       "      <td>558</td>\n",
       "      <td>219</td>\n",
       "      <td>5.6431</td>\n",
       "      <td>NEAR BAY</td>\n",
       "      <td>341300</td>\n",
       "    </tr>\n",
       "    <tr>\n",
       "      <th>4</th>\n",
       "      <td>-122.25</td>\n",
       "      <td>37.85</td>\n",
       "      <td>52</td>\n",
       "      <td>1627</td>\n",
       "      <td>280.0</td>\n",
       "      <td>565</td>\n",
       "      <td>259</td>\n",
       "      <td>3.8462</td>\n",
       "      <td>NEAR BAY</td>\n",
       "      <td>342200</td>\n",
       "    </tr>\n",
       "  </tbody>\n",
       "</table>\n",
       "</div>"
      ],
      "text/plain": [
       "   longitude  latitude  housing_median_age  total_rooms  total_bedrooms  \\\n",
       "0    -122.23     37.88                  41          880           129.0   \n",
       "1    -122.22     37.86                  21         7099          1106.0   \n",
       "2    -122.24     37.85                  52         1467           190.0   \n",
       "3    -122.25     37.85                  52         1274           235.0   \n",
       "4    -122.25     37.85                  52         1627           280.0   \n",
       "\n",
       "   population  households  median_income ocean_proximity  median_house_value  \n",
       "0         322         126         8.3252        NEAR BAY              452600  \n",
       "1        2401        1138         8.3014        NEAR BAY              358500  \n",
       "2         496         177         7.2574        NEAR BAY              352100  \n",
       "3         558         219         5.6431        NEAR BAY              341300  \n",
       "4         565         259         3.8462        NEAR BAY              342200  "
      ]
     },
     "execution_count": 11,
     "metadata": {},
     "output_type": "execute_result"
    }
   ],
   "source": [
    "# Estas son las bibliotecas necesarias para la manipulación de datos en el ejercicio\n",
    "import numpy as np\n",
    "import pandas as pd\n",
    "import matplotlib.pyplot as plt\n",
    "import seaborn as sns\n",
    "\n",
    "# Cargar los datos, fichero “housing.csv”\n",
    "df = pd.read_csv(\"housing.csv\")\n",
    "df.head()"
   ]
  },
  {
   "cell_type": "markdown",
   "metadata": {
    "collapsed": false,
    "id": "jIVdB4s0JtTH",
    "jupyter": {
     "outputs_hidden": false
    }
   },
   "source": [
    "## 2. EDA y Visual EDA"
   ]
  },
  {
   "cell_type": "code",
   "execution_count": null,
   "metadata": {
    "id": "W2pCFfdUJtTI",
    "outputId": "4aaf8b7f-faa7-47b2-ed4f-8b6027f6d5e8"
   },
   "outputs": [],
   "source": [
    "# Visualización preliminar de los datos. Mostrar las primeras filas del dataframe\n",
    "df.head()"
   ]
  },
  {
   "cell_type": "code",
   "execution_count": null,
   "metadata": {
    "id": "Ze9uGfl0JtTJ",
    "outputId": "360a25d7-ed13-4b2f-a691-b06c4dc8df9e"
   },
   "outputs": [],
   "source": [
    "# Comprobar la información del dataframe cargado\n",
    "df.info()"
   ]
  },
  {
   "cell_type": "code",
   "execution_count": null,
   "metadata": {
    "id": "L6uDVuldJtTK",
    "outputId": "934e6ad1-cb71-4f17-a3cd-b726c2141bfa"
   },
   "outputs": [],
   "source": [
    "# Comprobar si existen valores nulos o faltan\n",
    "df.isnull().sum()"
   ]
  },
  {
   "cell_type": "code",
   "execution_count": null,
   "metadata": {
    "id": "j77tJBf7JtTL",
    "outputId": "d38cf5f3-3ef7-409b-e16b-a302c090028f"
   },
   "outputs": [],
   "source": [
    "# Primera aproximación estadística de los datos de que disponemos\n",
    "# Visualiza los parámetros estadíscos tipo de cada columna del dataframe:\n",
    "# - Número de datos\n",
    "# - Madia\n",
    "# - Desviación estándar\n",
    "# - Valor máximo\n",
    "# - Valor mínimo\n",
    "# - Percentiles\n",
    "df.describe(percentiles=[0.1,0.25,0.5,0.75,0.9])"
   ]
  },
  {
   "cell_type": "code",
   "execution_count": null,
   "metadata": {
    "id": "yoO-mxDeJtTM",
    "outputId": "28d5340e-5e71-4a5a-b85c-c06291717e50"
   },
   "outputs": [],
   "source": [
    "# Listar columnas del dataframe\n",
    "\n",
    "df.columns"
   ]
  },
  {
   "cell_type": "code",
   "execution_count": null,
   "metadata": {
    "id": "J8JM2-1OJtTN",
    "outputId": "c21f367e-1622-4307-e0d3-396cdf70b30e"
   },
   "outputs": [],
   "source": [
    "#Mostrar gráficamente relaciones entre columnas numéricas\n",
    "sns.pairplot(df)"
   ]
  },
  {
   "cell_type": "code",
   "execution_count": null,
   "metadata": {
    "id": "zg1BO51uJtTO",
    "outputId": "868ffb3c-7efc-4e2c-ba4f-a49385a55f02"
   },
   "outputs": [],
   "source": [
    "df['median_house_value'].plot.hist(bins=25,figsize=(8,4))"
   ]
  },
  {
   "cell_type": "code",
   "execution_count": null,
   "metadata": {
    "id": "afW64NfwJtTP",
    "outputId": "a6775d64-6617-4457-aa80-972a7a4e694c"
   },
   "outputs": [],
   "source": [
    "df['median_house_value'].plot.density()"
   ]
  },
  {
   "cell_type": "code",
   "execution_count": null,
   "metadata": {
    "id": "Xgx9ACBRJtTQ",
    "outputId": "23de9571-faa9-475c-ce79-ac5873256baa"
   },
   "outputs": [],
   "source": [
    "df.corr()"
   ]
  },
  {
   "cell_type": "code",
   "execution_count": null,
   "metadata": {
    "id": "jz95ANhLJtTQ",
    "outputId": "7971df08-9786-4788-84cb-edb9a528867c"
   },
   "outputs": [],
   "source": [
    "plt.figure(figsize=(10,7))\n",
    "sns.heatmap(df.corr(),annot=True,linewidths=2)"
   ]
  },
  {
   "cell_type": "markdown",
   "metadata": {
    "collapsed": false,
    "id": "fn6dOGabJtTR",
    "jupyter": {
     "outputs_hidden": false
    }
   },
   "source": [
    "## 3. Preprocessing"
   ]
  },
  {
   "cell_type": "code",
   "execution_count": null,
   "metadata": {
    "id": "JznifOduJtTS",
    "outputId": "d0eec95a-22e1-4ce3-ec2d-71d5ccaeeea8"
   },
   "outputs": [],
   "source": [
    "# Estrategias de acción ante posibles valores nulos o NaN\n",
    "# (1) Eliminarlos del conjunto de datos\n",
    "# (2) Rellenar esos valores con el valor medio del resto de valores de la columna\n",
    "# (3) Rellenar esos valores con el valor más común en la columna (moda)\n",
    "# (4) Otra estrategia en función del conocimiento del negocio, bbdd, etc.\n",
    "\n",
    "# En este caso, vamos a elegir la estrategia (1)\n",
    "# Vamos rellenar los valores no existentes con al valor medio de su columna\n",
    "df['total_bedrooms'].fillna(df['total_bedrooms'].mean())"
   ]
  },
  {
   "cell_type": "code",
   "execution_count": null,
   "metadata": {
    "id": "GeM-DSSbJtTT",
    "outputId": "26202a9b-d8f1-40de-c20d-6a4c81332ddc"
   },
   "outputs": [],
   "source": [
    "# Tratamiento de las variables categóricas\n",
    "# Convertir las variables categóricas a numéricas\n",
    "# Si solo es una columna:\n",
    "from sklearn.preprocessing import LabelEncoder\n",
    "class_label_encoder = LabelEncoder()\n",
    "df['ocean_proximity'] = class_label_encoder.fit_transform(df['ocean_proximity'].values)\n",
    "# Si tenemos múltiples columnas, haríamos:\n",
    "from sklearn.preprocessing import LabelEncoder\n",
    "df=df.apply(LabelEncoder().fit_transform)\n",
    "df.head()"
   ]
  },
  {
   "cell_type": "markdown",
   "metadata": {
    "collapsed": false,
    "id": "ItKPPclEJtTU",
    "jupyter": {
     "outputs_hidden": false
    }
   },
   "source": [
    "## 4. División del dataset\n",
    "\n",
    "Ponemos todas las características numéricas en X y el precio(median_house_value) en y."
   ]
  },
  {
   "cell_type": "code",
   "execution_count": null,
   "metadata": {
    "id": "vjqttjSIJtTW",
    "outputId": "abb9b2c8-3318-49e6-d89e-9b6e8cf7d3fc"
   },
   "outputs": [],
   "source": [
    "# Separar las variables (X) y las etiquetas (y) del conjunto de datos\n",
    "X = df.iloc[:, :-1].values\n",
    "# Separar la etiqueta (y) median_house_value\n",
    "y = df.iloc[:, [-1]].values\n",
    "print(\"Feature set size:\",X.shape)\n",
    "print(\"Variable set size:\",y.shape)\n"
   ]
  },
  {
   "cell_type": "code",
   "execution_count": null,
   "metadata": {
    "id": "Qz3iNLPvJtTX"
   },
   "outputs": [],
   "source": [
    "#Otra alternativa equivalente a lo anterior si no queremos utilizar iloc también podemos acceder por columnas\n",
    "#l_column = list(df.columns) # Making a list out of column names\n",
    "#len_feature = len(l_column) # Length of column vector list\n",
    "#l_column\n",
    "#X = df[l_column[0:len_feature-1]]\n",
    "#y = df[l_column[len_feature-1]]\n",
    "#print(\"Feature set size:\",X.shape)\n",
    "#print(\"Variable set size:\",y.shape)\n",
    "#X.head()\n",
    "#y.head()"
   ]
  },
  {
   "cell_type": "markdown",
   "metadata": {
    "collapsed": false,
    "id": "AOuSA97yJtTX",
    "jupyter": {
     "outputs_hidden": false
    }
   },
   "source": [
    "Dividimos el dataset en 4 grupos:"
   ]
  },
  {
   "cell_type": "code",
   "execution_count": null,
   "metadata": {
    "id": "1WI9uzH5JtTY"
   },
   "outputs": [],
   "source": [
    "from sklearn.model_selection import train_test_split\n",
    "X_train, X_test, y_train, y_test = train_test_split(X, y, test_size=0.2, random_state=0)"
   ]
  },
  {
   "cell_type": "markdown",
   "metadata": {
    "collapsed": false,
    "id": "PKsXvqpmJtTY",
    "jupyter": {
     "outputs_hidden": false
    }
   },
   "source": [
    "Verificamos las divisiones train/test (deben estar en la proporción según el parámetro test_size anterior)"
   ]
  },
  {
   "cell_type": "code",
   "execution_count": null,
   "metadata": {
    "id": "5OJxROYFJtTY",
    "outputId": "b77877c0-d057-4f2a-ec67-6e7d6ce0cb30"
   },
   "outputs": [],
   "source": [
    "print(\"Training feature set size:\",X_train.shape)\n",
    "print(\"Test feature set size:\",X_test.shape)\n",
    "print(\"Training variable set size:\",y_train.shape)\n",
    "print(\"Test variable set size:\",y_test.shape)"
   ]
  },
  {
   "cell_type": "markdown",
   "metadata": {
    "collapsed": false,
    "id": "zreJGN74JtTZ",
    "jupyter": {
     "outputs_hidden": false
    }
   },
   "source": [
    "## 5. Estandarización de los datos"
   ]
  },
  {
   "cell_type": "code",
   "execution_count": null,
   "metadata": {
    "id": "KVFTGM3nJtTa"
   },
   "outputs": [],
   "source": [
    "# La estandarización de los datos es importante, como parte del preproceso\n",
    "# y limpieza de los y antes de haber sido usados en la elaboración del modelo.\n",
    "from sklearn.preprocessing import StandardScaler\n",
    "\n",
    "scaler = StandardScaler()\n",
    "X_train = scaler.fit_transform(X_train)\n",
    "X_test = scaler.transform(X_test)\n",
    "y_train = scaler.fit_transform(y_train)\n",
    "y_test = scaler.transform(y_test)"
   ]
  },
  {
   "cell_type": "markdown",
   "metadata": {
    "collapsed": false,
    "id": "C9ybfgXzJtTa",
    "jupyter": {
     "outputs_hidden": false
    }
   },
   "source": [
    "## 6. Creación del modelo Linear Regression"
   ]
  },
  {
   "cell_type": "code",
   "execution_count": null,
   "metadata": {
    "id": "wBp8XoKjJtTa"
   },
   "outputs": [],
   "source": [
    "from sklearn.linear_model import LinearRegression\n",
    "lm = LinearRegression()"
   ]
  },
  {
   "cell_type": "markdown",
   "metadata": {
    "collapsed": false,
    "id": "EHwSoVxeJtTb",
    "jupyter": {
     "outputs_hidden": false
    }
   },
   "source": [
    "## 7. Entrenamiento"
   ]
  },
  {
   "cell_type": "code",
   "execution_count": null,
   "metadata": {
    "id": "DW04KHz5JtTb",
    "outputId": "27729da7-09f7-4547-c221-6a0d443796f7"
   },
   "outputs": [],
   "source": [
    "lm.fit(X_train,y_train)"
   ]
  },
  {
   "cell_type": "code",
   "execution_count": null,
   "metadata": {
    "id": "oN8sjjtJJtTb",
    "outputId": "ec8dfe14-ed17-4f52-d33a-33accebef6ee"
   },
   "outputs": [],
   "source": [
    "print(\"The intercept term of the linear model:\", lm.intercept_)"
   ]
  },
  {
   "cell_type": "code",
   "execution_count": null,
   "metadata": {
    "id": "UUMT_sIQJtTc",
    "outputId": "a4403e4e-d7c2-4de0-b716-859dd7469484"
   },
   "outputs": [],
   "source": [
    "print(\"The coefficients of the linear model:\", lm.coef_)"
   ]
  },
  {
   "cell_type": "code",
   "execution_count": null,
   "metadata": {
    "id": "zFl9-ecfJtTd"
   },
   "outputs": [],
   "source": [
    "#cdf = pd.DataFrame(data=lm.coef_, index=X_train.columns, columns=[\"Coefficients\"])\n",
    "#cdf"
   ]
  },
  {
   "cell_type": "markdown",
   "metadata": {
    "collapsed": false,
    "id": "q2zMLScuJtTd",
    "jupyter": {
     "outputs_hidden": false
    }
   },
   "source": [
    "## 8. Predicción"
   ]
  },
  {
   "cell_type": "code",
   "execution_count": null,
   "metadata": {
    "id": "9EpyerlqJtTe",
    "outputId": "2d0a6356-f979-4e9b-ed46-21938aaaee75"
   },
   "outputs": [],
   "source": [
    "# Realizamos una predicción con el modelo de regresión lineal\n",
    "predictions = lm.predict(X_test)\n",
    "print (\"Type of the predicted object:\", type(predictions))\n",
    "print (\"Size of the predicted object:\", predictions.shape)"
   ]
  },
  {
   "cell_type": "markdown",
   "metadata": {
    "collapsed": false,
    "id": "3TTc_RNMJtTe",
    "jupyter": {
     "outputs_hidden": false
    }
   },
   "source": [
    "## 9. Cálculo de errores"
   ]
  },
  {
   "cell_type": "code",
   "execution_count": null,
   "metadata": {
    "id": "4jcmIC8oJtTe",
    "outputId": "6650a2a1-a4bb-435c-e487-6607778ed951"
   },
   "outputs": [],
   "source": [
    "#En la regresión linel nos fijaremos principalmente en el MSE Error Cuadrático Medio\n",
    "# Calcular el error cometido en la predicción mediante el uso de la raiz del error cuadrático medio\n",
    "\n",
    "\n",
    "from sklearn.metrics import mean_squared_error\n",
    "\n",
    "mseLinear = metrics.mean_squared_error(y_test,predictions)\n",
    "print('Error Cuadrático Medio (MSE) para el modelo de regresión linear = %.5f' % mseLinear)"
   ]
  },
  {
   "cell_type": "code",
   "execution_count": null,
   "metadata": {
    "id": "gFuFA5_jJtTf",
    "outputId": "1a233a19-3792-403f-8cd6-42326efc8748"
   },
   "outputs": [],
   "source": [
    "#También podemos mostrar otros errores\n",
    "from sklearn import metrics\n",
    "print(\"Mean absolute error (MAE):\", metrics.mean_absolute_error(y_test,predictions))\n",
    "print(\"Mean square error (MSE):\", metrics.mean_squared_error(y_test,predictions))\n",
    "print(\"Root mean square error (RMSE):\", np.sqrt(metrics.mean_squared_error(y_test,predictions)))\n",
    "print(\"R-squared value of predictions:\",round(metrics.r2_score(y_test,predictions),3))"
   ]
  },
  {
   "cell_type": "markdown",
   "metadata": {
    "collapsed": false,
    "id": "0uQjv0LAJtTf",
    "jupyter": {
     "outputs_hidden": false
    }
   },
   "source": [
    "## 10. Gráfico de puntos del precio predicho y el y_test"
   ]
  },
  {
   "cell_type": "code",
   "execution_count": null,
   "metadata": {
    "id": "sdIna8GBJtTg",
    "outputId": "94e46ed1-1fb7-4c0b-b406-16309f1b0fb2"
   },
   "outputs": [],
   "source": [
    "plt.figure(figsize=(10,7))\n",
    "plt.title(\"Actual vs. predicted house prices\",fontsize=25)\n",
    "plt.xlabel(\"Actual test set house prices\",fontsize=18)\n",
    "plt.ylabel(\"Predicted house prices\", fontsize=18)\n",
    "plt.scatter(x=y_test,y=predictions)"
   ]
  },
  {
   "cell_type": "markdown",
   "metadata": {
    "collapsed": false,
    "id": "3176GDhSJtTg",
    "jupyter": {
     "outputs_hidden": false
    }
   },
   "source": [
    "## 11. Regresión Lineal Univariable"
   ]
  },
  {
   "cell_type": "code",
   "execution_count": null,
   "metadata": {
    "id": "1vymnTFBJtTg",
    "outputId": "a3c09cc4-645b-45cf-abed-bffadd7871bb"
   },
   "outputs": [],
   "source": [
    "#Regresión lineal solo con la variable median_income\n",
    "\n",
    "X_train_median_income = X_train[: , [7]]\n",
    "X_test_median_income = X_test[: , [7]]\n",
    "\n",
    "# Construye un modelo de regresión lineal usando esta vez median_income como\n",
    "# variable independiente.\n",
    "from sklearn.linear_model import LinearRegression\n",
    "linearRegression2 = LinearRegression()\n",
    "\n",
    "# Entrenar el modelo anterior\n",
    "linearRegression2.fit(X_train_median_income, y_train)\n",
    "# Realiza la predicción con el modelo anterior\n",
    "predictionLinear2 = linearRegression2.predict(X_test_median_income)\n",
    "\n",
    "\n",
    "mseLinear2 = mean_squared_error(y_test, predictionLinear2)\n",
    "\n",
    "print(' Raíz del Error Cuadrático Medio (RMSE) para el modelo de regresión linear = %.5f' % mseLinear2)\n",
    "\n",
    "plt.scatter(X_train_median_income, y_train, color = 'green')\n",
    "# X = X_train_median_income\n",
    "# Y = linearRegression2.predict(X_train_median_income)\n",
    "plt.plot (X_train_median_income, linearRegression2.predict(X_train_median_income), color = 'red')\n",
    "\n",
    "plt.title ('Resultados entrenamiento - Ingreso medio / Valor medio de la vivienda')\n",
    "plt.xlabel('Ingreso medio')\n",
    "plt.ylabel('Valor medio vivienda')\n",
    "plt.show()"
   ]
  },
  {
   "cell_type": "markdown",
   "metadata": {
    "collapsed": false,
    "id": "HUBP_6i6JtTh",
    "jupyter": {
     "outputs_hidden": false
    }
   },
   "source": [
    "### *Ejercicio: Alturas*\n",
    "\n",
    "Con el dataset heights.csv (altura de padres e hijos):\n",
    "\n",
    "1. Crea un dataframe de pandas con la información del dataset."
   ]
  },
  {
   "cell_type": "code",
   "execution_count": null,
   "metadata": {
    "id": "7LAST2HrJtTh"
   },
   "outputs": [],
   "source": [
    "# Estas son las bibliotecas necesarias para la manipulación de datos en el ejercicio\n",
    "import numpy as np\n",
    "import pandas as pd\n",
    "import matplotlib.pyplot as plt\n",
    "import seaborn as sns\n",
    "\n",
    "# Cargar los datos, fichero “heights.csv”\n",
    "df = pd.read_csv(\"heights.csv\")\n"
   ]
  },
  {
   "cell_type": "markdown",
   "metadata": {
    "collapsed": false,
    "id": "D3xrPw86JtTi",
    "jupyter": {
     "outputs_hidden": false
    }
   },
   "source": [
    "2. Muestra la información del dataset y un gráfico que relacione ambos datos."
   ]
  },
  {
   "cell_type": "code",
   "execution_count": 3,
   "metadata": {
    "id": "M5rWXfKFJtTi"
   },
   "outputs": [
    {
     "data": {
      "text/html": [
       "<div>\n",
       "<style scoped>\n",
       "    .dataframe tbody tr th:only-of-type {\n",
       "        vertical-align: middle;\n",
       "    }\n",
       "\n",
       "    .dataframe tbody tr th {\n",
       "        vertical-align: top;\n",
       "    }\n",
       "\n",
       "    .dataframe thead th {\n",
       "        text-align: right;\n",
       "    }\n",
       "</style>\n",
       "<table border=\"1\" class=\"dataframe\">\n",
       "  <thead>\n",
       "    <tr style=\"text-align: right;\">\n",
       "      <th></th>\n",
       "      <th>Father</th>\n",
       "      <th>Son</th>\n",
       "    </tr>\n",
       "  </thead>\n",
       "  <tbody>\n",
       "    <tr>\n",
       "      <th>0</th>\n",
       "      <td>165.100</td>\n",
       "      <td>151.892</td>\n",
       "    </tr>\n",
       "    <tr>\n",
       "      <th>1</th>\n",
       "      <td>160.782</td>\n",
       "      <td>160.528</td>\n",
       "    </tr>\n",
       "    <tr>\n",
       "      <th>2</th>\n",
       "      <td>165.100</td>\n",
       "      <td>160.782</td>\n",
       "    </tr>\n",
       "    <tr>\n",
       "      <th>3</th>\n",
       "      <td>167.132</td>\n",
       "      <td>159.512</td>\n",
       "    </tr>\n",
       "    <tr>\n",
       "      <th>4</th>\n",
       "      <td>155.194</td>\n",
       "      <td>163.322</td>\n",
       "    </tr>\n",
       "  </tbody>\n",
       "</table>\n",
       "</div>"
      ],
      "text/plain": [
       "    Father      Son\n",
       "0  165.100  151.892\n",
       "1  160.782  160.528\n",
       "2  165.100  160.782\n",
       "3  167.132  159.512\n",
       "4  155.194  163.322"
      ]
     },
     "execution_count": 3,
     "metadata": {},
     "output_type": "execute_result"
    }
   ],
   "source": [
    "df = pd.read_csv(\"heights.csv\")\n",
    "df.head()"
   ]
  },
  {
   "cell_type": "code",
   "execution_count": 4,
   "metadata": {},
   "outputs": [
    {
     "name": "stdout",
     "output_type": "stream",
     "text": [
      "<class 'pandas.core.frame.DataFrame'>\n",
      "RangeIndex: 1078 entries, 0 to 1077\n",
      "Data columns (total 2 columns):\n",
      " #   Column  Non-Null Count  Dtype  \n",
      "---  ------  --------------  -----  \n",
      " 0   Father  1078 non-null   float64\n",
      " 1   Son     1078 non-null   float64\n",
      "dtypes: float64(2)\n",
      "memory usage: 17.0 KB\n"
     ]
    }
   ],
   "source": [
    "# Comprobar la información del dataframe cargado\n",
    "df.info()"
   ]
  },
  {
   "cell_type": "markdown",
   "metadata": {},
   "source": [
    "# Comprobar si existen valores nulos o faltan\n"
   ]
  },
  {
   "cell_type": "code",
   "execution_count": 5,
   "metadata": {},
   "outputs": [
    {
     "data": {
      "text/plain": [
       "Father    0\n",
       "Son       0\n",
       "dtype: int64"
      ]
     },
     "execution_count": 5,
     "metadata": {},
     "output_type": "execute_result"
    }
   ],
   "source": [
    "# Comprobar si existen valores nulos o faltan\n",
    "df.isnull().sum()"
   ]
  },
  {
   "cell_type": "markdown",
   "metadata": {},
   "source": [
    "# Primera aproximación estadística de los datos de que disponemos\n",
    "# Visualiza los parámetros estadíscos tipo de cada columna del dataframe:\n",
    "# - Número de datos\n",
    "# - Madia\n",
    "# - Desviación estándar\n",
    "# - Valor máximo\n",
    "# - Valor mínimo\n",
    "# - Percentiles"
   ]
  },
  {
   "cell_type": "code",
   "execution_count": 6,
   "metadata": {},
   "outputs": [
    {
     "data": {
      "text/html": [
       "<div>\n",
       "<style scoped>\n",
       "    .dataframe tbody tr th:only-of-type {\n",
       "        vertical-align: middle;\n",
       "    }\n",
       "\n",
       "    .dataframe tbody tr th {\n",
       "        vertical-align: top;\n",
       "    }\n",
       "\n",
       "    .dataframe thead th {\n",
       "        text-align: right;\n",
       "    }\n",
       "</style>\n",
       "<table border=\"1\" class=\"dataframe\">\n",
       "  <thead>\n",
       "    <tr style=\"text-align: right;\">\n",
       "      <th></th>\n",
       "      <th>Father</th>\n",
       "      <th>Son</th>\n",
       "    </tr>\n",
       "  </thead>\n",
       "  <tbody>\n",
       "    <tr>\n",
       "      <th>count</th>\n",
       "      <td>1078.000000</td>\n",
       "      <td>1078.000000</td>\n",
       "    </tr>\n",
       "    <tr>\n",
       "      <th>mean</th>\n",
       "      <td>171.924542</td>\n",
       "      <td>174.457944</td>\n",
       "    </tr>\n",
       "    <tr>\n",
       "      <th>std</th>\n",
       "      <td>6.974401</td>\n",
       "      <td>7.153133</td>\n",
       "    </tr>\n",
       "    <tr>\n",
       "      <th>min</th>\n",
       "      <td>149.860000</td>\n",
       "      <td>148.590000</td>\n",
       "    </tr>\n",
       "    <tr>\n",
       "      <th>10%</th>\n",
       "      <td>163.322000</td>\n",
       "      <td>165.608000</td>\n",
       "    </tr>\n",
       "    <tr>\n",
       "      <th>25%</th>\n",
       "      <td>167.132000</td>\n",
       "      <td>169.926000</td>\n",
       "    </tr>\n",
       "    <tr>\n",
       "      <th>50%</th>\n",
       "      <td>172.212000</td>\n",
       "      <td>174.244000</td>\n",
       "    </tr>\n",
       "    <tr>\n",
       "      <th>75%</th>\n",
       "      <td>176.784000</td>\n",
       "      <td>179.070000</td>\n",
       "    </tr>\n",
       "    <tr>\n",
       "      <th>90%</th>\n",
       "      <td>181.102000</td>\n",
       "      <td>183.464200</td>\n",
       "    </tr>\n",
       "    <tr>\n",
       "      <th>max</th>\n",
       "      <td>191.516000</td>\n",
       "      <td>199.136000</td>\n",
       "    </tr>\n",
       "  </tbody>\n",
       "</table>\n",
       "</div>"
      ],
      "text/plain": [
       "            Father          Son\n",
       "count  1078.000000  1078.000000\n",
       "mean    171.924542   174.457944\n",
       "std       6.974401     7.153133\n",
       "min     149.860000   148.590000\n",
       "10%     163.322000   165.608000\n",
       "25%     167.132000   169.926000\n",
       "50%     172.212000   174.244000\n",
       "75%     176.784000   179.070000\n",
       "90%     181.102000   183.464200\n",
       "max     191.516000   199.136000"
      ]
     },
     "execution_count": 6,
     "metadata": {},
     "output_type": "execute_result"
    }
   ],
   "source": [
    "df.describe(percentiles=[0.1,0.25,0.5,0.75,0.9])"
   ]
  },
  {
   "cell_type": "code",
   "execution_count": 8,
   "metadata": {},
   "outputs": [
    {
     "data": {
      "text/plain": [
       "Index(['Father', 'Son'], dtype='object')"
      ]
     },
     "execution_count": 8,
     "metadata": {},
     "output_type": "execute_result"
    }
   ],
   "source": [
    "# Listar columnas del dataframe\n",
    "\n",
    "df.columns"
   ]
  },
  {
   "cell_type": "markdown",
   "metadata": {},
   "source": [
    "#Mostrar gráficamente relaciones entre columnas numéricas"
   ]
  },
  {
   "cell_type": "code",
   "execution_count": 9,
   "metadata": {},
   "outputs": [
    {
     "data": {
      "text/plain": [
       "<seaborn.axisgrid.PairGrid at 0x7f02466e9b50>"
      ]
     },
     "execution_count": 9,
     "metadata": {},
     "output_type": "execute_result"
    },
    {
     "data": {
      "image/png": "[encoded data removed]",
      "text/plain": [
       "<Figure size 500x500 with 6 Axes>"
      ]
     },
     "metadata": {},
     "output_type": "display_data"
    }
   ],
   "source": [
    "\n",
    "sns.pairplot(df)"
   ]
  },
  {
   "cell_type": "code",
   "execution_count": 10,
   "metadata": {},
   "outputs": [
    {
     "ename": "KeyError",
     "evalue": "'median_heights_value'",
     "output_type": "error",
     "traceback": [
      "\u001b[0;31m---------------------------------------------------------------------------\u001b[0m",
      "\u001b[0;31mKeyError\u001b[0m                                  Traceback (most recent call last)",
      "File \u001b[0;32m~/.local/lib/python3.8/site-packages/pandas/core/indexes/base.py:3653\u001b[0m, in \u001b[0;36mIndex.get_loc\u001b[0;34m(self, key)\u001b[0m\n\u001b[1;32m   3652\u001b[0m \u001b[38;5;28;01mtry\u001b[39;00m:\n\u001b[0;32m-> 3653\u001b[0m     \u001b[38;5;28;01mreturn\u001b[39;00m \u001b[38;5;28;43mself\u001b[39;49m\u001b[38;5;241;43m.\u001b[39;49m\u001b[43m_engine\u001b[49m\u001b[38;5;241;43m.\u001b[39;49m\u001b[43mget_loc\u001b[49m\u001b[43m(\u001b[49m\u001b[43mcasted_key\u001b[49m\u001b[43m)\u001b[49m\n\u001b[1;32m   3654\u001b[0m \u001b[38;5;28;01mexcept\u001b[39;00m \u001b[38;5;167;01mKeyError\u001b[39;00m \u001b[38;5;28;01mas\u001b[39;00m err:\n",
      "File \u001b[0;32m~/.local/lib/python3.8/site-packages/pandas/_libs/index.pyx:147\u001b[0m, in \u001b[0;36mpandas._libs.index.IndexEngine.get_loc\u001b[0;34m()\u001b[0m\n",
      "File \u001b[0;32m~/.local/lib/python3.8/site-packages/pandas/_libs/index.pyx:176\u001b[0m, in \u001b[0;36mpandas._libs.index.IndexEngine.get_loc\u001b[0;34m()\u001b[0m\n",
      "File \u001b[0;32mpandas/_libs/hashtable_class_helper.pxi:7080\u001b[0m, in \u001b[0;36mpandas._libs.hashtable.PyObjectHashTable.get_item\u001b[0;34m()\u001b[0m\n",
      "File \u001b[0;32mpandas/_libs/hashtable_class_helper.pxi:7088\u001b[0m, in \u001b[0;36mpandas._libs.hashtable.PyObjectHashTable.get_item\u001b[0;34m()\u001b[0m\n",
      "\u001b[0;31mKeyError\u001b[0m: 'median_heights_value'",
      "\nThe above exception was the direct cause of the following exception:\n",
      "\u001b[0;31mKeyError\u001b[0m                                  Traceback (most recent call last)",
      "Cell \u001b[0;32mIn[10], line 1\u001b[0m\n\u001b[0;32m----> 1\u001b[0m \u001b[43mdf\u001b[49m\u001b[43m[\u001b[49m\u001b[38;5;124;43m'\u001b[39;49m\u001b[38;5;124;43mmedian_heights_value\u001b[39;49m\u001b[38;5;124;43m'\u001b[39;49m\u001b[43m]\u001b[49m\u001b[38;5;241m.\u001b[39mplot\u001b[38;5;241m.\u001b[39mdensity()\n",
      "File \u001b[0;32m~/.local/lib/python3.8/site-packages/pandas/core/frame.py:3761\u001b[0m, in \u001b[0;36mDataFrame.__getitem__\u001b[0;34m(self, key)\u001b[0m\n\u001b[1;32m   3759\u001b[0m \u001b[38;5;28;01mif\u001b[39;00m \u001b[38;5;28mself\u001b[39m\u001b[38;5;241m.\u001b[39mcolumns\u001b[38;5;241m.\u001b[39mnlevels \u001b[38;5;241m>\u001b[39m \u001b[38;5;241m1\u001b[39m:\n\u001b[1;32m   3760\u001b[0m     \u001b[38;5;28;01mreturn\u001b[39;00m \u001b[38;5;28mself\u001b[39m\u001b[38;5;241m.\u001b[39m_getitem_multilevel(key)\n\u001b[0;32m-> 3761\u001b[0m indexer \u001b[38;5;241m=\u001b[39m \u001b[38;5;28;43mself\u001b[39;49m\u001b[38;5;241;43m.\u001b[39;49m\u001b[43mcolumns\u001b[49m\u001b[38;5;241;43m.\u001b[39;49m\u001b[43mget_loc\u001b[49m\u001b[43m(\u001b[49m\u001b[43mkey\u001b[49m\u001b[43m)\u001b[49m\n\u001b[1;32m   3762\u001b[0m \u001b[38;5;28;01mif\u001b[39;00m is_integer(indexer):\n\u001b[1;32m   3763\u001b[0m     indexer \u001b[38;5;241m=\u001b[39m [indexer]\n",
      "File \u001b[0;32m~/.local/lib/python3.8/site-packages/pandas/core/indexes/base.py:3655\u001b[0m, in \u001b[0;36mIndex.get_loc\u001b[0;34m(self, key)\u001b[0m\n\u001b[1;32m   3653\u001b[0m     \u001b[38;5;28;01mreturn\u001b[39;00m \u001b[38;5;28mself\u001b[39m\u001b[38;5;241m.\u001b[39m_engine\u001b[38;5;241m.\u001b[39mget_loc(casted_key)\n\u001b[1;32m   3654\u001b[0m \u001b[38;5;28;01mexcept\u001b[39;00m \u001b[38;5;167;01mKeyError\u001b[39;00m \u001b[38;5;28;01mas\u001b[39;00m err:\n\u001b[0;32m-> 3655\u001b[0m     \u001b[38;5;28;01mraise\u001b[39;00m \u001b[38;5;167;01mKeyError\u001b[39;00m(key) \u001b[38;5;28;01mfrom\u001b[39;00m \u001b[38;5;21;01merr\u001b[39;00m\n\u001b[1;32m   3656\u001b[0m \u001b[38;5;28;01mexcept\u001b[39;00m \u001b[38;5;167;01mTypeError\u001b[39;00m:\n\u001b[1;32m   3657\u001b[0m     \u001b[38;5;66;03m# If we have a listlike key, _check_indexing_error will raise\u001b[39;00m\n\u001b[1;32m   3658\u001b[0m     \u001b[38;5;66;03m#  InvalidIndexError. Otherwise we fall through and re-raise\u001b[39;00m\n\u001b[1;32m   3659\u001b[0m     \u001b[38;5;66;03m#  the TypeError.\u001b[39;00m\n\u001b[1;32m   3660\u001b[0m     \u001b[38;5;28mself\u001b[39m\u001b[38;5;241m.\u001b[39m_check_indexing_error(key)\n",
      "\u001b[0;31mKeyError\u001b[0m: 'median_heights_value'"
     ]
    }
   ],
   "source": [
    "df['median_heights_value'].plot.density()"
   ]
  },
  {
   "cell_type": "markdown",
   "metadata": {
    "collapsed": false,
    "id": "Nu8deb5kJtTi",
    "jupyter": {
     "outputs_hidden": false
    }
   },
   "source": [
    "3. Separa el dataframe en 4 grupos: X_train (característica de entrenamiento: altura de los padres), X_test (característica de test, 30% de las filas), y_train(etiqueta de entrenamiento: altura de los hijos), y_test(etiqueta de test)."
   ]
  },
  {
   "cell_type": "code",
   "execution_count": null,
   "metadata": {
    "id": "kOK10aByJtTi"
   },
   "outputs": [],
   "source": []
  },
  {
   "cell_type": "markdown",
   "metadata": {
    "collapsed": false,
    "id": "sDDnDxEhJtTj",
    "jupyter": {
     "outputs_hidden": false
    }
   },
   "source": [
    "4. Muestra el número de registros de cada grupo (entrenamiento y test)"
   ]
  },
  {
   "cell_type": "code",
   "execution_count": null,
   "metadata": {
    "id": "o20pHKo1JtTk"
   },
   "outputs": [],
   "source": []
  },
  {
   "cell_type": "markdown",
   "metadata": {
    "collapsed": false,
    "id": "nGW9D836JtTk",
    "jupyter": {
     "outputs_hidden": false
    }
   },
   "source": [
    "5. Entrena un modelo de regresión lineal con sklearn y muestra los coeficientes (constante y pendiente)."
   ]
  },
  {
   "cell_type": "code",
   "execution_count": null,
   "metadata": {
    "id": "Ua0v8-zMJtTk"
   },
   "outputs": [],
   "source": []
  },
  {
   "cell_type": "markdown",
   "metadata": {
    "collapsed": false,
    "id": "_KOq-uv7JtTl",
    "jupyter": {
     "outputs_hidden": false
    }
   },
   "source": [
    "6. MUestra un gráfico con los puntos y la recta de regresión."
   ]
  },
  {
   "cell_type": "code",
   "execution_count": null,
   "metadata": {
    "id": "zoh2kUZWJtTl"
   },
   "outputs": [],
   "source": []
  },
  {
   "cell_type": "markdown",
   "metadata": {
    "collapsed": false,
    "id": "StwEQRtLJtTm",
    "jupyter": {
     "outputs_hidden": false
    }
   },
   "source": [
    "7. Muestra las métricas de los datos de entrenamiento."
   ]
  },
  {
   "cell_type": "code",
   "execution_count": null,
   "metadata": {
    "id": "gn-lcx4DJtTm"
   },
   "outputs": [],
   "source": []
  },
  {
   "cell_type": "markdown",
   "metadata": {
    "collapsed": false,
    "id": "yDCKoP4jJtTm",
    "jupyter": {
     "outputs_hidden": false
    }
   },
   "source": [
    "8. Calcula las predicciones de los datos de test y muestra los valores de las diferentes métricas."
   ]
  },
  {
   "cell_type": "code",
   "execution_count": null,
   "metadata": {
    "id": "KMGk3krlJtTn"
   },
   "outputs": [],
   "source": []
  },
  {
   "cell_type": "markdown",
   "metadata": {
    "collapsed": false,
    "id": "qiOvkXW9JtTn",
    "jupyter": {
     "outputs_hidden": false
    }
   },
   "source": [
    "# Webgrafia\n",
    "\n",
    "\n",
    "[Curso de Cesar Guirò](https://cesguiro.es/doku.php?id=clase:ia:saa:start)\n",
    "[Curso de Luz Frías](https://github.com/koldLight/curso-python-analisis-datos)\n",
    "[Curso de Tirtjakupto Sarkar](https://github.com/tirthajyoti/Machine-Learning-with-Python)\n",
    "[DataCamp](https://www.datacamp.com/)\n"
   ]
  },
  {
   "cell_type": "markdown",
   "metadata": {
    "collapsed": false,
    "id": "PuTc8e4CJtTo",
    "jupyter": {
     "outputs_hidden": false
    }
   },
   "source": [
    "# Licencia\n",
    "\n",
    "[Attributon-ShacerAlike 4.0 International](https://creativecommons.org/licenses/by-sa/4.0/)\n",
    "\n",
    "Puedes utilizar libremente este material, con las siguientes condiciones:\n",
    "\n",
    "* Atribuir la autoría a este documento.\n",
    "* Si lo utilizas y haces cambios, deberás liberarlo también bajo la misma licencia."
   ]
  }
 ],
 "metadata": {
  "colab": {
   "provenance": []
  },
  "kernelspec": {
   "display_name": "Python 3 (ipykernel)",
   "language": "python",
   "name": "python3"
  },
  "language_info": {
   "codemirror_mode": {
    "name": "ipython",
    "version": 3
   },
   "file_extension": ".py",
   "mimetype": "text/x-python",
   "name": "python",
   "nbconvert_exporter": "python",
   "pygments_lexer": "ipython3",
   "version": "3.8.10"
  }
 },
 "nbformat": 4,
 "nbformat_minor": 4
}
