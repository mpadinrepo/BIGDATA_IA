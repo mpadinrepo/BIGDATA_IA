{
 "cells": [
  {
   "cell_type": "markdown",
   "metadata": {},
   "source": [
    "# Crear el directorio /user/hive/warehouse en HDFS\n",
    "hadoop fs -mkdir -p /user/hive/warehouse\n",
    "\n",
    "# Crear el directorio /tmp/hive en HDFS\n",
    "hadoop fs -mkdir -p /tmp/hive\n",
    "\n",
    "# Asignar permisos de escritura al grupo para el directorio /user/hive/warehouse en HDFS\n",
    "hadoop fs -chmod g+w /user/hive/warehouse\n",
    "\n",
    "# Asignar permisos de escritura al grupo para el directorio /tmp/hive en HDFS\n",
    "hadoop fs -chmod g+w /tmp/hive\n"
   ]
  },
  {
   "cell_type": "markdown",
   "metadata": {},
   "source": [
    "### Crear la estructura de carpetas en DFS_LOCAL\n",
    "\n",
    "```bash\n",
    "# Navegar al directorio donde queremos crear las carpetas\n",
    "cd ~/DFS_LOCAL\n",
    "\n",
    "# Crear las carpetas necesarias y asignar permisos\n",
    "mkdir -p practicas/{01,02,03,04,05}/{data/{raw,processed,external},scripts}\n",
    "chmod -R 755 practicas\n"
   ]
  },
  {
   "cell_type": "markdown",
   "metadata": {},
   "source": [
    "\n",
    "### Acciones en DFS_LOCAL y DFS_CLUSTER\n",
    "\n",
    "### Crear la estructura de carpetas en DFS_LOCAL y DFS_CLUSTER:\n",
    "\n",
    "```bash\n",
    "# Navegar al directorio DFS_LOCAL y DFS_CLUSTER\n",
    "cd ~/DFS_LOCAL\n",
    "cd ~/DFS_CLUSTER\n",
    "\n",
    "# Crear las carpetas necesarias y asignar permisos en DFS_LOCAL\n",
    "mkdir -p practicas/{01,02,03,04,05}/{data/{raw,processed,external},scripts}\n",
    "chmod -R 755 practicas\n",
    "\n",
    "# Crear las carpetas necesarias y asignar permisos en DFS_CLUSTER\n",
    "mkdir -p practicas/{01,02,03,04,05}/{data/{raw,processed,external},scripts}\n",
    "chmod -R 755 practicas\n"
   ]
  },
  {
   "cell_type": "markdown",
   "metadata": {},
   "source": [
    "### Visualizar la estructura de carpetas en HDFS para el usuario hduser y hive:\n"
   ]
  },
  {
   "cell_type": "markdown",
   "metadata": {},
   "source": [
    "### Visualizar la estructura en HDFS para el usuario hduser en DFS_CLUSTER\n",
    "hadoop fs -ls -R /user/hduser/DFS_CLUSTER/practicas/ | awk '{if(NF==8)print $8; else{for(i=8;i<=NF;++i)printf(\"%s \",$i);print\"\"}}' | sed -e \"s/[^ ]*\\// |/g\"\n",
    "\n",
    "### Visualizar la estructura en HDFS para el usuario hive en DFS_CLUSTER\n",
    "hadoop fs -ls -R /user/hive/DFS_CLUSTER/practicas/ | awk '{if(NF==8)print $8; else{for(i=8;i<=NF;++i)printf(\"%s \",$i);print\"\"}}' | sed -e \"s/[^ ]*\\// |/g\"\n"
   ]
  },
  {
   "cell_type": "markdown",
   "metadata": {},
   "source": [
    "### Visualizar la estructura de carpetas en DFS_LOCAL:"
   ]
  },
  {
   "cell_type": "markdown",
   "metadata": {},
   "source": [
    "### Visualizar la estructura en DFS_LOCAL\n",
    "tree ~/DFS_LOCAL"
   ]
  },
  {
   "cell_type": "code",
   "execution_count": 3,
   "metadata": {},
   "outputs": [
    {
     "ename": "SyntaxError",
     "evalue": "invalid syntax (3570406670.py, line 1)",
     "output_type": "error",
     "traceback": [
      "\u001b[1;36m  Cell \u001b[1;32mIn[3], line 1\u001b[1;36m\u001b[0m\n\u001b[1;33m    CREATE DATABASE IF NOT EXISTS movielensdb;\u001b[0m\n\u001b[1;37m           ^\u001b[0m\n\u001b[1;31mSyntaxError\u001b[0m\u001b[1;31m:\u001b[0m invalid syntax\n"
     ]
    }
   ],
   "source": [
    "CREATE DATABASE IF NOT EXISTS movielensdb;\n",
    "USE movielensdb;\n"
   ]
  },
  {
   "cell_type": "code",
   "execution_count": null,
   "metadata": {},
   "outputs": [],
   "source": [
    "-- Tabla para genome-scores.csv\n",
    "CREATE TABLE IF NOT EXISTS genome_scores (\n",
    "    movieId INT,\n",
    "    tagId INT,\n",
    "    relevance DOUBLE\n",
    ")\n",
    "ROW FORMAT DELIMITED\n",
    "FIELDS TERMINATED BY ','\n",
    "STORED AS TEXTFILE;\n",
    "\n",
    "-- Tabla para genome-tags.csv\n",
    "CREATE TABLE IF NOT EXISTS genome_tags (\n",
    "    tagId INT,\n",
    "    tag STRING\n",
    ")\n",
    "ROW FORMAT DELIMITED\n",
    "FIELDS TERMINATED BY ','\n",
    "STORED AS TEXTFILE;\n",
    "\n",
    "-- Tabla para links.csv\n",
    "CREATE TABLE IF NOT EXISTS links (\n",
    "    movieId INT,\n",
    "    imdbId INT,\n",
    "    tmdbId INT\n",
    ")\n",
    "ROW FORMAT DELIMITED\n",
    "FIELDS TERMINATED BY ','\n",
    "STORED AS TEXTFILE;\n",
    "\n",
    "-- Puedes seguir el mismo patrón para las otras tablas (movies, ratings, tags)\n"
   ]
  },
  {
   "cell_type": "code",
   "execution_count": null,
   "metadata": {},
   "outputs": [],
   "source": [
    "-- Para cargar datos en la tabla genome_scores\n",
    "LOAD DATA LOCAL INPATH '/home/hduser/DFS_LOCAL/practicas/05/ml-25m/genome-scores.csv' INTO TABLE genome_scores;\n",
    "\n",
    "-- Repite este paso para las otras tablas, cambiando el nombre de la tabla y la ruta del archivo CSV\n"
   ]
  },
  {
   "cell_type": "code",
   "execution_count": null,
   "metadata": {},
   "outputs": [],
   "source": [
    ". Parece que cada archivo CSV tiene las siguientes columnas:\n",
    "\n",
    "genome-scores.csv:\n",
    "\n",
    "movieId\n",
    "tagId\n",
    "relevance\n",
    "genome-tags.csv:\n",
    "\n",
    "tagId\n",
    "tag\n",
    "links.csv:\n",
    "\n",
    "movieId\n",
    "imdbId\n",
    "tmdbId\n",
    "movies.csv:\n",
    "\n",
    "movieId\n",
    "title\n",
    "genres\n",
    "ratings.csv:\n",
    "\n",
    "userId\n",
    "movieId\n",
    "rating\n",
    "timestamp\n",
    "tags.csv:\n",
    "\n",
    "userId\n",
    "movieId\n",
    "tag\n",
    "timestamp"
   ]
  },
  {
   "cell_type": "markdown",
   "metadata": {},
   "source": [
    "Dado que la tabla Ratings y la tabla Tags parecen ser las más fundamentales en términos de análisis de datos,\n",
    "podría ser una buena idea comenzar con ellas.\n",
    "\n",
    "Guía paso a paso sobre cómo crear estas tablas en Hive:\n",
    "\n",
    "CREATE TABLE IF NOT EXISTS Ratings (\n",
    "    userId INT,\n",
    "    movieId INT,\n",
    "    rating DOUBLE,\n",
    "    fechahora BIGINT\n",
    ")\n",
    "ROW FORMAT DELIMITED\n",
    "FIELDS TERMINATED BY ','\n",
    "STORED AS TEXTFILE;\n",
    "\n",
    "====================================================================\n",
    "\n",
    "\n",
    "Tabla Tags\n",
    "CREATE TABLE IF NOT EXISTS Tags (\n",
    "    userId INT,\n",
    "    movieId INT,\n",
    "    tag STRING,\n",
    "    fechahora BIGINT\n",
    ")\n",
    "ROW FORMAT DELIMITED\n",
    "FIELDS TERMINATED BY ','\n",
    "STORED AS TEXTFILE;\n",
    "na vez que hayas creado estas tablas, puedes cargar los datos desde los archivos CSV correspondientes en cada tabla utilizando el comando LOAD DATA. Por ejemplo:\n",
    "\n",
    "sql\n",
    "LOAD DATA LOCAL INPATH '/home/hduser/DFS_LOCAL/practicas/05/ml-25m/ratings.csv' INTO TABLE Ratings;\n",
    "LOAD DATA LOCAL INPATH '/home/hduser/DFS_LOCAL/practicas/05/ml-25m/tags.csv' INTO TABLE Tags;\n"
   ]
  },
  {
   "cell_type": "markdown",
   "metadata": {},
   "source": []
  },
  {
   "cell_type": "markdown",
   "metadata": {},
   "source": [
    "-- Crear la tabla para Ratings\n",
    "CREATE TABLE IF NOT EXISTS Ratings (\n",
    "    userId INT,\n",
    "    movieId INT,\n",
    "    rating DOUBLE,\n",
    "    fechahora BIGINT\n",
    ")\n",
    "ROW FORMAT DELIMITED\n",
    "FIELDS TERMINATED BY ','\n",
    "STORED AS TEXTFILE;\n",
    "\n",
    "-- Crear la tabla para Tags\n",
    "CREATE TABLE IF NOT EXISTS Tags (\n",
    "    userId INT,\n",
    "    movieId INT,\n",
    "    tag STRING,\n",
    "    fechahora BIGINT\n",
    ")\n",
    "ROW FORMAT DELIMITED\n",
    "FIELDS TERMINATED BY ','\n",
    "STORED AS TEXTFILE;\n",
    "\n",
    "-- Crear la tabla para Genome-Scores\n",
    "CREATE TABLE IF NOT EXISTS GenomeScores (\n",
    "    movieId INT,\n",
    "    tagId INT,\n",
    "    relevance DOUBLE\n",
    ")\n",
    "ROW FORMAT DELIMITED\n",
    "FIELDS TERMINATED BY ','\n",
    "STORED AS TEXTFILE;\n",
    "\n",
    "-- Crear la tabla para Genome-Tags\n",
    "CREATE TABLE IF NOT EXISTS GenomeTags (\n",
    "    tagId INT,\n",
    "    tag STRING\n",
    ")\n",
    "ROW FORMAT DELIMITED\n",
    "FIELDS TERMINATED BY ','\n",
    "STORED AS TEXTFILE;\n",
    "\n",
    "-- Crear la tabla para Links\n",
    "CREATE TABLE IF NOT EXISTS Links (\n",
    "    movieId INT,\n",
    "    imdbId INT,\n",
    "    tmdbId INT\n",
    ")\n",
    "ROW FORMAT DELIMITED\n",
    "FIELDS TERMINATED BY ','\n",
    "STORED AS TEXTFILE;\n",
    "\n",
    "-- Crear la tabla para Movies\n",
    "CREATE TABLE IF NOT EXISTS Movies (\n",
    "    movieId INT,\n",
    "    title STRING,\n",
    "    genres STRING\n",
    ")\n",
    "ROW FORMAT DELIMITED\n",
    "FIELDS TERMINATED BY ','\n",
    "STORED AS TEXTFILE;\n"
   ]
  },
  {
   "cell_type": "code",
   "execution_count": null,
   "metadata": {},
   "outputs": [],
   "source": [
    "LOAD DATA LOCAL INPATH '/home/hduser/DFS_LOCAL/practicas/05/ml-25m/ratings.csv' INTO TABLE Ratings;\n",
    "LOAD DATA LOCAL INPATH '/home/hduser/DFS_LOCAL/practicas/05/ml-25m/tags.csv' INTO TABLE Tags;\n",
    "LOAD DATA LOCAL INPATH '/home/hduser/DFS_LOCAL/practicas/05/ml-25m/genome-scores.csv' INTO TABLE GenomeScores;\n",
    "LOAD DATA LOCAL INPATH '/home/hduser/DFS_LOCAL/practicas/05/ml-25m/genome-tags.csv' INTO TABLE GenomeTags;\n",
    "LOAD DATA LOCAL INPATH '/home/hduser/DFS_LOCAL/practicas/05/ml-25m/links.csv' INTO TABLE Links;\n",
    "LOAD DATA LOCAL INPATH '/home/hduser/DFS_LOCAL/practicas/05/ml-25m/movies.csv' INTO TABLE Movies;\n"
   ]
  },
  {
   "cell_type": "code",
   "execution_count": null,
   "metadata": {},
   "outputs": [],
   "source": [
    "CREATE TABLE IF NOT EXISTS genome-tags (\n",
    "    tagId INT,\n",
    "    tag STRING\n",
    ")\n",
    "ROW FORMAT DELIMITED\n",
    "FIELDS TERMINATED BY ','\n",
    "STORED AS TEXTFILE;\n",
    "\n",
    "\n",
    "LOAD DATA LOCAL INPATH '/home/hduser/DFS_LOCAL/practicas/05/genome_tags.csv' INTO TABLE genome-tags;\n"
   ]
  },
  {
   "cell_type": "code",
   "execution_count": null,
   "metadata": {},
   "outputs": [],
   "source": [
    "USE movielensdb;\n",
    "\n",
    "INSERT OVERWRITE DIRECTORY '/user/hive/DFS_LOCAL/practicas/05/data/processed/10primerostitulos'\n",
    "SELECT m.movieId, m.title, m.genres, l.imdbId, l.tmdbId, t.tag, r.rating\n",
    "FROM movies m\n",
    "LEFT JOIN links l ON m.movieId = l.movieId\n",
    "LEFT JOIN tags t ON m.movieId = t.movieId\n",
    "LEFT JOIN ratings r ON m.movieId = r.movieId\n",
    "WHERE m.movieId BETWEEN 1 AND 10;\n"
   ]
  },
  {
   "cell_type": "code",
   "execution_count": null,
   "metadata": {},
   "outputs": [],
   "source": [
    "hive> DESCRIBE ratings;\n",
    "OK\n",
    "userid              \tint                 \t                    \n",
    "movieid             \tint                 \t                    \n",
    "rating              \tdouble              \t                    \n",
    "fechahora           \tbigint              \t                    \n",
    "Time taken: 0.09 seconds, Fetched: 4 row(s)\n",
    "hive> \n"
   ]
  },
  {
   "cell_type": "code",
   "execution_count": null,
   "metadata": {},
   "outputs": [],
   "source": [
    "SELECT * FROM ratings LIMIT 100;\n"
   ]
  },
  {
   "cell_type": "code",
   "execution_count": null,
   "metadata": {},
   "outputs": [],
   "source": [
    "-- Consulta para ver los primeros 10 registros de la tabla ratings\n",
    "SELECT * FROM ratings LIMIT 10;\n",
    "\n",
    "-- Consulta para ver los primeros 10 registros de la tabla movies\n",
    "SELECT * FROM movies LIMIT 10;\n",
    "\n",
    "-- Consulta para ver los primeros 10 registros de la tabla links\n",
    "SELECT * FROM links LIMIT 10;\n",
    "\n",
    "-- Consulta para ver los primeros 10 registros de la tabla tags\n",
    "SELECT * FROM tags LIMIT 10;\n",
    "\n",
    "-- Consulta para ver los primeros 10 registros de la tabla genomescores\n",
    "SELECT * FROM genomescores LIMIT 10;\n",
    "\n",
    "-- Consulta para ver los primeros 10 registros de la tabla genometags\n",
    "SELECT * FROM genometags LIMIT 10;\n"
   ]
  },
  {
   "cell_type": "code",
   "execution_count": null,
   "metadata": {},
   "outputs": [],
   "source": [
    "SELECT *\n",
    "FROM genomescores\n",
    "WHERE relevance > 0.50;\n"
   ]
  },
  {
   "cell_type": "code",
   "execution_count": null,
   "metadata": {},
   "outputs": [],
   "source": [
    "SELECT userId, movieId, tag, FROM_UNIXTIME(fechahora, 'yyyy-MM-dd') AS formatted_timestamp\n",
    "FROM tags\n",
    "LIMIT 10;\n"
   ]
  },
  {
   "cell_type": "code",
   "execution_count": null,
   "metadata": {},
   "outputs": [],
   "source": [
    "SELECT title\n",
    "FROM movies\n",
    "WHERE movieId = 999;\n"
   ]
  },
  {
   "cell_type": "code",
   "execution_count": null,
   "metadata": {},
   "outputs": [],
   "source": [
    "SELECT genres\n",
    "FROM movies\n",
    "ORDER BY title\n",
    "LIMIT 200;\n"
   ]
  },
  {
   "cell_type": "code",
   "execution_count": null,
   "metadata": {},
   "outputs": [],
   "source": [
    "SELECT genres\n",
    "FROM movies\n",
    "LIMIT 200;"
   ]
  },
  {
   "cell_type": "code",
   "execution_count": null,
   "metadata": {},
   "outputs": [],
   "source": [
    "INSERT OVERWRITE LOCAL DIRECTORY '/ruta/de/salida'\n",
    "SELECT m.*, r.*, l.*, t.*, gs.*, gt.*\n",
    "FROM movies m\n",
    "LEFT JOIN ratings r ON m.movieId = r.movieId\n",
    "LEFT JOIN links l ON m.movieId = l.movieId\n",
    "LEFT JOIN tags t ON m.movieId = t.movieId\n",
    "LEFT JOIN genomescores gs ON m.movieId = gs.movieId\n",
    "LEFT JOIN genometags gt ON m.movieId = gt.movieId;\n"
   ]
  },
  {
   "cell_type": "code",
   "execution_count": null,
   "metadata": {},
   "outputs": [],
   "source": [
    "CREATE TABLE tabla_total AS\n",
    "SELECT \n",
    "    m.movieid AS movieid_m, m.title, m.genres,\n",
    "    r.userid AS userid_r, r.rating, r.fechahora AS timestamp_r,\n",
    "    l.imdbid, l.tmdbid,\n",
    "    t.userid AS userid_t, t.tag AS tag_t, t.fechahora AS timestamp_t,\n",
    "    gs.tagid AS tagid_gs, gs.relevance,\n",
    "    gt.tagid AS tagid_gt, gt.tag AS tag_gt\n",
    "FROM \n",
    "    movies m\n",
    "LEFT JOIN \n",
    "    ratings r ON m.movieid = r.movieid\n",
    "LEFT JOIN \n",
    "    links l ON m.movieid = l.movieid\n",
    "LEFT JOIN \n",
    "    tags t ON m.movieid = t.movieid\n",
    "LEFT JOIN \n",
    "    genomescores gs ON m.movieid = gs.movieid\n",
    "LEFT JOIN \n",
    "    genometags gt ON gs.tagid = gt.tagid;\n",
    "\n"
   ]
  },
  {
   "cell_type": "code",
   "execution_count": null,
   "metadata": {},
   "outputs": [],
   "source": [
    "SELECT * FROM tabla_total LIMIT 100;\n"
   ]
  },
  {
   "cell_type": "code",
   "execution_count": null,
   "metadata": {},
   "outputs": [],
   "source": [
    "ANALYZE TABLE movies COMPUTE STATISTICS;\n",
    "ANALYZE TABLE ratings COMPUTE STATISTICS;\n",
    "ANALYZE TABLE links COMPUTE STATISTICS;\n",
    "ANALYZE TABLE tags COMPUTE STATISTICS;\n",
    "ANALYZE TABLE genomescores COMPUTE STATISTICS;\n"
   ]
  },
  {
   "cell_type": "code",
   "execution_count": null,
   "metadata": {},
   "outputs": [],
   "source": []
  },
  {
   "cell_type": "code",
   "execution_count": null,
   "metadata": {},
   "outputs": [],
   "source": []
  },
  {
   "cell_type": "code",
   "execution_count": null,
   "metadata": {},
   "outputs": [],
   "source": []
  },
  {
   "cell_type": "code",
   "execution_count": null,
   "metadata": {},
   "outputs": [],
   "source": []
  }
 ],
 "metadata": {
  "kernelspec": {
   "display_name": "Python 3",
   "language": "python",
   "name": "python3"
  },
  "language_info": {
   "codemirror_mode": {
    "name": "ipython",
    "version": 3
   },
   "file_extension": ".py",
   "mimetype": "text/x-python",
   "name": "python",
   "nbconvert_exporter": "python",
   "pygments_lexer": "ipython3",
   "version": "3.11.8"
  }
 },
 "nbformat": 4,
 "nbformat_minor": 2
}
