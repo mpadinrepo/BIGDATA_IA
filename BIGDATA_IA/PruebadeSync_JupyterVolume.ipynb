{
 "cells": [
  {
   "cell_type": "code",
   "execution_count": null,
   "id": "7c870dfe-cfef-4fb3-a79c-f3bc610486e2",
   "metadata": {},
   "outputs": [],
   "source": []
  }
 ],
 "metadata": {
  "kernelspec": {
   "display_name": "",
   "name": ""
  },
  "language_info": {
   "name": ""
  }
 },
 "nbformat": 4,
 "nbformat_minor": 5
}
