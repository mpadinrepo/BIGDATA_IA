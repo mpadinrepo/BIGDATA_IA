{
 "cells": [
  {
   "cell_type": "code",
   "execution_count": 2,
   "metadata": {},
   "outputs": [],
   "source": [
    "import cv2\n",
    "import numpy as np\n",
    "\n",
    "# Ruta del archivo XML del clasificador Haar\n",
    "xml_path = 'L:/REPOLOCAL/BIGDATA_IA/PIA_ISAAC/haarcascade_frontalface_default.xml'\n",
    "\n",
    "# Cargar el clasificador pre-entrenado para la detección de rostros\n",
    "face_cascade = cv2.CascadeClassifier(xml_path)\n",
    "\n",
    "# Función para detectar y dibujar los rostros en la imagen\n",
    "def detect_faces(image_path):\n",
    "    # Cargar la imagen\n",
    "    img = cv2.imread(image_path)\n",
    "    # Convertir la imagen a escala de grises\n",
    "    gray = cv2.cvtColor(img, cv2.COLOR_BGR2GRAY)\n",
    "    # Detectar rostros en la imagen\n",
    "    faces = face_cascade.detectMultiScale(gray, 1.3, 5)\n",
    "    # Dibujar rectángulos alrededor de los rostros detectados\n",
    "    for (x,y,w,h) in faces:\n",
    "        cv2.rectangle(img,(x,y),(x+w,y+h),(255,0,0),2)\n",
    "    # Devolver la imagen con los rostros detectados\n",
    "    return img\n",
    "\n",
    "# Ejemplo de uso\n",
    "image_path = 'imaxe.jpg'  # Reemplaza 'imagen.jpg' con la ruta de tu imagen\n",
    "result_image = detect_faces(image_path)\n",
    "cv2.imshow('Face Detection', result_image)\n",
    "cv2.waitKey(0)\n",
    "cv2.destroyAllWindows()"
   ]
  }
 ],
 "metadata": {
  "kernelspec": {
   "display_name": "Python 3",
   "language": "python",
   "name": "python3"
  },
  "language_info": {
   "codemirror_mode": {
    "name": "ipython",
    "version": 3
   },
   "file_extension": ".py",
   "mimetype": "text/x-python",
   "name": "python",
   "nbconvert_exporter": "python",
   "pygments_lexer": "ipython3",
   "version": "3.11.8"
  }
 },
 "nbformat": 4,
 "nbformat_minor": 2
}
