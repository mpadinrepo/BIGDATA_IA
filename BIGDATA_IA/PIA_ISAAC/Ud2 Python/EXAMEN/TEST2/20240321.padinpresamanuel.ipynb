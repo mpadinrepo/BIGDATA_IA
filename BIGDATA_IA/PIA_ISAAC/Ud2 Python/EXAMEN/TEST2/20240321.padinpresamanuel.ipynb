{
 "cells": [
  {
   "cell_type": "markdown",
   "metadata": {},
   "source": [
    "Ejercicio 1:"
   ]
  },
  {
   "cell_type": "code",
   "execution_count": null,
   "metadata": {},
   "outputs": [],
   "source": [
    "class Tarjeta:\n",
    "    def __init__(self, numero: str, nombre: str, codigo: int):\n",
    "        self.numero = numero\n",
    "        self.nombre = nombre\n",
    "        self.codigo = codigo\n",
    "        self.saldo = 0\n",
    "        self.cobrosPendientes = []\n",
    "\n",
    "    def agregarSaldo(self, cantidad: float):\n",
    "        self.saldo += cantidad\n",
    "\n",
    "    @property\n",
    "    def saldoReal(self):\n",
    "        return self.saldo - sum(self.cobrosPendientes)\n",
    "\n",
    "    def agregarCobro(self, cantidad: float):\n",
    "        if self.saldo - cantidad >= 0:\n",
    "            self.cobrosPendientes.append(cantidad)\n",
    "        else:\n",
    "            raise ValueError(\"No hay suficiente saldo para agregar el cobro.\")\n",
    "\n",
    "    def aplicarCobros(self):\n",
    "        total_cobros = sum(self.cobrosPendientes)\n",
    "        if self.saldo - total_cobros < 0:\n",
    "            raise ValueError(\"Saldo negativo después de aplicar cobros.\")\n",
    "        self.saldo -= total_cobros\n"
   ]
  },
  {
   "cell_type": "code",
   "execution_count": 3,
   "metadata": {},
   "outputs": [],
   "source": [
    "class Banco:\n",
    "    def __init__(self):\n",
    "        self.tarjetas = []\n",
    "\n",
    "    def transferir(self, numero: str, cantidad: float):\n",
    "        tarjeta = self.buscarTarjeta(numero)\n",
    "        if tarjeta:\n",
    "            tarjeta.agregarSaldo(cantidad)\n",
    "        else:\n",
    "            raise ValueError(\"La tarjeta no está registrada en el banco.\")\n",
    "\n",
    "    def cobrar(self, numero: str, nombre: str, codigo: int, cantidad: float):\n",
    "        tarjeta = self.buscarTarjeta(numero)\n",
    "        if tarjeta:\n",
    "            if tarjeta.nombre == nombre and tarjeta.codigo == codigo:\n",
    "                tarjeta.agregarCobro(cantidad)\n",
    "            else:\n",
    "                raise ValueError(\"Los datos de la tarjeta no coinciden.\")\n",
    "        else:\n",
    "            raise ValueError(\"La tarjeta no está registrada en el banco.\")\n",
    "\n",
    "    def tarjetasLimpas(self):\n",
    "        return [tarjeta for tarjeta in self.tarjetas if not tarjeta.cobrosPendientes]\n",
    "\n",
    "    def buscarTarjeta(self, numero: str):\n",
    "        for tarjeta in self.tarjetas:\n",
    "            if tarjeta.numero == numero:\n",
    "                return tarjeta\n",
    "        return None\n"
   ]
  },
  {
   "cell_type": "markdown",
   "metadata": {},
   "source": [
    "Ejercicio 2: NumPy"
   ]
  },
  {
   "cell_type": "code",
   "execution_count": 1,
   "metadata": {},
   "outputs": [],
   "source": [
    "import numpy as np"
   ]
  },
  {
   "cell_type": "code",
   "execution_count": 2,
   "metadata": {},
   "outputs": [],
   "source": [
    "# Crea un vector de todo 1 de 10 elementos\n",
    "vector_unos = np.ones(10)"
   ]
  },
  {
   "cell_type": "code",
   "execution_count": 3,
   "metadata": {},
   "outputs": [],
   "source": [
    "# Modifica el vector para que los signos vayan alternándose [1, -1, 1, -1, etc..]\n",
    "vector_signos_alternados = np.ones(10)\n",
    "vector_signos_alternados[1::2] = -1\n"
   ]
  },
  {
   "cell_type": "code",
   "execution_count": 6,
   "metadata": {},
   "outputs": [],
   "source": [
    "# Convierte el vector de signos alternados a [2, -2, 2, -2, etc..]\n",
    "vector_dobles = vector_signos_alternados * 2\n",
    "# Resta al vector anterior un vector de todos unos\n",
    "vector_resultante = vector_dobles - np.ones(10)\n"
   ]
  },
  {
   "cell_type": "code",
   "execution_count": 7,
   "metadata": {},
   "outputs": [
    {
     "name": "stdout",
     "output_type": "stream",
     "text": [
      "Vector de unos: [1. 1. 1. 1. 1. 1. 1. 1. 1. 1.]\n",
      "Vector con signos alternados: [ 1. -1.  1. -1.  1. -1.  1. -1.  1. -1.]\n",
      "Vector doble con signos alternados: [ 2. -2.  2. -2.  2. -2.  2. -2.  2. -2.]\n",
      "Resultado final: [ 1. -3.  1. -3.  1. -3.  1. -3.  1. -3.]\n"
     ]
    }
   ],
   "source": [
    "print(\"Vector de unos:\", vector_unos)\n",
    "print(\"Vector con signos alternados:\", vector_signos_alternados)\n",
    "print(\"Vector doble con signos alternados:\", vector_dobles)\n",
    "print(\"Resultado final:\", vector_resultante)\n"
   ]
  },
  {
   "cell_type": "code",
   "execution_count": null,
   "metadata": {},
   "outputs": [],
   "source": []
  },
  {
   "cell_type": "code",
   "execution_count": null,
   "metadata": {},
   "outputs": [],
   "source": []
  }
 ],
 "metadata": {
  "kernelspec": {
   "display_name": "Python 3",
   "language": "python",
   "name": "python3"
  },
  "language_info": {
   "codemirror_mode": {
    "name": "ipython",
    "version": 3
   },
   "file_extension": ".py",
   "mimetype": "text/x-python",
   "name": "python",
   "nbconvert_exporter": "python",
   "pygments_lexer": "ipython3",
   "version": "3.8.10"
  }
 },
 "nbformat": 4,
 "nbformat_minor": 2
}
