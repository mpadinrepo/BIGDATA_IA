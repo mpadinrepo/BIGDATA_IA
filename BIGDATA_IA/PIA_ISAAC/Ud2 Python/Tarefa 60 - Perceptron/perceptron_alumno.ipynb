{
 "cells": [
  {
   "attachments": {},
   "cell_type": "markdown",
   "metadata": {},
   "source": [
    "# Perceptron\n",
    "\n",
    "Un perceptron é un modelo básico de neurona, que implementa un clasificador binario. A unha entrada x asigna un valor de saida f(x) que será 0 ou 1.\n",
    "$$\n",
    "y = \\begin{cases}\n",
    "    \\ 0 & \\quad \\text{si } w \\cdot x + b \\leq 0 \\\\\n",
    "    \\ 1 & \\quad \\text{si } w \\cdot x + b > 0 \\\\\n",
    "    \\end{cases}\n",
    "$$\n",
    "\n",
    "Na páxina da wikipedia tedes máis información: https://es.wikipedia.org/wiki/Perceptr%C3%B3n\n",
    "\n",
    "- w é un vector que ten o mesmo número de elementos que a entrada\n",
    "- x é o vector de entrada"
   ]
  },
  {
   "attachments": {},
   "cell_type": "markdown",
   "metadata": {},
   "source": [
    "# Entrenamento \n",
    "Para entrenar se debe dispoñer:\n",
    "\n",
    "- Dun conxunto de entrenamento, que consistirá nunha lista de vectores de entrada coa sua saída esperada (0 ou 1)\n",
    "- A tasa de aprendizaxe, que indica a velocidade coa que cambian os pesos no proceso de aprendizaxe.\n",
    "- Uns valores iniciais para os pesos, normalmente 0 ou valores aleaorios pequenos.\n",
    "\n",
    "\n",
    "\n"
   ]
  },
  {
   "cell_type": "code",
   "execution_count": 2,
   "metadata": {},
   "outputs": [],
   "source": [
    "umbral = 0.5\n",
    "tasa_de_aprendizaje = 0.1\n",
    "pesos = [0, 0, 0]\n",
    "conjunto_de_entrenamiento = [((1, 0, 0), 1),((1, 0, 1), 1),((1, 1, 0), 1),((1, 1, 1), 0)]"
   ]
  },
  {
   "attachments": {},
   "cell_type": "markdown",
   "metadata": {},
   "source": [
    "1. Presentase un vector de entrada\n",
    "1. calculase a saída usando a formula anterior \n",
    "1. Calculamos o erro saida desexada - a saida obtida\n",
    "1. Se hai erro actualizamos os pesos\n",
    "\n",
    "$$\n",
    "\\displaystyle w_{i}(t+1)=w_{i}(t)\\;{\\boldsymbol {+}}\\;r\\cdot (d_{j}-y_{j}(t))x_{j,i}\n",
    "$$\n",
    "Onde $$w_{i}(t)$$ é o valor do peso actual, $$r$$ é a tase de aprendizaxe $$d_{j}$$ é a saida desexada $$y_{j}(t)$$ é a saída obtida e $$x_{j,i}$$ é a entrada\n",
    "\n",
    "```bash\n",
    "La fórmula proporcionada es:\n",
    "\n",
    "wi(t+1)=wi(t)+r⋅(dj−yj(t))⋅xj,iwi​(t+1)=wi​(t)+r⋅(dj​−yj​(t))⋅xj,i​\n",
    "\n",
    "Donde:\n",
    "\n",
    "    wi(t)wi​(t) es el valor actual del peso ii en el tiempo tt.\n",
    "    wi(t+1)wi​(t+1) es el nuevo valor del peso ii en el tiempo t+1t+1 después de la actualización.\n",
    "    rr es la tasa de aprendizaje, que controla cuánto se ajustan los pesos en cada paso de actualización.\n",
    "    djdj​ es la salida deseada para la neurona jj.\n",
    "    yj(t)yj​(t) es la salida actual de la neurona jj en el tiempo tt.\n",
    "    xj,ixj,i​ es el valor de la entrada ii para la neurona jj.\n",
    "\n",
    "Entonces, la fórmula se puede interpretar de la siguiente manera:\n",
    "\n",
    "    Calculamos la diferencia entre la salida deseada (djdj​) y la salida obtenida (yj(t)yj​(t)).\n",
    "    Multiplicamos esta diferencia por la tasa de aprendizaje (rr) para obtener la cantidad de ajuste.\n",
    "    Finalmente, multiplicamos esta cantidad de ajuste por el valor de la entrada (xj,ixj,i​) y sumamos este resultado al peso actual (wi(t)wi​(t)) para obtener el nuevo valor del peso (wi(t+1)wi​(t+1)).\n",
    "\n",
    "En resumen, esta fórmula representa cómo se actualizan los pesos de la red neuronal en función del error entre la salida deseada y la salida obtenida, utilizando la tasa de aprendizaje para controlar la magnitud de la actualización.\n",
    "\n",
    "\n",
    "\n",
    "te es un proceso de entrenamiento de una red neuronal artificial utilizando el algoritmo de aprendizaje supervisado llamado regla de Widrow-Hoff, también conocido como regla delta o regla de aprendizaje del perceptrón. Aquí tienes una explicación paso a paso:\n",
    "\n",
    "    Presentar un vector de entrada: Se introduce un vector de entrada en la red neuronal. Este vector representa las características o variables de entrada que se utilizan para predecir una salida.\n",
    "\n",
    "    Calcular la salida usando la fórmula anterior: Utilizando la fórmula mencionada, se calcula la salida de la red neuronal. Esta fórmula multiplica los pesos sinápticos por las entradas, los suma y aplica una función de activación (no mencionada en la fórmula proporcionada) para obtener la salida de la red.\n",
    "\n",
    "    Calcular el error de salida: Se calcula la diferencia entre la salida deseada (la salida que debería producir la red para el vector de entrada dado) y la salida obtenida por la red neuronal. Este error representa qué tan lejos está la predicción de la red neuronal de la salida esperada.\n",
    "\n",
    "    Actualizar los pesos si hay error: Si hay un error en la salida obtenida por la red, se actualizan los pesos de acuerdo con la regla de actualización de la fórmula proporcionada. Los pesos se ajustan en proporción al error, la tasa de aprendizaje (r), y las entradas correspondientes. El objetivo de esta actualización es minimizar el error en las salidas de la red, ajustando los pesos para que las salidas sean más cercanas a las salidas deseadas.\n",
    "\n",
    "En resumen, este proceso representa una iteración del entrenamiento de la red neuronal, donde se presentan entradas, se calculan salidas, se evalúa el error y se ajustan los pesos para minimizar ese error. Este proceso se repite varias veces (a través de múltiples iteraciones o épocas) hasta que los pesos convergen a valores que producen salidas aceptables para todas las entradas de entrenamiento.\n"
   ]
  },
  {
   "cell_type": "code",
   "execution_count": 3,
   "metadata": {},
   "outputs": [
    {
     "name": "stdout",
     "output_type": "stream",
     "text": [
      "------------------------------------------------------------\n",
      "[0, 0, 0]\n",
      "[0.1, 0.0, 0.0]\n",
      "[0.2, 0.0, 0.1]\n",
      "[0.30000000000000004, 0.1, 0.1]\n",
      "------------------------------------------------------------\n",
      "[0.30000000000000004, 0.1, 0.1]\n",
      "[0.4, 0.1, 0.1]\n",
      "[0.5, 0.1, 0.2]\n",
      "[0.5, 0.1, 0.2]\n",
      "------------------------------------------------------------\n",
      "[0.4, 0.0, 0.1]\n",
      "[0.5, 0.0, 0.1]\n",
      "[0.5, 0.0, 0.1]\n",
      "[0.6, 0.1, 0.1]\n",
      "------------------------------------------------------------\n",
      "[0.5, 0.0, 0.0]\n",
      "[0.6, 0.0, 0.0]\n",
      "[0.6, 0.0, 0.0]\n",
      "[0.6, 0.0, 0.0]\n",
      "------------------------------------------------------------\n",
      "[0.5, -0.1, -0.1]\n",
      "[0.6, -0.1, -0.1]\n",
      "[0.7, -0.1, 0.0]\n",
      "[0.7, -0.1, 0.0]\n",
      "------------------------------------------------------------\n",
      "[0.6, -0.2, -0.1]\n",
      "[0.6, -0.2, -0.1]\n",
      "[0.7, -0.2, 0.0]\n",
      "[0.7999999999999999, -0.1, 0.0]\n",
      "------------------------------------------------------------\n",
      "[0.7, -0.2, -0.1]\n",
      "[0.7, -0.2, -0.1]\n",
      "[0.7, -0.2, -0.1]\n",
      "[0.7999999999999999, -0.1, -0.1]\n",
      "------------------------------------------------------------\n",
      "[0.7, -0.2, -0.2]\n",
      "[0.7, -0.2, -0.2]\n",
      "[0.7999999999999999, -0.2, -0.1]\n",
      "[0.7999999999999999, -0.2, -0.1]\n",
      "------------------------------------------------------------\n",
      "[0.7999999999999999, -0.2, -0.1]\n",
      "[0.7999999999999999, -0.2, -0.1]\n",
      "[0.7999999999999999, -0.2, -0.1]\n",
      "[0.7999999999999999, -0.2, -0.1]\n"
     ]
    }
   ],
   "source": [
    "def producto_punto(valores, pesos):\n",
    "    return sum(valor * peso for valor, peso in zip(valores, pesos))\n",
    "\n",
    "while True:\n",
    "    print('-' * 60)\n",
    "    contador_de_errores = 0\n",
    "    for vector_de_entrada, salida_deseada in conjunto_de_entrenamiento:\n",
    "        print(pesos)\n",
    "        resultado = producto_punto(vector_de_entrada, pesos) > umbral\n",
    "        error = salida_deseada - resultado\n",
    "        if error != 0:\n",
    "            contador_de_errores += 1\n",
    "            for indice, valor in enumerate(vector_de_entrada):\n",
    "                pesos[indice] += tasa_de_aprendizaje * error * valor\n",
    "    if contador_de_errores == 0:\n",
    "        break"
   ]
  },
  {
   "attachments": {},
   "cell_type": "markdown",
   "metadata": {},
   "source": [
    "## Implementacion en numpy\n",
    "\n",
    "Define o vector de entrada e saída desexada"
   ]
  },
  {
   "cell_type": "code",
   "execution_count": null,
   "metadata": {},
   "outputs": [],
   "source": []
  },
  {
   "attachments": {},
   "cell_type": "markdown",
   "metadata": {},
   "source": [
    "inicializa os pesos"
   ]
  },
  {
   "cell_type": "code",
   "execution_count": null,
   "metadata": {},
   "outputs": [],
   "source": []
  },
  {
   "attachments": {},
   "cell_type": "markdown",
   "metadata": {},
   "source": [
    "1. Calcula o producto de pesos por entrada\n",
    "1. Determina se a neurona se activa\n",
    "1. Calcula o erro entre a saida obtida e a saida desexada\n",
    "1. Calcula o cambio de pesos\n",
    "1. Aplica o cambio de pesos"
   ]
  },
  {
   "cell_type": "code",
   "execution_count": null,
   "metadata": {},
   "outputs": [],
   "source": []
  },
  {
   "attachments": {},
   "cell_type": "markdown",
   "metadata": {},
   "source": [
    "Podes meter o anterior nunha funcion e iteralo unhas cantas veces para ver como converxe"
   ]
  },
  {
   "cell_type": "code",
   "execution_count": null,
   "metadata": {},
   "outputs": [],
   "source": []
  },
  {
   "attachments": {},
   "cell_type": "markdown",
   "metadata": {},
   "source": [
    "# Eliminar os bucles\n",
    "os bucles son unha gran fonte de ineficiencia, hai que tentar evitalos e eliminalos e substituílos por operacións matemática.\n",
    "\n",
    "En concreto, neste caso o calculo das saídas e actualizacións de pesos se pode facer sen ningún bucle."
   ]
  },
  {
   "cell_type": "code",
   "execution_count": 4,
   "metadata": {},
   "outputs": [],
   "source": [
    "# Define unha ufuncs para a función de activación"
   ]
  },
  {
   "cell_type": "code",
   "execution_count": 5,
   "metadata": {},
   "outputs": [],
   "source": [
    "# inicializa pesos"
   ]
  },
  {
   "cell_type": "code",
   "execution_count": 6,
   "metadata": {},
   "outputs": [],
   "source": [
    "# se calcula o producto entre a entrada e os pesos (todas as entradas á vez)"
   ]
  },
  {
   "cell_type": "code",
   "execution_count": 7,
   "metadata": {},
   "outputs": [],
   "source": [
    "# determina que entradas activan a neurona obtendo así a saida"
   ]
  },
  {
   "cell_type": "code",
   "execution_count": 8,
   "metadata": {},
   "outputs": [],
   "source": [
    "# calcula o erro de cada obtida"
   ]
  },
  {
   "cell_type": "code",
   "execution_count": 9,
   "metadata": {},
   "outputs": [],
   "source": [
    "# conta o numero de erros, se hai erros aplicamos actulización de pesos"
   ]
  }
 ],
 "metadata": {
  "kernelspec": {
   "display_name": "Python 3 (ipykernel)",
   "language": "python",
   "name": "python3"
  },
  "language_info": {
   "codemirror_mode": {
    "name": "ipython",
    "version": 3
   },
   "file_extension": ".py",
   "mimetype": "text/x-python",
   "name": "python",
   "nbconvert_exporter": "python",
   "pygments_lexer": "ipython3",
   "version": "3.8.10"
  },
  "vscode": {
   "interpreter": {
    "hash": "1606236913f91825d23f87d820e9a8ef782bd944ba14a5c0ad0522198b5445e2"
   }
  }
 },
 "nbformat": 4,
 "nbformat_minor": 4
}
