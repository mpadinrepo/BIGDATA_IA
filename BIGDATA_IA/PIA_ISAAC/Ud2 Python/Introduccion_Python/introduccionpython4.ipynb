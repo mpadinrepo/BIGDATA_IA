{
 "cells": [
  {
   "cell_type": "markdown",
   "metadata": {},
   "source": [
    "# PROBAS UNITARIAS\n",
    "```bash\n",
    "Las pruebas unitarias son una parte crucial del desarrollo de software que consiste en probar el funcionamiento de las pequeñas partes en las que se divide un programa. Estas partes, conocidas como \"units\", son sometidas a pruebas para verificar si producen los resultados esperados ante entradas conocidas. El objetivo principal es detectar errores en etapas tempranas del desarrollo, lo que facilita su corrección y evita problemas mayores en etapas posteriores.\n",
    "\n",
    "Pytest es una de las herramientas más populares para realizar pruebas unitarias en Python debido a su simplicidad y potencia. Para instalar pytest en tu entorno virtual, puedes usar los siguientes comandos:\n",
    "\n",
    "conda install pytest\n",
    "pip install pytest\n",
    "\n",
    "Una vez instalado, puedes comenzar a escribir tus pruebas unitarias en archivos separados en una carpeta dedicada a pruebas en tu proyecto.\n",
    "\n"
   ]
  },
  {
   "cell_type": "markdown",
   "metadata": {},
   "source": [
    "```bash\n",
    "ESTRUCTURA DE LAS PRUEBAS\n",
    "Cada módulo de prueba debe contener funciones que evalúen diferentes aspectos de las unidades que deseas probar. Dentro de cada función de prueba, utilizamos afirmaciones (assertions) para verificar los resultados esperados.\n",
    "\n",
    "A continuación, se muestra un ejemplo de la estructura de un módulo de prueba utilizando pytest:\n",
    "\n",
    "from mi_paquete import mi_modulo\n",
    "\n",
    "def test_funcion_a_probar():\n",
    "    # Configuración de datos de prueba\n",
    "    resultado = mi_modulo.funcion_a_probar(parametro1, parametro2)\n",
    "    \n",
    "    # Verificación de los resultados\n",
    "    assert resultado == resultado_esperado\n",
    "\n",
    "\n",
    "EJEMPLO\n",
    "Supongamos que tenemos una clase Vector3 en nuestro paquete probas y queremos escribir pruebas unitarias para sus métodos. Aquí está cómo podríamos hacerlo:\n",
    "\n",
    "\n",
    "from probas import Vector3\n",
    "\n",
    "def test_nuevo():\n",
    "    v1 = Vector3(1,2,3)\n",
    "    assert v1.x == 1\n",
    "    assert v1.y == 2\n",
    "    assert v1.z == 3\n",
    "\n",
    "def test_igual():\n",
    "    v1 = Vector3(1,2,3)\n",
    "    v2 = Vector3(1,2,3)\n",
    "    assert v1 == v2\n",
    "\n",
    "def test_disinto():\n",
    "    v1 = Vector3(1,2,3)\n",
    "    v2 = Vector3(1,1,1)\n",
    "    assert v1 != v2\n",
    "\n",
    "def test_add():\n",
    "    v1 = Vector3(1,1,1)\n",
    "    v2 = Vector3(2,2,2)\n",
    "    v3 = Vector3(3,3,3)\n",
    "    assert v3 == v1 + v2\n",
    "\n"
   ]
  },
  {
   "cell_type": "markdown",
   "metadata": {},
   "source": [
    "```bash\n",
    "MANEJO DE EXCEPCIONES\n",
    "En pytest, no solo podemos verificar los resultados de una unidad mediante afirmaciones (assertions), sino que también podemos probar si una unidad lanza las excepciones que esperamos. Esto es útil para asegurarse de que el código maneje correctamente situaciones excepcionales.\n",
    "\n",
    "Aquí hay un ejemplo de cómo podríamos escribir pruebas para una función que debería lanzar una excepción ZeroDivisionError:\n",
    "\n",
    "import pytest\n",
    "\n",
    "def test_division_por_cero():\n",
    "    with pytest.raises(ZeroDivisionError):\n",
    "        divisionExacta(10, 0)"
   ]
  },
  {
   "cell_type": "markdown",
   "metadata": {},
   "source": []
  }
 ],
 "metadata": {
  "language_info": {
   "name": "python"
  }
 },
 "nbformat": 4,
 "nbformat_minor": 2
}
