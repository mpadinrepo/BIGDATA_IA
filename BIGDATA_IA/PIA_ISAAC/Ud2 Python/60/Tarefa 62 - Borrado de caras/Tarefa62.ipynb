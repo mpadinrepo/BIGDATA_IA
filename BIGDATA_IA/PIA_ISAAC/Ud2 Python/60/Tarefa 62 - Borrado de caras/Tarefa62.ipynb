{
 "cells": [
  {
   "cell_type": "markdown",
   "metadata": {},
   "source": [
    "Tarefa 62 - Borrado de caras\n",
    "\n",
    "Fai unha aplicación de consola ou notebook que recolla unha foto e detecte as caras.\n",
    "\n",
    "Logo aplica un blur á zona que conten cada unha das caras para que non poida ser identificado."
   ]
  },
  {
   "cell_type": "code",
   "execution_count": 2,
   "metadata": {},
   "outputs": [
    {
     "ename": "KeyboardInterrupt",
     "evalue": "",
     "output_type": "error",
     "traceback": [
      "\u001b[0;31m---------------------------------------------------------------------------\u001b[0m",
      "\u001b[0;31mKeyboardInterrupt\u001b[0m                         Traceback (most recent call last)",
      "Cell \u001b[0;32mIn[2], line 34\u001b[0m\n\u001b[1;32m     31\u001b[0m image_path \u001b[38;5;241m=\u001b[39m \u001b[38;5;124m'\u001b[39m\u001b[38;5;124mimages.jpeg\u001b[39m\u001b[38;5;124m'\u001b[39m  \u001b[38;5;66;03m# Reemplaza 'tu_imagen.jpg' con la ruta de tu imagen\u001b[39;00m\n\u001b[1;32m     33\u001b[0m \u001b[38;5;66;03m# Llamar a la función para desenfocar las caras en la imagen\u001b[39;00m\n\u001b[0;32m---> 34\u001b[0m \u001b[43mblur_faces\u001b[49m\u001b[43m(\u001b[49m\u001b[43mimage_path\u001b[49m\u001b[43m)\u001b[49m\n",
      "Cell \u001b[0;32mIn[2], line 27\u001b[0m, in \u001b[0;36mblur_faces\u001b[0;34m(image_path)\u001b[0m\n\u001b[1;32m     25\u001b[0m \u001b[38;5;66;03m# Mostrar la imagen con las caras desenfocadas\u001b[39;00m\n\u001b[1;32m     26\u001b[0m cv2\u001b[38;5;241m.\u001b[39mimshow(\u001b[38;5;124m'\u001b[39m\u001b[38;5;124mBlurred Faces\u001b[39m\u001b[38;5;124m'\u001b[39m, image)\n\u001b[0;32m---> 27\u001b[0m \u001b[43mcv2\u001b[49m\u001b[38;5;241;43m.\u001b[39;49m\u001b[43mwaitKey\u001b[49m\u001b[43m(\u001b[49m\u001b[38;5;241;43m0\u001b[39;49m\u001b[43m)\u001b[49m\n\u001b[1;32m     28\u001b[0m cv2\u001b[38;5;241m.\u001b[39mdestroyAllWindows()\n",
      "\u001b[0;31mKeyboardInterrupt\u001b[0m: "
     ]
    },
    {
     "ename": "",
     "evalue": "",
     "output_type": "error",
     "traceback": [
      "\u001b[1;31mEl kernel se bloqueó al ejecutar código en la celda actual o en una celda anterior. \n",
      "\u001b[1;31mRevise el código de las celdas para identificar una posible causa del error. \n",
      "\u001b[1;31mHaga clic <a href='https://aka.ms/vscodeJupyterKernelCrash'>aquí</a> para obtener más información. \n",
      "\u001b[1;31mVea Jupyter <a href='command:jupyter.viewOutput'>log</a> para obtener más detalles."
     ]
    }
   ],
   "source": [
    "import cv2\n",
    "\n",
    "def blur_faces(image_path):\n",
    "    # Cargar la imagen\n",
    "    image = cv2.imread(image_path)\n",
    "    \n",
    "    # Inicializar el clasificador de caras\n",
    "    face_cascade = cv2.CascadeClassifier(cv2.data.haarcascades + 'haarcascade_frontalface_default.xml')\n",
    "    \n",
    "    # Convertir la imagen a escala de grises\n",
    "    gray = cv2.cvtColor(image, cv2.COLOR_BGR2GRAY)\n",
    "    \n",
    "    # Detectar las caras en la imagen\n",
    "    faces = face_cascade.detectMultiScale(gray, scaleFactor=1.1, minNeighbors=5, minSize=(30, 30))\n",
    "    \n",
    "    # Aplicar blur a cada cara detectada\n",
    "    for (x, y, w, h) in faces:\n",
    "        # Seleccionar la región de la cara\n",
    "        face = image[y:y+h, x:x+w]\n",
    "        # Aplicar el filtro de desenfoque a la región de la cara\n",
    "        blurred_face = cv2.GaussianBlur(face, (99, 99), 30)\n",
    "        # Reemplazar la región de la cara con la cara desenfocada\n",
    "        image[y:y+h, x:x+w] = blurred_face\n",
    "        \n",
    "    # Mostrar la imagen con las caras desenfocadas\n",
    "    cv2.imshow('Blurred Faces', image)\n",
    "    cv2.waitKey(0)\n",
    "    cv2.destroyAllWindows()\n",
    "\n",
    "# Ruta de la imagen\n",
    "image_path = 'images.jpeg'  # Reemplaza 'tu_imagen.jpg' con la ruta de tu imagen\n",
    "\n",
    "# Llamar a la función para desenfocar las caras en la imagen\n",
    "blur_faces(image_path)\n",
    "\n",
    "\n"
   ]
  },
  {
   "cell_type": "markdown",
   "metadata": {},
   "source": [
    "import cv2\n",
    "\n",
    "def blur_faces(image_path):\n",
    "    # Cargar la imagen\n",
    "    image = cv2.imread(image_path)\n",
    "    \n",
    "    # Inicializar el clasificador de caras\n",
    "    face_cascade = cv2.CascadeClassifier(cv2.data.haarcascades + 'haarcascade_frontalface_default.xml')\n",
    "    \n",
    "    # Convertir la imagen a escala de grises\n",
    "    gray = cv2.cvtColor(image, cv2.COLOR_BGR2GRAY)\n",
    "    \n",
    "    # Detectar las caras en la imagen\n",
    "    faces = face_cascade.detectMultiScale(gray, scaleFactor=1.1, minNeighbors=5, minSize=(30, 30))\n",
    "    \n",
    "    # Aplicar blur a cada cara detectada\n",
    "    for (x, y, w, h) in faces:\n",
    "        # Seleccionar la región de la cara\n",
    "        face = image[y:y+h, x:x+w]\n",
    "        # Aplicar el filtro de desenfoque a la región de la cara\n",
    "        blurred_face = cv2.GaussianBlur(face, (99, 99), 30)\n",
    "        # Reemplazar la región de la cara con la cara desenfocada\n",
    "        image[y:y+h, x:x+w] = blurred_face\n",
    "        \n",
    "    # Mostrar la imagen con las caras desenfocadas\n",
    "    cv2.imshow('Blurred Faces', image)\n",
    "    cv2.waitKey(0)\n",
    "    cv2.destroyAllWindows()\n",
    "\n",
    "# Ruta de la imagen\n",
    "image_path = 'tu_imagen.jpg'  # Reemplaza 'tu_imagen.jpg' con la ruta de tu imagen\n",
    "\n",
    "# Llamar a la función para desenfocar las caras en la imagen\n",
    "blur_faces(image_path)\n"
   ]
  }
 ],
 "metadata": {
  "kernelspec": {
   "display_name": "Python 3",
   "language": "python",
   "name": "python3"
  },
  "language_info": {
   "name": "python",
   "version": "3.8.10"
  }
 },
 "nbformat": 4,
 "nbformat_minor": 2
}
