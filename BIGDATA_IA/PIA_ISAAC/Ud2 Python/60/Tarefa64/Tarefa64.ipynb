{
 "cells": [
  {
   "cell_type": "markdown",
   "metadata": {},
   "source": [
    "Tarafa 64 - Identificación de caras con DLIB\n",
    "\n",
    "Na tarefa anterior se fixo unha pequena base de datos con caras. Neste caso se trata de facer unha aplicación de consola que cargue esa base de datos e tente identificar as caras presentes.\n",
    "\n",
    "Á saída debera escribir os nomes das persoas que foi capaz de identificar e o número de persoas que non foi capaz de poñerlle nome.\n",
    "\n",
    "\n",
    "Para salvar e cargar as caras:\n",
    "\n",
    "import pandas as pd\n",
    "display(\",\".join(face_descriptorPhill.astype(str)))\n",
    "csv = pd.DataFrame(data={'nome':['Phill'], 'fingerprint':[\",\".join(face_descriptorPhill.astype(str))]})\n",
    "display(csv)\n",
    "\n",
    "csv.to_csv('proba.csv')\n",
    "\n",
    "leido = pd.read_csv('proba.csv')\n",
    "display(leido)\n",
    "leido[\"f2\"] = leido.apply(lambda row: np.array(row['fingerprint'].split(',')).astype(np.float64), axis=1)"
   ]
  },
  {
   "cell_type": "markdown",
   "metadata": {},
   "source": []
  }
 ],
 "metadata": {
  "language_info": {
   "name": "python"
  }
 },
 "nbformat": 4,
 "nbformat_minor": 2
}
