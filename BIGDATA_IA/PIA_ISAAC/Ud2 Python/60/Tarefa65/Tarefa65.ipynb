import cv2
import face_recognition
import json

# Cargar la imagen
image_path = "L:/REPOLOCAL/BIGDATA_IA/MIA_DAVID/EjerciciosModelosAgentes/quien-es-quien-prolog/tableroesquema.png"
image = cv2.imread(image_path)

# Convertir la imagen de BGR a RGB (necesario para face_recognition)
rgb_image = cv2.cvtColor(image, cv2.COLOR_BGR2RGB)

# Detectar caras en la imagen
face_locations = face_recognition.face_locations(rgb_image)
face_landmarks = face_recognition.face_landmarks(rgb_image)

# Crear un diccionario para almacenar la información de cada cara detectada
faces_info = []

# Iterar sobre cada cara detectada
for location, landmarks in zip(face_locations, face_landmarks):
    top, right, bottom, left = location
    face_info = {
        "top": top,
        "right": right,
        "bottom": bottom,
        "left": left,
        "landmarks": landmarks
    }
    faces_info.append(face_info)

# Imprimir la información de las caras en formato JSON
print(json.dumps(faces_info, indent=4))
