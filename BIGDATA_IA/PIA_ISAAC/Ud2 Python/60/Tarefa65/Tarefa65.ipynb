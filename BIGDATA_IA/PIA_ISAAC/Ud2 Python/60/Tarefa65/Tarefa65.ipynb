{
 "cells": [
  {
   "cell_type": "markdown",
   "metadata": {},
   "source": [
    "Tarefa 65\n",
    "Sistema de identificación de entrada.\n",
    "\n",
    "Utilizando o aprendido coa detección de caras, trátase de crear un pequeno sistema de control de acceso a un recinto deportivo. O sistema debe detectar cando aparece na cámara unha cara e tentar identicala. Se a cara é coñecida indicará a hora a que entra ese usuario e almacenará a hora de entrada. Unha vez se deixa de detectar a cara dáselle un pequeno marxe de tempo, e se esa mesma cara volve a aparecer considerarase que o usuario abandona o recinto e se indicará o tempo que pasou dentro.\n",
    "\n",
    "Se a cara non é coñecida dará unha alerta.\n",
    "\n",
    "As caras deben cargarse dalgún sistema tipo BD, polo que previamente deberás cargar os datos necesarios para o recoñecemento facial nese almacén.\n",
    "\n",
    "O código de CV para capturar imaxes da cámara sería algo así:\n",
    "\n",
    "\n",
    "\n",
    "import cv2\n",
    "\n",
    "video_capture = cv2.VideoCapture(0)\n",
    "\n",
    "\n",
    "while True:\n",
    "    # Captura un frame\n",
    "    ret, frame = video_capture.read()\n",
    "\n",
    "    # para procesar o frame con outras ferramentas seguramente habería que convertilo a RGB \n",
    "    # (Lembra que opencv traballa con BGR)\n",
    "\n",
    "    # Amosa a imaxe resultante\n",
    "    cv2.imshow('Video', frame)\n",
    "\n",
    "    # Pulsa 'q' para saír!\n",
    "    if cv2.waitKey(1) & 0xFF == ord('q'):\n",
    "        break\n",
    "\n",
    "# Libera a cámara\n",
    "video_capture.release()\n",
    "cv2.destroyAllWindows()  \n",
    "  \n",
    "\n"
   ]
  },
  {
   "cell_type": "markdown",
   "metadata": {},
   "source": []
  }
 ],
 "metadata": {
  "language_info": {
   "name": "python"
  }
 },
 "nbformat": 4,
 "nbformat_minor": 2
}
