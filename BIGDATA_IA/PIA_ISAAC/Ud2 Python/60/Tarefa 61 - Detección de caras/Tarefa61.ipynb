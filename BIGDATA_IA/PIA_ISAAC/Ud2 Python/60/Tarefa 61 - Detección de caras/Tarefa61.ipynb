{
 "cells": [
  {
   "cell_type": "code",
   "execution_count": 2,
   "metadata": {},
   "outputs": [
    {
     "name": "stdout",
     "output_type": "stream",
     "text": [
      "Se detectaron 11 caras en la imagen.\n"
     ]
    }
   ],
   "source": [
    "import face_recognition\n",
    "\n",
    "def count_faces(image_path):\n",
    "    # Cargar la imagen\n",
    "    image = face_recognition.load_image_file(image_path)\n",
    "\n",
    "    # Detectar caras en la imagen\n",
    "    face_locations = face_recognition.face_locations(image)\n",
    "\n",
    "    # Contar el número de caras detectadas\n",
    "    num_faces = len(face_locations)\n",
    "\n",
    "    return num_faces\n",
    "\n",
    "if __name__ == \"__main__\":\n",
    "    # Solicitar al usuario que ingrese la ruta de la imagen\n",
    "    image_path = input(\"Introduce la ruta de la imagen: \")\n",
    "\n",
    "    # Obtener el número de caras en la imagen\n",
    "    num_faces = count_faces(image_path)\n",
    "\n",
    "    # Imprimir el resultado\n",
    "    if num_faces == 0:\n",
    "        print(\"No se detectaron caras en la imagen.\")\n",
    "    elif num_faces == 1:\n",
    "        print(\"Se detectó 1 cara en la imagen.\")\n",
    "    else:\n",
    "        print(f\"Se detectaron {num_faces} caras en la imagen.\")\n"
   ]
  },
  {
   "cell_type": "code",
   "execution_count": 1,
   "metadata": {},
   "outputs": [
    {
     "name": "stdout",
     "output_type": "stream",
     "text": [
      "hello world\n"
     ]
    }
   ],
   "source": [
    "print (\"hello world\")"
   ]
  },
  {
   "cell_type": "code",
   "execution_count": null,
   "metadata": {},
   "outputs": [],
   "source": [
    "#eeeeeeee"
   ]
  }
 ],
 "metadata": {
  "kernelspec": {
   "display_name": "Python 3",
   "language": "python",
   "name": "python3"
  },
  "language_info": {
   "codemirror_mode": {
    "name": "ipython",
    "version": 3
   },
   "file_extension": ".py",
   "mimetype": "text/x-python",
   "name": "python",
   "nbconvert_exporter": "python",
   "pygments_lexer": "ipython3",
   "version": "3.8.10"
  }
 },
 "nbformat": 4,
 "nbformat_minor": 2
}
