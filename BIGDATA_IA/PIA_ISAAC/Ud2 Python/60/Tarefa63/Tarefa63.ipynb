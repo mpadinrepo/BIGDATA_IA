{
 "cells": [
  {
   "cell_type": "markdown",
   "metadata": {},
   "source": [
    "Tarefa 63 - Identificación de caras con DLIB\n",
    "\n",
    "Fai un programa de consola, que pasándolle unha imaxe coa cara de unha única persoa e o seu nome engada o vector que identifica a cara a un ficheiro (CSV, SQiIte, etc), onde quede asociado o nome co vector.\n",
    "\n",
    "Este sistema de almacenaxe debería ser válido para posteriormente utilizalo noutros programas."
   ]
  },
  {
   "cell_type": "markdown",
   "metadata": {},
   "source": []
  }
 ],
 "metadata": {
  "language_info": {
   "name": "python"
  }
 },
 "nbformat": 4,
 "nbformat_minor": 2
}
